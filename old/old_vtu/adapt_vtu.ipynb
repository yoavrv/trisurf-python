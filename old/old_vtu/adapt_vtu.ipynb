{
 "cells": [
  {
   "cell_type": "markdown",
   "metadata": {},
   "source": [
    "## Adapt existing .Vtu to the new format"
   ]
  },
  {
   "cell_type": "markdown",
   "metadata": {},
   "source": [
    "#### Step 0: load a .vtu file as XML "
   ]
  },
  {
   "cell_type": "code",
   "execution_count": 2,
   "metadata": {},
   "outputs": [],
   "source": [
    "import xml.etree.ElementTree as ET\n",
    "import numpy as np"
   ]
  },
  {
   "cell_type": "code",
   "execution_count": 20,
   "metadata": {},
   "outputs": [],
   "source": [
    "#vtu_file = (\"/mnt/c/Users/yoavr/Desktop/paraview_pipeline\"\n",
    "#            \"/rework/alpha/13_balance_flip/flip_flip/timestep_000001.vtu\")\n",
    "#vtu_file = (\"/mnt/c/Users/yoavr/Desktop/paraview_pipeline/hello_chemfarm\"\n",
    "#            \"/FW_block_aggregated/timesteps/f6w14/timestep_000149.vtu\"\n",
    "#            \"\")\n",
    "vtu_file = (\"/mnt/c/Users/yoavr/Desktop/paraview_pipeline/rework\"\n",
    "            \"/alpha/26_ghosts/with_ghosts/timestep_000003.vtu\"\n",
    "            \"\")\n",
    "tree = ET.parse(vtu_file)\n",
    "root = tree.getroot()"
   ]
  },
  {
   "cell_type": "code",
   "execution_count": 21,
   "metadata": {},
   "outputs": [
    {
     "data": {
      "text/plain": [
       "'PointData'"
      ]
     },
     "execution_count": 21,
     "metadata": {},
     "output_type": "execute_result"
    }
   ],
   "source": [
    "root[3][0][0].tag"
   ]
  },
  {
   "cell_type": "code",
   "execution_count": 22,
   "metadata": {},
   "outputs": [
    {
     "name": "stdout",
     "output_type": "stream",
     "text": [
      "dumpdate {}\n",
      "tape {}\n",
      "trisurf {'nvtx': '502', 'npoly': '0', 'nmono': '0', 'compressed': 'false', 'seed': '1625418592'}\n",
      "UnstructuredGrid {}\n",
      "###\n",
      "DataArray {'type': 'Int64', 'Name': 'vertices_idx', 'format': 'ascii'}\n",
      "DataArray {'type': 'Int64', 'Name': 'type', 'format': 'ascii'}\n",
      "DataArray {'type': 'Float64', 'Name': 'spontaneous_curvature', 'format': 'ascii'}\n",
      "DataArray {'type': 'Float64', 'Name': 'bonding_strength', 'format': 'ascii'}\n",
      "DataArray {'type': 'Float64', 'Name': 'direct_force', 'format': 'ascii'}\n",
      "DataArray {'type': 'Float64', 'Name': 'adhesion_strength', 'format': 'ascii'}\n",
      "DataArray {'type': 'Float64', 'Name': 'spontaneous_deviator', 'format': 'ascii'}\n",
      "DataArray {'type': 'Float64', 'Name': 'curvature', 'format': 'ascii'}\n",
      "DataArray {'type': 'Float64', 'Name': 'second_curvature', 'format': 'ascii'}\n",
      "DataArray {'type': 'Float64', 'Name': 'bending_modulus', 'format': 'ascii'}\n",
      "DataArray {'type': 'Float64', 'Name': 'second_bending_modulus', 'format': 'ascii'}\n",
      "DataArray {'type': 'Float64', 'Name': 'bending_energy', 'format': 'ascii'}\n",
      "DataArray {'type': 'Float64', 'Name': 'normal', 'NumberOfComponents': '3', 'format': 'ascii'}\n",
      "DataArray {'type': 'Float64', 'Name': 'force', 'NumberOfComponents': '3', 'format': 'ascii'}\n",
      "DataArray {'type': 'Float64', 'Name': 'director', 'NumberOfComponents': '3', 'format': 'ascii'}\n"
     ]
    }
   ],
   "source": [
    "# display the structure of the xml tree\n",
    "for child in root:\n",
    "    print(child.tag, child.attrib)\n",
    "print(r'###')\n",
    "pdata = root.findall('.//PointData')[0]\n",
    "pdata.tag, pdata.attrib\n",
    "is_typed = False\n",
    "for child in pdata:\n",
    "    print(child.tag, child.attrib)\n",
    "    if child.attrib['Name']=='type':\n",
    "        is_typed=True\n",
    "if not is_typed:\n",
    "    print(\"\\n.vtu file has no type! will not work correctly in the simulation!\")"
   ]
  },
  {
   "cell_type": "code",
   "execution_count": 67,
   "metadata": {},
   "outputs": [
    {
     "data": {
      "text/plain": [
       "array([0., 0., 0., 0., 0., 0., 0., 0., 0., 0., 0., 0., 0., 0.])"
      ]
     },
     "execution_count": 67,
     "metadata": {},
     "output_type": "execute_result"
    }
   ],
   "source": [
    "## check that ghost vertices maintain relative position\n",
    "#indices = (0,2,3,4,5,6,7,8,9,10,11,12,13,14)\n",
    "#xs, ys, zs = np.zeros((len(indices),3)),np.zeros((len(indices),3)),np.zeros((len(indices),3))\n",
    "#numbered_vtu_file = lambda x: (\"/mnt/c/Users/yoavr/Desktop/paraview_pipeline/rework\"\n",
    "#            f\"/alpha/26_ghosts/with_ghosts/timestep_{x:06}.vtu\"\n",
    "#            \"\")\n",
    "#for i, j in enumerate(indices):\n",
    "#    tree = ET.parse(numbered_vtu_file(j))\n",
    "#    root = tree.getroot()\n",
    "#\n",
    "#    cord_stuff = root.findall('.//*[@Name=\"Koordinate tock\"]')[0]\n",
    "#    #type_stuff = root.findall('.//*[@Name=\"type\"]')[0]\n",
    "#    xs[i,0], ys[i,0], zs[i,0] = [float(x) for x in cord_stuff.text.strip().splitlines()[5].split()]\n",
    "#    xs[i,1], ys[i,1], zs[i,1] = [float(x) for x in cord_stuff.text.strip().splitlines()[6].split()]\n",
    "#    xs[i,2], ys[i,2], zs[i,2] = [float(x) for x in cord_stuff.text.strip().splitlines()[7].split()]\n",
    "#    #type_stuff.text.strip().split()[5:8]\n",
    "#xs, ys, zs\n",
    "#diff = zs[:,0]-zs[:,2]\n",
    "#diff-diff[0]"
   ]
  },
  {
   "cell_type": "markdown",
   "metadata": {},
   "source": [
    "#### Step 1: reconstruct type. Determied by spontaneous curvature"
   ]
  },
  {
   "cell_type": "code",
   "execution_count": 119,
   "metadata": {},
   "outputs": [
    {
     "data": {
      "text/plain": [
       "{'type': 'Float64', 'Name': 'spontaneous_curvature', 'format': 'ascii'}"
      ]
     },
     "execution_count": 119,
     "metadata": {},
     "output_type": "execute_result"
    }
   ],
   "source": [
    "spon_curv = pdata.findall('.//*[@Name=\"spontaneous_curvature\"]')[0]\n",
    "spon_curv.attrib"
   ]
  },
  {
   "cell_type": "code",
   "execution_count": 120,
   "metadata": {},
   "outputs": [],
   "source": [
    "# type 4: bare vertex. type 39: active vertex\n",
    "def type_from_curvature(curvatures):\n",
    "    type_array = np.zeros(curvatures.shape)\n",
    "    type_array[curvatures>0]=39\n",
    "    type_array[curvatures<=0]=4\n",
    "    return type_array"
   ]
  },
  {
   "cell_type": "code",
   "execution_count": 121,
   "metadata": {},
   "outputs": [],
   "source": [
    "#an internal function from ts_vtu_python.py: \n",
    "def _xml_to_str_list(node):\n",
    "    r\"\"\"Take xml node, extract text array to list.\n",
    "\n",
    "    Convert sequence to 1d array and lines to 2d arrays, e.g\n",
    "     2 3\\n4 5 6\\n' -> [['2','3'],['4','5','6']]\n",
    "    '\\n 2 3 5' -> ['2','3','5']\n",
    "    \"\"\"\n",
    "    all_text = node.text.strip()\n",
    "\n",
    "    # if there are tabs in the middle, assume this is a 2d list\n",
    "    if all_text.__contains__('\\n'):\n",
    "        return [x.split() for x in all_text.split('\\n')]\n",
    "    else:  # no tabs: 1d array\n",
    "        return all_text.split()\n",
    "\n",
    "curvatures_txt = _xml_to_str_list(spon_curv)"
   ]
  },
  {
   "cell_type": "code",
   "execution_count": 122,
   "metadata": {},
   "outputs": [
    {
     "name": "stdout",
     "output_type": "stream",
     "text": [
      "[0.  0.  0.  0.  0.  0.  0.  0.  0.8 0. ] ...\n"
     ]
    }
   ],
   "source": [
    "curvatures = list(map(float,curvatures_txt)) # convert to float\n",
    "cs = np.array(curvatures)\n",
    "print(cs[:10],\"...\")"
   ]
  },
  {
   "cell_type": "code",
   "execution_count": 123,
   "metadata": {},
   "outputs": [
    {
     "name": "stdout",
     "output_type": "stream",
     "text": [
      "[ 4.  4.  4.  4.  4.  4.  4.  4. 39.  4.] ...\n"
     ]
    }
   ],
   "source": [
    "ar_type = type_from_curvature(cs)\n",
    "print(ar_type[:10],\"...\")"
   ]
  },
  {
   "cell_type": "code",
   "execution_count": 126,
   "metadata": {
    "tags": []
   },
   "outputs": [],
   "source": [
    "def txt_from_float_array(a):\n",
    "    return ''.join(f'{n:.17e} ' for n in a)\n",
    "def txt_from_int_array(a):\n",
    "    return ''.join(f'{int(n)} ' for n in a)"
   ]
  },
  {
   "cell_type": "code",
   "execution_count": 127,
   "metadata": {},
   "outputs": [],
   "source": [
    "type_txt = txt_from_int_array(ar_type)"
   ]
  },
  {
   "cell_type": "code",
   "execution_count": 128,
   "metadata": {},
   "outputs": [
    {
     "name": "stdout",
     "output_type": "stream",
     "text": [
      "existing text [500:1500]:\n",
      "+00 0.00000000000000000e+00 0.00000000000000000e+00 0.00000000000000000e+00 0.00000000000000000e+00 0.00000000000000000e+00 8.00000000000000044e-01 0.00000000000000000e+00 0.00000000000000000e+00 8.00000000000000044e-01 0.00000000000000000e+00 0.00000000000000000e+00 0.00000000000000000e+00 0.00000000000000000e+00 0.00000000000000000e+00 0.00000000000000000e+00 0.00000000000000000e+00 0.00000000000000000e+00 0.00000000000000000e+00 0.00000000000000000e+00 0.00000000000000000e+00 0.00000000000000000e+00 0.00000000000000000e+00 0.00000000000000000e+00 0.00000000000000000e+00 0.00000000000000000e+00 0.00000000000000000e+00 0.00000000000000000e+00 0.00000000000000000e+00 0.00000000000000000e+00 0.00000000000000000e+00 0.00000000000000000e+00 0.00000000000000000e+00 0.00000000000000000e+00 0.00000000000000000e+00 0.00000000000000000e+00 8.00000000000000044e-01 0.00000000000000000e+00 0.00000000000000000e+00 0.00000000000000000e+00 8.00000000000000044e-01 0.00000000000000000e+00 0.0000000000\n",
      "\n",
      "generated text: [500:1500]\n",
      "4 4 4 4 4 4 4 4 4 4 4 4 4 4 4 4 4 4 4 4 4 4 4 4 39 4 4 39 4 4 4 4 4 4 4 4 4 39 4 4 39 4 4 4 4 4 4 4 4 4 4 4 4 4 4 4 4 4 4 4 4 4 4 4 4 4 4 4 4 39 4 4 4 4 4 4 4 4 4 4 4 4 4 4 4 4 4 4 4 4 4 4 4 4 4 39 4 4 4 4 4 4 4 4 4 4 4 4 4 4 4 4 4 39 4 4 4 4 4 4 4 4 4 4 4 4 39 4 4 4 4 4 4 39 4 4 4 4 39 4 39 4 4 4 4 4 4 4 4 39 4 4 4 4 4 4 4 4 4 4 4 4 4 4 4 4 4 4 4 4 4 4 4 4 4 4 4 4 39 4 39 4 4 4 4 4 4 4 4 4 4 4 4 4 39 4 4 4 4 4 4 4 4 4 4 4 4 4 4 4 4 4 4 4 39 4 39 4 4 4 4 4 4 4 4 4 4 4 4 39 4 4 4 4 4 4 4 4 4 4 4 4 4 4 4 39 4 4 4 4 4 4 39 4 4 4 4 39 4 4 39 4 4 4 4 4 4 4 39 4 4 4 4 4 4 4 4 4 4 39 4 4 4 4 4 4 39 4 4 4 4 4 4 4 4 4 4 39 4 4 4 4 4 4 4 4 4 4 4 4 4 4 4 4 4 4 4 4 4 4 4 4 4 39 4 4 4 4 4 4 39 4 4 4 4 4 4 4 4 4 4 4 4 4 4 4 4 39 4 39 4 4 4 4 4 4 4 4 4 4 39 4 4 4 39 4 4 4 4 4 4 4 39 4 4 4 39 4 39 4 4 4 4 4 4 4 4 4 4 4 4 4 4 4 4 4 4 4 4 4 4 4 4 4 39 4 4 4 39 39 4 4 4 4 4 39 4 4 4 4 4 4 39 39 4 4 4 4 4 4 4 4 4 4 4 4 4 4 4 4 4 4 39 4 4 39 4 4 4 4 4 4 4 4 4 39 4 4 4 4 4 4 4 39 4 4 4 4 4 4 4 4 39 4 4 4 39\n"
     ]
    }
   ],
   "source": [
    "from_c, to_c = 500, 1500\n",
    "print(f\"existing text [{from_c}:{to_c}]:\")\n",
    "print(spon_curv.text[from_c:to_c])\n",
    "print(f'\\ngenerated text: [{from_c}:{to_c}]')\n",
    "print(type_txt[from_c:to_c]) # peek at data"
   ]
  },
  {
   "cell_type": "code",
   "execution_count": 129,
   "metadata": {},
   "outputs": [
    {
     "name": "stdout",
     "output_type": "stream",
     "text": [
      "made node\n"
     ]
    }
   ],
   "source": [
    "# instead of updating the curvature like the previous cases, we want to add a node\n",
    "\n",
    "#jupyter: make sure we didn't run this cell already\n",
    "if pdata.find(\".//*[@Name='type']\") is None:\n",
    "    type_node = ET.SubElement(pdata,\"DataArray\")\n",
    "    print(\"made node\")\n",
    "type_node.attrib = {\"type\": \"Int64\", \"Name\": \"type\", \"format\": \"ascii\"}\n",
    "type_node.text = type_txt"
   ]
  },
  {
   "cell_type": "code",
   "execution_count": 131,
   "metadata": {},
   "outputs": [
    {
     "name": "stdout",
     "output_type": "stream",
     "text": [
      "{'type': 'Int64', 'Name': 'vertices_idx', 'format': 'ascii'}\n",
      "{'type': 'Float64', 'Name': 'spontaneous_curvature', 'format': 'ascii'}\n",
      "{'type': 'Float64', 'Name': 'bending_energy', 'format': 'ascii'}\n",
      "{'type': 'Int64', 'Name': 'type', 'format': 'ascii'}\n"
     ]
    }
   ],
   "source": [
    "for child in pdata: print(child.attrib)\n",
    "#pdata.remove(pdata[3])"
   ]
  },
  {
   "cell_type": "code",
   "execution_count": 132,
   "metadata": {},
   "outputs": [
    {
     "name": "stdout",
     "output_type": "stream",
     "text": [
      "['39', '4', '4', '4', '4', '4', '39', '4', '4', '4', '4', '4', '4', '4', '4', '4', '39', '4', '4', '39']\n"
     ]
    }
   ],
   "source": [
    "#see that the change applied\n",
    "root2=tree.getroot()\n",
    "print(root2.findall('.//*[@Name=\"type\"]')[0].text.split(' ')[10:30])"
   ]
  },
  {
   "cell_type": "markdown",
   "metadata": {},
   "source": [
    "#### Step 2: Now we need to reconstruct the rest of the information based on the type"
   ]
  },
  {
   "cell_type": "markdown",
   "metadata": {},
   "source": [
    "nodes to add:\n",
    ">bonding_strength (w)  \n",
    ">direct_force (f)  \n",
    ">adhesion_strength (ad_w)  \n",
    ">spontaneous_deviator (d)  \n",
    ">normal*  \n",
    ">force*  \n",
    ">director*  "
   ]
  },
  {
   "cell_type": "markdown",
   "metadata": {},
   "source": [
    "I don't think we *really* need accurate vector quantities, since they are recalculated during the step: we are likely to get only a few steps with \"bad\" values.  \n",
    "we sweep the normals in `mean_curvature_and_energy`, and the force (and one day, deviator) should be update during the steps according to them  \n",
    "-initialize them at 0."
   ]
  },
  {
   "cell_type": "code",
   "execution_count": 135,
   "metadata": {},
   "outputs": [
    {
     "ename": "IndexError",
     "evalue": "list index out of range",
     "output_type": "error",
     "traceback": [
      "\u001b[0;31m---------------------------------------------------------------------------\u001b[0m",
      "\u001b[0;31mIndexError\u001b[0m                                Traceback (most recent call last)",
      "\u001b[0;32m<ipython-input-135-d8f68dbb9565>\u001b[0m in \u001b[0;36m<module>\u001b[0;34m\u001b[0m\n\u001b[1;32m      1\u001b[0m \u001b[0;31m# get values from tape\u001b[0m\u001b[0;34m\u001b[0m\u001b[0;34m\u001b[0m\u001b[0;34m\u001b[0m\u001b[0m\n\u001b[0;32m----> 2\u001b[0;31m \u001b[0mtape_txt\u001b[0m \u001b[0;34m=\u001b[0m \u001b[0mroot\u001b[0m\u001b[0;34m.\u001b[0m\u001b[0mfindall\u001b[0m\u001b[0;34m(\u001b[0m\u001b[0;34m\".//*[@Name='tape']\"\u001b[0m\u001b[0;34m)\u001b[0m\u001b[0;34m[\u001b[0m\u001b[0;36m0\u001b[0m\u001b[0;34m]\u001b[0m\u001b[0;34m.\u001b[0m\u001b[0mtext\u001b[0m\u001b[0;34m\u001b[0m\u001b[0;34m\u001b[0m\u001b[0m\n\u001b[0m",
      "\u001b[0;31mIndexError\u001b[0m: list index out of range"
     ]
    }
   ],
   "source": [
    "# get values from tape\n",
    "tape_txt = root.findall(\".//*[@Name='tape']\")[0].text"
   ]
  },
  {
   "cell_type": "code",
   "execution_count": null,
   "metadata": {},
   "outputs": [],
   "source": [
    "# bonding\n",
    "if pdata.find(\".//*[@Name='bonding_strength']\") is None:\n",
    "    type_node = ET.SubElement(pdata,\"DataArray\")\n",
    "    print(\"made node\")\n",
    "type_node.attrib = {\"type\": \"Int64\", \"Name\": \"type\", \"format\": \"ascii\"}\n",
    "\n",
    "type_node.text = type_txt"
   ]
  },
  {
   "cell_type": "code",
   "execution_count": 42,
   "metadata": {},
   "outputs": [],
   "source": [
    "#!!! uncomment to modify the vtu file!!!\n",
    "#tree.write(r'/mnt/c/Users/yoavr/Desktop/paraview_pipeline/tests/round_100_neg.vtu',encoding=r'UTF-8')"
   ]
  }
 ],
 "metadata": {
  "kernelspec": {
   "display_name": "Python 3",
   "language": "python",
   "name": "python3"
  },
  "language_info": {
   "codemirror_mode": {
    "name": "ipython",
    "version": 3
   },
   "file_extension": ".py",
   "mimetype": "text/x-python",
   "name": "python",
   "nbconvert_exporter": "python",
   "pygments_lexer": "ipython3",
   "version": "3.8.5"
  }
 },
 "nbformat": 4,
 "nbformat_minor": 4
}
