{
 "cells": [
  {
   "cell_type": "code",
   "execution_count": 2,
   "id": "2aa55631-d597-4547-8b04-567e55a8b1e8",
   "metadata": {},
   "outputs": [],
   "source": [
    "import ts_y_wrapper as ts\n",
    "import glob\n",
    "import array as ar\n",
    "import numpy as np"
   ]
  },
  {
   "cell_type": "code",
   "execution_count": null,
   "id": "97762e9d-709b-411b-ad35-2fec1859ff51",
   "metadata": {},
   "outputs": [],
   "source": []
  },
  {
   "cell_type": "code",
   "execution_count": 15,
   "id": "8e822384-cf78-4d95-afc3-0d1c760cedbb",
   "metadata": {},
   "outputs": [],
   "source": [
    "max_cluster_size = 450\n",
    "cluster_hist = np.zeros(max_cluster_size)"
   ]
  },
  {
   "cell_type": "code",
   "execution_count": 5,
   "id": "cb00d6f4-8c3b-489c-ba13-67aadef595a7",
   "metadata": {},
   "outputs": [
    {
     "data": {
      "text/plain": [
       "['/mnt/c/Users/yoavr/Desktop/paraview_pipeline/hello_chemfarm/pert_pan_sim_6/timesteps/timestep_f0w0_000000.vtu',\n",
       " '/mnt/c/Users/yoavr/Desktop/paraview_pipeline/hello_chemfarm/pert_pan_sim_6/timesteps/timestep_f0w0_000001.vtu',\n",
       " '/mnt/c/Users/yoavr/Desktop/paraview_pipeline/hello_chemfarm/pert_pan_sim_6/timesteps/timestep_f0w0_000002.vtu',\n",
       " '/mnt/c/Users/yoavr/Desktop/paraview_pipeline/hello_chemfarm/pert_pan_sim_6/timesteps/timestep_f0w0_000003.vtu',\n",
       " '/mnt/c/Users/yoavr/Desktop/paraview_pipeline/hello_chemfarm/pert_pan_sim_6/timesteps/timestep_f0w0_000004.vtu',\n",
       " '/mnt/c/Users/yoavr/Desktop/paraview_pipeline/hello_chemfarm/pert_pan_sim_6/timesteps/timestep_f0w0_000005.vtu']"
      ]
     },
     "execution_count": 5,
     "metadata": {},
     "output_type": "execute_result"
    }
   ],
   "source": [
    "file_regex = (\"/opt/workspace/msc_project/simulations\"\n",
    "                      \"/QA_tests/cluster_version/feature_tests\"\n",
    "                      \"/ts_measure_works/new_tspoststats\"\n",
    "                      \"/timestep_000[0-1][0-9][0-9].vtu\")\n",
    "\n",
    "file_regex_2 = (\"/mnt/c/Users/yoavr/Desktop/paraview_pipeline\"\n",
    "                \"/hello_chemfarm/pert_pan_sim_6/timesteps\"\n",
    "                \"/timestep_f[0-9]w[0-9]_000[0-1][0-9][0-9].vtu\")\n",
    "\n",
    "files = glob.glob(file_regex_2)\n",
    "files[:6]"
   ]
  },
  {
   "cell_type": "code",
   "execution_count": 7,
   "id": "b35868f3-4827-4a2f-bd80-dcd47d6a1159",
   "metadata": {},
   "outputs": [],
   "source": [
    "for file in files[:6]:\n",
    "    vesicle=ts.parseDump(file)\n",
    "    cstlist=ts.init_cluster_list()\n",
    "    ts.clusterize_vesicle(vesicle, cstlist)    \n",
    "    for j in range(cstlist.contents.n):\n",
    "        size=cstlist.contents.cluster[j].contents.nvtx\n",
    "        cluster_hist[size-1]+=1.0000"
   ]
  },
  {
   "cell_type": "code",
   "execution_count": 23,
   "id": "95290129-d253-4b92-95f8-7a7643b129e2",
   "metadata": {},
   "outputs": [
    {
     "data": {
      "text/plain": [
       "4621819117588971520"
      ]
     },
     "execution_count": 23,
     "metadata": {},
     "output_type": "execute_result"
    }
   ],
   "source": [
    "vesicle.contents.tape.contents.vicsek_model"
   ]
  },
  {
   "cell_type": "code",
   "execution_count": null,
   "id": "1894c745-28d6-4d97-81ca-9164cbac5e5a",
   "metadata": {},
   "outputs": [],
   "source": [
    "#for i in range(n):\n",
    "#    f=open('cluster_dist_passive_E_2_pt_5_c_350.dat','a')\n",
    "#    f.write('{}, {} \\n'.format(i+1,cl_array[i]/icount))"
   ]
  }
 ],
 "metadata": {
  "kernelspec": {
   "display_name": "Python 3",
   "language": "python",
   "name": "python3"
  },
  "language_info": {
   "codemirror_mode": {
    "name": "ipython",
    "version": 3
   },
   "file_extension": ".py",
   "mimetype": "text/x-python",
   "name": "python",
   "nbconvert_exporter": "python",
   "pygments_lexer": "ipython3",
   "version": "3.8.5"
  }
 },
 "nbformat": 4,
 "nbformat_minor": 5
}
