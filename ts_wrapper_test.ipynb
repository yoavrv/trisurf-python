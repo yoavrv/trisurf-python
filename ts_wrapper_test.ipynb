{
 "cells": [
  {
   "cell_type": "code",
   "execution_count": 4,
   "id": "2aa55631-d597-4547-8b04-567e55a8b1e8",
   "metadata": {},
   "outputs": [],
   "source": [
    "from glob import glob\n",
    "import ctypes\n",
    "import sys\n",
    "\n",
    "import numpy as np\n",
    "\n",
    "import vtu\n",
    "PyVtu=vtu.PyVtu\n",
    "import small_functions\n",
    "import ts_wrapper as ts"
   ]
  },
  {
   "cell_type": "code",
   "execution_count": 5,
   "id": "8e822384-cf78-4d95-afc3-0d1c760cedbb",
   "metadata": {},
   "outputs": [],
   "source": [
    "max_cluster_size = 450\n",
    "cluster_hist = np.zeros(max_cluster_size)"
   ]
  },
  {
   "cell_type": "code",
   "execution_count": 8,
   "id": "cb00d6f4-8c3b-489c-ba13-67aadef595a7",
   "metadata": {},
   "outputs": [
    {
     "data": {
      "text/plain": [
       "['/opt/workspace/msc_project/simulations/QA_tests/throwaway/timestep_000000.vtu',\n",
       " '/opt/workspace/msc_project/simulations/QA_tests/throwaway/timestep_000001.vtu',\n",
       " '/opt/workspace/msc_project/simulations/QA_tests/throwaway/timestep_000002.vtu',\n",
       " '/opt/workspace/msc_project/simulations/QA_tests/throwaway/timestep_000003.vtu',\n",
       " '/opt/workspace/msc_project/simulations/QA_tests/throwaway/timestep_000004.vtu',\n",
       " '/opt/workspace/msc_project/simulations/QA_tests/throwaway/timestep_000005.vtu']"
      ]
     },
     "execution_count": 8,
     "metadata": {},
     "output_type": "execute_result"
    }
   ],
   "source": [
    "file_regex = (\"/mnt/c/Users/yoavr/Desktop/paraview_pipeline\"\n",
    "                \"/hello_chemfarm/anisotropy/5_from_mitja/x0000_b0k0\"\n",
    "                \"/time*\")\n",
    "\n",
    "file_regex = (\"/opt/workspace/msc_project/simulations\"\n",
    "                \"/QA_tests/throwaway\"\n",
    "                \"/time*\")\n",
    "\n",
    "files = sorted(glob(file_regex))\n",
    "files[:6]"
   ]
  },
  {
   "cell_type": "code",
   "execution_count": 9,
   "id": "b35868f3-4827-4a2f-bd80-dcd47d6a1159",
   "metadata": {},
   "outputs": [],
   "source": [
    "for file in files[:6]:\n",
    "    vesicle=ts.parseDump(file)\n",
    "    cstlist=ts.init_cluster_list()\n",
    "    ts.clusterize_vesicle(vesicle, cstlist)    \n",
    "    for j in range(cstlist.contents.n):\n",
    "        size=cstlist.contents.cluster[j].contents.nvtx\n",
    "        cluster_hist[size-1]+=1.0000"
   ]
  },
  {
   "cell_type": "code",
   "execution_count": 10,
   "id": "35af1ef7-3eaa-414a-86a4-439e1fe38025",
   "metadata": {},
   "outputs": [],
   "source": [
    "v=vtu.PyVtu(file)"
   ]
  },
  {
   "cell_type": "code",
   "execution_count": 11,
   "id": "b9ee8172-191a-41c4-b4b7-e7e1df56b8ba",
   "metadata": {},
   "outputs": [
    {
     "name": "stdout",
     "output_type": "stream",
     "text": [
      "dmax 2.8899999999999997\n",
      "stepsize 0.15\n",
      "cm [0.0, 0.0, 0.0]\n",
      "fx 0.0\n",
      "fy 0.0\n",
      "fz 0.0\n",
      "volume 0.0\n",
      "area 0.0\n",
      "spring_constant 800.0\n",
      "pressure 0.1\n",
      "R_nucleus 0.0\n",
      "R_nucleusX 0.0\n",
      "R_nucleusY 0.0\n",
      "R_nucleusZ 0.0\n",
      "nucleus_center [0.0, 0.0, 0.0]\n",
      "tape <ts_wrapper.LP_ts_tape object at 0x7f3e336dbbc0>\n",
      "sphHarmonics <ts_wrapper.LP_ts_spharm object at 0x7f3e336dbcc0>\n",
      "poly_list <ts_wrapper.LP_ts_poly_list object at 0x7f3e336dbbc0>\n",
      "filament_list <ts_wrapper.LP_ts_poly_list object at 0x7f3e336dbcc0>\n",
      "vlist <ts_wrapper.LP_ts_vertex_list object at 0x7f3e336dbbc0>\n",
      "blist <ts_wrapper.LP_ts_bond_list object at 0x7f3e336dbcc0>\n",
      "tlist <ts_wrapper.LP_ts_triangle_list object at 0x7f3e336dbbc0>\n",
      "clist <ts_wrapper.LP_ts_cell_list object at 0x7f3e336dbcc0>\n",
      "confinement_plane <ts_wrapper.ts_confinment_plane object at 0x7f3e336dbbc0>\n",
      "nshell 0\n"
     ]
    }
   ],
   "source": [
    "for field, ty in vesicle.contents._fields_:\n",
    "    if (ty in {ctypes.c_int, ctypes.c_uint, ctypes.c_double}):\n",
    "        print(field,vesicle.contents.__getattribute__(field))\n",
    "    elif (ty in {ctypes.c_double*3,}):\n",
    "        print(field, vesicle.contents.__getattribute__(field)[:])\n",
    "    else:\n",
    "        print(field,vesicle.contents.__getattribute__(field))"
   ]
  },
  {
   "cell_type": "code",
   "execution_count": 12,
   "id": "36f50c0d-562e-4aaf-9a24-01d00051ba85",
   "metadata": {},
   "outputs": [
    {
     "name": "stdout",
     "output_type": "stream",
     "text": [
      "R_nucleus 0.0\n",
      "R_nucleusX 0.0\n",
      "R_nucleusY 0.0\n",
      "R_nucleusZ 0.0\n",
      "kxA0 1.0\n",
      "kxV0 1.0\n",
      "V0 0.0\n",
      "A0 0.0\n",
      "Vfraction 1.0\n",
      "constvolprecision 1e-14\n",
      "xk0 20.0\n",
      "xk2 -10.0\n",
      "dmax 1.7\n",
      "dmin_interspecies 1.2\n",
      "stepsize 0.15\n",
      "kspring 800.0\n",
      "xi 100.0\n",
      "pressure 0.1\n",
      "c0 0.5\n",
      "w 1.0\n",
      "F 1.0\n",
      "plane_d 10.0\n",
      "plane_F 1.0\n",
      "vicsek_strength 4.0\n",
      "vicsek_strength 4.0\n",
      "z_adhesion 1.0\n",
      "adhesion_radius 1.0\n",
      "min_dihedral_angle_cosine -5.0\n",
      "d0 5.0\n",
      "mcsweeps 4591870180066957722\n",
      "random_seed 4602678819172646912\n",
      "iterations 10\n",
      "inititer 0\n",
      "number_of_vertices_with_c0 1000\n",
      "nshell 0\n",
      "ncxmax 0\n",
      "ncymax 0\n",
      "nczmax 0\n",
      "npoly 50\n",
      "nmono 10\n",
      "internal_poly 100\n",
      "nfil 100\n",
      "nfono 100\n",
      "shc 0\n",
      "pressure_switch b'\\x14'\n",
      "volume_switch b'\\x00'\n",
      "area_switch b'\\x00'\n",
      "quiet b'\\x00'\n",
      "plane_confinment_switch b'\\x00'\n",
      "allow_center_mass_movement b'\\x00'\n",
      "force_balance_along_z_axis b'\\x00'\n",
      "adhesion_geometry b'\\x00'\n",
      "adhesion_model b'\\x00'\n",
      "type_of_bond_model b'\\x00'\n",
      "type_of_curvature_model b'\\x00'\n",
      "type_of_force_model b'\\x00'\n"
     ]
    }
   ],
   "source": [
    "for field, ty in vesicle.contents.tape.contents._fields_:\n",
    "    if (ty in {ctypes.c_int, ctypes.c_uint, ctypes.c_double}):\n",
    "        print(field,vesicle.contents.tape.contents.__getattribute__(field))\n",
    "    elif (ty in {ctypes.c_double*3,}):\n",
    "        print(field, vesicle.contents.tape.contents.__getattribute__(field)[:])\n",
    "    else:\n",
    "        print(field,vesicle.contents.tape.contents.__getattribute__(field))"
   ]
  },
  {
   "cell_type": "code",
   "execution_count": 115,
   "id": "95290129-d253-4b92-95f8-7a7643b129e2",
   "metadata": {},
   "outputs": [
    {
     "data": {
      "text/plain": [
       "0"
      ]
     },
     "execution_count": 115,
     "metadata": {},
     "output_type": "execute_result"
    }
   ],
   "source": [
    "int.from_bytes(vesicle.contents.tape.contents.type_of_curvature_model,sys.byteorder)"
   ]
  },
  {
   "cell_type": "code",
   "execution_count": 114,
   "id": "f602668a-2978-49e6-b547-7b2389d52135",
   "metadata": {},
   "outputs": [
    {
     "data": {
      "text/plain": [
       "{'nshell': 25,\n",
       " 'dmax': 1.7,\n",
       " 'dmin_interspecies': 1.2,\n",
       " 'stepsize': 0.15,\n",
       " 'nxmax': 100,\n",
       " 'nymax': 100,\n",
       " 'nzmax': 100,\n",
       " 'mcsweeps': 100000,\n",
       " 'inititer': 0,\n",
       " 'iterations': 100,\n",
       " 'quiet': 'false',\n",
       " 'xk0': 20,\n",
       " 'xk2': -10,\n",
       " 'number_of_vertices_with_c0': 625,\n",
       " 'c0': 0.125,\n",
       " 'd0': 0.125,\n",
       " 'curvature_model': 15,\n",
       " 'w': 2.0,\n",
       " 'bond_model': 0,\n",
       " 'F': 0.0,\n",
       " 'force_model': 0,\n",
       " 'vicsek_strength': 0.1,\n",
       " 'vicsek_radius': 4.0,\n",
       " 'adhesion_model': 0,\n",
       " 'adhesion_geometry': 0,\n",
       " 'adhesion_cuttoff': 1,\n",
       " 'adhesion_strength': 1.0,\n",
       " 'adhesion_radius': 5.0,\n",
       " 'z_adhesion': -5,\n",
       " 'allow_xy_plane_movement': 0,\n",
       " 'force_balance_along_z_axis': 0,\n",
       " 'pressure_switch': 0,\n",
       " 'pressure': 0.1,\n",
       " 'constvolswitch': 0,\n",
       " 'constvolprecision': 1e-14,\n",
       " 'constareaswitch': 0,\n",
       " 'stretchswitch': 0,\n",
       " 'xkA0': 1.0,\n",
       " 'R_nucleus': 0,\n",
       " 'R_nucleusX': 0,\n",
       " 'R_nucleusY': 0,\n",
       " 'R_nucleusZ': 0,\n",
       " 'plane_confinement_switch': 0,\n",
       " 'plane_d': 10,\n",
       " 'plane_F': 1.0,\n",
       " 'spherical_harmonics_coefficients': 0,\n",
       " 'npoly': 0,\n",
       " 'nmono': 20,\n",
       " 'k_spring': 800,\n",
       " 'internal_poly': 0,\n",
       " 'nfil': 0,\n",
       " 'nfono': 3,\n",
       " 'xi': 100}"
      ]
     },
     "execution_count": 114,
     "metadata": {},
     "output_type": "execute_result"
    }
   ],
   "source": [
    "small_functions.extract_tape_options(v.tape)"
   ]
  },
  {
   "cell_type": "code",
   "execution_count": 118,
   "id": "b8f0bc05-3db8-4e29-b2ca-1590379844a6",
   "metadata": {},
   "outputs": [
    {
     "data": {
      "text/plain": [
       "b'\\x0f'"
      ]
     },
     "execution_count": 118,
     "metadata": {},
     "output_type": "execute_result"
    }
   ],
   "source": [
    "q=15\n",
    "q.to_bytes(1,sys.byteorder)"
   ]
  },
  {
   "cell_type": "code",
   "execution_count": null,
   "id": "1894c745-28d6-4d97-81ca-9164cbac5e5a",
   "metadata": {},
   "outputs": [],
   "source": [
    "#for i in range(n):\n",
    "#    f=open('cluster_dist_passive_E_2_pt_5_c_350.dat','a')\n",
    "#    f.write('{}, {} \\n'.format(i+1,cl_array[i]/icount))"
   ]
  },
  {
   "cell_type": "code",
   "execution_count": null,
   "id": "cd44a8c5-af50-46df-a4c1-4e233f1bfd69",
   "metadata": {},
   "outputs": [],
   "source": [
    "def parsebuf(buff)\n",
    "    ts.parsetapebuffer.argty"
   ]
  }
 ],
 "metadata": {
  "kernelspec": {
   "display_name": "Python 3 (ipykernel)",
   "language": "python",
   "name": "python3"
  },
  "language_info": {
   "codemirror_mode": {
    "name": "ipython",
    "version": 3
   },
   "file_extension": ".py",
   "mimetype": "text/x-python",
   "name": "python",
   "nbconvert_exporter": "python",
   "pygments_lexer": "ipython3",
   "version": "3.8.10"
  },
  "vscode": {
   "interpreter": {
    "hash": "916dbcbb3f70747c44a77c7bcd40155683ae19c65e1c03b4aa3499c5328201f1"
   }
  }
 },
 "nbformat": 4,
 "nbformat_minor": 5
}
