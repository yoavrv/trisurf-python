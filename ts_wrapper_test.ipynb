{
 "cells": [
  {
   "cell_type": "code",
   "execution_count": 2,
   "id": "2aa55631-d597-4547-8b04-567e55a8b1e8",
   "metadata": {},
   "outputs": [],
   "source": [
    "from glob import glob\n",
    "import ctypes\n",
    "import struct\n",
    "import sys\n",
    "from pathlib import Path\n",
    "\n",
    "import numpy as np\n",
    "\n",
    "import vtu\n",
    "PyVtu=vtu.PyVtu\n",
    "import small_functions\n",
    "import ts_wrapper as ts"
   ]
  },
  {
   "cell_type": "code",
   "execution_count": 6,
   "id": "e9d7f14d-b71c-4d18-8a74-f44f0aea9094",
   "metadata": {},
   "outputs": [],
   "source": [
    "path_to_trisurf = Path('/opt/workspace/msc_project/cluster-trisurf')"
   ]
  },
  {
   "cell_type": "code",
   "execution_count": 3,
   "id": "a153e7ed-51a2-4269-880a-b1e24eff8b87",
   "metadata": {},
   "outputs": [],
   "source": [
    "vesicle = ts.parseDump('/mnt/c/Users/yoavr/Desktop/timestep_000087.vtu')"
   ]
  },
  {
   "cell_type": "code",
   "execution_count": 4,
   "id": "b26c2a2c-0c7d-4faf-be1c-a56a41671747",
   "metadata": {},
   "outputs": [
    {
     "data": {
      "text/plain": [
       "<ts_wrapper.c_double_Array_3 at 0x7fc77c516d40>"
      ]
     },
     "execution_count": 4,
     "metadata": {},
     "output_type": "execute_result"
    }
   ],
   "source": [
    "vesicle.contents.cm"
   ]
  },
  {
   "cell_type": "code",
   "execution_count": 8,
   "id": "ac45582a-0a28-426a-a269-ace04383d38b",
   "metadata": {},
   "outputs": [],
   "source": [
    "tape=ts.parsetape(str(path_to_trisurf/'src/tape'))"
   ]
  },
  {
   "cell_type": "code",
   "execution_count": 32,
   "id": "7e61a0ad-4f10-41e0-8860-c79edb20a01a",
   "metadata": {
    "scrolled": true,
    "tags": []
   },
   "outputs": [
    {
     "name": "stdout",
     "output_type": "stream",
     "text": [
      "tape_text:<ctypes.LP_c_char object at 0x7fc73c5c9940>\n",
      "R_nucleus:0.0\n",
      "R_nucleusX:0.0\n",
      "R_nucleusY:0.0\n",
      "R_nucleusZ:0.0\n",
      "kxA0:1.0\n",
      "kxV0:1.0\n",
      "V0:0.0\n",
      "A0:0.0\n",
      "Vfraction:1.0\n",
      "constvolprecision:1e-14\n",
      "xk0:20.0\n",
      "xk2:-20.0\n",
      "dmax:1.7\n",
      "dmin_interspecies:1.2\n",
      "stepsize:0.15\n",
      "kspring:800.0\n",
      "xi:100.0\n",
      "pressure:0.0\n",
      "c0:0.5\n",
      "d0:0.5\n",
      "w:1.0\n",
      "F:1.0\n",
      "plane_d:10.0\n",
      "plane_F:1.0\n",
      "vicsek_strength:0.1\n",
      "vicsek_radius:4.0\n",
      "adhesion_z:-5.0\n",
      "adhesion_cutoff:1.0\n",
      "adhesion_strength:1.0\n",
      "adhesion_radius:5.0\n",
      "adhesion_scale:5.0\n",
      "adhesion_factor:2.0\n",
      "min_dihedral_angle_cosine:0.1\n",
      "mcsweeps:1000\n",
      "random_seed:0\n",
      "iterations:10\n",
      "inititer:0\n",
      "nshell:10\n",
      "ncxmax:100\n",
      "ncymax:100\n",
      "nczmax:100\n",
      "number_of_vertices_with_c0:50\n",
      "npoly:0\n",
      "nmono:20\n",
      "internal_poly:0\n",
      "nfil:0\n",
      "nfono:3\n",
      "shc:0\n",
      "pressure_switch:b'\\x00'\n",
      "volume_switch:b'\\x00'\n",
      "area_switch:b'\\x00'\n",
      "quiet:b'\\x00'\n",
      "plane_confinment_switch:b'\\x00'\n",
      "allow_center_mass_movement:b'\\x00'\n",
      "force_balance_along_z_axis:b'\\x00'\n",
      "adhesion_geometry:b'\\x00'\n",
      "adhesion_model:b'\\x00'\n",
      "bond_model:b'\\x00'\n",
      "curvature_model:b'\\x0f'\n",
      "force_model:b'\\x00'\n"
     ]
    }
   ],
   "source": [
    "fields = tape.contents._fields_\n",
    "contents = [tape.contents.__getattribute__(field[0]) for field in fields]\n",
    "str_field = [str(field[0]) for field in fields]\n",
    "cont_str = [repr(content) for content in contents]\n",
    "print('\\n'.join(x+\":\"+y for x,y in zip(str_field,cont_str)))"
   ]
  },
  {
   "cell_type": "code",
   "execution_count": 40,
   "id": "53ec70d1-2638-4a0b-bb46-5f1f46713d77",
   "metadata": {},
   "outputs": [
    {
     "data": {
      "text/plain": [
       "array([0., 0., 0., 0., 0., 1., 0., 0., 0., 0., 0., 0., 0., 0., 0., 0., 0.,\n",
       "       0., 0., 0., 0., 0., 0., 0., 0., 0., 0., 0., 0., 0., 0., 0., 0., 0.,\n",
       "       0., 1., 0., 1., 0., 0., 0., 0., 0., 1., 0., 0., 0., 0., 0., 0.])"
      ]
     },
     "execution_count": 40,
     "metadata": {},
     "output_type": "execute_result"
    }
   ],
   "source": [
    "np.array([vesicle.contents.vlist.contents.vtx[i].contents.c for i in range(50,100)])"
   ]
  },
  {
   "cell_type": "code",
   "execution_count": 41,
   "id": "92cbea66-c1b4-4e10-895b-e3dfda85409b",
   "metadata": {},
   "outputs": [],
   "source": [
    "vtx=vesicle.contents.vlist.contents.vtx[97]\n",
    "vtx_old=ts.ts_vertex(x=0,y=0,z=0)"
   ]
  },
  {
   "cell_type": "code",
   "execution_count": 42,
   "id": "9d46dcd0-ab05-46ac-889c-43465afe6550",
   "metadata": {},
   "outputs": [
    {
     "data": {
      "text/plain": [
       "-0.8323908581740378"
      ]
     },
     "execution_count": 42,
     "metadata": {},
     "output_type": "execute_result"
    }
   ],
   "source": [
    "vtx.contents.z"
   ]
  },
  {
   "cell_type": "code",
   "execution_count": 43,
   "id": "5d32637a-f71b-439b-8bfc-4d5cb51a9500",
   "metadata": {},
   "outputs": [],
   "source": [
    "import ctypes"
   ]
  },
  {
   "cell_type": "code",
   "execution_count": 44,
   "id": "4555488f-92ae-437c-9615-26b5de8d4a06",
   "metadata": {},
   "outputs": [
    {
     "data": {
      "text/plain": [
       "<ts_wrapper.LP_ts_vertex at 0x7fc73c5cabc0>"
      ]
     },
     "execution_count": 44,
     "metadata": {},
     "output_type": "execute_result"
    }
   ],
   "source": [
    "ctypes.pointer(vtx_old)"
   ]
  },
  {
   "cell_type": "code",
   "execution_count": 45,
   "id": "bea5e660-880e-415a-af09-28dd37d62b36",
   "metadata": {},
   "outputs": [
    {
     "data": {
      "text/plain": [
       "0.0"
      ]
     },
     "execution_count": 45,
     "metadata": {},
     "output_type": "execute_result"
    }
   ],
   "source": [
    "ts.ts.direct_force_energy.restype=ctypes.c_double\n",
    "ts.ts.direct_force_energy(vesicle, vtx, ctypes.pointer(vtx_old))"
   ]
  },
  {
   "cell_type": "code",
   "execution_count": 46,
   "id": "b871769d-a639-4f88-8c76-f914de067ba5",
   "metadata": {},
   "outputs": [
    {
     "data": {
      "text/plain": [
       "16"
      ]
     },
     "execution_count": 46,
     "metadata": {},
     "output_type": "execute_result"
    }
   ],
   "source": [
    "int.from_bytes(vesicle.contents.tape.contents.force_model,sys.byteorder)"
   ]
  },
  {
   "cell_type": "code",
   "execution_count": 47,
   "id": "047b1dee-e091-426b-8cf1-9757954b879f",
   "metadata": {},
   "outputs": [
    {
     "data": {
      "text/plain": [
       "0.0"
      ]
     },
     "execution_count": 47,
     "metadata": {},
     "output_type": "execute_result"
    }
   ],
   "source": [
    "ts.ts.direct_force_energy.restype=ctypes.c_double\n",
    "ts.ts.direct_force_energy(vesicle,ctypes.pointer(vtx),ctypes.pointer(vtx_old))\n"
   ]
  },
  {
   "cell_type": "code",
   "execution_count": 50,
   "id": "f76fee9d-460f-49c6-b543-76ebc719dd0d",
   "metadata": {},
   "outputs": [],
   "source": [
    "file = Path(\"/mnt/c/Users/yoavr/Desktop/timestep_000087.vtu\")"
   ]
  },
  {
   "cell_type": "code",
   "execution_count": 51,
   "id": "a632bb34-9522-46c3-a630-0b4949062bf9",
   "metadata": {},
   "outputs": [],
   "source": [
    "v = PyVtu(file)"
   ]
  },
  {
   "cell_type": "code",
   "execution_count": 52,
   "id": "b73ffbd1-04db-4e14-900b-5aca70c58f52",
   "metadata": {},
   "outputs": [],
   "source": [
    "vesicle = ts.parseDump(str(file))"
   ]
  },
  {
   "cell_type": "code",
   "execution_count": 53,
   "id": "8a6357b8-ed7e-48cf-a963-3b458711f14b",
   "metadata": {},
   "outputs": [],
   "source": [
    "vertices = [\n",
    "vesicle.contents.vlist.contents.vtx[i] for i in range(vesicle.contents.vlist.contents.n)]"
   ]
  },
  {
   "cell_type": "code",
   "execution_count": 54,
   "id": "046cf01a-cf9a-4b6a-95b2-8e81628fbfb1",
   "metadata": {},
   "outputs": [
    {
     "data": {
      "text/plain": [
       "<ts_wrapper.LP_ts_vertex at 0x7fc73c61eac0>"
      ]
     },
     "execution_count": 54,
     "metadata": {},
     "output_type": "execute_result"
    }
   ],
   "source": [
    "vertices[2]"
   ]
  },
  {
   "cell_type": "code",
   "execution_count": 55,
   "id": "40b460a7-583c-429c-a097-57d2c4f62037",
   "metadata": {},
   "outputs": [],
   "source": [
    "dist = [\n",
    "ts.adhesion_geometry_distance(vesicle, vtx) for vtx in vertices]"
   ]
  },
  {
   "cell_type": "code",
   "execution_count": 56,
   "id": "55a9dea2-85a3-42f3-94ba-4f2adf669c17",
   "metadata": {},
   "outputs": [
    {
     "data": {
      "text/plain": [
       "2"
      ]
     },
     "execution_count": 56,
     "metadata": {},
     "output_type": "execute_result"
    }
   ],
   "source": [
    "int.from_bytes(vesicle.contents.tape.contents.adhesion_geometry,sys.byteorder)"
   ]
  },
  {
   "cell_type": "code",
   "execution_count": 57,
   "id": "263f3407-670a-4b8b-91e7-9025a7139dbd",
   "metadata": {},
   "outputs": [
    {
     "data": {
      "text/plain": [
       "10.0"
      ]
     },
     "execution_count": 57,
     "metadata": {},
     "output_type": "execute_result"
    }
   ],
   "source": [
    "vesicle.contents.tape.contents.adhesion_radius"
   ]
  },
  {
   "cell_type": "code",
   "execution_count": 58,
   "id": "2fe0ea4d-b065-4652-8730-017e99f7b1da",
   "metadata": {},
   "outputs": [
    {
     "data": {
      "text/plain": [
       "array([0.91339441, 0.96547936, 0.91553219, 0.89688824, 0.86787479])"
      ]
     },
     "execution_count": 58,
     "metadata": {},
     "output_type": "execute_result"
    }
   ],
   "source": [
    "np.array(dist)[np.array(dist)<1]"
   ]
  },
  {
   "cell_type": "code",
   "execution_count": 59,
   "id": "aa0bc759-3fbd-40e4-a49a-36be2bc8c171",
   "metadata": {},
   "outputs": [],
   "source": [
    "dist2=(((v.pos - [[0,0,-20]])**2).sum(axis=1)**0.5-10)"
   ]
  },
  {
   "cell_type": "code",
   "execution_count": 60,
   "id": "610eded9-7015-401f-9e35-4a86ff4c6a3d",
   "metadata": {},
   "outputs": [],
   "source": [
    "dist=np.array(dist)"
   ]
  },
  {
   "cell_type": "code",
   "execution_count": 61,
   "id": "c8bd9d67-87bd-43aa-bb6b-eb23827ae657",
   "metadata": {},
   "outputs": [
    {
     "data": {
      "text/plain": [
       "(0.9133944089548862,\n",
       " array([-0.69210235, -2.19473144, -9.33199523]),\n",
       " 0.9133944089548862,\n",
       " (-0.6921023463065015, -2.1947314360371157, -9.331995229129523))"
      ]
     },
     "execution_count": 61,
     "metadata": {},
     "output_type": "execute_result"
    }
   ],
   "source": [
    "i=568\n",
    "dist2[i],v.pos[i],dist[i],(vertices[i].contents.x,vertices[i].contents.y,vertices[i].contents.z)"
   ]
  },
  {
   "cell_type": "code",
   "execution_count": 62,
   "id": "7be5c654-ab53-4653-bac1-60a1cc7ad2c9",
   "metadata": {},
   "outputs": [
    {
     "data": {
      "text/plain": [
       "4"
      ]
     },
     "execution_count": 62,
     "metadata": {},
     "output_type": "execute_result"
    }
   ],
   "source": [
    "v.type[i]"
   ]
  },
  {
   "cell_type": "code",
   "execution_count": 64,
   "id": "1b109f99-19c9-4190-bb58-f5d3284498d5",
   "metadata": {},
   "outputs": [
    {
     "data": {
      "text/plain": [
       "-1.25"
      ]
     },
     "execution_count": 64,
     "metadata": {},
     "output_type": "execute_result"
    }
   ],
   "source": [
    "ts.adhesion_energy_diff(vesicle, vertices[i],vertices[0])"
   ]
  },
  {
   "cell_type": "code",
   "execution_count": 65,
   "id": "54eb9588-c06d-4937-97c1-3d02342af2ce",
   "metadata": {},
   "outputs": [
    {
     "data": {
      "text/plain": [
       "b'\\x01'"
      ]
     },
     "execution_count": 65,
     "metadata": {},
     "output_type": "execute_result"
    }
   ],
   "source": [
    "ts.adhesion_geometry_side(vesicle, vertices[i])"
   ]
  },
  {
   "cell_type": "code",
   "execution_count": 67,
   "id": "8e822384-cf78-4d95-afc3-0d1c760cedbb",
   "metadata": {},
   "outputs": [],
   "source": [
    "max_cluster_size = 450\n",
    "cluster_hist = np.zeros(max_cluster_size)"
   ]
  },
  {
   "cell_type": "code",
   "execution_count": 68,
   "id": "cb00d6f4-8c3b-489c-ba13-67aadef595a7",
   "metadata": {},
   "outputs": [
    {
     "data": {
      "text/plain": [
       "['/opt/workspace/msc_project/simulations/QA_tests/throwaway/timestep_000000.vtu',\n",
       " '/opt/workspace/msc_project/simulations/QA_tests/throwaway/timestep_000001.vtu',\n",
       " '/opt/workspace/msc_project/simulations/QA_tests/throwaway/timestep_000002.vtu',\n",
       " '/opt/workspace/msc_project/simulations/QA_tests/throwaway/timestep_000003.vtu',\n",
       " '/opt/workspace/msc_project/simulations/QA_tests/throwaway/timestep_000004.vtu',\n",
       " '/opt/workspace/msc_project/simulations/QA_tests/throwaway/timestep_000005.vtu']"
      ]
     },
     "execution_count": 68,
     "metadata": {},
     "output_type": "execute_result"
    }
   ],
   "source": [
    "file_regex = (\"/mnt/c/Users/yoavr/Desktop/paraview_pipeline\"\n",
    "                \"/hello_chemfarm/anisotropy/5_from_mitja/x0000_b0k0\"\n",
    "                \"/time*\")\n",
    "\n",
    "file_regex = (\"/opt/workspace/msc_project/simulations\"\n",
    "                \"/QA_tests/throwaway\"\n",
    "                \"/time*\")\n",
    "\n",
    "files = sorted(glob(file_regex))\n",
    "files[:6]"
   ]
  },
  {
   "cell_type": "code",
   "execution_count": 69,
   "id": "b35868f3-4827-4a2f-bd80-dcd47d6a1159",
   "metadata": {
    "scrolled": true,
    "tags": []
   },
   "outputs": [],
   "source": [
    "for file in files[:3]:\n",
    "    vesicle=ts.parseDump(file)\n",
    "    cstlist=ts.init_cluster_list()\n",
    "    ts.clusterize_vesicle(vesicle, cstlist)    \n",
    "    for j in range(cstlist.contents.n):\n",
    "        size=cstlist.contents.cluster[j].contents.nvtx\n",
    "        cluster_hist[size-1]+=1.0000"
   ]
  },
  {
   "cell_type": "code",
   "execution_count": 82,
   "id": "6fe9e64f-3218-41f8-937f-aaa5b087def0",
   "metadata": {},
   "outputs": [],
   "source": [
    "v=PyVtu(file)"
   ]
  },
  {
   "cell_type": "code",
   "execution_count": 83,
   "id": "b268f074-6f7b-416a-91ca-79272c7dc7f7",
   "metadata": {},
   "outputs": [],
   "source": [
    "vtx_500 = vesicle.contents.vlist.contents.vtx[500]"
   ]
  },
  {
   "cell_type": "code",
   "execution_count": 84,
   "id": "013732b3-2160-4b44-8c5c-668391f65756",
   "metadata": {},
   "outputs": [
    {
     "data": {
      "text/plain": [
       "(array([ 0.05522578,  0.04100399, -6.23498369]),\n",
       " 0.05522578450024107,\n",
       " 0.04100399122861435,\n",
       " -6.234983690768586)"
      ]
     },
     "execution_count": 84,
     "metadata": {},
     "output_type": "execute_result"
    }
   ],
   "source": [
    "v.pos[500], vtx_500.contents.x,vtx_500.contents.y,vtx_500.contents.z"
   ]
  },
  {
   "cell_type": "code",
   "execution_count": 85,
   "id": "f0d9416e-3860-416e-8104-1c8ab7124975",
   "metadata": {},
   "outputs": [
    {
     "data": {
      "text/plain": [
       "0.0"
      ]
     },
     "execution_count": 85,
     "metadata": {},
     "output_type": "execute_result"
    }
   ],
   "source": [
    "ts.adhesion_geometry_distance(vesicle, vesicle.contents.vlist.contents.vtx[500])"
   ]
  },
  {
   "cell_type": "code",
   "execution_count": 86,
   "id": "35af1ef7-3eaa-414a-86a4-439e1fe38025",
   "metadata": {},
   "outputs": [],
   "source": [
    "v=vtu.PyVtu(file)"
   ]
  },
  {
   "cell_type": "code",
   "execution_count": 87,
   "id": "b9ee8172-191a-41c4-b4b7-e7e1df56b8ba",
   "metadata": {},
   "outputs": [
    {
     "name": "stdout",
     "output_type": "stream",
     "text": [
      "dmax 2.8899999999999997\n",
      "stepsize 0.15\n",
      "cm [0.0, 0.0, 0.0]\n",
      "fx 0.0\n",
      "fy 0.0\n",
      "fz 0.0\n",
      "volume 0.0\n",
      "area 0.0\n",
      "spring_constant 800.0\n",
      "pressure 0.0\n",
      "R_nucleus 0.0\n",
      "R_nucleusX 0.0\n",
      "R_nucleusY 0.0\n",
      "R_nucleusZ 0.0\n",
      "nucleus_center [0.0, 0.0, 0.0]\n",
      "tape <ts_wrapper.LP_ts_tape object at 0x7fc739e8ba40>\n",
      "sphHarmonics <ts_wrapper.LP_ts_spharm object at 0x7fc739e8b7c0>\n",
      "poly_list <ts_wrapper.LP_ts_poly_list object at 0x7fc739e8ba40>\n",
      "filament_list <ts_wrapper.LP_ts_poly_list object at 0x7fc739e8b7c0>\n",
      "vlist <ts_wrapper.LP_ts_vertex_list object at 0x7fc739e8ba40>\n",
      "blist <ts_wrapper.LP_ts_bond_list object at 0x7fc739e8b7c0>\n",
      "tlist <ts_wrapper.LP_ts_triangle_list object at 0x7fc739e8ba40>\n",
      "clist <ts_wrapper.LP_ts_cell_list object at 0x7fc739e8b7c0>\n",
      "confinement_plane <ts_wrapper.ts_confinment_plane object at 0x7fc739e8ba40>\n",
      "nshell 0\n"
     ]
    }
   ],
   "source": [
    "for field, ty in vesicle.contents._fields_:\n",
    "    if (ty in {ctypes.c_int, ctypes.c_uint, ctypes.c_double}):\n",
    "        print(field,vesicle.contents.__getattribute__(field))\n",
    "    elif (ty in {ctypes.c_double*3,}):\n",
    "        print(field, vesicle.contents.__getattribute__(field)[:])\n",
    "    else:\n",
    "        print(field,vesicle.contents.__getattribute__(field))"
   ]
  },
  {
   "cell_type": "code",
   "execution_count": 88,
   "id": "36f50c0d-562e-4aaf-9a24-01d00051ba85",
   "metadata": {
    "scrolled": true,
    "tags": []
   },
   "outputs": [
    {
     "name": "stdout",
     "output_type": "stream",
     "text": [
      "0 tape_text <ctypes.LP_c_char object at 0x7fc739e8b2c0> None\n",
      "1 R_nucleus 0.0 0\n",
      "2 R_nucleusX 0.0 0\n",
      "3 R_nucleusY 0.0 0\n",
      "4 R_nucleusZ 0.0 0\n",
      "5 kxA0 1.0 None\n",
      "6 kxV0 1.0 None\n",
      "7 V0 0.0 0\n",
      "8 A0 0.0 0\n",
      "9 Vfraction 1.0 None\n",
      "10 constvolprecision 1e-14 1e-14\n",
      "11 xk0 20.0 20\n",
      "12 xk2 -20.0 -20\n",
      "13 dmax 1.7 1.7\n",
      "14 dmin_interspecies 1.2 1.2\n",
      "15 stepsize 0.15 0.15\n",
      "16 kspring 800.0 None\n",
      "17 xi 100.0 100\n",
      "18 pressure 0.0 0.0\n",
      "19 c0 0.5 0.5\n",
      "20 d0 0.5 0.5\n",
      "21 w 1.0 1.0\n",
      "22 F 1.0 1.0\n",
      "23 plane_d 10.0 10\n",
      "24 plane_F 1.0 1.0\n",
      "25 vicsek_strength 0.1 0.1\n",
      "26 vicsek_radius 4.0 4.0\n",
      "27 adhesion_z -5.0 -5\n",
      "28 adhesion_cutoff 1.0 1\n",
      "29 adhesion_strength 1.0 1.0\n",
      "30 adhesion_radius 5.0 5.0\n",
      "31 adhesion_scale 5.0 5.0\n",
      "32 adhesion_factor 2.0 2.0\n",
      "33 min_dihedral_angle_cosine 0.1 0.1\n",
      "34 mcsweeps 1000 1000\n",
      "35 random_seed 1682609434 1682609434\n",
      "36 iterations 10 10\n",
      "37 inititer 0 0\n",
      "38 nshell 10 10\n",
      "39 ncxmax 100 None\n",
      "40 ncymax 100 None\n",
      "41 nczmax 100 None\n",
      "42 number_of_vertices_with_c0 50 50\n",
      "43 npoly 0 0\n",
      "44 nmono 20 20\n",
      "45 internal_poly 0 0\n",
      "46 nfil 0 0\n",
      "47 nfono 3 3\n",
      "48 shc 0 None\n",
      "49 pressure_switch 0 0\n",
      "50 volume_switch 0 0\n",
      "51 area_switch 0 0\n",
      "52 quiet 0 false\n",
      "53 plane_confinment_switch 0 None\n",
      "54 allow_center_mass_movement 0 0\n",
      "55 force_balance_along_z_axis 0 0\n",
      "56 adhesion_geometry 0 0\n",
      "57 adhesion_model 0 0\n",
      "58 bond_model 0 0\n",
      "59 curvature_model 15 15\n",
      "60 force_model 0 0\n"
     ]
    }
   ],
   "source": [
    "tape_opts = small_functions.get_tape_options(v.tape)\n",
    "for i, (field, ty) in enumerate(vesicle.contents.tape.contents._fields_):\n",
    "    attrib = vesicle.contents.tape.contents.__getattribute__(field)\n",
    "    if (ty in {ctypes.c_int, ctypes.c_uint, ctypes.c_double,ctypes.c_ulong}):\n",
    "        val = attrib\n",
    "    elif (ty in {ctypes.c_double*3,}):\n",
    "        val = attrib[:]\n",
    "    elif (ty in {ctypes.c_char,ctypes.c_byte}):\n",
    "        val = int.from_bytes(attrib,sys.byteorder)\n",
    "    else:\n",
    "        val=attrib\n",
    "    print(i,field,val,tape_opts.get(field))"
   ]
  },
  {
   "cell_type": "code",
   "execution_count": 90,
   "id": "95290129-d253-4b92-95f8-7a7643b129e2",
   "metadata": {},
   "outputs": [
    {
     "data": {
      "text/plain": [
       "15"
      ]
     },
     "execution_count": 90,
     "metadata": {},
     "output_type": "execute_result"
    }
   ],
   "source": [
    "int.from_bytes(vesicle.contents.tape.contents.curvature_model,sys.byteorder)"
   ]
  },
  {
   "cell_type": "code",
   "execution_count": 91,
   "id": "f602668a-2978-49e6-b547-7b2389d52135",
   "metadata": {},
   "outputs": [
    {
     "data": {
      "text/plain": [
       "{'nshell': 10,\n",
       " 'dmax': 1.7,\n",
       " 'dmin_interspecies': 1.2,\n",
       " 'stepsize': 0.15,\n",
       " 'nxmax': 100,\n",
       " 'nymax': 100,\n",
       " 'nzmax': 100,\n",
       " 'mcsweeps': 1000,\n",
       " 'inititer': 0,\n",
       " 'iterations': 10,\n",
       " 'quiet': 'false',\n",
       " 'xk0': 20,\n",
       " 'xk2': -20,\n",
       " 'number_of_vertices_with_c0': 50,\n",
       " 'c0': 0.5,\n",
       " 'd0': 0.5,\n",
       " 'curvature_model': 15,\n",
       " 'min_dihedral_angle_cosine': 0.1,\n",
       " 'w': 1.0,\n",
       " 'bond_model': 0,\n",
       " 'F': 1.0,\n",
       " 'force_model': 0,\n",
       " 'vicsek_strength': 0.1,\n",
       " 'vicsek_radius': 4.0,\n",
       " 'adhesion_model': 0,\n",
       " 'adhesion_geometry': 0,\n",
       " 'adhesion_cutoff': 1,\n",
       " 'adhesion_z': -5,\n",
       " 'adhesion_radius': 5.0,\n",
       " 'adhesion_scale': 5.0,\n",
       " 'adhesion_factor': 2.0,\n",
       " 'adhesion_strength': 1.0,\n",
       " 'allow_center_mass_movement': 0,\n",
       " 'force_balance_along_z_axis': 0,\n",
       " 'pressure_switch': 0,\n",
       " 'pressure': 0.0,\n",
       " 'volume_switch': 0,\n",
       " 'constvolprecision': 1e-14,\n",
       " 'V0': 0,\n",
       " 'xkV0': 1.0,\n",
       " 'Vr': 1.0,\n",
       " 'area_switch': 0,\n",
       " 'A0': 0,\n",
       " 'xkA0': 1.0,\n",
       " 'R_nucleus': 0,\n",
       " 'R_nucleusX': 0,\n",
       " 'R_nucleusY': 0,\n",
       " 'R_nucleusZ': 0,\n",
       " 'plane_confinement_switch': 0,\n",
       " 'plane_d': 10,\n",
       " 'plane_F': 1.0,\n",
       " 'spherical_harmonics_coefficients': 0,\n",
       " 'npoly': 0,\n",
       " 'nmono': 20,\n",
       " 'k_spring': 800,\n",
       " 'internal_poly': 0,\n",
       " 'nfil': 0,\n",
       " 'nfono': 3,\n",
       " 'xi': 100,\n",
       " 'random_seed': 1682609434}"
      ]
     },
     "execution_count": 91,
     "metadata": {},
     "output_type": "execute_result"
    }
   ],
   "source": [
    "small_functions.get_tape_options(v.tape)"
   ]
  }
 ],
 "metadata": {
  "kernelspec": {
   "display_name": "Python 3 (ipykernel)",
   "language": "python",
   "name": "python3"
  },
  "language_info": {
   "codemirror_mode": {
    "name": "ipython",
    "version": 3
   },
   "file_extension": ".py",
   "mimetype": "text/x-python",
   "name": "python",
   "nbconvert_exporter": "python",
   "pygments_lexer": "ipython3",
   "version": "3.8.10"
  },
  "vscode": {
   "interpreter": {
    "hash": "916dbcbb3f70747c44a77c7bcd40155683ae19c65e1c03b4aa3499c5328201f1"
   }
  }
 },
 "nbformat": 4,
 "nbformat_minor": 5
}
