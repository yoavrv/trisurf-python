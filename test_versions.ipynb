{
 "cells": [
  {
   "cell_type": "markdown",
   "id": "ce3d3c48-9402-4f3d-98f0-d6017bf77164",
   "metadata": {},
   "source": [
    "# Test new versions of the code #"
   ]
  },
  {
   "cell_type": "markdown",
   "id": "528accdb-06ab-4d79-a1aa-adeabceb5ec1",
   "metadata": {},
   "source": [
    "This notebook runs a new version of trisurf through the three modes: from tape, from binary, and from vtu."
   ]
  },
  {
   "cell_type": "markdown",
   "id": "26eb68e2-8b96-4898-a18a-4cdd82fc35b4",
   "metadata": {},
   "source": [
    "**This notebook does not re-`make` the trisurf: The test is on the existing trisurf at the location!**"
   ]
  },
  {
   "cell_type": "code",
   "execution_count": 1,
   "id": "6fb1eb73-42e0-4e25-a768-78f38195ced1",
   "metadata": {},
   "outputs": [],
   "source": [
    "import subprocess, shutil, datetime\n",
    "from pathlib import Path\n",
    "\n",
    "import numpy as np\n",
    "import pandas as pd\n",
    "\n",
    "from vtu import PyVtu\n",
    "from ts_auto_wrapper import TSWrapper"
   ]
  },
  {
   "cell_type": "markdown",
   "id": "0c9fce13-bcdb-4c42-8ed4-4da7e9f4a375",
   "metadata": {},
   "source": [
    "Create the wrapper for the new version. The path need to be supplied, but here is a nice guess"
   ]
  },
  {
   "cell_type": "code",
   "execution_count": 2,
   "id": "8b08fabf-e98d-427b-9ac0-4b76ab3b82ed",
   "metadata": {},
   "outputs": [],
   "source": [
    "path_to_trisurf = Path(\"../cluster-trisurf\")\n",
    "if not path_to_trisurf.exists():\n",
    "    path_to_trisurf = Path(\"../../cluster-trisurf\")\n",
    "    if not path_to_trisurf.exists():\n",
    "        path_to_trisurf = Path(\"~/cluster_trisurf\")\n",
    "path_to_trisurf = path_to_trisurf.resolve()\n",
    "\n",
    "\n",
    "ts=TSWrapper(path_to_trisurf)\n",
    "# we could also use older versions\n",
    "# ts=TSWrapper(Path(\"/opt/workspace/msc_project/trisurf_samo/trisurf-ng/\"))\n",
    "\n",
    "trisurf_test = (Path('.')/\"trisurf_test\").resolve()"
   ]
  },
  {
   "cell_type": "markdown",
   "id": "9a385f08-6187-4795-8f4a-299dedc213ce",
   "metadata": {},
   "source": [
    "Here we supply where and how to run the test.  \n",
    "This essentially recreate  \n",
    "* creating a folder  \n",
    "* running the current trisurf version with tape and command line agruments `extra args`  \n",
    "* collect the statistics ad output for each phase  \n",
    "* delete the timesteps  \n",
    "\n",
    "The **main** reason is to make sure the trisurf version even works."
   ]
  },
  {
   "cell_type": "code",
   "execution_count": 3,
   "id": "95902940-b7ab-4308-a51c-aaefd047c74b",
   "metadata": {},
   "outputs": [],
   "source": [
    "test_folder=None # name of the folder for the test\n",
    "tape=None # tape file location\n",
    "extra_args = [] # comand line arguments\n",
    "destroy_timesteps_at_end=True # destroy all timesteps after the test\n",
    "timeout = 750 # seconds to timeout for each `trisurf` test, fit for samo trisurf with nshell=17"
   ]
  },
  {
   "cell_type": "code",
   "execution_count": 4,
   "id": "4725b413-4a62-411e-a77e-590abcfd772e",
   "metadata": {},
   "outputs": [],
   "source": [
    "# test_folder = trisurf_test/'2023_05_29_main_egg_carton'\n",
    "# # test_folder = trisurf_test/'2023_05_29_anisotropy_samo_version'\n",
    "# extra_args = ['-c adhesion_model=1,adhesion_geometry=6,adhesion_scale=2']\n",
    "# destroy_timesteps_at_end=False # destroy all timesteps after the test\n",
    "# timeout = 120 # seconds to timeout for each `trisurf` test\n",
    "# timeout = 750"
   ]
  },
  {
   "cell_type": "code",
   "execution_count": 5,
   "id": "a86fbbb0-79f8-4575-b827-66bfe5b7f71b",
   "metadata": {},
   "outputs": [],
   "source": [
    "# test_folder=trisurf_test/'2023_06_24_unalloc1'\n",
    "# tape=None\n",
    "# extra_args = []\n",
    "# destroy_timesteps_at_end=True # destroy all timesteps after the test\n",
    "# timeout = 750 # seconds to timeout for each `trisurf` test, fit for samo trisurf with nshell=17"
   ]
  },
  {
   "cell_type": "markdown",
   "id": "aecaa0f9-47b5-4466-a56b-ade891c708d5",
   "metadata": {
    "tags": []
   },
   "source": [
    "### Make a new folder if there isn't one ###"
   ]
  },
  {
   "cell_type": "code",
   "execution_count": 6,
   "id": "fc9a97eb-f1e3-4858-8f2b-eb60bbe00323",
   "metadata": {},
   "outputs": [
    {
     "data": {
      "text/plain": [
       "'2023_07_02_main'"
      ]
     },
     "execution_count": 6,
     "metadata": {},
     "output_type": "execute_result"
    }
   ],
   "source": [
    "new_folder=None\n",
    "if not test_folder:\n",
    "    # make up some appropriate folder\n",
    "    now = datetime.datetime.now()\n",
    "    ret = subprocess.run(['git', 'status'],cwd=ts.path_to_trisurf,capture_output=True)\n",
    "    branch = ret.stdout.decode().partition('On branch ')[-1].splitlines()[0].strip()\n",
    "    new_folder = f'{now.year:04}_{now.month:02}_{now.day:02}_{branch}'\n",
    "    test_folder = trisurf_test/new_folder\n",
    "new_folder"
   ]
  },
  {
   "cell_type": "code",
   "execution_count": 7,
   "id": "b906615e-e9e5-4f0f-8a87-46fdc274a2d1",
   "metadata": {},
   "outputs": [],
   "source": [
    "if not test_folder.exists():\n",
    "    test_folder.mkdir()\n",
    "    test_folder.joinpath('test_results').mkdir()\n",
    "elif new_folder is not None:\n",
    "    raise ValueError(f'folder {test_folder} for today already exists: Rename or delete to run test')"
   ]
  },
  {
   "cell_type": "markdown",
   "id": "2471e511-aa48-47a2-84e5-34230b6f818f",
   "metadata": {},
   "source": [
    "### copy the tape to the new folder ###"
   ]
  },
  {
   "cell_type": "code",
   "execution_count": 8,
   "id": "ddc85171-4026-439c-8a02-415e983e20fb",
   "metadata": {},
   "outputs": [
    {
     "data": {
      "text/plain": [
       "PosixPath('/home/toriy/yoav/trisurf-python/trisurf_test/2023_07_02_main/tape')"
      ]
     },
     "execution_count": 8,
     "metadata": {},
     "output_type": "execute_result"
    }
   ],
   "source": [
    "if tape is None:\n",
    "    tape=ts.path_to_trisurf/\"src/tape\"\n",
    "shutil.copy(tape,test_folder/\"tape\")"
   ]
  },
  {
   "cell_type": "markdown",
   "id": "3068846e-78c1-402b-af5b-5aec881b81cd",
   "metadata": {},
   "source": [
    "## Check initizliaztion from tape ##"
   ]
  },
  {
   "cell_type": "markdown",
   "id": "7fc8ef28-5ad1-4624-89c6-9dfb6424e7d5",
   "metadata": {},
   "source": [
    "The subprocess is equivalent to the command  \n",
    "`trisuf --force-from-tape extra_args[0] extra_args[1]...`  \n",
    "running in the testfolder"
   ]
  },
  {
   "cell_type": "code",
   "execution_count": 9,
   "id": "9b5e1caa-3663-4661-9104-5878ddf4fce4",
   "metadata": {},
   "outputs": [],
   "source": [
    "ret = subprocess.run([ts.path_to_trisurf/\"src/trisurf\", \"--force-from-tape\", *extra_args],\n",
    "                     cwd=test_folder, timeout=timeout, capture_output=True)"
   ]
  },
  {
   "cell_type": "markdown",
   "id": "db482216-8356-41fa-bdf0-bc54cc92fe13",
   "metadata": {},
   "source": [
    "Print the output and save it to the test results."
   ]
  },
  {
   "cell_type": "code",
   "execution_count": 10,
   "id": "9d88fc8b-4eb1-4aae-94aa-b71a010e5b0b",
   "metadata": {
    "scrolled": true,
    "tags": []
   },
   "outputs": [
    {
     "name": "stdout",
     "output_type": "stream",
     "text": [
      "[2023-07-02 00:23:39] TRISURF-NG v. 13597e6, compiled on: Jul  1 2023 02:04:58.\n",
      "[2023-07-02 00:23:39] Programming done by: Samo Penic and Miha Fosnaric\n",
      "[2023-07-02 00:23:39] Released under terms of GPLv3\n",
      "[2023-07-02 00:23:39] Starting program...\n",
      "\n",
      "[2023-07-02 00:23:39] ************************************************\n",
      "[2023-07-02 00:23:39] **** Generating initial geometry from tape *****\n",
      "[2023-07-02 00:23:39] ************************************************\n",
      "\n",
      "[2023-07-02 00:23:39] Starting initial_distribution on vesicle with 10 shells!...\n",
      "[2023-07-02 00:23:40] initial_distribution finished!\n",
      "[2023-07-02 00:23:40] simulation seed 1688246620\n",
      "[2023-07-02 00:23:40] Setting volume V0=1041.99378875998718286\n",
      "[2023-07-02 00:23:40] Setting area A0=623.53829072480641571\n",
      "[2023-07-02 00:23:48] Done 1 out of 10 iterations (x 1000 MC sweeps).\n",
      "[2023-07-02 00:23:59] Done 2 out of 10 iterations (x 1000 MC sweeps).\n",
      "[2023-07-02 00:24:11] Done 3 out of 10 iterations (x 1000 MC sweeps).\n",
      "[2023-07-02 00:24:18] Done 4 out of 10 iterations (x 1000 MC sweeps).\n",
      "[2023-07-02 00:24:24] Done 5 out of 10 iterations (x 1000 MC sweeps).\n",
      "[2023-07-02 00:24:33] Done 6 out of 10 iterations (x 1000 MC sweeps).\n",
      "[2023-07-02 00:24:43] Done 7 out of 10 iterations (x 1000 MC sweeps).\n",
      "[2023-07-02 00:24:51] Done 8 out of 10 iterations (x 1000 MC sweeps).\n",
      "[2023-07-02 00:25:00] Done 9 out of 10 iterations (x 1000 MC sweeps).\n",
      "[2023-07-02 00:25:05] Done 10 out of 10 iterations (x 1000 MC sweeps).\n",
      "\n"
     ]
    },
    {
     "data": {
      "text/plain": [
       "PosixPath('/home/toriy/yoav/trisurf-python/trisurf_test/2023_07_02_main/test_results/force_statistics.csv')"
      ]
     },
     "execution_count": 10,
     "metadata": {},
     "output_type": "execute_result"
    }
   ],
   "source": [
    "print(ret.stdout.decode())\n",
    "with open(test_folder/\"test_results\"/\"force_stdout.txt\",'w') as f: \n",
    "    f.write(ret.stdout.decode()+'\\n'+ret.stderr.decode())\n",
    "shutil.copy(test_folder/\"statistics.csv\",test_folder/\"test_results\"/\"force_statistics.csv\")"
   ]
  },
  {
   "cell_type": "markdown",
   "id": "4b1ad91a-e7c3-49c5-b005-c84cd4fc72ec",
   "metadata": {},
   "source": [
    "## Check start from binary dump ##"
   ]
  },
  {
   "cell_type": "code",
   "execution_count": 11,
   "id": "2d721024-3628-4bec-8994-a50e804e9212",
   "metadata": {},
   "outputs": [],
   "source": [
    "ret = subprocess.run([ts.path_to_trisurf/\"src/trisurf\",\"--reset-iteration-count\", *extra_args],\n",
    "                     cwd=test_folder, timeout=timeout, capture_output=True)"
   ]
  },
  {
   "cell_type": "code",
   "execution_count": 12,
   "id": "6073fefb-963d-4698-ab8d-e4e66b63e8b8",
   "metadata": {
    "scrolled": true,
    "tags": []
   },
   "outputs": [
    {
     "name": "stdout",
     "output_type": "stream",
     "text": [
      "[2023-07-02 00:25:05] TRISURF-NG v. 13597e6, compiled on: Jul  1 2023 02:04:58.\n",
      "[2023-07-02 00:25:05] Programming done by: Samo Penic and Miha Fosnaric\n",
      "[2023-07-02 00:25:05] Released under terms of GPLv3\n",
      "[2023-07-02 00:25:05] Starting program...\n",
      "\n",
      "[2023-07-02 00:25:05] **********************************************************************\n",
      "[2023-07-02 00:25:05] **** Recreating vesicle from dump file and continuing simulation *****\n",
      "[2023-07-02 00:25:05] **********************************************************************\n",
      "\n",
      "[2023-07-02 00:25:06] simulation seed 1688246706\n",
      "[2023-07-02 00:25:06] Setting volume V0=1669.94225308700856658\n",
      "[2023-07-02 00:25:06] Setting area A0=705.37220761160756410\n",
      "[2023-07-02 00:25:16] Done 1 out of 10 iterations (x 1000 MC sweeps).\n",
      "[2023-07-02 00:25:23] Done 2 out of 10 iterations (x 1000 MC sweeps).\n",
      "[2023-07-02 00:25:32] Done 3 out of 10 iterations (x 1000 MC sweeps).\n",
      "[2023-07-02 00:25:41] Done 4 out of 10 iterations (x 1000 MC sweeps).\n",
      "[2023-07-02 00:25:49] Done 5 out of 10 iterations (x 1000 MC sweeps).\n",
      "[2023-07-02 00:25:57] Done 6 out of 10 iterations (x 1000 MC sweeps).\n",
      "[2023-07-02 00:26:04] Done 7 out of 10 iterations (x 1000 MC sweeps).\n",
      "[2023-07-02 00:26:12] Done 8 out of 10 iterations (x 1000 MC sweeps).\n",
      "[2023-07-02 00:26:21] Done 9 out of 10 iterations (x 1000 MC sweeps).\n",
      "[2023-07-02 00:26:25] Done 10 out of 10 iterations (x 1000 MC sweeps).\n",
      "\n"
     ]
    },
    {
     "data": {
      "text/plain": [
       "PosixPath('/home/toriy/yoav/trisurf-python/trisurf_test/2023_07_02_main/test_results/reset_statistics.csv')"
      ]
     },
     "execution_count": 12,
     "metadata": {},
     "output_type": "execute_result"
    }
   ],
   "source": [
    "print(ret.stdout.decode())\n",
    "with open(test_folder/\"test_results\"/\"reset_stdout.txt\",'w') as f: \n",
    "    f.write(ret.stdout.decode()+'\\n'+ret.stderr.decode())\n",
    "shutil.copy(test_folder/\"statistics.csv\",test_folder/\"test_results\"/\"reset_statistics.csv\")"
   ]
  },
  {
   "cell_type": "markdown",
   "id": "329af7f6-84a2-4c28-8d08-74164f4ff7a3",
   "metadata": {},
   "source": [
    "## Check start from vtu ##"
   ]
  },
  {
   "cell_type": "code",
   "execution_count": 13,
   "id": "4ac1febc-704d-4a0b-b941-8d8eab0e5f66",
   "metadata": {},
   "outputs": [],
   "source": [
    "test_folder.joinpath('.status').unlink() # remove status so it resets iterations"
   ]
  },
  {
   "cell_type": "code",
   "execution_count": 14,
   "id": "ce7f8453-feec-4016-b073-21fe3f818b88",
   "metadata": {},
   "outputs": [],
   "source": [
    "ret = subprocess.run([ts.path_to_trisurf/\"src/trisurf\",\n",
    "                      \"--restore-from-vtk\",'timestep_000000.vtu', *extra_args],\n",
    "                     cwd=test_folder, timeout=timeout, capture_output=True)"
   ]
  },
  {
   "cell_type": "code",
   "execution_count": 15,
   "id": "0d4ccc5a-f66d-4fc9-88b5-41c7f112dd3a",
   "metadata": {
    "scrolled": true,
    "tags": []
   },
   "outputs": [
    {
     "name": "stdout",
     "output_type": "stream",
     "text": [
      "[2023-07-02 00:26:26] TRISURF-NG v. 13597e6, compiled on: Jul  1 2023 02:04:58.\n",
      "[2023-07-02 00:26:26] Programming done by: Samo Penic and Miha Fosnaric\n",
      "[2023-07-02 00:26:26] Released under terms of GPLv3\n",
      "[2023-07-02 00:26:26] Starting program...\n",
      "\n",
      "[2023-07-02 00:26:26] ************************************************\n",
      "[2023-07-02 00:26:26] **** Restoring vesicle from VTK points list ****\n",
      "[2023-07-02 00:26:26] ************************************************\n",
      "\n",
      "[2023-07-02 00:26:26] No .status file. The iteration count will start from 0\n",
      "[2023-07-02 00:26:26] simulation seed 1688246786\n",
      "[2023-07-02 00:26:26] Setting volume V0=1656.13771250929357848\n",
      "[2023-07-02 00:26:26] Setting area A0=697.43564016036123121\n",
      "[2023-07-02 00:26:35] Done 1 out of 10 iterations (x 1000 MC sweeps).\n",
      "[2023-07-02 00:26:42] Done 2 out of 10 iterations (x 1000 MC sweeps).\n",
      "[2023-07-02 00:26:52] Done 3 out of 10 iterations (x 1000 MC sweeps).\n",
      "[2023-07-02 00:27:01] Done 4 out of 10 iterations (x 1000 MC sweeps).\n",
      "[2023-07-02 00:27:08] Done 5 out of 10 iterations (x 1000 MC sweeps).\n",
      "[2023-07-02 00:27:19] Done 6 out of 10 iterations (x 1000 MC sweeps).\n",
      "[2023-07-02 00:27:26] Done 7 out of 10 iterations (x 1000 MC sweeps).\n",
      "[2023-07-02 00:27:31] Done 8 out of 10 iterations (x 1000 MC sweeps).\n",
      "[2023-07-02 00:27:36] Done 9 out of 10 iterations (x 1000 MC sweeps).\n",
      "[2023-07-02 00:27:41] Done 10 out of 10 iterations (x 1000 MC sweeps).\n",
      "\n"
     ]
    },
    {
     "data": {
      "text/plain": [
       "PosixPath('/home/toriy/yoav/trisurf-python/trisurf_test/2023_07_02_main/test_results/restore_statistics.csv')"
      ]
     },
     "execution_count": 15,
     "metadata": {},
     "output_type": "execute_result"
    }
   ],
   "source": [
    "print(ret.stdout.decode())\n",
    "with open(test_folder/\"test_results\"/\"restore_stdout.txt\",'w') as f: \n",
    "    f.write(ret.stdout.decode()+'\\n'+ret.stderr.decode())\n",
    "shutil.copy(test_folder/\"statistics.csv\",test_folder/\"test_results\"/\"restore_statistics.csv\")"
   ]
  },
  {
   "cell_type": "markdown",
   "id": "75fcdd6f-d5cb-4446-a870-307f64dc345d",
   "metadata": {},
   "source": [
    "### **Files will be cleaned up at the end of the script!** ###"
   ]
  },
  {
   "cell_type": "markdown",
   "id": "04ef0298-bbc4-4706-b875-b100868689a5",
   "metadata": {},
   "source": [
    "## More tests ##"
   ]
  },
  {
   "cell_type": "markdown",
   "id": "ebea2d98-2225-4316-974c-860dcf9ce726",
   "metadata": {},
   "source": [
    "Load last file as both PyVtu and vesicle. See what is the difference"
   ]
  },
  {
   "cell_type": "code",
   "execution_count": 16,
   "id": "a951071a-bb98-44c9-b621-4f1525788b87",
   "metadata": {},
   "outputs": [
    {
     "data": {
      "text/plain": [
       "PosixPath('/home/toriy/yoav/trisurf-python/trisurf_test/2023_07_02_main/timestep_000009.vtu')"
      ]
     },
     "execution_count": 16,
     "metadata": {},
     "output_type": "execute_result"
    }
   ],
   "source": [
    "try:\n",
    "    fileloc = list(sorted(test_folder.glob('timestep*')))[-1]\n",
    "except NameError:\n",
    "    test_folder = list(sorted(trisurf_test.glob('./[!.]*')))[-1]\n",
    "    fileloc = list(sorted(test_folder.glob('timestep*')))[-1]\n",
    "fileloc"
   ]
  },
  {
   "cell_type": "code",
   "execution_count": 17,
   "id": "a25315f9-0a60-4446-a010-c5f3698c812d",
   "metadata": {},
   "outputs": [],
   "source": [
    "vesicle = ts.parseDump(fileloc)"
   ]
  },
  {
   "cell_type": "code",
   "execution_count": 18,
   "id": "1bc9f5f8-cbd6-444c-8b45-94cd7fe4ac92",
   "metadata": {},
   "outputs": [],
   "source": [
    "v = PyVtu(fileloc)\n",
    "v2 = PyVtu(fileloc) # we will place here the values from vesicle"
   ]
  },
  {
   "cell_type": "markdown",
   "id": "b56e0ada-f0b1-4cbe-8bcc-4c68d89507f7",
   "metadata": {},
   "source": [
    "Find the fields of the vesicle"
   ]
  },
  {
   "cell_type": "code",
   "execution_count": 19,
   "id": "193d1b48-f629-45a7-b2a6-a70686b57e98",
   "metadata": {
    "scrolled": true,
    "tags": []
   },
   "outputs": [
    {
     "data": {
      "text/plain": [
       "['x',\n",
       " 'y',\n",
       " 'z',\n",
       " 'mean_curvature',\n",
       " 'gaussian_curvature',\n",
       " 'mean_energy',\n",
       " 'gaussian_energy',\n",
       " 'energy',\n",
       " 'xk',\n",
       " 'xk2',\n",
       " 'w',\n",
       " 'c',\n",
       " 'nx',\n",
       " 'ny',\n",
       " 'nz',\n",
       " 'nx2',\n",
       " 'ny2',\n",
       " 'nz2',\n",
       " 'f',\n",
       " 'fx',\n",
       " 'fy',\n",
       " 'fz',\n",
       " 'ad_w',\n",
       " 'd',\n",
       " 'dx',\n",
       " 'dy',\n",
       " 'dz',\n",
       " 'eig0',\n",
       " 'eig1',\n",
       " 'eig2',\n",
       " 'eig_v0',\n",
       " 'eig_v1',\n",
       " 'eig_v2',\n",
       " 'area',\n",
       " 'S',\n",
       " 'mean_curvature2',\n",
       " 'gaussian_curvature2',\n",
       " 'mean_energy2',\n",
       " 'gaussian_energy2',\n",
       " 'neigh',\n",
       " 'tristar',\n",
       " 'bond',\n",
       " 'cell',\n",
       " 'grafted_poly',\n",
       " 'cluster',\n",
       " 'idx',\n",
       " 'id',\n",
       " 'neigh_no',\n",
       " 'tristar_no',\n",
       " 'bond_no',\n",
       " 'type']"
      ]
     },
     "execution_count": 19,
     "metadata": {},
     "output_type": "execute_result"
    }
   ],
   "source": [
    "vertex_fields = [x[0] for x in ts.ts_vertex._fields_]\n",
    "vertex_fields"
   ]
  },
  {
   "cell_type": "code",
   "execution_count": 20,
   "id": "3a4a9833-b4e8-4252-ae69-5ae433adf829",
   "metadata": {},
   "outputs": [
    {
     "data": {
      "text/plain": [
       "['xnorm',\n",
       " 'ynorm',\n",
       " 'znorm',\n",
       " 'xcirc',\n",
       " 'ycirc',\n",
       " 'zcirc',\n",
       " 'area',\n",
       " 'volume',\n",
       " 'energy',\n",
       " 'vertex',\n",
       " 'neigh',\n",
       " 'idx',\n",
       " 'neigh_no']"
      ]
     },
     "execution_count": 20,
     "metadata": {},
     "output_type": "execute_result"
    }
   ],
   "source": [
    "bond_fields = [x[0] for x in ts.ts_bond._fields_]\n",
    "triangle_fields = [x[0] for x in ts.ts_triangle._fields_]\n",
    "triangle_fields"
   ]
  },
  {
   "cell_type": "markdown",
   "id": "9c80330c-c699-4462-91d9-c1b665b35a31",
   "metadata": {},
   "source": [
    "Replace values from vesicle. This will change with versions!"
   ]
  },
  {
   "cell_type": "code",
   "execution_count": 21,
   "id": "53f95116-476f-47ea-be82-4bb01acc6ebe",
   "metadata": {},
   "outputs": [],
   "source": [
    "def field_from(vesicle,field=None,lst='vlist'):\n",
    "    try:\n",
    "        return np.array([v.__getattribute__(field) for v in ts.iter_xlist(vesicle,lst)])\n",
    "    except AttributeError:\n",
    "        return None\n",
    "def vector_field_from(vesicle,fields,lst='vlist'):\n",
    "    try:\n",
    "        return np.array([tuple(v.__getattribute__(field) for field in fields) for v in ts.iter_xlist(vesicle,lst)])\n",
    "    except AttributeError:\n",
    "        return None\n",
    "\n",
    "def array_field_from(vesicle,field,lst='vlist'):\n",
    "    try:\n",
    "        return np.array([v.__getattribute__(field)[:] for v in ts.iter_xlist(vesicle,lst)])\n",
    "    except AttributeError:\n",
    "        return None\n",
    "\n",
    "def replace_pyvtu_values_from_vesicle(v,vesicle):\n",
    "    \"\"\"Replace the values the PyVtu arrays with values from the wrapper.\"\"\"\n",
    "    blen = vesicle.contents.blist.contents.n\n",
    "    tlen = vesicle.contents.tlist.contents.n\n",
    "    v.add_array('pos',vector_field_from(vesicle,('x','y','z')))\n",
    "    v.add_array('neigh_no',field_from(vesicle,'neigh_no'))\n",
    "    v.add_array('c0',field_from(vesicle,'c'))\n",
    "    v.add_array('e',field_from(vesicle,'energy'))\n",
    "    # newer version stuff (can fail but who cares?)\n",
    "    v.add_array('w',field_from(vesicle,'w'))\n",
    "    v.add_array('f0',field_from(vesicle,'f'))\n",
    "    v.add_array('normal',vector_field_from(vesicle,['nx','ny','nz']))\n",
    "    v.add_array('force',vector_field_from(vesicle,['fx','fy','fz']))\n",
    "    v.add_array('e',field_from(vesicle,'energy'))\n",
    "    if 'xnorm' in triangle_fields:\n",
    "        v.add_array('face_normal',np.concatenate((np.zeros((blen,3)),vector_field_from(vesicle,('xnorm','ynorm','znorm'),'tlist'))),parent='CellData')\n",
    "    v.add_array('ad_w',field_from(vesicle,'ad_w'))\n",
    "    if 'type' in vertex_fields:\n",
    "        v.add_array('type', np.array([ts.byte_to_int(v.type) for v in ts.iter_xlist(vesicle)]))\n",
    "    v.add_array('k',field_from(vesicle,'k'))\n",
    "    v.add_array('k2',field_from(vesicle,'k2'))\n",
    "    v.add_array('area',field_from(vesicle,'area'))\n",
    "    v.add_array('gaussian_curvature',field_from(vesicle,'gaussian_curvature'))\n",
    "    v.add_array('mean_curvature',field_from(vesicle,'mean_curvature'))\n",
    "    v.add_array('gaussian_curvature',field_from(vesicle,'gaussian_curvature'))\n",
    "    v.add_array('director',vector_field_from(vesicle,('dx','dy','dz')))\n",
    "    v.add_array('mean_curvature2',field_from(vesicle,'mean_curvature2'))\n",
    "    v.add_array('gaussian_curvature2',field_from(vesicle,'gaussian_curvature2'))\n",
    "    v.add_array('eig0',array_field_from(vesicle,'eig0'))\n",
    "    v.add_array('eig1',array_field_from(vesicle,'eig1'))\n",
    "    v.add_array('eig2',array_field_from(vesicle,'eig2'))\n",
    "    v.add_array('eigenvalue_0',field_from(vesicle,'eig_v0'))\n",
    "    v.add_array('eigenvalue_1',field_from(vesicle,'eig_v1'))\n",
    "    v.add_array('eigenvalue_2',field_from(vesicle,'eig_v2'))\n",
    "\n",
    "    if 'xcirc' in triangle_fields:\n",
    "        v.add_array('circumcenter',np.concatenate((np.zeros((blen,3)),vector_field_from(vesicle,('xcirc','ycirc','zcirc'),'tlist'))),parent='CellData')\n",
    "    if 'S' in vertex_fields:\n",
    "        v.add_array('dSd',np.array([x.S[0] for x in ts.iter_xlist(vesicle)]))\n",
    "        v.add_array('dSt',np.array([x.S[1] for x in ts.iter_xlist(vesicle)]))\n",
    "        v.add_array('tSd',np.array([x.S[2] for x in ts.iter_xlist(vesicle)]))\n",
    "        v.add_array('tSt',np.array([x.S[3] for x in ts.iter_xlist(vesicle)]))\n",
    "    v.add_array('tangent',np.cross(v.normal,v.director))\n",
    "    \n",
    "    v.add_array('mean_curvature3',v.mean_curvature+0)\n",
    "    v.add_array('gaussian_curvature3',v.gaussian_curvature+0)\n",
    "    v.add_array('normal3',v.normal+0)\n",
    "    for i, vtx in enumerate(ts.iter_xlist(vesicle)):\n",
    "        vtx_copy=ts.ts_vertex(**{field:vtx.__getattribute__(field) for field in vertex_fields})\n",
    "        ts.tensor_curvature_energy2(vesicle,ts.pointer(vtx_copy))\n",
    "        v.mean_curvature3[i]=vtx_copy.mean_curvature\n",
    "        v.gaussian_curvature3[i]=vtx_copy.gaussian_curvature\n",
    "        v.normal3[i]=vtx_copy.nx,vtx_copy.ny,vtx_copy.nz\n",
    "    "
   ]
  },
  {
   "cell_type": "code",
   "execution_count": 22,
   "id": "67a55728-f7a2-4c3a-8377-37b718a3af43",
   "metadata": {},
   "outputs": [],
   "source": [
    "try:\n",
    "    replace_pyvtu_values_from_vesicle(v2,vesicle)\n",
    "except AttributeError as e:\n",
    "    print(f'partial replacement: {e}')"
   ]
  },
  {
   "cell_type": "markdown",
   "id": "c71011f0-91ec-485f-b4ed-66f995ec7f95",
   "metadata": {},
   "source": [
    "## Neighbor counts"
   ]
  },
  {
   "cell_type": "code",
   "execution_count": 23,
   "id": "14c0e5fc-f019-4a54-a49f-6ca8f5397fc7",
   "metadata": {},
   "outputs": [],
   "source": [
    "_, counts = np.unique(v.blist, return_counts=True)\n",
    "assert (counts==v2.neigh_no).all()"
   ]
  },
  {
   "cell_type": "markdown",
   "id": "d2c0a22a-e429-4943-b409-80cefe4f1b9f",
   "metadata": {},
   "source": [
    "## Check that neighbors are ordered"
   ]
  },
  {
   "cell_type": "markdown",
   "id": "95f2b9e8-62bf-44cb-8ad8-49365f1991eb",
   "metadata": {},
   "source": [
    "They should be ordered, but the array might be circularly shifted i.e. `[0,1,2]==[2,0,1]` but not `[2,1,0]` or `[3,1,2]`"
   ]
  },
  {
   "cell_type": "code",
   "execution_count": 24,
   "id": "6201209b-7e99-475e-935a-6891a2a5c3d4",
   "metadata": {},
   "outputs": [],
   "source": [
    "ordered=[]\n",
    "ordered_identical=[]\n",
    "for i in v.indices:\n",
    "    vtx = vesicle.contents.vlist.contents.vtx[i].contents\n",
    "    neighs = np.array([x.contents.idx for x in vtx.neigh[:vtx.neigh_no]])\n",
    "    neighs_v = v.get_ordered_neighbors(i)\n",
    "    ordered_identical.append((neighs==neighs_v).all())\n",
    "    ordered.append(any([(neighs==np.roll(neighs_v,i)).all() for i, _ in enumerate(neighs) ]))"
   ]
  },
  {
   "cell_type": "code",
   "execution_count": 25,
   "id": "fa5d4a54-a1cb-4bc9-873b-37c4fb03e331",
   "metadata": {},
   "outputs": [
    {
     "data": {
      "text/plain": [
       "(True, False)"
      ]
     },
     "execution_count": 25,
     "metadata": {},
     "output_type": "execute_result"
    }
   ],
   "source": [
    "assert all(ordered)\n",
    "all(ordered), all(ordered_identical) # should be (True,False)"
   ]
  },
  {
   "cell_type": "markdown",
   "id": "a32639ee-abac-4098-b744-0100f4a02856",
   "metadata": {},
   "source": [
    "### Make sure all values are close"
   ]
  },
  {
   "cell_type": "code",
   "execution_count": 26,
   "id": "c63cfbf3-f023-498f-ba42-3cf6d6be8d37",
   "metadata": {},
   "outputs": [
    {
     "data": {
      "text/plain": [
       "{'pos': True,\n",
       " 'blist': True,\n",
       " 'tlist': True,\n",
       " 'indices': True,\n",
       " 'type': True,\n",
       " 'c0': True,\n",
       " 'w': True,\n",
       " 'f0': True,\n",
       " 'ad_w': True,\n",
       " 'd0': True,\n",
       " 'mean_curvature': True,\n",
       " 'gaussian_curvature': True,\n",
       " 'k': True,\n",
       " 'k2': True,\n",
       " 'mean_curvature2': True,\n",
       " 'gaussian_curvature2': True,\n",
       " 'area': True,\n",
       " 'e': True,\n",
       " 'mean_energy': True,\n",
       " 'gaussian_energy': True,\n",
       " 'normal': True,\n",
       " 'force': False,\n",
       " 'director': True,\n",
       " 'eig0': True,\n",
       " 'eig1': True,\n",
       " 'bonding_energy': True,\n",
       " 'face_normal': True}"
      ]
     },
     "execution_count": 26,
     "metadata": {},
     "output_type": "execute_result"
    }
   ],
   "source": [
    "close_arrays={k:np.allclose(v._arrays[k],v2._arrays[k]) for k in v._arrays}\n",
    "close_arrays"
   ]
  },
  {
   "cell_type": "markdown",
   "id": "bc8b697c-cd9d-4129-b94a-be48f2f8bff9",
   "metadata": {},
   "source": [
    "#### check gaussian nonesense"
   ]
  },
  {
   "cell_type": "code",
   "execution_count": 27,
   "id": "0946edd7-16ee-41be-8399-fbf4d405fe57",
   "metadata": {},
   "outputs": [
    {
     "name": "stdout",
     "output_type": "stream",
     "text": [
      "gaussian curvature: max difference: 7.6328e-17, avg ± std: -3.7164e-19 ± 1.4914e-17\n"
     ]
    }
   ],
   "source": [
    "if 'gaussian_curvature' in v._arrays:\n",
    "    gdiff = v.gaussian_curvature-v.gaussian_curvature2\n",
    "    print(f'gaussian curvature: max difference: {gdiff.max():.4e},'\n",
    "          f' avg ± std: {gdiff.mean():.4e} ± {gdiff.std():.4e}')"
   ]
  },
  {
   "cell_type": "code",
   "execution_count": 28,
   "id": "7ca49342-26a8-459c-a75c-488711da01ca",
   "metadata": {},
   "outputs": [
    {
     "data": {
      "text/plain": [
       "{'force': 'max difference: 9.9256e-02, avg ± std: 2.1294e-05 ± 6.0366e-03'}"
      ]
     },
     "execution_count": 28,
     "metadata": {},
     "output_type": "execute_result"
    }
   ],
   "source": [
    "big_diffs = {k:(v._arrays[k]-v2._arrays[k])\n",
    "             for k,val in close_arrays.items() if not val}\n",
    "{k: f'max difference: {v.max():.4e}, avg ± std: {v.mean():.4e} ± {v.std():.4e}' for k, v in big_diffs.items()}"
   ]
  },
  {
   "cell_type": "code",
   "execution_count": 29,
   "id": "2329532f-87c4-4190-945e-3f557fcaa9d9",
   "metadata": {},
   "outputs": [
    {
     "data": {
      "text/html": [
       "<div>\n",
       "<style scoped>\n",
       "    .dataframe tbody tr th:only-of-type {\n",
       "        vertical-align: middle;\n",
       "    }\n",
       "\n",
       "    .dataframe tbody tr th {\n",
       "        vertical-align: top;\n",
       "    }\n",
       "\n",
       "    .dataframe thead th {\n",
       "        text-align: right;\n",
       "    }\n",
       "</style>\n",
       "<table border=\"1\" class=\"dataframe\">\n",
       "  <thead>\n",
       "    <tr style=\"text-align: right;\">\n",
       "      <th></th>\n",
       "      <th>indices</th>\n",
       "      <th>type</th>\n",
       "      <th>c0</th>\n",
       "      <th>w</th>\n",
       "      <th>f0</th>\n",
       "      <th>ad_w</th>\n",
       "      <th>d0</th>\n",
       "      <th>mean_curvature</th>\n",
       "      <th>gaussian_curvature</th>\n",
       "      <th>k</th>\n",
       "      <th>k2</th>\n",
       "      <th>mean_curvature2</th>\n",
       "      <th>gaussian_curvature2</th>\n",
       "      <th>area</th>\n",
       "      <th>e</th>\n",
       "      <th>mean_energy</th>\n",
       "      <th>gaussian_energy</th>\n",
       "    </tr>\n",
       "  </thead>\n",
       "  <tbody>\n",
       "    <tr>\n",
       "      <th>count</th>\n",
       "      <td>502.000000</td>\n",
       "      <td>502.000000</td>\n",
       "      <td>502.000000</td>\n",
       "      <td>502.000000</td>\n",
       "      <td>502.000000</td>\n",
       "      <td>502.0</td>\n",
       "      <td>502.000000</td>\n",
       "      <td>502.000000</td>\n",
       "      <td>502.000000</td>\n",
       "      <td>502.0</td>\n",
       "      <td>502.0</td>\n",
       "      <td>502.000000</td>\n",
       "      <td>502.000000</td>\n",
       "      <td>502.000000</td>\n",
       "      <td>502.000000</td>\n",
       "      <td>502.000000</td>\n",
       "      <td>502.000000</td>\n",
       "    </tr>\n",
       "    <tr>\n",
       "      <th>mean</th>\n",
       "      <td>250.500000</td>\n",
       "      <td>8.282869</td>\n",
       "      <td>0.049801</td>\n",
       "      <td>0.099602</td>\n",
       "      <td>0.099602</td>\n",
       "      <td>1.0</td>\n",
       "      <td>0.049801</td>\n",
       "      <td>0.156836</td>\n",
       "      <td>0.019183</td>\n",
       "      <td>20.0</td>\n",
       "      <td>-20.0</td>\n",
       "      <td>0.155768</td>\n",
       "      <td>0.019183</td>\n",
       "      <td>1.396246</td>\n",
       "      <td>1.219649</td>\n",
       "      <td>1.493271</td>\n",
       "      <td>-0.273622</td>\n",
       "    </tr>\n",
       "    <tr>\n",
       "      <th>std</th>\n",
       "      <td>145.059183</td>\n",
       "      <td>12.889971</td>\n",
       "      <td>0.149883</td>\n",
       "      <td>0.299767</td>\n",
       "      <td>0.299767</td>\n",
       "      <td>0.0</td>\n",
       "      <td>0.149883</td>\n",
       "      <td>0.112646</td>\n",
       "      <td>0.040222</td>\n",
       "      <td>0.0</td>\n",
       "      <td>0.0</td>\n",
       "      <td>0.111692</td>\n",
       "      <td>0.040222</td>\n",
       "      <td>0.138944</td>\n",
       "      <td>1.005075</td>\n",
       "      <td>1.667463</td>\n",
       "      <td>0.884232</td>\n",
       "    </tr>\n",
       "    <tr>\n",
       "      <th>min</th>\n",
       "      <td>0.000000</td>\n",
       "      <td>4.000000</td>\n",
       "      <td>0.000000</td>\n",
       "      <td>0.000000</td>\n",
       "      <td>0.000000</td>\n",
       "      <td>1.0</td>\n",
       "      <td>0.000000</td>\n",
       "      <td>-0.134036</td>\n",
       "      <td>-0.066169</td>\n",
       "      <td>20.0</td>\n",
       "      <td>-20.0</td>\n",
       "      <td>-0.134036</td>\n",
       "      <td>-0.066169</td>\n",
       "      <td>1.001258</td>\n",
       "      <td>0.008835</td>\n",
       "      <td>0.000002</td>\n",
       "      <td>-5.596283</td>\n",
       "    </tr>\n",
       "    <tr>\n",
       "      <th>25%</th>\n",
       "      <td>125.250000</td>\n",
       "      <td>4.000000</td>\n",
       "      <td>0.000000</td>\n",
       "      <td>0.000000</td>\n",
       "      <td>0.000000</td>\n",
       "      <td>1.0</td>\n",
       "      <td>0.000000</td>\n",
       "      <td>0.076981</td>\n",
       "      <td>-0.005101</td>\n",
       "      <td>20.0</td>\n",
       "      <td>-20.0</td>\n",
       "      <td>0.076981</td>\n",
       "      <td>-0.005101</td>\n",
       "      <td>1.293072</td>\n",
       "      <td>0.482454</td>\n",
       "      <td>0.249919</td>\n",
       "      <td>-0.636588</td>\n",
       "    </tr>\n",
       "    <tr>\n",
       "      <th>50%</th>\n",
       "      <td>250.500000</td>\n",
       "      <td>4.000000</td>\n",
       "      <td>0.000000</td>\n",
       "      <td>0.000000</td>\n",
       "      <td>0.000000</td>\n",
       "      <td>1.0</td>\n",
       "      <td>0.000000</td>\n",
       "      <td>0.148880</td>\n",
       "      <td>0.006694</td>\n",
       "      <td>20.0</td>\n",
       "      <td>-20.0</td>\n",
       "      <td>0.148563</td>\n",
       "      <td>0.006694</td>\n",
       "      <td>1.395669</td>\n",
       "      <td>0.950597</td>\n",
       "      <td>0.971284</td>\n",
       "      <td>-0.062699</td>\n",
       "    </tr>\n",
       "    <tr>\n",
       "      <th>75%</th>\n",
       "      <td>375.750000</td>\n",
       "      <td>4.000000</td>\n",
       "      <td>0.000000</td>\n",
       "      <td>0.000000</td>\n",
       "      <td>0.000000</td>\n",
       "      <td>1.0</td>\n",
       "      <td>0.000000</td>\n",
       "      <td>0.228207</td>\n",
       "      <td>0.033135</td>\n",
       "      <td>20.0</td>\n",
       "      <td>-20.0</td>\n",
       "      <td>0.225948</td>\n",
       "      <td>0.033135</td>\n",
       "      <td>1.494857</td>\n",
       "      <td>1.686859</td>\n",
       "      <td>2.287298</td>\n",
       "      <td>0.226498</td>\n",
       "    </tr>\n",
       "    <tr>\n",
       "      <th>max</th>\n",
       "      <td>501.000000</td>\n",
       "      <td>47.000000</td>\n",
       "      <td>0.500000</td>\n",
       "      <td>1.000000</td>\n",
       "      <td>1.000000</td>\n",
       "      <td>1.0</td>\n",
       "      <td>0.500000</td>\n",
       "      <td>0.570085</td>\n",
       "      <td>0.233844</td>\n",
       "      <td>20.0</td>\n",
       "      <td>-20.0</td>\n",
       "      <td>0.570085</td>\n",
       "      <td>0.233844</td>\n",
       "      <td>1.826724</td>\n",
       "      <td>7.783330</td>\n",
       "      <td>13.379613</td>\n",
       "      <td>2.617151</td>\n",
       "    </tr>\n",
       "  </tbody>\n",
       "</table>\n",
       "</div>"
      ],
      "text/plain": [
       "          indices        type          c0           w          f0   ad_w  \\\n",
       "count  502.000000  502.000000  502.000000  502.000000  502.000000  502.0   \n",
       "mean   250.500000    8.282869    0.049801    0.099602    0.099602    1.0   \n",
       "std    145.059183   12.889971    0.149883    0.299767    0.299767    0.0   \n",
       "min      0.000000    4.000000    0.000000    0.000000    0.000000    1.0   \n",
       "25%    125.250000    4.000000    0.000000    0.000000    0.000000    1.0   \n",
       "50%    250.500000    4.000000    0.000000    0.000000    0.000000    1.0   \n",
       "75%    375.750000    4.000000    0.000000    0.000000    0.000000    1.0   \n",
       "max    501.000000   47.000000    0.500000    1.000000    1.000000    1.0   \n",
       "\n",
       "               d0  mean_curvature  gaussian_curvature      k     k2  \\\n",
       "count  502.000000      502.000000          502.000000  502.0  502.0   \n",
       "mean     0.049801        0.156836            0.019183   20.0  -20.0   \n",
       "std      0.149883        0.112646            0.040222    0.0    0.0   \n",
       "min      0.000000       -0.134036           -0.066169   20.0  -20.0   \n",
       "25%      0.000000        0.076981           -0.005101   20.0  -20.0   \n",
       "50%      0.000000        0.148880            0.006694   20.0  -20.0   \n",
       "75%      0.000000        0.228207            0.033135   20.0  -20.0   \n",
       "max      0.500000        0.570085            0.233844   20.0  -20.0   \n",
       "\n",
       "       mean_curvature2  gaussian_curvature2        area           e  \\\n",
       "count       502.000000           502.000000  502.000000  502.000000   \n",
       "mean          0.155768             0.019183    1.396246    1.219649   \n",
       "std           0.111692             0.040222    0.138944    1.005075   \n",
       "min          -0.134036            -0.066169    1.001258    0.008835   \n",
       "25%           0.076981            -0.005101    1.293072    0.482454   \n",
       "50%           0.148563             0.006694    1.395669    0.950597   \n",
       "75%           0.225948             0.033135    1.494857    1.686859   \n",
       "max           0.570085             0.233844    1.826724    7.783330   \n",
       "\n",
       "       mean_energy  gaussian_energy  \n",
       "count   502.000000       502.000000  \n",
       "mean      1.493271        -0.273622  \n",
       "std       1.667463         0.884232  \n",
       "min       0.000002        -5.596283  \n",
       "25%       0.249919        -0.636588  \n",
       "50%       0.971284        -0.062699  \n",
       "75%       2.287298         0.226498  \n",
       "max      13.379613         2.617151  "
      ]
     },
     "execution_count": 29,
     "metadata": {},
     "output_type": "execute_result"
    }
   ],
   "source": [
    "vertex_dataframe=pd.DataFrame({k:val for k,val in v._arrays.items() if val.shape==v.indices.shape})\n",
    "vertex_dataframe.describe()"
   ]
  },
  {
   "cell_type": "markdown",
   "id": "0aa4cffc-f7b3-4f6b-9495-c454b75d2fd2",
   "metadata": {},
   "source": [
    "#### Destory files"
   ]
  },
  {
   "cell_type": "code",
   "execution_count": 30,
   "id": "8f7d513c-08dd-442f-bcd9-906d7b4f2ea1",
   "metadata": {},
   "outputs": [],
   "source": [
    "if destroy_timesteps_at_end:\n",
    "    files_to_remove = list(test_folder.glob('timestep*'))\n",
    "    excess_files = ('dump.bin','dout','output.pvd','statistics.csv')\n",
    "    files_to_remove.extend(test_folder/x for x in excess_files)\n",
    "    [file.unlink() for file in files_to_remove if file.exists()]"
   ]
  }
 ],
 "metadata": {
  "kernelspec": {
   "display_name": "Python 3 (ipykernel)",
   "language": "python",
   "name": "python3"
  },
  "language_info": {
   "codemirror_mode": {
    "name": "ipython",
    "version": 3
   },
   "file_extension": ".py",
   "mimetype": "text/x-python",
   "name": "python",
   "nbconvert_exporter": "python",
   "pygments_lexer": "ipython3",
   "version": "3.10.9"
  }
 },
 "nbformat": 4,
 "nbformat_minor": 5
}
