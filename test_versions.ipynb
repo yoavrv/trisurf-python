{
 "cells": [
  {
   "cell_type": "code",
   "execution_count": 29,
   "id": "6fb1eb73-42e0-4e25-a768-78f38195ced1",
   "metadata": {},
   "outputs": [],
   "source": [
    "import subprocess, shutil, datetime\n",
    "from pathlib import Path\n",
    "\n",
    "import numpy as np\n",
    "import pandas as pd\n",
    "\n",
    "from vtu import PyVtu\n",
    "from ts_auto_wrapper import TSWrapper"
   ]
  },
  {
   "cell_type": "code",
   "execution_count": 2,
   "id": "8b08fabf-e98d-427b-9ac0-4b76ab3b82ed",
   "metadata": {},
   "outputs": [],
   "source": [
    "ts=TSWrapper(Path(\"/opt/workspace/msc_project/cluster-trisurf\"))\n",
    "# ts=TSWrapper(Path(\"/opt/workspace/msc_project/trisurf_samo/trisurf-ng/\"))\n",
    "trisurf_test = Path('.')/\"trisurf_test\""
   ]
  },
  {
   "cell_type": "code",
   "execution_count": 3,
   "id": "95902940-b7ab-4308-a51c-aaefd047c74b",
   "metadata": {},
   "outputs": [],
   "source": [
    "test_folder=None\n",
    "tape=None\n",
    "extra_args = []\n",
    "destroy_timesteps_at_end=True # destroy all timesteps after the test\n",
    "timeout = 750 # seconds to timeout for each `trisurf` test, fit for samo trisurf with nshell=17"
   ]
  },
  {
   "cell_type": "code",
   "execution_count": 4,
   "id": "4725b413-4a62-411e-a77e-590abcfd772e",
   "metadata": {},
   "outputs": [],
   "source": [
    "test_folder = trisurf_test/'2023_05_29_main_egg_carton'\n",
    "# test_folder = trisurf_test/'2023_05_29_anisotropy_samo_version'\n",
    "extra_args = ['-c adhesion_model=1,adhesion_geometry=6,adhesion_scale=2']\n",
    "destroy_timesteps_at_end=False # destroy all timesteps after the test\n",
    "timeout = 120 # seconds to timeout for each `trisurf` test\n",
    "# timeout = 750"
   ]
  },
  {
   "cell_type": "markdown",
   "id": "aecaa0f9-47b5-4466-a56b-ade891c708d5",
   "metadata": {
    "tags": []
   },
   "source": [
    "### Make a new folder if there isn't one ###"
   ]
  },
  {
   "cell_type": "code",
   "execution_count": 5,
   "id": "fc9a97eb-f1e3-4858-8f2b-eb60bbe00323",
   "metadata": {},
   "outputs": [],
   "source": [
    "new_folder=None\n",
    "if not test_folder:\n",
    "    # make up some appropriate folder\n",
    "    now = datetime.datetime.now()\n",
    "    ret = subprocess.run(['git', 'status'],cwd=ts.path_to_trisurf,capture_output=True)\n",
    "    branch = ret.stdout.decode().partition('On branch ')[-1].splitlines()[0].strip()\n",
    "    new_folder = f'{now.year:04}_{now.month:02}_{now.day:02}_{branch}'\n",
    "    test_folder = trisurf_test/new_folder\n",
    "new_folder"
   ]
  },
  {
   "cell_type": "code",
   "execution_count": 6,
   "id": "b906615e-e9e5-4f0f-8a87-46fdc274a2d1",
   "metadata": {},
   "outputs": [],
   "source": [
    "if not test_folder.exists():\n",
    "    test_folder.mkdir()\n",
    "    test_folder.joinpath('test_results').mkdir()\n",
    "elif new_folder is not None:\n",
    "    raise ValueError(f'folder {test_folder} for today already exists: Rename or delete to run test')"
   ]
  },
  {
   "cell_type": "markdown",
   "id": "2471e511-aa48-47a2-84e5-34230b6f818f",
   "metadata": {},
   "source": [
    "### copy the tape to the new folder ###"
   ]
  },
  {
   "cell_type": "code",
   "execution_count": 7,
   "id": "ddc85171-4026-439c-8a02-415e983e20fb",
   "metadata": {},
   "outputs": [
    {
     "data": {
      "text/plain": [
       "PosixPath('trisurf_test/2023_05_29_main_egg_carton/tape')"
      ]
     },
     "execution_count": 7,
     "metadata": {},
     "output_type": "execute_result"
    }
   ],
   "source": [
    "if tape is None:\n",
    "    tape=ts.path_to_trisurf/\"src/tape\"\n",
    "shutil.copy(tape,test_folder/\"tape\")"
   ]
  },
  {
   "cell_type": "markdown",
   "id": "3068846e-78c1-402b-af5b-5aec881b81cd",
   "metadata": {},
   "source": [
    "## Check force from tape ##"
   ]
  },
  {
   "cell_type": "code",
   "execution_count": 8,
   "id": "9b5e1caa-3663-4661-9104-5878ddf4fce4",
   "metadata": {},
   "outputs": [],
   "source": [
    "ret = subprocess.run([ts.path_to_trisurf/\"src/trisurf\", \"--force-from-tape\", *extra_args],\n",
    "                     cwd=test_folder, timeout=timeout, capture_output=True)"
   ]
  },
  {
   "cell_type": "code",
   "execution_count": 9,
   "id": "9d88fc8b-4eb1-4aae-94aa-b71a010e5b0b",
   "metadata": {
    "scrolled": true,
    "tags": []
   },
   "outputs": [
    {
     "name": "stdout",
     "output_type": "stream",
     "text": [
      "[2023-05-29 15:28:39] TRISURF-NG v. 24764b9, compiled on: May 29 2023 15:25:02.\n",
      "[2023-05-29 15:28:39] Programming done by: Samo Penic and Miha Fosnaric\n",
      "[2023-05-29 15:28:39] Released under terms of GPLv3\n",
      "[2023-05-29 15:28:39] Starting program...\n",
      "\n",
      "[2023-05-29 15:28:39] ************************************************\n",
      "[2023-05-29 15:28:39] **** Generating initial geometry from tape *****\n",
      "[2023-05-29 15:28:39] ************************************************\n",
      "\n",
      "[2023-05-29 15:28:39] Starting initial_distribution on vesicle with 10 shells!...\n",
      "[2023-05-29 15:28:39] initial_distribution finished!\n",
      "[2023-05-29 15:28:39] using debug curvature model 15 (use new energy): set to 7 to use the old energy method\n",
      "[2023-05-29 15:28:39] simulation seed 1685363319\n",
      "[2023-05-29 15:28:39] Setting volume V0=1041.99378875998718286\n",
      "[2023-05-29 15:28:39] Setting area A0=623.53829072480630202\n",
      "[2023-05-29 15:28:41] Done 1 out of 10 iterations (x 1000 MC sweeps).\n",
      "[2023-05-29 15:28:43] Done 2 out of 10 iterations (x 1000 MC sweeps).\n",
      "[2023-05-29 15:28:46] Done 3 out of 10 iterations (x 1000 MC sweeps).\n",
      "[2023-05-29 15:28:48] Done 4 out of 10 iterations (x 1000 MC sweeps).\n",
      "[2023-05-29 15:28:50] Done 5 out of 10 iterations (x 1000 MC sweeps).\n",
      "[2023-05-29 15:28:53] Done 6 out of 10 iterations (x 1000 MC sweeps).\n",
      "[2023-05-29 15:28:56] Done 7 out of 10 iterations (x 1000 MC sweeps).\n",
      "[2023-05-29 15:28:59] Done 8 out of 10 iterations (x 1000 MC sweeps).\n",
      "[2023-05-29 15:29:02] Done 9 out of 10 iterations (x 1000 MC sweeps).\n",
      "[2023-05-29 15:29:05] Done 10 out of 10 iterations (x 1000 MC sweeps).\n",
      "\n"
     ]
    }
   ],
   "source": [
    "with open(test_folder/\"test_results\"/\"force_stdout.txt\",'w') as f: \n",
    "    f.write(ret.stdout.decode()+'\\n'+ret.stderr.decode())\n",
    "shutil.copy(test_folder/\"statistics.csv\",test_folder/\"test_results\"/\"force_statistics.csv\")\n",
    "print(ret.stdout.decode())"
   ]
  },
  {
   "cell_type": "markdown",
   "id": "4b1ad91a-e7c3-49c5-b005-c84cd4fc72ec",
   "metadata": {},
   "source": [
    "## Check start from binary dump ##"
   ]
  },
  {
   "cell_type": "code",
   "execution_count": 10,
   "id": "2d721024-3628-4bec-8994-a50e804e9212",
   "metadata": {},
   "outputs": [],
   "source": [
    "ret = subprocess.run([ts.path_to_trisurf/\"src/trisurf\",\"--reset-iteration-count\", *extra_args],\n",
    "                     cwd=test_folder, timeout=timeout, capture_output=True)"
   ]
  },
  {
   "cell_type": "code",
   "execution_count": 11,
   "id": "6073fefb-963d-4698-ab8d-e4e66b63e8b8",
   "metadata": {
    "scrolled": true,
    "tags": []
   },
   "outputs": [
    {
     "name": "stdout",
     "output_type": "stream",
     "text": [
      "[2023-05-29 15:29:05] TRISURF-NG v. 24764b9, compiled on: May 29 2023 15:25:02.\n",
      "[2023-05-29 15:29:05] Programming done by: Samo Penic and Miha Fosnaric\n",
      "[2023-05-29 15:29:05] Released under terms of GPLv3\n",
      "[2023-05-29 15:29:05] Starting program...\n",
      "\n",
      "[2023-05-29 15:29:05] **********************************************************************\n",
      "[2023-05-29 15:29:05] **** Recreating vesicle from dump file and continuing simulation *****\n",
      "[2023-05-29 15:29:05] **********************************************************************\n",
      "\n",
      "[2023-05-29 15:29:05] using debug curvature model 15 (use new energy): set to 7 to use the old energy method\n",
      "[2023-05-29 15:29:05] simulation seed 1685363345\n",
      "[2023-05-29 15:29:05] Setting volume V0=1619.40294767925843189\n",
      "[2023-05-29 15:29:05] Setting area A0=758.95771961849698073\n",
      "[2023-05-29 15:29:07] Done 1 out of 10 iterations (x 1000 MC sweeps).\n",
      "[2023-05-29 15:29:10] Done 2 out of 10 iterations (x 1000 MC sweeps).\n",
      "[2023-05-29 15:29:13] Done 3 out of 10 iterations (x 1000 MC sweeps).\n",
      "[2023-05-29 15:29:16] Done 4 out of 10 iterations (x 1000 MC sweeps).\n",
      "[2023-05-29 15:29:19] Done 5 out of 10 iterations (x 1000 MC sweeps).\n",
      "[2023-05-29 15:29:22] Done 6 out of 10 iterations (x 1000 MC sweeps).\n",
      "[2023-05-29 15:29:25] Done 7 out of 10 iterations (x 1000 MC sweeps).\n",
      "[2023-05-29 15:29:27] Done 8 out of 10 iterations (x 1000 MC sweeps).\n",
      "[2023-05-29 15:29:30] Done 9 out of 10 iterations (x 1000 MC sweeps).\n",
      "[2023-05-29 15:29:32] Done 10 out of 10 iterations (x 1000 MC sweeps).\n",
      "\n"
     ]
    }
   ],
   "source": [
    "with open(test_folder/\"test_results\"/\"reset_stdout.txt\",'w') as f: \n",
    "    f.write(ret.stdout.decode()+'\\n'+ret.stderr.decode())\n",
    "shutil.copy(test_folder/\"statistics.csv\",test_folder/\"test_results\"/\"reset_statistics.csv\")\n",
    "print(ret.stdout.decode())"
   ]
  },
  {
   "cell_type": "markdown",
   "id": "329af7f6-84a2-4c28-8d08-74164f4ff7a3",
   "metadata": {},
   "source": [
    "## Checking start from vtu ##"
   ]
  },
  {
   "cell_type": "code",
   "execution_count": 12,
   "id": "4ac1febc-704d-4a0b-b941-8d8eab0e5f66",
   "metadata": {},
   "outputs": [],
   "source": [
    "test_folder.joinpath('.status').unlink() # remove status so it resets iterations"
   ]
  },
  {
   "cell_type": "code",
   "execution_count": 13,
   "id": "ce7f8453-feec-4016-b073-21fe3f818b88",
   "metadata": {},
   "outputs": [],
   "source": [
    "ret = subprocess.run([ts.path_to_trisurf/\"src/trisurf\",\n",
    "                      \"--restore-from-vtk\",'timestep_000000.vtu', *extra_args],\n",
    "                     cwd=test_folder, timeout=timeout, capture_output=True)"
   ]
  },
  {
   "cell_type": "code",
   "execution_count": 14,
   "id": "0d4ccc5a-f66d-4fc9-88b5-41c7f112dd3a",
   "metadata": {
    "scrolled": true,
    "tags": []
   },
   "outputs": [
    {
     "name": "stdout",
     "output_type": "stream",
     "text": [
      "[2023-05-29 15:29:32] TRISURF-NG v. 24764b9, compiled on: May 29 2023 15:25:02.\n",
      "[2023-05-29 15:29:32] Programming done by: Samo Penic and Miha Fosnaric\n",
      "[2023-05-29 15:29:32] Released under terms of GPLv3\n",
      "[2023-05-29 15:29:32] Starting program...\n",
      "\n",
      "[2023-05-29 15:29:32] ************************************************\n",
      "[2023-05-29 15:29:32] **** Restoring vesicle from VTK points list ****\n",
      "[2023-05-29 15:29:32] ************************************************\n",
      "\n",
      "[2023-05-29 15:29:32] No .status file. The iteration count will start from 0\n",
      "[2023-05-29 15:29:32] using debug curvature model 15 (use new energy): set to 7 to use the old energy method\n",
      "[2023-05-29 15:29:32] simulation seed 1685363372\n",
      "[2023-05-29 15:29:32] Setting volume V0=1625.83364468069930808\n",
      "[2023-05-29 15:29:32] Setting area A0=760.69137689373678768\n",
      "[2023-05-29 15:29:35] Done 1 out of 10 iterations (x 1000 MC sweeps).\n",
      "[2023-05-29 15:29:37] Done 2 out of 10 iterations (x 1000 MC sweeps).\n",
      "[2023-05-29 15:29:39] Done 3 out of 10 iterations (x 1000 MC sweeps).\n",
      "[2023-05-29 15:29:42] Done 4 out of 10 iterations (x 1000 MC sweeps).\n",
      "[2023-05-29 15:29:44] Done 5 out of 10 iterations (x 1000 MC sweeps).\n",
      "[2023-05-29 15:29:46] Done 6 out of 10 iterations (x 1000 MC sweeps).\n",
      "[2023-05-29 15:29:49] Done 7 out of 10 iterations (x 1000 MC sweeps).\n",
      "[2023-05-29 15:29:51] Done 8 out of 10 iterations (x 1000 MC sweeps).\n",
      "[2023-05-29 15:29:53] Done 9 out of 10 iterations (x 1000 MC sweeps).\n",
      "[2023-05-29 15:29:55] Done 10 out of 10 iterations (x 1000 MC sweeps).\n",
      "\n"
     ]
    }
   ],
   "source": [
    "with open(test_folder/\"test_results\"/\"restore_stdout.txt\",'w') as f: \n",
    "    f.write(ret.stdout.decode()+'\\n'+ret.stderr.decode())\n",
    "shutil.copy(test_folder/\"statistics.csv\",test_folder/\"test_results\"/\"restore_statistics.csv\")\n",
    "print(ret.stdout.decode())"
   ]
  },
  {
   "cell_type": "markdown",
   "id": "75fcdd6f-d5cb-4446-a870-307f64dc345d",
   "metadata": {},
   "source": [
    "Files are cleaned up at the end!"
   ]
  },
  {
   "cell_type": "markdown",
   "id": "04ef0298-bbc4-4706-b875-b100868689a5",
   "metadata": {},
   "source": [
    "## More tests ##"
   ]
  },
  {
   "cell_type": "markdown",
   "id": "ebea2d98-2225-4316-974c-860dcf9ce726",
   "metadata": {},
   "source": [
    "### so far: load 1st file as both PyVtu and vesicle. See what is the difference"
   ]
  },
  {
   "cell_type": "code",
   "execution_count": 15,
   "id": "a951071a-bb98-44c9-b621-4f1525788b87",
   "metadata": {},
   "outputs": [
    {
     "data": {
      "text/plain": [
       "PosixPath('trisurf_test/2023_05_29_main_egg_carton/timestep_000000.vtu')"
      ]
     },
     "execution_count": 15,
     "metadata": {},
     "output_type": "execute_result"
    }
   ],
   "source": [
    "try:\n",
    "    fileloc = list(sorted(test_folder.glob('timestep*')))[-1]\n",
    "except NameError:\n",
    "    test_folder = list(sorted(trisurf_test.glob('./[!.]*')))[-1]\n",
    "    fileloc = list(sorted(test_folder.glob('timestep*')))[-1]\n",
    "fileloc"
   ]
  },
  {
   "cell_type": "code",
   "execution_count": 16,
   "id": "a25315f9-0a60-4446-a010-c5f3698c812d",
   "metadata": {},
   "outputs": [],
   "source": [
    "vesicle = ts.parseDump(fileloc)"
   ]
  },
  {
   "cell_type": "code",
   "execution_count": 17,
   "id": "1bc9f5f8-cbd6-444c-8b45-94cd7fe4ac92",
   "metadata": {},
   "outputs": [],
   "source": [
    "v = PyVtu(fileloc)\n",
    "v2 = PyVtu(fileloc) # we will place here the values from vesicle"
   ]
  },
  {
   "cell_type": "code",
   "execution_count": 18,
   "id": "b9349d0e-2757-4b4e-ac29-2b86785a0698",
   "metadata": {},
   "outputs": [],
   "source": [
    "def iter_xlist(vesiclePtr,xlist_name='vlist'):\n",
    "    \"\"\"Iterate over some vesicle->xlist->xs. Default vesicle->vlist->vtx[:vlist.n].\"\"\"\n",
    "    lst = vesiclePtr.contents.__getattribute__(xlist_name)\n",
    "    if xlist_name=='vlist':\n",
    "        n, lst = lst.contents.n, lst.contents.vtx\n",
    "    elif xlist_name=='clist':\n",
    "        n, lst = lst.contents.cellno, lst.contents.cell\n",
    "    elif xlist_name=='tlist':\n",
    "        n, lst = lst.contents.n, lst.contents.tria\n",
    "    elif xlist_name=='blist':\n",
    "        n, lst = lst.contents.n, lst.contents.bond\n",
    "    else:\n",
    "        raise ValueError(f'{xlist_name} not in vlist,clist,tlist,blist')\n",
    "    for i in range(n):\n",
    "        yield lst[i].contents\n"
   ]
  },
  {
   "cell_type": "code",
   "execution_count": 19,
   "id": "53f95116-476f-47ea-be82-4bb01acc6ebe",
   "metadata": {},
   "outputs": [],
   "source": [
    "def replace_pyvtu_values_from_vesicle(v,vesiclePtr):\n",
    "    \"\"\"Replace the values the PyVtu arrays with values from the wrapper.\"\"\"\n",
    "    blen = vesicle.contents.blist.contents.n\n",
    "    tlen = vesicle.contents.tlist.contents.n\n",
    "    v.pos[:] = [(x.x,x.y,x.z) for x in iter_xlist(vesicle)]\n",
    "    v.add_array('neigh_no',np.array([x.neigh_no for x in iter_xlist(vesicle)]))\n",
    "    v.c0[:] = [x.c for x in iter_xlist(vesicle)]\n",
    "    v.e[:] = [x.energy for x in iter_xlist(vesicle)]\n",
    "    # newer version stuff (can fail but who cares?)\n",
    "    v.w[:] = [x.w for x in iter_xlist(vesicle)]\n",
    "    v.f0[:] = [x.f for x in iter_xlist(vesicle)]\n",
    "    v.face_normal[-tlen:] = np.array([(x.xnorm, x.ynorm, x.znorm) for x in iter_xlist(vesicle,\"tlist\")])\n",
    "    v.normal[:] = [(x.nx,x.ny,x.nz) for x in iter_xlist(vesicle)]\n",
    "    v.force[:] =[(x.fx,x.fy,x.fz) for x in iter_xlist(vesicle)]\n",
    "    v.director[:] = [(x.dx,x.dy,x.dz) for x in iter_xlist(vesicle)]\n",
    "    v.eig0[:] = [x.eig0[:] for x in iter_xlist(vesicle)]\n",
    "    v.eig1[:] = [x.eig1[:] for x in iter_xlist(vesicle)]\n",
    "    v.eig2[:] = [x.eig2[:] for x in iter_xlist(vesicle)]\n",
    "    v.ad_w[:] = [x.ad_w for x in iter_xlist(vesicle)]\n",
    "    v.type[:] = [ts.byte_to_int(x.type) for x in iter_xlist(vesicle)]\n",
    "    v.eigenvalue_0[:] = [x.eig_v0 for x in iter_xlist(vesicle)]\n",
    "    v.eigenvalue_1[:] = [x.eig_v1 for x in iter_xlist(vesicle)]\n",
    "    v.eigenvalue_2[:] = [x.eig_v2 for x in iter_xlist(vesicle)]\n",
    "    v.k[:] = [x.xk for x in iter_xlist(vesicle)]\n",
    "    v.k2[:] = [x.xk2 for x in iter_xlist(vesicle)]\n",
    "    v.mean_curvature[:] = [x.mean_curvature for x in iter_xlist(vesicle)]\n",
    "    v.gaussian_curvature[:] = [x.gaussian_curvature for x in iter_xlist(vesicle)]\n",
    "    v.mean_curvature2[:] = [x.mean_curvature2 for x in iter_xlist(vesicle)]\n",
    "    v.gaussian_curvature2[:] = [x.gaussian_curvature2 for x in iter_xlist(vesicle)]\n",
    "    v.add_array('circumcenter',np.array(([(0,0,0)]*blen)+[(x.xcirc,x.ycirc,x.zcirc) for x in iter_xlist(vesicle,'tlist')]),parent='CellData')\n",
    "    "
   ]
  },
  {
   "cell_type": "code",
   "execution_count": 20,
   "id": "67a55728-f7a2-4c3a-8377-37b718a3af43",
   "metadata": {},
   "outputs": [],
   "source": [
    "try:\n",
    "    replace_pyvtu_values_from_vesicle(v2,vesicle)\n",
    "except AttributeError as e:\n",
    "    print(f'partial replacement: {e}')"
   ]
  },
  {
   "cell_type": "markdown",
   "id": "c71011f0-91ec-485f-b4ed-66f995ec7f95",
   "metadata": {},
   "source": [
    "#### Neighbor counts"
   ]
  },
  {
   "cell_type": "code",
   "execution_count": 21,
   "id": "14c0e5fc-f019-4a54-a49f-6ca8f5397fc7",
   "metadata": {},
   "outputs": [],
   "source": [
    "_, counts = np.unique(v.blist, return_counts=True)\n",
    "assert (counts==v2.neigh_no).all()"
   ]
  },
  {
   "cell_type": "markdown",
   "id": "d2c0a22a-e429-4943-b409-80cefe4f1b9f",
   "metadata": {},
   "source": [
    "#### Neighbors are ordered"
   ]
  },
  {
   "cell_type": "markdown",
   "id": "95f2b9e8-62bf-44cb-8ad8-49365f1991eb",
   "metadata": {},
   "source": [
    "They should be ordered, but the array is circularly shifted i.e. `[0,1,2]==[2,0,1]` but not `[2,1,0]` or `[3,1,2]`"
   ]
  },
  {
   "cell_type": "code",
   "execution_count": 22,
   "id": "6201209b-7e99-475e-935a-6891a2a5c3d4",
   "metadata": {},
   "outputs": [],
   "source": [
    "ordered=[]\n",
    "ordered_identical=[]\n",
    "for i in v.indices:\n",
    "    vtx = vesicle.contents.vlist.contents.vtx[i].contents\n",
    "    neighs = np.array([x.contents.idx for x in vtx.neigh[:vtx.neigh_no]])\n",
    "    neighs_v = v.get_ordered_neighbors(i)\n",
    "    ordered_identical.append((neighs==neighs_v).all())\n",
    "    ordered.append(any([(neighs==np.roll(neighs_v,i)).all() for i, _ in enumerate(neighs) ]))"
   ]
  },
  {
   "cell_type": "code",
   "execution_count": 23,
   "id": "fa5d4a54-a1cb-4bc9-873b-37c4fb03e331",
   "metadata": {},
   "outputs": [
    {
     "data": {
      "text/plain": [
       "(True, False)"
      ]
     },
     "execution_count": 23,
     "metadata": {},
     "output_type": "execute_result"
    }
   ],
   "source": [
    "assert all(ordered)\n",
    "all(ordered), all(ordered_identical) # should be (True,False)"
   ]
  },
  {
   "cell_type": "markdown",
   "id": "a32639ee-abac-4098-b744-0100f4a02856",
   "metadata": {},
   "source": [
    "### Make sure all values are close"
   ]
  },
  {
   "cell_type": "code",
   "execution_count": 24,
   "id": "c63cfbf3-f023-498f-ba42-3cf6d6be8d37",
   "metadata": {},
   "outputs": [
    {
     "data": {
      "text/plain": [
       "{'pos': True,\n",
       " 'blist': True,\n",
       " 'tlist': True,\n",
       " 'indices': True,\n",
       " 'type': True,\n",
       " 'c0': True,\n",
       " 'w': True,\n",
       " 'f0': True,\n",
       " 'ad_w': True,\n",
       " 'd0': True,\n",
       " 'mean_curvature': True,\n",
       " 'gaussian_curvature': True,\n",
       " 'mean_curvature2': True,\n",
       " 'gaussian_curvature2': True,\n",
       " 'eigenvalue_0': True,\n",
       " 'eigenvalue_1': True,\n",
       " 'eigenvalue_2': True,\n",
       " 'k': True,\n",
       " 'k2': True,\n",
       " 'e': False,\n",
       " 'mean_energy': True,\n",
       " 'gaussian_energy': True,\n",
       " 'mean_energy2': True,\n",
       " 'gaussian_energy2': True,\n",
       " 'normal': True,\n",
       " 'normal_unused_debug': True,\n",
       " 'force': False,\n",
       " 'director': False,\n",
       " 'eig0': False,\n",
       " 'eig1': False,\n",
       " 'eig2': True,\n",
       " 'bonding_energy': True,\n",
       " 'face_normal': True}"
      ]
     },
     "execution_count": 24,
     "metadata": {},
     "output_type": "execute_result"
    }
   ],
   "source": [
    "close_arrays={k:np.allclose(v._arrays[k],v2._arrays[k]) for k in v._arrays}\n",
    "close_arrays"
   ]
  },
  {
   "cell_type": "markdown",
   "id": "bc8b697c-cd9d-4129-b94a-be48f2f8bff9",
   "metadata": {},
   "source": [
    "#### check gaussian nonesense"
   ]
  },
  {
   "cell_type": "code",
   "execution_count": 27,
   "id": "0946edd7-16ee-41be-8399-fbf4d405fe57",
   "metadata": {},
   "outputs": [
    {
     "name": "stdout",
     "output_type": "stream",
     "text": [
      "gaussian curvature: max difference: 9.1898e-02, avg ± std: 5.8667e-03 ± 1.3730e-02\n"
     ]
    }
   ],
   "source": [
    "if 'gaussian_curvature' in v._arrays:\n",
    "    gdiff = v.gaussian_curvature-v.gaussian_curvature2\n",
    "    print(f'gaussian curvature: max difference: {gdiff.max():.4e},'\n",
    "          f' avg ± std: {gdiff.mean():.4e} ± {gdiff.std():.4e}')"
   ]
  },
  {
   "cell_type": "code",
   "execution_count": 25,
   "id": "7ca49342-26a8-459c-a75c-488711da01ca",
   "metadata": {},
   "outputs": [
    {
     "data": {
      "text/plain": [
       "{'e': 'max difference: 4.9208e-03, avg ± std: -7.4949e-05 ± 1.0177e-03',\n",
       " 'force': 'max difference: 4.5151e-02, avg ± std: 1.1332e-04 ± 4.8347e-03',\n",
       " 'director': 'max difference: 2.8749e-03, avg ± std: 2.8693e-06 ± 2.1649e-04',\n",
       " 'eig0': 'max difference: 1.5512e+00, avg ± std: 2.2118e-03 ± 5.1489e-02',\n",
       " 'eig1': 'max difference: 1.4652e+00, avg ± std: 1.1544e-04 ± 5.1537e-02'}"
      ]
     },
     "execution_count": 25,
     "metadata": {},
     "output_type": "execute_result"
    }
   ],
   "source": [
    "big_diffs = {k:(v._arrays[k]-v2._arrays[k])\n",
    "             for k,val in close_arrays.items() if not val}\n",
    "{k: f'max difference: {v.max():.4e}, avg ± std: {v.mean():.4e} ± {v.std():.4e}' for k, v in big_diffs.items()}"
   ]
  },
  {
   "cell_type": "code",
   "execution_count": 40,
   "id": "2329532f-87c4-4190-945e-3f557fcaa9d9",
   "metadata": {},
   "outputs": [],
   "source": [
    "# vertex_dataframe=pd.DataFrame({k:val for k,val in v._arrays.items() if val.shape==v.indices.shape})\n",
    "# vertex_dataframe.describe()"
   ]
  },
  {
   "cell_type": "markdown",
   "id": "0aa4cffc-f7b3-4f6b-9495-c454b75d2fd2",
   "metadata": {},
   "source": [
    "#### Destory files"
   ]
  },
  {
   "cell_type": "code",
   "execution_count": 41,
   "id": "8f7d513c-08dd-442f-bcd9-906d7b4f2ea1",
   "metadata": {},
   "outputs": [],
   "source": [
    "if destroy_timesteps_at_end:\n",
    "    files_to_remove = list(test_folder.glob('timestep*'))\n",
    "    excess_files = ('dump.bin','dout','output.pvd','statistics.csv')\n",
    "    files_to_remove.extend(test_folder/x for x in excess_files)\n",
    "    [file.unlink() for file in files_to_remove if file.exists()]"
   ]
  }
 ],
 "metadata": {
  "kernelspec": {
   "display_name": "Python 3 (ipykernel)",
   "language": "python",
   "name": "python3"
  },
  "language_info": {
   "codemirror_mode": {
    "name": "ipython",
    "version": 3
   },
   "file_extension": ".py",
   "mimetype": "text/x-python",
   "name": "python",
   "nbconvert_exporter": "python",
   "pygments_lexer": "ipython3",
   "version": "3.10.8"
  }
 },
 "nbformat": 4,
 "nbformat_minor": 5
}
