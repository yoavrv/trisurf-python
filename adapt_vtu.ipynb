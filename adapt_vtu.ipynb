{
 "cells": [
  {
   "cell_type": "markdown",
   "metadata": {},
   "source": [
    "## Adapt existing .Vtu to the new format"
   ]
  },
  {
   "cell_type": "markdown",
   "metadata": {},
   "source": [
    "#### Step 0: load a .vtu file as XML "
   ]
  },
  {
   "cell_type": "code",
   "execution_count": 84,
   "metadata": {},
   "outputs": [],
   "source": [
    "import xml.etree.ElementTree as ET\n",
    "import numpy as np"
   ]
  },
  {
   "cell_type": "code",
   "execution_count": 85,
   "metadata": {},
   "outputs": [],
   "source": [
    "#vtu_file = (\"/mnt/c/Users/yoavr/Desktop/paraview_pipeline\"\n",
    "#            \"/rework/alpha/13_balance_flip/flip_flip/timestep_000001.vtu\")\n",
    "vtu_file = (\"/mnt/c/Users/yoavr/Desktop/paraview_pipeline/hello_chemfarm\"\n",
    "            \"/FW_block_aggregated/timesteps/f6w14/timestep_000149.vtu\"\n",
    "            \"\")\n",
    "tree = ET.parse(vtu_file)\n",
    "root = tree.getroot()"
   ]
  },
  {
   "cell_type": "code",
   "execution_count": 86,
   "metadata": {},
   "outputs": [
    {
     "data": {
      "text/plain": [
       "'PointData'"
      ]
     },
     "execution_count": 86,
     "metadata": {},
     "output_type": "execute_result"
    }
   ],
   "source": [
    "root[3][0][0].tag"
   ]
  },
  {
   "cell_type": "code",
   "execution_count": 87,
   "metadata": {},
   "outputs": [
    {
     "name": "stdout",
     "output_type": "stream",
     "text": [
      "dumpdate {}\n",
      "tape {}\n",
      "trisurf {'nvtx': '4502', 'npoly': '0', 'nmono': '0', 'compressed': 'false', 'seed': '1618649958'}\n",
      "UnstructuredGrid {}\n",
      "###\n",
      "DataArray {'type': 'Int64', 'Name': 'vertices_idx', 'format': 'ascii'}\n",
      "DataArray {'type': 'Float64', 'Name': 'spontaneous_curvature', 'format': 'ascii'}\n",
      "DataArray {'type': 'Float64', 'Name': 'bending_energy', 'format': 'ascii'}\n"
     ]
    },
    {
     "data": {
      "text/plain": [
       "False"
      ]
     },
     "execution_count": 87,
     "metadata": {},
     "output_type": "execute_result"
    }
   ],
   "source": [
    "# display the structure of the xml tree\n",
    "for child in root:\n",
    "    print(child.tag, child.attrib)\n",
    "print(r'###')\n",
    "pdata = root.findall('.//PointData')[0]\n",
    "pdata.tag, pdata.attrib\n",
    "is_typed = False\n",
    "for child in pdata:\n",
    "    print(child.tag, child.attrib)\n",
    "    if child.attrib['Name']=='type':\n",
    "        is_typed=True\n",
    "if !is_typed:\n",
    "    print(\".vtu file has no type! will not work correctly in the simulation\")"
   ]
  },
  {
   "cell_type": "markdown",
   "metadata": {},
   "source": [
    "#### Step 1: reconstruct type. Determied by spontaneous curvature"
   ]
  },
  {
   "cell_type": "code",
   "execution_count": 32,
   "metadata": {},
   "outputs": [
    {
     "data": {
      "text/plain": [
       "{'type': 'Float64', 'Name': 'spontaneous_curvature', 'format': 'ascii'}"
      ]
     },
     "execution_count": 32,
     "metadata": {},
     "output_type": "execute_result"
    }
   ],
   "source": [
    "spon_curv = pdata.findall('.//*[@Name=\"spontaneous_curvature\"]')[0]\n",
    "spon_curv.attrib"
   ]
  },
  {
   "cell_type": "code",
   "execution_count": 33,
   "metadata": {},
   "outputs": [],
   "source": [
    "# type 4: bare vertex. type 39: active vertex\n",
    "def type_from_curvature(curvatures):\n",
    "    type_array = np.zeros(curvatures.shape)\n",
    "    type_array[curvatures>0]=39\n",
    "    type_array[curvatures<=0]=4\n",
    "    return type_array"
   ]
  },
  {
   "cell_type": "code",
   "execution_count": 34,
   "metadata": {},
   "outputs": [],
   "source": [
    "#an internal function from ts_vtu_python.py: \n",
    "def _xml_to_str_list(node):\n",
    "    r\"\"\"Take xml node, extract text array to list.\n",
    "\n",
    "    Convert sequence to 1d array and lines to 2d arrays, e.g\n",
    "     2 3\\n4 5 6\\n' -> [['2','3'],['4','5','6']]\n",
    "    '\\n 2 3 5' -> ['2','3','5']\n",
    "    \"\"\"\n",
    "    all_text = node.text.strip()\n",
    "\n",
    "    # if there are tabs in the middle, assume this is a 2d list\n",
    "    if all_text.__contains__('\\n'):\n",
    "        return [x.split() for x in all_text.split('\\n')]\n",
    "    else:  # no tabs: 1d array\n",
    "        return all_text.split()\n",
    "\n",
    "curvatures_txt = _xml_to_str_list(spon_curv)"
   ]
  },
  {
   "cell_type": "code",
   "execution_count": 35,
   "metadata": {},
   "outputs": [
    {
     "name": "stdout",
     "output_type": "stream",
     "text": [
      "[0.  0.  0.  0.  0.  0.  0.  0.  0.8 0. ] ...\n"
     ]
    }
   ],
   "source": [
    "curvatures = list(map(float,curvatures_txt)) # convert to float\n",
    "cs = np.array(curvatures)\n",
    "print(cs[:10],\"...\")"
   ]
  },
  {
   "cell_type": "code",
   "execution_count": 36,
   "metadata": {},
   "outputs": [
    {
     "name": "stdout",
     "output_type": "stream",
     "text": [
      "[ 4.  4.  4.  4.  4.  4.  4.  4. 39.  4.] ...\n"
     ]
    }
   ],
   "source": [
    "ar_type = type_from_curvature(cs)\n",
    "print(ar_type[:10],\"...\")"
   ]
  },
  {
   "cell_type": "code",
   "execution_count": 37,
   "metadata": {
    "tags": []
   },
   "outputs": [],
   "source": [
    "def txt_from_array(a):\n",
    "    return ''.join(f'{n:.17e} ' for n in a)"
   ]
  },
  {
   "cell_type": "code",
   "execution_count": 38,
   "metadata": {},
   "outputs": [],
   "source": [
    "type_txt = txt_from_array(ar_type)"
   ]
  },
  {
   "cell_type": "code",
   "execution_count": 39,
   "metadata": {},
   "outputs": [
    {
     "name": "stdout",
     "output_type": "stream",
     "text": [
      "existing text [500:1500]:\n",
      "+00 0.00000000000000000e+00 0.00000000000000000e+00 0.00000000000000000e+00 0.00000000000000000e+00 0.00000000000000000e+00 8.00000000000000044e-01 0.00000000000000000e+00 0.00000000000000000e+00 8.00000000000000044e-01 0.00000000000000000e+00 0.00000000000000000e+00 0.00000000000000000e+00 0.00000000000000000e+00 0.00000000000000000e+00 0.00000000000000000e+00 0.00000000000000000e+00 0.00000000000000000e+00 0.00000000000000000e+00 0.00000000000000000e+00 0.00000000000000000e+00 0.00000000000000000e+00 0.00000000000000000e+00 0.00000000000000000e+00 0.00000000000000000e+00 0.00000000000000000e+00 0.00000000000000000e+00 0.00000000000000000e+00 0.00000000000000000e+00 0.00000000000000000e+00 0.00000000000000000e+00 0.00000000000000000e+00 0.00000000000000000e+00 0.00000000000000000e+00 0.00000000000000000e+00 0.00000000000000000e+00 8.00000000000000044e-01 0.00000000000000000e+00 0.00000000000000000e+00 0.00000000000000000e+00 8.00000000000000044e-01 0.00000000000000000e+00 0.0000000000\n",
      "\n",
      "generated text: [500:1500]\n",
      "+00 4.00000000000000000e+00 4.00000000000000000e+00 4.00000000000000000e+00 4.00000000000000000e+00 4.00000000000000000e+00 3.90000000000000000e+01 4.00000000000000000e+00 4.00000000000000000e+00 3.90000000000000000e+01 4.00000000000000000e+00 4.00000000000000000e+00 4.00000000000000000e+00 4.00000000000000000e+00 4.00000000000000000e+00 4.00000000000000000e+00 4.00000000000000000e+00 4.00000000000000000e+00 4.00000000000000000e+00 4.00000000000000000e+00 4.00000000000000000e+00 4.00000000000000000e+00 4.00000000000000000e+00 4.00000000000000000e+00 4.00000000000000000e+00 4.00000000000000000e+00 4.00000000000000000e+00 4.00000000000000000e+00 4.00000000000000000e+00 4.00000000000000000e+00 4.00000000000000000e+00 4.00000000000000000e+00 4.00000000000000000e+00 4.00000000000000000e+00 4.00000000000000000e+00 4.00000000000000000e+00 3.90000000000000000e+01 4.00000000000000000e+00 4.00000000000000000e+00 4.00000000000000000e+00 3.90000000000000000e+01 4.00000000000000000e+00 4.0000000000\n"
     ]
    }
   ],
   "source": [
    "from_c, to_c = 500, 1500\n",
    "print(f\"existing text [{from_c}:{to_c}]:\")\n",
    "print(spon_curv.text[from_c:to_c])\n",
    "print(f'\\ngenerated text: [{from_c}:{to_c}]')\n",
    "print(type_txt[from_c:to_c]) # peek at data"
   ]
  },
  {
   "cell_type": "code",
   "execution_count": 82,
   "metadata": {},
   "outputs": [],
   "source": [
    "# instead of updating the curvature like the previous cases, we want to add a node\n",
    "new_node = ET.SubElement(pdata,\"DataArray\")\n",
    "new_node.attrib = {\"type\": \"Int64\", \"Name\": \"type\", \"format\": \"ascii\"}"
   ]
  },
  {
   "cell_type": "code",
   "execution_count": 83,
   "metadata": {},
   "outputs": [
    {
     "name": "stdout",
     "output_type": "stream",
     "text": [
      "{'type': 'Int64', 'Name': 'vertices_idx', 'format': 'ascii'}\n",
      "{'type': 'Float64', 'Name': 'spontaneous_curvature', 'format': 'ascii'}\n",
      "{'type': 'Float64', 'Name': 'bending_energy', 'format': 'ascii'}\n",
      "{'type': 'Int64', 'Name': 'type', 'format': 'ascii'}\n"
     ]
    }
   ],
   "source": [
    "for child in pdata: print(child.attrib)"
   ]
  },
  {
   "cell_type": "markdown",
   "metadata": {},
   "source": [
    "3. Now we need to reconstruct the rest of the information based on the type"
   ]
  },
  {
   "cell_type": "code",
   "execution_count": 68,
   "metadata": {},
   "outputs": [
    {
     "data": {
      "text/plain": [
       "{'type': 'Int64', 'Name': 'vertices_idx', 'format': 'ascii'}"
      ]
     },
     "execution_count": 68,
     "metadata": {},
     "output_type": "execute_result"
    }
   ],
   "source": []
  },
  {
   "cell_type": "code",
   "execution_count": 41,
   "metadata": {},
   "outputs": [
    {
     "name": "stdout",
     "output_type": "stream",
     "text": [
      "['8.00000000000000044e-01', '0.00000000000000000e+00', '0.00000000000000000e+00', '0.00000000000000000e+00', '0.00000000000000000e+00', '0.00000000000000000e+00', '8.00000000000000044e-01', '0.00000000000000000e+00', '0.00000000000000000e+00', '0.00000000000000000e+00', '0.00000000000000000e+00', '0.00000000000000000e+00', '0.00000000000000000e+00', '0.00000000000000000e+00', '0.00000000000000000e+00', '0.00000000000000000e+00', '8.00000000000000044e-01', '0.00000000000000000e+00', '0.00000000000000000e+00', '8.00000000000000044e-01']\n"
     ]
    }
   ],
   "source": [
    "#see that the change applied\n",
    "root2=tree.getroot()\n",
    "print(root2.findall('.//*[@Name=\"spontaneous_curvature\"]')[0].text.split(' ')[10:30])"
   ]
  },
  {
   "cell_type": "code",
   "execution_count": 42,
   "metadata": {},
   "outputs": [],
   "source": [
    "#!!! uncomment to modify the vtu file!!!\n",
    "#tree.write(r'/mnt/c/Users/yoavr/Desktop/paraview_pipeline/tests/round_100_neg.vtu',encoding=r'UTF-8')"
   ]
  },
  {
   "cell_type": "code",
   "execution_count": null,
   "metadata": {},
   "outputs": [],
   "source": []
  },
  {
   "cell_type": "code",
   "execution_count": 46,
   "metadata": {},
   "outputs": [
    {
     "data": {
      "text/plain": [
       "<Element 'type' at 0x7f570079cb80>"
      ]
     },
     "execution_count": 46,
     "metadata": {},
     "output_type": "execute_result"
    }
   ],
   "source": []
  },
  {
   "cell_type": "code",
   "execution_count": null,
   "metadata": {},
   "outputs": [],
   "source": []
  }
 ],
 "metadata": {
  "kernelspec": {
   "display_name": "Python 3",
   "language": "python",
   "name": "python3"
  },
  "language_info": {
   "codemirror_mode": {
    "name": "ipython",
    "version": 3
   },
   "file_extension": ".py",
   "mimetype": "text/x-python",
   "name": "python",
   "nbconvert_exporter": "python",
   "pygments_lexer": "ipython3",
   "version": "3.8.5"
  }
 },
 "nbformat": 4,
 "nbformat_minor": 4
}
