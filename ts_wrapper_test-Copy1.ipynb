{
 "cells": [
  {
   "cell_type": "code",
   "execution_count": 1,
   "id": "2aa55631-d597-4547-8b04-567e55a8b1e8",
   "metadata": {},
   "outputs": [],
   "source": [
    "from glob import glob\n",
    "import ctypes\n",
    "import struct\n",
    "import sys\n",
    "from pathlib import Path\n",
    "\n",
    "import numpy as np\n",
    "\n",
    "import vtu\n",
    "PyVtu=vtu.PyVtu\n",
    "import small_functions\n",
    "import ts_wrapper_Copy1 as wrap"
   ]
  },
  {
   "cell_type": "code",
   "execution_count": 2,
   "id": "a02be0b6-f70a-414a-94f4-b56a39feb90e",
   "metadata": {},
   "outputs": [],
   "source": [
    "ts=wrap.TSWrapper()"
   ]
  },
  {
   "cell_type": "code",
   "execution_count": 3,
   "id": "a153e7ed-51a2-4269-880a-b1e24eff8b87",
   "metadata": {},
   "outputs": [],
   "source": [
    "vesicle = ts.parseDump('/mnt/c/Users/yoavr/Desktop/timestep_000087.vtu')"
   ]
  },
  {
   "cell_type": "code",
   "execution_count": null,
   "id": "37f3bcf9-e692-4fd2-9cd1-822db22a6426",
   "metadata": {},
   "outputs": [],
   "source": [
    "# import cffi # :("
   ]
  },
  {
   "cell_type": "code",
   "execution_count": 40,
   "id": "fb8413cd-798c-4ac0-bae5-7fdd4e9a85be",
   "metadata": {},
   "outputs": [],
   "source": [
    "path_to_trisurf = '/opt/workspace/msc_project/trisurf_samo/trisurf-ng'"
   ]
  },
  {
   "cell_type": "code",
   "execution_count": 41,
   "id": "e1e72138-33b0-4372-8875-6bae5666f6d0",
   "metadata": {},
   "outputs": [],
   "source": [
    "ts = wrap.TSWrapper(path_to_trisurf)"
   ]
  },
  {
   "cell_type": "code",
   "execution_count": 42,
   "id": "6a235bc3-a69b-41fa-ac28-ec1a57ea67b9",
   "metadata": {},
   "outputs": [],
   "source": [
    "vesicle = ts.parseDump('/opt/workspace/msc_project/simulations/QA_tests/cluster_version/feature_tests/test_wrapper_with_old_version/timestep_000000.vtu')"
   ]
  },
  {
   "cell_type": "code",
   "execution_count": 43,
   "id": "b26c2a2c-0c7d-4faf-be1c-a56a41671747",
   "metadata": {},
   "outputs": [
    {
     "data": {
      "text/plain": [
       "<ts_wrapper_Copy1.c_double_Array_3 at 0x7fc0503a72c0>"
      ]
     },
     "execution_count": 43,
     "metadata": {},
     "output_type": "execute_result"
    }
   ],
   "source": [
    "vesicle.contents.cm"
   ]
  },
  {
   "cell_type": "code",
   "execution_count": 44,
   "id": "ac45582a-0a28-426a-a269-ace04383d38b",
   "metadata": {},
   "outputs": [],
   "source": [
    "tape=ts.parsetape(str(ts.path_to_trisurf/'src/tape'))"
   ]
  },
  {
   "cell_type": "code",
   "execution_count": 45,
   "id": "7e61a0ad-4f10-41e0-8860-c79edb20a01a",
   "metadata": {
    "scrolled": true,
    "tags": []
   },
   "outputs": [
    {
     "name": "stdout",
     "output_type": "stream",
     "text": [
      "<ts_wrapper_Copy1.LP_ts_tape object at 0x7fc0503a70c0>\n",
      "    nshell 17\n",
      "    ncxmax 100\n",
      "    ncymax 100\n",
      "    nczmax 100\n",
      "    npoly 0\n",
      "    nmono 20\n",
      "    internal_poly 0\n",
      "    nfil 0\n",
      "    nfono 3\n",
      "    R_nucleus 0\n",
      "    R_nucleusX 0.0\n",
      "    R_nucleusY 0.0\n",
      "    R_nucleusZ 0.0\n",
      "    pswitch 0\n",
      "    constvolswitch 0\n",
      "    constareaswitch 0\n",
      "    stretchswitch 0\n",
      "    xkA0 1.0\n",
      "    constvolprecision 1e-14\n",
      "    multiprocessing <ctypes.LP_c_char object at 0x7fc0503a7840>\n",
      "    brezveze0 2\n",
      "    brezveze1 50\n",
      "    brezveze2 50\n",
      "    xk0 10.0\n",
      "    dmax 1.7\n",
      "    dmin_interspecies 1.2\n",
      "    stepsize 0.15\n",
      "    kspring 800.0\n",
      "    xi 100.0\n",
      "    pressure 10000.0\n",
      "    iterations 100\n",
      "    inititer 0\n",
      "    mcsweeps 200\n",
      "    quiet 0\n",
      "    shc 21\n",
      "    number_of_vertices_with_c0 100\n",
      "    c0 0.5\n",
      "    w 10.0\n",
      "    F 2.0\n",
      "    plane_confinement_switch 0\n",
      "    plane_d 10.0\n",
      "    plane_F 10.0\n"
     ]
    }
   ],
   "source": [
    "print(ts.pretty_text(tape))"
   ]
  },
  {
   "cell_type": "code",
   "execution_count": 46,
   "id": "53ec70d1-2638-4a0b-bb46-5f1f46713d77",
   "metadata": {
    "scrolled": true,
    "tags": []
   },
   "outputs": [
    {
     "data": {
      "text/plain": [
       "[0.0,\n",
       " 0.0,\n",
       " 0.0,\n",
       " 0.0,\n",
       " 0.0,\n",
       " 0.0,\n",
       " 0.0,\n",
       " 0.0,\n",
       " 0.0,\n",
       " 0.0,\n",
       " 0.0,\n",
       " 0.5,\n",
       " 0.0,\n",
       " 0.0,\n",
       " 0.0,\n",
       " 0.0,\n",
       " 0.0,\n",
       " 0.0,\n",
       " 0.0,\n",
       " 0.0,\n",
       " 0.0,\n",
       " 0.0,\n",
       " 0.0,\n",
       " 0.0,\n",
       " 0.0,\n",
       " 0.0,\n",
       " 0.0,\n",
       " 0.0,\n",
       " 0.0,\n",
       " 0.0,\n",
       " 0.0,\n",
       " 0.0,\n",
       " 0.0,\n",
       " 0.0,\n",
       " 0.0,\n",
       " 0.0,\n",
       " 0.0,\n",
       " 0.0,\n",
       " 0.5,\n",
       " 0.0,\n",
       " 0.0,\n",
       " 0.0,\n",
       " 0.0,\n",
       " 0.0,\n",
       " 0.0,\n",
       " 0.0,\n",
       " 0.0,\n",
       " 0.5,\n",
       " 0.0,\n",
       " 0.0]"
      ]
     },
     "execution_count": 46,
     "metadata": {},
     "output_type": "execute_result"
    }
   ],
   "source": [
    "[vesicle.contents.vlist.contents.vtx[i].contents.c for i in range(50,100)]"
   ]
  },
  {
   "cell_type": "code",
   "execution_count": 47,
   "id": "92cbea66-c1b4-4e10-895b-e3dfda85409b",
   "metadata": {},
   "outputs": [],
   "source": [
    "vtx=vesicle.contents.vlist.contents.vtx[97]\n",
    "vtx_old=ts.ts_vertex(x=0,y=0,z=0)"
   ]
  },
  {
   "cell_type": "code",
   "execution_count": 48,
   "id": "9d46dcd0-ab05-46ac-889c-43465afe6550",
   "metadata": {},
   "outputs": [
    {
     "data": {
      "text/plain": [
       "7.276000458314542"
      ]
     },
     "execution_count": 48,
     "metadata": {},
     "output_type": "execute_result"
    }
   ],
   "source": [
    "vtx.contents.z"
   ]
  },
  {
   "cell_type": "code",
   "execution_count": 49,
   "id": "bea5e660-880e-415a-af09-28dd37d62b36",
   "metadata": {},
   "outputs": [
    {
     "data": {
      "text/plain": [
       "-17.83702389279913"
      ]
     },
     "execution_count": 49,
     "metadata": {},
     "output_type": "execute_result"
    }
   ],
   "source": [
    "ts.ts.direct_force_energy.restype=ctypes.c_double\n",
    "ts.ts.direct_force_energy(vesicle, vtx, ctypes.pointer(vtx_old))"
   ]
  },
  {
   "cell_type": "code",
   "execution_count": 50,
   "id": "1509b265-2e10-4f18-add2-b074bd6d2efb",
   "metadata": {},
   "outputs": [
    {
     "data": {
      "text/plain": [
       "('int', {'func': ts_wrapper_Copy1.LP_LP_c_int})"
      ]
     },
     "execution_count": 50,
     "metadata": {},
     "output_type": "execute_result"
    }
   ],
   "source": [
    "wrap.parse_type(\"int **func\",ts.ts_types)"
   ]
  },
  {
   "cell_type": "code",
   "execution_count": 51,
   "id": "93173a7b-0227-4ff6-8a2a-76e88c5194ee",
   "metadata": {},
   "outputs": [
    {
     "ename": "AttributeError",
     "evalue": "'ts_tape' object has no attribute 'bond_model'",
     "output_type": "error",
     "traceback": [
      "\u001b[0;31m---------------------------------------------------------------------------\u001b[0m",
      "\u001b[0;31mAttributeError\u001b[0m                            Traceback (most recent call last)",
      "Cell \u001b[0;32mIn[51], line 1\u001b[0m\n\u001b[0;32m----> 1\u001b[0m ts\u001b[38;5;241m.\u001b[39mbyte_to_int(\u001b[43mvesicle\u001b[49m\u001b[38;5;241;43m.\u001b[39;49m\u001b[43mcontents\u001b[49m\u001b[38;5;241;43m.\u001b[39;49m\u001b[43mtape\u001b[49m\u001b[38;5;241;43m.\u001b[39;49m\u001b[43mcontents\u001b[49m\u001b[38;5;241;43m.\u001b[39;49m\u001b[43mbond_model\u001b[49m)\n",
      "\u001b[0;31mAttributeError\u001b[0m: 'ts_tape' object has no attribute 'bond_model'"
     ]
    }
   ],
   "source": [
    "ts.byte_to_int(vesicle.contents.tape.contents.bond_model)"
   ]
  },
  {
   "cell_type": "code",
   "execution_count": 52,
   "id": "52a671dc-6a9d-4f3f-8c07-fb8ba13568d3",
   "metadata": {},
   "outputs": [
    {
     "ename": "KeyError",
     "evalue": "'next_idx'",
     "output_type": "error",
     "traceback": [
      "\u001b[0;31m---------------------------------------------------------------------------\u001b[0m",
      "\u001b[0;31mKeyError\u001b[0m                                  Traceback (most recent call last)",
      "Cell \u001b[0;32mIn[52], line 1\u001b[0m\n\u001b[0;32m----> 1\u001b[0m \u001b[43mts\u001b[49m\u001b[38;5;241;43m.\u001b[39;49m\u001b[43mfuncs\u001b[49m\u001b[43m[\u001b[49m\u001b[38;5;124;43m'\u001b[39;49m\u001b[38;5;124;43mnext_idx\u001b[39;49m\u001b[38;5;124;43m'\u001b[39;49m\u001b[43m]\u001b[49m\n",
      "\u001b[0;31mKeyError\u001b[0m: 'next_idx'"
     ]
    }
   ],
   "source": [
    "ts.funcs['next_idx']"
   ]
  },
  {
   "cell_type": "code",
   "execution_count": 53,
   "id": "4919d872-54e3-4ca3-a9b0-54aaa2d45381",
   "metadata": {},
   "outputs": [
    {
     "ename": "AttributeError",
     "evalue": "'ts_functions' object has no attribute '_c_next_idx'",
     "output_type": "error",
     "traceback": [
      "\u001b[0;31m---------------------------------------------------------------------------\u001b[0m",
      "\u001b[0;31mAttributeError\u001b[0m                            Traceback (most recent call last)",
      "Cell \u001b[0;32mIn[53], line 1\u001b[0m\n\u001b[0;32m----> 1\u001b[0m \u001b[43mts\u001b[49m\u001b[38;5;241;43m.\u001b[39;49m\u001b[43mfunctions\u001b[49m\u001b[38;5;241;43m.\u001b[39;49m\u001b[43m_c_next_idx\u001b[49m\u001b[38;5;241m.\u001b[39mrestype\n",
      "\u001b[0;31mAttributeError\u001b[0m: 'ts_functions' object has no attribute '_c_next_idx'"
     ]
    }
   ],
   "source": [
    "ts.functions._c_next_idx.restype"
   ]
  },
  {
   "cell_type": "code",
   "execution_count": 54,
   "id": "39f2e85b-7d0d-4b0f-86d7-9c9188ade582",
   "metadata": {},
   "outputs": [
    {
     "ename": "AttributeError",
     "evalue": "'ts_functions' object has no attribute 'prev_small'",
     "output_type": "error",
     "traceback": [
      "\u001b[0;31m---------------------------------------------------------------------------\u001b[0m",
      "\u001b[0;31mAttributeError\u001b[0m                            Traceback (most recent call last)",
      "Cell \u001b[0;32mIn[54], line 1\u001b[0m\n\u001b[0;32m----> 1\u001b[0m \u001b[43mts\u001b[49m\u001b[38;5;241;43m.\u001b[39;49m\u001b[43mfunctions\u001b[49m\u001b[38;5;241;43m.\u001b[39;49m\u001b[43mprev_small\u001b[49m(\u001b[38;5;241m4\u001b[39m,\u001b[38;5;241m8\u001b[39m)\n",
      "\u001b[0;31mAttributeError\u001b[0m: 'ts_functions' object has no attribute 'prev_small'"
     ]
    }
   ],
   "source": [
    "ts.functions.prev_small(4,8)"
   ]
  },
  {
   "cell_type": "code",
   "execution_count": 55,
   "id": "664df9f7-94fe-4d3d-a981-4b25fbbe2b70",
   "metadata": {},
   "outputs": [
    {
     "data": {
      "text/plain": [
       "('ts_tape', ts_wrapper_Copy1.LP_ts_tape, 'char *filename')"
      ]
     },
     "execution_count": 55,
     "metadata": {},
     "output_type": "execute_result"
    }
   ],
   "source": [
    "ts.funcs['parsetape']"
   ]
  },
  {
   "cell_type": "code",
   "execution_count": 56,
   "id": "5053767c-0653-4b81-adf1-7adf576cddd0",
   "metadata": {},
   "outputs": [],
   "source": [
    "cluster = ts.functions.init_cluster_list()"
   ]
  },
  {
   "cell_type": "code",
   "execution_count": 57,
   "id": "e6d5e846-d321-4f18-97e7-656fe6c63f53",
   "metadata": {},
   "outputs": [],
   "source": [
    "import inspect"
   ]
  },
  {
   "cell_type": "code",
   "execution_count": 58,
   "id": "2fa943ae-4359-4351-b415-1b04a55e90b4",
   "metadata": {},
   "outputs": [],
   "source": [
    "def get_default_args(func):\n",
    "    signature = inspect.signature(func)\n",
    "    return {\n",
    "        k: v.default\n",
    "        for k, v in signature.parameters.items()\n",
    "        if v.default is not inspect.Parameter.empty\n",
    "    }"
   ]
  },
  {
   "cell_type": "code",
   "execution_count": 59,
   "id": "bf838a8f-963f-4af9-8c6e-272b091c4f9e",
   "metadata": {},
   "outputs": [],
   "source": [
    "df=get_default_args(ts.functions.clusterize_vesicle)\n",
    "process_args =df['process_args']\n",
    "func = df['_base_c_function']"
   ]
  },
  {
   "cell_type": "code",
   "execution_count": 60,
   "id": "b259e2dc-bbda-4436-968d-bda29b30855f",
   "metadata": {},
   "outputs": [
    {
     "data": {
      "text/plain": [
       "b'\\x00'"
      ]
     },
     "execution_count": 60,
     "metadata": {},
     "output_type": "execute_result"
    }
   ],
   "source": [
    "func(vesicle,cluster)"
   ]
  },
  {
   "cell_type": "code",
   "execution_count": 61,
   "id": "673676a2-3173-4605-b37d-c07b6cbee72c",
   "metadata": {},
   "outputs": [
    {
     "data": {
      "text/plain": [
       "[<ts_wrapper_Copy1.LP_ts_vesicle at 0x7fc0503a6fc0>,\n",
       " <ts_wrapper_Copy1.LP_ts_cluster_list at 0x7fbfee3c7140>]"
      ]
     },
     "execution_count": 61,
     "metadata": {},
     "output_type": "execute_result"
    }
   ],
   "source": [
    "[f(x) for f,x in zip(process_args,(vesicle,cluster))]"
   ]
  },
  {
   "cell_type": "code",
   "execution_count": 62,
   "id": "c8899abc-e830-43e4-a2d3-e60ebfe44470",
   "metadata": {},
   "outputs": [
    {
     "data": {
      "text/plain": [
       "[ts_wrapper_Copy1.LP_ts_vesicle, ts_wrapper_Copy1.LP_ts_cluster_list]"
      ]
     },
     "execution_count": 62,
     "metadata": {},
     "output_type": "execute_result"
    }
   ],
   "source": [
    "ts.functions._c_clusterize_vesicle.argtype"
   ]
  },
  {
   "cell_type": "code",
   "execution_count": 63,
   "id": "06553cae-d063-461e-bb03-87da824221b3",
   "metadata": {},
   "outputs": [
    {
     "data": {
      "text/plain": [
       "True"
      ]
     },
     "execution_count": 63,
     "metadata": {},
     "output_type": "execute_result"
    }
   ],
   "source": [
    "ts.functions.clusterize_vesicle(vesicle,cluster)"
   ]
  },
  {
   "cell_type": "code",
   "execution_count": 64,
   "id": "fa5a439e-4ce7-4b28-a7b3-44c84b71554c",
   "metadata": {},
   "outputs": [
    {
     "data": {
      "text/plain": [
       "0.5"
      ]
     },
     "execution_count": 64,
     "metadata": {},
     "output_type": "execute_result"
    }
   ],
   "source": [
    "cluster.contents.cluster.contents.contents.vtx.contents.contents.c"
   ]
  },
  {
   "cell_type": "code",
   "execution_count": 65,
   "id": "3d79447b-c729-406c-81bd-b1b226000c96",
   "metadata": {},
   "outputs": [
    {
     "data": {
      "text/plain": [
       "<function ts_wrapper_Copy1.TSWrapper.__init__.<locals>.f(*args, _base_c_function=<_FuncPtr object at 0x7fbfee160340>, arg_types=[<class 'ts_wrapper_Copy1.LP_ts_vesicle'>, <class 'ts_wrapper_Copy1.LP_ts_cluster_list'>], process_args=[<function TSWrapper.__init__.<locals>.process_neutral at 0x7fbfee22b640>, <function TSWrapper.__init__.<locals>.process_neutral at 0x7fbfee22b640>], process_out=[<function TSWrapper.__init__.<locals>.process_ts_bool_to_true_false at 0x7fbfee228820>, None, None])>"
      ]
     },
     "execution_count": 65,
     "metadata": {},
     "output_type": "execute_result"
    }
   ],
   "source": [
    "ts.functions.clusterize_vesicle"
   ]
  },
  {
   "cell_type": "code",
   "execution_count": 71,
   "id": "e28fd5b7-bb50-4f70-abc3-42c4144b6dbf",
   "metadata": {},
   "outputs": [
    {
     "data": {
      "text/plain": [
       "(True, 0.6171389080856945, 0.0239576134531214)"
      ]
     },
     "execution_count": 71,
     "metadata": {},
     "output_type": "execute_result"
    }
   ],
   "source": [
    "ts.functions.single_timestep(vesicle)"
   ]
  },
  {
   "cell_type": "code",
   "execution_count": 72,
   "id": "cf0c568b-e7eb-44bd-bbfc-a4aac84673b4",
   "metadata": {},
   "outputs": [
    {
     "data": {
      "text/plain": [
       "0.0"
      ]
     },
     "execution_count": 72,
     "metadata": {},
     "output_type": "execute_result"
    }
   ],
   "source": [
    "ts.functions.vesicle_meancurvature(vesicle)"
   ]
  },
  {
   "cell_type": "code",
   "execution_count": 73,
   "id": "10acfdd6-0e20-4741-80c3-7668ef15e0f1",
   "metadata": {},
   "outputs": [
    {
     "data": {
      "text/plain": [
       "\u001b[0;31mSignature:\u001b[0m\n",
       "\u001b[0mts\u001b[0m\u001b[0;34m.\u001b[0m\u001b[0mfunctions\u001b[0m\u001b[0;34m.\u001b[0m\u001b[0mvesicle_meancurvature\u001b[0m\u001b[0;34m(\u001b[0m\u001b[0;34m\u001b[0m\n",
       "\u001b[0;34m\u001b[0m    \u001b[0;34m*\u001b[0m\u001b[0margs\u001b[0m\u001b[0;34m,\u001b[0m\u001b[0;34m\u001b[0m\n",
       "\u001b[0;34m\u001b[0m    \u001b[0m_base_c_function\u001b[0m\u001b[0;34m=\u001b[0m\u001b[0;34m<\u001b[0m\u001b[0m_FuncPtr\u001b[0m \u001b[0mobject\u001b[0m \u001b[0mat\u001b[0m \u001b[0;36m0x7fbfee1556c0\u001b[0m\u001b[0;34m>\u001b[0m\u001b[0;34m,\u001b[0m\u001b[0;34m\u001b[0m\n",
       "\u001b[0;34m\u001b[0m    \u001b[0marg_types\u001b[0m\u001b[0;34m=\u001b[0m\u001b[0;34m[\u001b[0m\u001b[0;34m<\u001b[0m\u001b[0;32mclass\u001b[0m \u001b[0;34m'ts_wrapper_Copy1.LP_ts_vesicle'\u001b[0m\u001b[0;34m>\u001b[0m\u001b[0;34m]\u001b[0m\u001b[0;34m,\u001b[0m\u001b[0;34m\u001b[0m\n",
       "\u001b[0;34m\u001b[0m    \u001b[0mprocess_args\u001b[0m\u001b[0;34m=\u001b[0m\u001b[0;34m[\u001b[0m\u001b[0;34m<\u001b[0m\u001b[0mfunction\u001b[0m \u001b[0mTSWrapper\u001b[0m\u001b[0;34m.\u001b[0m\u001b[0m__init__\u001b[0m\u001b[0;34m.\u001b[0m\u001b[0;34m<\u001b[0m\u001b[0mlocals\u001b[0m\u001b[0;34m>\u001b[0m\u001b[0;34m.\u001b[0m\u001b[0mprocess_neutral\u001b[0m \u001b[0mat\u001b[0m \u001b[0;36m0x7fbfee22b640\u001b[0m\u001b[0;34m>\u001b[0m\u001b[0;34m]\u001b[0m\u001b[0;34m,\u001b[0m\u001b[0;34m\u001b[0m\n",
       "\u001b[0;34m\u001b[0m    \u001b[0mprocess_out\u001b[0m\u001b[0;34m=\u001b[0m\u001b[0;34m[\u001b[0m\u001b[0;34m<\u001b[0m\u001b[0mfunction\u001b[0m \u001b[0mTSWrapper\u001b[0m\u001b[0;34m.\u001b[0m\u001b[0m__init__\u001b[0m\u001b[0;34m.\u001b[0m\u001b[0;34m<\u001b[0m\u001b[0mlocals\u001b[0m\u001b[0;34m>\u001b[0m\u001b[0;34m.\u001b[0m\u001b[0mprocess_neutral\u001b[0m \u001b[0mat\u001b[0m \u001b[0;36m0x7fbfee22b640\u001b[0m\u001b[0;34m>\u001b[0m\u001b[0;34m,\u001b[0m \u001b[0;32mNone\u001b[0m\u001b[0;34m]\u001b[0m\u001b[0;34m,\u001b[0m\u001b[0;34m\u001b[0m\n",
       "\u001b[0;34m\u001b[0m\u001b[0;34m)\u001b[0m\u001b[0;34m\u001b[0m\u001b[0;34m\u001b[0m\u001b[0m\n",
       "\u001b[0;31mDocstring:\u001b[0m Wrapper for vesicle_meancurvature with arguments , vesicle: <class 'ts_wrapper_Copy1.LP_ts_vesicle'>. Return <class 'ctypes.c_double'>\n",
       "\u001b[0;31mFile:\u001b[0m      /opt/workspace/msc_project/lab_note_and_py/trisurf-python/ts_wrapper_Copy1.py\n",
       "\u001b[0;31mType:\u001b[0m      function"
      ]
     },
     "metadata": {},
     "output_type": "display_data"
    }
   ],
   "source": [
    "ts.functions.vesicle_meancurvature?"
   ]
  },
  {
   "cell_type": "code",
   "execution_count": null,
   "id": "9a0ec1c6-22a0-48c8-886e-5d243ffb7737",
   "metadata": {},
   "outputs": [],
   "source": []
  }
 ],
 "metadata": {
  "kernelspec": {
   "display_name": "Python 3 (ipykernel)",
   "language": "python",
   "name": "python3"
  },
  "language_info": {
   "codemirror_mode": {
    "name": "ipython",
    "version": 3
   },
   "file_extension": ".py",
   "mimetype": "text/x-python",
   "name": "python",
   "nbconvert_exporter": "python",
   "pygments_lexer": "ipython3",
   "version": "3.10.8"
  },
  "vscode": {
   "interpreter": {
    "hash": "916dbcbb3f70747c44a77c7bcd40155683ae19c65e1c03b4aa3499c5328201f1"
   }
  }
 },
 "nbformat": 4,
 "nbformat_minor": 5
}
