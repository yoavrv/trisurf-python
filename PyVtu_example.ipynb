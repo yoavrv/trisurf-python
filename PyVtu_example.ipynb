{
 "cells": [
  {
   "cell_type": "markdown",
   "id": "d5a55dc1-15af-43b9-8e63-599fbbcc03ba",
   "metadata": {
    "tags": []
   },
   "source": [
    "\n",
    "## Example of PyVtu ##\n"
   ]
  },
  {
   "cell_type": "markdown",
   "id": "eeae13b7-804d-4a2e-913a-a2f550597caa",
   "metadata": {},
   "source": [
    "Import and prep"
   ]
  },
  {
   "cell_type": "code",
   "execution_count": 1,
   "id": "9ed42659-7cf7-4990-a0a6-277887ba784f",
   "metadata": {},
   "outputs": [],
   "source": [
    "# imports\n",
    "import os\n",
    "import sys\n",
    "from pathlib import Path\n",
    "import numpy as np\n",
    "rng = np.random.default_rng()\n",
    "\n",
    "import vtu\n",
    "from vtu import PyVtu"
   ]
  },
  {
   "cell_type": "markdown",
   "id": "b5660215-b414-4ca7-b0dc-40a1295aaf50",
   "metadata": {},
   "source": [
    "Grab a base vtu, for example, by running a new trisurf from a tape"
   ]
  },
  {
   "cell_type": "raw",
   "id": "b4070046-5d53-4e70-ba63-a261f47d8d1c",
   "metadata": {},
   "source": [
    "            VV your location            VVVV change to your trisurf location"
   ]
  },
  {
   "cell_type": "code",
   "execution_count": 2,
   "id": "692228f5-73d6-4ced-a613-4e83df1d6ec1",
   "metadata": {},
   "outputs": [
    {
     "name": "stdout",
     "output_type": "stream",
     "text": [
      "[2023-09-14 20:06:36] TRISURF-NG v. 13597e6, compiled on: Jul 30 2023 19:26:39.\n",
      "[2023-09-14 20:06:36] Programming done by: Samo Penic and Miha Fosnaric\n",
      "[2023-09-14 20:06:36] Released under terms of GPLv3\n",
      "[2023-09-14 20:06:36] Starting program...\n",
      "\n",
      "[2023-09-14 20:06:36] ************************************************\n",
      "[2023-09-14 20:06:36] **** Generating initial geometry from tape *****\n",
      "[2023-09-14 20:06:36] ************************************************\n",
      "\n",
      "[2023-09-14 20:06:36] Starting initial_distribution on vesicle with 12 shells!...\n",
      "[2023-09-14 20:06:36] initial_distribution finished!\n",
      "[2023-09-14 20:06:36] using debug curvature model 7 (use old energy): set to 15 to use the new energy method\n",
      "[2023-09-14 20:06:36] set to 0 to use only the old method (faster), set to 1 to use sum-angle gaussian curvature (E+= kx2*c1*c2)\n",
      "[2023-09-14 20:06:36] simulation seed 1694711196\n",
      "[2023-09-14 20:06:36] Setting volume V0=1800.56526697718800278\n",
      "[2023-09-14 20:06:36] Setting area A0=897.89513864372247554\n",
      "[2023-09-14 20:06:36] Done 1 out of 10 iterations (x 0 MC sweeps).\n",
      "[2023-09-14 20:06:36] Done 2 out of 10 iterations (x 0 MC sweeps).\n",
      "[2023-09-14 20:06:36] Done 3 out of 10 iterations (x 0 MC sweeps).\n",
      "[2023-09-14 20:06:36] Done 4 out of 10 iterations (x 0 MC sweeps).\n",
      "[2023-09-14 20:06:36] Done 5 out of 10 iterations (x 0 MC sweeps).\n",
      "[2023-09-14 20:06:36] Done 6 out of 10 iterations (x 0 MC sweeps).\n",
      "[2023-09-14 20:06:36] Done 7 out of 10 iterations (x 0 MC sweeps).\n",
      "[2023-09-14 20:06:36] Done 8 out of 10 iterations (x 0 MC sweeps).\n",
      "[2023-09-14 20:06:36] Done 9 out of 10 iterations (x 0 MC sweeps).\n",
      "[2023-09-14 20:06:36] Done 10 out of 10 iterations (x 0 MC sweeps).\n",
      "/opt/workspace/msc_project/lab_note_and_py/trisurf-python\n"
     ]
    }
   ],
   "source": [
    "! cd tests && /opt/workspace/msc_project/cluster-trisurf/src/trisurf --force-from-tape tape -c iterations=10 && cd -"
   ]
  },
  {
   "cell_type": "code",
   "execution_count": 3,
   "id": "67c9cd4f-6b9c-451d-9981-35c9914c43bc",
   "metadata": {},
   "outputs": [],
   "source": [
    "base_vtu = \"tests/timestep_000009.vtu\""
   ]
  },
  {
   "cell_type": "code",
   "execution_count": 4,
   "id": "76b4a3d3-0d29-4762-887c-1471173ff43c",
   "metadata": {},
   "outputs": [],
   "source": [
    "new_vtu = PyVtu(base_vtu)"
   ]
  },
  {
   "cell_type": "markdown",
   "id": "d22780d3-8edb-4a6f-a845-44752303d889",
   "metadata": {},
   "source": [
    "This is a good opertunity to see what's in the vtu"
   ]
  },
  {
   "cell_type": "code",
   "execution_count": 5,
   "id": "dd478e3e-5e44-40a8-b70e-2f3c609ed313",
   "metadata": {},
   "outputs": [
    {
     "name": "stdout",
     "output_type": "stream",
     "text": [
      "####### Vesicle definitions ###########\n",
      "# nshell is a number of divisions of dipyramid\n",
      "nshell=12\n",
      "# dmax is the max. bond length (in units l_min)\n",
      "dmax=1.7\n",
      "# dmin_interspecies in the min. dist. between different vertex species (in units l_min)\n",
      "dmin_interspecies=1.2\n",
      "# bending rigidity of the membrane (in units kT)\n",
      "xk0=20\n",
      "# max step size (in units l_min)\n",
      "stepsize=0.15\n",
      "\n",
      "\n",
      "#######  Cell definitions #####\n"
     ]
    }
   ],
   "source": [
    "print(new_vtu.tape[:400])"
   ]
  },
  {
   "cell_type": "code",
   "execution_count": 6,
   "id": "44b73878-054b-4a0f-8a52-f73012f988ef",
   "metadata": {},
   "outputs": [
    {
     "data": {
      "text/plain": [
       "{'Koordinates_tock': 'pos',\n",
       " 'connectivity': ('blist', 'tlist'),\n",
       " 'bond_list': 'blist',\n",
       " 'triangle_list': 'tlist',\n",
       " 'adhesion_strength': 'ad_w',\n",
       " 'direct_force': 'f0',\n",
       " 'bonding_strength': 'w',\n",
       " 'spontaneous_curvature': 'c0',\n",
       " 'curvature': 'c',\n",
       " 'bending_energy': 'e',\n",
       " 'vertices_idx': 'indices',\n",
       " 'bending_modulus': 'k',\n",
       " 'spontaneous_deviator': 'd0',\n",
       " 'second_bending_modulus': 'k2'}"
      ]
     },
     "execution_count": 6,
     "metadata": {},
     "output_type": "execute_result"
    }
   ],
   "source": [
    "new_vtu.known_shorthands"
   ]
  },
  {
   "cell_type": "code",
   "execution_count": 7,
   "id": "215f657a-069d-49bd-b55a-4d2d15850239",
   "metadata": {},
   "outputs": [
    {
     "data": {
      "text/plain": [
       "(array([4, 4, 4, 4, 4, 4, 4, 4, 4, 4]),\n",
       " array([[ 4.61912909e-16, -1.08795203e-15,  7.57052801e+00],\n",
       "        [ 4.61912909e-16,  1.02078097e+00,  6.93965068e+00],\n",
       "        [ 9.70820393e-01,  3.15438667e-01,  6.93965068e+00],\n",
       "        [ 6.00000000e-01, -8.25829152e-01,  6.93965068e+00],\n",
       "        [-6.00000000e-01, -8.25829152e-01,  6.93965068e+00],\n",
       "        [-9.70820393e-01,  3.15438667e-01,  6.93965068e+00],\n",
       "        [ 4.61912909e-16,  2.04156194e+00,  6.30877335e+00],\n",
       "        [ 9.70820393e-01,  1.33621964e+00,  6.30877335e+00],\n",
       "        [ 1.94164079e+00,  6.30877335e-01,  6.30877335e+00],\n",
       "        [ 1.57082039e+00, -5.10390485e-01,  6.30877335e+00]]),\n",
       " array([0., 0., 0., 0., 0., 0., 0., 0., 0., 0.]),\n",
       " array([0., 0., 0., 0., 0., 0., 0., 0., 0., 0.]),\n",
       " array([0., 0., 0., 0., 0., 0., 0., 0., 0., 0.]))"
      ]
     },
     "execution_count": 7,
     "metadata": {},
     "output_type": "execute_result"
    }
   ],
   "source": [
    "new_vtu.type[:10],new_vtu.pos[:10],new_vtu.c0[:10],new_vtu.f0[:10],new_vtu.w[:10]"
   ]
  },
  {
   "cell_type": "markdown",
   "id": "abda055a-2486-4524-aa96-0006267ee0d3",
   "metadata": {},
   "source": [
    "We need to change a few things:\n",
    "* the tape file\n",
    "* the type of the vertices we want to be cmcs\n",
    "* the values of the properties of the cmcs"
   ]
  },
  {
   "cell_type": "markdown",
   "id": "3e662cc6-c7c5-42fd-9f41-0611751d4f4b",
   "metadata": {},
   "source": [
    "Changing the tape"
   ]
  },
  {
   "cell_type": "code",
   "execution_count": 8,
   "id": "29b231b0-3fbe-4e3b-a597-ec54c0be9382",
   "metadata": {},
   "outputs": [],
   "source": [
    "new_vtu.tape = new_vtu.tape.replace(\"bond_model=0\",\"bond_model=2\")"
   ]
  },
  {
   "cell_type": "markdown",
   "id": "ae46fb5e-2168-49a3-beec-b11d813a83a8",
   "metadata": {},
   "source": [
    "change 50 of the bare membrane vertices to CMCs"
   ]
  },
  {
   "cell_type": "code",
   "execution_count": 9,
   "id": "cda77894-8759-4cbc-925d-3e821134c5be",
   "metadata": {},
   "outputs": [
    {
     "data": {
      "text/plain": [
       "(4, 47)"
      ]
     },
     "execution_count": 9,
     "metadata": {},
     "output_type": "execute_result"
    }
   ],
   "source": [
    "bare_type = 4 # adhesive\n",
    "cmc_type = 1|2|4|8|32 # active&bonding&adhesive&anisotropic&vicsek\n",
    "bare_type, cmc_type"
   ]
  },
  {
   "cell_type": "code",
   "execution_count": 10,
   "id": "a2db1f63-5db8-47c0-bb0f-60612ca360f4",
   "metadata": {},
   "outputs": [],
   "source": [
    "index_bare = new_vtu.indices[new_vtu.type == bare_type]\n",
    "index_cmc = new_vtu.indices[new_vtu.type == cmc_type]"
   ]
  },
  {
   "cell_type": "markdown",
   "id": "511592b4-0c95-4bab-980e-315989478438",
   "metadata": {},
   "source": [
    "check how many cmcs are already there. convert 50 of the bare vertices to cmcs"
   ]
  },
  {
   "cell_type": "code",
   "execution_count": 11,
   "id": "367527ed-f04e-4905-961c-8f45c8f6c850",
   "metadata": {},
   "outputs": [
    {
     "data": {
      "text/plain": [
       "(722, 0)"
      ]
     },
     "execution_count": 11,
     "metadata": {},
     "output_type": "execute_result"
    }
   ],
   "source": [
    "len(index_bare),len(index_cmc)"
   ]
  },
  {
   "cell_type": "code",
   "execution_count": 12,
   "id": "17c32e68-87d4-433a-a24f-b038d3abd377",
   "metadata": {},
   "outputs": [],
   "source": [
    "rng.shuffle(index_bare)\n",
    "new_vtu.type[index_bare[:50]] = cmc_type"
   ]
  },
  {
   "cell_type": "code",
   "execution_count": 13,
   "id": "e590dac0-0e21-4f8d-ad6f-d0bb803ccb06",
   "metadata": {},
   "outputs": [
    {
     "data": {
      "text/plain": [
       "(672, 50)"
      ]
     },
     "execution_count": 13,
     "metadata": {},
     "output_type": "execute_result"
    }
   ],
   "source": [
    "index_bare = new_vtu.indices[new_vtu.type == bare_type]\n",
    "index_cmc = new_vtu.indices[new_vtu.type == cmc_type]\n",
    "len(index_bare),len(index_cmc)"
   ]
  },
  {
   "cell_type": "markdown",
   "id": "a83b32a0-dacd-45ae-aa57-b248182c2976",
   "metadata": {},
   "source": [
    "Change the values of the cmcs to the new ones."
   ]
  },
  {
   "cell_type": "code",
   "execution_count": 14,
   "id": "e567e744-8940-4d40-a811-05cd551c2204",
   "metadata": {
    "tags": []
   },
   "outputs": [],
   "source": [
    "# change all cmcs\n",
    "new_vtu.f0[index_cmc] = 1\n",
    "# change all bonding cmcs to have w 1\n",
    "new_vtu.w[index_cmc] = 1\n",
    "# change all their curvature and deviator\n",
    "new_vtu.c0[index_cmc] = 1\n",
    "new_vtu.d0[index_cmc] = -1"
   ]
  },
  {
   "cell_type": "markdown",
   "id": "bec08727-ac6b-4197-a2a7-0ed4385edd6d",
   "metadata": {},
   "source": [
    "We now need to update and save"
   ]
  },
  {
   "cell_type": "code",
   "execution_count": 15,
   "id": "fd551093-a232-46ed-9f3c-f6fc34f7cc08",
   "metadata": {},
   "outputs": [],
   "source": [
    "new_vtu.update_all()\n",
    "new_vtu.write_vtu(\"tests/new_start.vtu\")"
   ]
  },
  {
   "cell_type": "markdown",
   "id": "21d00f26-7eab-401e-9401-b9ecfab69285",
   "metadata": {},
   "source": [
    "We can now run trisurf on the new vtu"
   ]
  },
  {
   "cell_type": "code",
   "execution_count": null,
   "id": "0eb758f2-1d6e-49a8-acd0-e87028e5a135",
   "metadata": {},
   "outputs": [],
   "source": [
    "! cd tests && /opt/workspace/msc_project/cluster-trisurf/src/trisurf --restore new_start.vtu -c iterations=20 && cd -"
   ]
  },
  {
   "cell_type": "markdown",
   "id": "6d182652-969e-402e-994f-20e09e5b186e",
   "metadata": {},
   "source": [
    "And this should be done"
   ]
  }
 ],
 "metadata": {
  "kernelspec": {
   "display_name": "Python 3 (ipykernel)",
   "language": "python",
   "name": "python3"
  },
  "language_info": {
   "codemirror_mode": {
    "name": "ipython",
    "version": 3
   },
   "file_extension": ".py",
   "mimetype": "text/x-python",
   "name": "python",
   "nbconvert_exporter": "python",
   "pygments_lexer": "ipython3",
   "version": "3.10.8"
  },
  "toc-autonumbering": false,
  "toc-showcode": false,
  "toc-showmarkdowntxt": false
 },
 "nbformat": 4,
 "nbformat_minor": 5
}
