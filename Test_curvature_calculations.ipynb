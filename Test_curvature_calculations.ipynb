{
 "cells": [
  {
   "cell_type": "markdown",
   "id": "c33d1794-e97e-47fc-879d-e7dc9580223d",
   "metadata": {},
   "source": [
    "### Test curvature calculations ###"
   ]
  },
  {
   "cell_type": "code",
   "execution_count": 1,
   "id": "b5a74486-f5ec-4d29-9da5-408cdde03464",
   "metadata": {},
   "outputs": [],
   "source": [
    "import subprocess, shutil, datetime\n",
    "from pathlib import Path\n",
    "\n",
    "import numpy as np\n",
    "import pandas as pd\n",
    "import matplotlib.pyplot as plt\n",
    "\n",
    "import vtu\n",
    "from vtu import PyVtu\n",
    "from ts_auto_wrapper import TSWrapper"
   ]
  },
  {
   "cell_type": "code",
   "execution_count": 2,
   "id": "2022a678-1936-4cae-975f-7fc4ab89e936",
   "metadata": {},
   "outputs": [],
   "source": [
    "ts=TSWrapper(Path(\"/opt/workspace/msc_project/cluster-trisurf\"))\n",
    "trisurf_test = Path('/opt/workspace/msc_project/simulations'\n",
    "                    '/QA_tests/cluster_version/rework')"
   ]
  },
  {
   "cell_type": "code",
   "execution_count": 3,
   "id": "80927d65-4320-45b1-bb07-add3c388ae80",
   "metadata": {},
   "outputs": [],
   "source": [
    "# children = lambda path: list(sorted(path.iterdir()))\n",
    "# children(trisurf_test)"
   ]
  },
  {
   "cell_type": "code",
   "execution_count": 4,
   "id": "0a0779cd-9591-46ac-81ab-492f8c48fa7a",
   "metadata": {},
   "outputs": [],
   "source": [
    "test_folder = trisurf_test/'egg_carton'\n",
    "tape=None\n",
    "extra_args = []\n",
    "destroy_timesteps_at_end=False # destroy all timesteps after the test\n",
    "timeout = 1000 # seconds to timeout for each `trisurf` test"
   ]
  },
  {
   "cell_type": "code",
   "execution_count": 5,
   "id": "d766e05e-0114-4386-9881-01f27765823d",
   "metadata": {},
   "outputs": [],
   "source": [
    "tape = \"\"\"\n",
    "##################\n",
    "## Trisurf Tape ##\n",
    "##################\n",
    "\n",
    "# a control file for the trisurf simulations\n",
    "# $ are program control\n",
    "# * are initialization only\n",
    "\n",
    "####### Vesicle definitions ###########\n",
    "# * nshell is a number of divisions of dipyramid\n",
    "nshell=20\n",
    "# $ dmax is the max. bond length (in units l_min)\n",
    "dmax=1.7\n",
    "# $ dmin_interspecies in the min. dist. between different vertex species (in units l_min)\n",
    "dmin_interspecies=1.2\n",
    "# $ max step size (in units l_min)\n",
    "stepsize=0.15\n",
    "\n",
    "\n",
    "#######  Cell definitions ############\n",
    "# $ partition space to cells of \n",
    "nxmax=100\n",
    "nymax=100\n",
    "nzmax=100\n",
    "\n",
    "\n",
    "####### Program Control ############\n",
    "# $ how many MC sweeps between subsequent records of states to disk. 200000 is reasonable value\n",
    "mcsweeps=1000\n",
    "# $ how many initial mcsweeps*inititer MC sweeps before recording to disk?\n",
    "inititer=0\n",
    "# $ how many records do you want on the disk iteration are there in a run?\n",
    "iterations=10\n",
    "\n",
    "\n",
    "# $ do not write \"ts_fprintf\" statesments to stdout (for use in cluster)\n",
    "quiet=false\n",
    "\n",
    "\n",
    "######-----------------------------#######\n",
    "###### Memrbane and CMC properties #######\n",
    "######-----------------------------#######\n",
    "\n",
    "# * bending rigidity of the membrane (in units kT)\n",
    "xk0=20\n",
    "# * xk2: Gaussian bending modulus\n",
    "xk2=-20\n",
    "\n",
    "# Each vertex is associated with a type (8 bit flag):\n",
    "#   0x01 : bonding vertex              0x02 : active force vertex\n",
    "#   0x04 : adhesive vertex             0x08 : anisotropic vertex\n",
    "#   0x10 : (reserved for future use)   0x20 : vicsek vertex (correlated force)\n",
    "#   0x40 : edge vertex (not used)      0x80 : ghost vertex (unnmoving) (must be ==type!)\n",
    "#   Bare membrane vertices (default) are adhesive 0x04 (4), \n",
    "# CMC vertices are bonding, active, anisotropic, and correlated 0x2F (47)\n",
    "# * number of CMC vertices (integer)\n",
    "number_of_vertices_with_c0=0\n",
    "# * c0/2 is spontaneous curvature. c0 is used as (c1+c1-c0)^2 in energy term (float)\n",
    "c0=0.5\n",
    "# * d0/2 is spontaneous deviator. d0 is used in shape tensor only (float)\n",
    "# Mismatch = Curvature - c0/2*I - d0/2 sigma_z (i.e. the 1st and 2nd intrinsic curvatures are half the sum and half the difference )\n",
    "d0=0.5\n",
    "\n",
    "# $ curvature model (8 bit flag)\n",
    "#   0x01 : calculate angle-sum gaussian curvature,  0x02 : calculate shape operator, \n",
    "#   0x04 : update director even in the old method.  0x08 : use shape operator energy rather than just save it\n",
    "#   0x10 : use shape, but only for anisotropic.     0x20 : do not rotate director as a MC step\n",
    "#   0x40 : disable old method (use shape op only)   0x80 : calculate angle sum only if kx2!=0\n",
    "# example of important models: \n",
    "# 0: old method. 7: debug, save everything but use energy from old method. 35: parallel transport of directors only\n",
    "curvature_model=15\n",
    "# $ limit sharp edges by imposing the dihedral angle between triangle obeys cos(phi_ab)>X. -1 means no limit\n",
    "min_dihedral_angle_cosine=0.1\n",
    "\n",
    "# * energy of bond between bonding vertices (float, positive value for attraction)\n",
    "w=1.0\n",
    "# $ bond model- vertex of bonding type bind with mean(w). (flag)\n",
    "# 0x1: require type identity.   0x2: nematic interaction between anisotropic vtx\n",
    "bond_model=0\n",
    "\n",
    "# * direct force on active vertices (float)\n",
    "F=1.0\n",
    "# $ force_model- force on active type vertices. (integer flag)\n",
    "#   0: force in normal direction\n",
    "#   1: F proportional nonactive neigh, 2: F proportional nonconcave neigh\n",
    "#   3: F=0 if any neigh is concave\n",
    "#   16: Vicsek, direction aligend with connected neighbors up to radius,\n",
    "#   17: 16, with weight 1/neighbor accoding to distance\n",
    "force_model=0\n",
    "# $ Vicsek: force direction is sum of own normal + (nearest neighbor normals * vicsek_strength)\n",
    "# interaction strength parameter: Vicsek: weight of neighbors (float)\n",
    "vicsek_strength=0.1\n",
    "# $ interaction radius parameter: Vicsek: max. neighbor distance (integer)\n",
    "vicsek_radius=4.0\n",
    "\n",
    "\n",
    "######---------------------#######\n",
    "###### Adhesion to surface #######\n",
    "######---------------------#######\n",
    "\n",
    "# $ Adhesion model (8 bit flag)\n",
    "# energy of any adhesive vertex dx distance from the adhesion geometry \n",
    "# as long as distance is less than the cutoff (dx0)\n",
    "#   0x01: step potential ad_w*(dx/dx0), \n",
    "#   0x02: parabolic ad_w*(1-(dx/dx0)^2)\n",
    "#   0x04: y-anisotropy factor *exp(-y/scale)\n",
    "adhesion_model=1\n",
    "# $ type of adhesion geometry do you want (integer flag)\n",
    "#   1: plane surface               f(r)=z-z0\n",
    "#   2: spherical surface           f(r)=(x**2 + y**2 + (z-z0)**2)-r**2\n",
    "#   3: cylindrical surface         f(r)=((z-z0)**2 + x**2)-r**2\n",
    "#   4: plane-x sinosoidal surface    f(r)=z-(z0+rcos(x))\n",
    "#   5: plane surface with adhesion spots  E*=factor*([x/scale-0.5]**2+[y/scale - 0.5]**2 less than r**2)\n",
    "#   6: plane-xy sinosoidal surface    f(r)=z-(z0+rcos(x)cos(y))\n",
    "adhesion_geometry=6\n",
    "# $ potential range (float in lmin)\n",
    "adhesion_cutoff=1\n",
    "# $ position of the adhesive surface (float)\n",
    "# bipyramid topmost is approx. z_max = 0.630877*nshell, so -z_max is a good guess\n",
    "adhesion_z=-10\n",
    "# $ radius of the sphere or cylinder.\n",
    "adhesion_radius=2.0\n",
    "# $ for sinosoidal, adhesion spot lattice, and y anisotropy (float)\n",
    "adhesion_scale=2.0\n",
    "# $ factor of adhesion on spots (float)\n",
    "adhesion_factor=2.0\n",
    "# * adhesion energy per vertex (float)\n",
    "adhesion_strength=4.0\n",
    "\n",
    "# $ Allow motion of center mass: default (0) reset vesicle to 0,0,0 every few time steps (bool) \n",
    "allow_center_mass_movement=0\n",
    "# $ In active case, we need to apply an external force in the z-direction for overall force balance along z-direction, choose 1 if you want this, 0 otherwise (bool)\n",
    "force_balance_along_z_axis=0\n",
    "\n",
    "\n",
    "######-------------------------------------------#######\n",
    "###### Pressure/volume/area/tension calculations #######\n",
    "######-------------------------------------------#######\n",
    "\n",
    "# all of these are program control (# $)\n",
    "\n",
    "# $ Calculate p*dV energy contribution (bool)\n",
    "pressure_switch=0\n",
    "# $ pressure difference: p_inside - p_outside (in units kT/l_min^3):\n",
    "pressure=0.0\n",
    "\n",
    "# $ Volume constraint/energy (integer flag) \n",
    "#   0: disable constant volume\n",
    "#   1: enable with additional vertex move {broken}\n",
    "#   2: enable with epsvol range\n",
    "#   3: enable parabolic potential (xkV0/2V0 (V-V0)^2)\n",
    "#   4: enable reduced volume parabolic potential (xkV0/2 (V_red_eq-V/Vsph)^2)\n",
    "volume_switch=0\n",
    "constvolprecision=1e-14\n",
    "# $ Rest volume. Set V0 less than 1 to determine volume from initial conditions (see constant_volume tag in .vtu files) (float)\n",
    "V0=0\n",
    "# $ volume modulus (float)\n",
    "# needs some thinking: reasonable values depends on number of vertices N!\n",
    "# reduced volume scaling is between 1/(N Sqrt(N)) and 1/N\n",
    "xkV0=1.0\n",
    "# $ reduce volume at equilibrium (between 0 and 1) (float)\n",
    "Vr=1.0\n",
    "\n",
    "# $ Area constraint/energy (integer flag) \n",
    "#   0: disable constant area, \n",
    "#   1: stretching of triangles\n",
    "#   2: enable constant area with epsarea\n",
    "#   3: enable parabolic potential (xkA0/2A0 (A-A0)^2)\n",
    "area_switch=0\n",
    "# $ Rest area, A0 less than 1 to determine area from initial conditions (see constant_area tag in .vtu files)  (float)\n",
    "A0=0\n",
    "# $ Stretching modulus (float)\n",
    "xkA0=1.0\n",
    "\n",
    "\n",
    "######------######\n",
    "###### misc ######\n",
    "######------######\n",
    "\n",
    "####### Nucleus (inside the vesicle) ###########\n",
    "\n",
    "# $ Radius and $ position of an impenetrable hard sphere inside the vesicle (float)\n",
    "R_nucleus=0\n",
    "R_nucleusX=0\n",
    "R_nucleusY=0\n",
    "R_nucleusZ=0\n",
    "\n",
    "###### Plane confinement ############\n",
    "\n",
    "# $ plane confinement; two plates between the substrate-vesicle system, upper plate in moving downwards untill plan_d, lower plate is stationary\n",
    "plane_confinement_switch=0\n",
    "# $ final plane distance (float in lmin)\n",
    "plane_d=10\n",
    "# $ plane to vesicle repulsion force while closing\n",
    "plane_F=1.0\n",
    "\n",
    "###### Spherical harmonics ###########\n",
    "\n",
    "# $ If 0 then spherical harmonics are not calculated at all. (integer)\n",
    "spherical_harmonics_coefficients=0\n",
    "\n",
    "\n",
    "#####----------------------------------######\n",
    "##### Polymer and filament decorations ######\n",
    "#####----------------------------------######\n",
    "\n",
    "####### Polymer (brush) definitions ###########\n",
    "# * npoly is a number of polymers attached to npoly distinct vertices on vesicle\n",
    "npoly=0\n",
    "# * nmono is a number of monomers in each polymer\n",
    "nmono=20\n",
    "# $ Spring constant between monomers of the polymer\n",
    "k_spring=800\n",
    "# * set to 1 if half of the polymeres are inside the vesicle\n",
    "internal_poly=0\n",
    "\n",
    "####### Filament (inside the vesicle) definitions ###########\n",
    "# * nfil is a number of filaments inside the vesicle\n",
    "nfil=0\n",
    "# * nfono is a number of monomers in each filament\n",
    "nfono=3\n",
    "# $ Persistence lenght of the filaments (in units l_min)\n",
    "xi=100\n",
    "\n",
    "##### no multiprocessing #######\n",
    "\n",
    "\"\"\""
   ]
  },
  {
   "cell_type": "code",
   "execution_count": 6,
   "id": "e337692e-7b69-40d6-8f5c-29c3128663b3",
   "metadata": {},
   "outputs": [
    {
     "ename": "RuntimeError",
     "evalue": "Are you sure you want to re-run trisurf? if not, skip this chunk",
     "output_type": "error",
     "traceback": [
      "\u001b[0;31m---------------------------------------------------------------------------\u001b[0m",
      "\u001b[0;31mRuntimeError\u001b[0m                              Traceback (most recent call last)",
      "Cell \u001b[0;32mIn[6], line 1\u001b[0m\n\u001b[0;32m----> 1\u001b[0m \u001b[38;5;28;01mraise\u001b[39;00m \u001b[38;5;167;01mRuntimeError\u001b[39;00m(\u001b[38;5;124m\"\u001b[39m\u001b[38;5;124mAre you sure you want to re-run trisurf? if not, skip this chunk\u001b[39m\u001b[38;5;124m\"\u001b[39m)\n",
      "\u001b[0;31mRuntimeError\u001b[0m: Are you sure you want to re-run trisurf? if not, skip this chunk"
     ]
    }
   ],
   "source": [
    "raise RuntimeError(\"Are you sure you want to re-run trisurf? if not, skip this chunk\")"
   ]
  },
  {
   "cell_type": "markdown",
   "id": "85eeaf3a-4f8c-4d20-aa09-86300b315369",
   "metadata": {
    "tags": []
   },
   "source": [
    "### Make a new folder if there isn't one ###"
   ]
  },
  {
   "cell_type": "code",
   "execution_count": 27,
   "id": "3a474305-68d7-4c6e-9b0f-a14439a27de7",
   "metadata": {},
   "outputs": [],
   "source": [
    "new_folder=None\n",
    "if not test_folder:\n",
    "    # make up some appropriate folder\n",
    "    now = datetime.datetime.now()\n",
    "    ret = subprocess.run(['git', 'status'],cwd=ts.path_to_trisurf,capture_output=True)\n",
    "    branch = ret.stdout.decode().partition('On branch ')[-1].splitlines()[0].strip()\n",
    "    new_folder = f'{now.year:04}_{now.month:02}_{now.day:02}_{branch}'\n",
    "    test_folder = trisurf_test/new_folder\n",
    "new_folder"
   ]
  },
  {
   "cell_type": "code",
   "execution_count": 28,
   "id": "ceb7d909-11d1-48fa-b455-9d257428e07b",
   "metadata": {},
   "outputs": [],
   "source": [
    "if not test_folder.exists():\n",
    "    test_folder.mkdir()\n",
    "    test_folder.joinpath('test_results').mkdir()\n",
    "elif new_folder is not None:\n",
    "    raise ValueError(f'folder {test_folder} for today already exists: Rename or delete to run test')"
   ]
  },
  {
   "cell_type": "markdown",
   "id": "4a5ddcda-4eea-4e29-aad5-c9ec1dd71515",
   "metadata": {},
   "source": [
    "### copy the tape to the new folder ###"
   ]
  },
  {
   "cell_type": "code",
   "execution_count": 29,
   "id": "338f11bb-a492-40b7-b642-0d1c11fbb249",
   "metadata": {},
   "outputs": [],
   "source": [
    "if tape is None:\n",
    "    shutil.copy(ts.path_to_trisurf/\"src/tape\",test_folder/\"tape\")\n",
    "if type(tape) is str:\n",
    "    with open(test_folder/\"tape\",'w') as f: f.write(tape);\n",
    "else:\n",
    "    shutil.copy(tape,test_folder/\"tape\")"
   ]
  },
  {
   "cell_type": "markdown",
   "id": "d4aa1cd5-336d-451a-bacc-9bb32f36b66a",
   "metadata": {},
   "source": [
    "## Check force from tape ##"
   ]
  },
  {
   "cell_type": "code",
   "execution_count": 30,
   "id": "939cda45-e2d0-4234-aae5-6045b99d5cb6",
   "metadata": {},
   "outputs": [],
   "source": [
    "ret = subprocess.run([ts.path_to_trisurf/\"src/trisurf\", \"--force-from-tape\", *extra_args],\n",
    "                     cwd=test_folder, timeout=timeout, capture_output=True)"
   ]
  },
  {
   "cell_type": "code",
   "execution_count": 31,
   "id": "4b885d98-c670-457c-9059-3f7acf1bcaec",
   "metadata": {
    "scrolled": true,
    "tags": []
   },
   "outputs": [
    {
     "name": "stdout",
     "output_type": "stream",
     "text": [
      "[2023-05-29 16:01:21] TRISURF-NG v. 24764b9, compiled on: May 29 2023 15:25:02.\n",
      "[2023-05-29 16:01:21] Programming done by: Samo Penic and Miha Fosnaric\n",
      "[2023-05-29 16:01:21] Released under terms of GPLv3\n",
      "[2023-05-29 16:01:21] Starting program...\n",
      "\n",
      "[2023-05-29 16:01:21] ************************************************\n",
      "[2023-05-29 16:01:21] **** Generating initial geometry from tape *****\n",
      "[2023-05-29 16:01:21] ************************************************\n",
      "\n",
      "[2023-05-29 16:01:21] Starting initial_distribution on vesicle with 20 shells!...\n",
      "[2023-05-29 16:01:22] initial_distribution finished!\n",
      "[2023-05-29 16:01:22] using debug curvature model 15 (use new energy): set to 7 to use the old energy method\n",
      "[2023-05-29 16:01:22] simulation seed 1685365282\n",
      "[2023-05-29 16:01:22] Setting volume V0=8335.95031008003388706\n",
      "[2023-05-29 16:01:22] Setting area A0=2494.15316289923475779\n",
      "[2023-05-29 16:01:32] Done 1 out of 10 iterations (x 1000 MC sweeps).\n",
      "[2023-05-29 16:01:43] Done 2 out of 10 iterations (x 1000 MC sweeps).\n",
      "[2023-05-29 16:01:54] Done 3 out of 10 iterations (x 1000 MC sweeps).\n",
      "[2023-05-29 16:02:04] Done 4 out of 10 iterations (x 1000 MC sweeps).\n",
      "[2023-05-29 16:02:15] Done 5 out of 10 iterations (x 1000 MC sweeps).\n",
      "[2023-05-29 16:02:26] Done 6 out of 10 iterations (x 1000 MC sweeps).\n",
      "[2023-05-29 16:02:37] Done 7 out of 10 iterations (x 1000 MC sweeps).\n",
      "[2023-05-29 16:02:47] Done 8 out of 10 iterations (x 1000 MC sweeps).\n",
      "[2023-05-29 16:02:57] Done 9 out of 10 iterations (x 1000 MC sweeps).\n",
      "[2023-05-29 16:03:07] Done 10 out of 10 iterations (x 1000 MC sweeps).\n",
      "\n"
     ]
    }
   ],
   "source": [
    "with open(test_folder/\"test_results\"/\"force_stdout.txt\",'w') as f: \n",
    "    f.write(ret.stdout.decode()+'\\n'+ret.stderr.decode())\n",
    "shutil.copy(test_folder/\"statistics.csv\",test_folder/\"test_results\"/\"force_statistics.csv\")\n",
    "print(ret.stdout.decode())"
   ]
  },
  {
   "cell_type": "code",
   "execution_count": 34,
   "id": "56d36c82-0b20-42a0-a817-7f8605833da3",
   "metadata": {},
   "outputs": [],
   "source": [
    "ret = subprocess.run([ts.path_to_trisurf/\"src/trisurf\", '-c iterations=150',*extra_args],\n",
    "                     cwd=test_folder, timeout=10*timeout, capture_output=True)"
   ]
  },
  {
   "cell_type": "code",
   "execution_count": 35,
   "id": "5ce99561-f5f1-4c10-a8b6-fe60d8560c2c",
   "metadata": {
    "scrolled": true,
    "tags": []
   },
   "outputs": [
    {
     "name": "stdout",
     "output_type": "stream",
     "text": [
      "[2023-05-29 16:13:18] TRISURF-NG v. 24764b9, compiled on: May 29 2023 15:25:02.\n",
      "[2023-05-29 16:13:18] Programming done by: Samo Penic and Miha Fosnaric\n",
      "[2023-05-29 16:13:18] Released under terms of GPLv3\n",
      "[2023-05-29 16:13:18] Starting program...\n",
      "\n",
      "[2023-05-29 16:13:18] **********************************************************************\n",
      "[2023-05-29 16:13:18] **** Recreating vesicle from dump file and continuing simulation *****\n",
      "[2023-05-29 16:13:18] **********************************************************************\n",
      "\n",
      "[2023-05-29 16:13:18] using debug curvature model 15 (use new energy): set to 7 to use the old energy method\n",
      "[2023-05-29 16:13:18] simulation seed 1685365998\n",
      "[2023-05-29 16:13:18] Setting volume V0=13701.25434041755761427\n",
      "[2023-05-29 16:13:18] Setting area A0=2982.33844155898896133\n",
      "[2023-05-29 16:13:27] Done 51 out of 150 iterations (x 1000 MC sweeps).\n",
      "[2023-05-29 16:13:37] Done 52 out of 150 iterations (x 1000 MC sweeps).\n",
      "[2023-05-29 16:13:47] Done 53 out of 150 iterations (x 1000 MC sweeps).\n",
      "[2023-05-29 16:13:56] Done 54 out of 150 iterations (x 1000 MC sweeps).\n",
      "[2023-05-29 16:14:06] Done 55 out of 150 iterations (x 1000 MC sweeps).\n",
      "[2023-05-29 16:14:16] Done 56 out of 150 iterations (x 1000 MC sweeps).\n",
      "[2023-05-29 16:14:25] Done 57 out of 150 iterations (x 1000 MC sweeps).\n",
      "[2023-05-29 16:14:35] Done 58 out of 150 iterations (x 1000 MC sweeps).\n",
      "[2023-05-29 16:14:45] Done 59 out of 150 iterations (x 1000 MC sweeps).\n",
      "[2023-05-29 16:14:54] Done 60 out of 150 iterations (x 1000 MC sweeps).\n",
      "[2023-05-29 16:15:04] Done 61 out of 150 iterations (x 1000 MC sweeps).\n",
      "[2023-05-29 16:15:14] Done 62 out of 150 iterations (x 1000 MC sweeps).\n",
      "[2023-05-29 16:15:24] Done 63 out of 150 iterations (x 1000 MC sweeps).\n",
      "[2023-05-29 16:15:33] Done 64 out of 150 iterations (x 1000 MC sweeps).\n",
      "[2023-05-29 16:15:43] Done 65 out of 150 iterations (x 1000 MC sweeps).\n",
      "[2023-05-29 16:15:53] Done 66 out of 150 iterations (x 1000 MC sweeps).\n",
      "[2023-05-29 16:16:02] Done 67 out of 150 iterations (x 1000 MC sweeps).\n",
      "[2023-05-29 16:16:12] Done 68 out of 150 iterations (x 1000 MC sweeps).\n",
      "[2023-05-29 16:16:22] Done 69 out of 150 iterations (x 1000 MC sweeps).\n",
      "[2023-05-29 16:16:32] Done 70 out of 150 iterations (x 1000 MC sweeps).\n",
      "[2023-05-29 16:16:42] Done 71 out of 150 iterations (x 1000 MC sweeps).\n",
      "[2023-05-29 16:16:51] Done 72 out of 150 iterations (x 1000 MC sweeps).\n",
      "[2023-05-29 16:17:01] Done 73 out of 150 iterations (x 1000 MC sweeps).\n",
      "[2023-05-29 16:17:11] Done 74 out of 150 iterations (x 1000 MC sweeps).\n",
      "[2023-05-29 16:17:21] Done 75 out of 150 iterations (x 1000 MC sweeps).\n",
      "[2023-05-29 16:17:31] Done 76 out of 150 iterations (x 1000 MC sweeps).\n",
      "[2023-05-29 16:17:41] Done 77 out of 150 iterations (x 1000 MC sweeps).\n",
      "[2023-05-29 16:17:52] Done 78 out of 150 iterations (x 1000 MC sweeps).\n",
      "[2023-05-29 16:18:04] Done 79 out of 150 iterations (x 1000 MC sweeps).\n",
      "[2023-05-29 16:18:15] Done 80 out of 150 iterations (x 1000 MC sweeps).\n",
      "[2023-05-29 16:18:25] Done 81 out of 150 iterations (x 1000 MC sweeps).\n",
      "[2023-05-29 16:18:36] Done 82 out of 150 iterations (x 1000 MC sweeps).\n",
      "[2023-05-29 16:18:46] Done 83 out of 150 iterations (x 1000 MC sweeps).\n",
      "[2023-05-29 16:18:56] Done 84 out of 150 iterations (x 1000 MC sweeps).\n",
      "[2023-05-29 16:19:06] Done 85 out of 150 iterations (x 1000 MC sweeps).\n",
      "[2023-05-29 16:19:16] Done 86 out of 150 iterations (x 1000 MC sweeps).\n",
      "[2023-05-29 16:19:26] Done 87 out of 150 iterations (x 1000 MC sweeps).\n",
      "[2023-05-29 16:19:35] Done 88 out of 150 iterations (x 1000 MC sweeps).\n",
      "[2023-05-29 16:19:45] Done 89 out of 150 iterations (x 1000 MC sweeps).\n",
      "[2023-05-29 16:19:55] Done 90 out of 150 iterations (x 1000 MC sweeps).\n",
      "[2023-05-29 16:20:05] Done 91 out of 150 iterations (x 1000 MC sweeps).\n",
      "[2023-05-29 16:20:15] Done 92 out of 150 iterations (x 1000 MC sweeps).\n",
      "[2023-05-29 16:20:24] Done 93 out of 150 iterations (x 1000 MC sweeps).\n",
      "[2023-05-29 16:20:34] Done 94 out of 150 iterations (x 1000 MC sweeps).\n",
      "[2023-05-29 16:20:44] Done 95 out of 150 iterations (x 1000 MC sweeps).\n",
      "[2023-05-29 16:20:54] Done 96 out of 150 iterations (x 1000 MC sweeps).\n",
      "[2023-05-29 16:21:03] Done 97 out of 150 iterations (x 1000 MC sweeps).\n",
      "[2023-05-29 16:21:13] Done 98 out of 150 iterations (x 1000 MC sweeps).\n",
      "[2023-05-29 16:21:23] Done 99 out of 150 iterations (x 1000 MC sweeps).\n",
      "[2023-05-29 16:21:33] Done 100 out of 150 iterations (x 1000 MC sweeps).\n",
      "[2023-05-29 16:21:43] Done 101 out of 150 iterations (x 1000 MC sweeps).\n",
      "[2023-05-29 16:21:52] Done 102 out of 150 iterations (x 1000 MC sweeps).\n",
      "[2023-05-29 16:22:02] Done 103 out of 150 iterations (x 1000 MC sweeps).\n",
      "[2023-05-29 16:22:12] Done 104 out of 150 iterations (x 1000 MC sweeps).\n",
      "[2023-05-29 16:22:22] Done 105 out of 150 iterations (x 1000 MC sweeps).\n",
      "[2023-05-29 16:22:31] Done 106 out of 150 iterations (x 1000 MC sweeps).\n",
      "[2023-05-29 16:22:41] Done 107 out of 150 iterations (x 1000 MC sweeps).\n",
      "[2023-05-29 16:22:51] Done 108 out of 150 iterations (x 1000 MC sweeps).\n",
      "[2023-05-29 16:23:01] Done 109 out of 150 iterations (x 1000 MC sweeps).\n",
      "[2023-05-29 16:23:12] Done 110 out of 150 iterations (x 1000 MC sweeps).\n",
      "[2023-05-29 16:23:22] Done 111 out of 150 iterations (x 1000 MC sweeps).\n",
      "[2023-05-29 16:23:33] Done 112 out of 150 iterations (x 1000 MC sweeps).\n",
      "[2023-05-29 16:23:44] Done 113 out of 150 iterations (x 1000 MC sweeps).\n",
      "[2023-05-29 16:23:54] Done 114 out of 150 iterations (x 1000 MC sweeps).\n",
      "[2023-05-29 16:24:05] Done 115 out of 150 iterations (x 1000 MC sweeps).\n",
      "[2023-05-29 16:24:16] Done 116 out of 150 iterations (x 1000 MC sweeps).\n",
      "[2023-05-29 16:24:26] Done 117 out of 150 iterations (x 1000 MC sweeps).\n",
      "[2023-05-29 16:24:37] Done 118 out of 150 iterations (x 1000 MC sweeps).\n",
      "[2023-05-29 16:24:47] Done 119 out of 150 iterations (x 1000 MC sweeps).\n",
      "[2023-05-29 16:24:58] Done 120 out of 150 iterations (x 1000 MC sweeps).\n",
      "[2023-05-29 16:25:08] Done 121 out of 150 iterations (x 1000 MC sweeps).\n",
      "[2023-05-29 16:25:19] Done 122 out of 150 iterations (x 1000 MC sweeps).\n",
      "[2023-05-29 16:25:29] Done 123 out of 150 iterations (x 1000 MC sweeps).\n",
      "[2023-05-29 16:25:40] Done 124 out of 150 iterations (x 1000 MC sweeps).\n",
      "[2023-05-29 16:25:50] Done 125 out of 150 iterations (x 1000 MC sweeps).\n",
      "[2023-05-29 16:26:01] Done 126 out of 150 iterations (x 1000 MC sweeps).\n",
      "[2023-05-29 16:26:12] Done 127 out of 150 iterations (x 1000 MC sweeps).\n",
      "[2023-05-29 16:26:22] Done 128 out of 150 iterations (x 1000 MC sweeps).\n",
      "[2023-05-29 16:26:36] Done 129 out of 150 iterations (x 1000 MC sweeps).\n",
      "[2023-05-29 16:26:49] Done 130 out of 150 iterations (x 1000 MC sweeps).\n",
      "[2023-05-29 16:27:00] Done 131 out of 150 iterations (x 1000 MC sweeps).\n",
      "[2023-05-29 16:27:11] Done 132 out of 150 iterations (x 1000 MC sweeps).\n",
      "[2023-05-29 16:27:21] Done 133 out of 150 iterations (x 1000 MC sweeps).\n",
      "[2023-05-29 16:27:31] Done 134 out of 150 iterations (x 1000 MC sweeps).\n",
      "[2023-05-29 16:27:42] Done 135 out of 150 iterations (x 1000 MC sweeps).\n",
      "[2023-05-29 16:27:53] Done 136 out of 150 iterations (x 1000 MC sweeps).\n",
      "[2023-05-29 16:28:06] Done 137 out of 150 iterations (x 1000 MC sweeps).\n",
      "[2023-05-29 16:28:21] Done 138 out of 150 iterations (x 1000 MC sweeps).\n",
      "[2023-05-29 16:28:32] Done 139 out of 150 iterations (x 1000 MC sweeps).\n",
      "[2023-05-29 16:28:43] Done 140 out of 150 iterations (x 1000 MC sweeps).\n",
      "[2023-05-29 16:28:54] Done 141 out of 150 iterations (x 1000 MC sweeps).\n",
      "[2023-05-29 16:29:05] Done 142 out of 150 iterations (x 1000 MC sweeps).\n",
      "[2023-05-29 16:29:16] Done 143 out of 150 iterations (x 1000 MC sweeps).\n",
      "[2023-05-29 16:29:27] Done 144 out of 150 iterations (x 1000 MC sweeps).\n",
      "[2023-05-29 16:29:38] Done 145 out of 150 iterations (x 1000 MC sweeps).\n",
      "[2023-05-29 16:29:49] Done 146 out of 150 iterations (x 1000 MC sweeps).\n",
      "[2023-05-29 16:29:59] Done 147 out of 150 iterations (x 1000 MC sweeps).\n",
      "[2023-05-29 16:30:10] Done 148 out of 150 iterations (x 1000 MC sweeps).\n",
      "[2023-05-29 16:30:20] Done 149 out of 150 iterations (x 1000 MC sweeps).\n",
      "[2023-05-29 16:30:32] Done 150 out of 150 iterations (x 1000 MC sweeps).\n",
      "\n"
     ]
    }
   ],
   "source": [
    "with open(test_folder/\"test_results\"/\"continute2_stdout.txt\",'w') as f: \n",
    "    f.write(ret.stdout.decode()+'\\n'+ret.stderr.decode())\n",
    "shutil.copy(test_folder/\"statistics.csv\",test_folder/\"test_results\"/\"continute2_statistics.csv\")\n",
    "print(ret.stdout.decode())"
   ]
  },
  {
   "cell_type": "markdown",
   "id": "a4247ef3-4ed9-4c23-a53e-d91efa24574f",
   "metadata": {},
   "source": [
    "## Main part of the test"
   ]
  },
  {
   "cell_type": "code",
   "execution_count": 7,
   "id": "3033466d-7a94-490e-b5be-fe6d848cfd9b",
   "metadata": {},
   "outputs": [],
   "source": [
    "fileloc = list(sorted(test_folder.glob('timestep*')))[-1]"
   ]
  },
  {
   "cell_type": "code",
   "execution_count": 8,
   "id": "2b071f6d-314a-4c0e-95b3-5307042eedf1",
   "metadata": {},
   "outputs": [
    {
     "data": {
      "text/plain": [
       "PosixPath('/opt/workspace/msc_project/simulations/QA_tests/cluster_version/rework/egg_carton/timestep_000174.vtu')"
      ]
     },
     "execution_count": 8,
     "metadata": {},
     "output_type": "execute_result"
    }
   ],
   "source": [
    "fileloc"
   ]
  },
  {
   "cell_type": "code",
   "execution_count": 9,
   "id": "25d4ed70-25be-4a7d-90ab-ddc8146a78f6",
   "metadata": {},
   "outputs": [],
   "source": [
    "vesicle = ts.parseDump(fileloc)"
   ]
  },
  {
   "cell_type": "code",
   "execution_count": 10,
   "id": "b1005d90-84eb-49af-af3f-a793ff1317d0",
   "metadata": {},
   "outputs": [],
   "source": [
    "v = PyVtu(fileloc)\n",
    "v2 = PyVtu(fileloc) # we will place here the values from vesicle"
   ]
  },
  {
   "cell_type": "code",
   "execution_count": 11,
   "id": "bda5d02a-81c6-40c1-8053-3efaddc197a7",
   "metadata": {},
   "outputs": [],
   "source": [
    "def iter_xlist(vesiclePtr,xlist_name='vlist',as_pointer=False):\n",
    "    \"\"\"Iterate over some vesicle->xlist->xs. Default vesicle->vlist->vtx[:vlist.n].\"\"\"\n",
    "    lst = vesiclePtr.contents.__getattribute__(xlist_name)\n",
    "    if xlist_name=='vlist':\n",
    "        n, lst = lst.contents.n, lst.contents.vtx\n",
    "    elif xlist_name=='clist':\n",
    "        n, lst = lst.contents.cellno, lst.contents.cell\n",
    "    elif xlist_name=='tlist':\n",
    "        n, lst = lst.contents.n, lst.contents.tria\n",
    "    elif xlist_name=='blist':\n",
    "        n, lst = lst.contents.n, lst.contents.bond\n",
    "    else:\n",
    "        raise ValueError(f'{xlist_name} not in vlist,clist,tlist,blist')\n",
    "    if as_pointer:\n",
    "        for i in range(n):\n",
    "            yield lst[i]\n",
    "    else:\n",
    "        for i in range(n):\n",
    "            yield lst[i].contents"
   ]
  },
  {
   "cell_type": "code",
   "execution_count": 12,
   "id": "8b4bb34f-99d9-4a4f-98ba-afda6aabe7cf",
   "metadata": {},
   "outputs": [],
   "source": [
    "def replace_pyvtu_values_from_vesicle(v,vesiclePtr):\n",
    "    \"\"\"Replace the values the PyVtu arrays with values from the wrapper.\"\"\"\n",
    "    blen = vesicle.contents.blist.contents.n\n",
    "    tlen = vesicle.contents.tlist.contents.n\n",
    "    v.pos[:] = [(x.x,x.y,x.z) for x in iter_xlist(vesicle)]\n",
    "    v.add_array('neigh_no',np.array([x.neigh_no for x in iter_xlist(vesicle)]))\n",
    "    v.c0[:] = [x.c for x in iter_xlist(vesicle)]\n",
    "    v.e[:] = [x.energy for x in iter_xlist(vesicle)]\n",
    "    # newer version stuff (can fail but who cares?)\n",
    "    v.w[:] = [x.w for x in iter_xlist(vesicle)]\n",
    "    v.f0[:] = [x.f for x in iter_xlist(vesicle)]\n",
    "    v.face_normal[-tlen:] = np.array([(x.xnorm, x.ynorm, x.znorm) for x in iter_xlist(vesicle,\"tlist\")])\n",
    "    v.normal[:] = [(x.nx,x.ny,x.nz) for x in iter_xlist(vesicle)]\n",
    "    v.force[:] =[(x.fx,x.fy,x.fz) for x in iter_xlist(vesicle)]\n",
    "    v.director[:] = [(x.dx,x.dy,x.dz) for x in iter_xlist(vesicle)]\n",
    "    v.eig0[:] = [x.eig0[:] for x in iter_xlist(vesicle)]\n",
    "    v.eig1[:] = [x.eig1[:] for x in iter_xlist(vesicle)]\n",
    "    v.eig2[:] = [x.eig2[:] for x in iter_xlist(vesicle)]\n",
    "    v.ad_w[:] = [x.ad_w for x in iter_xlist(vesicle)]\n",
    "    v.type[:] = [ts.byte_to_int(x.type) for x in iter_xlist(vesicle)]\n",
    "    v.eigenvalue_0[:] = [x.eig_v0 for x in iter_xlist(vesicle)]\n",
    "    v.eigenvalue_1[:] = [x.eig_v1 for x in iter_xlist(vesicle)]\n",
    "    v.eigenvalue_2[:] = [x.eig_v2 for x in iter_xlist(vesicle)]\n",
    "    v.k[:] = [x.xk for x in iter_xlist(vesicle)]\n",
    "    v.k2[:] = [x.xk2 for x in iter_xlist(vesicle)]\n",
    "    v.mean_curvature[:] = [x.mean_curvature for x in iter_xlist(vesicle)]\n",
    "    v.gaussian_curvature[:] = [x.gaussian_curvature for x in iter_xlist(vesicle)]\n",
    "    v.mean_curvature2[:] = [x.mean_curvature2 for x in iter_xlist(vesicle)]\n",
    "    v.gaussian_curvature2[:] = [x.gaussian_curvature2 for x in iter_xlist(vesicle)]\n",
    "    v.add_array('circumcenter',np.array(([(0,0,0)]*blen)+[(x.xcirc,x.ycirc,x.zcirc) for x in iter_xlist(vesicle,'tlist')]),parent='CellData')\n",
    "    "
   ]
  },
  {
   "cell_type": "code",
   "execution_count": 13,
   "id": "852ba4f2-c630-4d52-9e69-edb4c4446f65",
   "metadata": {},
   "outputs": [],
   "source": [
    "try:\n",
    "    replace_pyvtu_values_from_vesicle(v2,vesicle)\n",
    "except AttributeError as e:\n",
    "    print(f'partial replacement: {e}')"
   ]
  },
  {
   "cell_type": "code",
   "execution_count": 14,
   "id": "bf686249-d3d4-4360-9fce-c79b5bb3eb89",
   "metadata": {},
   "outputs": [],
   "source": [
    "vertices = list(iter_xlist(vesicle,as_pointer=True))"
   ]
  },
  {
   "cell_type": "code",
   "execution_count": 15,
   "id": "f14f0f97-babe-47e1-a685-3e5da39c8ab7",
   "metadata": {},
   "outputs": [
    {
     "name": "stdout",
     "output_type": "stream",
     "text": [
      "0.057343364954222764\n",
      "-0.007951333353483414\n",
      "0.0006657751624229435\n",
      "0.05082147503765089\n",
      "0.08107853294994449\n",
      "0.08937070352238949\n",
      "0.0056498574402823465\n",
      "0.012495525616497138\n",
      "0.052022386874286425\n",
      "0.06880309845287247\n"
     ]
    }
   ],
   "source": [
    "for i in v.indices[-10:]:\n",
    "    print(ts.adhesion_geometry_distance(vesicle,vertices[i]))"
   ]
  },
  {
   "cell_type": "code",
   "execution_count": 16,
   "id": "5f3d5c99-a9c5-4e3b-82e3-b2fdaec1a924",
   "metadata": {},
   "outputs": [
    {
     "data": {
      "text/plain": [
       "1.0"
      ]
     },
     "execution_count": 16,
     "metadata": {},
     "output_type": "execute_result"
    }
   ],
   "source": [
    "vesicle.contents.tape.contents.adhesion_cutoff"
   ]
  },
  {
   "cell_type": "code",
   "execution_count": 17,
   "id": "b6af0cf9-2502-4fcb-94c8-f4f98b935b0b",
   "metadata": {},
   "outputs": [
    {
     "data": {
      "text/plain": [
       "1000"
      ]
     },
     "execution_count": 17,
     "metadata": {},
     "output_type": "execute_result"
    }
   ],
   "source": [
    "vesicle.contents.tape.contents.mcsweeps"
   ]
  },
  {
   "cell_type": "code",
   "execution_count": 18,
   "id": "cbddd7e3-2b94-4563-af9c-9e266b4ad6b4",
   "metadata": {},
   "outputs": [
    {
     "data": {
      "text/plain": [
       "-9.81323344309102"
      ]
     },
     "execution_count": 18,
     "metadata": {},
     "output_type": "execute_result"
    }
   ],
   "source": [
    "vesicle.contents.vlist.contents.vtx[2000].contents.z"
   ]
  },
  {
   "cell_type": "code",
   "execution_count": 19,
   "id": "b58a572a-de65-4b2b-8ad1-9403116d00d7",
   "metadata": {},
   "outputs": [],
   "source": [
    "# ts.run_simulation(vesicle,1000,0,175,160)"
   ]
  },
  {
   "cell_type": "code",
   "execution_count": 20,
   "id": "ec68f077-91ed-418b-99a3-19f34b0c1eca",
   "metadata": {},
   "outputs": [],
   "source": [
    "adhesion_dist = [ts.adhesion_geometry_distance(vesicle,vtx) for vtx in vertices]"
   ]
  },
  {
   "cell_type": "code",
   "execution_count": 21,
   "id": "3aff74ed-09ff-44a5-8cb6-7e96155cfa95",
   "metadata": {},
   "outputs": [
    {
     "data": {
      "text/plain": [
       "[-0.010796762018209893,\n",
       " -0.005972522527997404,\n",
       " 0.04935284648946614,\n",
       " 0.05198800806118298,\n",
       " 0.0019247927741411486,\n",
       " 0.035448951500064496,\n",
       " 0.08658972780977418,\n",
       " 0.03522294538548365,\n",
       " 0.10423973625628724,\n",
       " 0.01148035019445115,\n",
       " 0.057343364954222764,\n",
       " -0.007951333353483414,\n",
       " 0.0006657751624229435,\n",
       " 0.05082147503765089,\n",
       " 0.08107853294994449,\n",
       " 0.08937070352238949,\n",
       " 0.0056498574402823465,\n",
       " 0.012495525616497138,\n",
       " 0.052022386874286425,\n",
       " 0.06880309845287247]"
      ]
     },
     "execution_count": 21,
     "metadata": {},
     "output_type": "execute_result"
    }
   ],
   "source": [
    "adhesion_dist[-20:]"
   ]
  },
  {
   "cell_type": "code",
   "execution_count": 22,
   "id": "f7d67660-861b-41e6-bc12-2a237e5d1a8f",
   "metadata": {},
   "outputs": [],
   "source": [
    "class MongeGauge:\n",
    "\n",
    "    def __init__(self,x,y,c0,r,z0):\n",
    "        \"\"\"Compute monge gauge for h(x,y) = z0+r*cos(x/c0)*cos(y/c0)\"\"\"\n",
    "        self.x=x\n",
    "        self.y=y\n",
    "        self.z0=z0\n",
    "        self.r=r\n",
    "        self.c0=c0\n",
    "        self.R = r*np.cos(x/c0)*np.cos(y/c0)+z0\n",
    "        self.z=self.R\n",
    "        self.Rx, self.Ry = -r*np.sin(x/c0)*np.cos(y/c0)/c0, -r*np.cos(x/c0)*np.sin(y/c0)/c0\n",
    "        self.Rxx = r*np.cos(x/c0)*np.cos(y/c0)/(-c0**2)\n",
    "        self.Ryy = r*np.cos(x/c0)*np.cos(y/c0)/(-c0**2)\n",
    "        self.Rxy = r*np.sin(x/c0)*np.sin(y/c0)/(c0**2)\n",
    "        self.J = np.array([[1,0,self.Rx],[0,1,self.Ry],[0,0,1]])\n",
    "        self.e1,self.e2,self.e3 = self.J\n",
    "        self.g_ab = np.array([[1+self.Rx**2,self.Rx*self.Ry],\n",
    "                              [self.Rx*self.Ry,1+self.Ry**2]])\n",
    "        self.g = 1+self.Rx**2+self.Ry**2\n",
    "        self.sqrtg = (self.g**0.5)\n",
    "        self.gab = np.array([[1+self.Ry**2,-self.Rx*self.Ry],\n",
    "                             [-self.Rx*self.Ry,1+self.Rx**2]])/self.g\n",
    "        self.n = np.array([-self.Rx,-self.Ry,1])/self.sqrtg\n",
    "        self.K_ab = np.array([[self.Rxx,self.Rxy],\n",
    "                              [self.Rxy,self.Ryy]])/self.sqrtg\n",
    "        self.Sa_b = self.K_ab@self.gab\n",
    "        self.H, self.KG = self.Sa_b.trace()/2, np.linalg.det(self.Sa_b)\n",
    "        self.xyzFromab = np.array([self.e1,self.e2])\n",
    "        self.Jinv = np.linalg.inv(self.J)\n"
   ]
  },
  {
   "cell_type": "code",
   "execution_count": 23,
   "id": "081d1a2e-e06c-4fb0-b97d-4c8a8f5b4b41",
   "metadata": {},
   "outputs": [],
   "source": [
    "def monge_gaugs(x,y,c0,r,z0):\n",
    "    \"\"\"Compute monge gauge for h(x,y) = z0+r*cos(x/c0)*cos(y/c0)\"\"\"\n",
    "    R = r*np.cos(x/c0)*np.cos(y/c0)+z0\n",
    "    Rx, Ry = -r*np.sin(x/c0)*np.cos(y/c0)/c0, -r*np.cos(x/c0)*np.sin(y/c0)/c0\n",
    "    Rxx = r*np.cos(x/c0)*np.cos(y/c0)/(-c0**2)\n",
    "    Ryy = r*np.cos(x/c0)*np.cos(y/c0)/(-c0**2)\n",
    "    Rxy = r*np.sin(x/c0)*np.sin(y/c0)/(c0**2)\n",
    "    e1,e2,e3 = np.array([1,0,Rx]), np.array([0,1,Ry]),np.array([0,0,1])\n",
    "    e1, e2 = e1/(np.linalg.norm(e1)), e2/(np.linalg.norm(e2))\n",
    "    g_ab = np.array([[1+Rx**2,Rx*Ry],[Rx*Ry,1+Ry**2]])\n",
    "    g = 1+Rx**2+Ry**2\n",
    "    sqrtg = (g**0.5)\n",
    "    gab = np.array([[1+Ry**2,-Rx*Ry],[-Rx*Ry,1+Rx**2]])/g\n",
    "    n = np.array([-Rx,-Ry,1])/sqrtg\n",
    "    K_ab = np.array([[Rxx,Rxy],[Rxy,Ryy]])/sqrtg\n",
    "    Sa_b = gab@K_ab\n",
    "    K,KG = Sa_b.trace(), np.linalg.det(Sa_b)\n",
    "    return Sa_b, K, KG"
   ]
  },
  {
   "cell_type": "code",
   "execution_count": 24,
   "id": "fca047f9-2d6e-46ee-9004-fd8944cc86c4",
   "metadata": {},
   "outputs": [],
   "source": [
    "def expected_curvature(vesicle,vtx):\n",
    "    r = vesicle.contents.tape.contents.adhesion_radius\n",
    "    c0 = vesicle.contents.tape.contents.adhesion_scale\n",
    "    z0 = vesicle.contents.tape.contents.adhesion_z\n",
    "    x,y,z = vtx.contents.x, vtx.contents.y, vtx.contents.z\n",
    "    # Monge Gauge\n",
    "    return MongeGauge(x,y,c0,r,z0)\n",
    "    "
   ]
  },
  {
   "cell_type": "code",
   "execution_count": 25,
   "id": "1a8b304f-a004-4c78-a09c-bb6e189f5cd7",
   "metadata": {},
   "outputs": [],
   "source": [
    "r = vesicle.contents.tape.contents.adhesion_radius\n",
    "c0 = vesicle.contents.tape.contents.adhesion_scale\n",
    "z0 = vesicle.contents.tape.contents.adhesion_z"
   ]
  },
  {
   "cell_type": "code",
   "execution_count": 26,
   "id": "2364da41-9fde-4822-91eb-6a06629168d8",
   "metadata": {},
   "outputs": [],
   "source": [
    "def press_vertices_to_shape(vesicle):\n",
    "    r = vesicle.contents.tape.contents.adhesion_radius\n",
    "    c0 = vesicle.contents.tape.contents.adhesion_scale\n",
    "    z0 = vesicle.contents.tape.contents.adhesion_z\n",
    "    for vtx in vertices:\n",
    "        if dz:=ts.adhesion_geometry_distance(vesicle,vtx)<0.1:\n",
    "            vtx.contents.z = z0+r*np.cos(vtx.contents.x/c0)*np.cos(vtx.contents.y/c0)\n",
    "    ts.sweep_vertex_curvature_energy(vesicle)"
   ]
  },
  {
   "cell_type": "code",
   "execution_count": 27,
   "id": "576e72d5-7e32-434b-9d35-6ba46b0443b9",
   "metadata": {},
   "outputs": [],
   "source": [
    "press_vertices_to_shape(vesicle)"
   ]
  },
  {
   "cell_type": "code",
   "execution_count": 28,
   "id": "4f2e8a8b-6bea-4458-84fe-556d23d5e76d",
   "metadata": {},
   "outputs": [],
   "source": [
    "v3 = PyVtu(v2.path)\n",
    "replace_pyvtu_values_from_vesicle(v3,vesicle)"
   ]
  },
  {
   "cell_type": "code",
   "execution_count": 29,
   "id": "6fc29ed9-447e-4b4c-b26c-c87040d01dca",
   "metadata": {},
   "outputs": [],
   "source": [
    "Svs = vtu.reconstruct_shape_operator(v3)\n",
    "gs = np.stack((v3.eig0,v3.eig1,v3.eig2),axis=1)"
   ]
  },
  {
   "cell_type": "code",
   "execution_count": 30,
   "id": "be3659fa-3cff-4a3a-87eb-5da1c395b2de",
   "metadata": {},
   "outputs": [],
   "source": [
    "i=1900"
   ]
  },
  {
   "cell_type": "code",
   "execution_count": 31,
   "id": "d0b90e5b-dfbf-4856-85b8-86d438540d30",
   "metadata": {},
   "outputs": [],
   "source": [
    "mg=expected_curvature(vesicle,vertices[i])"
   ]
  },
  {
   "cell_type": "code",
   "execution_count": 32,
   "id": "b80050e1-1af8-4588-8a56-e1681c70d5fc",
   "metadata": {},
   "outputs": [
    {
     "data": {
      "text/plain": [
       "(-12.547151284619337, 8.77477670703124, 2.0, 2.0)"
      ]
     },
     "execution_count": 32,
     "metadata": {},
     "output_type": "execute_result"
    }
   ],
   "source": [
    "mg.x,mg.y,mg.r,mg.c0"
   ]
  },
  {
   "cell_type": "code",
   "execution_count": 33,
   "id": "000bb973-d300-4c14-a2e3-e65c9d213301",
   "metadata": {},
   "outputs": [
    {
     "data": {
      "text/plain": [
       "(0.08847421992140356, 0.17694843984280711, 0.007069554905269395)"
      ]
     },
     "execution_count": 33,
     "metadata": {},
     "output_type": "execute_result"
    }
   ],
   "source": [
    "mg.H,2*mg.H, mg.KG"
   ]
  },
  {
   "cell_type": "code",
   "execution_count": 34,
   "id": "fc6f35ff-036f-448b-b8d8-83251f732f11",
   "metadata": {},
   "outputs": [
    {
     "data": {
      "text/plain": [
       "(('tensor:', 0.061536232750678134, -0.0023746642007821876),\n",
       " ('debug: ', 0.17998209770542334, 0.0023568491933020222))"
      ]
     },
     "execution_count": 34,
     "metadata": {},
     "output_type": "execute_result"
    }
   ],
   "source": [
    "('tensor:',v3.mean_curvature[i],v3.gaussian_curvature[i]),('debug: ',v3.mean_curvature2[i],v3.gaussian_curvature2[i])"
   ]
  },
  {
   "cell_type": "code",
   "execution_count": 35,
   "id": "7e5c4162-1250-40ce-88d1-fa2dbc4e699d",
   "metadata": {},
   "outputs": [
    {
     "data": {
      "text/plain": [
       "array([[-0.08486027,  0.01439724,  0.01371008],\n",
       "       [ 0.01439724,  0.01312442,  0.01157573],\n",
       "       [ 0.01371008,  0.01157573,  0.01019962]])"
      ]
     },
     "execution_count": 35,
     "metadata": {},
     "output_type": "execute_result"
    }
   ],
   "source": [
    "Svs[i]"
   ]
  },
  {
   "cell_type": "code",
   "execution_count": 36,
   "id": "5e934483-30a5-4fdd-b32f-2ac72f36720a",
   "metadata": {},
   "outputs": [
    {
     "data": {
      "text/plain": [
       "(array([[-0.17510049, -0.73522553, -0.65481542],\n",
       "        [-0.98452202,  0.12569028,  0.12214066],\n",
       "        [-0.007497  ,  0.66606709, -0.74585416]]),\n",
       " array([[ 0.00058189,  0.07333286,  0.04710058],\n",
       "        [-0.01552902, -0.00122539, -0.01645831],\n",
       "        [-0.01387367, -0.00183142, -0.01517114]]))"
      ]
     },
     "execution_count": 36,
     "metadata": {},
     "output_type": "execute_result"
    }
   ],
   "source": [
    "gs[i], Svs[i]@gs[i]"
   ]
  },
  {
   "cell_type": "code",
   "execution_count": 37,
   "id": "e5a77a1f-3ae8-4f0c-af71-2a456623b42f",
   "metadata": {},
   "outputs": [
    {
     "data": {
      "text/plain": [
       "array([[ 0.11588232, -0.00330503,  0.00555259],\n",
       "       [-0.00330503,  0.11588232, -0.21960146],\n",
       "       [-0.00146277,  0.05785173, -0.1096324 ]])"
      ]
     },
     "execution_count": 37,
     "metadata": {},
     "output_type": "execute_result"
    }
   ],
   "source": [
    "Sx_y=np.einsum(\"ab,bi,aj->ij\",mg.Sa_b,mg.J[:2,:],mg.Jinv[:2,:])\n",
    "mg.J@Sx_y@mg.Jinv"
   ]
  },
  {
   "cell_type": "code",
   "execution_count": 38,
   "id": "0d8bac5a-2dde-4404-a030-ceea7fabc874",
   "metadata": {},
   "outputs": [
    {
     "data": {
      "text/plain": [
       "Text(0.5, 0.92, '1900')"
      ]
     },
     "execution_count": 38,
     "metadata": {},
     "output_type": "execute_result"
    },
    {
     "data": {
      "application/vnd.jupyter.widget-view+json": {
       "model_id": "446075506d2a41b5876b0d611021378b",
       "version_major": 2,
       "version_minor": 0
      },
      "image/png": "[encoded data removed]",
      "text/html": [
       "\n",
       "            <div style=\"display: inline-block;\">\n",
       "                <div class=\"jupyter-widgets widget-label\" style=\"text-align: center;\">\n",
       "                    Figure\n",
       "                </div>\n",
       "                <img src='data:image/png;base64,iVBORw0KGgoAAAANSUhEUgAAAoAAAAHgCAYAAAA10dzkAAAAOXRFWHRTb2Z0d2FyZQBNYXRwbG90bGliIHZlcnNpb24zLjYuMiwgaHR0cHM6Ly9tYXRwbG90bGliLm9yZy8o6BhiAAAACXBIWXMAAA9hAAAPYQGoP6dpAAD5rUlEQVR4nOy9d3hb53n+f2OS4Ca495REUYuiJqnE8YgdR0mTJo57uXVSW0rsjPqXXWe1rp3GjhvHSZsmaZ0hy2maNkkzvx6J6+14yuLeey8QAAcAYp/fH+p7fABinHNwAILi87kuXZJI4Jz3HJB4bzzjflQcx3EgCIIgCIIgdgzqrV4AQRAEQRAEkVhIABIEQRAEQewwSAASBEEQBEHsMEgAEgRBEARB7DBIABIEQRAEQewwSAASBEEQBEHsMEgAEgRBEARB7DBIABIEQRAEQewwSAASBEEQBEHsMEgAEgRBEARB7DBIABIEQRAEQewwSAASBEEQBEHsMEgAEgRBEARB7DBIABIEQRAEQewwSAASBEEQBEHsMEgAEgRBEARB7DBIABIEQRAEQewwSAASBEEQBEHsMEgAEgRBEARB7DBIABIEQRAEQewwSAASBEEQBEHsMEgAEgRBEARB7DBIABIEQRAEQewwSAASBEEQBEHsMEgAEgRBEARB7DBIABIEQRAEQewwSAASBEEQBEHsMEgAEgRBEARB7DBIABIEQRAEQewwSAASBEEQBEHsMEgAEgRBEARB7DBIABIEQRAEQewwSAASBEEQBEHsMEgAEgRBEARB7DBIABIEQRAEQewwSAASBEEQBEHsMEgAEgRxWbG+vo4777wT1113HQoKCqBSqXD33XdvehzHcfjOd76DhoYGpKSkoKSkBB//+MdhtVpDHvdf//Vf+cfW1NTgnnvugcfj2fS4paUl3HrrrcjPz0daWhpaWlrw9NNPK32ZBEEQMUECkCCIywqz2Ywf/OAHcLlc+PM///Owj/v85z+Pz3zmM3jve9+LRx99FF/84hfxs5/9DNdee+0mYXfvvffiU5/6FN7//vfjj3/8Iz7xiU/gvvvuw9/8zd8EPM7lcuGaa67B008/jX/5l3/B7373OxQVFeH666/H888/H4/LJQiCkAdHEARxGeH3+zm/389xHMeZTCYOAPcP//APAY+ZmZnhNBoN9//9f/9fwNd/9rOfcQC4H/zgB/zXlpeXudTUVO72228PeOy9997LqVQqrre3l//a9773PQ4A9/LLL/Nf83g8XGNjI3f8+HGlLpEgCCJmKAJIEMRlhUqlgkqliviYV199FT6fD6dPnw74+rvf/W4AwK9+9Sv+a3/4wx/gdDpx5syZgMeeOXMGHMfht7/9Lf+13/zmN9izZw9aWlr4r2m1Wnzwgx/E66+/jtnZWbmXRRAEoSgkAAmC2HG43W4AQEpKSsDXdTodVCoVurq6+K/19PQAAA4cOBDw2JKSEuTn5/PfZ489ePDgpvOxr/X29ipzAQRBEDFCApAgiB1HY2MjAOCll14K+PrLL78MjuNgNpv5r5nNZqSkpCA9PX3TcYxG46bHGo3GkI9j3ycIgkgGtFu9AIIgiERz6NAhXHHFFXjggQewZ88eXHvttejr68PHPvYxaDQaqNWBn40jpZSDvyflsQRBEFsFRQAJgtiR/PKXv8SpU6fwF3/xF8jNzcVVV12F97///WhqakJZWRn/uLy8PDidTjgcjk3HsFgsARG/vLy8kFE+i8UCACGjgwRBEFsBCUCCIHYkhYWFePzxx7G4uIjOzk4sLS3hq1/9KoaGhnDFFVfwj2O1f93d3QHPX1hYwPLyMvbv3x/w2ODHCZ8rfCxBEMRWQgKQIIgdTWFhIQ4ePIjs7Gz8+7//O+x2O+644w7++9dffz1SU1Nx/vz5gOedP38eKpUqwGvwfe97HwYGBvDaa6/xX/N6vfjpT3+KEydOoLS0NN6XQxAEIQqqASQI4rLjiSeegN1ux/r6OgCgr68P//M//wMAOH36NNLS0vDDH/4QAFBXV4eVlRU88cQT+PGPf4z77rsPzc3N/LGMRiP+7u/+Dn//938Po9GI6667DhcuXMDdd9+Nj3zkI3xDCQCcPXsW3/ve93DjjTfi/vvvR2FhIb7//e9jcHAQTz31VALvAEEQRGRUHMdxW70IgiAIJamursbk5GTI742Pj6O6uho/+MEP8M///M+YnJyEWq3G4cOH8bnPfQ7vfe97Qz7vO9/5Dr73ve9hYmICxcXFOHPmDL7yla9Ap9MFPG5xcRF33nknHn30UTgcDjQ1NeEf//Ef8fa3v13x6yQIgpALCUCCIAiCIIgdBtUAEgRBEARB7DBIABIEQRAEQewwSAASBEEQBEHsMEgAEgRBEARB7DBIABIEQRAEQewwSAASBEEQBEHsMEgAEgRBEARB7DBIABIEQRAEQewwSAASBEEQBEHsMEgAEgRBEARB7DBIABIEQRAEQewwSAASBEEQBEHsMEgAEgRBEARB7DBIABIEQRAEQewwSAASBEEQBEHsMEgAEgRBEARB7DBIABIEQRAEQewwSAASBEEQBEHsMEgAEgRBEARB7DBIABIEQRAEQewwSAASBEEQBEHsMEgAEgRBEARB7DBIABIEQRAEQewwSAASBEEQBEHsMEgAEgRBEARB7DBIABIEQRAEQewwSAASBEEQBEHsMEgAEgRBEARB7DBIABIEQRAEQewwSAASBEEQBEHsMEgAEgRBEARB7DBIABIEQRAEQewwSAASBEEQBEHsMEgAEgRBEARB7DBIABIEQRAEQewwtFu9AIIgCI7j4PP5AAAajQYqlWqLV0QQBHF5QwKQIIgtxe/3w+PxYGNjAxzHQa1WQ6fTQaPRQKvVQq1WkyAkCIJQGBXHcdxWL4IgiJ0Hi/p5vV5eBLK3I7/fDwBQqVS8INRqtdBoNCQICYIgFIAEIEEQCYfjOHg8Hj7tq1Kp4Ha7+X+zx7A/JAgJgiCUhQQgQRAJxe/3w+12w+/38+KN47hNAjCYcIKQpYpJEBIEQYiHBCBBEAmBpXxZqlco1FhEkOM40eJNKAjZH7VaDbVaTYKQIAgiCiQACYKIO36/H16vNyDlKxRlcgRgMMHRQYbD4UB2djb0ej0JQoIgiP+DuoAJgogbTJAJxV28xBc7tlqtDjj3G2+8gePHjyM1NTUgZcz+jueaCIIgkhUSgARBxAWO4+D1euH1egFsjvrFGyb2APCCj63J4/Hw6wmuISRBSBDEToAEIEEQisOifj6fLyAqt1UIo4/CCGE4Qch8CFnKmCAI4nKDBCBBEIoR7O2XzPV20QQhgE0NJSQICYK4XCABSBCEIgR7+yWL+BO7hnCC0OPx8BY1JAgJgrhcIAFIEETM+P1+LC4uwmQyYffu3Ukh/ITIMTsI11Ti8Xj4CKFKpSJBSBDEtoQEIEEQshF6+zmdTlgslqQTf0ohbCoBQgtCm80Gg8GAjIyMgC5jgiCIZIMEIEEQsgiV8o3VVjQWH8BwxNN2JlgQjo+PIz8/n09/q9XqkF3GBEEQWw0JQIIgJMOifsJGDyUEYLxIxLqEKWOdThcQIXS73fz3glPGJAgJgtgKSAASBCGaYG8/YaMHm+mbbCRaYAnvB4sQsvvC5iC7XC4ShARBbCkkAAmCEAWLZrFRa8GGyckqABNJuOtn94kEIUEQyQIJQIIgIiJMZUby9otFAHIch4WFBWi1WuTm5gbU1ilBsgnTSILQ5XJFtJ0hQUgQhBKQACQIIixSvP1UKhUfHZSCy+VCV1cXbDYbAMDtdiM7Oxu5ubnIzc1FVlZWTNYq20EwCQUhG1nH/gQLQjalRKvVJo3XIkEQ2w8SgARBhEQ4zk2M0JATATSbzejq6kJubi5OnDgBlUoFl8sFq9UKq9WKmZkZ+Hw+5OTk8IIwMzPzshc9wvR6sCB0Op3849bW1pCfnw+9Xs97EF7u94YgCGUgAUgQRAByx7lJ6QLmOA4jIyOYmJhAQ0MDysrK+POlpaUhLS0NZWVl4DgOdrudF4STk5MAECAI09PTo64v2VLAUgklCD0eDzo7O9HS0hLQZazT6fiUMQlCgiDCQQKQIAieWMa5iY0AOp1OdHV1weVy4eTJk8jMzOSfH+qYGRkZyMjIQEVFBTiOw/r6OqxWK8xmM0ZHR6HRaHgxmJubC4PBsKk55XJDKAj1ej0vvoURQtaFLKwhJEFIEASDBCBBEABCe/tJQYwANJlM6OrqQkFBAZqbm6HVSnsLUqlUyMrKQlZWFqqqquD3+7G2tgar1YrFxUUMDQ1Br9cHCMJEkyiBJbzX4VLGrKnE6XRCrVZvaiohQUgQOxcSgASxw+E4Dm63GyMjI6isrIROp5MlCiIJQL/fj+HhYUxNTaGxsRFlZWWxLhvApQhlTk4OcnJyUFNTA5/Ph9XVVVitVszOzqK/vx8AMDExgcLCQuTm5kKv1yty7lBsRao5XORU+HUmCH0+H3w+X1jbGRKEBLFzIAFIEDsYv9/PGzuPjIygrKxMtkAK1wW8sbGBzs5OeL1etLS0ICMjI9Zlh0Wj0cBoNMJoNAIAvF4vXn75ZahUKkxOTqK3txfp6el8dDAnJwc6nS5u64knUsSmcEoJe24oQchSxsI5xiQICeLyhAQgQexAhN5+HMfFZLPCCBUBXFpaQnd3N4qKirB3717F/f2iwaxSKisrkZWVBbfbjZWVFVitVoyOjsLhcCAzMxNGoxG5ubnIzs5O+BpjRW60NpQg9Hq98Hg8/PdDzTEmQUgQlwckAAlihxHc6ME2dbk+foxgMTE4OIjZ2Vns27cPJSUlUZ8fT2HBhKler0dhYSEKCwsBXGpIYR3G/f39insQxhN2TUrcN7GC0OVyITMzk/ciTNZ7QxBEdEgAEsQOIpK3nxQbl1CwY9ntdnR1dQEAWlpakJ6eLur58aqfiySQUlNTUVJSgpKSEnAch42NjW3jQchxXNzWEkoQ+v1+vPrqqzh+/DhSU1P5CCETgyQICWJ7QQKQIHYAYrz9Yo0AsuO9+uqrKC0tRUNDw7YSBCqVKi4ehPEikQ0nwbYzrNOYRQiB0GPrttPrTxA7DRKABHGZI9bbL5YIoM/nw+DgIACgsbERpaWl8hccB+RclxwPwnhG5cKtMVGwDwfCkoHglLHH4+FNqVUqFQlCgkhiSAASxGWM3++H2+0W5e0nNwJos9nQ2dnJH7ugoED2euOBUiJJjAchg+M45ObmIjU1VZFzhyLRljORag7DpYw9Hg8fIQwWhKzLmCCIrYEEIEFchrCUr7DLN9pmKycCODc3h97eXlRWVqK2thZPP/10Uo5di8eaQnkQvvHGG9BqtZidncXAwABSU1MDIoRKehAmOtoopemE1QcKn8sEYagIobDLmCCIxEACkCAuM5i3n9RxblIigF6vF/39/VhaWkJTUxMKCgr458ZSR7idYVGtoqIiFBcXw+v18pYz8fIgTFYBGIwYQahWqzc1lZAgJIj4QQKQIC4Tgr39pHq2iY0Arq+vo7OzEzqdDqdOneLTnOxccqNt8exo3Qq0Wi3y8/ORn58PAGE9CIWCUIoHYTKlgKUiFITsuKEEYXANIQlCglAOEoAEcRnAOjK9Xi+AzaPAxBBtli/Hcfx4terqatTV1QUU9bNz7pQUsFSCPQhdLhffYTwwMAC3242srCxeEGZnZ0dtmkh0BDAeRtDCGcbsPMAlQcgai2pqakgQEoTCkAAkiG2OsNFDWIgvFbVaHTZ96/V60dvbC7PZjMOHD/NRrWCSUQAmq0hISUlBcXExiouLwXEcb0ptsVgwOzsLn8/Hm1IbjUZkZGQEvLaJrgFkP1/xRigI/X4/L/bYz7nb7QYQ2nYmWV9rgkhGSAASxDaFNXrYbDY8//zzuO6662Ky2QhXA7i2toaOjg4YDAacOnUKKSkpEY+RbCng7YBKpYLBYIDBYEBpaekmD8KpqSm+s5j9SXStZaIFJ3BJdOp0uk0pY/bH5XKRICQImZAAJIhtiNDbL9baO0aweOM4DlNTUxgaGkJtbS1qa2ujbqjJGAEEEpcCVkokRfMgHBsb4wX77OwscnNzYTAY4j5ObysEYPCHGmEamhlSCwWhy+XiI+E6nY4XhGKboQhip0ACkCC2GcHefsG1U3IRNoF4PB709PRgZWUFR44cgdFoFHWMZBSAl8OmH8qDcG5uDmNjY7wHoV6vD4gQKu1BuBUCkFkYRSKSIHQ6nfxjSBASRCAkAAlimxDO249tkLGmBFkN4MrKCjo7O5Geno5Tp05J8q6LRQB6PB64XC4YDAZZz99JqNVqpKenQ6vVorm5GT6fD6urq7BarXHzIBQjxpQmVAQwGmIFIbPtIUFI7FRIABLENiDSODelBCAALC8vY3BwEPX19aiurpbVSSxnHSaTCV1dXfB4PMjIyAiwRtFqY3+bSraopFIIhY7RaOQjtfHwIExUE4jS5wwnCP1+Py8I1Wr1phpCEoTE5Q4JQIJIcljUL9w4N7bBxSIA3W43VldX4ff7cezYMeTk5Mg6jtQIIMdxGBkZwcTEBPbs2YPs7Gx+vNrQ0BBcLhdvjWI0GpGVlSUrInQ5EiklGw8PwmSpAYyVcILQ5/PB5/NhZGQEWVlZMBqNJAiJyxoSgASRpAR7+0XagCJZuETDarXys3yrqqpkiz+2DrEC0OVyobOzEy6XCydPnoTBYIDH40FRURGKiooAABsbGwHWKH6/Hzk5ObwgTE9PF7UpJzICmCiRIOWalPAgTNYawFgJnmNstVqRkpLCC8LgphLhHGMShMR2hgQgQSQhbCoCE3XRNhs5ApDjOIyNjWFsbAy7d+/GysqKIuk2McLEbDajq6sLRqMRzc3N0Gq1vNAVEsoaxWKxwGq1Ynx8HGq1mheDrBN2JyH39QrnQWi1WjE3Nwev17vJg3CrIoBbcU4m8gAERAi9Xi//uxhcQ0iCkNhukAAkiCRCOM4tXMo3FFJTry6XC11dXdjY2MDx48eRnZ2N9fV1xa1kghGKzj179qCiokL0pim0RqmsrITf78fa2hosFgvm5+cxODiIlJQUXgyyxoetmJebqHMpZTkTLLQdDscmD8K0tDR4PB7YbDbRkddYiUcKWOo5gyOETBB6vV54PJ4AQSicY5zodROEVEgAEkSSEKnRIxpSIoAs+pabm4vDhw/zkY5Y6wjZMcKJILfbja6uLtjtdl50xoJarUZOTg6fsg7V+JCRkQGXy4W1tTUYjUZJs3aTnXiJTZVKhfT0dKSnp6O8vBwcx8Fms2F6ehobGxu4ePEiH3llf+LlQbhVnceRfk5IEBKXCyQACSIJYFE/n88nq9hcjAAUNlw0NDSgvLw84DxS6vfCEU4ArqysoKOjA9nZ2WhtbZXcgSqGUI0PrJlkbm4OU1NTAWnNzMzMbb8pJ2o0W2ZmJoxGIzY2NnD48GGsr6/DYrHE3YNwK1LA7HdQLNEEIRB6Ssl2/9kjtj8kAAliCxHWFklJ+QYTTQA6nU50dXXxDReZmZmbHhOPCCDHcZicnMTw8DB27dqFqqqqsNen9Eav1+tRVFSE6elpVFRUIDMzk09rzszM8A0lLGWcqLSmUiTa2oalnNVqNbKzs5GdnY2ampq4ehAmQwpYKuEEocfjgdvt5r9PgpDYakgAEsQWwXEcVlZWwHEcDAZDTDYTkQQg89grKCjgGy7CHYOln+UiXAebJrK6uoqjR48iNzc3pmPHSlpaGtLS0lBWVsanNdlotdHRUWi1Wl6wGI1GxSdpKE2imzLCnS+eHoTbxXw6EqEEIYv4swghE4ZZWVkBXcYEEU9IABLEFsC8/UZGRmAwGLBr166Yjhcq9er3+zE8PIypqSk0NjairKws6jGUigCura2hvb0d6enpaG1tjXkKhdKwtGZmZibfUMKiWKyhJDU1NaChRKxoSeTGnQwCMBglPQi3YwQwGqw+kMFxHBYWFuBwOLBnz55NEUJhlzFBKAkJQIJIIEJvP47joNFoFJngERwB3NjYQGdnJ7xeL1paWpCRkSHqGEqkFc1mM/r6+lBbW4va2lpJXb7xQEyHtLCpAXgzimWxWDA+Po6enh7JxsnxZitSwHKEUSQPwsHBwQCz72APwkTXAPr9fv73MlGwn0+tVgudThcQIWSRQTbzW9hUQoKQiBUSgASRIPx+P7xeb0CXbzwE4NLSErq7u1FUVIS9e/eK3sxijQB6vV7Y7Xasra2hubkZeXl5ko+RLJtacBQrlHFydnY2HyHcioaSZEkBS0XoQQi8afYdyoMw0dfIfv4T/Vr6fD7+9zRUhDCUIHzuueegVqvxZ3/2ZwldK3H5QAKQIOKM8A2cbWjCOb6sDigWWP1ef38/ZmdnsW/fPpSUlEg+htyo0vr6Ojo6OuD3+1FbWytL/MULpUULx3EBE0qYT15ubi5cLhecTmfChMt2FIDBhPMgtFgsAIDXX3+dn/6Sm5uLjIyMuF33VgrAlJSUkN8TCkL2++n3+/H//t//Q1ZWFglAQjYkAAkijgR7+wVPC4hlhJsQv9+P8fFx6PV6tLS0ID09XfIx5EYAZ2dn0dfXh+rqaqytrSVlN6OS6VKVSrWpoWR9fZ2PYo2MjGBycjJgQkk8GkoSnQJORDpW6EFYXFyMF154AQcPHuTvL5v+IhwHqKQH4VYJwGjegwzhDGOHwyH5Qx5BCCEBSBBxQoy3n0ajibnzdmFhARaLBdnZ2Th+/LjszUtqBJBFHBcXF9HU1ISCggK0t7cnXJhsNax7MysrC4uLi6iqqoJer+fnFw8MDMBgMPCCRUoXbCS2awpYyvkA8PWBrFmHeRAuLS1hZGQEOp0uoDYzlnGAcn04Y0Wq9yAA2O12WR/0CIJBApAgFEaKt18sEUCfz4eBgQHMz88jJycH+fn5MfuXiRVvdrsdHR0d0Gg0aG1t5TddqSPpEkGiN/NQDSUsOjg2Nga73c4bK7OmB7lNB5ezAAwVjYu3B+FWdB0DgTWAYrHb7aKauwgiHCQACUJBpI5zkysAbTYbOjs7oVar0drairGxsZhTyWLXsrCwgJ6eHpSXl2P37t2bNuhkE4BAYtOlwa+3VqtFQUEBCgoKALzZUGKxWNDf3w+Px7NpQokYobVduoDlwlLOke6F0h6EJACJnQQJQIJQCL/fD7fbLWmihxwBODc3h97eXlRWVmLXrl1Qq9WK1BJGqwH0+/0YHBzE7OwsDhw4gKKiopDHSEYBmEwEN5Swpger1YqpqSkACJhQkpaWlrDpKZHYigig1PMFd297PB7+3obyIMzOzg4wRt8qASi2BlCIw+GgFDAREyQACSJGWMqXdflKqSGSIty8Xi/6+/uxtLTE19zJOU6ktYQTbxsbG+jo6ADHcWhtbUVaWlrIxyWjAEwWa5lQCJseysvL+YYSi8UCk8m0qcbNaDTy3aI7oQYwVjGm0+kkeRB6vd4t8XeUGgHkOI4igETMkAAkiBgI5e0nZZMU6wO4vr6Ozs5O6HQ6nDp1alNXqUqlirmZJJx4Y76CxcXFaGhoiLhRJaMABBKXLo31PMKGkurq6oAat5mZGfT39yMtLQ1Go5GvMU0UcqJUsZ5P6WhcNA9Cj8cDtVqNiYmJhPo7ymkCsdlsIWd6E4RYSAAShAwieftJIZpw4zgOs7Oz6O/vR3V1Nerq6kJuFPFIAQtHye3btw+lpaWijpFsAjCZI4DRENa41dXVwePx8BNKzGYzPB4P3njjDT46yGbJxoPtkAKWSrAH4dTUFGZnZ7G+vs77OybCg1BODaDD4aAIIBETJAAJQiKsbsvr9UKv18sWf0DkCKDX60Vvby/MZjMOHz7M1zWFQonmC+ExnE4nOjs74fF4RI+SA2KbJuLz+fi6pu0s2uKJTqfjG0pSU1OxurqKgoICWK1W9Pb28lM0hBNKlLqXWyEAE1mPp1KpoNPpYDAYcODAAXAcB5vNxkcIgz0Io9VnioV9mJSTAqYaQCIWSAAShARY1G9oaAgA0NjYGNPxwkXu1tbW0NHRAYPBgFOnToWdEhDtOHLWsry8jK6uLuTn5+PIkSMBRfLRkCsA7XY72tvbYbPZoNfr+ahXbm5u1GsXQ7JFJZWAzawtKSlBSUnJpikak5OTABBQPxiLafJ2rAGUilCIqVQqZGZmIjMzM8CD0Gq18vWZWq02wHJGjgchx3GS5w9vbGzA7/dTCpiICRKABCGCYG8/rVar2Ag3oWDiOA7T09MYHBxEbW0tamtr49ZNHAqPx4P29nbs3bsXZWVlkjd8OSngxcVFdHd3o6ysDE1NTXzUZXp6Gn19fUhPT+cFYU5OjuRUWaKjiYk6X7AgC24oEQqWpaUlDA8PQ6/XB0wokSKut8oGJpFEqsUTehCy+sy1tTVYrVbMz89jcHAQKSkpAYJQzP0V1g+LxW63AwClgImYIAFIEFEI5e2n0WjgdDpjPrZQuHk8HvT09GBlZQVHjhzhvc2kHkcOLpcLAwMD8Pl8OHXqlOzIgpRUtLDG8MCBAygsLITb7d5U88YiWqxrk6U4pXjm7URCCZbV1VVYLJYAcS2cUBIp2ptoQbZVEUCx59RoNJsMv1nDTvD9jeRByN5XpHywsdvtUKvVMU09IQgSgAQRgXDefkpF3NRqNXw+H1ZWVtDZ2Yn09HScOnVK0vQCILbaO6vVio6ODmRkZECj0cSUVhIbAXS5XOjs7ITL5eJrDEOtX2jjwXEcNjY2YLFYAjzzmIBhKc5QXK4pYKkd50LTZKFH3vDwMJxO56YJJUIxdLnXAMZ6Tq1Wi7y8POTl5QEQ70EoZ/wcq/+jDz9ELJAAJIgQRPP2U2KGL/Bm2uf111/Hrl27UF1dLetNXY4g5TgOExMTGBkZwe7du2E0GvHKK69IPrcQMQKQCc7c3Fw0NzeLrjFUqVRIS0tDWlpaQIrTYrFgYWEBQ0NDSE1N5QVMbm4udDrdlsyvTRSxXFuwR57T6eTF9dzcHLxeL9/wYDQaEx4B3IoUsJJWN2I9CJmQk9IJbLPZSAASMUMCkCCCEDPOTYkIoNvtRk9PDwCgubk5YpdvNKR2AXs8HnR1dWF9fR3Hjx9HdnY2HA6HIj524Y7BbDaGhoawa9cuVFVVxbSBBc+FZWPALBYLxsfH0dPTg6ysLL5bO1p0Z35+HufPn8ett96KkpIS2etKFEpH5FJTU1FaWspbotjtdl6wTExM8A1QKpWKb3iIpwDZqgiglKYnKYTzIFxcXITP58OLL77IjwSM5kFIU0AIJSABSBACWNQv2ji3WCOAVqsVnZ2dfLo1KytL9rEAaYJ0dXWVT/m2trby6WYm3mIRFuEEILO0sVgsOHr0KF83pSTBY8BcLhcsFgvGxsawsLCAhYWFgBFrwRGU8+fP44knngAAfOlLX1J8fUoTz2ijSqVCRkYGMjIyUFFRAb/fj4sXLyIlJQWLi4sYGhoKaHgwGo2SyxaisRU1gD6fT/HrCAfzIExJSYHT6cTBgwcDRgJG8iC02+2KWNBIYWJiAv/4j/+IZ555BgsLCygtLcUHP/hBfOUrX0nYPSOUhQQgQeDSZuP1euH1egFEn+ghNwLIcRzGxsYwNjaG3bt3o6KiAk8++aRiFi7Rzs0icPX19ZvSzWyzVVoA2mw2dHR0QK/Xo7W1VRFbFzGkpKSgpKQEZrMZmZmZyMvL4w2UR0dHodVqeTFoNBpx6623AgD/txzMZjMef/xxfPzjH09IFDFRAoA1PhUWFqK4uJivW2ViRditzRoeYo2kbbcaQLn4fD5otdpNIwGDPQiZLc3TTz8NnU6X8AjgwMAA/H4/HnroIdTX16Onpwe33XYb7HY7vvnNbyZ0LYQykAAkdjwstcUElBhjZzkRQJfLha6uLmxsbPBpV3a+WOsJowlAr9eLnp4eWK3WsBE4ds2xbILB61hYWEB3dzcqKyuxa9euhG+uDGFEi3m6sY5YNmItPT0dH/jAB6DX62VNZgCAxx9/HO3t7TAYDHGPIm7lZA6NRhPQ8OB2u/n0O2soYTN22YQSqa/9VtUAboUADP5ZC+dBODQ0hMceewzd3d3QaDT40Ic+hKuvvhpXX301qqqq4rrO66+/Htdffz3//9raWgwODuLf/u3fSABuU0gAEjsW4Ti3aCnfYFj3rljMZjO6urqQm5uLw4cPB0RHxM4DjkSkLuD19XVelESKwAkjgLGsg93XoaEhzMzM4ODBgygqKpJ9TCUIvia1Ws2n1pS0mzl9+jTy8vJiiiKKZSuMmcOdT6/XBzQ8CGfsdnd3w+/3Sx6ptlUp4ETOOwbENZ6wetdjx47h2WefxYMPPoinnnoKNTU1+PGPf4zbb78dAwMDqKurS9CqL7G6uirJropILkgAEjsSMY0ekRAr2jiOw8jICCYmJtDQ0IDy8vK4NJSEOwaLbtXU1KCuri7iNQojgHJh0cwLFy7wY+SkpKriIWjEHDOU3QwThFLsZvLy8vDpT386YZtisgjAYIJn7Nrtdr7DmI1UC55QEsxOSgFLPafL5UJ1dTW++tWv4qtf/SrfFZxIRkdH8a//+q948MEHE3peQjlIABI7Dhb1k+O/xRCTAnY6nejq6oLL5cLJkyfD+uspJQCFUS6fz4e+vj6YTKaoc4SFxwBiiwA6HA6srKygpKQER48elRVNiUdkS8o1Ce1mysrKwHEc1tbWYLFYAhoghOPqmMFvIm1gEm05I/d1CZV+ZxM0mH0Pu59MFLKu7Z2aAo6G3W4PmAISy0SQu+++G/fcc0/Ex1y4cAFHjx7l/z83N4frr78eN954Iz7ykY/IPjextZAAJHYMwePc5Io/ILpoM5lM6O7uRn5+flSvO6UjgKzpQqfTobW1FampqaKOEUsEkHkKjo+Pw2Aw4MCBA7LurViRkUjLFpVKFdJuhkWzenp6eANln8+niEG4lLUlCqVSsmq1Gjk5OcjJyeHvJ6vHnJycRG9vLy9o0tLS4PV642bNEsx2EYA2m02xKPMdd9yBm266KeJjqqur+X/Pzc3hqquuQktLC37wgx8osgZiayABSOwIWMr34sWLaGhoiNnDTKPR8LVuwg1DON6ssbERZWVlUY+lpACcm5tDb2+v7KYLqX6CwKUGk+7ubqyurqK+vh4mkynuwkSKZYvSawlnN2OxWHhvR2F6M16GvclUAxgLwRM03G43rFYrxsbGYLFY8OKLLyIrK4uPEMppKBFLstYABrOxsaHYHGDhz3I0ZmdncdVVV+HIkSN4+OGHt6ypi1AGEoDEZY/Q289qtcLr9ca8kbE3PqEA3NjYQGdnJ7xeLz/eTAxKTBVhoq2vrw+HDh3ii/GlInaUG2N9fR0dHR1ITU1Fa2srLBYLlpaWRD13bm4O586dw9mzZ1FaWippnVItW+KZLmV2MyUlJVhdXUVVVRV8Ph/vQRhsN6OUDU6iU8CJSsnq9XoUFRVheXkZ6enpKCoq4usHZ2ZmAhpKlBbYWxUBDDUjOBI2mw1paWlxWlFo5ubmcOWVV6KyshLf/OY3YTKZ+O8xc2tie0ECkLhsEXr7sfSVUiPc2Cd25uG1tLSE7u5uFBUVYe/evZI+0ccaAXQ4HGhvbwcAnDhxIqZZvlLWwqKN1dXVqK+vh0qlkhRBPHfuHB577DEAwN/93d9JWmdJSUlSmjWrVCoYDAYYjcaQdjMvvfQSnnvuOfzVX/0Vdu/ejdzcXNkRp8slAhgOJsYMBgPKysr4ekyhP97Y2Bg/45hFXcM16Eg5ZyKR0wQSXAOYCJ588kmMjIxgZGQE5eXlAd+7HGdt7wRIABKXJX6/H16vd1OXr1ICkG2EHo8HY2NjmJ2dxb59+2TVo8UiABcXF9Hd3Y2SkhKsr6+LrvcLh5gIoN/vx8DAAObn5zdFGyPZ0QRz9uzZgL/jRSTRonQtYbBICrabefLJJ9HW1oaUlBTccMMNsu1mGJezAAxVcxjKH4816MzPz2NwcBCpqal8dFDYoCOG7VID6HA4Ei4Ab7311oTYGxGJgwQgcVkh9PZjG5Zw01JSAKrVanR0dECtVku2OxEiRwAKffb279+PwsJCTE9Px32iiNPpREdHB/x+P1paWrCysoKvfe1rfBpXSgq5tLQ0IPIXT3ERbk1SagmVEItnz56FWq3mj+FwOMLazeTm5kZM822XLmC5iEk5CxtKAIRs0MnIyAiYUBJObIWq6U0EcruAaRYwESskAInLhmBvv1ATPaQaOIdjYWEBfr8fGRkZOHjwYEybhlQByGoNfT4fLzyZGFDCUDqcsDCbzejs7ERBQQEaGxuh0WjwrW99KyCNK7WGMNT5E4mUWkIlZgUHp66D7WbW19dF2c0AyRGRiydyxFhwg47b7ebrBwcGBuB2u5Gdnc2L7MzMzIB6XgBJ3wTCfBVjKfUgCIAEIHGZINbbL9YIoM/n49OfOp0OVVVVMW+KUkSpyWRCV1fXplpDFpGMx0QRjuMwPj6O0dFR7N27N6D+JziNG6sAjAeR1iSlllCJWcGRUKlUyMrKQlZWFqqrqyPazRiNxsu+BlAJwanX61FcXIzi4uIAg2+r1Yrp6WlwHMen6JmgohpAYqdAApDY1kj19otFANrtdj7l29raijfeeEOxhpJowk04USScvUw8DKU9Hg+6u7uxvr4eML+YESqNm2wCUCkS3XgSzm7GarWit7cXbrcbdrsdAOJqN8PYqiYQpQhl8G2z2WCxWGA2mzE6OgoAGBgYQF5eHnJzc2OuqRXDdqkBJC4/SAAS2xY549zkCsBQ/npKzPAFogs3l8uFzs7OqBNFpDRgiFkLmyGcnp6OlpYW6PX6qM+PRQC63W5MT08jIyMDOTk5im3+iU4rxwuh3QzHcejo6IBGo+G7YbVabcC4OqXsZoBLv2vJWAMYC8KGkqqqKtjtdrz22mtIS0vD7OwsBgYGYDAY+Aih1IYSsUgVgH6/n2oACUUgAUhsS/x+P9xut+SJHlJFm9frRX9/P5aWljZ1vCpVTxhJAJrNZnR1dcFoNIqaKBJr9I0JuNnZWfT19YmaIRz8fDkidG1tDe3t7dBqtZiamoLP50NOTg6MRiPy8vJiNu6+3KKSrKPdaDSivLx8k91Mf38/0tPTA5ofYpmmwe7fdksBS0Wj0aC2tha1tbV8Ct5isQSk4JnIzs7OVqReUGoNoMPhAMdxVANIxAwJQGJbwVK+rMtX6jg3jUYDr9cr6rHr6+vo7OyETqfDqVOnNqWDlOooVqvV8Hg8AV/jOA5jY2MYGxtDQ0MDysvLRXVEKhGRnJqawvr6uugZwsFrkCq2WHS1traWT23b7XZYLBYsLy9jdHQUer0+bDNEspEokSS8z8F2Mx6Ph+8uHhoa4u1mmHjJysqStM6tEICJ7sgNrsULlYJn97S/vx8ejydgQomwoUQs7P1MqgAEYpv/SxAACUBiGxHO208KGo1mk9gKhkXA+vv7UV1djbq6upBv7EqmgIVC0u12o6urC3a7PWTdXaTjxLKejY0N2Gw26PV6tLa2yjLUlZIC9vv9GBwcxNzcHJqampCfnw+32w0AAak5n88XEInp7e3lmyHy8vKibryJjlolknDXptPpUFhYyEesNzY2+HF109PTAMTbzQBvXleydwHH83wpKSmbGkpYTSaz8GFRa3ZPo/3ssd9XKddpt9uh1WoVTfETOxMSgETSE83bTwoajQZOpzPs971eL3p7e2E2m6NGwJRKAQuFpNVqRWdnJ7Kzs9Ha2iop0hWLAGTdxVqtFgaDAQ8++KCsEW1iBaDL5UJHRwc/Ni8tLS3s8zQaTcCsWKfTyYuZ2dlZfuLLU089hdtuuw01NTWbjnG5pYABaU0ZwdM0pNjNsHMBiY8AJvp8YiNxwoaS8vJy/p5arVaYTCaMjIyIGgHI3j+kRADZGDiaw0vECglAIqkRjnMDQnv7SSFS2nZtbQ0dHR0wGAw4depU1E/YSkcAJyYmMDw8jF27dqGqqkrydcqpv+M4DqOjoxgfH0djYyMWFhbw3//93/jTn/4EQPqINjEC0Gq1oqOjA0ajEfv375dcR5WamorS0lKUlpbyG++9996Lp59+GmazGbfeemuAmNnORDKflitqg+1mgiOswXYz2dnZO6IGMJaIo/Cesqg1m1DCsglpaWm8GMzJyYFOpwvIZojFZrNR+pdQBBKARNLCon6vvvoqamtrAxow5BJKAHIch+npaQwODvIF4GI2OqUigBzHYXV1Fevr6zh27Bg/1UAqUiOALNXscDj47uLFxUV84AMfQHZ2tqwRbUwAhopOCe+zXJEb6nxZWVn49Kc/jZycHHzwgx+EwWCA2WzGyMgInE4n9Ho9UlNTsba2JnnU2lYTzXxaiWsJjrAG2814vV5kZWUBeNN/LhH3MNERQDl+fOHQaDR8TSZwyU6JeTqOjo7C4XAgKysLGRkZ/O+t2A9CDoeDOoAJRSABSCQdwd5+LAWsBMEC0OPxoKenBysrKzhy5AiMRqOkY8W6rtXVVYyNjYHjOLS2toqyWgmHlAaM1dVVdHR0IDMzEy0tLXzKT61Wo7CwUHLkjxFuw/b5fHw3dbj7PDc3hx/96Ee45ZZbJKeegz36WOp+Y2MDAwMD/Ag7lUoVYJUSD583JUVLJPPpcK91rCPrgu1m7HY7lpaWsLKygosXL8bVbobBPkRslwhgNHQ6HQoKClBQUADgTZG9tLQEv9+PF198cdOEknA/R3a7XVR9IUFEgwQgkVSE8vbTarWiO3ejIRSATASlp6fj1KlTksWXWq2WvS5hNKygoAAOhyMm8cfWI0aQMpuQuro61NTUBGwksXoJsmMJI4AbGxvo6OgAALS2toYVXQ8//HDMo9aCMRgMyMjIQHp6Ourr67G+vg6z2Yy5uTkMDg4iLS2NFzKR5sRuFZHMp8PVACoxso6hUqn4KNXU1BSuuOIK3m6GpTbT09MDUpux2M0wLvemEyayU1NTYbPZ0NTUFHImNPsjFHxbnQJ2uVw4ceIEOjs70d7ejqampi1bCxEbJACJpCGct59SdivsWF6vl6+3q6+vR3V1taxP0xqNBi6XS/LzWKOJxWJBc3MzfD4fRkZGJB8nmGgC0Ofzoa+vDyaTCc3NzXzKL/gYcmvLWASvvr6efw3Z/ODCwkI0NjZG3GDPnDkDn8+HW265Rdb5w8HS0mq1GtnZ2cjOzkZtbW2AVcrg4CBcLhffxWk0GhOW6oyFUOuLx8g6JjaFdjMAotrNyLFGAeR1x8aKVD8+JfD5fNBqtUhPT0d6ejrv6cgmlLCGEp1Oh7S0NLz++utbngK+8847UVpais7Ozi1bA6EMJACJpMHn84U0dpbi3RcNv98Pp9OJiYkJHD16NKYmATkp4PX1dXR0dCAlJQWtra1ISUnB8vJy3A2lHQ5HwBi7cFG4WCKA586dwxNPPIE9e/bgAx/4AMbHxzEyMoKGhgZUVFREfX5paSm+9KUvxaVjN9QxhVYpQlsPi8WCiYkJvo5LSqozkd3G4SKA8RhZF+5cYu1m2H0Ua+jNfga3aw2gWEKJTrVavalJZ3V1FT09PfjRj36E4eFhZGZm4lOf+hSuueYavO1tbxNtFRUrTzzxBJ588kn86le/4qPMxPaFBCCRNLAIQ/CbvlarVUQgWa1W9PT0gOM4nDp1KmYzYalNIGy6RnV1Nerr6/nrVMrAOZx4W1paQldXF8rKyrBnzx4sLCzg3LlzIW1eYokAnj17FhzHoa6uDj09PVhdXY2pqUUpookIYc1ceXl52MkaGRkZAZ2xoaJFZrMZ3/72t/HRj35UVv2dFBIpNsU2ZISzm1laWsLw8HBUuxnG5Z4CZogxgWYTX6644gpcuHABd911F9rb2+H1enHnnXdidHQUS0tLce94X1xcxG233Ybf/va3UX0jie0BCUAiaQhn8RJrClg4VaOqqgrj4+OKTJIQGwFkDRCLi4toamriC8EZSgnA4ONwHIeRkRFMTExg//79vCA5d+4cHnvsMQCbbV5iiQCWlpbiM5/5DP70pz/B7XbzEc5kJ1TNXPBkDbfbvWkKRE5ODvLy8mA0GvkarT/84Q/o6upCSkqK4lG4UCRy6ogcWyKxdjNsXB0TYExwXs6TRwB5UUePx4PGxkZ873vfAwAsLCzEXfxxHIdbb70VH/vYx3D06FFMTEzE9XxEYiABSCQN4d7s5dbaAZcKlru6urCxsYHjx48jJSWF77qNdXMREwG02+3o6OiARqMJO11DSQHIIidutxudnZ1wOp28xQuD2buEsnmJxdrGZDLxdUEHDx5MKvEXKVompmZOr9ejqKgIRUVFfGesxWKB2WzG6OgodDodjEYjrr32WhQUFChafxeOZEg3SyGU3QwT1X19ffB6vXwNppwpNLGyVTWAUs9pt9sDDOqLi4tln//uu+/GPffcE/ExFy5cwMsvv4y1tbWEfKghEgcJQCLp0Wq1sNvtkp9nNpvR1dWF3NxcHD58GFqtlh81xoqvYyFaBHBhYQE9PT0oLy/H7t27w37SVzoCuLKygo6ODmRnZ6OlpWXTdZaWloa1eYnVTHrfvn3o6upKquaJaGuRWjPHOmMzMjJQWVnJ12hZLBbk5ubiyiuvxMzMDBwOB58ujkdkSQlRtpXnCh6tZrfbeUHIPqT19vbG1W5GiBLvCXLOKUcAhpp2I4c77rgDN910U8THVFdX42tf+xpeffXVTa/B0aNHcfPNN+ORRx5RZD1EYiEBSCQ9UlPAQkHS0NCA8vJyfvNib/DxmOHL8Pv9GBgYwNzcHA4cOICioiJRx4l1k1WpVFhdXcX09LTs7mYps3yBS+mo7u5urK+v48SJE8jKykJ3d3fSjV6L53pYjZbRaMTCwgIaGhrg8XhgsVjQ09MDv98f0EwithFCDIkUgPFMjwpFdUVFBVZWVtDV1QWDwRAwSUNo2aO0WNuKFLCcqKPD4VCsBi8/Pz/iuEvGd77zHXzta1/j/z83N4d3vOMd+PnPf44TJ04oshYi8ZAAJJKGSClgsV3ATqcTXV1dcLlcm1KfwnN4vd6YffdCRQCZ5x0zdhbzRs02gFgEoM/nw/LyMhwOB44ePSrJ0FqIlCYQm82GtrY2pKWloaWlhb+fSkU0xRCr6XE80Ov1yM/P542UhZYeUhohoqGkqI12HxMZbWRoNBp+Mg+zm7FarRgeHobT6URWVhZ/H+XazQjZqhpAqUJ2K3wAKysrA/7Pzl9XV4fy8vKEroVQDhKARNIjtgvYZDKhu7sb+fn5aG5uDvnGqlKpFJvhGxyZXFpaQnd3N4qLi9HQ0CD6k72w8F3OBmS32/muQAD4/ve/H7LDV+xaxNybhYUFdHd3o6qqCrt27dpkJh2LOJEiNsSYHid6fm3wuTMzM5GZmcnPiGWNEGNjY9jY2IhJyCh1bdHuY6LHsgX/LsTLbibSOROBz+eT/EHU4XBs+mBLEHIgAUgkPdFSwH6/H8PDw5iamkJjYyPKyspiOp5YmFgSnn/fvn2ShZdQAEplcXER3d3dKC8vh06nw7e//W1cvHgRwOYOXzFEE28cx2FoaAjT09M4ePBgyPR2rAJQCmJNj5MlJS1shNi1axecTmdIISNMF4eD4zgsLS3hoYceijkCGu0+JjoCGC3lLMZuRngfxURZ5dTjxYrcGsCttmGprq5Omt8pQj4kAImkJ5Jg29jYQGdnJ7xeL1paWkSlRpQSgCw1feHCBXg8HtHnD0aOAGSic3p6Gvv370dxcTEmJibwnve8B8XFxSE7fMUQqQkkuLM43LUmUgDGw/Q4kaSmpqK0tBSlpaUBQmZhYQFDQ0MwGAxh6944jsN//dd/4dlnnwUQ29i3aPcx0QJQSjQukt3MxMQEent7w9rNyD2nUkitAWTNMhQBJJSABCCRNITbYMLNAmYp16KiIuzdu1f0G6lSAnBlZQXApWjE0aNHZUcPmN+Z2DW5XC50dnbC7XYHCDG1Wo28vDxZkT/gUmH39773PVx99dWbvre6uor29vawncXB15NM0YFk6kgWElx3FyxkvF4v3xXL6t6ys7N5Qej3+/GXf/mXSE1NjbvtzFYIQLnnk2I3k5uby4/8S1Yj6GAcDseWzgImLh9IABJJRSjxwAQb24T8fj8GBwcxOzuLffv2SU59KWEszbqMAaCxsTHm1JHYukSr1YqOjg4YjcZNdY6xNl+cO3cOzzzzDNbX13H99dfzX2cTTOrq6lBTUxN1Y45FAM7NzeH8+fM4c+aMok0dySRIGdHq7rRaLQoKCnjjcGHd2+TkJHw+HzY2NnDLLbfIbvoRS7y7gINRUowF2804HA7+Po6Pj0OtVsNoNMLtdis2c1wscoyg7XY7CUBCEUgAEkmPRqMBx3H8vNaOjg4AQEtLi6yh6LEIQKGx9LFjx/Dqq68q4h8WTbxxHIfJyUkMDw9j9+7dqKys3CTEYhWAZ8+exfr6Oq644goAb9rZzM/P4/Dhw6LsIgD5AtBkMuGrX/0qXn/9dVgsFnzhC19Abm5uwr3ZYkVs5Eps/SJDWPfm9/vxpz/9CampqZibm8PAwADS09MD0sVK1rMlWw2gXFQqFdLT05Geno6Kigp+5J/VasXS0hL6+vowMTERV7sZIVIjgD6fDw6HQ9b7HkEEs73eWYkdCXsDZhtdaWkpGhoaZG8QcgWgxWJBZ2cnbyzN3rjjMcZNiNfrRU9PD6xWK44ePRp27FMsY9yASwbRn/70pzExMQGn0xlQWyml6NxiseDBBx/E3/zN34hqiBGO6vv4xz+OgoICXH/99RgdHcXGxgays7P5kWssXScFJYRLPOxmYqlfZDOzy8rKkJWVxdukWCwWDAwMwOPx8OnivLw8pKenx3QftqILOBHnE478YxkFlnqPl92MEKkCkBniUw0goQQkAImkIlT0iP1/YGBAlLFyNOQYS4+Pj2N0dHRT9C2W0WlCwglAm82G9vZ2pKSkRJ2tK8XDL9IxPB4PXnnlFeTl5WHfvn2SI0lPPPEE2tvbYTAYotYjer1edHd3Y3V1FcePH4fBYMCBAwf4TXZjYwNms5kv6Gemy0wQivXQi/W+iLGbUeI8UmE/h0KbFBYpD3Xf2B+p1iOXSwQwEn6/H3q9HkajcZPdjNVq5bu0Wf2gEqbeUptAHA4HAFAKmFAEEoBEUsNm6QLAoUOH+HqoWJAiAN1uN7q7u2Gz2XD8+HFkZ2dvOla8popE8toLd4xY1sJxHG8mvXfv3pBpZjG8613vQl5eXtROZIfDgba2Nuj1erS2tkKv18Pj8QQ8xmAwoLy8HOXl5Xy6jtXA9fb28tGZvLy8sNEZJYSL1HRtIggnNlUqFdLS0pCWlhaQ5mRWM319fcjIyAhIc0YTW8ncBRzPc0qxm8nNzZUsrOVEAPV6fcwm9gQBkAAkkpi5uTn09vaisrISLpdL9sSEYMQKQNb5mpmZidbW1pDnV9JShok3YZNLOK+9UEQSgHNzczh37lxYg2ifz4e+vj4sLi4iNTUVVVVVsq+loKAAn/70pyOue3l5GZ2dnSgtLcWePXtEbfbCdF1dXR1cLhdfzN/V1QWO43hRk5eXp+js2GS1mxEjyoLvm9vt5u8b64oVeualpaVtOu526gKWA6sxjiTGItnNsA8kmZmZ/L3Mzs6OeDyO4yQLXZvNFvL1IQg5kAAkkg4mRpaWlnDo0CEUFhZicXFRsQ69aKKN4zhMTU1haGgo6kxdpcaeseME195JKfaOtJZz587hscceA7DZIHpjYwPt7e1QqVTYt28fhoaG5F8IIjeBCJtZ9u7dG9MYqZSUFJSUlPAj19bX12E2mzE/P4/BwUGkpaUhLy8PXq834L4k4/g4OcgVZXq9PqAr1m63w2KxwGw2Y3R0FDqdLiBdrNPptnUXsBjY+4GUcwbbzYQS1qHsZoLPKTUCSA0ghFKQACSSCjZfVqfT4dSpU0hNTQWgXKQNuPQm73a7Q35PbMMFQ8mpIuvr6xgYGEB+fr6s2rtIwoulY4PTsmazGR0dHSguLsbevXuxurq66RjRoodi1+Hz+dDb2wuz2Yxjx44hJydH5JVFRxidqamp4ZsizGYzTCYTvF4vOjs7kZeXh3PnzuGpp54CEJt58lajRL2hSqVCRkYGMjIyUFlZCZ/Px6eLmYlyVlYWVCoVtFptwoTZVghOQJoADCZYWIezm2ERQnYuqQJQTiMUQYSCBCCRVExPT6OoqAh1dXUBb8bhzKDlEG628NraGjo6OmAwGHDq1ClRdTZKRAA5juNHgu3duxcVFRWy3uAjraW0tDQg8sdxHCYmJjAyMhIQiQsl3iJFD0MR6hgsyqhWq6M2syiBsCkiPT0dZrMZubm5MJlMaGxsxMLCAt761rfCZDIpbjWTyM1Z6XMJm0Xq6+v5NPvU1BTW19fx4osvbkoXx4NERwCVEIBCQtnNrK2twWKxYG5uDoODg/yHW4vFItpuJhnGwBGXDyQAiaRi7969IUWM0hFA4bE4jsPs7Cz6+/tRU1ODuro60RtrrOtiXbAbGxuoqKhAZWWl6OcGR+bEilEW5VxZWdnU2BLqGOGih+EItqOxWCzo6OhAYWEhGhsbI26y8RBPKpUKGo0GlZWVqKysxMGDB3HllVfCYrEoZjWzFSSi45il2e12O7xeL8rKymCxWGAymfgmCHbflBTSUrtjlTgfs9aJB2q1Gjk5OcjJyUFtbS08Hg/m5+cxOjoqyW7GZrNRBzChGCQAiaQinIhhc3eVQCjavF4v+vr6sLy8jObmZr6eR8p65QrA9fV1tLe3Iy0tDYWFhZKjYsGROTEC0G63o729HXq9Hi0tLZvOGcpLMDh6GA1hBHBqagqDg4PYs2ePKHEbD1ETvKlrNBrk5+fzxtZKWc0AgeuPd61hIhszWEo2MzMTmZmZqKqqgs/n470HmZAWihiWOpbDVkQAE3k+nU6H7Oxs6HQ6tLS0YGNjg7+XMzMz8Pv9AZFWZjezVSbQjz32GL761a+iq6sL6enpuOKKK/DrX/864esglIUEILEtCJe2lQMTgDabDR0dHdDpdGhtbeVTMlKPJScFzDqcq6urUV9fj97eXsnHCY7MMR/AcMJgaWkJXV1dKC8vx+7du8NapijhJej3+9HT04OlpSUcOXIk7qPKohHpmpSwmgmFWO/AWJAjsOQI01A1ecFCmpUxMLsZALyIycvLk/T7legaQDkj2ZQ4J4tyGgwGGAwGlJaWBtjNsEirzWbDz3/+c+Tk5Mh6n4qFX/3qV7jttttw33334eqrrwbHceju7k7oGoj4QAKQ2BYomQLWaDRwOp145ZVXUFlZiV27dsl+85caARSOV2tqauJ9DeXUEgZH5tg1BKfPhLOL9+/fH3HTV8JM2u/3Y2Jigo9uGAwGANKbSYQkqnNXSauZeHoHstdIjgCUI0zFRBtTU1NRWloaIGLMZjMWFhYwNDQEg8EgesTaVkwe2QrfwVBp7lB2M4ODg8jKysJzzz2H6elpHDlyBNdeey2uvfZavO1tb4vbuDqv14tPfepTeOCBB/DhD3+Y//qePXvicj4isZAAJJKKcG/6SglAn8+H6elpuFwuNDc3847/cpESAXQ6nWhvbwfHcZvGqynRTMLunVDAeTwedHV1wW634+TJk1FHSEWLIkZjZWUFVqsVGRkZOHHiRMAGJ7WZREgs0bRYhIRYqxkmaoTE0zswFpEuR5hKFWTBXdlsvJrFYuFr3oSj6oLrLreiCziRNYeAeBNojUaDxsZGfP/738cXvvAFbGxs4O1vfzueeuopfPKTn0RnZ2fc1tjW1obZ2Vmo1WocPnwYCwsLaGpqwje/+U3s27cvbuclEgMJQGJboNVq4XK5YjqGw+FAR0cHfD4f9Hp9zOIPEB8BZHYrRUVF2Lt376Y3fjaCLda1AG92NLIaw/T0dLS0tIiqZROKSKnCaXZ2Fn19fUhPT0dxcfGma5TaTCIk1miaUpYp4axm+vv74fF44Pf7sbi4CLVaLWtMmNRIpxxxK0eYxlpvqNVqUVBQwEe8HQ4Hf+8mJyd5ixT253KvAQTkpZ0dDgeKiopw88034+abb47Tyt5kbGwMAHD33XfjW9/6Fqqrq/Hggw/ibW97G4aGhra8tIOIDRKAxLYg1gjg4uIiuru7UVZWhtLSUly4cCEh6+I4DmNjYxgbG4tofMzS0rEgFIDz8/Po6enhawzFbt7scVI2RDa5ZG5uDocPH8bs7GzIx0ltJhGSjJM4gufv2u12XLhwAVarFVNTU7I6ZJN15jDHcTCZTPjv//5vRdLwbFRdWVlZgEUK68ZnP3spKSnIycmJe3Ruq2sAxcJ8AGPl7rvvxj333BPxMRcuXOA/TH7lK1/BDTfcAAB4+OGHUV5ejl/+8pf46Ec/GvNaiK2DBCCRVERKAcvpAvb7/RgaGsLMzAz279+P4uJiOByOhJhKs/SrzWbDiRMnkJWVFfE4SqWAR0ZGsLCwwE9RkQLbBMUKDLfbjY6ODrjdbj6tPTc3J1ugxMsGJt6CiRkqq9Vq7N27F6mpqXzKc2RkhE95RrOaERvpjKUGUA4cx+HXv/41Xn75ZQDKNrWEskh54403+HpZj8cTcO/S09MVv+6tigDKEYBKdAHfcccduOmmmyI+prq6Guvr6wCAxsZG/uspKSmora3F1NRUzOsgthYSgMS2QE4X8MbGBjo7O+Hz+QLGqmk0GllzOEMRLgK4traG9vZ2ZGRkhJ0jLEQJAciEqMViwcmTJ8NGCiI1YwSnkSPBrjErKwvNzc18hEup8XjbESbM5FrNSI10Liws4Kc//Wncm2M4jsONN96I7OzsuDS1CNHpdNBqtaioqEB+fn7ARI2xsTFotdqAdLEYw/ZoJFMTSCSUigAKfzYjceTIEaSkpGBwcBBvectbAFz6YDsxMRHTvHAiOSABSGwLpKaATSYTurq6QtbcsX8rkfYJ1QTCauFqa2tRW1srKloRq2haXV3l5/keOHAg4iYRqRkjVCNJKFiKOdQ1JiLilgiU7DwOZTXD6t/kWM2w+/uTn/wEf/zjHwHEd6wdx3EoKipKWBpeaMwcPFGD2fRMT0+jr68PmZmZvBjMzs6W9Tu9VU0gUtdqt9ujNnIpSVZWFj72sY/hH/7hH1BRUYGqqio88MADAIAbb7wxYesg4gMJQCKpiDUF7Pf7MTIygsnJSTQ2NqKsrCzksYBLb8BSTH5DIWwC8fl86O/vx+LiIg4fPizqE7bwOHIFYFtbG7773e/i9ttvF7WpRGrGENYAhoLjOAwNDWF6ejpsijkWAZhMKeB4+fgJrWYAyLKaYddzyy23QK1Wxz0ql0jTaSB813GwTY/b7ebvXW9vL3w+H3JycgJG1YlZ91bVAEp9/9mKUXAPPPAAtFotPvShD2FjYwMnTpzAM888E3VOOpH8kAAktgViUsAulwudnZ1wuVwRLU9UKlVMEzyEsAgg6zBWqVRobW3lve/EImc9rEbqe9/7Hrq7u/HUU0/hLW95S1QhGa0ZI5wXoMfjQWdnJzY2NiKmmC+XCGA8ffyESLWaEQqV0tLShETlEu3LJ9YGRq/Xo7i4GMXFxXwjjsVigdlsxujoKHQ6HS+kc3NzwwquraoBlGqOnegIIHApJf/Nb34T3/zmNxN6XiL+kAAkko5QAiJaCthsNqOzsxN5eXkB9WjhUMpXUK1Ww+Vy4ZVXXkFJSQkaGhpkbSRSJ4o4nU50dHTA7/fjy1/+Mv7rv/4LZ8+excjIiCLNJHNzc/j5z3/O1wnabDa0tbUhPT0dJ0+eDNhIg2sKLxcBuBWdx2KsZnJzc/n5zYm6z1sRAZT6e8QacTIyMlBZWQmfz4eVlRVYLBaMj4+jp6dn06g6Yc3rdqgBdDgcNAuYUAwSgMS2gAm24I1IaLPS0NCA8vJyURuVEgKQ4zgsLi7C4XDg4MGDkqdbCJGSArZarejo6EBeXh727dsHjUbDR/TGxsZiFoBqtRo/+clP8NRTTwEAbrvtNnR3d/NTU4Lvb3BNYah5wmLwer3o6emB0+lEXl4e8vLyFOn4TLQgVVIohbKaYSPCAOC1116TbDUjh2RJAUtBo9HwP0dAYKq9u7s7YN6u2+1O+Ii1rbSBIQiABCCxTWAbm8/n4//tdrvR1dUFh8MR1WYlmFgFIDv3+vo6UlJSYhJ/gDgByHEcpqamMDQ0hN27d6OysnLTJqmUnczNN9+MlJQUXH311ejq6sKBAwdQXFwc8vHBNYVyBJfD4UBbWxv0ej3y8/NhtVoxPj4OnU7Hb+LxFDjbAWGEq7CwEC+//DJ2794t2WpGDomezBGP8wWn2m02G8xmM5aWlrCysgKtVguv1xt3Mc2QWnfo8/ngdDoVsYEhCIAEIJGEhEsBA28KQKvVis7OTmRnZ4uechF8PLkCkHXcZmVl4cCBA4oMRo8m3Hw+H3p7e2E2m3H06NGwBdhyo2/Ba8nPz8e73vUurK2tRR0hF1xTKFUAsikppaWlqKurg8/n41N4rFt2dHQUGxsbvMBRKjq4XWH3V47VjNzzJXsKWAoqlQqZmZnIzMxEdXU1urq6oNVqoVKp+J+14M5spa9fagTQZrMBQMJrAInLFxKAxLaAWUJ4PB7Mz89jeHgYu3btQlVVlaw3ZjkCkOM4zMzMYGBgAHV1daipqYHNZlOsljCccNvY2EB7ezvUajVaWloipqrCNXBIgeM49PT08CPkpPqsiY1CCiOabEqK1+vl7ycTMEajEbt27eIFjtls5qODQoGj1WpDWrckMgUs9TxyrWZCCTKlrWainS9esFnUia7Jy8zMREVFBYBLv3Os9nJ6ehoAArwHlUgXS60BtNvtAEApYEIxSAAS2waNRoO+vj44HA4cO3YMOTk5so8ltevW5/Ohr68PJpMJzc3NfF2RUt3E4Y6zvLyMzs5OFBcXY+/evVE3xVhTwCaTCS6XC0VFRTh06JCsTViM4PL7/bxlTqSIphChwBFGB8fGxtDb24vs7Gz84he/wJ/+9CcA8fXFU4pYrGYiCTIxVjM+nw//+7//i49+9KNRTX0T2QXMfn63MuJoMBhgMBhQWloKjuP4UXWsM9tgMPBiMDc3V5aHoNQIoN1uR2pq6o4ugyCUhX6SiKQj1Bv/6uoqfD4f/H4/WltbY3b/lxIBdDgcaG9vh0ajQWtra8CnfzZVJNYICesCZsfhOA7j4+MYHR3lo2ORJngw5ApAjuMwMTGBkZERpKSkoKysTHYEJpoAdLvdaG9vh9frRUtLi2TLHCB8dPC6666D1WrFvn370N/fj7y8vLhOJYnVLFqu1YzUSGMoq5l7770XTz/9NMxmM86ePRvWaoadL5ERQAAJjQBGEmMqlQrZ2dnIzs5GTU0NvF4vP+ZvaGgILpdLVu2l1BpAm80m2teQIMRAApBIajiOw/T0NAYHB6HValFbW6vI6CexAnBpaQldXV0oKyvDnj17Nr1hs/8Lm1PkIJzB6/P50NPTg5WVFRw/fpy3/Ig0wUN4HKmCh53ParXi+PHj6O3tjSllGkkArq+vo62tDdnZ2Thy5Ihi0QxhdPDKK6/EysoKHx10OBzQaDSYnJxUvHYwVrPoWKxm5F4Ds5r59Kc/jZycHNx8881ITU3dZDXDBI3BYEioAGQ/v4kUgFJqDrVaLQoKClBQUAAAAaPqJiYmoFarA9LFoYy8AXkRQGoAIZSEBCCRtHi9XvT29sJiseDIkSMYHBxULJoTzXeP4zgMDw9jcnIS+/fvDxvdYW/gSjReAJcEUnd3N/R6/aZIZ6QJHgypTSCsvlCj0aClpQUpKSkx18yFe/7i4iK6urpQU1ODurq6uAkK4Qa8a9cuzMzMYHJyEqurq5iYmOBnyQprB+USKoKXCKGkhCALFp+hrGaGh4eRkpICt9uNtbU1ZGZmxj0FmQwpYCmkpaUhLS2Nr71k6eLZ2Vn09/cjIyMjYFSdMNovVQAq2dlNECQAiaRkfX0dHR0dSElJQWtrK1JSUhQzbwYij5Zzu93o7OyE0+lES0tLxKJrYQQwFthxLly4gPLycuzevXvThhRtggc7TigBGCp9zLpvgw2sY60jDBaAQq/GUHYywrUVFRXJPm84UlJSoNfrcfDgQfj9fj46OD4+ztcOMkEodYPdCrNo4FLq+Wc/+xl27doV85xiIaHMlK1WK3p6ejAzM4OxsTFZ6U4pqXImbreLABSiVquRk5ODnJwc1NbWwuPx8NFBFl1l32ePF8tWjIEjLm9IABJJx8LCAjo6OlBdXY36+np+IxA7D1gMGo0GHo9n09dXVlbQ0dGBnJwcHD58OGq0g42Vi0UwMYEEgPf3k0u4LmBh+vgrX/kK333b0NDAdz4yYrWSEQpAn8+H7u5urKyshPVqFK4tXmJKWFfGojHApQioxWLB4OAg7r//frzzne/E7t27FYkOxpOf/exneP3113H+/Pm4ClCNRoP8/Hyo1WocPHgQWq1WltWMlFT5dpnKIQadToeioiIUFRWB4zg+Xby8vAzgkpG3MF0cqbyFTKAJpUnOdzdiR2MwGNDU1MTX2DDEzAMWi0ajgdPp5P8vrDWUai8TS2TS4/Ggq6sLdrsdKpWK7y6WSzgxytLGt956K3p6erC8vBy2+1atVmNhYQHnz5+P2HASDiYAnU4n2traAtLLoRCmtuMR9Yl0TIPBgLKyMvzkJz9BX18fCgsL0djYyEcHs7KyeN9BMdGuRNnN/OVf/iUWFhbiPqeYwaJycq1mpDS7JHruMCC9IUMOKpUK6enpSE9PR15eHl599VU0NjbCYrFgamoKfX19yMzMDEgXC9e0FTWAQ0ND+Nu//Vu89NJLcLvdOHDgAL72ta/hqquuSug6iPhAApBIOnJyckJ+0lU6BcyOJaw1FGtJIkRuBHB9fR3t7e28397zzz+vSC1hqGOUlpbi85//PNrb2wEgop+gSqXCf//3f/N2KtHSzqHW4Ha78fLLL/OCKtLmKkxtx7NjNxJCgcJSlCw6yASOcLRYbm5uTMbKsVJUVISbb75Z0fRvJJaXl/Gtb30Lt912G3/OcFYzZrMZs7Oz4DiOFzN5eXmiI5Vb4QGY6KgjaxoTRqPdbjefLu7t7YXP5+PfC+12O2w2W8IjgO9617uwe/duPPPMMzAYDPjnf/5nvPvd78bo6GjYyUDE9oEEIJF0hPv0r3QK2OfzwW63o729HTqdjq81lHssKczPz6Onpycgza3UGLdQa1lZWUF7ezvy8/PR2NgYMd2lVqvxgQ98ANnZ2REbTsJhtVqxvr6OvXv3hhxXJ+YalCZaZC5ULR+LDpaVlfG1gxaLRXZ0UGkSeb4nn3wSvb290Ol0YYVcKKsZs9nMe+elpaVFtJphJFqMcRyX8HOGSjnr9XoUFxejuLg4oBnnlVdewSc+8QlkZ2cjPz8f//M//4NrrrlG8gdVqSwvL2NkZATnzp3DwYMHAQD3338/vv/976O3t5cE4GUACUBi26DVauFyuRQ5lkajwcbGBl555RVUVFRg165dsjcAKWbQfr8fQ0NDmJmZwaFDh1BYWBhwHL/fL8rvL9JagkXkzMwM+vv7w84PDkalUqGwsFBy5I/jOAwODmJubg7p6elRzYUThRJCSVg7WF9fD6fTyU8lEUYHASj2ISUSiUo1s3Nde+21KC8vF51yZlYzWVlZqKmpgcfj4SdrhLOaYa/TVghAAHGpAQxHNAuY4Gac06dP43Of+xz6+/tx991346abbkJrayueffbZuK07Ly8Pe/fuxU9+8hM0NzcjJSUFDz30EIqKinDkyJG4nJNILCQAiW2DUilgv9+PhYUF2O12NDU1xfxJNpqlDMPtdqOjowNutxstLS2b6nmYeBPj9xcOYROI3+/HwMAA5ufnA6aXiDmG1Eikx+NBZ2cnNjY2sHv3bszOzkp6/nYjNTU1IDrIauGAS53cwpnF8YgOJno2r9FoxJ133ikrQg5caoYoLCyMaDXDxGCiawC3wndQqgdgZmYmdDod3vnOd+LrX/86ZmdnefumeKFSqfC///u/eO9738vXcxYVFeEPf/hDTFOYiOSBBCCRdMQzBexyudDR0QGn0wmDwaBIGkNMBHB1dRXt7e3IyclBc3NzyO5Sdhwxfn+R1uL3+/nrZNM2pNhHSPUBtNvtaGtrg8FgwMmTJ2G1WhMaoRJDPNcjrIWbmprCkSNHYLPZ+OjgysoKnn/+edx6663Yu3evYrWD23U0WzirGYvFgpGRETidTqjVakxOTkqympEL+91NtACUej5hFzD78CGHu+++G/fcc0/Ex1y4cAFHjhzBJz7xCRQWFuLFF1+EwWDAj370I7z73e/GhQsXElZ/SsQPEoDEtiHWLmCr1YqOjg4YjUbU1dWhp6dHkXVFiwCyFGx9fT2qq6sjCly/3y/K7y8carUaLpcLr7zyCnJycnD06FHJUQIpNjBsVjHzLmT+bckkABNdm5eSkoLs7Gw+OnjPPffwXZQ33HBD1NpBMZ55ciOAckbXsdcyXveRWc3k5+cDAKanpzE9Pc0bd4u1mpHLVhhPS40AAsrZwNxxxx246aabIj6muroazzzzDB599FFYrVbevun73/8+/vd//xePPPIIvvjFL8a8FmJrIQFIbBvkpoA5jsPk5CSGh4f5Orj19XXFOorDRQD9fj/6+/uxsLAgKgUrtwlEWDO4trYGq9WK3bt3o6amRtamFs5LUIjwnjY2NqKsrIxfx/ve974t6+bdSkLdM7VajY997GNITU3FrbfeitzcXN5Hj9UOBosbMZ55cgW2nNF18RaAwWi1WqSmpvLG3WKtZuTCGjISnXaWIwCVsIERiu1IOBwOAJsjo0o0qxHJAQlAIulQMgXs9Xr5ubrHjh0LcOBX0lIm+A3R6XSivb0dHMehtbUVBoMh6nGkTPEQwmoGl5eXcfr0aWRkZKC2tlb29USLAPr9fvT19cFkMgXcU7aOjY0NXHfddbLPHw+2MiIZ3GEcqnZwYmICfX19yMrKwjXXXAO3241bbrkl4nHlCBYpfnyMRAtAoQ2MVKsZOTWKW2E8LScC6HA4kJmZGacVbaalpQW5ubm45ZZbcNddd8FgMOCHP/whxsfH8a53vSth6yDiBwlAYtsgNQVss9nQ3t6O1NTUTXN1tVotP48z1o0tODJpsVjQ0dGBgoKCqJYrQsIJwGhNIR/60IcwNzeHK6+8Ert27cLi4qLMK3lzHeHuM6st9Pl8m7wEWc3iDTfcEPMalCRZZ6cKxQ3rLGbi5sorr8TY2BhWVlZCpj7lClo5o+uEU1QSQSRBppTVjJBEmEArcU6bzZbQUXD5+fn4wx/+gK985Su4+uqr4fF4sG/fPvzud7/DoUOHErYOIn6QACSSklB1ZFJSwMxnr6qqCrt27dokAoQzfGMd98WEG8dx/Ii1PXv2oKKiQpL4CCe8IjWFrK+vY2JiAh/5yEdw8OBBLC8vxxztChcBXFtbQ1tbG3JycnDgwIFNwpbVLq6srGBhYSGmNShNIiOAcgVnamoqSktLUVpaGjY6yCJdieyUTXT0VOy1xWI1E3y+ZI8AsjFyiYwAAsDRo0fxxz/+MaHnJBIHCUBi2yAmBez3+zE4OIjZ2dlNPntCmOhTQgCyucLd3d0wm82ypomw44Sb4hEq8rewsIDu7m7U1NSgrq5OMTPpUDWA7Fy1tbWora2NuEFLaQIRprdLSkrg9/vh9Xr5a2F/R0JOY0OyEyk6ODU1xd//xcXFuDRGCGGCLJFdx3IEmRSrmdzcXP73Pl5zgCPh8/kkp6u3YhQccXlDApDYNmi12oiu/U6nk09Ptra2RkyXsM1MiTpAn8+HxcVFfqRbuBFr0RAr3jiOw8jICCYmJnDw4EEUFRWFPYYcU2lhBJDjOIyOjmJ8fHzTuSI9X6wAFKa3v/jFL/KpMY7jAl4btVrN/wkmWmNDvIRLsPCMZ6QsODo4OTmJ2dlZTE5O8jNkWWdxZmamotecaM9BJUbBibGaYV6N7PGJRG4TSKIjgMTlDQlAIikJlwIGQtfPmM1mdHZ2iq67U6lUog2cI7G8vIyZmRmkpqbi+PHjMW1cYgSg1+tFZ2cn7HY7Tp48uWlDCD6GHFNpJsC8Xi+6u7uxtrYW8lzhkCIAWVr71ltv5TdFYX2m3+/n/82iv8HRQTGNDfEQZ3I6apVArVYjPT0dqampOHr0KFwuFz+VZGpqCmq1mo905eXlxRwdVEIASonSxiMlG2w1s7GxwXdjMwPvvr6+uFnNBCM1BezxeOB2uxM+C5i4vCEBSGwb2Bum1+vl36A5jsPExARGRkbQ0NCA8vJy0ZtVLJNFOI7D+Pg4RkdHUVRUpEgheTQBKDRcbmlpCblJBdfvyTGVVqlU8Hq9eO2116DVatHS0hLQQCPm+WIFV0lJCb74xS/ymz577di9ZK85E4Lsj/B1KygowBe+8IWw9z9e0R05HbVKwUSZUFgdOHCArx20WCyYmppCf39/zNFBJSJyUsRyIuobDQYDysvLUV5ejpmZGczPz0Ov18fNaiYYqe8XNpsNAEgAEopCApDYNrCoHdv8Wd3d2toajh8/juzsbEnHkysAWWRsdXUVx48fx9ramiJdr2q1Gm63O+T3TCYTOjs7UVFRwRsuhzuGUADKMZVmc27Ly8uxd+9eyZuf2FS2UNAJxV+4Y7J1sIigz+cDx3ERo4PxRE5HrVIwgR0srIS1g3V1dYpEB5WIAEoRy0oITilwHIfU1FTU19cDCLSamZmZAYCYrWaCkRoBtNvtAEA1gISikAAkkpJIXoA+nw/r6+tob29HWlraJosXscgRgKGsZWw2W8y1hHNzc3jooYdw+vRp7N+/n/86x3EYGxvD2NgY9u/fHzV9JsbEORIzMzOYnJxEWloa9u3bJ+sY0SKATLQJR3BJ7ZYGAqODTAwGRwfZ/Yi0nu3YRMJEWTRhlZKSsqmzWGp0UAkBKEUsJ7opIzjlHA+rmVDnlCoA09LSEt6sQlzekAAkthVarRYLCwuYmpoK6H6Vg1QBuLi4iO7ublRUVGDXrl0BQiTWWsJz587hueeeg8vlwjXXXAMg0MT6xIkT/DimSMjtAmbd03Nzc6iursbq6qrkYzDY6xFKOAgjd2y9sRIuOsiiiy6Xi48Ssm5W4XmVruVLZEOBFGEVKTo4PT0NlUoVMJWEfahKpOUMO1+yzOVVymom1DnlCMBk9bQktickAIltg9/vh8fjwdTUFJqamlBQUBDT8cQKQGHX7YEDB1BcXBzwfSWmipw9exarq6t4+9vfDuCS6397ezt0Op2kCKfQk1DsZuHxeNDR0QGXy4Xq6mr84Ac/wBVXXCH7WsIJQGFTh9Son1iCo4PLy8sYHBxEWVkZf362RraGRNTyKR1lVCIqFxwdXFtb41PFzHfQ5/Pht7/9LVpbW2Nes1gSnQKWIjjlWs0EI7UGkCxgiHhAApBISoI3t42NDXR0dMDv92P37t0xiz9AnAD0eDzo7OyEw+EI2wmrRASwtLQUn/zkJ7G4uAiz2YyOjg5otVo888wzKC8vF23hwjYVsQLBZrOhra0N6enpOHnyJO6//348/fTTWF1dlT3uSSgAGcKoXLzEXzCzs7MYGBhAQ0MDP3pNuA722ufl5eFv//ZvYxYdkdLMSkcZlbZmUavVyMnJQU5OTkB08IEHHsBzzz0Hs9mM2traTdHBeJDoCKDc80mxmjEajcjIyAiwn5ISAbTZbEhPT6cIIKEoJACJpGd5eRmdnZ0oKiqCRqNRbHOIJgDX19fR1taGjIyMsF23Yo4jFpVKxXf67t27F+fPn8fjjz8OlUolupGDbRBiNrVQjSVnz56F3W5HS0tLTNcBvCmIpDR7KAGL2M7MzODw4cMwGo0AwtcORrOZUYJ4RBml3kcpUUgWHbzzzjuRkZGBEydOIDU1NSA6GC/fwa1IOSshaIOtZhwOBywWCywWCyYmJqDRaPhmEjkpYIoAEkpDApBIWoQNEHv37kV5eTna29sVEVtAZOE2NzeH3t5eUXWGSkzf8Pl8mJ2dhdPpxIkTJ5CTkyPLwkVYCxcOoXXOvn37AqKLpaWl+OxnP4vBwUGZVxIoQoWRtkSIP5/Ph97eXr4zPNKmGVw7GM5mJpIJtViU7hiW0+gjJwpZUlKCT37yk5iYmEBdXR0fHWRdspFqB+WSTDWAsZCWloa0tDSUl5cHjPabnJwEAHR3dyM/P1+U1YzdbicLGEJxSAASSYnH40FbWxtsNltAA4RS0bZwxxKOkhNbZxjrmpxOJ9ra2uDz+ZCWloacnBwA4S1cIk33EKaAQ+H3+9Hb24vl5eWw1jlSfPxCwdbAmi7YMeMt/txuNzo6OgAAx48flyREQjWSiDGh3kqk3k+5UcjgdLOwSzZc7SAThFlZWVviOyiFRAhOYQNOVVUVXnzxRZSVlcFqtYqymol3BPDee+/FY489ho6ODuj1eqysrGx6zNTUFP7mb/4GzzzzDAwGA/7qr/4K3/zmN+NaDkDEFxKARFJitVqhUqnQ2toakHrVarVR5wGLJVi4uVwudHZ2wu12o6WlRfQbrpzGC4bVakV7eztfWC4m8hZpuocw+haMy+VCe3s7OI6LOLIu2ExaLsvLyygqKop51nI01PMdUD9zD7ry/hyppYexb9++mOwypNrMxBodlIOcnzW5UchIKdlQtYNCDz050cGd0HUMXPqAx5qTmNXM3NxcgNVMTk4O0tPT4x4BdLvduPHGG9HS0oIf//jHIdf8rne9CwUFBfjTn/4Es9mMW265BRzH4V//9V/jti4ivpAAJJKSoqIi5ObmbtoIlIwACo2XV1ZW0NHRgZycHDQ3N0sSLUKhIEV4TE1NYXBwEHv27EFFRQWsVqso4RUqNSyMCoZKSa+urqK9vR25ubnYv39/xHXG4iXImiyqqqowPj6OgYEB5ObmoqCgAPn5+TAYDCGfNz8/j4cffhhnzpyR3CXrufgfyJx9FfWp5TAc+GvFxUMkE2oWJWTfA5QdOxeubi+ec4eDkSI2w0UHp6enN80sDhcd3IoIYCL99VjKWRgdD2c18/vf/x5f+MIXsHv3bmRmZmJ4eBj19fWK/4zfc889AC6VCYTiySefRF9fH6anp/msw4MPPohbb70V9957ryiLKiL5IAFIJC2h3uQ0Gk3YaRlS0Wq18Pl8mJmZQX9/P+rr61FdXS35zZVtVmILu/1+P/r7+7G4uIgjR44ENCmIEYChUsPCqOCJEycCjjM/P4+enh7U1dWhpqYm6vXF4iXIBNKuXbuwa9cuOBwOmEwmLC4uYnBwEOnp6XyhfHZ2Nn/vHn74YTz++OMAgC9/+ctRz6VanQY2LFhaMqF46FEAQN78c3AudgPgAIMRXHaF5GuIRqTooMlk4qOnHo+HTxPHImYi1e0lKkomt+NYbHTQaDTC7XbjZz/7GT8T+nJLAQefL9L7hNBqZs+ePTh48CAeeOAB9PT0YP/+/SgrK8O73vUufOc730nYz8Arr7yC/fv3B5ScvOMd74DL5cLFixdx1VVXJWQdhLKQACSSkkiTQJRKAQOXIn9msxnNzc3Iy8uTdQyhGIgGS8P6/X60tLQERMRisZMRRgX7+/t5ITYyMoLJyUkcOnQIhYWFoo4ltQYw0mSP9PR0pKeno7q6Gh6PB2azme/q5jiOF4Mf/OAHAQBnzpwRdU7DQ8cBAFUA+JU6lmH4yTv4xzjunBd9DXJgUctbb70VbrcbY2NjOHDgAPR6fUBDCfDmPZFaOxiubi/REUAlBFJwdJClPWdmZvDDH/4QFy9ehNVqxXve8x4FVi2eeDWBRDqf2IijWq3G0aNHYTQa8aEPfQhf/vKX8fzzz6O/vz+hafKFhQUUFRUFfC03Nxd6vR4LCwsJWwehLCQAiW0Fi9rFitPpxNTUFDweD97ylreETU2KgW3s0da1urqKtrY2GI3GkGlYMccIhzAqODg4yJs7r62t4cSJEyH9C8MhpQaQpUFnZmbwyCOP4MyZM2E9C3U6HYqLi1FcXAyO47C6uorl5WVMTEzAbrfj2muvhdPpjOp55vP5MHzgTtT1PAg15wN7FPubU2vhfuc/i75eubCo5fLyMt773vfiyJEjAU01wTYzoUyoowmPcHV7SvsARiIe51Kr1cjOzkZ2djZqa2tRWFiIH/zgB3j7298Ot9uNnp4e5Ofn8/WDl5PvoBzByWoA09PTcfr0aZw+fTrqc+6++24+tRuOCxcu4OjRo6LWEK8xgcTWQQKQ2FYoUQNosVjQ0dGBjIwM6HS6mMSfcF2RRNPs7Cz6+voippnZMZR4U+3t7YXBYEBLS4vkzVNsDaDQVPmRRx7BE088AZVKJS6Fq1Lx6cH6+no4nU4sLy/DZDJhbGwMer0e+fn5KCgoQG5uLi+WXS4XOjo6oM5/C4r/8gpk/uzdm47t/OBj4IoPSrpmOfz1X/81FhYWcOWVV+L48eObfo4ijahTopEkWQWgnKknVVVVuPfeewEAL774Iurq6uB0OvnyDDG1g3LZCgEotebQ4XBIbgK54447cNNNN0V8THV1tahjFRcX47XXXgv4mtVqhcfj2RQZJLYPJACJpCTcG3wsXcAcx2FychLDw8PYs2cPUlJSMDw8HMsyecIJU+GM3cOHD/MmsaGQOsUjFBaLBS6XC4WFhWhqapI94SBaBDB4ssfZs2ehUqlEp3CDSU1NRXl5OcrLy/mJCiaTCf39/XC73TAajcjKysLs7Cxyc3Mvdfou9VxaC1RQgeP/TgRutxtzc3P40Ic+hKamprAm4Qxh7aAwZS7XZiYRKWAm5N7+9rdL+pAU69QTjuOQlZWF0tJS1NbWwu128zOLhZYpTBAq4TuY6CYQqeeTYwMjNKWOlZaWFtx7772Yn5/nRf2TTz6JlJQUHDlyRJFzEImHBCCxrZAbAfT5fOjp6YHFYsHRo0eRm5sLs9msiN0JEHoeMPOlY7YyaWlpUY8ByI9ITE9PY2BgACkpKSgvL5cd1YgmREONdSspKREV+RODcKICm7c6OTmJsbExAJfGYo2NjaEwVY+UtAJwWaXwHfwraLp+BtX6HJAufdNTz3dA9/zX4Hnb38Ff0hTxsQ6HA21tbcjKypJlORNcCyjHhFrsh4RYZhAzIbeysoK//uu/Fv28WKeeBNvA6PV6vnaQ4zi+s1ip6GCiawDlCE6bzSapjEMqU1NTsFgsmJqags/n4/006+vrkZGRgeuuuw6NjY340Ic+hAceeAAWiwWf//zncdttt1EH8DaGBCCRtIRqRpAjAB0OB9rb26HVatHa2sqbrCptKi0Uk2yMXFZWlmhbGTFTPELh9/sxMDCA+fl5HDlyBAMDAzEJW+EoN+FmGqnZI16oVCqsrKxgYWEB+/btQ0FBAZaXl7G8vIyL08vQND4IY0Ex8gsKkNd4E3RqDtCmRD9wEJre/4Fm6iX4+/4nogBkdjqlpaXYtWuXItcvx4Sa/T8asUTjmIC7+uqrJV1nrFNPIjWdqFSqgNpBFh20WCzo7OwEID06mOwpYPYhKNoHyFi466678Mgjj/D/P3z4MADg2WefxZVXXgmNRoPHHnsMn/jEJ3Dq1KkAI2hi+0ICkNhWSE0Bm0wmdHV1oaSkBA0NDQFv9Ep7CrJjLSwsoLu7G7W1taitrRW9eQrtZMTidrvR2dkJl8vFRxljHU0XKhIZ7HmXiMkeHMdheHgYc3NzaG5uRm5uLgAEdJKyRpLx8XH09PQgJyeHjx5GaiQB3rSSAVTQDvwOAKDt/x28+/4CoaxklpaW0NPTg/r6elRWVsblmsWaUHu9Xv5rkcRLLNE4JuTGxsbgcrkkP18O7EOGWEEmJjoonEoSKpLKcdyW+ABKweFwxDUCeP78+bAegIzKyko8+uijcVsDkXhIABLbCibaoqXAhHOEGxsbUVZWFvZYSq5raGgIU1NTkmxXGCzCI1a82Ww2tLW1ISMjAydPnuSjjLEKwOBpIkLjY3b8eMNS9uvr6zh27FjI+ifheK1du3ZhY2ODjw6Ojo4iJSUloJEkeN3MSgaIbiUzPT2N4eFh7N+/X/LrGguhooMrKytYXFxEZWUl/2EonM2MEjOIE2nMLPyAIZVQ0UHmO9jV1QVgc3RQaNOTKBJVA0gQ0SABSCQt4VLAQOQ6Gq/Xi+7ubt4CJVyNCivIVyoFND4+Dr/fj5MnT8oe2yRWvC0tLaGrqwtVVVWbJgPEMsmDPR8ITPkK6/3iDd/pq1ZLmulrMBhQUVGBiooK+Hw+WCwWmEwm9Pb2wuv1wmg08tHB1NRUuN71Xeif+DRUfm9YK5ngKCSb06wkYqegqNVqmM1mdHZ2ora2FhUVFQGpYjk2M2JItOUMoIwg0+v1AbZDoaKD7PVM9Og5OQIwnhFAYmdCApDYVrAol9frDfkmarPZ0N7ejtTU1KgWKOz5sRaB22w2rK2t8eeM1hEaiVACUDjmraSkBOPj4xgdHcX+/ftDCoZwIlJ4nHBefUBgBDDR4o+9frm5uWhsbJT9umg0GhQUFKCgoAAcx8Fms2F5eRlzc3MYGBhARkYGCgqaUPznP0fBr2/Y9HznBx+Dt2Afev/vg0S4KKQSiJ2CsrCwgN7eXuzdu5d//YQfiKLZzLB/SyWRs3njFZELFx1cWloCALz88ssBM4tZnXA88Pl8kt4j3G43vF5vXGcBEzsTEoDEtiKS6fLi4iK6u7tRUVGB3bt3R920hAJQrmhjkbjU1FSUlpbGJP6A0OKNjXnjOA7vfe97YbFYcPz48QDT4WjHEB4HwKZRcsGoVCp4PB5oNJqEib/l5WV0d3ejsrJSUu1kNFQqFTIzM5GZmYmamhq43W4+VTwwNYACbLaS8Xq9aGtrA8dxkqKQcmDWOZEsdCYnJzE6OopDhw6FtPYIVzso12ZGyHZJAUuBRQezsrJgNptx6NAhmM1mzM7Oor+/HxkZGQGdxUpev9QPnDabDQBIABKKQwKQSFpCbQIqlWpT7R5L001OTuLAgQMoLi4WffxQ9i1i4DgOo6OjGB8fx4EDB2AymRSxlAm1nrNnz8Lr9aKpqQl2ux0tLS1ISUkJG9EL5+MnHBcX6br8fj9SU1Pxhz/8AS+88AI+/OEPo7GxUVQns1ymp6cxNDSExsZGyXYlUtHr9SgtLUVpaSm4KiN849+GKyUPk3lXonj+SaR5rHijbwIaYyWam5slp+vEpnQZkSx02Di/2dnZTZNGIhFcOyjVZiZ4DYmMACaiwUh4Po1GE7Z2sLu7GxzH8TOL8/LyYo4OSq0BtNlsUKlUce0CJnYmJACJbYewE9jtdqOrqwsOhwMtLS2SPyXLaQQR1hiePHkSmZmZsFgsigjAUBNF0tPT8ba3vQ15eXkBvnPhInrhIoDCcXGhEDZ7tLS04O6778ZLL70Et9uNG264Abm5uSgoKEB+fr5im1G4Tt9Eocouh+vjbwAaPapUKiwtfhyvdHdAk5IG18oKXn31Vb5uMFQjSSjEpnSj4ff70dfXB6vVKioFHU54yrGZEV5nvCOAQq9CpaNt0QhV/xtcO8hmFgvLB2KJDkoVgKwBJJH3hdgZkAAkth1MtK2traG9vR2ZmZmya++kCkBmApySkhJQYyg3khhMsHibm5tDb29vyBFy4SJ6cppAgps91Go1PvGJT8BgMODMmTPIzs7mR7UNDQ0hLS2NF4M5OTmyIjY+nw/d3d2w2+04fvz4JlEpxZw5Jv7PN3B5eRk9vb2ord+DqqoqvpFkeXkZPT098Pl8yMvL4wVhuEiQmJRuNHw+H2/vc/z4cVFRJzHCM1SqOFp0MN4RQKFX4R133JFUc3lVKhWysrKQlZXFlw/EGh2U2gTCPABp5i6hNCQAiaQl3BueRqOByWTCzMyMZK+9UMcSK9yWl5fR2dmJ0tJS7NmzZ5OnoNwRdUKYAGSRsampKTQ1NaGgoGDTY8NF9JaXl/Gb3/wGd955Z8RmD4Yw8ies9wtOTVZWVvLWI2azGSaTiTffZaIoLy9PlBB3uVy8Offx48dDPkesOXMkeubW8M2nRvH5t9dhf2n4iQUzMzMYHBzEvn37+BICrVaLwsJCFBYW8pGg5eVlzMzMoK+vD1lZWbzNTGZmZtj7JhW324329nZoNBocPXpU9AcbOcIz3Lxi1gHu9Xrh8Xh4cahUZ7EQoVdhIhtOAOkm0EpEB+VGAAlCaUgAEtsKv98Pl8uFmZmZsMJICmIEIMdxmJiYwMjISFhPQSUjgB6PB21tbbDb7bIsZX7729/i+eefR35+ftRmD2H0R2yzh1arRVFREYqKisBxHFZXV2EymTA2Noaenh7k5ubywihUqnh9fR0dHR0hO32lmjNH43ddC3h9YgW/71oMKQBZLef09HTYFDSLRGre9nfIqm1CbW0tXC4XL4InJyf58XUFBQUwGo2y6yU3NjZ4b8f9+/dLEgqxCs9Q0cHJyUmsrKzw1jrCx0arHRSL0KtwZWUl6ceyMcREB3Nzc3lByKKDcppAopmaE4QcSAAS2wbmD+f1elFTUxOz+AOiC0BmSGy1WiN23oaq3ZMDM7DOyMiQndb+wAc+AJ/PJ6rZQ2i7Idd8NycnBzk5ObwZs8lkgslkwquvvornnnsON998M/bt24fs7GxYLBZ0d3ejqqoKNTU1m84pxZw5HLMrTqw4PFCpgCd6Ltl8PN67iD8/VAyOA3LSdCjLSd1UYxdOaIeKRKakpPCNJH6/HysrKzCZTBgeHsbGxkaA56DYekk2PrCoqAh79uzZ0g2f4ziMj49jamoKzc3NyMrKCigTmJ2dxX/8x3/gQx/6EMrKykKaUMthK8ayKXU+sdFBj8cj6bWlCCARL0gAEkmL8E1yZWUF7e3tMBqN0Ol0io1uihS529jY4FNxrPNWznHEYjabYbVakZOTgyNHjsjemIqKivCRj3wkbPo3npM9DAYDnyp+4okn+HpJr9fLn7OsrAwVFRUhN0Ex5szRuPY7r2z6msXuwQd++Ab//84vvQVdXV3weDwha+ykRCLVajVfB7Znzx7Y7fZN9ZJMDObk5IS832yWbThhHIzUTmMpcByHwcFBLC4ubhLG7Pfuv/7rv/Dkk09CpVLhzjvvVMyEOtlTwGIJjg56PB5+ZjGr7xROJYn03kICkIgXJACJpGd6ehoDAwPYtWsXqqqq+MkOShAuAmixWNDR0YGioiLs3bs36iYRawRwamoKg4ODfF1ZLJtSpGkiwshfvP39PvzhD0OtVuPWW2/F2toa5ubmUFRUhJWVFTz//PPIycnhG0nYBufbdwOcebsCIn4M5wcfA1d8MOp5/+l9e/Hl3w3A59/cCKNRq3DPO+vwxhtvICUlBUePHg2Zro0lEpmeno709HRUVVXx9ZLM49Dv9wc0kuj1eiwuLuKFF17AxYsX8alPfUrUa6JUp3EwLCq6srKC48ePw2AwhHzc2bNnoVKpcObMGej1esVMqBPpOQgkLuKo0+lQXFyMoqIiLCwsYN++fVhfX8fc3BwGBweRnp7OC8Ls7OyANdnt9rh6AN5777147LHH0NHRAb1ej5WVlYDvd3Z24v7778ef/vQnLC8vo7q6Gh/72MfwqU99Km5rIhIDCUAiaWHp16WlJTQ3NyMvLw9AfGb4MjiOw9TUFIaGhtDQ0ICKCnH1ZnLX5Pf70d/fj8XFRRw9ehSzs7Mxp5LDdQEneqxbSUkJ7rzzTvT09PD1jCwdylLFy8vLGB4ehsFg4MWg8f/WHmzOLJY/O1CMuvz0gIgf49xNDdiYG0J2fj4aGhrCbv5KRCKBzfWSa2trWF5extTUFPr6+pCamgqn04kLFy7g5ZdfRlZWlihBp0SnsZD5+Xn8+Mc/xokTJ5CRkYFjx45FjEqFqjdUwoQ60SngWGoA5Z4PALKzs5Gfn89HB1ntYE9PD/x+P4xGI7Kzs+H3++MuAN1uN2688Ua0tLTgxz/+8abvX7x4EQUFBfjpT3+KiooKvPzyy7j99tuh0Whwxx13xG1dRPwhAUgkLWtra7DZbGhtbUVqair/dY1GA7fbrcg5hJE7Fv1YWlrC0aNHJXnSiZ3hK8TtdqOjowMejwctLS0wGAyYn59XRAAGH0NOs0esOJ1OdHR0hOz0FaaKg6NkeqcJb9Xnwp9ZAq7pg9D3/hyq9TkgffMEjGiocCmCx/7u6+/HW/dFT7MqEYnctJagcWSDg4OYnZ1FdnY2jh07htXVVZw6dQomkwkulws/+clPwqZ4hQIsUjpYbKr4Rz/6EX79619jfn4e//zP/xzzOEO5JtSXSwo4HOz6hefU6XQBHxJY7eBLL72Ej3/84ygrK0NeXh6ef/55tLa2xjxtKJh77rkHwCU7nlAE1xLX1tbilVdewa9//WsSgNscEoBE0mI0GnHixIlNG4LSEUCv18uLFY7jNglOsceRsiZW8J+VlYXm5mY+DSlHSAYjPAaz8xBuPInYYNfX19He3o68vLyoKfRQXcWD1Y1YMq/AbnUgZ+8/osCYjXx1NsRWQhnTdchP16M4OwU3HC7Bf782iblVJ5oa6lBbWyXpWuRGIsPh9/sxMDCAwcFBdHZ24qMf/SiOHDmCq6++GiaTCYODgzh//jza2tqwurqKu+++m/9w8PDDD+P06dN4/PHHeVEXKR0sJlXsdrtx+PBhLC0t4Qtf+IKiAkOqCbWSTRli2IrzAeHT4cG1g9dccw0+//nPY3BwEH/xF38Bp9OJP/uzP8N//Md/bGmT0OrqKoxG45adn1AGEoBEUhPqTU6r1SoqAG02G1555ZVNkzakIKUJZGlpCZ2dnaipqUFdXV3ANarV6pijm0IvQWGzR6JGbJlMJnR3d6OmpmaTeXU0hF3FdbiUKmYNFcPjr8BgMPB2K+EaKgCgOCsVT32qBVo1MDExgYIGF/buP4CSQgmd4+n58KcXgMsshe/gX0HT9TPZkUgGM792OBzo7u7GU089Bb1ejy9/+ct8QwDHcSgpKcFDDz2Eq666Ci+99BLS0tLwq1/9Ci+99BJeeOEFfj7sl7/85YjpYPa106dP47777tsUCWS2M5WVlfiXf/mXuIqhcPOKmSj0+Xz8z77X61XMZiYSW5VyFvs7UVhYCIPBgA984AO4++670d7ejoGBgS0Vf6+88gp+8Ytf8FOIiO0LCUBi26FkBNBms8FkMmHPnkvTH2IxlI4WuWMWL2NjY2FnFithJ7O0tISHH34YZWVlKCwsTFjUD7jUzML8EsXOZI6EwWBARUUFKioq4PV6YbFYeIHJGipY7WBw5EqrBgYGBrC8vIxjx44iMzNT0rm5zFI4P3oB0OgBlQreQx8CfG5+cohUPB4POjo6AADHjh1DTU0NtFrtJuGmUqlQV1eHb3zjG/zzzGYz3v3ud2N9fR3Hjh1DT08PTp8+DY/HE9H/j33vvvvu2xQJtNvtfH1XQ0NDwkVFcHTQZDJhamoKe/bskVw7KJdE1wBKNYEGAkfBHTlyBEeOHIn6nLvvvptP7YbjwoULOHr0qKS19Pb24r3vfS/uuusuXHvttZKeSyQfJACJpCXchiScBSwXloYzm83IyclBdXV1TMeLFgEU+gmeOHECWVmhp1LEkgKem5vDuXPnsLi4iJdeegn//u//jrvvvlvUxh6rrQizDllYWEBzczNycnJkXEFkgidzrK2t8UbMvb29yM7ORkFBAQoKCqDX69Hd3c2PUguV0hc1ak4o9lQqWeJvfn4eP/zhD9HU1ITKykocOHAAGo1GtHEz6yAtLi7GlVdeidXVVVx11VVYXl7G888/zzcUFBQU8IbBwa9ncJRwdXUV7e3tKC8vR11dHRYWFuJmKyMGk8mE3t5e7N+/H0VFRSGjg8CbUWylooN+v58f55gI5KScHQ6HZBuYO+64AzfddFPEx0h9z+vr68PVV1+N2267LarBPLE9IAFIJDUqlWpTR2usEUA2asvr9aK2thZWqzXWZfKRu1BzU51OJ9ra2qBWq0X5CcoVgOfOncNjjz2GkydP4i1veQsaGxvxyiuv8KIoOzs7rBiMxVbE6/Wiu7sbGxsbIWf6xgNhQ0V9fT08k69D++w9GK7+EF4ZudQtrtfr0dDQEHaDV2LUHBBdPD/00EP4zW9+A6vVigcffDAm4SJMkdfX18PpdPIp8rGxMej1euTn5+OnP/0pnnvuOQCXXk+h2GSeg7W1taiqulQPGS9bGTEwo+QDBw7w5u7hRtQJG0rY42Ixod6KJhA5EUCpXcDMZkgpent7cfXVV+OWW27Bvffeq9hxia2FBCCx7Yhl7u7a2hra2tp4s+WlpSUsLy/HvCbhZiV8g2cG1vn5+di3b1/UzUaOAGSRv3e+853w+/249dZbUVpaCp/Px48r6+jogEql4iNFeXl5AeuUayvCmmd0Oh2OHTumeIeiWNKGfw/d0kXsLtqHhfR3IS0tDQaDAf39/YGpYt0G9N51KDVqDogsnlZWVrB//37YbDZ89rOf5V9/pYycU1NTUV5ejvLycvh8Plit1v9LeR/jjZxnZmaQn5+P1NRULC0toaenB3v27EFZWVlAYwmgnK1MNNh5r7vuOqytraGpqSlsU0G42kFhUwkgL1W8FU0giRCAUpiamoLFYsHU1BR8Ph9fplBfX4+MjAz09vbiqquuwnXXXYfPfvazWFhYAHDp9VBiGhOxdZAAJLYdcptA5ubm0Nvbi7q6Ot4GRKl6QuHmxP7NzscMrMWkYuVMFGGRP7/fjy996Ut8RETYXev3+/mZvUNDQ3C5XDAajXz9nJw5slI6feNBqGkdmv7fou6tV6C8LBtIy4K/sZH33pucnETdC+/jny931Fww4cQzE1snTpzABz7wgYDvxSPixuYR5+fnY8+ePXj7298Ok8mE+fl5DAwMICUlBU6nE/X19VCpVLjvvvuwvr6OF198UdF1iOHhhx/Gb3/7W4yPj+OBBx6QVDIQKToodV5xsvsOchwnKwUshbvuuguPPPII///Dhw8DAJ599llceeWV+OUvfwmTyYT//M//xH/+53/yj6uqqsLExETc1kXEHxKARFKjRAqY4zgMDQ1henoaTU1NAZ9alRKAbBPx+XzQarX8+Q4fPiwpFSO1CYTjONxyyy3w+Xw4c+ZM2M1MrVYjNzcXubm52LVrFxwOR4A4yMzM5FPFGRkZUcVqLJ2+wciNhoWa1qH3rmHXsx/hv+64c55PFdfV1cGW+m2k/+/noeJ8MRk8Cwklni9evIh/+7d/wyc/+cmQZuJKGzkHo1KpkJGRgYyMDNTU1PDNR7m5uZicnMTPfvYzXLx4EadOncI73vEO2euQ89pxHIerrroKExMT+PznPx9TvWi06GC0RpLt0ARis9kkNzBJ4fz582E9AIFLDSV333133M5PbB0kAIltBxNJYj69s85Lp9OJlpaWTZ+klRSAKpUKbrcbvb29cDgcIc8n5jhiBSCLfBQVFeErX/mKaBGmUqn4cWXV1dVwu918HdnExAR0Oh0vBnNzczfdY9bpu2/fPvj9fnz961+PKZUpNxomZ1qHuukmOIsbQxo8/6nhHuh8u5A/N8ePaZPC/Pw8zp07h2uuuQY//vGP0dPTg0cffRQHD242jZYTcZUDx3EYHR3FzMwMjh07xk+XKC4uxg9/+ENceeWVMBgMmJ2dhcvlgtfrxc9//nOcPXs27OspFH1SXzuO4zA8PAy3241vfetbUVObUgWmVBPqragBlHq+eKeAiZ0LCUBi28FMk6O9mbIUZUZGBlpaWkLOfFXSUkatVqO9vR3p6ek4efKkrHo4sQKQbWqzs7N45JFHIm7Y0dDr9SgtLeXrBq1WK9+V6fP5+Po5o9GI8fFxLC4u8p2+oexFpCI3GuZtfD/G1nXY+8JHN31PzLSOYIPnvXv3Yh7p/Ji2UN21kTh37hx+85vfYHJyEnfeeSd++ctfxr2mLpJA4jgOAwMDMJlMOHr0KC8i1Go1Ghoa8OCDDwJ402txYGAAf/d3fwe73Q6z2Ywvf/nLyM3N3RSxEoo+Ka8dWw+rURTTLBRLqjyaCbXH44HH4+E/SMXDZiYYqRFAjuNIABJxgwQgse1gb6A+ny+syFpcXERXVxeqq6v5mqdQyKm5C4XZbIbP50NOTg4OHjwoOyUaTQAGT/Z45JFH8MQTT0ClUikSURLWkTU0NGB9fZ2PDPb09ECtVqOqqoqPjimRypQTDWOGypq1NQASp3WEMXhOL6xCXWYp6urqNnXXpqSk8GIwVFTU5/PhxIkTmJ6exp133ona2tqERPjCCSS/34/e3l6sra3h2LFjMBgMYY/BvBb/4z/+AxzHoaioCH/+53+Ovr4+eL1e+Hw+PP300/joRz+KmpqagNdc7GvHxiyurKzg6NGjEdcjRKlUeXCq2Ofzob+/HxzHITMzU3LtoFykppydTif8fj8JQCIukAAkkppQQop9Ug/VCcxxHEZGRjAxMRHWbFmIVqsNa98iBo7jMDU1haGhIeh0OlRUVMRUDxdJAAojGMCl+3D27FmoVKq4RJrYWCq9Xo+lpSVkZ2ejsLAQFosFExMTSEtLQ0FBAT7xiU8gOztb8fOHg81QVqlU2H/0CviHpU3rEGPwHNxdywyoe3t74fV6AwyoVSoVOjs7kZmZie985zsJ9ZULJZB8Ph+6urrgcrlw9OjRiLZD4Y5VUlICjuNgs9nw1a9+FU899RSWl5fxkY98BH6/H06nc1Ntbjj8fj96enpgs9lw7Ngx0esB4pMqZ5HI1dVVHDt2DHq9Pm42M8GwGmGx2O12ACABSMQFFSf2t5ggtgAWgQjmmWeewZEjRwKEh9frRVdXF2w2Gw4fPiyqcNrtduOZZ57B29/+dklvzMCbUY2lpSUcPnwYPT09aGhoiMkaYX19Ha+//jquueaagK8LN6hEpKoYa2traG9v56dFsPN6vV7eYobZ6LC6wWCLGSWx2+1ob29HVlbWm2P7vC5ezIHjYprWEY25uTk89NBDuP7666FWq7G2tga1Wo3U1FTs378fWVlZWzqmSzhtpKmpSRFbHpZmvvnmm6HX63H//ffjueeew4kTJ/CpT30KPp8Pv//97/HhD394UxpaKEabm5sjimOlrHEiwXEcent7sbq6iiNHjoQ0CA9uJBGOUox1IklfXx8MBgNqampEPX58fByHDx+G2+1OaLMKsTOgCCCxLQmu3bPb7Whra0NqaipaWlpEb3zCekIpApCZSft8PrS0tMBgMCgyxi1USloo/pQY6xa80YbbeJmNCTMMFp43nMXM8PAwuru7AyxmQm2yclhZWUFHRwdKS0uxa9euN9ejwLQOsZw/fx5PP/00UlJS8KlPfQoXL15EamoqdDod3njjDej1+ogNNPHE5XLxvwMHDx5UTDAER+G++MUvorCwEO973/ug1Wrx3e9+Fy+99BIWFhbwt3/7t8jPz0d6ejq8Xi86Ozv53633vOc9uP/++9HU1MQfK5aGEqmwtPj6+nrEyKhUmxn2bzFIrQFkFjBb+aGCuHwhAUgkNeHe+IRm0CaTCZ2dnaioqMDu3bslvVmyx0qpAxSaSbOxXoAy9YQsBcxS0kqLP+BS3djvfvc7vPDCC3j44Yc3bbwsrT06Oop9+/ahqKgo6pqZxczu3btht9tjspgJBROju3btCmmrkihYmvSGG27AhQsXUFZWxteYslTx8vJyyFRxtNRwLBGwjY0NXLx4EdnZ2aIMx2OhpKQEX/nKV/j/33XXXfjWt74Fh8OBwcFBDA8PIzU1FT6fj2/EeuaZZ9Dd3Y0vfvGL+MMf/sA/V25DiVRYGtput+Po0aOi0/Sx2swEI1UA2mw2EoBE3CABSGxLmAAcGxvjhUppaank40g1g2bNJbW1taitrQ14Y1YqAgiAT/UK7W6U2gTOnDmDF154AUtLSzhz5gzuv/9+/ut+vx+Dg4NYWlralGIXSywWM6FgtjP79+9HYWGh5PXESrAwu/3229HV1YX6+npUVlbyj2OTEVi6fH19HcvLy5ienkZfXx+ysrJ4MRhKCMuNgNlsNrS1taGwsBB79uxJuFgoKSlBbm4uXnnlFZSVleEzn/kM3njjDahUKvz+97/Hq6++iv379wMAvvrVrwY8V05DiVT8fj+6u7vhcDhw5MiRmGo0pdrMBP98S20CsdvtcTWBJnY2JACJbYlGo8Hk5CRcLheOHz8eUxOCGOHG/NTGx8dx8ODBkFExpSKAwKUaO2F6SelN/fDhw3jttddgtVrx+OOP48tf/jK8Xi/vmXj8+HHRnZqRiGQx4/V6+c7a/Pz8TWl75hk3NzcnW4wqgVCY3Xrrrejv78e+ffsiNhixBpqsrCzU1tbC5XJtmtnLrttoNEKtVsuKgK2urqK9vR0VFRWbPpAkErbmv/qrv0J7ezuys7Oxf/9+1NfX46GHHsI73/lOvmbytdde41/34uLiuHZL+/1+dHV1wel04ujRo4qOKgwWgwCiRgelRgCZAKQIIBEPSAASSU2oNz6Hw4G1tTXodDq0tLRI6ioMRbQIILMcWVlZwcmTJ8M2lygZAVxZWQnpwaYEDz/8MF588UW89a1vRWZmJs6cOQOn04n29nakpKSEnekba5F+OIuZyclJ9Pb2Iicnh4+gpaSk8DYmx48fF+UZJ5do13XmzBmsra1hdnYWL730Eq6++mrk5eVJOkdKSgrKyspQVlYWIIT7+/vh8XiQl5eH/Px8fO5znxP982w2m9HZ2bkpEikWJZsuSkpK8JnPfAYXL15ETk4OGhsboVarUVpainvuuYd/nDAiPDU1BbVazYtBo9EouRErEqwBxe1248iRI3GdUx1cCxguOuj1evlufjHRb4oAEvGEBCCxrTCbzejo6EBKSgpKSkpiFn9AZAG4sbGB9vZ2aDQatLa2RkwfxRoBZBtDSUnJJY87QUqRRYmUIDjtxqIywZ2+wShZpC+MkDHfPZPJxDeSqFQq6HQ67N27V5FIZCSiXVdxcTHcbjf+9Kc/IT8/HzfeeGNM5xMKYWa1YjKZMDs7i/7+fmRlZfGiKFzN5OLiInp6erB3715ZpQ+Asq+nw+HAxYsXeXEfLmIljAj7/X6srKzwr/nGxgZyc3P5yGgsot/n86GzsxNerxfNzc1xFX+hCNVIMjY2Bq/Xi7S0NNG1g6wGkCDiAQlAYlvAcRwmJycxPDyMvXv3YnV1NeZoGyOcALRarWhvb0dhYSEf0ZBzHDEIzZ337dsHjuP4KBEz5I2ULpWCsNYqUqdvMEw4nj59Gvfdd1/ULmIppKamoqKiAvn5+Whra4NWq0VaWhp6e3sBIEAIi40SiV1XpNQr6xx929vehuzsbNx+++2yzhEOlUqFzMxMZGZmBqSKl5eX+ZpJoQG1RqPB7OwsBgYGcODAgZhqIpVqurDZbLh48SJKSkoCu7OjoFarYTQaYTQasWfPHtjtdj46ODQ0hLS0NF4o5+TkSOq07ejogN/vR3Nzs6JRRTmo1WqMj49jdnYWR44cQXp6Onw+H/+BL1LtIE0BIeIJCUAiqWF1M729vTCbzTh27BhycnJgs9lCGkHLIZRwm5mZQX9/P3bv3o3KykpRm5qUOb4M5jMW3OyhUqmQl5eHvLw87NmzJ2AiR29vLx8pKSgokBUhY4J6bGxMdHMFE45f+tKX8Itf/ALr6+v4+te/LimSFEkwMc/BoqIivpkh2GLG6XSKtpgRu65wzQfMxsTj8eD666/He9/7XtnnEEuoVPHy8jL6+/vhdrthMBiwsbGhSEOMEk0XrCNeiRpE1jxUVVXF+0wuLy+ju7sbfr+fT5NH6qj2+Xxob28Hx3E4fPjwlos/AJiYmMDk5CSOHDnCl4+Es5kJNqFeX1+nCCARN7b+t4MgIuB0OvH6668DAFpaWvgNX6vVYmNjQ5FzCAUg64Kdm5tDc3OzpFovjUYDt9st+vHBkz3CNXsEp0s3NjZgMpmwtLSEoaEhZGRkoKCgAIWFhaJsVvx+Pz8jVmpzxfz8PF577bUAwSwlkhROMJlMJnR3d6Ouri5AcKvVajidTvzP//wPzpw5g6ysrACLmUjXLmZd4QSpy+VCe3s7dDodjh49GlZIxNO6RJgq3r17N/r7+7GwsIC0tDR0d3djYmIiZnsdqQjvl8FgQHt7O2pqalBdXa3oeYQ+kxzHYW1tDcvLy/yc5lBpcq/Xi/b2dqhUKjQ3NyeFcfLk5CTGx8cDxJ+QSDYzfr8fTzzxRFKIWOLyhH6yiKRGrVYjLy8P9fX1ASmgWNKtwbBjeTwedHZ2YmNjAy0tLZJrkKQ0gbBP/WzKgJT6PoPBgMrKSlRWVsLj8WB5eRlLS0uYnJzkbVYKCwtDps3YtBTWPS01evjwww/DbrejoaEBn/zkJwFIiySFEkwzMzMYHBwM21kbLBpDWcwIr52lS8WsK5QgdTgcaGtrE+WpFy/rEiFsdJnZbEZ1dTV+/vOf4+abb4ZOp+OjwlqtNqCrOF7ih92vjY0NXHXVVQnxZVSpVMjOzkZ2djbq6uo2pcm1Wi3y8vKwsrKClJQUHD58OCnE39TUFMbGxnDkyBFkZWWJeg5L//r9fnzhC1/A8vIyfvrTn8Z5pcROhUbBEUmPy+Xa9LWpqSk+ghUrrOHCbDYjLS0Nhw4dkvWpe3x8HCsrKzh8+HDExwlrf5S0eGEpw6WlJZhMJvj9fuTn56OwsBB5eXn8mLCUlBQcPHhQ1jUq2TnKrHWmp6fR1NSE3Nxc2ef0+/38vF6TySTahDn42CwNXVxcLNlUPB4wA+P19XU0Nzfj29/+Nh5//HGcPn2aF55+v5+vFzWZTHC73Xy6lHVUK8X8/Dy++93voqmpCadOnZLdgKIUfr8fJpMJAwMDfEmIsJEk3g1E4WBG6s3NzZLti/x+P/7+7/8ev/jFL/Dcc89h165dcVolsdMhAUgkPaEE4NzcHKanp3HixImYj3/x4kWYzWZUVVXFtOmLEaXxmOwR7jxra2u8GHQ4HADA+7PFsjEqIQLZHGWr1Yrm5mZF65w4juNrJk0mE2w2G7Kzs/noIDtX8HWYzWZ0dXWhpqYmakNMImCdrG63m5+jG+3ecxzHT2IxmUxYW1tDZmYmLwYzMzNjui7Wfbx///6oE2ISgcfjQVtbG/R6PQ4cOACXy8XPp15ZWUFaWhovBrOzsxMymm96ehojIyOyxB/HcfjHf/xHnD9/Hs8++yz27t0bp1USBKWAiW0AG4kmRIkUMGuEWF5e5jsRYyGaDYywyDue4g8ITJtlZWWhp6cHRqMRXq8XL730EjIzM1FYWMgLIilrkdv4wMTLddddh/Pnz+P666/Htddeq2iECgismUxLS8MPf/hDnD59GhaLBSMjI7wo+MlPfoJnn30WAHD27Fn09vbGZKuiJB6PB+3t7VCr1QE1iNFSziqVChkZGcjIyEBNTc2mNLlWqw3w3ZOSKp2bm8PAwAAOHjyIgoKCmK8xVtxud8DsY7VaDa1Wy5cIeDwePirc2dkJjuP4msq8vLyYJoKEY2ZmBsPDw7LF3z/90z/hxz/+MZ555hkSf0TcIQFIbEuEs4DlwOw9lpeXUVZWtklgyl1TKAHIOn3Z9+It/oTnZZ2+QssQt9vNR4jGxsaQkpISUDcYbW1SGx+Y8FtfX8fzzz+PRx99FE6nE8XFxXj3u98d20VG4eGHH8aTTz4JrVbLTzsxm80wmUxoamrC4uIiDh06hN7e3rhEteRES10uV4CwiaWeLdh3j6WKBwYG4Ha7RXdUT09PY3h4GE1NTTAajbLXoxRutxsXL15EWloaDhw4EDKyp9PpAhpJVldXsby8zBuPZ2dn84JQiSaa2dlZDA0N4fDhw8jJyZH0XI7j8O1vfxvf+9738PTTT+PAgQMxrYUgxEApYCLpcbvdmwTaysoK2tvbcdVVV0k+HuvwZD5h8/PzWF1dRVNTU0zrXFpawvDwME6dOsV/LZZmj1gQdvoePnw4bBG6z+fjBZHJZALwpudeXl6eIsX0zDbm2muvBcdxeMc73oH+/n6cPXs25jrCaEQSYOxDwNLSEvR6Pdxud4C9TiRBJJb77rtvU81eJFgDinCaRjwQpoqXl5exurrKd1QHp4onJiYwPj4uS9jEAyb+0tPTsX//fln3yOl08o0kZrMZer2eF4NymmhYdPTw4cNha1nDwXEcvvvd7+L+++/Hk08+iWPHjkl6PkHIhSKARNKjZAqY+Zbl5uZi//790Gg0iszwBTangEP5+yUCj8fDj8A6ceJERCGj0WhQWFiIwsJCcBwXMJmhu7sbRqORTxXHkjLz+/1YX1/H1772NVRXV+P973//pscoUVsYfIxwKVNWg8jG+6Wnp/OCaGFhAYODg2EFkRSkREuZobLQBzFehEsVswgZSxWziKmUTtZ44nK5cPHiRWRmZkbt0I5EamoqysvLUV5eHuC3KIyMslR5tA8CTPxFamQKB8dx+OEPf4ivf/3reOKJJ0j8EQmFBCCxLWEpYI7jRG+UCwsLvNdcTU0N/zylLGWENjCJavYIho2uS01NxbFjxyR1+qpUKuTm5iI3Nxe7du3iBREbURaqkUIMf/EXfwGTyYQ77rgDNTU1YR8XqbYwmjgUpplffPHFkMdgsBmxMzMzaG9vR319PW9CHM5ihtmsSB3LJ9YmhkW0KysrYzZUlkOoVPHw8DDW19ehUqkwOjoqKlUcT5xOJy5evMjb8yh1j4R+i8KJJOyDQHp6ekAjifC8zI/y0KFDklPjHMfhkUcewV133YVHH30ULS0tilwPQYiFBCCxLWHCxu/3R03XcByHkZERTExM4NChQ5smKCglAFkEMJHNHkJWV1fR0dGBoqIi7N69O6b0YXCEiHVXmkwmjI6OwmAw8IIoeFNkcBzHW+N84xvfiLpBCqNlwYIvWuMJ+/5b3/pWnD59OmzEze12o6OjA2q1Gh0dHQH1gUKCBVF/fz9+8IMf4G1vexuysrJEWcyIxWw2o7OzE/X19aisrIzpWEqgUqmwtLQEj8eD1tZWcByH5eXlTebb+fn5yMrKSsjPNxN/LDUer3MKf+5ZIwkrkejo6AAAXix6vV4MDQ3h0KFDkgzjgUu/G//5n/+JL3zhC/j973+PK664Ig5XQxCRIQFIJD2h3uyZ6PP5fBEFoNfrRXd3N9bW1nDy5MmQbvxKCkDhbM9Eir/FxUX09vaivr4eFRUVip83JSWFT5kJGylYp6owOsYioQMDA1heXsbRo0dD3vdghNEyVjsHXBJ80VKpwu+HSx9vbGygra0NGRkZ2L9/P8rKyqDRaKKmZ9VqNX73u9/hwoULyM/Pxyc/+UksLS3xUynkRkaBN21VGhsb414PKQZhavzo0aO8XRATRG63m3/tp6am+NeeddbGw4B5Y2MDFy9ehNFoxN69exMaHdXpdCguLkZxcTHfSCIcS5iRkYH19XWkpKSI7qbnOA6//OUv8dnPfha/+tWvZNUxE4QSUBMIkfR4vd5NAo3jOPzxj3/EFVdcEXZiB9vwdTodmpqawkZqzGYzent7Y/oUznEcNjY28NJLL/HRsaKioriP6OI4ji/SV2I+rFT8fj9fN8iiRkajERsbG+A4Ds3NzbJShkoaTgPA+vo62traUFhYiIaGBsmvSbj1OJ1OPjJqsVgCIqPROqpnZmYwNDSEAwcOJIWtit/vR3d3N+x2O44cORLVnkf42ptMJrhcLkm1c2LY2NjAG2+8gfz8fFmvWzxgor2hoQF+vx/Ly8uwWCxISUnho4O5ublhxfBvfvMb3H777fj5z38e9y54gogECUAi6QklAAHgqaeewokTJ0JGl6xWKz/RoaGhIWI6NJaOYiBwsoewq3Z5eRk6nY5vogg1mi0WWGrSbDajqalpy4v0OY6DxWJBT08PnwrPyckBx3F4/PHHcfvtt0sSc0qJQIvFgs7OTlRVVQXUfiqN1+sNmEYCgBdDeXl5AfWY4+PjmJiYkNU4EA9YXaTL5eJNp6XAcRwcDgd/7ayrmF2/nFSxw+HAxYsXUVBQEPemGLEsLS2hu7t7kxeiz+eDxWLhG2nYByEmCJkYfvTRR3HmzBn89Kc/xfve976tugyCAEApYGIbEy51Oz09jYGBAezZs0dUTVUsKeDgZg+NRsN3n7JNwWQyoaurC4ByFius09fj8eD48eNbVpgvxG63o6+vD3l5eWhsbOT9Br/xjW/g+eefx8LCAj73uc+JFgRyDaeFsGjNnj17UF5eLusYYtFqtQEd1SxdODo6yndUFxQUwGazYXFxMWk6a71eLzo7O+Hz+XDkyBHodDrJx1CpVAFNNGxGtclkQltbG9RqdYAYjvazb7fb+Y7oZBjJB7wp/kJFbDUaDf+7zXEcbDYbXzd5/vx5/PKXv8Thw4fx+9//HufPnyfxRyQFFAEkkh6fzxfS9PmFF15AY2Mj8vPzAVyKiA0ODmJubg5NTU2iC7MdDgdefPFFXHfddZI2GinNHkKLlaWlJbhcLn5Ob35+vqRNl3X6GgwGHDhwQNZMX6VhUbZQXazz8/P40Y9+hPe85z1QqVQwm80BG2a4rtpYI4DMvHgrUuPBsI7qyclJuN1upKeno6ioSLTFjNIpcQabOKLRaNDU1BSXGj5hqnh5eRlOpzPivF673Y433ngDpaWlqK+vTwrxxz7ECQ3VxbK0tITvfOc7+M1vfoOlpSWkp6fj9OnTuOGGG/Bnf/ZncVoxQUSHBCCR9IQTgC+//DLq6upQVFQEt9uNzs5OPoUVri4wFC6XC88++yyuu+46USna4MkeKpVK0ibFIgRMDNpsNuTm5vKp4kjRvJWVFXR0dKC4uDhp0mILCwvo6+vDnj17UFZWFvXxwokUS0tL8Hq9fHRIqhgOBcdxGB0dxfT0dNKYFwvr6w4cOMC//svLy6IsZqQaSouBjVJLSUmJeeKIFIQG1CsrK7zNSkFBAdRqNdra2lBWVoa6urqk+Plm4k/upJgXXngBN954I77zne/ggx/8IF599VU8+uijAIB/+qd/Unq5BCEaEoBE0hNOAL722muoqKhAVlYW39158OBByRExr9eLp556Ctdcc01U8SFM+TLhF+smtbGxwYuhlZWVsHN6hZ2+yWAXIhw1d/DgQT4SK/UY6+vr/PXb7XY+OlRYWCg5tT07O4tvfvObuOKKK3DttdciIyND8pqUhqVYvV4vDh8+HFBfJxTDJpMJHo8npMWM0hFAZqjMOqITNaEmGJYqZulin8+HjIwM1NbWbqqb3AqWl5fR1dWFxsZGFBcXS37+K6+8gve97334xje+gY9+9KNJIWgJgkECkEh6/H4/PB7Ppq+/8cYbMBgMmJ+fR2VlJXbt2iXrDZZ1FF955ZURBUew+IvHpskMiJeWlmA2m5GamoqCggL4fD7Mzc1tKj7fKjiOw8DAAJaWliKOmpNKsBhmnnOFhYVRO6p9Ph8+85nP4IUXXsD73/9+3HXXXYqsKRaEKdZDhw5FFDTCyLDJZML6+npMFjPhYLYq8R43J4X19XW88cYbKCwshE6ng8lkwsbGRsCs4uBUcbz5/9u797io6vx/4K/hfpH7ZQC5iiIKyj3TTcUuoqIMammX3bQ20y3btXJr3bXS0tJqN7fartuKppWtgHktvKGZ2MpV7nK/MzPcGWCYYeb8/vB3zpfhPsMMDPJ+Ph4+HjHMHD4zYvOaz+X9Zuszzpo1S6PQffPmTQgEArz11lvYunUrhT+idygAEr03UABkGAbXr1+HRCLB3LlzRz0rkpSUhN/85jeDvsmOR2cPhUIBsViM4uJidHV1cc3t1e1GoYtxZWdno7OzEyEhITp7Y2Znh9gwbGxszIXBvieq5XI5MjMz0dDQgNTUVDzzzDPjXldPKpUiPT0dFhYWmDNnjtpLrGy/WrbEDPthgC2+rcnff0dHB9LT0/WqrArbnpE9pc1iO3KIxWKVpeKBOnJoW1NTEzIzMzUOfxkZGVi5ciV27tyJl156SS9eZ0L6ogBI9F7fAKhQKJCbm4v6+nq4ubkhMDBw1D/j4sWLiIiIGHAma7zauvU+6Tt37lyV2TGFQqGyb26slspkMpnKjNZo9+uNVO8T1WKxGEqlkjtEY2lpiVu3bmkctHSBLWHCFi8ebVhXp8TMYNhew66urhrPlmtba2sr0tPT4ePjA29v70Hv17sjR0NDA3g8ntrPf6TY8Ofv7w83Nze1H5+dnY0VK1Zg+/bt+Mtf/qIXrzMhA6EASPQewzCQyWQA7syKZGRkALjTncDY2Bj+/v6j/hnJyckICgpSqck22sMeo9HZ2YnMzMwBT/oyDIO2tjYuDHZ2dnL7xpycnIYt4Kupjo4OZGRkwNraelz3jbHPXyQSQSgUoqurC6ampvD29gafz9fZ8x8ptui0i4vLoCVMRrOnr3eJGbFYjM7OTm6pdLBDROwsm4eHx7j0Gh4IW3/T19dXrT2tSqWSe/4NDQ3o7Ozk9o06OTmNakaarR860gNNfeXl5WH58uV4/vnn8cYbb+jF60zIYCgAEr3HBkB2tsDBwQEBAQEoKSmBXC5HQEDAqH/Gzz//jFmzZnEHGdjizkqlEsDYhj/2pK+rq+uIaqCxpypFIhHa2tq4fWPOzs5qnYYeyZimTp2qN6U52ADh4uICc3NzrgDxYIdodKV3mDM3N0dGRsawRae1eaq371Ipu2+SLTHT2tqKjIyMYWfZxhL7d8e2LhwNtgB1Q0MDmpubYWFhMWyf6sHGlJ6ernH4KywsxPLly/H0009j7969evFvhJChjH8BMUJGoK6uDjk5OZg+fTq8vb3B4/FgaGgIqVSqlev3LgbNzvqxn43Gcqarvr4eubm58PPzG/EbY+8CvN3d3VwYLC4u5vZNOTs7j6je3EBEIhFycnIwY8aMUb9Za4tYLEZ2drbKmNhetezMWGlpKUxNTVU6sejiTZktWN3Z2Yn7779/RK/TcL2N1cH+/Xt5eakUYK6oqICBgQF6enowdepUvfm7Y2fZ/Pz8tFKc28LCAl5eXtzzb2xsRENDAzIzMwGMbKmcDaR+fn4ahb+SkhKsXLkSTzzxBPbs2UPhj0wINANI9F5XVxeSk5P7VeAvLy9HU1MTQkNDR/0z2JIybAePsd7vxzAM1x5MW71h2TdDkUjEtaUb7BDFYCorK1FcXDxuxZQHWiqtqalBYWEhAgIChqzL1rstH7tvbqhOLJouy9bV1eGjjz5CcHAwFi5cOO6HT1hsFxRbW1t0dnYOWmJmLLH76zSdZVMHu1TMBuLeS8WOjo7c7Di7sqDpbGR5eTmWL1+OmJgY/POf/9SLU9WEjATNABK9Z25ujsWLF/d7wzYyMtK4hVtfBgYGXC/fsQ5/SqUSeXl5aGpqQkRExIC9jTVhbGwMFxcXuLi4QKlUcmEoOzsbDMMMGYYYhsHt27dRV1eHsLAw2NjYaGVM6urdDm7Hjh0oKytDRUUFgoODYW9vP+RjDQ0NVVqzsd0oioqKkJ2drbJv0sTEROPWcz09PXjwwQe1Fty1gQ1/bPHi3iVmqqqqkJeXp1JixsLCQue/72xZFU0PV6jLwMAAdnZ2sLOzw4wZM9DZ2cmFwdu3b8PCwgLW1tYQiUTw9fXVKPxVV1cjOjoay5cvp/BHJhyaASQTgkwmQ99f1bq6OlRUVODee+8d1bUZhuFaq/n4+MDIyGhMT/qyRYKDg4PHpKcve4hAJBKptKXr3Y0hNzcX7e3tCAkJ0do+Qk2ws3IbN25EW1sbhEIhQkNDRxWSGYbh9k2KxWJu3yTDMDh79iw2b948olk8hmFQXl6O8vJyBAcHqxwgGk+1tbUoKCgYMpDqosTMUNiCypqWVdE2uVyO6upqlJSUwMDAgOtV7OjoCAcHhxGdbq+rq8OyZcuwcOFCfPnll3px+pwQdVAAJBPCQAFQJBLh9u3buO+++zS+LnvYo66uDkVFRVAoFNwy6Uia1o9GZ2cnMjIyYGlpOW7lS9gwxIZBiUQCQ0NDGBkZISgoSGsFnkdDoVAgJycHEokEoaGhWq87yO6bZMOQubn5sIcIGIZBUVER6urqRh1ItYntfzySGVLWQEvl2iyxws46a9pNQxfa2tqQlpaGadOmwdPTs9+pajs7O+41GOgDkFAoxIoVKxAWFoZDhw5R+CMTEgVAMiEMFACbmpqQnZ2NxYsXa3TNvoc9eDyeSnkRdmbM2dlZKz1qe1P3pO9Y6OrqQmpqKoyMjGBkZMSdqGUD8VicqO2LnSFVKBT92qjpQk9Pj0oYMjAwUOnTa2hoCKVSifz8fDQ1NSEsLGxcZ0h7Ky8vR1lZ2aj6Hw9VYkaTbhwikQjZ2dka99HVhfb2dqSlpcHb23vAU9G9l4rZU8WOjo7o6enB9OnT0dbWhhUrViAgIABHjx4d93Z1hGiKAiCZEORyOVeShdXa2oq0tDTcf//9al9vuOLO7MyYUCjketTa29tzJ0pHU2uurq4OeXl5ap301bXW1lZkZmaq1K4brC2ds7OzzjsxAHdm5tLT02FqaoqgoKAxn2VRKpXcvkGRSAS5XA57e3tIpVIoFAqEhYWNyZL9cBiGQWlpKaqqqhAaGqrVWVu2xMpgJWaG+h1g9yHOmTNnXA4QDYQNf327jgym9weCP/zhDygqKoKzszPs7Oxw7tw5jfpfE6IvKACSCWGgACiRSHD9+nUsXbpUrWv1nvkbaX2/zs5ObpmU3TPGHjAY6awIe9K3oqICc+bM0Zs3D3aJztfXF15eXgPeh10mFIlEKjNjzs7OOmlLx7Yss7Oz04t+tezMWE5ODrq7u8EwDGxtbbnXYKz71PYeF7sUHRYWhilTpujsZ/UuMdPY2AhDQ0NumZSdHWXV19cjLy9Prw7GSCQSpKamwtPTE9OmTVP78Y2NjXjiiSfQ1NQE4E7dv0WLFuGNN97AokWLtD1cQnSOAiCZEAYKgFKpFMnJyYiKihrxbBRb3Hk0J32lUik3K9Tc3IwpU6ZwYXCwN2D2pG9zczOCg4P1Zs9YdXU1bt++PWxJld7YmTE2DPb09MDBwYFbKh/tkhhbuFifik6zLfDYvZE9PT0q+wbZeotOTk6wtrYekzEzDIOCggI0NDSM+VK0UqlEc3Mz9xr0LjGjUChQVFSEuXPn6s2HHLYNnru7O3x9fdV+fHt7OwQCAWxsbPDDDz/AzMwM5eXlOH36NBYuXIigoCAdjJoQ3aIASCaEnp6efiVf5HI5Ll68iAcffHDY0KGrzh5yuZwLg+wyKRsG2SAgk8mQlZUFpVKJ4ODgcW9VBtx5PYqLi1FTU9OvBZ6612lvb+dmR9k9Y5oulbOnRYeajRzOaNqsDUQqlSI9PZ07rNN3NrJ3vUV2ZoydGbSzs9PJ7CX7gaK1tVUnB2PU0bvETG1tLbq6umBpaQlXV9cx68YylI6ODqSmpnIfKDR5/Jo1a2BsbIzTp0/rzZ5PQkaLAiCZEAYKgEqlEklJSYiMjBxyL9ZYdfZQKBTcnrmGhgYYGRnBzs4OTU1NsLa2HreTvn0plUrk5uaitbUVISEhsLS01Nq1+7als7a25gLxcG+ctbW1yM/PR0BAwKhOi2q7zVp6ejrs7e0xa9asYX93es+MiUQiKBQKleLL2jhIpFQqkZ2djc7OToSGhurFBwrg/wp0z5o1CwqFgpsdNTU15WZHR1qAXFt6hz9fX1+1g2hnZyceeeQRKBQKnD17VqtL7FevXsV7772HtLQ01NXVITExEbGxsdz3N27ciEOHDqk8Zt68ebhx48aQ142Pj8drr72GkpIS+Pr6Yu/evVi9erXWxk3uHnR8iUxYbP2uoYpB957503VxZ0NDQ/D5fPD5fCiVSq6LBo/HQ0tLCwoLC3W2Z26kep+qjYiI0Hp40KQtHcMwqKioQFlZGYKDg+Hg4DCqMWirzVp7ezvS09Ph6uqKGTNmjOh3x8DAAA4ODnBwcMDMmTO52dHy8nLk5uZynSicnZ01OkCiUChw69YtdHd3IywsbFy6eQyE3UrQu/yMu7u7SomZW7du9StArssTtJ2dnUhLS4Obm5tG4U8qleKxxx6DVCrFTz/9pPX9lR0dHQgKCsJTTz2FtWvXDnifZcuW4eDBg9zXw/19p6SkYP369XjrrbewevVqJCYmYt26dbh27RrmzZun1fGTiY9mAMmEoFAo0NPT0+/2ixcvIiIiYsCTj8Od9NUl9qQv2/KK3TPHnibtXWtwrMpIsEuZ5ubmmDt37pjORvb09KjMjrJt6ZycnCAWiyEUChESEqIXdQeBO/1qMzMz4e3tPaLToiPR1dXFBeLeJ2rZvaPD/X729PQgMzMTSqUSISEhWi1LNBps7cGQkJAhtxIMVGKGDcROTk5aXcbu7OxEamoqXFxcRhzee+vu7sZvf/tbiEQiJCUl6bzIN4/HG3AGsKWlBSdOnBjxddavX4+2tjacO3eOu23ZsmWws7PDt99+q8URk7sBzQCSCc3Q0HDAYKiNwx6aYEtyVFZWqsxmsS2p/Pz8uFmhkpIS5OTkcAconJycdPam3t7ejoyMDDg5OWHmzJljPgNpZGSk0pauqakJQqGQCzTOzs6QSqWwtLQc92Vy9lS0n58f3N3dtXZdc3NzeHp6wtPTkztRKxKJUFFRMWyfZrlcjoyMDBgaGiIsLGzcXyNWZWUlSkpKEBoaOmztQR6PB1tbW9ja2nKt2dhAfPv2ba0dpOnq6kJaWhr4fL5G4U8ul2Pjxo2oqanBxYsXx7XDS3JyMvc7sXjxYuzdu3fIkjopKSl48cUXVW6LiorCgQMHdDxSMhFRACQTWt9+wAzDcDN/AMalp29zczMiIiIGXDLi8XiwtraGtbU1pk+fzm2er6ysRF5eHuzs7Lg9c9panm1sbMStW7e4wrfjfarWwMAAtra2qKiogIWFBXx9fdHS0oLbt2+ju7tb5UTxWC9xsjO3o92HOBxjY2O4urrC1dUVCoUCTU1NXPBUKpVcAXIHBwcolUquHuJYz9wOpaKiAqWlpQgNDdWoV7SFhQW8vLzg5eWlUmImPT19yBIzQ2GLmTs5OWlUYL2npwe///3vUVJSgsuXL496O8JoLF++HI888gi8vLxQVlaG1157Dffffz/S0tIG/X9DfX19v9P8fD4f9fX1YzFkMsFQACQTmqGhIRf2BursMVZhp/dJ33vuuWfE4W3KlCmYMmUKfHx80NXVBZFIhPr6ehQWFqp1gGIw7MGK2bNn60UPVuDOa5Weng5jY2NERETAyMgIzs7OmDFjBteWjg3Etra23Oyork+6skuZQUFBkMvlePvtt7V2kngo7KlhJycnMAzDdaMpKSlBdnY2DAwMYGFhAX9/f70Jf2zXkbCwMK0s2/cOxL0P0hQUFEAmk3EHaZycnAb9UMDO/LGz3Or+21coFNiyZQvy8vJw6dKlca9fuH79eu6/AwMDER4eDi8vL5w5cwZr1qwZ9HEDFbUf7w99RD9RACQTwmD/A2OXgMfysEdfHR0dyMjIgJWVFQIDAzV+kzY3N+dmRAY6QNG71uBwz6/3UnRISMiI+8LqWmdnJ9LT02FjY4OAgACVpU4ej8cF4mnTpnF75sRiMW7fvq1Sb1GbpUV6F+hmlzLZk8QARn2SWB08Hg82NjawsbGBu7s7bt68CVNTUxgYGOCXX36BlZUVF4jHq7wK+1ppK/z11fcgDTtLXl1djfz8fFhbW3NhkH0NpFIp0tLSuMdoEv5eeOEFpKam4vLly3rTs7g3V1dXeHl5oaioaND7uLi49JvtE4lEetOGj+gXCoBkQjMyMuJKxIxH+GtubkZWVpbWixabmprC3d0d7u7uKvvFysvLYWpqygWhgVqy9e5VO9hS9Hhoa2tDRkaGSru5ofTeM9e7LV1ZWdmwr8FIMQyD27dvo76+HuHh4VyBbm2dJNYUW37G2dmZCzQymYwLxKWlpdxrwJZXGYvf+5KSElRVVSEsLGxMipnzeDxYWVnBysoK06ZN4z4Y9X4N7O3tIRaL4ejoCH9/f7VfB6VSiZdeeglXr15FcnIypk6dqqNnMzqNjY2oqqoackZ6/vz5OH/+vMo+wKSkJCxYsGAshkgmGDoFTCYEpVIJuVze7/bMzEyYmJjA19cXhoaGYxr+2OXVmTNnavWwwFD6tmQzNDTkgpCtrS2USiVXJiQkJEQvetUC/7cP0cfHB15eXqP6e+r9GjQ0NIDH42nUlo7ds9nS0oLQ0FC9KfDLdq1wc3Mb9ENF7/IqYrEYAFTKq2h7qZhhGJSUlKCmpkbnLedGSqFQQCgUoqCgAAzDwMDAgNs36ODgMKIDVUqlEq+++ipOnz6Ny5cva9QiTlMSiQTFxcUAgJCQEPzjH//AkiVLYG9vD3t7e+zatQtr166Fq6srysvL8de//hWVlZXIz8/nwveTTz6JqVOn4p133gEAXL9+HYsWLcLevXshEAjwww8/YOfOnVQGhgyIAiCZEBiGgUwmU/maYRiu+KyBgQGcnZ3B5/N1XmyWfTOsqqrC3Llzx22jOLtXii0vw3Y5MTc3R0hIiN4UCK6vr0dubi5mzZoFNzc3rV67b1s6uVzOHaAYqi2dQqFAdnY2urq69KqYcltbG9LT0+Hp6QkfH58RBWWGYdDS0sKFQalUOqI9cyPFdo2pra3Vm/AH3CnVkpqaChsbG8yePRttbW1qlZhRKpXYuXMnjh8/jsuXL2PGjBljOv7k5GQsWbKk3+0bNmzAp59+itjYWGRkZKClpQWurq5YsmQJ3nrrLXh4eHD3jYyMhLe3N+Li4rjbjh8/jp07d6K0tJQrBD3UnkEyeVEAJBNC7wDY97AH+wbIBiG22Cyfz9d60WWFQsHNGoWEhOjNmyFbtNjY2BgKhWLEQUjX2GLYY9EXtndbOrFYjI6OjgHb0ulrPb2WlhZkZGRg2rRpGrfBYxiG68YiFovR1tYGGxsblT1z6l6vqKgI9fX1CAsL02rXmNGQyWRITU2FtbU1AgIC+gVltsRMQ0MDmpubuRIzbO1FAwMDvPnmmzh06BCSk5Ph7+8/Ts+EkPFDAZBMCGwAHK64c+8wKBQKoVAoVIouj2ZpjD3pyzAMgoKC9GbWqKmpCVlZWfD09OSWsCQSCReIOzo6VGoNjkVpld69hkNCQjQqEzJanZ2dXBhsbW2FtbU1HBwcIBQKYWZmhqCgIL05VdvY2IisrCyt1x7svWeuqakJ5ubmXBgcbu8kuz9SKBQiPDxcb5bI2fDHHroabpa0d4mZjz/+GOfOncPs2bNx69YtXLx4EeHh4WM0ckL0CwVAMmFIpVK1DnuwJTWEQiFEIhFkMpnGs2LaOumrbXV1ddw+xME2r7OlVdgZIba0iqbtyIbTux5iaGioXswadXd3o7a2FqWlpVAqldyp6tEWHdYGtv6fv7+/1pfIe+vp6VHZN2hgYMCFwb619hiGQWFhIcRiMcLCwvQq/KWlpcHS0hKBgYFqz+53dXVh586dOHfuHORyOVpaWrB06VL89re/HbQdGyF3KwqAZEK4ceMGUlNTER0dzS3hqINhGEgkEi4MdnV1wcHBAXw+H46OjkMuA7IzbO7u7lo96TsaDMOgvLwc5eXlau1DlEql3MxgS0sLV1aELa0yWmyvWqlUqleHUNhTtQ4ODpgxY4bKIRK2DuFgXTh0id0fGRgYOKalOti9k2ypIblczu0bdHR0RHFxMZqamhAWFqbz+osjNdrwxzAMPv74Y+zfvx8//fQTwsPDkZubi5MnT8LMzAwvvfSSjkZOiH6iAEgmhHPnzuH1119HZmYmFixYgNjYWMTExMDFxUWjQMYukQqFQm6vGJ/P77dEyp709ff315vyEEqlEoWFhRCJRAgNDdW4HAdbVkQkEqGxsREWFhZcELKyslL7dZXJZMjMzISBgQGCgoL0Zm8de7BioFI9bFs6doZUqVRqbcvAcGpra1FQUIA5c+aMa9Fh9sMR+7vQ3t4OAwMDeHt7w83NTS8CoFwuR1paGszNzTFnzhyNwt8XX3yB3bt349y5c5g/f76ORkrIxEEBkEwYDMOgoqIC8fHxSEhIwK+//op58+ZBIBBAIBDA3d1dozDI7hUTCoVob2/n2rF1dHSgrq5uXE/69sXOsHV1dSEkJERrb849PT1cnb2GhgYYGxurzIoN97p2dXUhPT0dU6ZM0aslcnb21sfHB97e3kPel2EYtLa2ckGIPU2ri7Z0bNeR4OBgvSnSzTAMcnNz0dzcjKlTp6K5uVnlAMV4LZez4c/MzAxz587VKPzFxcVhx44dOH36NBYtWqS1sV29ehXvvfce0tLSUFdXh8TERMTGxnLj3rlzJ86ePYvS0lLY2NjgwQcfxL59+4Zc6o+Lixuw/mRXV5fezKiTuwMFQDIhsSVgEhISEB8fj19++QWhoaGIjY2FQCDQuOdtV1cXhEIhysvLIZfLYWVlBVdXVzg7O4/7TEh3dzcyMzNhaGio0xk2tjctOyvG1tnj8/mws7Pr9wbMnkB2dnbWqBCvrohEImRnZ2tUp5E9Tcu+Bu3t7VprS8e2UQsJCYGtra3G19EmpVKJ3NxctLe3IywsjDvgJJfLueXyxsZGrm2ds7PzgL8L2iaXy5Geng4TExMEBQVpFP6OHj2Kl19+GSdPnhyw7MponDt3jvt/z9q1a1UCYGtrKx5++GFs2rQJQUFBaG5uxrZt29DT04PU1NRBrxkXF4c//elPKCwsVLldH7uTkImNAiCZ8BiGQX19PU6cOIH4+HhcuXIFgYGBEAgEiI2NxYwZM0YcSthlTACYNWsWd6K4ubkZVlZW4PP5o+rNqyn2EMpALdR0qXedPZFI1O9UdWtrK7KysuDl5TXiunVjgV2619beOnbvpFgsRnNzM9eWji0tMtJ6fSUlJaiurkZoaKhO2qhpQqlUIicnBxKJRCX8DXQ/tu6kWCyGQqFQ2Teo7Q8kPT09XGkjTcPff//7X2zduhXx8fGIiorS6vj64vF4KgFwIDdv3sQ999yDiooKeHp6DnifuLg4bNu2DS0tLboZKCH/HwVAcldhGAaNjY344YcfcPz4cVy6dAl+fn6IiYnB6tWrMWvWrEHfrNmQxdYW672Mye6XEwqFaGpqgqWlJRcGdV0LsKWlBZmZmVpvN6cu9lQ1u1wulUrBMAzc3Nzg5+enN3v+2NqDQUFBOlm6l8vl3EnahoaGEbWl691yTp+KKSuVSmRnZ6OzsxNhYWEjXuYeqOYiu3XCyclp1EuVbPgzMjLSuFxPYmIiNm/ejGPHjiE6OnpU4xmJkQTACxcuYOnSpWhpaRn0A0BcXByeeeYZTJ06FQqFAsHBwXjrrbcQEhKio5GTyYoCILlrsTUBT548iYSEBCQlJcHT0xMCgQCrV69W2Uyen5+P+vp6eHh4wNfXd8iQxdYVEwqFaGxshLm5OdeFZKSzQSMlFAqRm5uLGTNmqHQAGG+VlZUoKiqCk5MTOjs7IZFIBiy6PJYYhkFpaSmqqqrGrPZg35Zs7HJ579IqDMMgPz8fjY2NelVShW0bKJVKERoaOqo9jl1dXdzeyZaWFq7gMvsBSZ1/Ez09PcjIyOC2OmgS/k6fPo2nnnoKR48eHTKQadNwAVAqleK+++6Dv78/jhw5Muh1bty4geLiYsyZMwdtbW345z//ibNnzyIrK2vMu5WQuxsFQDJptLW14fTp00hISMCPP/4IZ2dnCAQCGBoa4pNPPkFSUhJCQ0PVuiZbW00oFKKhoQEmJiZcGBzthvmKigqUlJSM+ynR3tiQVVlZqbKHjT1IIxKJuO4T7KzYWOydZOvWsSejx2OGbbDSKjKZDN3d3XpVUkWpVCIrK4sblzZnb3vPkDY2NsLY2JgLg8OV2VEoFEhPT4eBgQGCg4M1Cn8//vgjnnzySRw8eBCPPPLIaJ6KWoYKgHK5HI888ggqKyuRnJys1vK/UqlEaGgoFi1ahA8//FCLIyaTHQVAMil1dHTgzJkz2LVrF4qLixEYGIjf/OY3EAgEmDdvnkZvPOxsELss1re+3EjDYO/lwuDg4HHpojEQpVKJgoICNDQ0DBmyuru7uTDYe78cW2tQ20vYbOHplpYWvQlZ7HJ5Tk4Ot1Rub2/PBaHx7CKjUCiQlZUFuVyO0NBQnS7dsweK2EDIltlxcnKCg4ODSjF2hUKBjIwMAEBISIhG/wYvXbqERx99FJ9//jkef/zxMd0uMVgAlMvlWLduHUpLS3Hp0iWNtiVs2rQJ1dXVOHfunJZGSwgwPg1CCRlnBgYGiI+PR3d3N/73v/9x5WXWrVsHMzMzxMTEIDY2FgsWLBhxxxBDQ0Mu6LD15YRCIbKyssDj8bjvDXV6UqFQcBvyIyIi9Ga5UKFQcHvF7rnnniH3eJmamsLDwwMeHh7cbJBIJEJZWRnMzMy410EbJUV6F56OiIjQm/Z8SqUSJSUlMDQ0xMKFC9HT0wORSIT6+noUFhbC2tqaWy4fy04pbPjr6enRefgDwJ0adnJyUimzU1JSguzsbG7bgL29PfLz8wFoHv6uXr2Kxx57DB9//PGYh7/BsOGvqKgIly9f1ij8MQyDzMxMzJkzRwcjJJMZzQCSSamoqAjbtm1DXFycyvKqTCbDhQsXEB8fj5MnT4LH42HlypVYvXo1Fi1apNEbJrs0yHYhYRhG5SQtGwbZE8g8Hg9BQUFj0rN3JORyOXcyOjg4WOPQoFAoVGoNGhkZqZQUUfcNW1vj0raenh5kZmaCYZgBx9W7P2/vAty6rrOnUCiQmZkJpVKJkJAQtVoh6kJHRwf34aC1tRWGhobw8vICn89Xe6b4+vXrWLNmDd577z08++yzYxb+JBIJiouLAdwJrv/4xz+wZMkS2Nvbw83NDWvXrkV6ejpOnz6tchrd3t6e+/f95JNPYurUqXjnnXcAALt378a9996LGTNmoK2tDR9++CG+/vpr/PLLL7jnnnvG5HmRyYECICGDkMvluHLlCo4fP44TJ05ALpcjOjoasbGxWLJkiUazTewsCBsGe3p64OjoCFtbW1RUVOhdr2GpVIr09HRYWFhgzpw5WhtX7w4cIpEIAAYMxYORyWQq9eH05fWSy+XcAYaR7GFj95CyoZidRXZyctJqnT02lAJ3wvJ4hz9W7+VoNzc3NDY2orGxkTtZ7eTkNOz2iZs3b0IgEGDPnj14/vnnx3TmLzk5ecDaghs2bMCuXbvg4+Mz4OMuX76MyMhIAEBkZCS8vb0RFxcHAHjxxReRkJCA+vp62NjYICQkBLt27aLuJUTrKAASMgIKhQI///wz4uPjkZiYCIlEguXLlyM2NhYPPvigRvvO2H1iVVVVqKurUym47OjoOO5v0hKJBBkZGXBwcIC/v7/Oag+yp7XZMCiXy1XCYN/Xge06woblsezdOxQ2lJqammLu3Llqh1I2FLOzYr33yzk6OmocctlTtaM5WKEL7EEUdi8i+/fc92Q1AJV9g73Hn5GRgZUrV+K1117Diy++qBfLvoRMFBQACVGTQqHAjRs3uDDY0NCAqKgoxMbGYunSpWqdQBWLxcjOzoavry/s7e25GntdXV1cGzInJ6cxX95kaw+6u7sPWxZHm3rXlxOJRP1eh+7ubqSnp8PJyUmvuo6wM6VsK7zRhtLB2tKxQWik2wPYGcnR1NPTBTb8yWSyIfcish8O2Nehu7sb2dnZ4PF4mDt3Lp588kn8+c9/xquvvqo3vwuETBQUAAkZBaVSibS0NBw/fhyJiYmorq7GQw89BIFAgBUrVgxZ7oHtBxsQENCvW0VHRwe3TNy7xp6zs7PO9wayoVQfag9KJBLuzb+9vR3Anf1Ts2fP1pu+qF1dXUhLS4OdnR1mz56t9SDCtqXr/TrY2tpys6SDzT6zbdTYThr6FP5u3bqF7u5utQ6isK/Df/7zH8TFxeH27dtwd3fH1q1bERsbCz8/Px2PnJC7CwVAQrSEfWNjw2BJSQkeeOABxMTEYOXKldxeJoVCgdTUVHR1dSE4OHjYfrB9a+zZ2tqCz+drpeNCXzU1NSgsLBwwlI6npqYmbjlaLpejtbWVO0k7Hq35WB0dHUhLS4OzszNmzpw5JrNQUqmUC4NsmZ2+RZflcjnS0tJgamqqURs1XWE7j3R1dWlcf7CwsBDLly/HunXrMHv2bJw8eRIXL17E5s2bqU4eIWqgAEiIDrDdH44fP46EhATk5eVh8eLFiI6OxunTp9HS0oJz586pXQKE7UkrFArR2tqqtYLLDMOgrKwMFRUVCAoKgr29vcbX0jaRSITs7GzMmjULbm5uAO7st2NDMduaj30dtN2NZTDt7e1IT0+Hm5vbuLXoY7vSsIdITE1N4eDggMbGRlhaWt514a+4uBjLly/HY489hnfffZd7bu3t7Whubh60vy4hpD8KgIToGMMwKC4uxtdff40DBw7AzMwMgYGBiImJQUxMDPh8vkbhgS0nIhQK0dzcDCsrK5WCy+qMr7CwEEKhEKGhobCyslJ7LLpSW1uL/Px8zJkzB87OzgPeZ6AQNFxv3tFqbW1FRkYGPD094ePjoxf7zxQKBYRCIQoLC6FQKFTK7LBt6caLUqlETk4OOjo61Oo53Ft5eTmWLVuG2NhYHDhwQG+CLSETFf0LIkTHeDweTE1NER8fj8WLF+Py5ctYsWIFvv/+e/j5+SEqKgr/+te/UF1dDXU+j5mamsLd3R1hYWFYtGgR3N3d0dLSgpSUFKSkpKCkpAQSiWTIa7LL1o2Njbjnnnv0KvxVVFSgoKAAISEhg4Y/ADA2NoarqyuCgoIQGRkJPz8/yGQyZGRk4OrVq1wfXqVSqZVxNTc3Iz09HT4+Ppg2bZpehD/gzmnf8vJyODg4IDIyEnPnzoWRkREKCgpw5coV3Lp1C3V1dZDL5WM6LqVSidzc3FGFv+rqakRHR2PFihU6CX9Xr17FqlWr4ObmBh6PhxMnTqh8n2EY7Nq1C25ubjA3N0dkZCRyc3OHvW58fDxmz54NU1NTzJ49G4mJiVodNyGjQTOAhIyBjz76CPn5+fjwww+5chcMw6C6uhoJCQlISEjAL7/8grCwMMTGxkIgEMDLy0ujcNF3RszMzAx8Ph/Ozs6wsrLirimXy5GVlQWFQoGQkBC9KTzNMAxKSkpQXV2NkJAQjVvhKZVKNDc3c0vFDMPA0dGRKy+jyYxYY2MjsrKy4OfnB3d3d43GpQvd3d1IS0uDlZUVAgICVAISwzCQSCTc69DR0cG1pdPFPtLeGIZBbm4u2traEB4ertHvWF1dHZYtW4ZFixbhiy++0MlM5rlz5/DLL78gNDQUa9eu7dfSbf/+/di7dy/i4uLg5+eHPXv24OrVqygsLBz0Q1NKSgoWLlyIt956C6tXr0ZiYiJef/11XLt2DfPmzdP6cyBEXRQACRkD7D+zwQIdwzCor69HYmIi4uPjcfXqVcyZMwcCgQCxsbEa7zFju28IhUI0NDTAxMSE67xRVFQEMzMzvTohyjAMCgoKIBaLh+w3rMl1W1tbuRAkk8m4MDjSmotisRi3bt3C7Nmz4erqqpVxaYNUKkVaWhpsbGwQEBAw7O9JZ2enSgcOa2trbqlYm23peoe/sLAwjQqnC4VCLF++HBEREYiLixuT39O+PX0ZhoGbmxu2bduGV199FcCdwM3n87F//35s3rx5wOusX78ebW1tKv17ly1bBjs7O3z77bc6fx6EDIcCICF6hmEYNDQ04IcffkB8fDwuXbqEmTNncv2JZ82apXEYbGpqQk1NDcRiMQwMDODm5gY+n69RKzZtY/eJtbe3IzQ0dFSHWoYy0IxY71qDA81S1dfXIzc3F4GBgXp1OloqlSI1NVXjEjQymYwLg01NTTA3N+fC4Gja0jEMg7y8PLS0tCA8PFyj8NfQ0IAVK1YgICAAR48eHbPC6H0DYGlpKXx9fZGeno6QkBDufgKBALa2tjh06NCA1/H09MSLL76IF198kbvtgw8+wIEDB1BRUaHT50DISOhHPyBCCIftCPLMM8/g97//PVpaWnDy5EnEx8fj73//O7y8vCAQCLB69Wq1ig4bGhrCxMQELS0t8PLy4gpP37p1S6ULiTZbkI0U2xJMJpMhIiJCp8vRPB4PVlZWsLKygq+vL1djr6amBvn5+bC1teUOkZiZmXGlcYKCguDo6KizcamLrT9ob2+v8YcCExMTTJ06FVOnTlVpS5eeng5DQ0OVXs0j/Z1gT8C3tLRoPPPX1NSEmJgYzJgxA0eOHBnXrjj19fUA0C/48/n8IYNcfX39gI9hr0fIeKMASIge4/F4sLOzw4YNG7Bhwwa0tbXh9OnTiI+PxwMPPAAXFxdumTg0NHTIN+mGhgbcunULvr6+8PLyAgA4Ojpi1qxZ3F653NxcKBQKLgCNpC/vaMnlcq5PrablQUbD0tISlpaW8Pb2Vqmxd/v2bZiamqK7uxuzZ8/Wq/DX2dmJtLQ0ODk5aa3+oJGREfh8Pvh8vsr+yZycHCiVSpX9k4MFMjb8NTU1ITw8XKP9hS0tLRAIBHB3d8exY8fG/PdhMH1fY4Zhhn3dNXkMIWOFAiAhE4i1tTUef/xxPP7445BIJDh37hzi4+OxcuVK2NnZccvE99xzj8p+qfLycpSUlCAgIAAuLi4q1+TxeLC3t4e9vT1mzpyJ1tZWCIVCFBQUqPTlHU0/2sGwrd3MzMw06p+rbWZmZvDw8ICHhweKi4tRUVEBGxsb5Ofno7y8nAvGvQ/TjLXOzk6kpqaCz+fDz89PJ+MwMDCAg4MD1we6ra0NIpEIxcXFyMnJ4TrT9F4yZ/dvjib8tbW1Yc2aNXB0dMTx48f14mAS+++lvr5eZe+nSCQacjuAi4tLv9m+4R5DyFiiPYCE3AW6urrw008/ISEhAadOnYKFhQViYmIgEAhw4cIFnD9/HqdOnVJrFovty8u2pJNKpdwskJOT06iX5dglTPbwgr7Udet9Cjk0NBTW1tbo6elROVltbGzMhUG2w8tYYDuPuLi4YMaMGeMSQjs6Orj9k+3t7bCxsYGTkxMkEgmam5sRHh6u0f5NiUSCNWvWwMTEBGfOnNHZHtDhDHYI5MUXX8Qrr7wC4M7eSWdn52EPgbS3t+Ps2bPcbcuXL4etrS0dAiF6gQIgIXcZqVSKixcvIj4+HseOHQOPx4NAIMBjjz2GhQsXarSkxvZhZcNgZ2cn7O3tuZZ06l5TIpEgPT19TFuojQTDMLh9+zbq6+sRFhY24Clk9jCNSCSCWCzm9k+yBZd1FWQlEgnS0tLGtfNIX2xnmoqKCkilUlhaWnIlh9TpyNLZ2YmHH34YDMPgzJkzWjv9PVISiQTFxcUAgJCQEPzjH//AkiVLYG9vD09PT+zfvx/vvPMODh48iBkzZuDtt99GcnKyShmYJ598ElOnTsU777wDALh+/ToWLVqEvXv3QiAQ4IcffsDOnTupDAzRGxQACbkLyWQyPPXUU/j111/x+uuv4/r16zhx4gTkcjlWrlyJ2NhYREZGarRBH/i/WSChUAiJRMItCTo7Ow+7bMd20fDw8NCrQsrs/rXGxkaEhYWNqL+wUqlES0sLNyOmUCi4MKhprcGBsOFv6tSp8PX11avXrKioCEKhEEFBQdzvBduRhX0thpollUqlWL9+PTo6OvDjjz/C2tp6jJ8FkJycjCVLlvS7fcOGDYiLiwPDMNi9ezc+//xzNDc3Y968efjXv/6FwMBA7r6RkZHw9vZGXFwcd9vx48exc+dO7iTx3r17sWbNmrF4SoQMiwIgIXehL774Ap9//jnOnj3L7Tnq6enBtWvXcPz4cZw4cQISiQQrVqxAbGwsHnjgAY2X3Lq6urgw2NbW1u8UbW9sIeXp06frVd9WtlsFW7NOk/1rDMNwe+X6Lpk7OjpqfJihvb0daWlp8PDwgK+vr0bX0AW2xWFdXR3Cw8NVAnPfWVIAA7al6+7uxhNPPIGGhgYkJSXB1tZ2PJ4KIZMSBUBC7kJKpRJdXV2DFvZVKBS4ceMGFwYbGhqwbNkyCAQCREVFaVwQmF0SFIlEaGlpgbW1NZydncHn89HW1oacnBzMmjULbm5uo3l6WqVUKpGdnY3Ozk6EhoZqPCvaG7tkzr4WvWdJnZycRvwz2trakJ6eDk9PT0ybNm3U49KW3uEvLCxsyN8XhmFUZknb29vx+eefIyoqCleuXEF1dTUuXrwIe3v7MXwGhBAKgIRMckqlEqmpqTh+/DgSExNRW1uLhx56CAKBAMuXL9d4SU4mk3Fv+o2NjQDunIycNm2aVjtOjAZbf1Aul+u0HR47S8p237CxseFmSQebeW1tbeV6Dnt7e+tkXJoqLi5GTU0NwsPD1fq7ZBgGNTU1+OCDD3DmzBlUV1dj0aJFWL9+PWJiYjB16lQdjpoQ0pt+HLsjRE179+7FggULYGFhMeCyUVxcHHg83oB/RCLRoNeNjIzsd/9HH31Uh89k/BkYGOCee+7Bu+++i8LCQly7dg2BgYF477334O3tjXXr1uHIkSNobm6GOp8XTUxM4O7uzi35eXt7o6enBzdu3EBKSgpKSkrQ3t6u1jW1qaenBxkZGVAoFAgNDdVpyRFzc3N4eXkhIiICCxcuhKurKxobG/HLL7/gxo0bKC0thUQi4V4LNvxNmzZN78JfSUkJampqhp35GwiPx4OrqytaW1sxZcoU3LhxA7Gxsfjuu+/g5eWF/Px8HY2aENIXzQCSCemNN96Ara0tqqur8dVXX6GlpUXl+11dXWhtbVW5bePGjZBKpUhOTh70upGRkfDz88Obb77J3WZubg4bGxttDn9CYNt5HT9+HAkJCcjPz0dkZCRiY2OxcuVKODg4DHkYgV0mrKmp4cqpAOBKqrD9ic3MzLjZsNG0H1OHXC5HRkYGDA0NERwcPG71B+VyOcRiMcRiMfdaWFtbQywWqxTs1helpaWorKxEeHi4Rid1FQoFXnjhBVy/fh3JyckqWwHEYjEcHR315oALIXc7CoBkQouLi8O2bdv6BcC+xGIxpk6diq+++gq/+93vBr1fZGQkgoODceDAAe0OdIJjT3uyYTArKwv33XcfYmNjsWrVKvD5fJU37t4nakNDQ4fci8jW1xOLxVx9PT6fDxsbG52EAZlMhrS0NL0pPs1SKBSoqKhAaWkpeDxev1qD410nsaysDBUVFRqHP6VSiW3btuHy5cu4fPmyXh0CImQyoiVgMikcPnwYFhYWePjhh4e979GjR+Ho6IiAgABs374d7e3tYzBC/cbj8eDn54e//vWvuHnzJgoLC7FixQocO3YMfn5+WLZsGT755BNUV1ejq6sLTz75JHJzc4fdI2ZoaAg+n485c+YgMjIS/v7+3NLszz//zHWWUCqVWnkeUqkUqampsLS0RFBQkN6EP+DOsm95eTn8/f2xZMkSzJ49mzugcvXqVeTm5kIsFmvttVBHeXk5KioqBq2NOBylUolXXnkF58+fx4ULF8Yk/Hl7ew+4BeT5558f8P7JyckD3r+goEDnYyVkPNAMIJnQRjoDGBAQgMWLF+OTTz4Z8n5ffvklfHx84OLigpycHOzYsQPTp0/H+fPntTjquwfDMKiqqkJCQgISExNx7do1eHh4wMDAAP/5z38QERGh0Swe24tWKBRCLBaDYRhuNkzTYsts5xE7OzvMnj1br5Ya2fI4M2fO7HcQou8pWrlcDkdHR/D5/CH78mpLeXk5ysvLERYWxhU9VodSqcTOnTtx/PhxXL58GTNmzNDBKPsTi8VQKBTc1zk5OXjooYdw+fJlREZG9rs/WwuwsLBQ5eCTk5OTXn1QIERbKAASvbFr1y7s3r17yPvcvHkT4eHh3NcjCYApKSlYsGABUlNTERYWptaY0tLSEB4ejrS0NISGhqr12MmmqakJUVFRaG1thZeXF5KTkzF37lwIBAIIBAKNu1ewAYjtQqJJsWW2hZq+dR4B/i/8+fv7D1seh23Px4bBrq4uriOLo6Oj1g+ysEvSYWFhGp0GZxgGb775Jg4fPozLly/D399fq+NTx7Zt23D69GkUFRUN+PfPBsDm5maqR0gmBd1+dCREDVu3bh32xK0mJyL//e9/Izg4WO3wBwChoaEwNjZGUVERBcAhdHd34/7774eXlxd+/vlnmJqaoqGhASdOnEB8fDz27NkDf39/CAQCxMbGwt/ff8QhjMfjwc7ODnZ2dpg5cyba2togFApx+/ZtyGQybjbM0dFxwDDY3t6O9PR0vWqhxhKLxcjOzsasWbPg6uo67P15PB6sra1hbW2N6dOnc7UGq6qqkJeXBzs7O67WoCbFrHurrKxEaWmpygEedTAMg3379uHgwYO4dOnSuIY/mUyGI0eO4KWXXhr27z8kJARSqRSzZ8/Gzp07B+wQQsjdgGYAyYQ23AygRCKBq6sr3nnnHWzdulXt6+fk5GDOnDm4cuUKFi1aNMrR3t1++uknPPDAA/2WJBmGQXNzM06ePIn4+HicP38ePj4+EAgEWL16NQICAjRa0h1oNqxv5w227Zynpyd8fHz0LvzdunULAQEBcHFxGfX1urq6IBaL+xXhdnZ2HlFbu96qqqpQXFyM0NBQjU7AMwyDDz74AB988AEuXbqEoKAgta+hTd9//z0ef/xxVFZWDjrLWlhYiKtXryIsLAzd3d34+uuv8dlnnyE5OZn+7ZO7EgVAMiFVVlaiqakJJ0+exHvvvYeff/4ZADB9+nSVTepfffUVtm7ditraWtjZ2alco6amBg888AAOHz6Me+65ByUlJTh69ChWrFgBR0dH5OXl4eWXX4a5uTlu3rxJ+4C0pLW1FadPn0ZCQgJ+/PFHuLq6cjODISEhGp92lUgk3DJxR0cHrK2t0d7eDh8fH73qogEAIpEI2dnZCAwM5Fr1aRNbhFssFqOxsRGWlpZcGJwyZcqQQbi6uhpFRUUICQnRaCmUYRh8/PHH2L9/P5KSklS2bIyXqKgomJiY4NSpU2o9btWqVeDxeDh58qSORkbI+KEASCakjRs34tChQ/1u77vBe8GCBfDx8cHRo0f73be8vBw+Pj7cY6qqqvDb3/4WOTk5kEgk8PDwQHR0NN544w18+umnOHPmDDIzM2FiYjLgjONAb6qffvoptmzZMujz6O7uxvbt2/Htt9+iq6sLDzzwAD755BO4u7uP7IWY4CQSCc6ePYuEhAScPXsW9vb2iImJQWxsLCIiIjQO3TU1NcjPz4epqSm6u7u5pVFnZ2ettHobDaFQyM0sOzs76/znyeVyrtROY2MjTExMuNeib6md6upq3L59G6GhoRqHvy+++AK7d+/Gjz/+iHvvvVeLz0QzFRUVmDZtGhISEiAQCNR67N69e3HkyBEqUE3uShQACRmB4QpPA3cC4MGDB7Fs2TLuNhsbm0FbfQHAH/7wB5w6dQpxcXFwcHDAyy+/jKamJqSlpU26GcfOzk4kJSUhPj4ep0+fhqWlJVatWoXY2FjMnz9/xKdd2dm12bNnw9XVdcA2bHw+H87OzqPeJ6eu+vp65OXlYc6cOXBychrTnw3cqTXY2NjIzQ4aGBhwYbCrqwu3b99GSEhIv9nykWAYBnFxcdixYwfOnDmDhQsX6uAZqG/Xrl34/PPPUVVVpfaJ6YcffhhNTU24dOmSjkZHyPihAEiIGobac8jj8ZCYmIjY2NgRXau1tRVOTk74+uuvsX79egBAbW0tPDw8cPbsWURFRWlx5BOLVCrFxYsXER8fj5MnT8LIyAgrV67E6tWrcd9998HY2HjAx9XX1yM3N3fQpdXu7m4uDDY3N49qn5y66urqkJ+fj7lz58LR0VGnP2sk2FI7IpEI9fX16OnpgYODA9zd3Ud8uprFMAyOHDmC7du349SpUwOWWRkPSqUSPj4+eOyxx7Bv3z6V7+3YsQM1NTU4fPgwAODAgQPw9vZGQEAAd2hk3759iI+Px5o1a8Zj+IToFJ0CJkSLtm7dimeeeQY+Pj74/e9/j2effXbQPW1paWmQy+VYunQpd5ubmxsCAwNx/fr1SR0AzczMEB0djejoaMjlciQnJ+P48eN4+umnoVAosHLlSsTGxiIyMpIrfZKUlAQjIyMEBQUNGrBMTU3h4eEBDw8Pbp+cSCRCcXExpkyZwnUhUbfH7XBqa2tRUFCAoKAgODg4aPXamjIwMICDgwNkMhlqa2sxc+ZMSKVS7nS1g4MDd6J4qJkzhmHw/fff4+WXX0ZCQoLehD8AuHDhAiorK/H000/3+15dXR0qKyu5r2UyGbZv346amhqYm5sjICAAZ86cwYoVK8ZyyISMGZoBJEQNQ80A7tmzBw888ADMzc1x8eJFvP7669ixYwd27tw54LW++eYbPPXUU+ju7la5fenSpfDx8cHnn3+ui6cwofX09ODatWv473//ixMnTqCjowPR0dEwMzPDt99+i+TkZAQGBqp9XbYnL7tPztzcnAuDwx2aGE5NTQ0KCwsRHBwMe3t7ja+jC+ysZO9gyjAMJBIJF447Ojrg4ODA1V7sW2swISEBW7ZswbFjxxAdHT0eT4MQogEKgGTS0lXhadbf//53vPnmm2htbR3w+4MFwIceegi+vr747LPPhn8Sk5hCoUBKSgr+8pe/4H//+x+8vb0RHBwMgUCApUuXajyL19PTwx2aaGhogImJCbdn0NraWq0wyB6q0HRfnS6x+xGHm5Xs7OzkwmBbWxtsbW3x66+/IioqCgUFBXjqqadw9OjREW99IIToB1oCJpOWrgpPs+69916uaPFA+9FcXFwgk8nQ3NysEg5EIhEWLFig8c+dLAwMDPDjjz/i9u3b+PXXXyGTyRAfH49du3bh2WefxdKlSyEQCLB8+XK1WpgZGRnBxcUFLi4uKocm0tPTYWRkxO0ZtLW1HTIM9q6lp2+dJYRCIfLy8jB37txhl6QtLCzg7e0Nb29vSKVSVFdX49ixY9ixYwcsLCwgEAgwa9asMRo5IURbaAaQEDWoMwP48ccf489//jNaWloGLD3CHgI5cuQI1q1bB+DOkpy7u/ukPwQyEq2trYiJicFnn32mEkCUSiWysrJw/PhxJCQkoLy8HA888AAEAgGio6P7lT4ZKaVSiaamJq4/MY/H48KgnZ2dyl5PtoWaprX0dIk9JT137lyNTyJfunQJTz/9NFavXo26ujokJSXB19cXn3/+Oe677z4tj5gQogsUAAkZgeEKT586dQr19fWYP38+zM3NcfnyZbz88svYuHEj/vnPfwLoX3gauFMG5vTp04iLi4O9vT22b9+OxsbGSVkGRhMMwwwZ5hiGQW5uLo4fP47ExEQUFBQgMjISsbGxWLlyJezt7TUOg+wJWpFIBIZh4OTkBD6fj/b2dpSXl2vcRUOXtBH+rl69ikceeQQfffQRNmzYAB6Ph/b2dpw7dw4LFiyYNDUsCZnoKAASMgLDFZ7+8ccfsWPHDhQXF0OpVGLatGl45pln8Pzzz3MnKPsWngbulDv585//jG+++UalELSHh8dYPr1JgWEY3L59G/Hx8UhISEBWVhYWLlyI2NhYrFq1Cs7OzhqFQYZh0NLSApFIhNra2lGVU9EltvXcaApQX79+HWvWrMH777+PTZs26VVrPUKIeigAEqKH9u7dO2TnkaysLOzbtw/Xrl1DQ0MDvL29sWXLFvzpT38a8rqRkZG4cuWKym3r16/Hd999p+2noNcYhkFZWRkXBlNTUzF//nwIBALExMTAzc1N7XBTWlqKiooK+Pv7c23pZDKZSn9idQsRa4tYLEZ2djYCAgI0bj33v//9D7GxsdizZw+ef/75MQl/Ax3U4vP5qK+vH/QxV65cwUsvvYTc3Fy4ubnhlVdeGbIbDyGTFR0CIUQPyWQyPPLII5g/fz6++uqrft9PS0vj9g96eHjg+vXrePbZZ2FoaIitW7cOee1NmzbhzTff5L4eqlPJ3YrH42HatGn485//jO3bt6OqqgoJCQlISEjAq6++ioiICK4lnaen57DLzKWlpaiqqkJ4eDh34GT69OlcECwtLUVubq5Kbb3BillrW0NDw6jDX3p6OlavXo033nhjzMIfKyAgABcuXOC+HmpGtaysDCtWrMCmTZtw5MgR/PLLL3juuefg5OSEtWvXjsVwCZkwaAaQED2mzqGT559/Hvn5+UO2rYqMjERwcDAOHDigvUHeRRiGQV1dHRITExEfH4+ff/4Zc+fORWxsLAQCAXx9fVXCD8MwKCkpQU1NDcLCwjBlypRBr927tp5EIoG9vT34fD6cnJz61dbTlsbGRmRlZWH27NlwcXHR6Bq3bt1CdHQ0XnnlFbzyyitjGv527dqFEydOIDMzc0T3f/XVV3Hy5EmV3r1btmxBVlYWUlJSdDRKQiamgVsUEEImnNbW1hEVGj569CgcHR0REBCA7du3o729fQxGNzHweDy4ubnh+eefx8WLF1FbW4vNmzfj2rVrCA8Px/z587Fv3z7k5+dDoVBg27ZtOHv2LMLDw4cMfwAwZcoUTJs2Dffeey8WLFgAe3t71NTU4OrVq0hLS0NVVVW/mpCjwYa/WbNmaRz+8vLysGrVKvzpT38a8/DHKioqgpubG3x8fPDoo4+itLR00PumpKSodNYBgKioKKSmpkIul+t6qIRMKLQETMhdICUlBd9//z3OnDkz5P2eeOIJ+Pj4wMXFBTk5OdixYweysrJw/vz5MRrpxMHj8eDk5IRnn30WmzZtQnNzM3744QckJCRg//798PDwQHNzMz755BO1l9H71tZj+/EWFhbCxsaGKy+j6fJ8U1MTF/5cXV01ukZhYSFWrlyJZ599Fq+99tq4hL958+bh8OHD8PPzg1AoxJ49e7BgwQJuOb2v+vr6fsvcfD6fK+6t6WtByN2IAiAhY0STziMjkZubC4FAgNdffx0PPfTQkPfdtGkT99+BgYGYMWMGwsPDkZ6ejtDQULV+7mTC4/Fgb2+Pp556Chs3bsSWLVsQHx+P+fPn4+mnn4abmxu3TBwcHDxo/+eBmJmZwdPTE56enuju7uaWiYuKimBlZcW1pLOwsBjR9ZqampCZmQl/f3+NA09xcTFWrlyJ3/3ud3jrrbfG7bTv8uXLuf+eM2cO5s+fD19fXxw6dAgvvfTSgI/pO1Z2lxOdWCZEFQVAQsaILjqP5OXl4f7778emTZsG7Tk8lNDQUBgbG6OoqIgC4Aht374dSUlJSE1Nhbe3NyQSCc6ePYv4+HgsX74cjo6O3AGSiIgItcKgqakpPDw84OHhAZlMxvUnLikpgaWlJdeSbrDl5ubmZmRmZmLmzJlwc3PT6PmVl5dj5cqVWLt2Lfbv36/W+HXN0tISc+bMQVFR0YDfd3Fx6XdCWCQSwcjIaNiOJ4RMNhQACRkjjo6OcHR01Nr1cnNzcf/992PDhg3Yu3evxteQy+W0NKaGVatW4Y9//CO8vLwA3Nnbt27dOqxbtw6dnZ346aefEB8fjzVr1mDKlClYtWoVYmNjMX/+fLVqApqYmGDq1KmYOnUq5HI515+4rKwM5ubm3DKxlZUVeDweWlpakJmZCT8/P0ydOlWj51ZVVYXo6GisWLECBw4c0KvwBwDd3d3Iz8/HwoULB/z+/PnzcerUKZXbkpKSEB4ePmanrgmZKOgUMCF6aLjOI7m5uViyZAmWLl2K999/n3ucoaEh1+Ghb+eRkpISHD16FCtWrICjoyPy8vLw8ssvw9zcHDdv3tSbgsV3C6lUigsXLiAhIQE//PADjI2NsWrVKqxevRq/+c1vNA4kPT09aGxshFAoRENDA0xMTGBjYwOxWIwZM2ZoXES8rq4OUVFRWLx4Mb744gu9+H3Yvn07Vq1aBU9PT4hEIuzZswdXrlxBdnY2vLy8sGPHDtTU1ODw4cMA7pSBCQwMxObNm7Fp0yakpKRgy5Yt+Pbbb6kMDCF96NfHO0IIAOD1119HSEgI3njjDUgkEoSEhCAkJASpqakAgP/+978Qi8U4evQoXF1duT8RERHcNeRyOQoLC9HZ2QngzozSxYsXERUVhZkzZ+KPf/wjli5digsXLmDfvn1YsGABLCwsBu1dW1lZiVWrVsHS0hKOjo744x//CJlMNuTz6O7uxgsvvABHR0dYWloiJiYG1dXV2nmR9JyZmRlWrlyJ//znP6ivr8fhw4dhYGCAp556Cr6+vnjuueeQlJQ07GvYl5GREfh8PubOnYvFixfD3d0dQqGQK25dUFCA5uZmqPPZXigUIjo6GgsWLNCb8AcA1dXVeOyxxzBz5kysWbMGJiYmuHHjBjf7WldXh8rKSu7+Pj4+OHv2LJKTkxEcHIy33noLH374IYU/QgZAM4CEELzxxhuwtbVFdXU1vvrqq351BxUKBYKDg+Hk5IS///3vaGxsxIYNG7BmzRp89NFHg173D3/4A06dOoW4uDg4ODjg5ZdfRlNT06TuddzT04Off/4Zx48fx4kTJ9DZ2Yno6GjExMTgwQcfhJmZ2Yiv1draivT0dPj6+sLd3R1NTU3cIRIej8ctE9vZ2Q26nNvQ0IAVK1YgMDAQR44cGbduJYSQsUUBkBDCGazw9Llz57By5UpUVVVxhwu+++47bNy4ESKRCNbW1v2u1draCicnJ3z99ddYv349AKC2thYeHh44e/YsoqKidP589J1CocD169cRHx+PxMREtLS0YNmyZRAIBFi6dOmQJ3/b2tqQlpaGadOmcTNiLKVSyfUnZmcHnZyc4OzsDAcHBy4MNjU1ITo6Gr6+vjh27BjtkyNkEqElYELIsFJSUhAYGKhysjQqKgrd3d1IS0sb8DFpaWmQy+UqhXnd3NwQGBiI69ev63zME4GhoSEWLlyIAwcOoKysDElJSfD09MTrr78Ob29vPPHEE/jvf//br1i3WCxGeno6fHx8+oU/ADAwMIC9vT38/f2xaNEiBAcHw8jICAUFBTh48CBWr16NL7/8EjExMfD09MR3331H4Y+QSYYCICFkWAMV2LWzs4OJiUm/shu9H2NiYgI7OzuV2/l8/qCPmcwMDAwwb948vPfee7h9+zauXr2KWbNmYd++ffD29sb69evxzTff4NKlSwgLC4OhoeGIygbxeDzY2tpi5syZuO+++3DvvffCxcUFb7/9Nm7dugVjY2MkJCRQRxhCJhkKgITcpXbt2gUejzfkH/ZQyUgMVEiXYRi1C+xq8pjJxsDAAKGhoXj77beRl5eHmzdvIiwsDO+++y7Wrl2LgIAAlJWVobGxUa3DHjweD15eXigpKUFAQABSUlIwZ84c7NmzB87OzmhoaNDhsyKE6BPa7UvIXUqbhaddXFzw66+/qtzW3NwMuVzeb2aw92NkMhmam5tVZgFFIhEWLFgwop9L7oS2wMBAGBgY4JNPPsHmzZvh4uKCL7/8Ei+88AIWLVoEgUCAVatWwdnZechw3dnZiXXr1sHQ0BAnT57ElClTEBERgd27d6OsrEyrdSoJIfqNZgAJuUs5OjrC399/yD8jPXE6f/585OTkoK6ujrstKSkJpqamCAsLG/AxYWFhMDY2VukzXFdXh5ycHAqAaurp6UFMTAyee+45fPjhh/jrX/+K1NRUFBQUICoqCt988w38/PywfPlyfPrpp6itre03MyiVSvHYY49BJpPh1KlT/bqJ+Pj4aH3c77zzDiIiIriWdrGxsSgsLBzyMcnJyQPOVhcUFGh9fIRMZnQKmBAybOFptgwMn8/He++9h6amJmzcuBGxsbFcGZi+haeBO2VgTp8+jbi4ONjb22P79u1obGyc1GVgNFVRUQFPT89Bl+Krqqq408QpKSmIiIjgWtLx+Xw88cQTaGhoQFJS0qC1HrVt2bJlePTRRxEREYGenh787W9/Q3Z2NvLy8mBpaTngY5KTk7FkyRIUFhaqnC53cnKi3xlCtIkhhEx6GzZsYAD0+3P58mXuPhUVFUx0dDRjbm7O2NvbM1u3bmWkUin3/bKysn6P6erqYrZu3crY29sz5ubmzMqVK5nKysoxfGaTj1KpZKqrq5mPPvqIWbJkCWNoaMjY2toyfn5+TGNj47iOTSQSMQCYK1euDHqfy5cvMwCY5ubmsRsYIZMQzQASQvQCO/MzkP/9738qXU5627hxIw4dOqRy27x583Djxg2tj3GiYRgGYrEYr776Kl5++WUEBgaO63iKi4sxY8YMZGdnDzoW9vfA29sbUqkUs2fPxs6dOwf93SCEaIYCICFEL8hkMjQ1Nanc9tprr+HChQsoLS0d9HDDxo0bIRQKcfDgQe42ExMT2Nvb63S8RD0Mw0AgEKC5uZnbYjCQwsJCXL16FWFhYeju7sbXX3+Nzz77DMnJyVi0aNEYjpiQuxudAiaE6AUTExO4uLhwX8vlcpw8eRJbt24dtmyMqampymOJ/tm6dStu3bqFa9euDXm/mTNnYubMmdzX8+fPR1VVFd5//30KgIRoEZ0CJoTopZMnT6KhoQEbN24c9r7JyclwdnaGn58fNm3aBJFIpPsBkhF74YUXcPLkSVy+fBnu7u5qP/7ee+9FUVGRDkZGyORFS8CEEL20YsUKAMDZs2eHvN+xY8cwZcoUeHl5oaysDK+99hp6enqQlpYGU1PTsRgqGQTDMHjhhReQmJiI5ORkzJgxQ6PrPPzww2hqasKlS5e0PEJCJi9aAiaE6NSuXbuwe/fuIe9z8+ZNhIeHc19XV1fjp59+wvfffz/s9devX8/9d2BgIMLDw+Hl5YUzZ85gzZo1mg+cjNrzzz+Pb775Bj/88AOsrKy4FoA2NjYwNzcHAOzYsQM1NTU4fPgwAODAgQPw9vZGQEAAZDIZjhw5gvj4eMTHx4/b8yDkbkQBkBCiU5p0JDl48CAcHBwQExOj9s9zdXWFl5cXLRnqgU8//RQAEBkZqXL7wYMHuaX9uro6VFZWct+TyWTYvn07ampqYG5ujoCAAJw5c4abESaEaActARNC9ArDMPD19cWaNWvw/vvvq/34xsZGTJ06FV988QWefPJJHYyQEEImPjoEQgjRK5cuXUJZWRl+//vfD/h9f39/JCYmAgAkEgm2b9+OlJQUlJeXIzk5GatWrYKjoyNWr149lsMmhJAJhZaACSF65auvvsKCBQswa9asAb9fWFiI1tZWAIChoSGys7Nx+PBhtLS0wNXVFUuWLMGxY8dgZWU1lsMmhJAJhZaACSGTmre3NyoqKlRue/XVV7Fv375BH8MwDHbv3o0vvvgCzc3NmDdvHv71r38hICBA18MlhBCtoCVgQsik9+abb6Kuro77s3PnziHv/+677+If//gHPv74Y9y8eRMuLi546KGH0N7ePkYjJoSQ0aEASAiZ9KysrODi4sL9mTJlyqD3ZRgGBw4cwN/+9jesWbMGgYGBOHToEDo7O/HNN9+M4agJIURzFAAJIZPe/v374eDggODgYOzduxcymWzQ+5aVlaG+vh5Lly7lbjM1NcXixYtx/fr1sRguIYSMGgVAQsik9qc//QnfffcdLl++jK1bt+LAgQN47rnnBr0/W8yYz+er3M7n87nv3W0++eQT+Pj4wMzMDGFhYfj555+HvP+VK1cQFhYGMzMzTJs2DZ999tkYjZQQMlIUAAkhd51du3aBx+MN+Sc1NRUA8OKLL2Lx4sWYO3cunnnmGXz22Wf46quv0NjYOOTP4PF4Kl8zDNPvtrvBsWPHsG3bNvztb39DRkYGFi5ciOXLl6sUb+6trKwMK1aswMKFC5GRkYG//vWv+OMf/0idPAjRM3QKmBBy12loaEBDQ8OQ9/H29oaZmVm/22tqauDu7o4bN25g3rx5/b5fWloKX19fpKenIyQkhLtdIBDA1tYWhw4dGv0T0CPz5s1DaGgo19UDAGbNmoXY2Fi88847/e7/6quv4uTJk8jPz+du27JlC7KyspCSkjImYyaEDI/qABJC7jqOjo5wdHTU6LEZGRkA7rSUG4iPjw9cXFxw/vx5LgDKZDJcuXIF+/fv12zAekomkyEtLQ1/+ctfVG5funTpoPsdU1JSVPZHAkBUVBS++uoryOVyGBsb62y8hJCRoyVgQsiklZKSgg8++ACZmZkoKyvD999/j82bNyMmJgaenp7c/Xp3H+HxeNi2bRvefvttJCYmIicnBxs3boSFhQUef/zx8XoqOtHQ0ACFQqHWfsf6+voB79/T0zPsrCwhZOzQDCAhZNIyNTXFsWPHsHv3bnR3d8PLywubNm3CK6+8onK/3t1HAOCVV15BV1cXnnvuOa4QdFJS0l3bfUTd/Y4D3X+g2wkh44cCICFk0goNDcWNGzeGvV/frdI8Hg+7du3Crl27NPq55eXleOutt3Dp0iXU19fDzc0Nv/3tb/G3v/0NJiYmgz5u48aN/fYYzps3b0TPQROOjo4wNDTsN9snEon6zfKxXFxcBry/kZERHBwcdDJOQoj6KAASQsgYKygogFKpxOeff47p06cjJycHmzZtQkdHB95///0hH7ts2TIcPHiQ+3qowDhaJiYmCAsLw/nz57F69Wru9vPnz0MgEAz4mPnz5+PUqVMqtyUlJSE8PJz2/xGiR+gUMCGE6IH33nsPn376KUpLSwe9z8aNG9HS0oITJ06M2biOHTuG3/3ud/jss88wf/58fPHFF/jyyy+Rm5sLLy8v7NixAzU1NTh8+DCAO2VgAgMDsXnzZmzatAkpKSnYsmULvv32W6xdu3bMxk0IGRrNABJCiB5obW2Fvb39sPdLTk6Gs7MzbG1tsXjxYuzduxfOzs46G9f69evR2NjI9UsODAzE2bNn4eXlBQCoq6tTqQno4+ODs2fP4sUXX8S//vUvuLm54cMPP6TwR4ieoRlAQggZZyUlJQgNDcXf//53PPPMM4Pe79ixY5gyZQq8vLxQVlaG1157DT09PUhLS4OpqekYjpgQMtFRACSEEC3ZtWsXdu/ePeR9bt68ifDwcO7r2tpaLF68GIsXL8a///1vtX5eXV0dvLy88N1332HNmjUajZkQMjnREjAhhGjJ1q1b8eijjw55H29vb+6/a2trsWTJEm5vnbpcXV3h5eWFoqIitR9LCJncKAASQoiWqNOBpKamBkuWLEFYWBgOHjwIAwP16/I3Njaiqqpq0K4lhBAyGOoEQgghY6y2thaRkZHw8PDA+++/D7FYjPr6+n7183p3IJFIJNi+fTtSUlJQXl6O5ORkrFq1Co6OjiolWgghZCRoBpAQQsZYUlISiouLUVxcDHd3d5Xv9d6W3bsDiaGhIbKzs3H48GG0tLTA1dUVS5YswbFjx+7aDiSEEN2hQyCEEEIIIZMMLQETQgghhEwyFAAJIYQQQiYZCoCEEEIIIZMMBUBCCCGEkEmGAiAhhBBCyCRDAZAQQgghZJKhAEgIIYQQMslQACSEEEIImWQoABJCCCGETDIUAAkhhBBCJhkKgIQQQgghkwwFQEIIIYSQSYYCICGEEELIJEMBkBBCCCFkkqEASAghhBAyyVAAJIQQQgiZZCgAEkIIIYRMMhQACSGEEEImGQqAhBBCCCGTDAVAQgghhJBJhgIgIYQQQsgkQwGQEEIIIWSSoQBICCGEEDLJUAAkhBBCCJlkKAASQgghhEwyFAAJIYQQQiYZCoCEEEIIIZMMBUBCCCGEkEmGAiAhhBBCyCRDAZAQQgghZJKhAEgIIYQQMslQACSEEEIImWQoABJCCCGETDIUAAkhhBBCJhkKgIQQQgghkwwFQEIIIYSQSYYCICGEEELIJEMBkBBCCCFkkqEASAghhBAyyVAAJIQQQgiZZCgAEkIIIYRMMhQACSGEEEImGQqAhBBCCCGTDAVAQgghhJBJhgIgIYQQQsgk8/8A+HVvwye/9Q4AAAAASUVORK5CYII=' width=640.0/>\n",
       "            </div>\n",
       "        "
      ],
      "text/plain": [
       "Canvas(toolbar=Toolbar(toolitems=[('Home', 'Reset original view', 'home', 'home'), ('Back', 'Back to previous …"
      ]
     },
     "metadata": {},
     "output_type": "display_data"
    }
   ],
   "source": [
    "%matplotlib widget\n",
    "ax = plt.figure().add_subplot(projection='3d')\n",
    "dist = ((v3.pos-v3.pos[i])**2).sum(axis=1)**0.5\n",
    "ax.plot(*v3.pos[dist<9].T,'.k',markersize=1)\n",
    "ax.plot(*v3.pos[i],'*')\n",
    "ax.plot(*v3.pos[v3.get_ordered_neighbors(v3.indices[i])].T,'*')\n",
    "ax.set_aspect('equal')\n",
    "ax.set_title(f'{i}')"
   ]
  },
  {
   "cell_type": "code",
   "execution_count": null,
   "id": "19d50f9f-703e-4b8c-a24c-38f0785a3665",
   "metadata": {},
   "outputs": [],
   "source": []
  }
 ],
 "metadata": {
  "kernelspec": {
   "display_name": "Python 3 (ipykernel)",
   "language": "python",
   "name": "python3"
  },
  "language_info": {
   "codemirror_mode": {
    "name": "ipython",
    "version": 3
   },
   "file_extension": ".py",
   "mimetype": "text/x-python",
   "name": "python",
   "nbconvert_exporter": "python",
   "pygments_lexer": "ipython3",
   "version": "3.10.8"
  }
 },
 "nbformat": 4,
 "nbformat_minor": 5
}
