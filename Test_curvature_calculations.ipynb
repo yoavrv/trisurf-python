{
 "cells": [
  {
   "cell_type": "markdown",
   "id": "c33d1794-e97e-47fc-879d-e7dc9580223d",
   "metadata": {},
   "source": [
    "# Test curvature calculations #"
   ]
  },
  {
   "cell_type": "code",
   "execution_count": 1,
   "id": "b5a74486-f5ec-4d29-9da5-408cdde03464",
   "metadata": {},
   "outputs": [],
   "source": [
    "import subprocess, shutil, datetime\n",
    "from pathlib import Path\n",
    "\n",
    "import numpy as np\n",
    "import pandas as pd\n",
    "import matplotlib.pyplot as plt\n",
    "from mpl_toolkits.mplot3d.art3d import Poly3DCollection\n",
    "\n",
    "import vtu\n",
    "from vtu import PyVtu\n",
    "from ts_auto_wrapper import TSWrapper"
   ]
  },
  {
   "cell_type": "code",
   "execution_count": 2,
   "id": "2022a678-1936-4cae-975f-7fc4ab89e936",
   "metadata": {},
   "outputs": [],
   "source": [
    "# ts=TSWrapper(Path(\"/opt/workspace/msc_project/cluster-trisurf\"))\n",
    "# trisurf_test = Path('/opt/workspace/msc_project/simulations'\n",
    "#                     '/QA_tests/cluster_version/rework')"
   ]
  },
  {
   "cell_type": "code",
   "execution_count": 3,
   "id": "f10de5ef-843f-4d39-acf7-3a93909b14f3",
   "metadata": {},
   "outputs": [],
   "source": [
    "ts=TSWrapper(Path(\"../cluster-trisurf\").resolve())\n",
    "trisurf_test = Path('../sim/test').resolve()"
   ]
  },
  {
   "cell_type": "code",
   "execution_count": 4,
   "id": "80927d65-4320-45b1-bb07-add3c388ae80",
   "metadata": {},
   "outputs": [],
   "source": [
    "# children = lambda path: list(sorted(path.iterdir()))\n",
    "# children(trisurf_test)"
   ]
  },
  {
   "cell_type": "code",
   "execution_count": 5,
   "id": "0a0779cd-9591-46ac-81ab-492f8c48fa7a",
   "metadata": {},
   "outputs": [],
   "source": [
    "test_folder = trisurf_test/'attempt1'\n",
    "tape=None\n",
    "extra_args = []\n",
    "destroy_timesteps_at_end=False # destroy all timesteps after the test\n",
    "timeout = 1000 # seconds to timeout for each `trisurf` test"
   ]
  },
  {
   "cell_type": "code",
   "execution_count": 6,
   "id": "6a373cb1-d06d-421d-a478-6396edcca37d",
   "metadata": {},
   "outputs": [],
   "source": [
    "tape=\"\"\"In next cell (hidden)\"\"\""
   ]
  },
  {
   "cell_type": "code",
   "execution_count": 7,
   "id": "d766e05e-0114-4386-9881-01f27765823d",
   "metadata": {
    "jupyter": {
     "source_hidden": true
    },
    "tags": []
   },
   "outputs": [],
   "source": [
    "tape = \"\"\"\n",
    "##################\n",
    "## Trisurf Tape ##\n",
    "##################\n",
    "# a control file for the trisurf simulations\n",
    "# $ are program control, * are initialization only\n",
    "\n",
    "####### Vesicle definitions ###########\n",
    "# * nshell is a number of divisions of dipyramid\n",
    "nshell=10\n",
    "# $ dmax is the max. bond length (in units l_min)\n",
    "dmax=1.7\n",
    "# $ dmin_interspecies in the min. dist. between different vertex species (in units l_min)\n",
    "dmin_interspecies=1.2\n",
    "# $ max step size (in units l_min)\n",
    "stepsize=0.15\n",
    "# $ enforce triangles beign acute: 0 to allow obtuse triangles, 1 to forbid (int flag))\n",
    "prevent_obtuse=0\n",
    "\n",
    "#######  Cell definitions ############\n",
    "# $ partition space to cells of \n",
    "nxmax=100\n",
    "nymax=100\n",
    "nzmax=100\n",
    "\n",
    "\n",
    "####### Program Control ############\n",
    "# $ how many MC sweeps between subsequent records of states to disk. 200000 is reasonable value\n",
    "mcsweeps=1000\n",
    "# $ how many initial mcsweeps*inititer MC sweeps before recording to disk?\n",
    "inititer=0\n",
    "# $ how many records do you want on the disk iteration are there in a run?\n",
    "iterations=10\n",
    "\n",
    "\n",
    "# $ do not write \"ts_fprintf\" statements to stdout (for use in cluster)\n",
    "quiet=false\n",
    "\n",
    "# $ add debug fields to the vtu file (int flag). 0: no debug. 1: some. 2: all, 64: minimal\n",
    "debug_fields=1\n",
    "\n",
    "\n",
    "######-----------------------------#######\n",
    "###### Memrbane and CMC properties #######\n",
    "######-----------------------------#######\n",
    "\n",
    "# * bending rigidity of the membrane (in units kT)\n",
    "xk0=20\n",
    "# * xk2: Gaussian bending modulus\n",
    "xk2=-20\n",
    "\n",
    "# Each vertex is associated with a type (8 bit flag):\n",
    "#   0x01 : bonding vertex              0x02 : active force vertex\n",
    "#   0x04 : adhesive vertex             0x08 : anisotropic vertex\n",
    "#   0x10 : (reserved for future use)   0x20 : vicsek vertex (correlated force)\n",
    "#   0x40 : edge vertex (not used)      0x80 : ghost vertex (unnmoving) (must be ==type!)\n",
    "#   Bare membrane vertices (default) are adhesive 0x04 (4), \n",
    "# CMC vertices are bonding, active, anisotropic, and correlated 0x2F (47)\n",
    "# * number of CMC vertices (integer)\n",
    "number_of_vertices_with_c0=50\n",
    "# * c0/2 is spontaneous curvature. c0 is used as (c1+c1-c0)^2 in energy term (float)\n",
    "c0=0.5\n",
    "# * d0/2 is spontaneous deviator in mismatch (c1-c2)d0cos(omega). d0 is used in shape tensor only (float)\n",
    "d0=0.5\n",
    "\n",
    "# $ curvature model (8 bit flag)\n",
    "#   0x01 : use new method                    0x02 : apply methods to anisotropic only (type is 0x08) \n",
    "#   0x04 : debug: calculate both methods     0x08 : use in-progress methods\n",
    "#   0x10 : no director MC step               0x20 : calculate vertex normal from angles\n",
    "#   0x40 : reserved                          0x80 : reserved\n",
    "# 0: old method. 4: debug, save everything but use energy from old method. 17: parallel transport of directors only\n",
    "curvature_model=37\n",
    "# $ limit sharp edges by imposing the dihedral angle between triangle obeys cos(phi_ab) larger than X.\n",
    "# 1 means no limit (0 degrees), -1 means perfectly flat, 0 means limited up to 90 degrees. (float)\n",
    "max_dihedral_angle_cosine=-0.1\n",
    "\n",
    "\n",
    "# $ bond model- vertex of bonding type bind with mean(w). (flag)\n",
    "# 0x1: require type identity.   0x2: nematic interaction between anisotropic vtx\n",
    "bond_model=0\n",
    "# * energy of bond between bonding vertices (float, positive value for attraction)\n",
    "w=1.0\n",
    "\n",
    "# $ force_model- force on active type vertices. (integer flag)\n",
    "#   0: force in normal direction\n",
    "#   1: F proportional nonactive neigh, 2: F proportional nonconcave neigh\n",
    "#   3: F=0 if any neigh is concave\n",
    "#   16: Vicsek, direction aligend with connected neighbors up to radius,\n",
    "#   17: 16, with weight 1/neighbor accoding to distance\n",
    "force_model=0\n",
    "# * direct force on active vertices (float)\n",
    "F=1.0\n",
    "# $ Vicsek: force direction is sum of own normal + (nearest neighbor normals * vicsek_strength)\n",
    "# interaction strength parameter: Vicsek: weight of neighbors (float)\n",
    "vicsek_strength=0.1\n",
    "# $ interaction radius parameter: Vicsek: max. neighbor distance (integer)\n",
    "vicsek_radius=4.0\n",
    "\n",
    "\n",
    "######---------------------#######\n",
    "###### Adhesion to surface #######\n",
    "######---------------------#######\n",
    "\n",
    "# $ Adhesion model (8 bit flag)\n",
    "# energy of any adhesive vertex dx distance from the adhesion geometry \n",
    "# as long as distance is less than the cutoff (dx0)\n",
    "#   0x01: step potential ad_w*(dx/dx0), \n",
    "#   0x02: parabolic ad_w*(1-(dx/dx0)^2)\n",
    "#   0x04: y-anisotropy factor *exp(-y/scale)\n",
    "adhesion_model=0\n",
    "# $ type of adhesion geometry do you want (integer flag)\n",
    "#   1: plane surface               f(r)=z-z0\n",
    "#   2: spherical surface           f(r)=(x**2 + y**2 + (z-z0)**2)-r**2\n",
    "#   3: cylindrical surface         f(r)=((z-z0)**2 + x**2)-r**2\n",
    "#   4: plane-x sinosoidal surface    f(r)=z-(z0+rcos(x))\n",
    "#   5: plane surface with adhesion spots  E*=factor*([x/scale-0.5]**2+[y/scale - 0.5]**2 less than r**2)\n",
    "#   6: plane-xy sinosoidal surface    f(r)=z-(z0+rcos(x)cos(y))\n",
    "adhesion_geometry=0\n",
    "# $ potential range (float in lmin)\n",
    "adhesion_cutoff=1\n",
    "# $ position of the adhesive surface (float)\n",
    "# bipyramid topmost is approx. z_max = 0.630877*nshell, so -z_max is a good guess\n",
    "adhesion_z=-5\n",
    "# $ radius of the sphere or cylinder.\n",
    "adhesion_radius=5.0\n",
    "# $ for sinosoidal, adhesion spot lattice, and y anisotropy (float)\n",
    "adhesion_scale=5.0\n",
    "# $ factor of adhesion on spots (float)\n",
    "adhesion_factor=2.0\n",
    "# * adhesion energy per vertex (float)\n",
    "adhesion_strength=1.0\n",
    "\n",
    "# $ Allow motion of center mass: default (0) reset vesicle to 0,0,0 every few time steps (bool) \n",
    "allow_center_mass_movement=0\n",
    "# $ In active case, we need to apply an external force in the z-direction for overall force balance along z-direction, choose 1 if you want this, 0 otherwise (bool)\n",
    "force_balance_along_z_axis=0\n",
    "\n",
    "\n",
    "######-------------------------------------------#######\n",
    "###### Pressure/volume/area/tension calculations #######\n",
    "######-------------------------------------------#######\n",
    "\n",
    "# all of these are program control (# $)\n",
    "\n",
    "# $ Volume constraint/energy (integer flag) \n",
    "#   0: disable constant volume\n",
    "#   1: enable with additional vertex move {broken!}\n",
    "#   2: enable with epsvol range\n",
    "#   3: enable parabolic potential (xkV0/2V0 (V-V0)^2)\n",
    "#   4: enable reduced volume parabolic potential (xkV0/2 (V_red_eq-V/Vsph)^2)\n",
    "volume_switch=0\n",
    "# $ Rest volume. Set V0 less than 1 to determine volume from initial conditions (see constant_volume tag in .vtu files) (float)\n",
    "V0=0\n",
    "# $ volume tolerance fir constant volume mode\n",
    "constvolprecision=1e-14\n",
    "# $ volume modulus (float)\n",
    "# needs some thinking: reasonable values depends on number of vertices N!\n",
    "# reduced volume scaling is between 1/(N Sqrt(N)) and 1/N\n",
    "xkV0=1.0\n",
    "# $ reduce volume at equilibrium (between 0 and 1) (float)\n",
    "Vr=1.0\n",
    "\n",
    "# $ Calculate p*dV energy contribution (bool)\n",
    "pressure_switch=0\n",
    "# $ pressure difference: p_inside - p_outside (in units kT/l_min^3):\n",
    "pressure=0.0\n",
    "\n",
    "# $ Area constraint/energy (integer flag) \n",
    "#   0: disable constant area, \n",
    "#   1: stretching of triangles\n",
    "#   2: enable constant area with epsarea\n",
    "#   3: enable parabolic potential (xkA0/2A0 (A-A0)^2)\n",
    "area_switch=0\n",
    "# $ Rest area, A0 less than 1 to determine area from initial conditions (see constant_area tag in .vtu files)  (float)\n",
    "A0=0\n",
    "# $ Stretching modulus (float)\n",
    "xkA0=1.0\n",
    "\n",
    "\n",
    "######------######\n",
    "###### misc ######\n",
    "######------######\n",
    "\n",
    "####### Nucleus (inside the vesicle) ###########\n",
    "\n",
    "# $ Radius and $ position of an impenetrable hard sphere inside the vesicle (float)\n",
    "R_nucleus=0\n",
    "R_nucleusX=0\n",
    "R_nucleusY=0\n",
    "R_nucleusZ=0\n",
    "\n",
    "###### Plane confinement ############\n",
    "\n",
    "# $ plane confinement; two plates between the substrate-vesicle system, upper plate in moving downwards untill plan_d, lower plate is stationary\n",
    "plane_confinement_switch=0\n",
    "# $ final plane distance (float in lmin)\n",
    "plane_d=10\n",
    "# $ plane to vesicle repulsion force while closing\n",
    "plane_F=1.0\n",
    "\n",
    "###### Spherical harmonics ###########\n",
    "\n",
    "# $ If 0 then spherical harmonics are not calculated at all. (integer)\n",
    "spherical_harmonics_coefficients=0\n",
    "\n",
    "\n",
    "#####----------------------------------######\n",
    "##### Polymer and filament decorations ######\n",
    "#####----------------------------------######\n",
    "\n",
    "####### Polymer (brush) definitions ###########\n",
    "# * npoly is a number of polymers attached to npoly distinct vertices on vesicle\n",
    "npoly=0\n",
    "# * nmono is a number of monomers in each polymer\n",
    "nmono=20\n",
    "# $ Spring constant between monomers of the polymer\n",
    "k_spring=800\n",
    "# * set to 1 if half of the polymeres are inside the vesicle\n",
    "internal_poly=0\n",
    "\n",
    "####### Filament (inside the vesicle) definitions ###########\n",
    "# * nfil is a number of filaments inside the vesicle\n",
    "nfil=0\n",
    "# * nfono is a number of monomers in each filament\n",
    "nfono=3\n",
    "# $ Persistence lenght of the filaments (in units l_min)\n",
    "xi=100\n",
    "\n",
    "##### no multiprocessing #######\n",
    "\"\"\""
   ]
  },
  {
   "cell_type": "markdown",
   "id": "85eeaf3a-4f8c-4d20-aa09-86300b315369",
   "metadata": {
    "tags": []
   },
   "source": [
    "### Make a new folder if there isn't one ###"
   ]
  },
  {
   "cell_type": "code",
   "execution_count": 8,
   "id": "3a474305-68d7-4c6e-9b0f-a14439a27de7",
   "metadata": {},
   "outputs": [],
   "source": [
    "new_folder=None\n",
    "if not test_folder:\n",
    "    # make up some appropriate folder\n",
    "    now = datetime.datetime.now()\n",
    "    ret = subprocess.run(['git', 'status'],cwd=ts.path_to_trisurf,capture_output=True)\n",
    "    branch = ret.stdout.decode().partition('On branch ')[-1].splitlines()[0].strip()\n",
    "    new_folder = f'{now.year:04}_{now.month:02}_{now.day:02}_{branch}'\n",
    "    test_folder = trisurf_test/new_folder\n",
    "new_folder"
   ]
  },
  {
   "cell_type": "code",
   "execution_count": 9,
   "id": "ceb7d909-11d1-48fa-b455-9d257428e07b",
   "metadata": {},
   "outputs": [],
   "source": [
    "if not test_folder.exists():\n",
    "    test_folder.mkdir()\n",
    "    test_folder.joinpath('test_results').mkdir()\n",
    "elif new_folder is not None:\n",
    "    raise ValueError(f'folder {test_folder} for today already exists: Rename or delete to run test')"
   ]
  },
  {
   "cell_type": "markdown",
   "id": "4a5ddcda-4eea-4e29-aad5-c9ec1dd71515",
   "metadata": {},
   "source": [
    "### copy the tape to the new folder ###"
   ]
  },
  {
   "cell_type": "code",
   "execution_count": 10,
   "id": "338f11bb-a492-40b7-b642-0d1c11fbb249",
   "metadata": {},
   "outputs": [],
   "source": [
    "if tape is None:\n",
    "    shutil.copy(ts.path_to_trisurf/\"src/tape\",test_folder/\"tape\")\n",
    "if type(tape) is str:\n",
    "    with open(test_folder/\"tape\",'w') as f: f.write(tape);\n",
    "else:\n",
    "    shutil.copy(tape,test_folder/\"tape\")"
   ]
  },
  {
   "cell_type": "markdown",
   "id": "d4aa1cd5-336d-451a-bacc-9bb32f36b66a",
   "metadata": {},
   "source": [
    "## Check force from tape ##"
   ]
  },
  {
   "cell_type": "code",
   "execution_count": 11,
   "id": "3fafc564-702d-46e0-b9cf-5e8c3180c612",
   "metadata": {
    "scrolled": true,
    "tags": []
   },
   "outputs": [],
   "source": [
    "# !cd {ts.path_to_trisurf} && make clean && make && cd -;\n",
    "# print('done');"
   ]
  },
  {
   "cell_type": "code",
   "execution_count": 12,
   "id": "a0731a64-0c2c-4eeb-8c22-1294ed5a2880",
   "metadata": {
    "tags": []
   },
   "outputs": [],
   "source": [
    "ret = subprocess.run([ts.path_to_trisurf/\"src/trisurf\", \"--force-from-tape\", \"-c iterations=10,random_seed=1687249186,debug=2\", *extra_args],\n",
    "                     cwd=test_folder, timeout=timeout, capture_output=True)"
   ]
  },
  {
   "cell_type": "code",
   "execution_count": 13,
   "id": "c13da923-5016-42a8-b884-9457b9680947",
   "metadata": {
    "scrolled": true,
    "tags": []
   },
   "outputs": [
    {
     "data": {
      "text/plain": [
       "CompletedProcess(args=[PosixPath('/home/toriy/yoav/cluster-trisurf/src/trisurf'), '--force-from-tape', '-c iterations=10,random_seed=1687249186,debug=2'], returncode=0, stdout=b'[2023-07-02 00:26:24] TRISURF-NG v. 13597e6, compiled on: Jul  1 2023 02:04:58.\\n[2023-07-02 00:26:24] Programming done by: Samo Penic and Miha Fosnaric\\n[2023-07-02 00:26:24] Released under terms of GPLv3\\n[2023-07-02 00:26:24] Starting program...\\n\\n[2023-07-02 00:26:24] ************************************************\\n[2023-07-02 00:26:24] **** Generating initial geometry from tape *****\\n[2023-07-02 00:26:24] ************************************************\\n\\n[2023-07-02 00:26:24] Starting initial_distribution on vesicle with 10 shells!...\\n[2023-07-02 00:26:24] initial_distribution finished!\\n[2023-07-02 00:26:24] simulation seed = 1687249186\\n[2023-07-02 00:26:24] Setting volume V0=1041.99378875998718286\\n[2023-07-02 00:26:24] Setting area A0=623.53829072480641571\\n[2023-07-02 00:26:32] Done 1 out of 10 iterations (x 1000 MC sweeps).\\n[2023-07-02 00:26:40] Done 2 out of 10 iterations (x 1000 MC sweeps).\\n[2023-07-02 00:26:48] Done 3 out of 10 iterations (x 1000 MC sweeps).\\n[2023-07-02 00:26:58] Done 4 out of 10 iterations (x 1000 MC sweeps).\\n[2023-07-02 00:27:05] Done 5 out of 10 iterations (x 1000 MC sweeps).\\n[2023-07-02 00:27:15] Done 6 out of 10 iterations (x 1000 MC sweeps).\\n[2023-07-02 00:27:24] Done 7 out of 10 iterations (x 1000 MC sweeps).\\n[2023-07-02 00:27:29] Done 8 out of 10 iterations (x 1000 MC sweeps).\\n[2023-07-02 00:27:34] Done 9 out of 10 iterations (x 1000 MC sweeps).\\n[2023-07-02 00:27:38] Done 10 out of 10 iterations (x 1000 MC sweeps).\\n', stderr=b'')"
      ]
     },
     "execution_count": 13,
     "metadata": {},
     "output_type": "execute_result"
    }
   ],
   "source": [
    "ret"
   ]
  },
  {
   "cell_type": "code",
   "execution_count": 14,
   "id": "56a487f6-79af-460d-8cb7-b3d9379b2676",
   "metadata": {
    "scrolled": true,
    "tags": []
   },
   "outputs": [
    {
     "name": "stdout",
     "output_type": "stream",
     "text": [
      "[2023-07-02 00:26:24] TRISURF-NG v. 13597e6, compiled on: Jul  1 2023 02:04:58.\n",
      "[2023-07-02 00:26:24] Programming done by: Samo Penic and Miha Fosnaric\n",
      "[2023-07-02 00:26:24] Released under terms of GPLv3\n",
      "[2023-07-02 00:26:24] Starting program...\n",
      "\n",
      "[2023-07-02 00:26:24] ************************************************\n",
      "[2023-07-02 00:26:24] **** Generating initial geometry from tape *****\n",
      "[2023-07-02 00:26:24] ************************************************\n",
      "\n",
      "[2023-07-02 00:26:24] Starting initial_distribution on vesicle with 10 shells!...\n",
      "[2023-07-02 00:26:24] initial_distribution finished!\n",
      "[2023-07-02 00:26:24] simulation seed = 1687249186\n",
      "[2023-07-02 00:26:24] Setting volume V0=1041.99378875998718286\n",
      "[2023-07-02 00:26:24] Setting area A0=623.53829072480641571\n",
      "[2023-07-02 00:26:32] Done 1 out of 10 iterations (x 1000 MC sweeps).\n",
      "[2023-07-02 00:26:40] Done 2 out of 10 iterations (x 1000 MC sweeps).\n",
      "[2023-07-02 00:26:48] Done 3 out of 10 iterations (x 1000 MC sweeps).\n",
      "[2023-07-02 00:26:58] Done 4 out of 10 iterations (x 1000 MC sweeps).\n",
      "[2023-07-02 00:27:05] Done 5 out of 10 iterations (x 1000 MC sweeps).\n",
      "[2023-07-02 00:27:15] Done 6 out of 10 iterations (x 1000 MC sweeps).\n",
      "[2023-07-02 00:27:24] Done 7 out of 10 iterations (x 1000 MC sweeps).\n",
      "[2023-07-02 00:27:29] Done 8 out of 10 iterations (x 1000 MC sweeps).\n",
      "[2023-07-02 00:27:34] Done 9 out of 10 iterations (x 1000 MC sweeps).\n",
      "[2023-07-02 00:27:38] Done 10 out of 10 iterations (x 1000 MC sweeps).\n",
      "\n"
     ]
    }
   ],
   "source": [
    "print(ret.stdout.decode())"
   ]
  },
  {
   "cell_type": "code",
   "execution_count": 15,
   "id": "56d36c82-0b20-42a0-a817-7f8605833da3",
   "metadata": {},
   "outputs": [],
   "source": [
    "# ret = subprocess.run([ts.path_to_trisurf/\"src/trisurf\", '-c iterations=50',*extra_args],\n",
    "#                      cwd=test_folder, timeout=10*timeout, capture_output=True)"
   ]
  },
  {
   "cell_type": "code",
   "execution_count": 16,
   "id": "31a9ec3b-7e3c-42b3-9e77-6cf183de4155",
   "metadata": {},
   "outputs": [],
   "source": [
    "# print(\"badness: \",np.array((0.883510,-0.395702,0.250660))@np.array((0.552226,-0.320245,11.029881)))\n",
    "# vesicle=ts.parseDump(list(sorted(test_folder.glob('timestep*')))[0])\n",
    "# ts.command_line_args.dump_fullfilename=str(test_folder/'dump.binary_emergency.bin').encode()\n",
    "# vesicle2=ts.restore_state(ts.pointer(ts.ts_int(9999)),vesicle.contents.tape)"
   ]
  },
  {
   "cell_type": "code",
   "execution_count": 17,
   "id": "13f9c8c3-7fdd-4fd9-b498-4b45620c1626",
   "metadata": {
    "tags": []
   },
   "outputs": [],
   "source": [
    "# v11 = PyVtu(test_folder/\"timestep_000000.vtu\")\n",
    "# v22 = PyVtu(test_folder/\"compare2/timestep_000000.vtu\")\n",
    "# (v11.mean_curvature-v22.mean_curvature).max()"
   ]
  },
  {
   "cell_type": "markdown",
   "id": "ccaef5d5-a280-4826-817d-5cae7200f44a",
   "metadata": {},
   "source": [
    "# Test the curvatures of the new methods: check bad isotropic curvature"
   ]
  },
  {
   "cell_type": "markdown",
   "id": "5089ac59-d5cb-4b2f-a12b-f65d506f058f",
   "metadata": {},
   "source": [
    "Load the file"
   ]
  },
  {
   "cell_type": "code",
   "execution_count": 18,
   "id": "d1007a39-5ea1-4448-905c-836f3a415ef5",
   "metadata": {},
   "outputs": [],
   "source": [
    "fileloc = list(sorted(test_folder.glob('timestep*')))[-1]#[-1]\n",
    "v1 = PyVtu(fileloc)"
   ]
  },
  {
   "cell_type": "code",
   "execution_count": 19,
   "id": "e1e1d358-9e99-40a9-a933-9266ee81534f",
   "metadata": {},
   "outputs": [],
   "source": [
    "vesicle0 = ts.parseDump(v1.path)\n",
    "ts.command_line_args.dump_fullfilename=str(Path(v1.path).parent/\"dump.bin\").encode('ascii')\n",
    "vesicle = ts.restore_state(ts.ts_int(0),vesicle0.contents.tape)"
   ]
  },
  {
   "cell_type": "markdown",
   "id": "ba4d87f4-2a7a-4d36-9512-1d6bea50e5e6",
   "metadata": {},
   "source": [
    "Show the difference"
   ]
  },
  {
   "cell_type": "code",
   "execution_count": 20,
   "id": "2389422c-15fc-4917-b01c-094f9444a460",
   "metadata": {},
   "outputs": [
    {
     "data": {
      "text/html": [
       "<div>\n",
       "<style scoped>\n",
       "    .dataframe tbody tr th:only-of-type {\n",
       "        vertical-align: middle;\n",
       "    }\n",
       "\n",
       "    .dataframe tbody tr th {\n",
       "        vertical-align: top;\n",
       "    }\n",
       "\n",
       "    .dataframe thead th {\n",
       "        text-align: right;\n",
       "    }\n",
       "</style>\n",
       "<table border=\"1\" class=\"dataframe\">\n",
       "  <thead>\n",
       "    <tr style=\"text-align: right;\">\n",
       "      <th></th>\n",
       "      <th>Mean curvature difference</th>\n",
       "      <th>Gaussian curvature difference</th>\n",
       "    </tr>\n",
       "  </thead>\n",
       "  <tbody>\n",
       "    <tr>\n",
       "      <th>count</th>\n",
       "      <td>5.020000e+02</td>\n",
       "      <td>5.020000e+02</td>\n",
       "    </tr>\n",
       "    <tr>\n",
       "      <th>mean</th>\n",
       "      <td>-1.208085e-03</td>\n",
       "      <td>-1.524457e-19</td>\n",
       "    </tr>\n",
       "    <tr>\n",
       "      <th>std</th>\n",
       "      <td>6.107084e-03</td>\n",
       "      <td>1.544670e-17</td>\n",
       "    </tr>\n",
       "    <tr>\n",
       "      <th>min</th>\n",
       "      <td>-8.068296e-02</td>\n",
       "      <td>-6.938894e-17</td>\n",
       "    </tr>\n",
       "    <tr>\n",
       "      <th>50%</th>\n",
       "      <td>0.000000e+00</td>\n",
       "      <td>0.000000e+00</td>\n",
       "    </tr>\n",
       "    <tr>\n",
       "      <th>75%</th>\n",
       "      <td>0.000000e+00</td>\n",
       "      <td>3.469447e-18</td>\n",
       "    </tr>\n",
       "    <tr>\n",
       "      <th>90%</th>\n",
       "      <td>2.775558e-17</td>\n",
       "      <td>1.387779e-17</td>\n",
       "    </tr>\n",
       "    <tr>\n",
       "      <th>99.5%</th>\n",
       "      <td>5.551115e-17</td>\n",
       "      <td>5.551115e-17</td>\n",
       "    </tr>\n",
       "    <tr>\n",
       "      <th>max</th>\n",
       "      <td>1.110223e-16</td>\n",
       "      <td>1.110223e-16</td>\n",
       "    </tr>\n",
       "  </tbody>\n",
       "</table>\n",
       "</div>"
      ],
      "text/plain": [
       "       Mean curvature difference  Gaussian curvature difference\n",
       "count               5.020000e+02                   5.020000e+02\n",
       "mean               -1.208085e-03                  -1.524457e-19\n",
       "std                 6.107084e-03                   1.544670e-17\n",
       "min                -8.068296e-02                  -6.938894e-17\n",
       "50%                 0.000000e+00                   0.000000e+00\n",
       "75%                 0.000000e+00                   3.469447e-18\n",
       "90%                 2.775558e-17                   1.387779e-17\n",
       "99.5%               5.551115e-17                   5.551115e-17\n",
       "max                 1.110223e-16                   1.110223e-16"
      ]
     },
     "execution_count": 20,
     "metadata": {},
     "output_type": "execute_result"
    }
   ],
   "source": [
    "percentiles = [0.5,0.75,0.9,0.995]\n",
    "pd.DataFrame({\"Mean curvature difference\": v1.mean_curvature2-v1.mean_curvature,\"Gaussian curvature difference\": v1.gaussian_curvature2-v1.gaussian_curvature}).describe(percentiles=percentiles)"
   ]
  },
  {
   "cell_type": "code",
   "execution_count": 21,
   "id": "564c9c3a-0ca7-4565-a0b0-04e9a06faa5d",
   "metadata": {},
   "outputs": [
    {
     "data": {
      "text/plain": [
       "array([  0,   3,  11,  31,  34,  47,  67,  72, 119, 123, 127, 130, 156,\n",
       "       158, 171, 177, 194, 201, 205, 217, 231, 239, 243, 255, 262, 263,\n",
       "       272, 282, 292, 305, 333, 338, 361, 364, 379, 395, 411, 412, 425,\n",
       "       426, 447, 475, 476, 500])"
      ]
     },
     "execution_count": 21,
     "metadata": {},
     "output_type": "execute_result"
    }
   ],
   "source": [
    "problematic_values = (v1.mean_curvature2**2)<v1.gaussian_curvature2\n",
    "problematic_indices = np.where(problematic_values)[0]\n",
    "unproblematic_indices = np.where(~problematic_values)[0]\n",
    "problematic_indices"
   ]
  },
  {
   "cell_type": "markdown",
   "id": "07128689-238d-47ef-a43d-aacf60875358",
   "metadata": {},
   "source": [
    "## Here we can look at the difference between the uncorrected version and the corrected version"
   ]
  },
  {
   "cell_type": "code",
   "execution_count": 22,
   "id": "7241acf6-1fa4-46c4-8f75-ae13830a2c33",
   "metadata": {},
   "outputs": [
    {
     "data": {
      "text/plain": [
       "(108, 0)"
      ]
     },
     "execution_count": 22,
     "metadata": {},
     "output_type": "execute_result"
    }
   ],
   "source": [
    "i_good=np.where(~problematic_values)[0][100]\n",
    "i_bad=problematic_indices[0]\n",
    "i_good, i_bad"
   ]
  },
  {
   "cell_type": "markdown",
   "id": "448af3b2-c1ca-4bea-af07-b53b71f3ec15",
   "metadata": {},
   "source": [
    "Get the original and new versions of the shape operator"
   ]
  },
  {
   "cell_type": "code",
   "execution_count": 23,
   "id": "3807acf9-ae7b-4851-9f1c-96d55a130c6a",
   "metadata": {},
   "outputs": [],
   "source": [
    "vertices = list(ts.iter_xlist(vesicle))"
   ]
  },
  {
   "cell_type": "code",
   "execution_count": 24,
   "id": "b9dec41c-1520-4b7a-9e6d-329e1df55491",
   "metadata": {},
   "outputs": [],
   "source": [
    "Ses_org = np.array([[v.S[:2],v.S[2:]] for v in vertices])"
   ]
  },
  {
   "cell_type": "markdown",
   "id": "9cdab73e-104f-46f6-81c0-eb7b391b1d47",
   "metadata": {},
   "source": [
    "Get correction from c:"
   ]
  },
  {
   "cell_type": "code",
   "execution_count": 25,
   "id": "8a0f2a9e-ad0f-414e-8156-e804551d5c03",
   "metadata": {},
   "outputs": [
    {
     "name": "stdout",
     "output_type": "stream",
     "text": [
      "before correction, vertex 0 is [-0.15011865430142926, 0.02039090170319249, -0.29716447465767637]\n",
      "after correction, vertex 0 is [0.37610568340935974, 0.0, 0.37610568340935974]\n"
     ]
    }
   ],
   "source": [
    "Ses_c = [[ts.pointer(ts.ts_double(s)) for s in S[[0,0,1],[0,1,1]]] for S in Ses_org]\n",
    "print(\"before correction, vertex 0 is\", [x.contents.value for x in Ses_c[0]])\n",
    "for i in v1.indices:\n",
    "    ts.error_correction_scheme(Ses_c[i][0],Ses_c[i][1],Ses_c[i][2],v1.mean_curvature2[i],v1.gaussian_curvature2[i])\n",
    "print(\"after correction, vertex 0 is\", [x.contents.value for x in Ses_c[0]])"
   ]
  },
  {
   "cell_type": "markdown",
   "id": "fe85f3e2-e82c-4647-9c2e-5c522aa91b49",
   "metadata": {},
   "source": [
    "Get the corrected shape operator"
   ]
  },
  {
   "cell_type": "code",
   "execution_count": 26,
   "id": "3d65f882-7033-4892-aed7-befaf0ea9bd1",
   "metadata": {},
   "outputs": [],
   "source": [
    "Ses_corrected = np.array([[[S[0].contents.value,S[1].contents.value],\n",
    "                 [S[1].contents.value,S[2].contents.value],] for S in Ses_c])"
   ]
  },
  {
   "cell_type": "code",
   "execution_count": 27,
   "id": "5330c66c-8694-45ad-81c5-bf93e2525a9a",
   "metadata": {},
   "outputs": [
    {
     "data": {
      "text/plain": [
       "((array([-0.08456008, -0.09783918]),\n",
       "  array([[ 0.93403029,  0.35719382],\n",
       "         [-0.35719382,  0.93403029]])),\n",
       " (array([0.6417172 , 0.22724951]),\n",
       "  array([[ 0.93403029,  0.35719382],\n",
       "         [-0.35719382,  0.93403029]])))"
      ]
     },
     "execution_count": 27,
     "metadata": {},
     "output_type": "execute_result"
    }
   ],
   "source": [
    "np.linalg.eig(Ses_org[i_good]),np.linalg.eig(Ses_corrected[i_good])"
   ]
  },
  {
   "cell_type": "code",
   "execution_count": 28,
   "id": "9f5d7c8e-8032-4a28-8e96-0a23b7f16b15",
   "metadata": {},
   "outputs": [
    {
     "data": {
      "text/plain": [
       "((array([-0.14734342, -0.29993971]),\n",
       "  array([[ 0.99086488, -0.1348584 ],\n",
       "         [ 0.1348584 ,  0.99086488]])),\n",
       " (array([0.37610568, 0.37610568]),\n",
       "  array([[1., 0.],\n",
       "         [0., 1.]])))"
      ]
     },
     "execution_count": 28,
     "metadata": {},
     "output_type": "execute_result"
    }
   ],
   "source": [
    "np.linalg.eig(Ses_org[i_bad]),np.linalg.eig(Ses_corrected[i_bad])"
   ]
  },
  {
   "cell_type": "markdown",
   "id": "9a11888c-083a-4a17-9322-0d8f9528779e",
   "metadata": {},
   "source": [
    "All the corrected ones lose their direction"
   ]
  },
  {
   "cell_type": "code",
   "execution_count": 29,
   "id": "d35878c8-5567-4759-8f12-f5a0ca82738a",
   "metadata": {},
   "outputs": [
    {
     "data": {
      "text/plain": [
       "[array([[1., 0.],\n",
       "        [0., 1.]]),\n",
       " array([[1., 0.],\n",
       "        [0., 1.]]),\n",
       " array([[1., 0.],\n",
       "        [0., 1.]]),\n",
       " array([[1., 0.],\n",
       "        [0., 1.]]),\n",
       " array([[1., 0.],\n",
       "        [0., 1.]])]"
      ]
     },
     "execution_count": 29,
     "metadata": {},
     "output_type": "execute_result"
    }
   ],
   "source": [
    "[np.linalg.eig(Ses_corrected[x])[1] for x in problematic_indices[:5]]"
   ]
  },
  {
   "cell_type": "code",
   "execution_count": 30,
   "id": "0ce5ca4f-2fef-43ec-a230-44279f4c063e",
   "metadata": {},
   "outputs": [],
   "source": [
    "diff = np.zeros(Ses_org.shape)\n",
    "reldif = np.zeros((len(v1.indices),2))\n",
    "for i in v1.indices:\n",
    "    e_val,e_vec = np.linalg.eig(Ses_org[i])\n",
    "    e_val2, e_vec2 = np.linalg.eig(Ses_corrected[i])\n",
    "    diff[i,0] = e_vec[0]@e_vec2[0],e_vec[1]@e_vec2[1]\n",
    "    diff[i,1]  =e_val-e_val2\n",
    "    reldif[i] = 1-e_val2/e_val"
   ]
  },
  {
   "cell_type": "code",
   "execution_count": 31,
   "id": "51d81a59-cae7-4694-af26-11cb75938577",
   "metadata": {},
   "outputs": [],
   "source": [
    "E1 = np.zeros(v1.indices.shape)\n",
    "E2 = np.zeros(v1.indices.shape)\n",
    "for i, vtx in enumerate(ts.iter_xlist(vesicle)):\n",
    "    vtx_copy=ts.ts_vertex(**{field[0]:vtx.__getattribute__(field[0]) for field in vtx._fields_})\n",
    "    ts.update_vertex_from_curvature_tensor(ts.pointer(vtx_copy),vtx_copy.area,\n",
    "                                           *Ses_org[i].flatten(),*v1.normal[i],*v1.director[i],\n",
    "                                           *np.cross(v1.normal[i],v1.director[i]))\n",
    "    E1[i] = vtx_copy.energy\n",
    "    ts.update_vertex_from_curvature_tensor(ts.pointer(vtx_copy),vtx_copy.area,\n",
    "                                           *Ses_corrected[i].flatten(),*v1.normal[i],*v1.director[i],\n",
    "                                           *np.cross(v1.normal[i],v1.director[i]))\n",
    "    E2[i] = vtx_copy.energy"
   ]
  },
  {
   "cell_type": "code",
   "execution_count": 32,
   "id": "8032e12e-524f-460f-a8c5-d1abfc54cc6c",
   "metadata": {},
   "outputs": [
    {
     "data": {
      "text/html": [
       "<div>\n",
       "<style scoped>\n",
       "    .dataframe tbody tr th:only-of-type {\n",
       "        vertical-align: middle;\n",
       "    }\n",
       "\n",
       "    .dataframe tbody tr th {\n",
       "        vertical-align: top;\n",
       "    }\n",
       "\n",
       "    .dataframe thead th {\n",
       "        text-align: right;\n",
       "    }\n",
       "</style>\n",
       "<table border=\"1\" class=\"dataframe\">\n",
       "  <thead>\n",
       "    <tr style=\"text-align: right;\">\n",
       "      <th></th>\n",
       "      <th>energy difference</th>\n",
       "      <th>eigen vector 1 dot</th>\n",
       "      <th>eigen vector 2 dot</th>\n",
       "      <th>eigen value 1 difference</th>\n",
       "      <th>eigen value 2 difference</th>\n",
       "      <th>eigen value 1 relative difference</th>\n",
       "    </tr>\n",
       "  </thead>\n",
       "  <tbody>\n",
       "    <tr>\n",
       "      <th>count</th>\n",
       "      <td>502.000000</td>\n",
       "      <td>502.000000</td>\n",
       "      <td>502.000000</td>\n",
       "      <td>502.000000</td>\n",
       "      <td>502.000000</td>\n",
       "      <td>502.000000</td>\n",
       "    </tr>\n",
       "    <tr>\n",
       "      <th>mean</th>\n",
       "      <td>0.283441</td>\n",
       "      <td>0.909260</td>\n",
       "      <td>0.909260</td>\n",
       "      <td>-0.297812</td>\n",
       "      <td>-0.284782</td>\n",
       "      <td>9.184518</td>\n",
       "    </tr>\n",
       "    <tr>\n",
       "      <th>std</th>\n",
       "      <td>2.517402</td>\n",
       "      <td>0.399884</td>\n",
       "      <td>0.399884</td>\n",
       "      <td>0.196413</td>\n",
       "      <td>0.180612</td>\n",
       "      <td>172.505338</td>\n",
       "    </tr>\n",
       "    <tr>\n",
       "      <th>min</th>\n",
       "      <td>-7.722207</td>\n",
       "      <td>-0.996861</td>\n",
       "      <td>-0.996861</td>\n",
       "      <td>-1.131483</td>\n",
       "      <td>-0.906290</td>\n",
       "      <td>-1112.789335</td>\n",
       "    </tr>\n",
       "    <tr>\n",
       "      <th>0.5%</th>\n",
       "      <td>-4.711558</td>\n",
       "      <td>-0.988566</td>\n",
       "      <td>-0.988566</td>\n",
       "      <td>-0.970726</td>\n",
       "      <td>-0.808689</td>\n",
       "      <td>-89.217413</td>\n",
       "    </tr>\n",
       "    <tr>\n",
       "      <th>1%</th>\n",
       "      <td>-4.117956</td>\n",
       "      <td>-0.981602</td>\n",
       "      <td>-0.981602</td>\n",
       "      <td>-0.856251</td>\n",
       "      <td>-0.773302</td>\n",
       "      <td>-51.222021</td>\n",
       "    </tr>\n",
       "    <tr>\n",
       "      <th>10%</th>\n",
       "      <td>-1.850680</td>\n",
       "      <td>1.000000</td>\n",
       "      <td>1.000000</td>\n",
       "      <td>-0.546316</td>\n",
       "      <td>-0.519953</td>\n",
       "      <td>-2.512048</td>\n",
       "    </tr>\n",
       "    <tr>\n",
       "      <th>50%</th>\n",
       "      <td>-0.110929</td>\n",
       "      <td>1.000000</td>\n",
       "      <td>1.000000</td>\n",
       "      <td>-0.280733</td>\n",
       "      <td>-0.274129</td>\n",
       "      <td>1.335863</td>\n",
       "    </tr>\n",
       "    <tr>\n",
       "      <th>90%</th>\n",
       "      <td>3.250800</td>\n",
       "      <td>1.000000</td>\n",
       "      <td>1.000000</td>\n",
       "      <td>-0.069507</td>\n",
       "      <td>-0.065852</td>\n",
       "      <td>5.290751</td>\n",
       "    </tr>\n",
       "    <tr>\n",
       "      <th>99%</th>\n",
       "      <td>9.476318</td>\n",
       "      <td>1.000000</td>\n",
       "      <td>1.000000</td>\n",
       "      <td>0.079947</td>\n",
       "      <td>0.090089</td>\n",
       "      <td>57.350853</td>\n",
       "    </tr>\n",
       "    <tr>\n",
       "      <th>99.5%</th>\n",
       "      <td>11.946450</td>\n",
       "      <td>1.000000</td>\n",
       "      <td>1.000000</td>\n",
       "      <td>0.142664</td>\n",
       "      <td>0.118632</td>\n",
       "      <td>269.311033</td>\n",
       "    </tr>\n",
       "    <tr>\n",
       "      <th>max</th>\n",
       "      <td>13.481736</td>\n",
       "      <td>1.000000</td>\n",
       "      <td>1.000000</td>\n",
       "      <td>0.223742</td>\n",
       "      <td>0.174598</td>\n",
       "      <td>3386.347506</td>\n",
       "    </tr>\n",
       "  </tbody>\n",
       "</table>\n",
       "</div>"
      ],
      "text/plain": [
       "       energy difference  eigen vector 1 dot  eigen vector 2 dot  \\\n",
       "count         502.000000          502.000000          502.000000   \n",
       "mean            0.283441            0.909260            0.909260   \n",
       "std             2.517402            0.399884            0.399884   \n",
       "min            -7.722207           -0.996861           -0.996861   \n",
       "0.5%           -4.711558           -0.988566           -0.988566   \n",
       "1%             -4.117956           -0.981602           -0.981602   \n",
       "10%            -1.850680            1.000000            1.000000   \n",
       "50%            -0.110929            1.000000            1.000000   \n",
       "90%             3.250800            1.000000            1.000000   \n",
       "99%             9.476318            1.000000            1.000000   \n",
       "99.5%          11.946450            1.000000            1.000000   \n",
       "max            13.481736            1.000000            1.000000   \n",
       "\n",
       "       eigen value 1 difference  eigen value 2 difference  \\\n",
       "count                502.000000                502.000000   \n",
       "mean                  -0.297812                 -0.284782   \n",
       "std                    0.196413                  0.180612   \n",
       "min                   -1.131483                 -0.906290   \n",
       "0.5%                  -0.970726                 -0.808689   \n",
       "1%                    -0.856251                 -0.773302   \n",
       "10%                   -0.546316                 -0.519953   \n",
       "50%                   -0.280733                 -0.274129   \n",
       "90%                   -0.069507                 -0.065852   \n",
       "99%                    0.079947                  0.090089   \n",
       "99.5%                  0.142664                  0.118632   \n",
       "max                    0.223742                  0.174598   \n",
       "\n",
       "       eigen value 1 relative difference  \n",
       "count                         502.000000  \n",
       "mean                            9.184518  \n",
       "std                           172.505338  \n",
       "min                         -1112.789335  \n",
       "0.5%                          -89.217413  \n",
       "1%                            -51.222021  \n",
       "10%                            -2.512048  \n",
       "50%                             1.335863  \n",
       "90%                             5.290751  \n",
       "99%                            57.350853  \n",
       "99.5%                         269.311033  \n",
       "max                          3386.347506  "
      ]
     },
     "execution_count": 32,
     "metadata": {},
     "output_type": "execute_result"
    }
   ],
   "source": [
    "percentiles2 = [0.005,0.01,0.1,0.5,0.9,0.99,0.995]\n",
    "df = pd.DataFrame({\"energy difference\": E1-E2,\n",
    "    \"eigen vector 1 dot\": diff[:,0,0],\n",
    "             \"eigen vector 2 dot\": diff[:,0,1],\n",
    "             \"eigen value 1 difference\": diff[:,1,0],\n",
    "             \"eigen value 2 difference\": diff[:,1,1],\n",
    "             \"eigen value 1 relative difference\": reldif[:,1]})\n",
    "df.describe(percentiles=percentiles2)"
   ]
  },
  {
   "cell_type": "code",
   "execution_count": 33,
   "id": "6bbf8199-3b45-4861-8fb8-05b4d5f0a0e0",
   "metadata": {},
   "outputs": [],
   "source": [
    "df2=df[[\"energy difference\",\"eigen vector 1 dot\",\"eigen value 1 difference\"]]"
   ]
  },
  {
   "cell_type": "code",
   "execution_count": 34,
   "id": "4f3504a6-46c1-4af8-9cad-7bd1546ded1e",
   "metadata": {},
   "outputs": [],
   "source": [
    "df2.columns = [\"energy difference between method E_old-E_new\",\"first eigen vector new dot old    \",\"first eigen value difference\"]"
   ]
  },
  {
   "cell_type": "code",
   "execution_count": 35,
   "id": "bc865a6a-2218-4384-b67a-e58fbca7e49f",
   "metadata": {},
   "outputs": [
    {
     "data": {
      "text/html": [
       "<div>\n",
       "<style scoped>\n",
       "    .dataframe tbody tr th:only-of-type {\n",
       "        vertical-align: middle;\n",
       "    }\n",
       "\n",
       "    .dataframe tbody tr th {\n",
       "        vertical-align: top;\n",
       "    }\n",
       "\n",
       "    .dataframe thead th {\n",
       "        text-align: right;\n",
       "    }\n",
       "</style>\n",
       "<table border=\"1\" class=\"dataframe\">\n",
       "  <thead>\n",
       "    <tr style=\"text-align: right;\">\n",
       "      <th></th>\n",
       "      <th>energy difference between method E_old-E_new</th>\n",
       "      <th>first eigen vector new dot old</th>\n",
       "      <th>first eigen value difference</th>\n",
       "    </tr>\n",
       "  </thead>\n",
       "  <tbody>\n",
       "    <tr>\n",
       "      <th>count</th>\n",
       "      <td>502.000000</td>\n",
       "      <td>502.000000</td>\n",
       "      <td>502.000000</td>\n",
       "    </tr>\n",
       "    <tr>\n",
       "      <th>mean</th>\n",
       "      <td>0.283441</td>\n",
       "      <td>0.909260</td>\n",
       "      <td>-0.297812</td>\n",
       "    </tr>\n",
       "    <tr>\n",
       "      <th>std</th>\n",
       "      <td>2.517402</td>\n",
       "      <td>0.399884</td>\n",
       "      <td>0.196413</td>\n",
       "    </tr>\n",
       "    <tr>\n",
       "      <th>min</th>\n",
       "      <td>-7.722207</td>\n",
       "      <td>-0.996861</td>\n",
       "      <td>-1.131483</td>\n",
       "    </tr>\n",
       "    <tr>\n",
       "      <th>0.5%</th>\n",
       "      <td>-4.711558</td>\n",
       "      <td>-0.988566</td>\n",
       "      <td>-0.970726</td>\n",
       "    </tr>\n",
       "    <tr>\n",
       "      <th>1%</th>\n",
       "      <td>-4.117956</td>\n",
       "      <td>-0.981602</td>\n",
       "      <td>-0.856251</td>\n",
       "    </tr>\n",
       "    <tr>\n",
       "      <th>5%</th>\n",
       "      <td>-2.615619</td>\n",
       "      <td>0.849881</td>\n",
       "      <td>-0.636344</td>\n",
       "    </tr>\n",
       "    <tr>\n",
       "      <th>10%</th>\n",
       "      <td>-1.850680</td>\n",
       "      <td>1.000000</td>\n",
       "      <td>-0.546316</td>\n",
       "    </tr>\n",
       "    <tr>\n",
       "      <th>50%</th>\n",
       "      <td>-0.110929</td>\n",
       "      <td>1.000000</td>\n",
       "      <td>-0.280733</td>\n",
       "    </tr>\n",
       "    <tr>\n",
       "      <th>90%</th>\n",
       "      <td>3.250800</td>\n",
       "      <td>1.000000</td>\n",
       "      <td>-0.069507</td>\n",
       "    </tr>\n",
       "    <tr>\n",
       "      <th>95%</th>\n",
       "      <td>5.890290</td>\n",
       "      <td>1.000000</td>\n",
       "      <td>-0.010143</td>\n",
       "    </tr>\n",
       "    <tr>\n",
       "      <th>99%</th>\n",
       "      <td>9.476318</td>\n",
       "      <td>1.000000</td>\n",
       "      <td>0.079947</td>\n",
       "    </tr>\n",
       "    <tr>\n",
       "      <th>99.5%</th>\n",
       "      <td>11.946450</td>\n",
       "      <td>1.000000</td>\n",
       "      <td>0.142664</td>\n",
       "    </tr>\n",
       "    <tr>\n",
       "      <th>max</th>\n",
       "      <td>13.481736</td>\n",
       "      <td>1.000000</td>\n",
       "      <td>0.223742</td>\n",
       "    </tr>\n",
       "  </tbody>\n",
       "</table>\n",
       "</div>"
      ],
      "text/plain": [
       "       energy difference between method E_old-E_new  \\\n",
       "count                                    502.000000   \n",
       "mean                                       0.283441   \n",
       "std                                        2.517402   \n",
       "min                                       -7.722207   \n",
       "0.5%                                      -4.711558   \n",
       "1%                                        -4.117956   \n",
       "5%                                        -2.615619   \n",
       "10%                                       -1.850680   \n",
       "50%                                       -0.110929   \n",
       "90%                                        3.250800   \n",
       "95%                                        5.890290   \n",
       "99%                                        9.476318   \n",
       "99.5%                                     11.946450   \n",
       "max                                       13.481736   \n",
       "\n",
       "       first eigen vector new dot old      first eigen value difference  \n",
       "count                          502.000000                    502.000000  \n",
       "mean                             0.909260                     -0.297812  \n",
       "std                              0.399884                      0.196413  \n",
       "min                             -0.996861                     -1.131483  \n",
       "0.5%                            -0.988566                     -0.970726  \n",
       "1%                              -0.981602                     -0.856251  \n",
       "5%                               0.849881                     -0.636344  \n",
       "10%                              1.000000                     -0.546316  \n",
       "50%                              1.000000                     -0.280733  \n",
       "90%                              1.000000                     -0.069507  \n",
       "95%                              1.000000                     -0.010143  \n",
       "99%                              1.000000                      0.079947  \n",
       "99.5%                            1.000000                      0.142664  \n",
       "max                              1.000000                      0.223742  "
      ]
     },
     "execution_count": 35,
     "metadata": {},
     "output_type": "execute_result"
    }
   ],
   "source": [
    "df2.describe(percentiles=[0.005,0.01,0.05,0.1,0.9,0.95,0.99,0.995])"
   ]
  },
  {
   "attachments": {
    "57005b6a-0121-462e-bfce-c562e7f4738e.png": {
     "image/png": "[encoded data removed]"
    },
    "80bf22e3-5164-4302-9722-c0bd7dca20f3.png": {
     "image/png": "[encoded data removed]"
    },
    "e7203bee-2400-40a1-a77d-46b8c269d898.png": {
     "image/png": "[encoded data removed]"
    }
   },
   "cell_type": "markdown",
   "id": "5c3763f7-d114-416d-ac25-52f15048c242",
   "metadata": {},
   "source": [
    "![image.png](attachment:e7203bee-2400-40a1-a77d-46b8c269d898.png)![image.png](attachment:80bf22e3-5164-4302-9722-c0bd7dca20f3.png)![image.png](attachment:57005b6a-0121-462e-bfce-c562e7f4738e.png)"
   ]
  },
  {
   "cell_type": "code",
   "execution_count": 36,
   "id": "9504ac00-734c-4db1-9949-8eb5f1584672",
   "metadata": {},
   "outputs": [
    {
     "data": {
      "image/png": "[encoded data removed]",
      "text/plain": [
       "<Figure size 640x480 with 6 Axes>"
      ]
     },
     "metadata": {},
     "output_type": "display_data"
    }
   ],
   "source": [
    "df.hist()\n",
    "plt.tight_layout()"
   ]
  },
  {
   "cell_type": "code",
   "execution_count": 40,
   "id": "3b3426f0-387a-48f8-8981-1b0a100b3992",
   "metadata": {},
   "outputs": [
    {
     "data": {
      "text/plain": [
       "(404, 318)"
      ]
     },
     "execution_count": 40,
     "metadata": {},
     "output_type": "execute_result"
    }
   ],
   "source": [
    "i,j = (E1-E2).argsort()[[-1,-150]]\n",
    "i,j"
   ]
  },
  {
   "cell_type": "code",
   "execution_count": 41,
   "id": "b6d27e41-2478-4ec7-a75e-368b98dfa28d",
   "metadata": {},
   "outputs": [
    {
     "data": {
      "text/plain": [
       "(14.325611274658117, 0.8438748146758177)"
      ]
     },
     "execution_count": 41,
     "metadata": {},
     "output_type": "execute_result"
    }
   ],
   "source": [
    "E1[i],E2[i]"
   ]
  },
  {
   "cell_type": "code",
   "execution_count": 42,
   "id": "a7f7dec5-35ed-4519-a79b-c61e4ff6d9d0",
   "metadata": {},
   "outputs": [
    {
     "data": {
      "text/plain": [
       "(array([[-0.45056516, -0.01482308],\n",
       "        [-0.01482308, -0.48454323]]),\n",
       " 'corrected',\n",
       " array([[ 0.49302023, -0.15748068],\n",
       "        [-0.15748068,  0.13203666]]))"
      ]
     },
     "execution_count": 42,
     "metadata": {},
     "output_type": "execute_result"
    }
   ],
   "source": [
    "Ses_org[i],\"corrected\",Ses_corrected[i]"
   ]
  },
  {
   "cell_type": "code",
   "execution_count": 43,
   "id": "12b85585-863e-41a4-a25c-50f74ee2d2b2",
   "metadata": {},
   "outputs": [
    {
     "data": {
      "text/plain": [
       "((array([-0.44500756, -0.49010084]),\n",
       "  array([[ 0.93635095,  0.35106538],\n",
       "         [-0.35106538,  0.93635095]])),\n",
       " 'corrected',\n",
       " (array([0.55206435, 0.07299254]),\n",
       "  array([[ 0.93635095,  0.35106538],\n",
       "         [-0.35106538,  0.93635095]])))"
      ]
     },
     "execution_count": 43,
     "metadata": {},
     "output_type": "execute_result"
    }
   ],
   "source": [
    "np.linalg.eig(Ses_org[i]),\"corrected\",np.linalg.eig(Ses_corrected[i])"
   ]
  },
  {
   "cell_type": "code",
   "execution_count": 44,
   "id": "f9e5ef50-e14c-40ec-a413-d1629407cb1a",
   "metadata": {},
   "outputs": [
    {
     "data": {
      "text/plain": [
       "(0.6036194965837227, 0.10605052342402015)"
      ]
     },
     "execution_count": 44,
     "metadata": {},
     "output_type": "execute_result"
    }
   ],
   "source": [
    "E1[j],E2[j]"
   ]
  },
  {
   "cell_type": "code",
   "execution_count": 45,
   "id": "5a7117f2-e4a0-4a3c-9395-707f392c060c",
   "metadata": {},
   "outputs": [
    {
     "data": {
      "text/plain": [
       "(array([[-0.17254967, -0.09249352],\n",
       "        [-0.09249352, -0.04424023]]),\n",
       " 'corrected',\n",
       " array([[-0.00330276, -0.0478831 ],\n",
       "        [-0.0478831 ,  0.06312194]]))"
      ]
     },
     "execution_count": 45,
     "metadata": {},
     "output_type": "execute_result"
    }
   ],
   "source": [
    "Ses_org[j],\"corrected\",Ses_corrected[j]"
   ]
  },
  {
   "cell_type": "code",
   "execution_count": 46,
   "id": "ee7dce9d-3f00-4161-b978-f537192cd479",
   "metadata": {},
   "outputs": [
    {
     "data": {
      "text/plain": [
       "((array([-0.22095995,  0.00417005]),\n",
       "  array([[-0.88598389,  0.46371602],\n",
       "         [-0.46371602, -0.88598389]])),\n",
       " 'corrected',\n",
       " (array([-0.02836435,  0.08818352]),\n",
       "  array([[-0.88598389,  0.46371602],\n",
       "         [-0.46371602, -0.88598389]])))"
      ]
     },
     "execution_count": 46,
     "metadata": {},
     "output_type": "execute_result"
    }
   ],
   "source": [
    "np.linalg.eig(Ses_org[j]),\"corrected\",np.linalg.eig(Ses_corrected[j])"
   ]
  },
  {
   "cell_type": "markdown",
   "id": "f2a2b846-7660-4dee-bbd8-9013649c4c94",
   "metadata": {},
   "source": [
    "Try to recreate the calculation in python"
   ]
  },
  {
   "cell_type": "code",
   "execution_count": 47,
   "id": "ae482a16-5993-4bb8-9f79-a4033f13629b",
   "metadata": {},
   "outputs": [],
   "source": [
    "i=i_good"
   ]
  },
  {
   "cell_type": "code",
   "execution_count": 48,
   "id": "985092c0-2ee3-41fd-90e0-0edec26a281e",
   "metadata": {},
   "outputs": [
    {
     "data": {
      "text/plain": [
       "0.02499620242680474"
      ]
     },
     "execution_count": 48,
     "metadata": {},
     "output_type": "execute_result"
    }
   ],
   "source": [
    "hkg = (np.trace(Ses_org[i])**2)-np.linalg.det(Ses_org[i])\n",
    "hkg"
   ]
  },
  {
   "cell_type": "code",
   "execution_count": 49,
   "id": "664fc2d6-36fb-4ed1-9374-b735428a81b3",
   "metadata": {},
   "outputs": [
    {
     "data": {
      "text/plain": [
       "0.04294586690207172"
      ]
     },
     "execution_count": 49,
     "metadata": {},
     "output_type": "execute_result"
    }
   ],
   "source": [
    "hkg = (v1.mean_curvature2[i]**2)-v1.gaussian_curvature2[i]\n",
    "hkg"
   ]
  },
  {
   "cell_type": "code",
   "execution_count": 50,
   "id": "a257a854-ef89-483f-b419-e2203d31d707",
   "metadata": {},
   "outputs": [
    {
     "data": {
      "text/plain": [
       "(0.04294586690207172, 0.4344833580021617)"
      ]
     },
     "execution_count": 50,
     "metadata": {},
     "output_type": "execute_result"
    }
   ],
   "source": [
    "hkg = hkg if hkg>0 else 0\n",
    "h_corr = v1.mean_curvature2[i] if hkg>0 else np.sqrt(v1.gaussian_curvature2[i])\n",
    "hkg, h_corr"
   ]
  },
  {
   "cell_type": "code",
   "execution_count": 51,
   "id": "f1234dfc-3d5d-4dbe-af9b-c20f61b0151e",
   "metadata": {},
   "outputs": [],
   "source": [
    "factor = np.sqrt( hkg*((Ses_org[i,0,0]-Ses_org[i,1,1])**2+4*(Ses_org[i,0,1]**2)) )"
   ]
  },
  {
   "cell_type": "code",
   "execution_count": 52,
   "id": "07261df1-b2a8-4328-932a-0e40d7bebc42",
   "metadata": {},
   "outputs": [
    {
     "data": {
      "text/plain": [
       "array([[-0.08625433, -0.0044303 ],\n",
       "       [-0.0044303 , -0.09614493]])"
      ]
     },
     "execution_count": 52,
     "metadata": {},
     "output_type": "execute_result"
    }
   ],
   "source": [
    "Ses_org[i]"
   ]
  },
  {
   "cell_type": "code",
   "execution_count": 53,
   "id": "92ccc660-1e61-4386-93c5-7332bbef8d0c",
   "metadata": {},
   "outputs": [],
   "source": [
    "delta = h_corr-(Ses_org[i,0,0]+Ses_org[i,1,1])/2"
   ]
  },
  {
   "cell_type": "code",
   "execution_count": 54,
   "id": "a7c2abe5-0344-409a-a379-8d1c706c8d5a",
   "metadata": {},
   "outputs": [],
   "source": [
    "beta=Ses_org[i,0,1]*( 2*(-hkg)/factor - 1) if factor!=0 else 0\n",
    "a = -(\n",
    "    (Ses_org[i,0,0]-Ses_org[i,1,1])*(2*factor+(Ses_org[i,0,0]-Ses_org[i,1,1])**2+4*(Ses_org[i,0,1]**2))\n",
    "      /( 2*((Ses_org[i,0,0]-Ses_org[i,1,1])**2) + 8*(Ses_org[i,0,1]**2) )\n",
    "     )"
   ]
  },
  {
   "cell_type": "code",
   "execution_count": 55,
   "id": "fcb2ed47-fc6a-4333-b900-0b1d1d8dd083",
   "metadata": {},
   "outputs": [],
   "source": [
    "beta2=Ses_org[i,0,1]*( 2*(hkg)/factor - 1) if factor!=0 else 0\n",
    "a2 = -(\n",
    "    (Ses_org[i,0,0]-Ses_org[i,1,1])*(-2*factor+(Ses_org[i,0,0]-Ses_org[i,1,1])**2+4*(Ses_org[i,0,1]**2))\n",
    "      /( 2*((Ses_org[i,0,0]-Ses_org[i,1,1])**2) + 8*(Ses_org[i,0,1]**2) )\n",
    "     )"
   ]
  },
  {
   "cell_type": "code",
   "execution_count": 56,
   "id": "ca139107-16e1-4060-8270-7ece84291fdd",
   "metadata": {},
   "outputs": [
    {
     "data": {
      "text/plain": [
       "(0.04574182836990685, 0.04023807261310505)"
      ]
     },
     "execution_count": 56,
     "metadata": {},
     "output_type": "execute_result"
    }
   ],
   "source": [
    "a**2+beta**2,a2**2+beta2**2"
   ]
  },
  {
   "cell_type": "code",
   "execution_count": 57,
   "id": "42492dfa-6edb-4df9-9eca-d56e440c9b53",
   "metadata": {},
   "outputs": [
    {
     "name": "stdout",
     "output_type": "stream",
     "text": [
      "using delta, a, and beta\n",
      " [[ 0.58883634 -0.13827879]\n",
      " [-0.13827879  0.28013038]] \n",
      "using delta, a2, and beta2\n",
      " [[0.28013038 0.13827879]\n",
      " [0.13827879 0.58883634]] \n",
      "actual correction in c\n",
      " [[ 0.58883634 -0.13827879]\n",
      " [-0.13827879  0.28013038]]\n"
     ]
    }
   ],
   "source": [
    "s1=Ses_org[i]+[[delta+a2,beta2],[beta2,delta-a2]]\n",
    "s2=Ses_org[i]+[[delta+a,beta],[beta,delta-a]]\n",
    "print(\"using delta, a, and beta\\n\",s1,\"\\nusing delta, a2, and beta2\\n\",s2,\"\\nactual correction in c\\n\",Ses_corrected[i])"
   ]
  },
  {
   "cell_type": "code",
   "execution_count": 58,
   "id": "ac6a9bbb-6eeb-4840-b5f6-68929a300a5e",
   "metadata": {},
   "outputs": [
    {
     "data": {
      "text/plain": [
       "(0.4344833580021617,\n",
       " 0.43448335800216176,\n",
       " 0.43448335800216176,\n",
       " 0.43448335800216176)"
      ]
     },
     "execution_count": 58,
     "metadata": {},
     "output_type": "execute_result"
    }
   ],
   "source": [
    "v1.mean_curvature2[i],np.trace(s1)/2,np.trace(s2)/2,np.trace(Ses_corrected[i])/2"
   ]
  },
  {
   "cell_type": "code",
   "execution_count": 59,
   "id": "757dbde1-061f-4436-ae92-a1b91a4851ae",
   "metadata": {},
   "outputs": [
    {
     "data": {
      "text/plain": [
       "(0.1458299214787629,\n",
       " 0.14582992147876292,\n",
       " 0.1458299214787629,\n",
       " 0.14582992147876292)"
      ]
     },
     "execution_count": 59,
     "metadata": {},
     "output_type": "execute_result"
    }
   ],
   "source": [
    "v1.gaussian_curvature2[i],np.linalg.det(s1),np.linalg.det(s2),np.linalg.det(Ses_corrected[i])"
   ]
  },
  {
   "cell_type": "markdown",
   "id": "9cd2ec59-7b5f-4aff-b6d1-e272c086fd9a",
   "metadata": {},
   "source": [
    "### messy handling of the function directly"
   ]
  },
  {
   "cell_type": "code",
   "execution_count": 60,
   "id": "46bb4787-bad8-4e59-acec-be51dde78d1d",
   "metadata": {},
   "outputs": [
    {
     "data": {
      "text/plain": [
       "(array([[1.1, 1. ],\n",
       "        [1. , 1. ]]),\n",
       " array([[1., 0.],\n",
       "        [0., 1.]]))"
      ]
     },
     "execution_count": 60,
     "metadata": {},
     "output_type": "execute_result"
    }
   ],
   "source": [
    "mats=np.array([[1.1,1],[1,1]])\n",
    "h,kg = 1,1\n",
    "a,b,c = ts.ts_double(mats[0,0]),ts.ts_double(mats[0,1]),ts.ts_double(mats[1,1])\n",
    "ts.error_correction_scheme(ts.pointer(a),ts.pointer(b),ts.pointer(c),h,kg)\n",
    "mats2=np.array([[a.value,b.value],[b.value,c.value]])\n",
    "mats, mats2"
   ]
  },
  {
   "cell_type": "code",
   "execution_count": 61,
   "id": "3f7068a2-304f-4863-b7dc-6bb5dd0626b5",
   "metadata": {},
   "outputs": [
    {
     "data": {
      "text/plain": [
       "('initial h,kg:', 1.05, 0.10000000000000002, 'corrected h,kg:', 1.0, 1.0)"
      ]
     },
     "execution_count": 61,
     "metadata": {},
     "output_type": "execute_result"
    }
   ],
   "source": [
    "\"initial h,kg:\",np.trace(mats)/2,np.linalg.det(mats),\"corrected h,kg:\",np.trace(mats2)/2,np.linalg.det(mats2)"
   ]
  },
  {
   "cell_type": "code",
   "execution_count": 62,
   "id": "daea5064-a704-484b-bfa5-5f6a3739b6ab",
   "metadata": {},
   "outputs": [
    {
     "data": {
      "text/plain": [
       "0"
      ]
     },
     "execution_count": 62,
     "metadata": {},
     "output_type": "execute_result"
    }
   ],
   "source": [
    "hkg = h**2-kg\n",
    "hkg2 = (np.trace(mats)**2)/4-np.linalg.det(mats)\n",
    "hkg"
   ]
  },
  {
   "cell_type": "code",
   "execution_count": 63,
   "id": "cbfcb3c2-f721-4b1a-a8f3-f4e2a78a4ddd",
   "metadata": {},
   "outputs": [
    {
     "data": {
      "text/plain": [
       "0.0"
      ]
     },
     "execution_count": 63,
     "metadata": {},
     "output_type": "execute_result"
    }
   ],
   "source": [
    "factor = np.sqrt( hkg*( (mats[0,0]-mats[1,1])**2+4*(mats[0,1]**2) ) )\n",
    "factor"
   ]
  },
  {
   "cell_type": "code",
   "execution_count": 64,
   "id": "56af00b6-3f15-4122-95d3-992d32d819eb",
   "metadata": {},
   "outputs": [
    {
     "data": {
      "text/plain": [
       "-0.050000000000000044"
      ]
     },
     "execution_count": 64,
     "metadata": {},
     "output_type": "execute_result"
    }
   ],
   "source": [
    "delta = h-(mats[0,0]+mats[1,1])/2\n",
    "delta"
   ]
  },
  {
   "cell_type": "code",
   "execution_count": 65,
   "id": "e127123f-3e92-49bb-b540-5efc38f51601",
   "metadata": {},
   "outputs": [],
   "source": [
    "beta=-mats[0,1] if factor==0 else mats[0,1]*( 2*(-hkg)/factor - 1)\n",
    "a = -(\n",
    "    (mats[0,0]-mats[1,1])*(2*factor+(mats[0,0]-mats[1,1])**2+4*(mats[0,1]**2))\n",
    "      /( 2*((mats[0,0]-mats[1,1])**2) + 8*(mats[0,1]**2) )\n",
    "     )"
   ]
  },
  {
   "cell_type": "code",
   "execution_count": 66,
   "id": "41f9d022-6be6-4cd2-8dbf-096fa0e62101",
   "metadata": {},
   "outputs": [
    {
     "data": {
      "text/plain": [
       "(-1.0, -0.050000000000000044)"
      ]
     },
     "execution_count": 66,
     "metadata": {},
     "output_type": "execute_result"
    }
   ],
   "source": [
    "beta,a"
   ]
  },
  {
   "cell_type": "code",
   "execution_count": 67,
   "id": "532443d9-3691-4fc4-8490-75b5203acd8e",
   "metadata": {},
   "outputs": [],
   "source": [
    "beta=-mats[0,1] if factor==0 else mats[0,1]*( 2*(hkg)/factor - 1)\n",
    "a = -(\n",
    "    (mats[0,0]-mats[1,1])*(-2*factor+(mats[0,0]-mats[1,1])**2+4*(mats[0,1]**2))\n",
    "      /( 2*((mats[0,0]-mats[1,1])**2) + 8*(mats[0,1]**2) )\n",
    "     )"
   ]
  },
  {
   "cell_type": "code",
   "execution_count": 68,
   "id": "9144615e-8541-4829-bbe4-687e18604a7c",
   "metadata": {},
   "outputs": [
    {
     "data": {
      "text/plain": [
       "(-1.0, -0.050000000000000044)"
      ]
     },
     "execution_count": 68,
     "metadata": {},
     "output_type": "execute_result"
    }
   ],
   "source": [
    "beta,a"
   ]
  },
  {
   "cell_type": "code",
   "execution_count": 69,
   "id": "9454a4c1-b1f7-46ca-82c5-51953b13c9e5",
   "metadata": {},
   "outputs": [
    {
     "data": {
      "text/plain": [
       "array([[1., 0.],\n",
       "       [0., 1.]])"
      ]
     },
     "execution_count": 69,
     "metadata": {},
     "output_type": "execute_result"
    }
   ],
   "source": [
    "mats+[[delta+a,beta],[beta,delta-a]]"
   ]
  },
  {
   "cell_type": "markdown",
   "id": "a4247ef3-4ed9-4c23-a53e-d91efa24574f",
   "metadata": {},
   "source": [
    "## Test curvature"
   ]
  },
  {
   "cell_type": "markdown",
   "id": "37ca5736-5a4e-41e3-a541-71bc00834905",
   "metadata": {},
   "source": [
    "Load the file and the vesicle. Push the vesicle into the PyVtu"
   ]
  },
  {
   "cell_type": "code",
   "execution_count": 71,
   "id": "3033466d-7a94-490e-b5be-fe6d848cfd9b",
   "metadata": {},
   "outputs": [],
   "source": [
    "fileloc = list(sorted(test_folder.glob('timestep*')))[-1]#[-1]"
   ]
  },
  {
   "cell_type": "code",
   "execution_count": 72,
   "id": "2b071f6d-314a-4c0e-95b3-5307042eedf1",
   "metadata": {},
   "outputs": [
    {
     "data": {
      "text/plain": [
       "PosixPath('/home/toriy/yoav/sim/test/attempt1/timestep_000024.vtu')"
      ]
     },
     "execution_count": 72,
     "metadata": {},
     "output_type": "execute_result"
    }
   ],
   "source": [
    "fileloc"
   ]
  },
  {
   "cell_type": "code",
   "execution_count": 73,
   "id": "25d4ed70-25be-4a7d-90ab-ddc8146a78f6",
   "metadata": {},
   "outputs": [],
   "source": [
    "vesicle = ts.parseDump(fileloc)"
   ]
  },
  {
   "cell_type": "code",
   "execution_count": 74,
   "id": "b1005d90-84eb-49af-af3f-a793ff1317d0",
   "metadata": {},
   "outputs": [],
   "source": [
    "v = PyVtu(fileloc)\n",
    "v2 = PyVtu(fileloc) # we will place here the values from vesicle"
   ]
  },
  {
   "cell_type": "code",
   "execution_count": 75,
   "id": "a5ddcef1-397f-46ce-85ae-036b1ef62220",
   "metadata": {},
   "outputs": [],
   "source": [
    "def normbnorm(b):\n",
    "    n1 = np.array((b.vtx1.contents.nx,b.vtx1.contents.ny,b.vtx1.contents.nz))\n",
    "    n2 = np.array((b.vtx2.contents.nx,b.vtx2.contents.ny,b.vtx2.contents.nz))\n",
    "    n = n1+n2\n",
    "    return n/np.linalg.norm(n)"
   ]
  },
  {
   "cell_type": "code",
   "execution_count": 92,
   "id": "8b4bb34f-99d9-4a4f-98ba-afda6aabe7cf",
   "metadata": {},
   "outputs": [],
   "source": [
    "def field_from(vesicle,field=None,lst='vlist'):\n",
    "    try:\n",
    "        return np.array([v.__getattribute__(field) for v in ts.iter_xlist(vesicle,lst)])\n",
    "    except AttributeError:\n",
    "        return None\n",
    "def vector_field_from(vesicle,fields,lst='vlist'):\n",
    "    try:\n",
    "        return np.array([tuple(v.__getattribute__(field) for field in fields) for v in ts.iter_xlist(vesicle,lst)])\n",
    "    except AttributeError:\n",
    "        return None\n",
    "\n",
    "def array_field_from(vesicle,field,lst='vlist'):\n",
    "    try:\n",
    "        return np.array([v.__getattribute__(field)[:] for v in ts.iter_xlist(vesicle,lst)])\n",
    "    except AttributeError:\n",
    "        return None\n",
    "    \n",
    "vertex_fields = [x[0] for x in ts.ts_vertex._fields_]\n",
    "bond_fields = [x[0] for x in ts.ts_bond._fields_]\n",
    "triangle_fields = [x[0] for x in ts.ts_triangle._fields_]\n",
    "blen = vesicle.contents.blist.contents.n\n",
    "tlen = vesicle.contents.tlist.contents.n\n",
    "\n",
    "def replace_pyvtu_values_from_vesicle(v,vesicle):\n",
    "    \"\"\"Replace the values the PyVtu arrays with values from the wrapper.\"\"\"\n",
    "    v.add_array('pos',vector_field_from(vesicle,('x','y','z')))\n",
    "    v.add_array('neigh_no',field_from(vesicle,'neigh_no'))\n",
    "    v.add_array('c0',field_from(vesicle,'c'))\n",
    "    v.add_array('e',field_from(vesicle,'energy'))\n",
    "    # newer version stuff (can fail but who cares?)\n",
    "    v.add_array('w',field_from(vesicle,'w'))\n",
    "    v.add_array('f0',field_from(vesicle,'f'))\n",
    "    v.add_array('normal',vector_field_from(vesicle,['nx','ny','nz']))\n",
    "    v.add_array('force',vector_field_from(vesicle,['fx','fy','fz']))\n",
    "    v.add_array('e',field_from(vesicle,'energy'))\n",
    "    if 'xnorm' in triangle_fields:\n",
    "        v.add_array('face_normal',np.concatenate((np.zeros((blen,3)),vector_field_from(vesicle,('xnorm','ynorm','znorm'),'tlist'))),parent='CellData')\n",
    "    v.add_array('ad_w',field_from(vesicle,'ad_w'))\n",
    "    if 'type' in vertex_fields:\n",
    "        v.add_array('type', np.array([ts.byte_to_int(v.type) for v in ts.iter_xlist(vesicle)]))\n",
    "    v.add_array('k',field_from(vesicle,'k'))\n",
    "    v.add_array('k2',field_from(vesicle,'k2'))\n",
    "    v.add_array('area',field_from(vesicle,'area'))\n",
    "    v.add_array('gaussian_curvature',field_from(vesicle,'gaussian_curvature'))\n",
    "    v.add_array('mean_curvature',field_from(vesicle,'mean_curvature'))\n",
    "    v.add_array('gaussian_curvature',field_from(vesicle,'gaussian_curvature'))\n",
    "    v.add_array('director',vector_field_from(vesicle,('dx','dy','dz')))\n",
    "    v.add_array('mean_curvature2',field_from(vesicle,'mean_curvature2'))\n",
    "    v.add_array('gaussian_curvature2',field_from(vesicle,'gaussian_curvature2'))\n",
    "    v.add_array('eig0',array_field_from(vesicle,'eig0'))\n",
    "    v.add_array('eig1',array_field_from(vesicle,'eig1'))\n",
    "    v.add_array('eig2',array_field_from(vesicle,'eig2'))\n",
    "    v.add_array('eigenvalue_0',field_from(vesicle,'eig_v0'))\n",
    "    v.add_array('eigenvalue_1',field_from(vesicle,'eig_v1'))\n",
    "    v.add_array('eigenvalue_2',field_from(vesicle,'eig_v2'))\n",
    "\n",
    "    if 'xcirc' in triangle_fields:\n",
    "        v.add_array('circumcenter',np.concatenate((np.zeros((blen,3)),vector_field_from(vesicle,('xcirc','ycirc','zcirc'),'tlist'))),parent='CellData')\n",
    "    if 'S' in vertex_fields:\n",
    "        v.add_array('dSd',np.array([x.S[0] for x in ts.iter_xlist(vesicle)]))\n",
    "        v.add_array('dSt',np.array([x.S[1] for x in ts.iter_xlist(vesicle)]))\n",
    "        v.add_array('tSd',np.array([x.S[2] for x in ts.iter_xlist(vesicle)]))\n",
    "        v.add_array('tSt',np.array([x.S[3] for x in ts.iter_xlist(vesicle)]))\n",
    "    v.add_array('tangent',np.cross(v.normal,v.director))\n",
    "    \n",
    "    v.add_array('mean_curvature3',v.mean_curvature+0)\n",
    "    v.add_array('gaussian_curvature3',v.gaussian_curvature+0)\n",
    "    v.add_array('normal3',v.normal+0)\n",
    "    for i, vtx in enumerate(ts.iter_xlist(vesicle)):\n",
    "        vtx_copy=ts.ts_vertex(**{field:vtx.__getattribute__(field) for field in vertex_fields})\n",
    "        ts.tensor_curvature_energy2(vesicle,ts.pointer(vtx_copy))\n",
    "        v.mean_curvature3[i]=vtx_copy.mean_curvature\n",
    "        v.gaussian_curvature3[i]=vtx_copy.gaussian_curvature\n",
    "        v.normal3[i]=vtx_copy.nx,vtx_copy.ny,vtx_copy.nz\n",
    "    "
   ]
  },
  {
   "cell_type": "code",
   "execution_count": 87,
   "id": "852ba4f2-c630-4d52-9e69-edb4c4446f65",
   "metadata": {},
   "outputs": [],
   "source": [
    "try:\n",
    "    replace_pyvtu_values_from_vesicle(v2,vesicle)\n",
    "except AttributeError as e:\n",
    "    print(f'partial replacement: {e}')"
   ]
  },
  {
   "cell_type": "markdown",
   "id": "e5955063-ee43-4d00-a219-8af895c068fb",
   "metadata": {},
   "source": [
    "Update and write vtu with all the new stuff"
   ]
  },
  {
   "cell_type": "code",
   "execution_count": 88,
   "id": "01e714ba-74a3-4c32-8b15-f0d50c0459e3",
   "metadata": {},
   "outputs": [],
   "source": [
    "v2.update_all()\n",
    "v2.write_vtu(str(v2.path).replace('timestep','pystep'))"
   ]
  },
  {
   "cell_type": "markdown",
   "id": "94ebba68-1686-4456-af87-f03cf3dd8ffd",
   "metadata": {},
   "source": [
    "We can view this new vtu in paraview."
   ]
  },
  {
   "cell_type": "markdown",
   "id": "65284944-2cd4-4013-8e36-fa2b9a34b51f",
   "metadata": {},
   "source": [
    "## Mess about"
   ]
  },
  {
   "cell_type": "markdown",
   "id": "bd77999b-42d6-453b-8dcb-c510242c7e6e",
   "metadata": {},
   "source": [
    "Check normals are okay"
   ]
  },
  {
   "cell_type": "code",
   "execution_count": 93,
   "id": "61119e23-41c7-4383-9b4b-06aac3cf493c",
   "metadata": {},
   "outputs": [],
   "source": [
    "def normalize(x,**kwargs):\n",
    "    return x/(np.linalg.norm(x,**kwargs))"
   ]
  },
  {
   "cell_type": "code",
   "execution_count": 99,
   "id": "4b34b30c-7be2-4f1b-96bf-f236e71f64d2",
   "metadata": {},
   "outputs": [],
   "source": [
    "def perp_bisect(v2,i):\n",
    "    tposi = v2.pos[v2.tlist[i]]\n",
    "    circ = v2.circumcenter[blen+i]\n",
    "    norm = v2.face_normal[blen+i]\n",
    "    l0,l1,l2 = tposi[1]- tposi[0], tposi[0]- tposi[2], tposi[2]- tposi[1]\n",
    "    perps = l0/np.linalg.norm(l0),l1/np.linalg.norm(l1),l2/np.linalg.norm(l2)\n",
    "    perps = [normalize(np.cross(norm,p)) for p in perps]\n",
    "    m0,m1,m2 = ( tposi[1]+ tposi[0])/2, (tposi[0]+ tposi[2])/2,( tposi[2]+ tposi[1])/2\n",
    "    return (m0,m1,m2,*perps)"
   ]
  },
  {
   "cell_type": "code",
   "execution_count": 100,
   "id": "5ebf5c6b-151a-496f-8458-3a424b7db303",
   "metadata": {},
   "outputs": [
    {
     "name": "stdout",
     "output_type": "stream",
     "text": [
      "[  7  10  19  30  50  53  77  79  83  92 121 122 124 145 149 173 179 193\n",
      " 202 205 217 220 221 224 227 238 239 244 268 271 274 279 281 285 302 319\n",
      " 332 348 349 354 357 358 365 372 379 385 400 412 423 424 438 447 448 457\n",
      " 465 473 483 487 495 521 526 531 536 539 544 585 589 604 612 619 620 622\n",
      " 637 651 676 678 681 692 710 711 720 724 726 733 736 737 744 771 795 800\n",
      " 801 811 815 816 825 832 844 845 851 865 868 873 886 904 917 932 948 954\n",
      " 984 991]\n",
      "1st example: [1.0, -1.0000000000000002, -1.0000000000000002]\n"
     ]
    }
   ],
   "source": [
    "out = []\n",
    "out2 = []\n",
    "for i in range(v.tlist.shape[0]):\n",
    "    m0,m1,m2,p0,p1,p2 = perp_bisect(v2,i)\n",
    "    circ = v2.circumcenter[blen+i]\n",
    "    out.append([normalize(m0-circ)@p0,normalize(m1-circ)@p1,normalize(m2-circ)@p2])\n",
    "    out2.append((v2.pos[v2.tlist[i]]-v2.pos[v2.tlist[i]][[1,2,0]])@v2.face_normal[blen+i])\n",
    "    \n",
    "out3 = []\n",
    "for i in v.indices:\n",
    "    out3.append(v.director[i]@v.normal[i])\n",
    "\n",
    "bads = np.where(~np.isclose(out,-1))[0]\n",
    "bads2 = np.where(~np.isclose(out2,0))[0]\n",
    "bads3 = np.where(~np.isclose(out3,0))[0]\n",
    "badness=False\n",
    "if bads.size>0:\n",
    "    print(bads)\n",
    "    print(\"1st example:\",out[bads[0]])\n",
    "    badness=True\n",
    "if bads2.size>0:\n",
    "    print(bads2)\n",
    "    print(\"1st example:\",out2[bads2[0]])\n",
    "    badness=True\n",
    "if bads3.size>0:\n",
    "    print(bads3)\n",
    "    print(\"1st example:\", out3[bads3[0]])\n",
    "    badness=True\n",
    "if not badness:\n",
    "    print('all good')"
   ]
  },
  {
   "cell_type": "markdown",
   "id": "beac29c6-7867-4c96-8440-c1114b51a722",
   "metadata": {},
   "source": [
    "### Print triangles"
   ]
  },
  {
   "cell_type": "markdown",
   "id": "70e687a6-727c-4be8-bcba-ee8e966bb299",
   "metadata": {},
   "source": [
    "Notice i is the triangle index!"
   ]
  },
  {
   "cell_type": "code",
   "execution_count": 101,
   "id": "2cb94432-6102-4a76-8c86-6a47ccc4ae78",
   "metadata": {},
   "outputs": [],
   "source": [
    "with_bad_vtx = problematic_values[v2.tlist].any(axis=1)\n",
    "gen=(x for x in np.arange(len(v2.tlist))[:]) # .tlist))[with_bad_vtx])\n",
    "i=next(gen)"
   ]
  },
  {
   "cell_type": "code",
   "execution_count": 111,
   "id": "5918db60-b908-4e47-b356-c604706302ed",
   "metadata": {},
   "outputs": [
    {
     "data": {
      "image/png": "[encoded data removed]",
      "text/plain": [
       "<Figure size 640x480 with 1 Axes>"
      ]
     },
     "metadata": {},
     "output_type": "display_data"
    }
   ],
   "source": [
    "##%matplotlib widget\n",
    "\n",
    "mp = perp_bisect(v2,i)\n",
    "res = np.array(((v.pos[v.tlist[i]]-v.pos[v.tlist[i]][[1,2,0]])@v.face_normal[blen+i],\n",
    "               (v2.pos[v2.tlist[i]]-v2.pos[v2.tlist[i]][[1,2,0]])@v2.face_normal[blen+i],\n",
    "               [mp[3],mp[4],mp[5]]@v.face_normal[blen+i]))\n",
    "if (np.abs(res)>1e-15).any():\n",
    "    print(\"perp. in vtu: \", res[0])\n",
    "    print(\"perp. in loaded vesicle: \", res[1])\n",
    "    print(\"check perp. bisectors are perpendicular: \",res[2])\n",
    "\n",
    "ax = plt.figure().add_subplot(projection='3d')\n",
    "tposi = v2.pos[v2.tlist[i]]\n",
    "ax.plot(*np.array([tposi[[0,1,2,0]]]).T)\n",
    "ax.plot(*v2.circumcenter[blen+i],'k*',label='circum')\n",
    "ax.plot(*np.array((v2.circumcenter[blen+i], \n",
    "                   v2.circumcenter[blen+i]-0.5*v2.face_normal[blen+i])).T,\n",
    "        'b:',label='normal')\n",
    "ax.plot(*mp[0],'k.',label='middle')\n",
    "ax.plot(*mp[1],'k.')\n",
    "ax.plot(*mp[2],'k.')\n",
    "ax.plot(*np.array((mp[0]+1*mp[3],mp[0]-0.15*mp[3])).T,'k:',linewidth=1,label='perp. bisector')\n",
    "ax.plot(*np.array((mp[1]+1*mp[4],mp[1]-0.15*mp[4])).T,'k:',linewidth=1)\n",
    "ax.plot(*np.array((mp[2]+1*mp[5],mp[2]-0.15*mp[5])).T,'k:',linewidth=1)\n",
    "ax.set_aspect('equal')\n",
    "ax.set_title(str(i))\n",
    "ax.legend()\n",
    "i=next(gen)"
   ]
  },
  {
   "cell_type": "code",
   "execution_count": null,
   "id": "9a9e4e2a-2fa7-4a24-b01f-5ec3ee3ea009",
   "metadata": {},
   "outputs": [],
   "source": [
    "## %matplotlib inline"
   ]
  },
  {
   "cell_type": "markdown",
   "id": "e2b5248f-102f-429c-a085-1b8781545c28",
   "metadata": {},
   "source": [
    "### Figure out what's going on in the curvature"
   ]
  },
  {
   "cell_type": "code",
   "execution_count": 112,
   "id": "6c414da2-c8b9-43ae-adf7-155b9de8bd8a",
   "metadata": {},
   "outputs": [
    {
     "data": {
      "text/html": [
       "<div>\n",
       "<style scoped>\n",
       "    .dataframe tbody tr th:only-of-type {\n",
       "        vertical-align: middle;\n",
       "    }\n",
       "\n",
       "    .dataframe tbody tr th {\n",
       "        vertical-align: top;\n",
       "    }\n",
       "\n",
       "    .dataframe thead th {\n",
       "        text-align: right;\n",
       "    }\n",
       "</style>\n",
       "<table border=\"1\" class=\"dataframe\">\n",
       "  <thead>\n",
       "    <tr style=\"text-align: right;\">\n",
       "      <th></th>\n",
       "      <th>H isotropic</th>\n",
       "      <th>KG isotropic</th>\n",
       "      <th>H anisotropic</th>\n",
       "      <th>KG anisotropic</th>\n",
       "      <th>H lerp</th>\n",
       "      <th>KG lerp</th>\n",
       "    </tr>\n",
       "  </thead>\n",
       "  <tbody>\n",
       "    <tr>\n",
       "      <th>count</th>\n",
       "      <td>502.000000</td>\n",
       "      <td>502.000000</td>\n",
       "      <td>502.000000</td>\n",
       "      <td>502.000000</td>\n",
       "      <td>502.000000</td>\n",
       "      <td>502.000000</td>\n",
       "    </tr>\n",
       "    <tr>\n",
       "      <th>mean</th>\n",
       "      <td>0.153193</td>\n",
       "      <td>0.019479</td>\n",
       "      <td>0.154401</td>\n",
       "      <td>0.019479</td>\n",
       "      <td>0.001463</td>\n",
       "      <td>-0.000119</td>\n",
       "    </tr>\n",
       "    <tr>\n",
       "      <th>std</th>\n",
       "      <td>0.117020</td>\n",
       "      <td>0.040308</td>\n",
       "      <td>0.118132</td>\n",
       "      <td>0.040308</td>\n",
       "      <td>0.014101</td>\n",
       "      <td>0.000799</td>\n",
       "    </tr>\n",
       "    <tr>\n",
       "      <th>min</th>\n",
       "      <td>-0.151661</td>\n",
       "      <td>-0.067019</td>\n",
       "      <td>-0.151661</td>\n",
       "      <td>-0.067019</td>\n",
       "      <td>-0.066249</td>\n",
       "      <td>-0.010255</td>\n",
       "    </tr>\n",
       "    <tr>\n",
       "      <th>25%</th>\n",
       "      <td>0.065434</td>\n",
       "      <td>-0.005139</td>\n",
       "      <td>0.065653</td>\n",
       "      <td>-0.005139</td>\n",
       "      <td>-0.000136</td>\n",
       "      <td>-0.000070</td>\n",
       "    </tr>\n",
       "    <tr>\n",
       "      <th>50%</th>\n",
       "      <td>0.154612</td>\n",
       "      <td>0.010188</td>\n",
       "      <td>0.154867</td>\n",
       "      <td>0.010188</td>\n",
       "      <td>0.000757</td>\n",
       "      <td>-0.000015</td>\n",
       "    </tr>\n",
       "    <tr>\n",
       "      <th>75%</th>\n",
       "      <td>0.229759</td>\n",
       "      <td>0.036361</td>\n",
       "      <td>0.230125</td>\n",
       "      <td>0.036361</td>\n",
       "      <td>0.004558</td>\n",
       "      <td>-0.000001</td>\n",
       "    </tr>\n",
       "    <tr>\n",
       "      <th>max</th>\n",
       "      <td>0.561668</td>\n",
       "      <td>0.232513</td>\n",
       "      <td>0.561668</td>\n",
       "      <td>0.232513</td>\n",
       "      <td>0.068595</td>\n",
       "      <td>0.002603</td>\n",
       "    </tr>\n",
       "  </tbody>\n",
       "</table>\n",
       "</div>"
      ],
      "text/plain": [
       "       H isotropic  KG isotropic  H anisotropic  KG anisotropic      H lerp  \\\n",
       "count   502.000000    502.000000     502.000000      502.000000  502.000000   \n",
       "mean      0.153193      0.019479       0.154401        0.019479    0.001463   \n",
       "std       0.117020      0.040308       0.118132        0.040308    0.014101   \n",
       "min      -0.151661     -0.067019      -0.151661       -0.067019   -0.066249   \n",
       "25%       0.065434     -0.005139       0.065653       -0.005139   -0.000136   \n",
       "50%       0.154612      0.010188       0.154867        0.010188    0.000757   \n",
       "75%       0.229759      0.036361       0.230125        0.036361    0.004558   \n",
       "max       0.561668      0.232513       0.561668        0.232513    0.068595   \n",
       "\n",
       "          KG lerp  \n",
       "count  502.000000  \n",
       "mean    -0.000119  \n",
       "std      0.000799  \n",
       "min     -0.010255  \n",
       "25%     -0.000070  \n",
       "50%     -0.000015  \n",
       "75%     -0.000001  \n",
       "max      0.002603  "
      ]
     },
     "execution_count": 112,
     "metadata": {},
     "output_type": "execute_result"
    }
   ],
   "source": [
    "df = pd.DataFrame({'H isotropic': v2.mean_curvature2, 'KG isotropic': v2.gaussian_curvature2,\n",
    "                   'H anisotropic': v2.mean_curvature, 'KG anisotropic': v2.gaussian_curvature,\n",
    "                   'H lerp': v2.mean_curvature3,'KG lerp': v2.gaussian_curvature3\n",
    "                  })\n",
    "df.describe()"
   ]
  },
  {
   "cell_type": "code",
   "execution_count": 114,
   "id": "97e58dfe-f402-49ec-bf86-b570f71fa877",
   "metadata": {},
   "outputs": [
    {
     "data": {
      "image/png": "[encoded data removed]",
      "text/plain": [
       "<Figure size 640x480 with 6 Axes>"
      ]
     },
     "metadata": {},
     "output_type": "display_data"
    }
   ],
   "source": [
    "df.hist()\n",
    "plt.tight_layout()"
   ]
  },
  {
   "cell_type": "code",
   "execution_count": 115,
   "id": "272fbc3a-5a9c-4b35-b8e2-39a4541b0632",
   "metadata": {},
   "outputs": [
    {
     "data": {
      "image/png": "[encoded data removed]",
      "text/plain": [
       "<Figure size 640x480 with 1 Axes>"
      ]
     },
     "metadata": {},
     "output_type": "display_data"
    }
   ],
   "source": [
    "fig=plt.figure()\n",
    "plt.hist(v2.mean_curvature,bins=100)\n",
    "plt.show()"
   ]
  },
  {
   "cell_type": "code",
   "execution_count": 119,
   "id": "2b34dc97-044a-4d9d-9e4f-72626bff2edc",
   "metadata": {},
   "outputs": [],
   "source": [
    "S=vtu.reconstruct_shape_operator(v2)"
   ]
  },
  {
   "cell_type": "code",
   "execution_count": 120,
   "id": "42ccef3d-880e-4ec3-93aa-bdfef22c626f",
   "metadata": {},
   "outputs": [],
   "source": [
    "g=np.stack((v2.eig0,v2.eig1,v2.eig2),axis=1)"
   ]
  },
  {
   "cell_type": "code",
   "execution_count": 121,
   "id": "66a1ae85-c792-457a-b84c-09aa913705dd",
   "metadata": {},
   "outputs": [
    {
     "data": {
      "text/plain": [
       "3.29608529232673e-18"
      ]
     },
     "execution_count": 121,
     "metadata": {},
     "output_type": "execute_result"
    }
   ],
   "source": [
    "np.einsum(\"ni,ni->n\",v2.eig0,v2.eig2).mean()"
   ]
  },
  {
   "cell_type": "code",
   "execution_count": 122,
   "id": "2394c1c2-f9f7-4558-be14-0d29a0e1f8cc",
   "metadata": {},
   "outputs": [
    {
     "data": {
      "text/plain": [
       "array([[ 0.31817876, -0.04661724, -0.12750666],\n",
       "       [-0.04661724,  0.33859002, -0.1026122 ],\n",
       "       [-0.12750666, -0.1026122 ,  0.09544259]])"
      ]
     },
     "execution_count": 122,
     "metadata": {},
     "output_type": "execute_result"
    }
   ],
   "source": [
    "vtu.reconstruct_shape_operator(v2)[0]"
   ]
  },
  {
   "cell_type": "code",
   "execution_count": 123,
   "id": "20b5336e-9107-4960-8927-9689667c5285",
   "metadata": {},
   "outputs": [
    {
     "data": {
      "text/plain": [
       "array([[ 0.31817876, -0.04661724, -0.12750666],\n",
       "       [-0.04661724,  0.33859002, -0.1026122 ],\n",
       "       [-0.12750666, -0.1026122 ,  0.09544259]])"
      ]
     },
     "execution_count": 123,
     "metadata": {},
     "output_type": "execute_result"
    }
   ],
   "source": [
    "vtu.reconstruct_shape_operator(v2)[0]"
   ]
  },
  {
   "cell_type": "code",
   "execution_count": 118,
   "id": "33f0a775-4d6a-4f4f-a69a-d47ab2b8fd33",
   "metadata": {},
   "outputs": [
    {
     "ename": "NameError",
     "evalue": "name 'g' is not defined",
     "output_type": "error",
     "traceback": [
      "\u001b[0;31m---------------------------------------------------------------------------\u001b[0m",
      "\u001b[0;31mNameError\u001b[0m                                 Traceback (most recent call last)",
      "Cell \u001b[0;32mIn[118], line 1\u001b[0m\n\u001b[0;32m----> 1\u001b[0m np\u001b[38;5;241m.\u001b[39meinsum(\u001b[38;5;124m\"\u001b[39m\u001b[38;5;124mnij,nkj->nik\u001b[39m\u001b[38;5;124m\"\u001b[39m,\u001b[43mg\u001b[49m,g)\n",
      "\u001b[0;31mNameError\u001b[0m: name 'g' is not defined"
     ]
    }
   ],
   "source": [
    "np.einsum(\"nij,nkj->nik\",g,g)"
   ]
  },
  {
   "cell_type": "code",
   "execution_count": null,
   "id": "27d1a64e-51f1-4535-a15a-a0b4209c1603",
   "metadata": {},
   "outputs": [],
   "source": [
    "s00 = np.einsum(\"ni,nij,nj->n\",v2.director,S,v2.director)\n",
    "s11 = np.einsum(\"ni,nij,nj->n\",v2.tangent,S,v2.tangent)\n",
    "s01 = np.einsum(\"ni,nij,nj->n\",v2.director,S,v2.tangent)\n",
    "s10 = np.einsum(\"ni,nij,nj->n\",v2.tangent,S,v2.director)"
   ]
  },
  {
   "cell_type": "code",
   "execution_count": null,
   "id": "7d2d544c-3608-4cc2-8a1b-703d0af19757",
   "metadata": {},
   "outputs": [],
   "source": [
    "S_diag=np.zeros((v2.indices.shape[0],2,2))\n",
    "S2=np.zeros((v2.indices.shape[0],2,2))\n",
    "S_diag[:,0,0]=s00\n",
    "S_diag[:,1,1]=s11\n",
    "S2[:,0,0]=s00\n",
    "S2[:,0,1]=s01\n",
    "S2[:,1,0]=s10\n",
    "S2[:,1,1]=s11"
   ]
  },
  {
   "cell_type": "code",
   "execution_count": null,
   "id": "04e8ef05-320a-4851-a546-6cef1db1f935",
   "metadata": {},
   "outputs": [],
   "source": [
    "np.trace(S_diag,axis1=1,axis2=2)"
   ]
  },
  {
   "cell_type": "code",
   "execution_count": null,
   "id": "cb0375c5-cbf7-4299-97cb-010c8de44e24",
   "metadata": {},
   "outputs": [],
   "source": [
    "np.trace(S2,axis1=1,axis2=2)"
   ]
  },
  {
   "cell_type": "code",
   "execution_count": null,
   "id": "d130bce0-04bf-4243-bdc9-ef86038f3bcb",
   "metadata": {},
   "outputs": [],
   "source": [
    "v2.mean_curvature"
   ]
  },
  {
   "cell_type": "code",
   "execution_count": null,
   "id": "fb988596-a057-4297-9250-2f168d6258cf",
   "metadata": {},
   "outputs": [],
   "source": [
    "v2.mean_curvature2"
   ]
  },
  {
   "cell_type": "code",
   "execution_count": null,
   "id": "bf686249-d3d4-4360-9fce-c79b5bb3eb89",
   "metadata": {},
   "outputs": [],
   "source": [
    "vertices = list(iter_xlist(vesicle,as_pointer=True))"
   ]
  },
  {
   "cell_type": "code",
   "execution_count": null,
   "id": "f14f0f97-babe-47e1-a685-3e5da39c8ab7",
   "metadata": {},
   "outputs": [],
   "source": [
    "for i in v.indices[-10:]:\n",
    "    print(ts.adhesion_geometry_distance(vesicle,vertices[i]))"
   ]
  },
  {
   "cell_type": "code",
   "execution_count": null,
   "id": "5f3d5c99-a9c5-4e3b-82e3-b2fdaec1a924",
   "metadata": {},
   "outputs": [],
   "source": [
    "vesicle.contents.tape.contents.adhesion_cutoff"
   ]
  },
  {
   "cell_type": "code",
   "execution_count": null,
   "id": "b6af0cf9-2502-4fcb-94c8-f4f98b935b0b",
   "metadata": {},
   "outputs": [],
   "source": [
    "vesicle.contents.tape.contents.mcsweeps"
   ]
  },
  {
   "cell_type": "code",
   "execution_count": null,
   "id": "cbddd7e3-2b94-4563-af9c-9e266b4ad6b4",
   "metadata": {},
   "outputs": [],
   "source": [
    "vesicle.contents.vlist.contents.vtx[2000].contents.z"
   ]
  },
  {
   "cell_type": "code",
   "execution_count": null,
   "id": "b58a572a-de65-4b2b-8ad1-9403116d00d7",
   "metadata": {},
   "outputs": [],
   "source": [
    "# ts.run_simulation(vesicle,1000,0,175,160)"
   ]
  },
  {
   "cell_type": "code",
   "execution_count": null,
   "id": "ec68f077-91ed-418b-99a3-19f34b0c1eca",
   "metadata": {},
   "outputs": [],
   "source": [
    "adhesion_dist = np.array([ts.adhesion_geometry_distance(vesicle,vtx) for vtx in vertices])"
   ]
  },
  {
   "cell_type": "code",
   "execution_count": null,
   "id": "3aff74ed-09ff-44a5-8cb6-7e96155cfa95",
   "metadata": {},
   "outputs": [],
   "source": [
    "adhesion_dist"
   ]
  },
  {
   "cell_type": "code",
   "execution_count": null,
   "id": "f7d67660-861b-41e6-bc12-2a237e5d1a8f",
   "metadata": {},
   "outputs": [],
   "source": [
    "class MongeGauge:\n",
    "\n",
    "    def __init__(self,x,y,c0,r,z0):\n",
    "        \"\"\"Compute monge gauge for h(x,y) = z0+r*cos(x/c0)*cos(y/c0)\"\"\"\n",
    "        self.x=x\n",
    "        self.y=y\n",
    "        self.z0=z0\n",
    "        self.r=r\n",
    "        self.c0=c0\n",
    "        self.R = r*np.cos(x/c0)*np.cos(y/c0)+z0\n",
    "        self.z=self.R\n",
    "        self.Rx, self.Ry = -r*np.sin(x/c0)*np.cos(y/c0)/c0, -r*np.cos(x/c0)*np.sin(y/c0)/c0\n",
    "        self.Rxx = r*np.cos(x/c0)*np.cos(y/c0)/(-c0**2)\n",
    "        self.Ryy = r*np.cos(x/c0)*np.cos(y/c0)/(-c0**2)\n",
    "        self.Rxy = r*np.sin(x/c0)*np.sin(y/c0)/(c0**2)\n",
    "        self.J = np.array([[1,0,self.Rx],[0,1,self.Ry],[0,0,1]])\n",
    "        self.e1,self.e2,self.e3 = self.J\n",
    "        self.g_ab = np.array([[1+self.Rx**2,self.Rx*self.Ry],\n",
    "                              [self.Rx*self.Ry,1+self.Ry**2]])\n",
    "        self.g = 1+self.Rx**2+self.Ry**2\n",
    "        self.sqrtg = (self.g**0.5)\n",
    "        self.gab = np.array([[1+self.Ry**2,-self.Rx*self.Ry],\n",
    "                             [-self.Rx*self.Ry,1+self.Rx**2]])/self.g\n",
    "        self.n = np.array([-self.Rx,-self.Ry,1])/self.sqrtg\n",
    "        self.K_ab = np.array([[self.Rxx,self.Rxy],\n",
    "                              [self.Rxy,self.Ryy]])/self.sqrtg\n",
    "        self.Sa_b = self.K_ab@self.gab\n",
    "        self.w,self.v = np.linalg.eig(self.Sa_b)\n",
    "        self.vxyz = self.v.T@self.J[:2]\n",
    "        self.H, self.KG = self.Sa_b.trace()/2, np.linalg.det(self.Sa_b)\n",
    "        self.xyzFromab = np.array([self.e1,self.e2])\n",
    "        self.Jinv = np.linalg.inv(self.J)\n",
    "\n"
   ]
  },
  {
   "cell_type": "code",
   "execution_count": null,
   "id": "fca047f9-2d6e-46ee-9004-fd8944cc86c4",
   "metadata": {},
   "outputs": [],
   "source": [
    "def expected_curvature(vesicle,vtx):\n",
    "    r = vesicle.contents.tape.contents.adhesion_radius\n",
    "    c0 = vesicle.contents.tape.contents.adhesion_scale\n",
    "    z0 = vesicle.contents.tape.contents.adhesion_z\n",
    "    x,y,z = vtx.contents.x, vtx.contents.y, vtx.contents.z\n",
    "    # Monge Gauge\n",
    "    return MongeGauge(x,y,c0,r,z0)\n",
    "    "
   ]
  },
  {
   "cell_type": "code",
   "execution_count": null,
   "id": "1a8b304f-a004-4c78-a09c-bb6e189f5cd7",
   "metadata": {},
   "outputs": [],
   "source": [
    "r = vesicle.contents.tape.contents.adhesion_radius\n",
    "c0 = vesicle.contents.tape.contents.adhesion_scale\n",
    "z0 = vesicle.contents.tape.contents.adhesion_z"
   ]
  },
  {
   "cell_type": "code",
   "execution_count": null,
   "id": "23dfa7a6-6bb0-46da-99b9-7039e62b778e",
   "metadata": {},
   "outputs": [],
   "source": []
  },
  {
   "cell_type": "code",
   "execution_count": null,
   "id": "2364da41-9fde-4822-91eb-6a06629168d8",
   "metadata": {},
   "outputs": [],
   "source": [
    "def press_vertices_to_shape(vesicle):\n",
    "    r = vesicle.contents.tape.contents.adhesion_radius\n",
    "    c0 = vesicle.contents.tape.contents.adhesion_scale\n",
    "    z0 = vesicle.contents.tape.contents.adhesion_z\n",
    "    for vtx in iter_xlist(vesicle3,as_pointer=True):\n",
    "        if dz:=ts.adhesion_geometry_distance(vesicle,vtx)<0.5:\n",
    "            vtx.contents.z = z0+r*np.cos(vtx.contents.x/c0)*np.cos(vtx.contents.y/c0)\n",
    "    ts.init_normal_vectors(vesicle.contents.tlist)\n",
    "    ts.sweep_vertex_curvature_energy(vesicle)\n"
   ]
  },
  {
   "cell_type": "code",
   "execution_count": null,
   "id": "576e72d5-7e32-434b-9d35-6ba46b0443b9",
   "metadata": {},
   "outputs": [],
   "source": [
    "v3 = PyVtu(v2.path)\n",
    "vesicle3 = ts.parseDump(v3.path)\n",
    "press_vertices_to_shape(vesicle3)\n",
    "replace_pyvtu_values_from_vesicle(v3,vesicle3)"
   ]
  },
  {
   "cell_type": "code",
   "execution_count": null,
   "id": "6fb394f5-ab0d-455b-9196-fc4f7ea43aa5",
   "metadata": {},
   "outputs": [],
   "source": [
    "adhesion_dist2 = np.array([ts.adhesion_geometry_distance(vesicle3,vtx) for vtx in iter_xlist(vesicle3,as_pointer=True)])\n",
    "adhesion_dist2[-20:]"
   ]
  },
  {
   "cell_type": "code",
   "execution_count": null,
   "id": "928d0412-2176-4908-b5f0-0f049c2dd869",
   "metadata": {},
   "outputs": [],
   "source": [
    "v3.update_all()\n",
    "v3.write_vtu(str(v3.path).replace('timestep','flattened_pystep'))"
   ]
  },
  {
   "cell_type": "code",
   "execution_count": null,
   "id": "6fc29ed9-447e-4b4c-b26c-c87040d01dca",
   "metadata": {},
   "outputs": [],
   "source": [
    "Svs = vtu.reconstruct_shape_operator(v3)\n",
    "gs = np.stack((v3.eig0,v3.eig1,v3.eig2),axis=1)"
   ]
  },
  {
   "cell_type": "code",
   "execution_count": null,
   "id": "be3659fa-3cff-4a3a-87eb-5da1c395b2de",
   "metadata": {},
   "outputs": [],
   "source": [
    "i=1950"
   ]
  },
  {
   "cell_type": "code",
   "execution_count": null,
   "id": "01d9db75-350a-49fb-99d2-4cd6e6cff953",
   "metadata": {},
   "outputs": [],
   "source": [
    "i+=1"
   ]
  },
  {
   "cell_type": "code",
   "execution_count": null,
   "id": "d0b90e5b-dfbf-4856-85b8-86d438540d30",
   "metadata": {},
   "outputs": [],
   "source": [
    "mg=expected_curvature(vesicle,vertices[i])"
   ]
  },
  {
   "cell_type": "code",
   "execution_count": null,
   "id": "000bb973-d300-4c14-a2e3-e65c9d213301",
   "metadata": {},
   "outputs": [],
   "source": [
    "2*mg.H, mg.KG"
   ]
  },
  {
   "cell_type": "code",
   "execution_count": null,
   "id": "fc6f35ff-036f-448b-b8d8-83251f732f11",
   "metadata": {},
   "outputs": [],
   "source": [
    "('tensor:',v3.mean_curvature[i],v3.gaussian_curvature[i]),('debug: ',v3.mean_curvature2[i],v3.gaussian_curvature2[i])"
   ]
  },
  {
   "cell_type": "code",
   "execution_count": null,
   "id": "5e934483-30a5-4fdd-b32f-2ac72f36720a",
   "metadata": {},
   "outputs": [],
   "source": [
    "gs[i], Svs[i]"
   ]
  },
  {
   "cell_type": "code",
   "execution_count": null,
   "id": "e5a77a1f-3ae8-4f0c-af71-2a456623b42f",
   "metadata": {},
   "outputs": [],
   "source": [
    "Sx_y=np.einsum(\"ab,bi,aj->ij\",mg.Sa_b,mg.J[:2,:],mg.J[:2,:])\n",
    "Sx_y"
   ]
  },
  {
   "cell_type": "code",
   "execution_count": null,
   "id": "e5c407cc-da8c-4aa2-9cc7-2dca373915e6",
   "metadata": {},
   "outputs": [],
   "source": [
    "mg.w,mg.vxyz"
   ]
  },
  {
   "cell_type": "code",
   "execution_count": null,
   "id": "bef5d27c-c178-415f-be28-4cfc9a5d3f35",
   "metadata": {},
   "outputs": [],
   "source": [
    "v3.eigenvalue_0[i],v3.eigenvalue_1[i],v3.eig0[i],v3.eig1[i]"
   ]
  },
  {
   "cell_type": "code",
   "execution_count": null,
   "id": "370cda8c-3876-4643-9525-75bc4e683190",
   "metadata": {},
   "outputs": [],
   "source": [
    "def square_comp(x,y,z,v0,v1,v2,e0,e1,e2):\n",
    "    xy=np.linspace(-1,1,10)\n",
    "    XY=np.array(np.meshgrid(xy,xy))\n",
    "    E0, E1 = np.einsum(\"ix,xnm->inm\",np.array((e0,e1))[:,:2],XY)\n",
    "    E2 = 0.5*v0*E0**2 + 0.5*v2*E1**2\n",
    "    X,Y,Z = np.einsum(\"xi,inm->xnm\",np.linalg.inv(np.array((e0,e1,e2))),np.array((E0,E1,E2)))\n",
    "    return X+x,Y+y,Z+z\n",
    "    "
   ]
  },
  {
   "cell_type": "code",
   "execution_count": null,
   "id": "0d8bac5a-2dde-4404-a030-ceea7fabc874",
   "metadata": {},
   "outputs": [],
   "source": [
    "%matplotlib widget\n",
    "ax = plt.figure().add_subplot(projection='3d')\n",
    "dist = ((v3.pos-v3.pos[i])**2).sum(axis=1)**0.5\n",
    "in_dist = dist<5\n",
    "x, y = np.linspace(tuple(v3.pos[in_dist,:2].min(axis=0)),tuple(v3.pos[in_dist,:2].max(axis=0)),20).T\n",
    "X,Y = np.meshgrid(x,y)\n",
    "Z = z0+r*np.cos(X/c0)*np.cos(Y/c0)\n",
    "ax.plot_wireframe(X,Y,Z,linewidths=0.5)\n",
    "X,Y,Z = square_comp(*v3.pos[i],v3.eigenvalue_0[i],v3.eigenvalue_1[i],v3.eigenvalue_2[i],v3.eig0[i],v3.eig1[i],v3.eig2[i])\n",
    "ax.plot_wireframe(X,Y,Z,linewidths=0.5,color='g')\n",
    "X,Y,Z = square_comp(*v3.pos[i],*mg.w,0,*mg.vxyz,mg.n)\n",
    "ax.plot_wireframe(X,Y,Z,linewidths=0.5,color='r')\n",
    "ax.plot(*v3.pos[in_dist].T,'.k',markersize=1)\n",
    "ax.plot(*v3.pos[i],'*')\n",
    "ax.plot(*v3.pos[v3.get_ordered_neighbors(v3.indices[i])].T,'*')\n",
    "ax.set_aspect('equal')\n",
    "ax.set_title(f'{i}')"
   ]
  },
  {
   "cell_type": "code",
   "execution_count": null,
   "id": "4e52cb22-226a-4cfc-9f17-b34b7bf93b6f",
   "metadata": {},
   "outputs": [],
   "source": [
    "plt.close()"
   ]
  },
  {
   "cell_type": "markdown",
   "id": "db9d3a54-8d58-481d-85d0-e3ff2e7f9877",
   "metadata": {},
   "source": [
    "# and now for something completely different"
   ]
  },
  {
   "cell_type": "code",
   "execution_count": null,
   "id": "6d552b76-0b1b-4613-b8c2-12fa826833a2",
   "metadata": {},
   "outputs": [],
   "source": [
    "def plotMySurf(axe3D, *, points=None, p_dict=None, bonds=None, b_dict=None,\n",
    "               triangles=None, t_dict=None, reaspect=None, **fmt_dict):\n",
    "    \"\"\"Plot a surface with points and bonds.\n",
    "\n",
    "    points: nx3\n",
    "    p_dict: {color: 'k', 'linestyle':'None', 'marker'='.', 'linewidth': 0.4}\n",
    "    bonds: mx2\n",
    "    b_dict: {'color': 'k', 'linestyle': '-',\n",
    "             'marker': 'None', 'linewidth': 0.25}\n",
    "    \"\"\"\n",
    "    if points is not None:\n",
    "        if p_dict is None:\n",
    "            p_dict = {'color': 'k',\n",
    "                      'linestyle': 'None', 'marker': '.',\n",
    "                      'linewidth': 0.2, }#'markersize': 2}\n",
    "        p_dict.update(fmt_dict)\n",
    "        x, y, z = np.vstack((points, np.ones(3)*np.nan)).T\n",
    "        axe3D.scatter3D(x[:-1], y[:-1], z[:-1], **p_dict)\n",
    "        if reaspect:\n",
    "            reaspectAxe(axe3D, points)\n",
    "    if bonds is not None:\n",
    "        edges = np.hstack((bonds,\n",
    "                           np.ones((bonds.shape[0], 1), dtype=int)*(len(x)-1))\n",
    "                          ).flatten()\n",
    "        if b_dict is None:\n",
    "            b_dict = {'color': 'k', 'linestyle': '-',\n",
    "                      'marker': 'None', 'linewidth': 0.25}\n",
    "        b_dict.update(fmt_dict)\n",
    "        if type(b_dict['color']) is np.ndarray:\n",
    "            if b_dict['color'].size>4.:\n",
    "                b_dict['color']=b_dict['color'].mean(axis=0)\n",
    "        xen, yen, zen = x[edges], y[edges], z[edges]\n",
    "        axe3D.plot3D(xen, yen, zen, **b_dict)"
   ]
  },
  {
   "cell_type": "code",
   "execution_count": null,
   "id": "71615df9-a45d-4131-994b-2ad37212181f",
   "metadata": {},
   "outputs": [],
   "source": [
    "def color_for(_type, lbl=None):\n",
    "    \"\"\"Color function for clusters.\"\"\"\n",
    "    c_bare = (0.9, 0.9, 0.9, 1.0)\n",
    "    c_conv = plt.cm.tab20b(13)\n",
    "    c_conc = plt.cm.tab20c(1)\n",
    "    try:\n",
    "        c = (\n",
    "             (_type[:, np.newaxis] == 5)*c_conc\n",
    "             + (_type[:, np.newaxis] == 47)*c_conv\n",
    "             + (_type[:, np.newaxis] == 4)*c_bare\n",
    "            )\n",
    "    except (IndexError, TypeError):\n",
    "        c = {5: c_conc, 47: c_conv}.get(_type, c_bare)\n",
    "    return c\n"
   ]
  },
  {
   "cell_type": "code",
   "execution_count": null,
   "id": "717252cc-3b7e-4499-97d7-db57f8725302",
   "metadata": {},
   "outputs": [],
   "source": [
    "def fit_coolwarm(array,minval=None,maxval=None):\n",
    "    if minval is None:\n",
    "        minval=min(array)\n",
    "    if maxval is None:\n",
    "        maxval=max(array)\n",
    "    if minval==maxval:\n",
    "        return plt.cm.coolwarm(array)\n",
    "    carray = (array-minval)/(maxval-minval)\n",
    "    return plt.cm.coolwarm(carray)"
   ]
  },
  {
   "cell_type": "code",
   "execution_count": null,
   "id": "849df87c-4463-48e5-93d5-30911f701ab7",
   "metadata": {},
   "outputs": [],
   "source": [
    "color2 = fit_coolwarm(v3.mean_curvature,-1,1)\n",
    "color2"
   ]
  },
  {
   "cell_type": "code",
   "execution_count": null,
   "id": "b67f5e82-ad16-43c1-b9ff-b055dec65f76",
   "metadata": {},
   "outputs": [],
   "source": [
    "color2[v3.blist].mean(axis=1)"
   ]
  },
  {
   "cell_type": "code",
   "execution_count": null,
   "id": "54ddd342-b204-4068-9f82-ff32115dc61d",
   "metadata": {},
   "outputs": [],
   "source": [
    "fig = plt.figure()\n",
    "axe = fig.add_subplot(projection='3d')\n",
    "plotMySurf(axe,points=v3.pos,p_dict={'color': color2,'s':0.5},\n",
    "           bonds=v.blist,b_dict={'color': color2[v3.blist].mean(axis=1)})"
   ]
  },
  {
   "cell_type": "code",
   "execution_count": null,
   "id": "c3e1dcef-ef7d-4ef5-bb59-bb3419966dce",
   "metadata": {},
   "outputs": [],
   "source": [
    "fig = plt.figure()\n",
    "axe = fig.add_subplot(projection='3d')\n",
    "axe.plot(*v3.pos.T,'.',color='k',markersize=0.5)"
   ]
  },
  {
   "cell_type": "code",
   "execution_count": null,
   "id": "b8cab0c7-fbc2-4d73-be8f-95936cc41b88",
   "metadata": {},
   "outputs": [],
   "source": [
    "def refine_mesh_once(v):\n",
    "    \"\"\"Create x,y,z and tlist of a refined mesh.\n",
    "\n",
    "    Every bond in the original mesh is now another vertex with index\n",
    "    of number original vertices + number of the original bond\n",
    "    \"\"\"\n",
    "    x,y,z = v.pos.T\n",
    "    tlist = v.tlist\n",
    "    blist = v.blist\n",
    "    nvtx = len(x)\n",
    "    nb = len(blist)\n",
    "    nt = len(tlist)\n",
    "    x2,y2,z2 = np.zeros((3,nvtx+nb))\n",
    "    x2[:nvtx],y2[:nvtx],z2[:nvtx] = x,y,z\n",
    "    x2[nvtx:],y2[nvtx:],z2[nvtx:] = v.pos[v.blist].mean(axis=1).T\n",
    "    tlist2 = np.zeros((4*nt,3),dtype=int)\n",
    "    # blist2 = np.zeros((3*nt//2,2),dtype=int)\n",
    "    for i,t in enumerate(tlist):\n",
    "        a,b,c = t\n",
    "        ab=nvtx+np.where((blist==(a,b)).all(1)|(blist==(b,a)).all(1))[0][0]\n",
    "        bc=nvtx+np.where((blist==(b,c)).all(1)|(blist==(c,b)).all(1))[0][0]\n",
    "        ca=nvtx+np.where((blist==(c,a)).all(1)|(blist==(a,c)).all(1))[0][0]\n",
    "        tlist2[4*i:4*(i+1),:]=((a,ab,ca),(b,bc,ab),(c,ca,bc),(ab,bc,ca))\n",
    "    return x2,y2,z2,tlist2\n"
   ]
  },
  {
   "cell_type": "code",
   "execution_count": null,
   "id": "711903e9-948f-49a5-9b65-80aa6601c644",
   "metadata": {},
   "outputs": [],
   "source": [
    "x2,y2,z2,tlist2 = refine_mesh_once(v2)"
   ]
  },
  {
   "cell_type": "code",
   "execution_count": null,
   "id": "609bbe55-315a-4f95-b310-bef3dfcf4c70",
   "metadata": {},
   "outputs": [],
   "source": [
    "types = np.concatenate((v2.type,v2.type[v2.blist].sum(axis=1)/2))\n",
    "c_tri = fit_coolwarm(types[tlist2].sum(axis=1)/3)#,4-47,47)"
   ]
  },
  {
   "cell_type": "code",
   "execution_count": null,
   "id": "91ee906d-c367-470b-a0a9-5d7b8f7a82e5",
   "metadata": {},
   "outputs": [],
   "source": [
    "poly3=Poly3DCollection(verts=np.stack((x2[tlist2],y2[tlist2],z2[tlist2]),axis=-1),\n",
    "                       facecolor=c_tri,edgecolor='k',linewidth=0.1)\n",
    "fig = plt.figure()\n",
    "axe = fig.add_subplot(projection='3d')\n",
    "axe.add_collection3d(poly3)\n",
    "axe.auto_scale_xyz(x2,y2,z2)"
   ]
  },
  {
   "cell_type": "code",
   "execution_count": null,
   "id": "7562e557-a4e7-4a1f-8953-14e08ad753fe",
   "metadata": {},
   "outputs": [],
   "source": [
    "tri=plt.matplotlib.tri.Triangulation(*v.pos[:,:2].T)\n",
    "ref = plt.matplotlib.tri.UniformTriRefiner(tri)\n",
    "tri2, z2=ref.refine_field(v.pos[:,2])\n",
    "tri3, c2=ref.refine_field(v.c0)"
   ]
  },
  {
   "cell_type": "code",
   "execution_count": null,
   "id": "f528ad0a-444a-4230-9f57-f0977db5cfe0",
   "metadata": {},
   "outputs": [],
   "source": [
    "color_ref = plt.cm.coolwarm(np.array((*c2,-1,1)))[:-2]"
   ]
  },
  {
   "cell_type": "code",
   "execution_count": null,
   "id": "a304f41d-55e6-450d-8336-a84c2a78ceb3",
   "metadata": {},
   "outputs": [],
   "source": [
    "triangles = tri2.get_masked_triangles()\n",
    "xt = tri2.x[triangles]\n",
    "yt = tri2.y[triangles]\n",
    "zt = z2[triangles]\n",
    "verts = np.stack((xt, yt, zt), axis=-1)\n",
    "cs = color_ref[triangles].mean(axis=1)"
   ]
  },
  {
   "cell_type": "code",
   "execution_count": null,
   "id": "2746c379-e1f4-4f8e-b230-c1a472d9e1a0",
   "metadata": {},
   "outputs": [],
   "source": [
    "poly3=Poly3DCollection(verts=verts,facecolor=cs)\n",
    "fig = plt.figure()\n",
    "axe = fig.add_subplot(projection='3d')\n",
    "axe.add_collection3d(poly3)\n",
    "axe.auto_scale_xyz(xt,yt,zt)"
   ]
  },
  {
   "cell_type": "code",
   "execution_count": null,
   "id": "8320b6c8-ef06-47f8-bf7b-6fbd9b15f4f5",
   "metadata": {},
   "outputs": [],
   "source": [
    "tricol=color2[v3.tlist].mean(axis=1)"
   ]
  },
  {
   "cell_type": "code",
   "execution_count": null,
   "id": "d06a0eb4-ec8c-4a60-9911-fed457a32062",
   "metadata": {},
   "outputs": [],
   "source": [
    "v.tlist"
   ]
  },
  {
   "cell_type": "code",
   "execution_count": null,
   "id": "52ea6175-f16c-47d4-8055-469ad6db6aba",
   "metadata": {},
   "outputs": [],
   "source": [
    "tricol"
   ]
  },
  {
   "cell_type": "code",
   "execution_count": null,
   "id": "aae25040-234a-48a7-a34f-747bc5eb89ed",
   "metadata": {},
   "outputs": [],
   "source": [
    "poly3=Poly3DCollection(verts=v.pos[v.tlist],facecolor=tricol)"
   ]
  },
  {
   "cell_type": "code",
   "execution_count": null,
   "id": "56c9a461-7ba7-4cc1-a307-d203484f23f9",
   "metadata": {},
   "outputs": [],
   "source": [
    "poly3"
   ]
  },
  {
   "cell_type": "code",
   "execution_count": null,
   "id": "245dbbb6-cc3f-4835-8b07-483472926ab3",
   "metadata": {},
   "outputs": [],
   "source": [
    "v.pos[v.tlist]"
   ]
  },
  {
   "cell_type": "code",
   "execution_count": null,
   "id": "6a14ab46-3993-4439-80eb-d802e6cb84d4",
   "metadata": {},
   "outputs": [],
   "source": [
    "fig = plt.figure()\n",
    "axe = fig.add_subplot(projection='3d')\n",
    "axe.add_collection3d(poly3)\n",
    "axe.auto_scale_xyz(*v3.pos.T)"
   ]
  }
 ],
 "metadata": {
  "kernelspec": {
   "display_name": "Python 3 (ipykernel)",
   "language": "python",
   "name": "python3"
  },
  "language_info": {
   "codemirror_mode": {
    "name": "ipython",
    "version": 3
   },
   "file_extension": ".py",
   "mimetype": "text/x-python",
   "name": "python",
   "nbconvert_exporter": "python",
   "pygments_lexer": "ipython3",
   "version": "3.10.9"
  }
 },
 "nbformat": 4,
 "nbformat_minor": 5
}
