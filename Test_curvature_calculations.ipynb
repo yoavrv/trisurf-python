{
 "cells": [
  {
   "cell_type": "markdown",
   "id": "c33d1794-e97e-47fc-879d-e7dc9580223d",
   "metadata": {},
   "source": [
    "### Test curvature calculations ###"
   ]
  },
  {
   "cell_type": "code",
   "execution_count": 1,
   "id": "b5a74486-f5ec-4d29-9da5-408cdde03464",
   "metadata": {},
   "outputs": [],
   "source": [
    "import subprocess, shutil, datetime\n",
    "from pathlib import Path\n",
    "\n",
    "import numpy as np\n",
    "import pandas as pd\n",
    "import matplotlib.pyplot as plt\n",
    "from mpl_toolkits.mplot3d.art3d import Poly3DCollection\n",
    "\n",
    "import vtu\n",
    "from vtu import PyVtu\n",
    "from ts_auto_wrapper import TSWrapper"
   ]
  },
  {
   "cell_type": "code",
   "execution_count": 2,
   "id": "2022a678-1936-4cae-975f-7fc4ab89e936",
   "metadata": {},
   "outputs": [],
   "source": [
    "ts=TSWrapper(Path(\"/opt/workspace/msc_project/cluster-trisurf\"))\n",
    "trisurf_test = Path('/opt/workspace/msc_project/simulations'\n",
    "                    '/QA_tests/cluster_version/rework')"
   ]
  },
  {
   "cell_type": "code",
   "execution_count": 3,
   "id": "80927d65-4320-45b1-bb07-add3c388ae80",
   "metadata": {},
   "outputs": [],
   "source": [
    "# children = lambda path: list(sorted(path.iterdir()))\n",
    "# children(trisurf_test)"
   ]
  },
  {
   "cell_type": "code",
   "execution_count": 4,
   "id": "0a0779cd-9591-46ac-81ab-492f8c48fa7a",
   "metadata": {},
   "outputs": [],
   "source": [
    "test_folder = trisurf_test/'egg_carton'/'linterp'\n",
    "tape=None\n",
    "extra_args = []\n",
    "destroy_timesteps_at_end=False # destroy all timesteps after the test\n",
    "timeout = 1000 # seconds to timeout for each `trisurf` test"
   ]
  },
  {
   "cell_type": "code",
   "execution_count": 5,
   "id": "6a373cb1-d06d-421d-a478-6396edcca37d",
   "metadata": {},
   "outputs": [],
   "source": [
    "tape=\"\"\"In next cell (hidden)\"\"\""
   ]
  },
  {
   "cell_type": "code",
   "execution_count": 6,
   "id": "d766e05e-0114-4386-9881-01f27765823d",
   "metadata": {
    "jupyter": {
     "source_hidden": true
    },
    "tags": []
   },
   "outputs": [],
   "source": [
    "tape = \"\"\"\n",
    "##################\n",
    "## Trisurf Tape ##\n",
    "##################\n",
    "\n",
    "# a control file for the trisurf simulations\n",
    "# $ are program control\n",
    "# * are initialization only\n",
    "\n",
    "####### Vesicle definitions ###########\n",
    "# * nshell is a number of divisions of dipyramid\n",
    "nshell=20\n",
    "# $ dmax is the max. bond length (in units l_min)\n",
    "dmax=1.7\n",
    "# $ dmin_interspecies in the min. dist. between different vertex species (in units l_min)\n",
    "dmin_interspecies=1.2\n",
    "# $ max step size (in units l_min)\n",
    "stepsize=0.15\n",
    "\n",
    "\n",
    "#######  Cell definitions ############\n",
    "# $ partition space to cells of \n",
    "nxmax=100\n",
    "nymax=100\n",
    "nzmax=100\n",
    "\n",
    "\n",
    "####### Program Control ############\n",
    "# $ how many MC sweeps between subsequent records of states to disk. 200000 is reasonable value\n",
    "mcsweeps=1000\n",
    "# $ how many initial mcsweeps*inititer MC sweeps before recording to disk?\n",
    "inititer=0\n",
    "# $ how many records do you want on the disk iteration are there in a run?\n",
    "iterations=10\n",
    "\n",
    "\n",
    "# $ do not write \"ts_fprintf\" statesments to stdout (for use in cluster)\n",
    "quiet=false\n",
    "\n",
    "\n",
    "######-----------------------------#######\n",
    "###### Memrbane and CMC properties #######\n",
    "######-----------------------------#######\n",
    "\n",
    "# * bending rigidity of the membrane (in units kT)\n",
    "xk0=20\n",
    "# * xk2: Gaussian bending modulus\n",
    "xk2=-20\n",
    "\n",
    "# Each vertex is associated with a type (8 bit flag):\n",
    "#   0x01 : bonding vertex              0x02 : active force vertex\n",
    "#   0x04 : adhesive vertex             0x08 : anisotropic vertex\n",
    "#   0x10 : (reserved for future use)   0x20 : vicsek vertex (correlated force)\n",
    "#   0x40 : edge vertex (not used)      0x80 : ghost vertex (unnmoving) (must be ==type!)\n",
    "#   Bare membrane vertices (default) are adhesive 0x04 (4), \n",
    "# CMC vertices are bonding, active, anisotropic, and correlated 0x2F (47)\n",
    "# * number of CMC vertices (integer)\n",
    "number_of_vertices_with_c0=0\n",
    "# * c0/2 is spontaneous curvature. c0 is used as (c1+c1-c0)^2 in energy term (float)\n",
    "c0=0.5\n",
    "# * d0/2 is spontaneous deviator. d0 is used in shape tensor only (float)\n",
    "# Mismatch = Curvature - c0/2*I - d0/2 sigma_z (i.e. the 1st and 2nd intrinsic curvatures are half the sum and half the difference )\n",
    "d0=0.5\n",
    "\n",
    "# $ curvature model (8 bit flag)\n",
    "#   0x01 : calculate angle-sum gaussian curvature,  0x02 : calculate shape operator, \n",
    "#   0x04 : update director even in the old method.  0x08 : use shape operator energy rather than just save it\n",
    "#   0x10 : use shape, but only for anisotropic.     0x20 : do not rotate director as a MC step\n",
    "#   0x40 : disable old method (use shape op only)   0x80 : calculate angle sum only if kx2!=0\n",
    "# example of important models: \n",
    "# 0: old method. 7: debug, save everything but use energy from old method. 35: parallel transport of directors only\n",
    "curvature_model=15\n",
    "# $ limit sharp edges by imposing the dihedral angle between triangle obeys cos(phi_ab)>X. -1 means no limit\n",
    "max_dihedral_angle_cosine=-0.1\n",
    "\n",
    "# * energy of bond between bonding vertices (float, positive value for attraction)\n",
    "w=1.0\n",
    "# $ bond model- vertex of bonding type bind with mean(w). (flag)\n",
    "# 0x1: require type identity.   0x2: nematic interaction between anisotropic vtx\n",
    "bond_model=0\n",
    "\n",
    "# * direct force on active vertices (float)\n",
    "F=1.0\n",
    "# $ force_model- force on active type vertices. (integer flag)\n",
    "#   0: force in normal direction\n",
    "#   1: F proportional nonactive neigh, 2: F proportional nonconcave neigh\n",
    "#   3: F=0 if any neigh is concave\n",
    "#   16: Vicsek, direction aligend with connected neighbors up to radius,\n",
    "#   17: 16, with weight 1/neighbor accoding to distance\n",
    "force_model=0\n",
    "# $ Vicsek: force direction is sum of own normal + (nearest neighbor normals * vicsek_strength)\n",
    "# interaction strength parameter: Vicsek: weight of neighbors (float)\n",
    "vicsek_strength=0.1\n",
    "# $ interaction radius parameter: Vicsek: max. neighbor distance (integer)\n",
    "vicsek_radius=4.0\n",
    "\n",
    "\n",
    "######---------------------#######\n",
    "###### Adhesion to surface #######\n",
    "######---------------------#######\n",
    "\n",
    "# $ Adhesion model (8 bit flag)\n",
    "# energy of any adhesive vertex dx distance from the adhesion geometry \n",
    "# as long as distance is less than the cutoff (dx0)\n",
    "#   0x01: step potential ad_w*(dx/dx0), \n",
    "#   0x02: parabolic ad_w*(1-(dx/dx0)^2)\n",
    "#   0x04: y-anisotropy factor *exp(-y/scale)\n",
    "adhesion_model=1\n",
    "# $ type of adhesion geometry do you want (integer flag)\n",
    "#   1: plane surface               f(r)=z-z0\n",
    "#   2: spherical surface           f(r)=(x**2 + y**2 + (z-z0)**2)-r**2\n",
    "#   3: cylindrical surface         f(r)=((z-z0)**2 + x**2)-r**2\n",
    "#   4: plane-x sinosoidal surface    f(r)=z-(z0+rcos(x))\n",
    "#   5: plane surface with adhesion spots  E*=factor*([x/scale-0.5]**2+[y/scale - 0.5]**2 less than r**2)\n",
    "#   6: plane-xy sinosoidal surface    f(r)=z-(z0+rcos(x)cos(y))\n",
    "adhesion_geometry=6\n",
    "# $ potential range (float in lmin)\n",
    "adhesion_cutoff=1\n",
    "# $ position of the adhesive surface (float)\n",
    "# bipyramid topmost is approx. z_max = 0.630877*nshell, so -z_max is a good guess\n",
    "adhesion_z=-10\n",
    "# $ radius of the sphere or cylinder.\n",
    "adhesion_radius=2.0\n",
    "# $ for sinosoidal, adhesion spot lattice, and y anisotropy (float)\n",
    "adhesion_scale=2.0\n",
    "# $ factor of adhesion on spots (float)\n",
    "adhesion_factor=2.0\n",
    "# * adhesion energy per vertex (float)\n",
    "adhesion_strength=4.0\n",
    "\n",
    "# $ Allow motion of center mass: default (0) reset vesicle to 0,0,0 every few time steps (bool) \n",
    "allow_center_mass_movement=0\n",
    "# $ In active case, we need to apply an external force in the z-direction for overall force balance along z-direction, choose 1 if you want this, 0 otherwise (bool)\n",
    "force_balance_along_z_axis=0\n",
    "\n",
    "\n",
    "######-------------------------------------------#######\n",
    "###### Pressure/volume/area/tension calculations #######\n",
    "######-------------------------------------------#######\n",
    "\n",
    "# all of these are program control (# $)\n",
    "\n",
    "# $ Calculate p*dV energy contribution (bool)\n",
    "pressure_switch=0\n",
    "# $ pressure difference: p_inside - p_outside (in units kT/l_min^3):\n",
    "pressure=0.0\n",
    "\n",
    "# $ Volume constraint/energy (integer flag) \n",
    "#   0: disable constant volume\n",
    "#   1: enable with additional vertex move {broken}\n",
    "#   2: enable with epsvol range\n",
    "#   3: enable parabolic potential (xkV0/2V0 (V-V0)^2)\n",
    "#   4: enable reduced volume parabolic potential (xkV0/2 (V_red_eq-V/Vsph)^2)\n",
    "volume_switch=0\n",
    "constvolprecision=1e-14\n",
    "# $ Rest volume. Set V0 less than 1 to determine volume from initial conditions (see constant_volume tag in .vtu files) (float)\n",
    "V0=0\n",
    "# $ volume modulus (float)\n",
    "# needs some thinking: reasonable values depends on number of vertices N!\n",
    "# reduced volume scaling is between 1/(N Sqrt(N)) and 1/N\n",
    "xkV0=1.0\n",
    "# $ reduce volume at equilibrium (between 0 and 1) (float)\n",
    "Vr=1.0\n",
    "\n",
    "# $ Area constraint/energy (integer flag) \n",
    "#   0: disable constant area, \n",
    "#   1: stretching of triangles\n",
    "#   2: enable constant area with epsarea\n",
    "#   3: enable parabolic potential (xkA0/2A0 (A-A0)^2)\n",
    "area_switch=0\n",
    "# $ Rest area, A0 less than 1 to determine area from initial conditions (see constant_area tag in .vtu files)  (float)\n",
    "A0=0\n",
    "# $ Stretching modulus (float)\n",
    "xkA0=1.0\n",
    "\n",
    "\n",
    "######------######\n",
    "###### misc ######\n",
    "######------######\n",
    "\n",
    "####### Nucleus (inside the vesicle) ###########\n",
    "\n",
    "# $ Radius and $ position of an impenetrable hard sphere inside the vesicle (float)\n",
    "R_nucleus=0\n",
    "R_nucleusX=0\n",
    "R_nucleusY=0\n",
    "R_nucleusZ=0\n",
    "\n",
    "###### Plane confinement ############\n",
    "\n",
    "# $ plane confinement; two plates between the substrate-vesicle system, upper plate in moving downwards untill plan_d, lower plate is stationary\n",
    "plane_confinement_switch=0\n",
    "# $ final plane distance (float in lmin)\n",
    "plane_d=10\n",
    "# $ plane to vesicle repulsion force while closing\n",
    "plane_F=1.0\n",
    "\n",
    "###### Spherical harmonics ###########\n",
    "\n",
    "# $ If 0 then spherical harmonics are not calculated at all. (integer)\n",
    "spherical_harmonics_coefficients=0\n",
    "\n",
    "\n",
    "#####----------------------------------######\n",
    "##### Polymer and filament decorations ######\n",
    "#####----------------------------------######\n",
    "\n",
    "####### Polymer (brush) definitions ###########\n",
    "# * npoly is a number of polymers attached to npoly distinct vertices on vesicle\n",
    "npoly=0\n",
    "# * nmono is a number of monomers in each polymer\n",
    "nmono=20\n",
    "# $ Spring constant between monomers of the polymer\n",
    "k_spring=800\n",
    "# * set to 1 if half of the polymeres are inside the vesicle\n",
    "internal_poly=0\n",
    "\n",
    "####### Filament (inside the vesicle) definitions ###########\n",
    "# * nfil is a number of filaments inside the vesicle\n",
    "nfil=0\n",
    "# * nfono is a number of monomers in each filament\n",
    "nfono=3\n",
    "# $ Persistence lenght of the filaments (in units l_min)\n",
    "xi=100\n",
    "\n",
    "##### no multiprocessing #######\n",
    "\n",
    "\"\"\""
   ]
  },
  {
   "cell_type": "markdown",
   "id": "85eeaf3a-4f8c-4d20-aa09-86300b315369",
   "metadata": {
    "tags": []
   },
   "source": [
    "### Make a new folder if there isn't one ###"
   ]
  },
  {
   "cell_type": "code",
   "execution_count": 7,
   "id": "3a474305-68d7-4c6e-9b0f-a14439a27de7",
   "metadata": {},
   "outputs": [],
   "source": [
    "new_folder=None\n",
    "if not test_folder:\n",
    "    # make up some appropriate folder\n",
    "    now = datetime.datetime.now()\n",
    "    ret = subprocess.run(['git', 'status'],cwd=ts.path_to_trisurf,capture_output=True)\n",
    "    branch = ret.stdout.decode().partition('On branch ')[-1].splitlines()[0].strip()\n",
    "    new_folder = f'{now.year:04}_{now.month:02}_{now.day:02}_{branch}'\n",
    "    test_folder = trisurf_test/new_folder\n",
    "new_folder"
   ]
  },
  {
   "cell_type": "code",
   "execution_count": 8,
   "id": "ceb7d909-11d1-48fa-b455-9d257428e07b",
   "metadata": {},
   "outputs": [],
   "source": [
    "if not test_folder.exists():\n",
    "    test_folder.mkdir()\n",
    "    test_folder.joinpath('test_results').mkdir()\n",
    "elif new_folder is not None:\n",
    "    raise ValueError(f'folder {test_folder} for today already exists: Rename or delete to run test')"
   ]
  },
  {
   "cell_type": "markdown",
   "id": "4a5ddcda-4eea-4e29-aad5-c9ec1dd71515",
   "metadata": {},
   "source": [
    "### copy the tape to the new folder ###"
   ]
  },
  {
   "cell_type": "code",
   "execution_count": 8,
   "id": "338f11bb-a492-40b7-b642-0d1c11fbb249",
   "metadata": {},
   "outputs": [],
   "source": [
    "if tape is None:\n",
    "    shutil.copy(ts.path_to_trisurf/\"src/tape\",test_folder/\"tape\")\n",
    "if type(tape) is str:\n",
    "    with open(test_folder/\"tape\",'w') as f: f.write(tape);\n",
    "else:\n",
    "    shutil.copy(tape,test_folder/\"tape\")"
   ]
  },
  {
   "cell_type": "markdown",
   "id": "d4aa1cd5-336d-451a-bacc-9bb32f36b66a",
   "metadata": {},
   "source": [
    "## Check force from tape ##"
   ]
  },
  {
   "cell_type": "code",
   "execution_count": 13,
   "id": "3fafc564-702d-46e0-b9cf-5e8c3180c612",
   "metadata": {
    "scrolled": true,
    "tags": []
   },
   "outputs": [
    {
     "name": "stdout",
     "output_type": "stream",
     "text": [
      "Making clean in src\n",
      "make[1]: Entering directory '/opt/workspace/msc_project/cluster-trisurf/src'\n",
      " rm -f trisurf tsmeasure tspoststat\n",
      "test -z \"libtrisurf.la\" || rm -f libtrisurf.la\n",
      "rm -f ./so_locations\n",
      "rm -rf .libs _libs\n",
      "rm -f *.o\n",
      "rm -f *.lo\n",
      "make[1]: Leaving directory '/opt/workspace/msc_project/cluster-trisurf/src'\n",
      "make[1]: Entering directory '/opt/workspace/msc_project/cluster-trisurf'\n",
      "rm -rf .libs _libs\n",
      "rm -f *.lo\n",
      "make[1]: Leaving directory '/opt/workspace/msc_project/cluster-trisurf'\n",
      "make  all-recursive\n",
      "make[1]: Entering directory '/opt/workspace/msc_project/cluster-trisurf'\n",
      "Making all in src\n",
      "make[2]: Entering directory '/opt/workspace/msc_project/cluster-trisurf/src'\n",
      "gcc -DHAVE_CONFIG_H -I. -I..  -I/usr/include/libxml2 -fgnu89-inline  -Wall  -DTS_VERSION=\\\"8a882d5-dirty\\\"  -O3 -ffast-math -flto=auto -MT main.o -MD -MP -MF .deps/main.Tpo -c -o main.o main.c\n",
      "mv -f .deps/main.Tpo .deps/main.Po\n",
      "/bin/bash ../libtool  --tag=CC   --mode=compile gcc -DHAVE_CONFIG_H -I. -I..  -I/usr/include/libxml2 -fgnu89-inline  -Wall  -DTS_VERSION=\\\"8a882d5-dirty\\\"  -O3 -ffast-math -flto=auto -MT general.lo -MD -MP -MF .deps/general.Tpo -c -o general.lo general.c\n",
      "libtool: compile:  gcc -DHAVE_CONFIG_H -I. -I.. -I/usr/include/libxml2 -fgnu89-inline -Wall -DTS_VERSION=\\\"8a882d5-dirty\\\" -O3 -ffast-math -flto=auto -MT general.lo -MD -MP -MF .deps/general.Tpo -c general.c  -fPIC -DPIC -o .libs/general.o\n",
      "libtool: compile:  gcc -DHAVE_CONFIG_H -I. -I.. -I/usr/include/libxml2 -fgnu89-inline -Wall -DTS_VERSION=\\\"8a882d5-dirty\\\" -O3 -ffast-math -flto=auto -MT general.lo -MD -MP -MF .deps/general.Tpo -c general.c -o general.o >/dev/null 2>&1\n",
      "mv -f .deps/general.Tpo .deps/general.Plo\n",
      "/bin/bash ../libtool  --tag=CC   --mode=compile gcc -DHAVE_CONFIG_H -I. -I..  -I/usr/include/libxml2 -fgnu89-inline  -Wall  -DTS_VERSION=\\\"8a882d5-dirty\\\"  -O3 -ffast-math -flto=auto -MT vertex.lo -MD -MP -MF .deps/vertex.Tpo -c -o vertex.lo vertex.c\n",
      "libtool: compile:  gcc -DHAVE_CONFIG_H -I. -I.. -I/usr/include/libxml2 -fgnu89-inline -Wall -DTS_VERSION=\\\"8a882d5-dirty\\\" -O3 -ffast-math -flto=auto -MT vertex.lo -MD -MP -MF .deps/vertex.Tpo -c vertex.c  -fPIC -DPIC -o .libs/vertex.o\n",
      "libtool: compile:  gcc -DHAVE_CONFIG_H -I. -I.. -I/usr/include/libxml2 -fgnu89-inline -Wall -DTS_VERSION=\\\"8a882d5-dirty\\\" -O3 -ffast-math -flto=auto -MT vertex.lo -MD -MP -MF .deps/vertex.Tpo -c vertex.c -o vertex.o >/dev/null 2>&1\n",
      "mv -f .deps/vertex.Tpo .deps/vertex.Plo\n",
      "/bin/bash ../libtool  --tag=CC   --mode=compile gcc -DHAVE_CONFIG_H -I. -I..  -I/usr/include/libxml2 -fgnu89-inline  -Wall  -DTS_VERSION=\\\"8a882d5-dirty\\\"  -O3 -ffast-math -flto=auto -MT bond.lo -MD -MP -MF .deps/bond.Tpo -c -o bond.lo bond.c\n",
      "libtool: compile:  gcc -DHAVE_CONFIG_H -I. -I.. -I/usr/include/libxml2 -fgnu89-inline -Wall -DTS_VERSION=\\\"8a882d5-dirty\\\" -O3 -ffast-math -flto=auto -MT bond.lo -MD -MP -MF .deps/bond.Tpo -c bond.c  -fPIC -DPIC -o .libs/bond.o\n",
      "libtool: compile:  gcc -DHAVE_CONFIG_H -I. -I.. -I/usr/include/libxml2 -fgnu89-inline -Wall -DTS_VERSION=\\\"8a882d5-dirty\\\" -O3 -ffast-math -flto=auto -MT bond.lo -MD -MP -MF .deps/bond.Tpo -c bond.c -o bond.o >/dev/null 2>&1\n",
      "mv -f .deps/bond.Tpo .deps/bond.Plo\n",
      "/bin/bash ../libtool  --tag=CC   --mode=compile gcc -DHAVE_CONFIG_H -I. -I..  -I/usr/include/libxml2 -fgnu89-inline  -Wall  -DTS_VERSION=\\\"8a882d5-dirty\\\"  -O3 -ffast-math -flto=auto -MT triangle.lo -MD -MP -MF .deps/triangle.Tpo -c -o triangle.lo triangle.c\n",
      "libtool: compile:  gcc -DHAVE_CONFIG_H -I. -I.. -I/usr/include/libxml2 -fgnu89-inline -Wall -DTS_VERSION=\\\"8a882d5-dirty\\\" -O3 -ffast-math -flto=auto -MT triangle.lo -MD -MP -MF .deps/triangle.Tpo -c triangle.c  -fPIC -DPIC -o .libs/triangle.o\n",
      "libtool: compile:  gcc -DHAVE_CONFIG_H -I. -I.. -I/usr/include/libxml2 -fgnu89-inline -Wall -DTS_VERSION=\\\"8a882d5-dirty\\\" -O3 -ffast-math -flto=auto -MT triangle.lo -MD -MP -MF .deps/triangle.Tpo -c triangle.c -o triangle.o >/dev/null 2>&1\n",
      "mv -f .deps/triangle.Tpo .deps/triangle.Plo\n",
      "/bin/bash ../libtool  --tag=CC   --mode=compile gcc -DHAVE_CONFIG_H -I. -I..  -I/usr/include/libxml2 -fgnu89-inline  -Wall  -DTS_VERSION=\\\"8a882d5-dirty\\\"  -O3 -ffast-math -flto=auto -MT cell.lo -MD -MP -MF .deps/cell.Tpo -c -o cell.lo cell.c\n",
      "libtool: compile:  gcc -DHAVE_CONFIG_H -I. -I.. -I/usr/include/libxml2 -fgnu89-inline -Wall -DTS_VERSION=\\\"8a882d5-dirty\\\" -O3 -ffast-math -flto=auto -MT cell.lo -MD -MP -MF .deps/cell.Tpo -c cell.c  -fPIC -DPIC -o .libs/cell.o\n",
      "libtool: compile:  gcc -DHAVE_CONFIG_H -I. -I.. -I/usr/include/libxml2 -fgnu89-inline -Wall -DTS_VERSION=\\\"8a882d5-dirty\\\" -O3 -ffast-math -flto=auto -MT cell.lo -MD -MP -MF .deps/cell.Tpo -c cell.c -o cell.o >/dev/null 2>&1\n",
      "mv -f .deps/cell.Tpo .deps/cell.Plo\n",
      "/bin/bash ../libtool  --tag=CC   --mode=compile gcc -DHAVE_CONFIG_H -I. -I..  -I/usr/include/libxml2 -fgnu89-inline  -Wall  -DTS_VERSION=\\\"8a882d5-dirty\\\"  -O3 -ffast-math -flto=auto -MT vesicle.lo -MD -MP -MF .deps/vesicle.Tpo -c -o vesicle.lo vesicle.c\n",
      "libtool: compile:  gcc -DHAVE_CONFIG_H -I. -I.. -I/usr/include/libxml2 -fgnu89-inline -Wall -DTS_VERSION=\\\"8a882d5-dirty\\\" -O3 -ffast-math -flto=auto -MT vesicle.lo -MD -MP -MF .deps/vesicle.Tpo -c vesicle.c  -fPIC -DPIC -o .libs/vesicle.o\n",
      "libtool: compile:  gcc -DHAVE_CONFIG_H -I. -I.. -I/usr/include/libxml2 -fgnu89-inline -Wall -DTS_VERSION=\\\"8a882d5-dirty\\\" -O3 -ffast-math -flto=auto -MT vesicle.lo -MD -MP -MF .deps/vesicle.Tpo -c vesicle.c -o vesicle.o >/dev/null 2>&1\n",
      "mv -f .deps/vesicle.Tpo .deps/vesicle.Plo\n",
      "/bin/bash ../libtool  --tag=CC   --mode=compile gcc -DHAVE_CONFIG_H -I. -I..  -I/usr/include/libxml2 -fgnu89-inline  -Wall  -DTS_VERSION=\\\"8a882d5-dirty\\\"  -O3 -ffast-math -flto=auto -MT initial_distribution.lo -MD -MP -MF .deps/initial_distribution.Tpo -c -o initial_distribution.lo initial_distribution.c\n",
      "libtool: compile:  gcc -DHAVE_CONFIG_H -I. -I.. -I/usr/include/libxml2 -fgnu89-inline -Wall -DTS_VERSION=\\\"8a882d5-dirty\\\" -O3 -ffast-math -flto=auto -MT initial_distribution.lo -MD -MP -MF .deps/initial_distribution.Tpo -c initial_distribution.c  -fPIC -DPIC -o .libs/initial_distribution.o\n",
      "libtool: compile:  gcc -DHAVE_CONFIG_H -I. -I.. -I/usr/include/libxml2 -fgnu89-inline -Wall -DTS_VERSION=\\\"8a882d5-dirty\\\" -O3 -ffast-math -flto=auto -MT initial_distribution.lo -MD -MP -MF .deps/initial_distribution.Tpo -c initial_distribution.c -o initial_distribution.o >/dev/null 2>&1\n",
      "mv -f .deps/initial_distribution.Tpo .deps/initial_distribution.Plo\n",
      "/bin/bash ../libtool  --tag=CC   --mode=compile gcc -DHAVE_CONFIG_H -I. -I..  -I/usr/include/libxml2 -fgnu89-inline  -Wall  -DTS_VERSION=\\\"8a882d5-dirty\\\"  -O3 -ffast-math -flto=auto -MT io.lo -MD -MP -MF .deps/io.Tpo -c -o io.lo io.c\n",
      "libtool: compile:  gcc -DHAVE_CONFIG_H -I. -I.. -I/usr/include/libxml2 -fgnu89-inline -Wall -DTS_VERSION=\\\"8a882d5-dirty\\\" -O3 -ffast-math -flto=auto -MT io.lo -MD -MP -MF .deps/io.Tpo -c io.c  -fPIC -DPIC -o .libs/io.o\n",
      "libtool: compile:  gcc -DHAVE_CONFIG_H -I. -I.. -I/usr/include/libxml2 -fgnu89-inline -Wall -DTS_VERSION=\\\"8a882d5-dirty\\\" -O3 -ffast-math -flto=auto -MT io.lo -MD -MP -MF .deps/io.Tpo -c io.c -o io.o >/dev/null 2>&1\n",
      "mv -f .deps/io.Tpo .deps/io.Plo\n",
      "/bin/bash ../libtool  --tag=CC   --mode=compile gcc -DHAVE_CONFIG_H -I. -I..  -I/usr/include/libxml2 -fgnu89-inline  -Wall  -DTS_VERSION=\\\"8a882d5-dirty\\\"  -O3 -ffast-math -flto=auto -MT frame.lo -MD -MP -MF .deps/frame.Tpo -c -o frame.lo frame.c\n",
      "libtool: compile:  gcc -DHAVE_CONFIG_H -I. -I.. -I/usr/include/libxml2 -fgnu89-inline -Wall -DTS_VERSION=\\\"8a882d5-dirty\\\" -O3 -ffast-math -flto=auto -MT frame.lo -MD -MP -MF .deps/frame.Tpo -c frame.c  -fPIC -DPIC -o .libs/frame.o\n",
      "libtool: compile:  gcc -DHAVE_CONFIG_H -I. -I.. -I/usr/include/libxml2 -fgnu89-inline -Wall -DTS_VERSION=\\\"8a882d5-dirty\\\" -O3 -ffast-math -flto=auto -MT frame.lo -MD -MP -MF .deps/frame.Tpo -c frame.c -o frame.o >/dev/null 2>&1\n",
      "mv -f .deps/frame.Tpo .deps/frame.Plo\n",
      "/bin/bash ../libtool  --tag=CC   --mode=compile gcc -DHAVE_CONFIG_H -I. -I..  -I/usr/include/libxml2 -fgnu89-inline  -Wall  -DTS_VERSION=\\\"8a882d5-dirty\\\"  -O3 -ffast-math -flto=auto -MT energy.lo -MD -MP -MF .deps/energy.Tpo -c -o energy.lo energy.c\n",
      "libtool: compile:  gcc -DHAVE_CONFIG_H -I. -I.. -I/usr/include/libxml2 -fgnu89-inline -Wall -DTS_VERSION=\\\"8a882d5-dirty\\\" -O3 -ffast-math -flto=auto -MT energy.lo -MD -MP -MF .deps/energy.Tpo -c energy.c  -fPIC -DPIC -o .libs/energy.o\n",
      "libtool: compile:  gcc -DHAVE_CONFIG_H -I. -I.. -I/usr/include/libxml2 -fgnu89-inline -Wall -DTS_VERSION=\\\"8a882d5-dirty\\\" -O3 -ffast-math -flto=auto -MT energy.lo -MD -MP -MF .deps/energy.Tpo -c energy.c -o energy.o >/dev/null 2>&1\n",
      "mv -f .deps/energy.Tpo .deps/energy.Plo\n",
      "/bin/bash ../libtool  --tag=CC   --mode=compile gcc -DHAVE_CONFIG_H -I. -I..  -I/usr/include/libxml2 -fgnu89-inline  -Wall  -DTS_VERSION=\\\"8a882d5-dirty\\\"  -O3 -ffast-math -flto=auto -MT timestep.lo -MD -MP -MF .deps/timestep.Tpo -c -o timestep.lo timestep.c\n",
      "libtool: compile:  gcc -DHAVE_CONFIG_H -I. -I.. -I/usr/include/libxml2 -fgnu89-inline -Wall -DTS_VERSION=\\\"8a882d5-dirty\\\" -O3 -ffast-math -flto=auto -MT timestep.lo -MD -MP -MF .deps/timestep.Tpo -c timestep.c  -fPIC -DPIC -o .libs/timestep.o\n",
      "libtool: compile:  gcc -DHAVE_CONFIG_H -I. -I.. -I/usr/include/libxml2 -fgnu89-inline -Wall -DTS_VERSION=\\\"8a882d5-dirty\\\" -O3 -ffast-math -flto=auto -MT timestep.lo -MD -MP -MF .deps/timestep.Tpo -c timestep.c -o timestep.o >/dev/null 2>&1\n",
      "mv -f .deps/timestep.Tpo .deps/timestep.Plo\n",
      "/bin/bash ../libtool  --tag=CC   --mode=compile gcc -DHAVE_CONFIG_H -I. -I..  -I/usr/include/libxml2 -fgnu89-inline  -Wall  -DTS_VERSION=\\\"8a882d5-dirty\\\"  -O3 -ffast-math -flto=auto -MT vertexmove.lo -MD -MP -MF .deps/vertexmove.Tpo -c -o vertexmove.lo vertexmove.c\n",
      "libtool: compile:  gcc -DHAVE_CONFIG_H -I. -I.. -I/usr/include/libxml2 -fgnu89-inline -Wall -DTS_VERSION=\\\"8a882d5-dirty\\\" -O3 -ffast-math -flto=auto -MT vertexmove.lo -MD -MP -MF .deps/vertexmove.Tpo -c vertexmove.c  -fPIC -DPIC -o .libs/vertexmove.o\n",
      "libtool: compile:  gcc -DHAVE_CONFIG_H -I. -I.. -I/usr/include/libxml2 -fgnu89-inline -Wall -DTS_VERSION=\\\"8a882d5-dirty\\\" -O3 -ffast-math -flto=auto -MT vertexmove.lo -MD -MP -MF .deps/vertexmove.Tpo -c vertexmove.c -o vertexmove.o >/dev/null 2>&1\n",
      "mv -f .deps/vertexmove.Tpo .deps/vertexmove.Plo\n",
      "/bin/bash ../libtool  --tag=CC   --mode=compile gcc -DHAVE_CONFIG_H -I. -I..  -I/usr/include/libxml2 -fgnu89-inline  -Wall  -DTS_VERSION=\\\"8a882d5-dirty\\\"  -O3 -ffast-math -flto=auto -MT bondflip.lo -MD -MP -MF .deps/bondflip.Tpo -c -o bondflip.lo bondflip.c\n",
      "libtool: compile:  gcc -DHAVE_CONFIG_H -I. -I.. -I/usr/include/libxml2 -fgnu89-inline -Wall -DTS_VERSION=\\\"8a882d5-dirty\\\" -O3 -ffast-math -flto=auto -MT bondflip.lo -MD -MP -MF .deps/bondflip.Tpo -c bondflip.c  -fPIC -DPIC -o .libs/bondflip.o\n",
      "libtool: compile:  gcc -DHAVE_CONFIG_H -I. -I.. -I/usr/include/libxml2 -fgnu89-inline -Wall -DTS_VERSION=\\\"8a882d5-dirty\\\" -O3 -ffast-math -flto=auto -MT bondflip.lo -MD -MP -MF .deps/bondflip.Tpo -c bondflip.c -o bondflip.o >/dev/null 2>&1\n",
      "mv -f .deps/bondflip.Tpo .deps/bondflip.Plo\n",
      "/bin/bash ../libtool  --tag=CC   --mode=compile gcc -DHAVE_CONFIG_H -I. -I..  -I/usr/include/libxml2 -fgnu89-inline  -Wall  -DTS_VERSION=\\\"8a882d5-dirty\\\"  -O3 -ffast-math -flto=auto -MT poly.lo -MD -MP -MF .deps/poly.Tpo -c -o poly.lo poly.c\n",
      "libtool: compile:  gcc -DHAVE_CONFIG_H -I. -I.. -I/usr/include/libxml2 -fgnu89-inline -Wall -DTS_VERSION=\\\"8a882d5-dirty\\\" -O3 -ffast-math -flto=auto -MT poly.lo -MD -MP -MF .deps/poly.Tpo -c poly.c  -fPIC -DPIC -o .libs/poly.o\n",
      "libtool: compile:  gcc -DHAVE_CONFIG_H -I. -I.. -I/usr/include/libxml2 -fgnu89-inline -Wall -DTS_VERSION=\\\"8a882d5-dirty\\\" -O3 -ffast-math -flto=auto -MT poly.lo -MD -MP -MF .deps/poly.Tpo -c poly.c -o poly.o >/dev/null 2>&1\n",
      "mv -f .deps/poly.Tpo .deps/poly.Plo\n",
      "/bin/bash ../libtool  --tag=CC   --mode=compile gcc -DHAVE_CONFIG_H -I. -I..  -I/usr/include/libxml2 -fgnu89-inline  -Wall  -DTS_VERSION=\\\"8a882d5-dirty\\\"  -O3 -ffast-math -flto=auto -MT stats.lo -MD -MP -MF .deps/stats.Tpo -c -o stats.lo stats.c\n",
      "libtool: compile:  gcc -DHAVE_CONFIG_H -I. -I.. -I/usr/include/libxml2 -fgnu89-inline -Wall -DTS_VERSION=\\\"8a882d5-dirty\\\" -O3 -ffast-math -flto=auto -MT stats.lo -MD -MP -MF .deps/stats.Tpo -c stats.c  -fPIC -DPIC -o .libs/stats.o\n",
      "libtool: compile:  gcc -DHAVE_CONFIG_H -I. -I.. -I/usr/include/libxml2 -fgnu89-inline -Wall -DTS_VERSION=\\\"8a882d5-dirty\\\" -O3 -ffast-math -flto=auto -MT stats.lo -MD -MP -MF .deps/stats.Tpo -c stats.c -o stats.o >/dev/null 2>&1\n",
      "mv -f .deps/stats.Tpo .deps/stats.Plo\n",
      "/bin/bash ../libtool  --tag=CC   --mode=compile gcc -DHAVE_CONFIG_H -I. -I..  -I/usr/include/libxml2 -fgnu89-inline  -Wall  -DTS_VERSION=\\\"8a882d5-dirty\\\"  -O3 -ffast-math -flto=auto -MT sh.lo -MD -MP -MF .deps/sh.Tpo -c -o sh.lo sh.c\n",
      "libtool: compile:  gcc -DHAVE_CONFIG_H -I. -I.. -I/usr/include/libxml2 -fgnu89-inline -Wall -DTS_VERSION=\\\"8a882d5-dirty\\\" -O3 -ffast-math -flto=auto -MT sh.lo -MD -MP -MF .deps/sh.Tpo -c sh.c  -fPIC -DPIC -o .libs/sh.o\n",
      "libtool: compile:  gcc -DHAVE_CONFIG_H -I. -I.. -I/usr/include/libxml2 -fgnu89-inline -Wall -DTS_VERSION=\\\"8a882d5-dirty\\\" -O3 -ffast-math -flto=auto -MT sh.lo -MD -MP -MF .deps/sh.Tpo -c sh.c -o sh.o >/dev/null 2>&1\n",
      "mv -f .deps/sh.Tpo .deps/sh.Plo\n",
      "/bin/bash ../libtool  --tag=CC   --mode=compile gcc -DHAVE_CONFIG_H -I. -I..  -I/usr/include/libxml2 -fgnu89-inline  -Wall  -DTS_VERSION=\\\"8a882d5-dirty\\\"  -O3 -ffast-math -flto=auto -MT shcomplex.lo -MD -MP -MF .deps/shcomplex.Tpo -c -o shcomplex.lo shcomplex.c\n",
      "libtool: compile:  gcc -DHAVE_CONFIG_H -I. -I.. -I/usr/include/libxml2 -fgnu89-inline -Wall -DTS_VERSION=\\\"8a882d5-dirty\\\" -O3 -ffast-math -flto=auto -MT shcomplex.lo -MD -MP -MF .deps/shcomplex.Tpo -c shcomplex.c  -fPIC -DPIC -o .libs/shcomplex.o\n",
      "libtool: compile:  gcc -DHAVE_CONFIG_H -I. -I.. -I/usr/include/libxml2 -fgnu89-inline -Wall -DTS_VERSION=\\\"8a882d5-dirty\\\" -O3 -ffast-math -flto=auto -MT shcomplex.lo -MD -MP -MF .deps/shcomplex.Tpo -c shcomplex.c -o shcomplex.o >/dev/null 2>&1\n",
      "mv -f .deps/shcomplex.Tpo .deps/shcomplex.Plo\n",
      "/bin/bash ../libtool  --tag=CC   --mode=compile gcc -DHAVE_CONFIG_H -I. -I..  -I/usr/include/libxml2 -fgnu89-inline  -Wall  -DTS_VERSION=\\\"8a882d5-dirty\\\"  -O3 -ffast-math -flto=auto -MT constvol.lo -MD -MP -MF .deps/constvol.Tpo -c -o constvol.lo constvol.c\n",
      "libtool: compile:  gcc -DHAVE_CONFIG_H -I. -I.. -I/usr/include/libxml2 -fgnu89-inline -Wall -DTS_VERSION=\\\"8a882d5-dirty\\\" -O3 -ffast-math -flto=auto -MT constvol.lo -MD -MP -MF .deps/constvol.Tpo -c constvol.c  -fPIC -DPIC -o .libs/constvol.o\n",
      "libtool: compile:  gcc -DHAVE_CONFIG_H -I. -I.. -I/usr/include/libxml2 -fgnu89-inline -Wall -DTS_VERSION=\\\"8a882d5-dirty\\\" -O3 -ffast-math -flto=auto -MT constvol.lo -MD -MP -MF .deps/constvol.Tpo -c constvol.c -o constvol.o >/dev/null 2>&1\n",
      "mv -f .deps/constvol.Tpo .deps/constvol.Plo\n",
      "/bin/bash ../libtool  --tag=CC   --mode=compile gcc -DHAVE_CONFIG_H -I. -I..  -I/usr/include/libxml2 -fgnu89-inline  -Wall  -DTS_VERSION=\\\"8a882d5-dirty\\\"  -O3 -ffast-math -flto=auto -MT snapshot.lo -MD -MP -MF .deps/snapshot.Tpo -c -o snapshot.lo snapshot.c\n",
      "libtool: compile:  gcc -DHAVE_CONFIG_H -I. -I.. -I/usr/include/libxml2 -fgnu89-inline -Wall -DTS_VERSION=\\\"8a882d5-dirty\\\" -O3 -ffast-math -flto=auto -MT snapshot.lo -MD -MP -MF .deps/snapshot.Tpo -c snapshot.c  -fPIC -DPIC -o .libs/snapshot.o\n",
      "libtool: compile:  gcc -DHAVE_CONFIG_H -I. -I.. -I/usr/include/libxml2 -fgnu89-inline -Wall -DTS_VERSION=\\\"8a882d5-dirty\\\" -O3 -ffast-math -flto=auto -MT snapshot.lo -MD -MP -MF .deps/snapshot.Tpo -c snapshot.c -o snapshot.o >/dev/null 2>&1\n",
      "mv -f .deps/snapshot.Tpo .deps/snapshot.Plo\n",
      "/bin/bash ../libtool  --tag=CC   --mode=compile gcc -DHAVE_CONFIG_H -I. -I..  -I/usr/include/libxml2 -fgnu89-inline  -Wall  -DTS_VERSION=\\\"8a882d5-dirty\\\"  -O3 -ffast-math -flto=auto -MT restore.lo -MD -MP -MF .deps/restore.Tpo -c -o restore.lo restore.c\n",
      "libtool: compile:  gcc -DHAVE_CONFIG_H -I. -I.. -I/usr/include/libxml2 -fgnu89-inline -Wall -DTS_VERSION=\\\"8a882d5-dirty\\\" -O3 -ffast-math -flto=auto -MT restore.lo -MD -MP -MF .deps/restore.Tpo -c restore.c  -fPIC -DPIC -o .libs/restore.o\n",
      "libtool: compile:  gcc -DHAVE_CONFIG_H -I. -I.. -I/usr/include/libxml2 -fgnu89-inline -Wall -DTS_VERSION=\\\"8a882d5-dirty\\\" -O3 -ffast-math -flto=auto -MT restore.lo -MD -MP -MF .deps/restore.Tpo -c restore.c -o restore.o >/dev/null 2>&1\n",
      "mv -f .deps/restore.Tpo .deps/restore.Plo\n",
      "/bin/bash ../libtool  --tag=CC   --mode=compile gcc -DHAVE_CONFIG_H -I. -I..  -I/usr/include/libxml2 -fgnu89-inline  -Wall  -DTS_VERSION=\\\"8a882d5-dirty\\\"  -O3 -ffast-math -flto=auto -MT cluster.lo -MD -MP -MF .deps/cluster.Tpo -c -o cluster.lo cluster.c\n",
      "libtool: compile:  gcc -DHAVE_CONFIG_H -I. -I.. -I/usr/include/libxml2 -fgnu89-inline -Wall -DTS_VERSION=\\\"8a882d5-dirty\\\" -O3 -ffast-math -flto=auto -MT cluster.lo -MD -MP -MF .deps/cluster.Tpo -c cluster.c  -fPIC -DPIC -o .libs/cluster.o\n",
      "libtool: compile:  gcc -DHAVE_CONFIG_H -I. -I.. -I/usr/include/libxml2 -fgnu89-inline -Wall -DTS_VERSION=\\\"8a882d5-dirty\\\" -O3 -ffast-math -flto=auto -MT cluster.lo -MD -MP -MF .deps/cluster.Tpo -c cluster.c -o cluster.o >/dev/null 2>&1\n",
      "mv -f .deps/cluster.Tpo .deps/cluster.Plo\n",
      "/bin/bash ../libtool  --tag=CC   --mode=link gcc -Wall  -DTS_VERSION=\\\"8a882d5-dirty\\\"  -O3 -ffast-math -flto=auto   -o libtrisurf.la -rpath /usr/local/lib general.lo vertex.lo bond.lo triangle.lo cell.lo vesicle.lo initial_distribution.lo io.lo frame.lo energy.lo timestep.lo vertexmove.lo bondflip.lo poly.lo stats.lo sh.lo shcomplex.lo constvol.lo snapshot.lo restore.lo cluster.lo -lxml2 -lz -lgsl -lgslcblas -lm -lconfuse \n",
      "libtool: link: gcc -shared  -fPIC -DPIC  .libs/general.o .libs/vertex.o .libs/bond.o .libs/triangle.o .libs/cell.o .libs/vesicle.o .libs/initial_distribution.o .libs/io.o .libs/frame.o .libs/energy.o .libs/timestep.o .libs/vertexmove.o .libs/bondflip.o .libs/poly.o .libs/stats.o .libs/sh.o .libs/shcomplex.o .libs/constvol.o .libs/snapshot.o .libs/restore.o .libs/cluster.o   -lxml2 -lz -lgsl -lgslcblas -lm -lconfuse  -O3 -flto=auto   -Wl,-soname -Wl,libtrisurf.so.0 -o .libs/libtrisurf.so.0.0.0\n",
      "libtool: link: (cd \".libs\" && rm -f \"libtrisurf.so.0\" && ln -s \"libtrisurf.so.0.0.0\" \"libtrisurf.so.0\")\n",
      "libtool: link: (cd \".libs\" && rm -f \"libtrisurf.so\" && ln -s \"libtrisurf.so.0.0.0\" \"libtrisurf.so\")\n",
      "libtool: link: ar cr .libs/libtrisurf.a  general.o vertex.o bond.o triangle.o cell.o vesicle.o initial_distribution.o io.o frame.o energy.o timestep.o vertexmove.o bondflip.o poly.o stats.o sh.o shcomplex.o constvol.o snapshot.o restore.o cluster.o\n",
      "libtool: link: ranlib .libs/libtrisurf.a\n",
      "libtool: link: ( cd \".libs\" && rm -f \"libtrisurf.la\" && ln -s \"../libtrisurf.la\" \"libtrisurf.la\" )\n",
      "/bin/bash ../libtool  --tag=CC   --mode=link gcc -Wall  -DTS_VERSION=\\\"8a882d5-dirty\\\"  -O3 -ffast-math -flto=auto   -o trisurf main.o libtrisurf.la  -lxml2 -lz -lgsl -lgslcblas -lm -lconfuse \n",
      "libtool: link: gcc -Wall -DTS_VERSION=\\\"8a882d5-dirty\\\" -O3 -ffast-math -flto=auto -o .libs/trisurf main.o   ./.libs/libtrisurf.so -lxml2 -lz -lgsl -lgslcblas -lm -lconfuse\n",
      "gcc -DHAVE_CONFIG_H -I. -I..  -I/usr/include/libxml2 -fgnu89-inline  -Wall  -DTS_VERSION=\\\"8a882d5-dirty\\\"  -O3 -ffast-math -flto=auto -MT tsmeasure.o -MD -MP -MF .deps/tsmeasure.Tpo -c -o tsmeasure.o tsmeasure.c\n",
      "mv -f .deps/tsmeasure.Tpo .deps/tsmeasure.Po\n",
      "/bin/bash ../libtool  --tag=CC   --mode=link gcc -Wall  -DTS_VERSION=\\\"8a882d5-dirty\\\"  -O3 -ffast-math -flto=auto   -o tsmeasure tsmeasure.o libtrisurf.la  -lxml2 -lz -lgsl -lgslcblas -lm -lconfuse \n",
      "libtool: link: gcc -Wall -DTS_VERSION=\\\"8a882d5-dirty\\\" -O3 -ffast-math -flto=auto -o .libs/tsmeasure tsmeasure.o   ./.libs/libtrisurf.so -lxml2 -lz -lgsl -lgslcblas -lm -lconfuse\n",
      "gcc -DHAVE_CONFIG_H -I. -I..  -I/usr/include/libxml2 -fgnu89-inline  -Wall  -DTS_VERSION=\\\"8a882d5-dirty\\\"  -O3 -ffast-math -flto=auto -MT tspoststat.o -MD -MP -MF .deps/tspoststat.Tpo -c -o tspoststat.o tspoststat.c\n",
      "mv -f .deps/tspoststat.Tpo .deps/tspoststat.Po\n",
      "/bin/bash ../libtool  --tag=CC   --mode=link gcc -Wall  -DTS_VERSION=\\\"8a882d5-dirty\\\"  -O3 -ffast-math -flto=auto   -o tspoststat tspoststat.o libtrisurf.la  -lxml2 -lz -lgsl -lgslcblas -lm -lconfuse \n",
      "libtool: link: gcc -Wall -DTS_VERSION=\\\"8a882d5-dirty\\\" -O3 -ffast-math -flto=auto -o .libs/tspoststat tspoststat.o   ./.libs/libtrisurf.so -lxml2 -lz -lgsl -lgslcblas -lm -lconfuse\n",
      "make[2]: Leaving directory '/opt/workspace/msc_project/cluster-trisurf/src'\n",
      "make[2]: Entering directory '/opt/workspace/msc_project/cluster-trisurf'\n",
      "make[2]: Leaving directory '/opt/workspace/msc_project/cluster-trisurf'\n",
      "make[1]: Leaving directory '/opt/workspace/msc_project/cluster-trisurf'\n",
      "/opt/workspace/msc_project/lab_note_and_py/trisurf-python\n",
      "done\n"
     ]
    }
   ],
   "source": [
    "# !cd {ts.path_to_trisurf} && make clean && make && cd -;\n",
    "# print('done');"
   ]
  },
  {
   "cell_type": "code",
   "execution_count": 17,
   "id": "a0731a64-0c2c-4eeb-8c22-1294ed5a2880",
   "metadata": {},
   "outputs": [],
   "source": [
    "# ret = subprocess.run([ts.path_to_trisurf/\"src/trisurf\", \"--force-from-tape\", \"-c iterations=100,random_seed=1687249186\", *extra_args],\n",
    "#                      cwd=test_folder, timeout=timeout, capture_output=True)"
   ]
  },
  {
   "cell_type": "code",
   "execution_count": 18,
   "id": "c13da923-5016-42a8-b884-9457b9680947",
   "metadata": {
    "scrolled": true,
    "tags": []
   },
   "outputs": [
    {
     "data": {
      "text/plain": [
       "CompletedProcess(args=[PosixPath('/opt/workspace/msc_project/cluster-trisurf/src/trisurf'), '--force-from-tape', '-c iterations=100,random_seed=1687249186'], returncode=0, stdout=b'[2023-06-21 16:31:52] TRISURF-NG v. 8a882d5-dirty, compiled on: Jun 21 2023 16:28:20.\\n[2023-06-21 16:31:52] Programming done by: Samo Penic and Miha Fosnaric\\n[2023-06-21 16:31:52] Released under terms of GPLv3\\n[2023-06-21 16:31:52] Starting program...\\n\\n[2023-06-21 16:31:52] ************************************************\\n[2023-06-21 16:31:52] **** Generating initial geometry from tape *****\\n[2023-06-21 16:31:52] ************************************************\\n\\n[2023-06-21 16:31:52] Starting initial_distribution on vesicle with 20 shells!...\\n[2023-06-21 16:31:52] initial_distribution finished!\\n[2023-06-21 16:31:52] using debug curvature model 15 (use new energy): set to 7 to use the old energy method\\n[2023-06-21 16:31:52] simulation seed = 1687249186\\n[2023-06-21 16:31:52] Setting volume V0=8335.95031008003388706\\n[2023-06-21 16:31:52] Setting area A0=2494.15316289923475779\\n[2023-06-21 16:32:02] Done 1 out of 100 iterations (x 1000 MC sweeps).\\n[2023-06-21 16:32:12] Done 2 out of 100 iterations (x 1000 MC sweeps).\\n[2023-06-21 16:32:23] Done 3 out of 100 iterations (x 1000 MC sweeps).\\n[2023-06-21 16:32:33] Done 4 out of 100 iterations (x 1000 MC sweeps).\\n[2023-06-21 16:32:43] Done 5 out of 100 iterations (x 1000 MC sweeps).\\n[2023-06-21 16:32:53] Done 6 out of 100 iterations (x 1000 MC sweeps).\\n[2023-06-21 16:33:03] Done 7 out of 100 iterations (x 1000 MC sweeps).\\n[2023-06-21 16:33:13] Done 8 out of 100 iterations (x 1000 MC sweeps).\\n[2023-06-21 16:33:23] Done 9 out of 100 iterations (x 1000 MC sweeps).\\n[2023-06-21 16:33:32] Done 10 out of 100 iterations (x 1000 MC sweeps).\\n[2023-06-21 16:33:42] Done 11 out of 100 iterations (x 1000 MC sweeps).\\n[2023-06-21 16:33:51] Done 12 out of 100 iterations (x 1000 MC sweeps).\\n[2023-06-21 16:34:01] Done 13 out of 100 iterations (x 1000 MC sweeps).\\n[2023-06-21 16:34:11] Done 14 out of 100 iterations (x 1000 MC sweeps).\\n[2023-06-21 16:34:20] Done 15 out of 100 iterations (x 1000 MC sweeps).\\n[2023-06-21 16:34:30] Done 16 out of 100 iterations (x 1000 MC sweeps).\\n[2023-06-21 16:34:40] Done 17 out of 100 iterations (x 1000 MC sweeps).\\n[2023-06-21 16:34:49] Done 18 out of 100 iterations (x 1000 MC sweeps).\\n[2023-06-21 16:34:59] Done 19 out of 100 iterations (x 1000 MC sweeps).\\n[2023-06-21 16:35:08] Done 20 out of 100 iterations (x 1000 MC sweeps).\\n[2023-06-21 16:35:18] Done 21 out of 100 iterations (x 1000 MC sweeps).\\n[2023-06-21 16:35:28] Done 22 out of 100 iterations (x 1000 MC sweeps).\\n[2023-06-21 16:35:37] Done 23 out of 100 iterations (x 1000 MC sweeps).\\n[2023-06-21 16:35:47] Done 24 out of 100 iterations (x 1000 MC sweeps).\\n[2023-06-21 16:35:56] Done 25 out of 100 iterations (x 1000 MC sweeps).\\n[2023-06-21 16:36:06] Done 26 out of 100 iterations (x 1000 MC sweeps).\\n[2023-06-21 16:36:16] Done 27 out of 100 iterations (x 1000 MC sweeps).\\n[2023-06-21 16:36:25] Done 28 out of 100 iterations (x 1000 MC sweeps).\\n[2023-06-21 16:36:35] Done 29 out of 100 iterations (x 1000 MC sweeps).\\n[2023-06-21 16:36:44] Done 30 out of 100 iterations (x 1000 MC sweeps).\\n[2023-06-21 16:36:54] Done 31 out of 100 iterations (x 1000 MC sweeps).\\n[2023-06-21 16:37:04] Done 32 out of 100 iterations (x 1000 MC sweeps).\\n[2023-06-21 16:37:13] Done 33 out of 100 iterations (x 1000 MC sweeps).\\n[2023-06-21 16:37:23] Done 34 out of 100 iterations (x 1000 MC sweeps).\\n[2023-06-21 16:37:33] Done 35 out of 100 iterations (x 1000 MC sweeps).\\n[2023-06-21 16:37:42] Done 36 out of 100 iterations (x 1000 MC sweeps).\\n[2023-06-21 16:37:52] Done 37 out of 100 iterations (x 1000 MC sweeps).\\n[2023-06-21 16:38:01] Done 38 out of 100 iterations (x 1000 MC sweeps).\\n[2023-06-21 16:38:11] Done 39 out of 100 iterations (x 1000 MC sweeps).\\n[2023-06-21 16:38:21] Done 40 out of 100 iterations (x 1000 MC sweeps).\\n[2023-06-21 16:38:30] Done 41 out of 100 iterations (x 1000 MC sweeps).\\n[2023-06-21 16:38:40] Done 42 out of 100 iterations (x 1000 MC sweeps).\\n[2023-06-21 16:38:50] Done 43 out of 100 iterations (x 1000 MC sweeps).\\n[2023-06-21 16:38:59] Done 44 out of 100 iterations (x 1000 MC sweeps).\\n[2023-06-21 16:39:09] Done 45 out of 100 iterations (x 1000 MC sweeps).\\n[2023-06-21 16:39:18] Done 46 out of 100 iterations (x 1000 MC sweeps).\\n[2023-06-21 16:39:28] Done 47 out of 100 iterations (x 1000 MC sweeps).\\n[2023-06-21 16:39:37] Done 48 out of 100 iterations (x 1000 MC sweeps).\\n[2023-06-21 16:39:47] Done 49 out of 100 iterations (x 1000 MC sweeps).\\n[2023-06-21 16:39:57] Done 50 out of 100 iterations (x 1000 MC sweeps).\\n[2023-06-21 16:40:06] Done 51 out of 100 iterations (x 1000 MC sweeps).\\n[2023-06-21 16:40:16] Done 52 out of 100 iterations (x 1000 MC sweeps).\\n[2023-06-21 16:40:25] Done 53 out of 100 iterations (x 1000 MC sweeps).\\n[2023-06-21 16:40:35] Done 54 out of 100 iterations (x 1000 MC sweeps).\\n[2023-06-21 16:40:44] Done 55 out of 100 iterations (x 1000 MC sweeps).\\n[2023-06-21 16:40:54] Done 56 out of 100 iterations (x 1000 MC sweeps).\\n[2023-06-21 16:41:03] Done 57 out of 100 iterations (x 1000 MC sweeps).\\n[2023-06-21 16:41:13] Done 58 out of 100 iterations (x 1000 MC sweeps).\\n[2023-06-21 16:41:22] Done 59 out of 100 iterations (x 1000 MC sweeps).\\n[2023-06-21 16:41:32] Done 60 out of 100 iterations (x 1000 MC sweeps).\\n[2023-06-21 16:41:41] Done 61 out of 100 iterations (x 1000 MC sweeps).\\n[2023-06-21 16:41:51] Done 62 out of 100 iterations (x 1000 MC sweeps).\\n[2023-06-21 16:42:00] Done 63 out of 100 iterations (x 1000 MC sweeps).\\n[2023-06-21 16:42:10] Done 64 out of 100 iterations (x 1000 MC sweeps).\\n[2023-06-21 16:42:19] Done 65 out of 100 iterations (x 1000 MC sweeps).\\n[2023-06-21 16:42:29] Done 66 out of 100 iterations (x 1000 MC sweeps).\\n[2023-06-21 16:42:38] Done 67 out of 100 iterations (x 1000 MC sweeps).\\n[2023-06-21 16:42:48] Done 68 out of 100 iterations (x 1000 MC sweeps).\\n[2023-06-21 16:42:58] Done 69 out of 100 iterations (x 1000 MC sweeps).\\n[2023-06-21 16:43:07] Done 70 out of 100 iterations (x 1000 MC sweeps).\\n[2023-06-21 16:43:17] Done 71 out of 100 iterations (x 1000 MC sweeps).\\n[2023-06-21 16:43:27] Done 72 out of 100 iterations (x 1000 MC sweeps).\\n[2023-06-21 16:43:36] Done 73 out of 100 iterations (x 1000 MC sweeps).\\n[2023-06-21 16:43:46] Done 74 out of 100 iterations (x 1000 MC sweeps).\\n[2023-06-21 16:43:55] Done 75 out of 100 iterations (x 1000 MC sweeps).\\n[2023-06-21 16:44:05] Done 76 out of 100 iterations (x 1000 MC sweeps).\\n[2023-06-21 16:44:14] Done 77 out of 100 iterations (x 1000 MC sweeps).\\n[2023-06-21 16:44:24] Done 78 out of 100 iterations (x 1000 MC sweeps).\\n[2023-06-21 16:44:33] Done 79 out of 100 iterations (x 1000 MC sweeps).\\n[2023-06-21 16:44:43] Done 80 out of 100 iterations (x 1000 MC sweeps).\\n[2023-06-21 16:44:52] Done 81 out of 100 iterations (x 1000 MC sweeps).\\n[2023-06-21 16:45:02] Done 82 out of 100 iterations (x 1000 MC sweeps).\\n[2023-06-21 16:45:12] Done 83 out of 100 iterations (x 1000 MC sweeps).\\n[2023-06-21 16:45:21] Done 84 out of 100 iterations (x 1000 MC sweeps).\\n[2023-06-21 16:45:31] Done 85 out of 100 iterations (x 1000 MC sweeps).\\n[2023-06-21 16:45:40] Done 86 out of 100 iterations (x 1000 MC sweeps).\\n[2023-06-21 16:45:50] Done 87 out of 100 iterations (x 1000 MC sweeps).\\n[2023-06-21 16:45:59] Done 88 out of 100 iterations (x 1000 MC sweeps).\\n[2023-06-21 16:46:09] Done 89 out of 100 iterations (x 1000 MC sweeps).\\n[2023-06-21 16:46:18] Done 90 out of 100 iterations (x 1000 MC sweeps).\\n[2023-06-21 16:46:28] Done 91 out of 100 iterations (x 1000 MC sweeps).\\n[2023-06-21 16:46:37] Done 92 out of 100 iterations (x 1000 MC sweeps).\\n[2023-06-21 16:46:47] Done 93 out of 100 iterations (x 1000 MC sweeps).\\n[2023-06-21 16:46:56] Done 94 out of 100 iterations (x 1000 MC sweeps).\\n[2023-06-21 16:47:06] Done 95 out of 100 iterations (x 1000 MC sweeps).\\n[2023-06-21 16:47:16] Done 96 out of 100 iterations (x 1000 MC sweeps).\\n[2023-06-21 16:47:25] Done 97 out of 100 iterations (x 1000 MC sweeps).\\n[2023-06-21 16:47:35] Done 98 out of 100 iterations (x 1000 MC sweeps).\\n[2023-06-21 16:47:44] Done 99 out of 100 iterations (x 1000 MC sweeps).\\n[2023-06-21 16:47:54] Done 100 out of 100 iterations (x 1000 MC sweeps).\\n', stderr=b'')"
      ]
     },
     "execution_count": 18,
     "metadata": {},
     "output_type": "execute_result"
    }
   ],
   "source": [
    "# ret"
   ]
  },
  {
   "cell_type": "code",
   "execution_count": 19,
   "id": "56a487f6-79af-460d-8cb7-b3d9379b2676",
   "metadata": {
    "scrolled": true,
    "tags": []
   },
   "outputs": [
    {
     "name": "stdout",
     "output_type": "stream",
     "text": [
      "[2023-06-21 16:31:52] TRISURF-NG v. 8a882d5-dirty, compiled on: Jun 21 2023 16:28:20.\n",
      "[2023-06-21 16:31:52] Programming done by: Samo Penic and Miha Fosnaric\n",
      "[2023-06-21 16:31:52] Released under terms of GPLv3\n",
      "[2023-06-21 16:31:52] Starting program...\n",
      "\n",
      "[2023-06-21 16:31:52] ************************************************\n",
      "[2023-06-21 16:31:52] **** Generating initial geometry from tape *****\n",
      "[2023-06-21 16:31:52] ************************************************\n",
      "\n",
      "[2023-06-21 16:31:52] Starting initial_distribution on vesicle with 20 shells!...\n",
      "[2023-06-21 16:31:52] initial_distribution finished!\n",
      "[2023-06-21 16:31:52] using debug curvature model 15 (use new energy): set to 7 to use the old energy method\n",
      "[2023-06-21 16:31:52] simulation seed = 1687249186\n",
      "[2023-06-21 16:31:52] Setting volume V0=8335.95031008003388706\n",
      "[2023-06-21 16:31:52] Setting area A0=2494.15316289923475779\n",
      "[2023-06-21 16:32:02] Done 1 out of 100 iterations (x 1000 MC sweeps).\n",
      "[2023-06-21 16:32:12] Done 2 out of 100 iterations (x 1000 MC sweeps).\n",
      "[2023-06-21 16:32:23] Done 3 out of 100 iterations (x 1000 MC sweeps).\n",
      "[2023-06-21 16:32:33] Done 4 out of 100 iterations (x 1000 MC sweeps).\n",
      "[2023-06-21 16:32:43] Done 5 out of 100 iterations (x 1000 MC sweeps).\n",
      "[2023-06-21 16:32:53] Done 6 out of 100 iterations (x 1000 MC sweeps).\n",
      "[2023-06-21 16:33:03] Done 7 out of 100 iterations (x 1000 MC sweeps).\n",
      "[2023-06-21 16:33:13] Done 8 out of 100 iterations (x 1000 MC sweeps).\n",
      "[2023-06-21 16:33:23] Done 9 out of 100 iterations (x 1000 MC sweeps).\n",
      "[2023-06-21 16:33:32] Done 10 out of 100 iterations (x 1000 MC sweeps).\n",
      "[2023-06-21 16:33:42] Done 11 out of 100 iterations (x 1000 MC sweeps).\n",
      "[2023-06-21 16:33:51] Done 12 out of 100 iterations (x 1000 MC sweeps).\n",
      "[2023-06-21 16:34:01] Done 13 out of 100 iterations (x 1000 MC sweeps).\n",
      "[2023-06-21 16:34:11] Done 14 out of 100 iterations (x 1000 MC sweeps).\n",
      "[2023-06-21 16:34:20] Done 15 out of 100 iterations (x 1000 MC sweeps).\n",
      "[2023-06-21 16:34:30] Done 16 out of 100 iterations (x 1000 MC sweeps).\n",
      "[2023-06-21 16:34:40] Done 17 out of 100 iterations (x 1000 MC sweeps).\n",
      "[2023-06-21 16:34:49] Done 18 out of 100 iterations (x 1000 MC sweeps).\n",
      "[2023-06-21 16:34:59] Done 19 out of 100 iterations (x 1000 MC sweeps).\n",
      "[2023-06-21 16:35:08] Done 20 out of 100 iterations (x 1000 MC sweeps).\n",
      "[2023-06-21 16:35:18] Done 21 out of 100 iterations (x 1000 MC sweeps).\n",
      "[2023-06-21 16:35:28] Done 22 out of 100 iterations (x 1000 MC sweeps).\n",
      "[2023-06-21 16:35:37] Done 23 out of 100 iterations (x 1000 MC sweeps).\n",
      "[2023-06-21 16:35:47] Done 24 out of 100 iterations (x 1000 MC sweeps).\n",
      "[2023-06-21 16:35:56] Done 25 out of 100 iterations (x 1000 MC sweeps).\n",
      "[2023-06-21 16:36:06] Done 26 out of 100 iterations (x 1000 MC sweeps).\n",
      "[2023-06-21 16:36:16] Done 27 out of 100 iterations (x 1000 MC sweeps).\n",
      "[2023-06-21 16:36:25] Done 28 out of 100 iterations (x 1000 MC sweeps).\n",
      "[2023-06-21 16:36:35] Done 29 out of 100 iterations (x 1000 MC sweeps).\n",
      "[2023-06-21 16:36:44] Done 30 out of 100 iterations (x 1000 MC sweeps).\n",
      "[2023-06-21 16:36:54] Done 31 out of 100 iterations (x 1000 MC sweeps).\n",
      "[2023-06-21 16:37:04] Done 32 out of 100 iterations (x 1000 MC sweeps).\n",
      "[2023-06-21 16:37:13] Done 33 out of 100 iterations (x 1000 MC sweeps).\n",
      "[2023-06-21 16:37:23] Done 34 out of 100 iterations (x 1000 MC sweeps).\n",
      "[2023-06-21 16:37:33] Done 35 out of 100 iterations (x 1000 MC sweeps).\n",
      "[2023-06-21 16:37:42] Done 36 out of 100 iterations (x 1000 MC sweeps).\n",
      "[2023-06-21 16:37:52] Done 37 out of 100 iterations (x 1000 MC sweeps).\n",
      "[2023-06-21 16:38:01] Done 38 out of 100 iterations (x 1000 MC sweeps).\n",
      "[2023-06-21 16:38:11] Done 39 out of 100 iterations (x 1000 MC sweeps).\n",
      "[2023-06-21 16:38:21] Done 40 out of 100 iterations (x 1000 MC sweeps).\n",
      "[2023-06-21 16:38:30] Done 41 out of 100 iterations (x 1000 MC sweeps).\n",
      "[2023-06-21 16:38:40] Done 42 out of 100 iterations (x 1000 MC sweeps).\n",
      "[2023-06-21 16:38:50] Done 43 out of 100 iterations (x 1000 MC sweeps).\n",
      "[2023-06-21 16:38:59] Done 44 out of 100 iterations (x 1000 MC sweeps).\n",
      "[2023-06-21 16:39:09] Done 45 out of 100 iterations (x 1000 MC sweeps).\n",
      "[2023-06-21 16:39:18] Done 46 out of 100 iterations (x 1000 MC sweeps).\n",
      "[2023-06-21 16:39:28] Done 47 out of 100 iterations (x 1000 MC sweeps).\n",
      "[2023-06-21 16:39:37] Done 48 out of 100 iterations (x 1000 MC sweeps).\n",
      "[2023-06-21 16:39:47] Done 49 out of 100 iterations (x 1000 MC sweeps).\n",
      "[2023-06-21 16:39:57] Done 50 out of 100 iterations (x 1000 MC sweeps).\n",
      "[2023-06-21 16:40:06] Done 51 out of 100 iterations (x 1000 MC sweeps).\n",
      "[2023-06-21 16:40:16] Done 52 out of 100 iterations (x 1000 MC sweeps).\n",
      "[2023-06-21 16:40:25] Done 53 out of 100 iterations (x 1000 MC sweeps).\n",
      "[2023-06-21 16:40:35] Done 54 out of 100 iterations (x 1000 MC sweeps).\n",
      "[2023-06-21 16:40:44] Done 55 out of 100 iterations (x 1000 MC sweeps).\n",
      "[2023-06-21 16:40:54] Done 56 out of 100 iterations (x 1000 MC sweeps).\n",
      "[2023-06-21 16:41:03] Done 57 out of 100 iterations (x 1000 MC sweeps).\n",
      "[2023-06-21 16:41:13] Done 58 out of 100 iterations (x 1000 MC sweeps).\n",
      "[2023-06-21 16:41:22] Done 59 out of 100 iterations (x 1000 MC sweeps).\n",
      "[2023-06-21 16:41:32] Done 60 out of 100 iterations (x 1000 MC sweeps).\n",
      "[2023-06-21 16:41:41] Done 61 out of 100 iterations (x 1000 MC sweeps).\n",
      "[2023-06-21 16:41:51] Done 62 out of 100 iterations (x 1000 MC sweeps).\n",
      "[2023-06-21 16:42:00] Done 63 out of 100 iterations (x 1000 MC sweeps).\n",
      "[2023-06-21 16:42:10] Done 64 out of 100 iterations (x 1000 MC sweeps).\n",
      "[2023-06-21 16:42:19] Done 65 out of 100 iterations (x 1000 MC sweeps).\n",
      "[2023-06-21 16:42:29] Done 66 out of 100 iterations (x 1000 MC sweeps).\n",
      "[2023-06-21 16:42:38] Done 67 out of 100 iterations (x 1000 MC sweeps).\n",
      "[2023-06-21 16:42:48] Done 68 out of 100 iterations (x 1000 MC sweeps).\n",
      "[2023-06-21 16:42:58] Done 69 out of 100 iterations (x 1000 MC sweeps).\n",
      "[2023-06-21 16:43:07] Done 70 out of 100 iterations (x 1000 MC sweeps).\n",
      "[2023-06-21 16:43:17] Done 71 out of 100 iterations (x 1000 MC sweeps).\n",
      "[2023-06-21 16:43:27] Done 72 out of 100 iterations (x 1000 MC sweeps).\n",
      "[2023-06-21 16:43:36] Done 73 out of 100 iterations (x 1000 MC sweeps).\n",
      "[2023-06-21 16:43:46] Done 74 out of 100 iterations (x 1000 MC sweeps).\n",
      "[2023-06-21 16:43:55] Done 75 out of 100 iterations (x 1000 MC sweeps).\n",
      "[2023-06-21 16:44:05] Done 76 out of 100 iterations (x 1000 MC sweeps).\n",
      "[2023-06-21 16:44:14] Done 77 out of 100 iterations (x 1000 MC sweeps).\n",
      "[2023-06-21 16:44:24] Done 78 out of 100 iterations (x 1000 MC sweeps).\n",
      "[2023-06-21 16:44:33] Done 79 out of 100 iterations (x 1000 MC sweeps).\n",
      "[2023-06-21 16:44:43] Done 80 out of 100 iterations (x 1000 MC sweeps).\n",
      "[2023-06-21 16:44:52] Done 81 out of 100 iterations (x 1000 MC sweeps).\n",
      "[2023-06-21 16:45:02] Done 82 out of 100 iterations (x 1000 MC sweeps).\n",
      "[2023-06-21 16:45:12] Done 83 out of 100 iterations (x 1000 MC sweeps).\n",
      "[2023-06-21 16:45:21] Done 84 out of 100 iterations (x 1000 MC sweeps).\n",
      "[2023-06-21 16:45:31] Done 85 out of 100 iterations (x 1000 MC sweeps).\n",
      "[2023-06-21 16:45:40] Done 86 out of 100 iterations (x 1000 MC sweeps).\n",
      "[2023-06-21 16:45:50] Done 87 out of 100 iterations (x 1000 MC sweeps).\n",
      "[2023-06-21 16:45:59] Done 88 out of 100 iterations (x 1000 MC sweeps).\n",
      "[2023-06-21 16:46:09] Done 89 out of 100 iterations (x 1000 MC sweeps).\n",
      "[2023-06-21 16:46:18] Done 90 out of 100 iterations (x 1000 MC sweeps).\n",
      "[2023-06-21 16:46:28] Done 91 out of 100 iterations (x 1000 MC sweeps).\n",
      "[2023-06-21 16:46:37] Done 92 out of 100 iterations (x 1000 MC sweeps).\n",
      "[2023-06-21 16:46:47] Done 93 out of 100 iterations (x 1000 MC sweeps).\n",
      "[2023-06-21 16:46:56] Done 94 out of 100 iterations (x 1000 MC sweeps).\n",
      "[2023-06-21 16:47:06] Done 95 out of 100 iterations (x 1000 MC sweeps).\n",
      "[2023-06-21 16:47:16] Done 96 out of 100 iterations (x 1000 MC sweeps).\n",
      "[2023-06-21 16:47:25] Done 97 out of 100 iterations (x 1000 MC sweeps).\n",
      "[2023-06-21 16:47:35] Done 98 out of 100 iterations (x 1000 MC sweeps).\n",
      "[2023-06-21 16:47:44] Done 99 out of 100 iterations (x 1000 MC sweeps).\n",
      "[2023-06-21 16:47:54] Done 100 out of 100 iterations (x 1000 MC sweeps).\n",
      "\n"
     ]
    }
   ],
   "source": [
    "print(ret.stdout.decode())"
   ]
  },
  {
   "cell_type": "code",
   "execution_count": 20,
   "id": "56d36c82-0b20-42a0-a817-7f8605833da3",
   "metadata": {},
   "outputs": [],
   "source": [
    "# ret = subprocess.run([ts.path_to_trisurf/\"src/trisurf\", '-c iterations=50',*extra_args],\n",
    "#                      cwd=test_folder, timeout=10*timeout, capture_output=True)"
   ]
  },
  {
   "cell_type": "code",
   "execution_count": 21,
   "id": "31a9ec3b-7e3c-42b3-9e77-6cf183de4155",
   "metadata": {},
   "outputs": [],
   "source": [
    "# print(\"badness: \",np.array((0.883510,-0.395702,0.250660))@np.array((0.552226,-0.320245,11.029881)))\n",
    "# vesicle=ts.parseDump(list(sorted(test_folder.glob('timestep*')))[0])\n",
    "# ts.command_line_args.dump_fullfilename=str(test_folder/'dump.binary_emergency.bin').encode()\n",
    "# vesicle2=ts.restore_state(ts.pointer(ts.ts_int(9999)),vesicle.contents.tape)"
   ]
  },
  {
   "cell_type": "code",
   "execution_count": 31,
   "id": "13f9c8c3-7fdd-4fd9-b498-4b45620c1626",
   "metadata": {
    "tags": []
   },
   "outputs": [
    {
     "data": {
      "text/plain": [
       "0.715059908658966"
      ]
     },
     "execution_count": 31,
     "metadata": {},
     "output_type": "execute_result"
    }
   ],
   "source": [
    "# v11 = PyVtu(test_folder/\"timestep_000000.vtu\")\n",
    "# v22 = PyVtu(test_folder/\"compare2/timestep_000000.vtu\")\n",
    "# (v11.mean_curvature-v22.mean_curvature).max()"
   ]
  },
  {
   "cell_type": "markdown",
   "id": "ccaef5d5-a280-4826-817d-5cae7200f44a",
   "metadata": {},
   "source": [
    "# Test the curvatures of the new methods: check bad isotropic curvature"
   ]
  },
  {
   "cell_type": "markdown",
   "id": "5089ac59-d5cb-4b2f-a12b-f65d506f058f",
   "metadata": {},
   "source": [
    "Load the file"
   ]
  },
  {
   "cell_type": "code",
   "execution_count": 10,
   "id": "d1007a39-5ea1-4448-905c-836f3a415ef5",
   "metadata": {},
   "outputs": [],
   "source": [
    "fileloc = list(sorted(test_folder.glob('timestep*')))[-1]#[-1]\n",
    "v1 = PyVtu(fileloc)"
   ]
  },
  {
   "cell_type": "code",
   "execution_count": 78,
   "id": "e1e1d358-9e99-40a9-a933-9266ee81534f",
   "metadata": {},
   "outputs": [],
   "source": [
    "vesicle0 = ts.parseDump(v1.path)\n",
    "ts.command_line_args.dump_fullfilename=str(Path(v1.path).parent/\"dump.bin\").encode('ascii')\n",
    "vesicle = ts.restore_state(ts.ts_int(0),vesicle0.contents.tape)"
   ]
  },
  {
   "cell_type": "code",
   "execution_count": 106,
   "id": "723ef396-b3f7-4ef6-b9b8-88df2569122f",
   "metadata": {},
   "outputs": [],
   "source": [
    "v1 = PyVtu(Path(\"/opt/workspace/msc_project/simulations/QA_tests/cluster_version/rework\")\n",
    "          /Path(\"correct_anisotropy/from_spikey/timestep_000000.vtu\"))"
   ]
  },
  {
   "cell_type": "code",
   "execution_count": 107,
   "id": "36d26504-07a4-4027-9f5a-899d2b040b65",
   "metadata": {},
   "outputs": [],
   "source": [
    "vesicle = ts.parseDump(v1.path)"
   ]
  },
  {
   "cell_type": "markdown",
   "id": "ba4d87f4-2a7a-4d36-9512-1d6bea50e5e6",
   "metadata": {},
   "source": [
    "Show the difference"
   ]
  },
  {
   "cell_type": "code",
   "execution_count": 108,
   "id": "2389422c-15fc-4917-b01c-094f9444a460",
   "metadata": {},
   "outputs": [
    {
     "data": {
      "text/html": [
       "<div>\n",
       "<style scoped>\n",
       "    .dataframe tbody tr th:only-of-type {\n",
       "        vertical-align: middle;\n",
       "    }\n",
       "\n",
       "    .dataframe tbody tr th {\n",
       "        vertical-align: top;\n",
       "    }\n",
       "\n",
       "    .dataframe thead th {\n",
       "        text-align: right;\n",
       "    }\n",
       "</style>\n",
       "<table border=\"1\" class=\"dataframe\">\n",
       "  <thead>\n",
       "    <tr style=\"text-align: right;\">\n",
       "      <th></th>\n",
       "      <th>Mean curvature difference</th>\n",
       "      <th>Gaussian curvature difference</th>\n",
       "    </tr>\n",
       "  </thead>\n",
       "  <tbody>\n",
       "    <tr>\n",
       "      <th>count</th>\n",
       "      <td>2.002000e+03</td>\n",
       "      <td>2.002000e+03</td>\n",
       "    </tr>\n",
       "    <tr>\n",
       "      <th>mean</th>\n",
       "      <td>-2.133304e-03</td>\n",
       "      <td>-1.644588e-18</td>\n",
       "    </tr>\n",
       "    <tr>\n",
       "      <th>std</th>\n",
       "      <td>2.386395e-02</td>\n",
       "      <td>4.161143e-17</td>\n",
       "    </tr>\n",
       "    <tr>\n",
       "      <th>min</th>\n",
       "      <td>-4.704379e-01</td>\n",
       "      <td>-8.881784e-16</td>\n",
       "    </tr>\n",
       "    <tr>\n",
       "      <th>50%</th>\n",
       "      <td>0.000000e+00</td>\n",
       "      <td>0.000000e+00</td>\n",
       "    </tr>\n",
       "    <tr>\n",
       "      <th>75%</th>\n",
       "      <td>1.734723e-18</td>\n",
       "      <td>1.734723e-18</td>\n",
       "    </tr>\n",
       "    <tr>\n",
       "      <th>90%</th>\n",
       "      <td>1.387779e-17</td>\n",
       "      <td>6.938894e-18</td>\n",
       "    </tr>\n",
       "    <tr>\n",
       "      <th>99.5%</th>\n",
       "      <td>1.110223e-16</td>\n",
       "      <td>1.665335e-16</td>\n",
       "    </tr>\n",
       "    <tr>\n",
       "      <th>max</th>\n",
       "      <td>4.415883e-04</td>\n",
       "      <td>2.775558e-16</td>\n",
       "    </tr>\n",
       "  </tbody>\n",
       "</table>\n",
       "</div>"
      ],
      "text/plain": [
       "       Mean curvature difference  Gaussian curvature difference\n",
       "count               2.002000e+03                   2.002000e+03\n",
       "mean               -2.133304e-03                  -1.644588e-18\n",
       "std                 2.386395e-02                   4.161143e-17\n",
       "min                -4.704379e-01                  -8.881784e-16\n",
       "50%                 0.000000e+00                   0.000000e+00\n",
       "75%                 1.734723e-18                   1.734723e-18\n",
       "90%                 1.387779e-17                   6.938894e-18\n",
       "99.5%               1.110223e-16                   1.665335e-16\n",
       "max                 4.415883e-04                   2.775558e-16"
      ]
     },
     "execution_count": 108,
     "metadata": {},
     "output_type": "execute_result"
    }
   ],
   "source": [
    "percentiles = [0.5,0.75,0.9,0.995]\n",
    "pd.DataFrame({\"Mean curvature difference\": v1.mean_curvature2-v1.mean_curvature,\"Gaussian curvature difference\": v1.gaussian_curvature2-v1.gaussian_curvature}).describe(percentiles=percentiles)"
   ]
  },
  {
   "cell_type": "code",
   "execution_count": 109,
   "id": "564c9c3a-0ca7-4565-a0b0-04e9a06faa5d",
   "metadata": {},
   "outputs": [
    {
     "data": {
      "text/plain": [
       "array([  40,   63,  163,  202,  333,  342,  441,  479,  511,  525,  545,\n",
       "        619,  674,  687,  740,  742,  780,  880,  975,  989, 1051, 1150,\n",
       "       1162, 1172, 1212, 1290, 1296, 1316, 1358, 1422, 1481, 1502, 1524,\n",
       "       1552, 1586, 1601, 1616, 1639, 1680, 1712, 1713, 1823, 1827])"
      ]
     },
     "execution_count": 109,
     "metadata": {},
     "output_type": "execute_result"
    }
   ],
   "source": [
    "problematic_values = (v1.mean_curvature2**2)<v1.gaussian_curvature2\n",
    "problematic_indices = np.where(problematic_values)[0]\n",
    "unproblematic_indices = np.where(~problematic_values)[0]\n",
    "problematic_indices"
   ]
  },
  {
   "cell_type": "markdown",
   "id": "07128689-238d-47ef-a43d-aacf60875358",
   "metadata": {},
   "source": [
    "## Here we can look at the difference between the uncorrected version and the corrected version"
   ]
  },
  {
   "cell_type": "code",
   "execution_count": 110,
   "id": "7241acf6-1fa4-46c4-8f75-ae13830a2c33",
   "metadata": {},
   "outputs": [
    {
     "data": {
      "text/plain": [
       "(102, 40)"
      ]
     },
     "execution_count": 110,
     "metadata": {},
     "output_type": "execute_result"
    }
   ],
   "source": [
    "i_good=np.where(~problematic_values)[0][100]\n",
    "i_bad=problematic_indices[0]\n",
    "i_good, i_bad"
   ]
  },
  {
   "cell_type": "markdown",
   "id": "448af3b2-c1ca-4bea-af07-b53b71f3ec15",
   "metadata": {},
   "source": [
    "Get the original and new versions of the shape operator"
   ]
  },
  {
   "cell_type": "code",
   "execution_count": 111,
   "id": "3807acf9-ae7b-4851-9f1c-96d55a130c6a",
   "metadata": {},
   "outputs": [],
   "source": [
    "vertices = list(ts.iter_xlist(vesicle))"
   ]
  },
  {
   "cell_type": "code",
   "execution_count": 112,
   "id": "b9dec41c-1520-4b7a-9e6d-329e1df55491",
   "metadata": {},
   "outputs": [],
   "source": [
    "Ses_org = np.array([[v.S[:2],v.S[2:]] for v in vertices])"
   ]
  },
  {
   "cell_type": "markdown",
   "id": "9cdab73e-104f-46f6-81c0-eb7b391b1d47",
   "metadata": {},
   "source": [
    "Get correction from c:"
   ]
  },
  {
   "cell_type": "code",
   "execution_count": 113,
   "id": "8a0f2a9e-ad0f-414e-8156-e804551d5c03",
   "metadata": {},
   "outputs": [
    {
     "name": "stdout",
     "output_type": "stream",
     "text": [
      "before correction, vertex 0 is [-0.20137292975072177, 0.09403108501164299, -0.2356897137285835]\n",
      "after correction, vertex 0 is [0.23811742698806096, 0.10462391212680974, 0.19993477503918727]\n"
     ]
    }
   ],
   "source": [
    "Ses_c = [[ts.pointer(ts.ts_double(s)) for s in S[[0,0,1],[0,1,1]]] for S in Ses_org]\n",
    "print(\"before correction, vertex 0 is\", [x.contents.value for x in Ses_c[0]])\n",
    "for i in v1.indices:\n",
    "    ts.error_correction_scheme(Ses_c[i][0],Ses_c[i][1],Ses_c[i][2],v1.mean_curvature2[i],v1.gaussian_curvature2[i])\n",
    "print(\"after correction, vertex 0 is\", [x.contents.value for x in Ses_c[0]])"
   ]
  },
  {
   "cell_type": "markdown",
   "id": "fe85f3e2-e82c-4647-9c2e-5c522aa91b49",
   "metadata": {},
   "source": [
    "Get the corrected shape operator"
   ]
  },
  {
   "cell_type": "code",
   "execution_count": 114,
   "id": "3d65f882-7033-4892-aed7-befaf0ea9bd1",
   "metadata": {},
   "outputs": [],
   "source": [
    "Ses_corrected = np.array([[[S[0].contents.value,S[1].contents.value],\n",
    "                 [S[1].contents.value,S[2].contents.value],] for S in Ses_c])"
   ]
  },
  {
   "cell_type": "code",
   "execution_count": 115,
   "id": "5330c66c-8694-45ad-81c5-bf93e2525a9a",
   "metadata": {},
   "outputs": [
    {
     "data": {
      "text/plain": [
       "((array([ 0.18724893, -0.02050525]),\n",
       "  array([[ 0.73703706,  0.67585233],\n",
       "         [-0.67585233,  0.73703706]])),\n",
       " (array([ 0.0329297 , -0.20009986]),\n",
       "  array([[ 0.73703706,  0.67585233],\n",
       "         [-0.67585233,  0.73703706]])))"
      ]
     },
     "execution_count": 115,
     "metadata": {},
     "output_type": "execute_result"
    }
   ],
   "source": [
    "np.linalg.eig(Ses_org[i_good]),np.linalg.eig(Ses_corrected[i_good])"
   ]
  },
  {
   "cell_type": "code",
   "execution_count": 117,
   "id": "9f5d7c8e-8032-4a28-8e96-0a23b7f16b15",
   "metadata": {},
   "outputs": [
    {
     "data": {
      "text/plain": [
       "((array([-0.85191622, -1.21412886]),\n",
       "  array([[ 0.88322482, -0.4689498 ],\n",
       "         [ 0.4689498 ,  0.88322482]])),\n",
       " (array([1.47389345, 1.47389345]),\n",
       "  array([[1., 0.],\n",
       "         [0., 1.]])))"
      ]
     },
     "execution_count": 117,
     "metadata": {},
     "output_type": "execute_result"
    }
   ],
   "source": [
    "np.linalg.eig(Ses_org[i_bad]),np.linalg.eig(Ses_corrected[i_bad])"
   ]
  },
  {
   "attachments": {
    "63ad4b22-9246-4676-ad28-ccd1632a393d.png": {
     "image/png": "[encoded data removed]"
    }
   },
   "cell_type": "markdown",
   "id": "38afd68e-f133-4d0f-aafc-1967353dc511",
   "metadata": {},
   "source": [
    "![image.png](attachment:63ad4b22-9246-4676-ad28-ccd1632a393d.png)"
   ]
  },
  {
   "cell_type": "markdown",
   "id": "9a11888c-083a-4a17-9322-0d8f9528779e",
   "metadata": {},
   "source": [
    "All the corrected ones lose their direction"
   ]
  },
  {
   "cell_type": "code",
   "execution_count": 118,
   "id": "d35878c8-5567-4759-8f12-f5a0ca82738a",
   "metadata": {},
   "outputs": [
    {
     "data": {
      "text/plain": [
       "[array([[1., 0.],\n",
       "        [0., 1.]]),\n",
       " array([[1., 0.],\n",
       "        [0., 1.]]),\n",
       " array([[1., 0.],\n",
       "        [0., 1.]]),\n",
       " array([[1., 0.],\n",
       "        [0., 1.]]),\n",
       " array([[1., 0.],\n",
       "        [0., 1.]])]"
      ]
     },
     "execution_count": 118,
     "metadata": {},
     "output_type": "execute_result"
    }
   ],
   "source": [
    "[np.linalg.eig(Ses_corrected[x])[1] for x in problematic_indices[:5]]"
   ]
  },
  {
   "cell_type": "code",
   "execution_count": 119,
   "id": "0ce5ca4f-2fef-43ec-a230-44279f4c063e",
   "metadata": {},
   "outputs": [],
   "source": [
    "diff = np.zeros(Ses_org.shape)\n",
    "reldif = np.zeros((len(v1.indices),2))\n",
    "for i in v1.indices:\n",
    "    e_val,e_vec = np.linalg.eig(Ses_org[i])\n",
    "    e_val2, e_vec2 = np.linalg.eig(Ses_corrected[i])\n",
    "    diff[i,0] = e_vec[0]@e_vec2[0],e_vec[1]@e_vec2[1]\n",
    "    diff[i,1]  =e_val-e_val2\n",
    "    reldif[i] = 1-e_val2/e_val"
   ]
  },
  {
   "cell_type": "code",
   "execution_count": 120,
   "id": "51d81a59-cae7-4694-af26-11cb75938577",
   "metadata": {},
   "outputs": [],
   "source": [
    "E1 = np.zeros(v1.indices.shape)\n",
    "E2 = np.zeros(v1.indices.shape)\n",
    "for i, vtx in enumerate(ts.iter_xlist(vesicle)):\n",
    "    vtx_copy=ts.ts_vertex(**{field[0]:vtx.__getattribute__(field[0]) for field in vtx._fields_})\n",
    "    ts.update_vertex_from_curvature_tensor(ts.pointer(vtx_copy),vtx_copy.area,\n",
    "                                           *Ses_org[i].flatten(),*v1.normal[i],*v1.director[i],\n",
    "                                           *np.cross(v1.normal[i],v1.director[i]))\n",
    "    E1[i] = vtx_copy.energy\n",
    "    ts.update_vertex_from_curvature_tensor(ts.pointer(vtx_copy),vtx_copy.area,\n",
    "                                           *Ses_corrected[i].flatten(),*v1.normal[i],*v1.director[i],\n",
    "                                           *np.cross(v1.normal[i],v1.director[i]))\n",
    "    E2[i] = vtx_copy.energy"
   ]
  },
  {
   "cell_type": "code",
   "execution_count": 156,
   "id": "6bbf8199-3b45-4861-8fb8-05b4d5f0a0e0",
   "metadata": {},
   "outputs": [],
   "source": [
    "df2=df[[\"energy difference\",\"eigen vector 1 dot\",\"eigen value 1 difference\"]]"
   ]
  },
  {
   "cell_type": "code",
   "execution_count": 176,
   "id": "4f3504a6-46c1-4af8-9cad-7bd1546ded1e",
   "metadata": {},
   "outputs": [],
   "source": [
    "df2.columns = [\"energy difference between method E_old-E_new\",\"first eigen vector new dot old    \",\"first eigen value difference\"]"
   ]
  },
  {
   "cell_type": "code",
   "execution_count": 177,
   "id": "bc865a6a-2218-4384-b67a-e58fbca7e49f",
   "metadata": {},
   "outputs": [
    {
     "data": {
      "text/html": [
       "<div>\n",
       "<style scoped>\n",
       "    .dataframe tbody tr th:only-of-type {\n",
       "        vertical-align: middle;\n",
       "    }\n",
       "\n",
       "    .dataframe tbody tr th {\n",
       "        vertical-align: top;\n",
       "    }\n",
       "\n",
       "    .dataframe thead th {\n",
       "        text-align: right;\n",
       "    }\n",
       "</style>\n",
       "<table border=\"1\" class=\"dataframe\">\n",
       "  <thead>\n",
       "    <tr style=\"text-align: right;\">\n",
       "      <th></th>\n",
       "      <th>energy difference between method E_old-E_new</th>\n",
       "      <th>first eigen vector new dot old</th>\n",
       "      <th>first eigen value difference</th>\n",
       "    </tr>\n",
       "  </thead>\n",
       "  <tbody>\n",
       "    <tr>\n",
       "      <th>count</th>\n",
       "      <td>2002.000000</td>\n",
       "      <td>2002.000000</td>\n",
       "      <td>2002.000000</td>\n",
       "    </tr>\n",
       "    <tr>\n",
       "      <th>mean</th>\n",
       "      <td>1.126362</td>\n",
       "      <td>0.976132</td>\n",
       "      <td>-0.150099</td>\n",
       "    </tr>\n",
       "    <tr>\n",
       "      <th>std</th>\n",
       "      <td>8.933436</td>\n",
       "      <td>0.209261</td>\n",
       "      <td>0.401985</td>\n",
       "    </tr>\n",
       "    <tr>\n",
       "      <th>min</th>\n",
       "      <td>-29.031752</td>\n",
       "      <td>-0.999990</td>\n",
       "      <td>-2.422325</td>\n",
       "    </tr>\n",
       "    <tr>\n",
       "      <th>0.5%</th>\n",
       "      <td>-19.127872</td>\n",
       "      <td>-0.958333</td>\n",
       "      <td>-1.934321</td>\n",
       "    </tr>\n",
       "    <tr>\n",
       "      <th>1%</th>\n",
       "      <td>-16.582686</td>\n",
       "      <td>-0.805696</td>\n",
       "      <td>-1.734218</td>\n",
       "    </tr>\n",
       "    <tr>\n",
       "      <th>5%</th>\n",
       "      <td>-2.302200</td>\n",
       "      <td>1.000000</td>\n",
       "      <td>-1.041245</td>\n",
       "    </tr>\n",
       "    <tr>\n",
       "      <th>10%</th>\n",
       "      <td>-0.559552</td>\n",
       "      <td>1.000000</td>\n",
       "      <td>-0.511627</td>\n",
       "    </tr>\n",
       "    <tr>\n",
       "      <th>50%</th>\n",
       "      <td>-0.064388</td>\n",
       "      <td>1.000000</td>\n",
       "      <td>-0.074309</td>\n",
       "    </tr>\n",
       "    <tr>\n",
       "      <th>90%</th>\n",
       "      <td>0.014689</td>\n",
       "      <td>1.000000</td>\n",
       "      <td>0.217822</td>\n",
       "    </tr>\n",
       "    <tr>\n",
       "      <th>95%</th>\n",
       "      <td>0.253810</td>\n",
       "      <td>1.000000</td>\n",
       "      <td>0.294196</td>\n",
       "    </tr>\n",
       "    <tr>\n",
       "      <th>99%</th>\n",
       "      <td>44.020210</td>\n",
       "      <td>1.000000</td>\n",
       "      <td>0.453660</td>\n",
       "    </tr>\n",
       "    <tr>\n",
       "      <th>99.5%</th>\n",
       "      <td>47.058502</td>\n",
       "      <td>1.000000</td>\n",
       "      <td>0.488172</td>\n",
       "    </tr>\n",
       "    <tr>\n",
       "      <th>max</th>\n",
       "      <td>53.436150</td>\n",
       "      <td>1.000000</td>\n",
       "      <td>0.643071</td>\n",
       "    </tr>\n",
       "  </tbody>\n",
       "</table>\n",
       "</div>"
      ],
      "text/plain": [
       "       energy difference between method E_old-E_new  \\\n",
       "count                                   2002.000000   \n",
       "mean                                       1.126362   \n",
       "std                                        8.933436   \n",
       "min                                      -29.031752   \n",
       "0.5%                                     -19.127872   \n",
       "1%                                       -16.582686   \n",
       "5%                                        -2.302200   \n",
       "10%                                       -0.559552   \n",
       "50%                                       -0.064388   \n",
       "90%                                        0.014689   \n",
       "95%                                        0.253810   \n",
       "99%                                       44.020210   \n",
       "99.5%                                     47.058502   \n",
       "max                                       53.436150   \n",
       "\n",
       "       first eigen vector new dot old      first eigen value difference  \n",
       "count                         2002.000000                   2002.000000  \n",
       "mean                             0.976132                     -0.150099  \n",
       "std                              0.209261                      0.401985  \n",
       "min                             -0.999990                     -2.422325  \n",
       "0.5%                            -0.958333                     -1.934321  \n",
       "1%                              -0.805696                     -1.734218  \n",
       "5%                               1.000000                     -1.041245  \n",
       "10%                              1.000000                     -0.511627  \n",
       "50%                              1.000000                     -0.074309  \n",
       "90%                              1.000000                      0.217822  \n",
       "95%                              1.000000                      0.294196  \n",
       "99%                              1.000000                      0.453660  \n",
       "99.5%                            1.000000                      0.488172  \n",
       "max                              1.000000                      0.643071  "
      ]
     },
     "execution_count": 177,
     "metadata": {},
     "output_type": "execute_result"
    }
   ],
   "source": [
    "df2.describe(percentiles=[0.005,0.01,0.05,0.1,0.9,0.95,0.99,0.995])"
   ]
  },
  {
   "attachments": {
    "57005b6a-0121-462e-bfce-c562e7f4738e.png": {
     "image/png": "[encoded data removed]"
    },
    "80bf22e3-5164-4302-9722-c0bd7dca20f3.png": {
     "image/png": "[encoded data removed]"
    },
    "e7203bee-2400-40a1-a77d-46b8c269d898.png": {
     "image/png": "[encoded data removed]"
    }
   },
   "cell_type": "markdown",
   "id": "5c3763f7-d114-416d-ac25-52f15048c242",
   "metadata": {},
   "source": [
    "![image.png](attachment:e7203bee-2400-40a1-a77d-46b8c269d898.png)![image.png](attachment:80bf22e3-5164-4302-9722-c0bd7dca20f3.png)![image.png](attachment:57005b6a-0121-462e-bfce-c562e7f4738e.png)"
   ]
  },
  {
   "cell_type": "code",
   "execution_count": 121,
   "id": "8032e12e-524f-460f-a8c5-d1abfc54cc6c",
   "metadata": {},
   "outputs": [
    {
     "data": {
      "text/html": [
       "<div>\n",
       "<style scoped>\n",
       "    .dataframe tbody tr th:only-of-type {\n",
       "        vertical-align: middle;\n",
       "    }\n",
       "\n",
       "    .dataframe tbody tr th {\n",
       "        vertical-align: top;\n",
       "    }\n",
       "\n",
       "    .dataframe thead th {\n",
       "        text-align: right;\n",
       "    }\n",
       "</style>\n",
       "<table border=\"1\" class=\"dataframe\">\n",
       "  <thead>\n",
       "    <tr style=\"text-align: right;\">\n",
       "      <th></th>\n",
       "      <th>energy difference</th>\n",
       "      <th>eigen vector 1 dot</th>\n",
       "      <th>eigen vector 2 dot</th>\n",
       "      <th>eigen value 1 difference</th>\n",
       "      <th>eigen value 2 difference</th>\n",
       "      <th>eigen value 1 relative difference</th>\n",
       "    </tr>\n",
       "  </thead>\n",
       "  <tbody>\n",
       "    <tr>\n",
       "      <th>count</th>\n",
       "      <td>2002.000000</td>\n",
       "      <td>2002.000000</td>\n",
       "      <td>2002.000000</td>\n",
       "      <td>2002.000000</td>\n",
       "      <td>2002.000000</td>\n",
       "      <td>2002.000000</td>\n",
       "    </tr>\n",
       "    <tr>\n",
       "      <th>mean</th>\n",
       "      <td>1.126362</td>\n",
       "      <td>0.976132</td>\n",
       "      <td>0.976132</td>\n",
       "      <td>-0.150099</td>\n",
       "      <td>-0.119526</td>\n",
       "      <td>-0.605200</td>\n",
       "    </tr>\n",
       "    <tr>\n",
       "      <th>std</th>\n",
       "      <td>8.933436</td>\n",
       "      <td>0.209261</td>\n",
       "      <td>0.209261</td>\n",
       "      <td>0.401985</td>\n",
       "      <td>0.379015</td>\n",
       "      <td>87.359536</td>\n",
       "    </tr>\n",
       "    <tr>\n",
       "      <th>min</th>\n",
       "      <td>-29.031752</td>\n",
       "      <td>-0.999990</td>\n",
       "      <td>-0.999990</td>\n",
       "      <td>-2.422325</td>\n",
       "      <td>-2.688022</td>\n",
       "      <td>-3438.153817</td>\n",
       "    </tr>\n",
       "    <tr>\n",
       "      <th>0.5%</th>\n",
       "      <td>-19.127872</td>\n",
       "      <td>-0.958333</td>\n",
       "      <td>-0.958333</td>\n",
       "      <td>-1.934321</td>\n",
       "      <td>-1.829172</td>\n",
       "      <td>-82.510887</td>\n",
       "    </tr>\n",
       "    <tr>\n",
       "      <th>1%</th>\n",
       "      <td>-16.582686</td>\n",
       "      <td>-0.805696</td>\n",
       "      <td>-0.805696</td>\n",
       "      <td>-1.734218</td>\n",
       "      <td>-1.644100</td>\n",
       "      <td>-49.252623</td>\n",
       "    </tr>\n",
       "    <tr>\n",
       "      <th>10%</th>\n",
       "      <td>-0.559552</td>\n",
       "      <td>1.000000</td>\n",
       "      <td>1.000000</td>\n",
       "      <td>-0.511627</td>\n",
       "      <td>-0.408880</td>\n",
       "      <td>-2.932865</td>\n",
       "    </tr>\n",
       "    <tr>\n",
       "      <th>50%</th>\n",
       "      <td>-0.064388</td>\n",
       "      <td>1.000000</td>\n",
       "      <td>1.000000</td>\n",
       "      <td>-0.074309</td>\n",
       "      <td>-0.057970</td>\n",
       "      <td>0.877189</td>\n",
       "    </tr>\n",
       "    <tr>\n",
       "      <th>90%</th>\n",
       "      <td>0.014689</td>\n",
       "      <td>1.000000</td>\n",
       "      <td>1.000000</td>\n",
       "      <td>0.217822</td>\n",
       "      <td>0.221619</td>\n",
       "      <td>4.935275</td>\n",
       "    </tr>\n",
       "    <tr>\n",
       "      <th>99%</th>\n",
       "      <td>44.020210</td>\n",
       "      <td>1.000000</td>\n",
       "      <td>1.000000</td>\n",
       "      <td>0.453660</td>\n",
       "      <td>0.450601</td>\n",
       "      <td>36.843369</td>\n",
       "    </tr>\n",
       "    <tr>\n",
       "      <th>99.5%</th>\n",
       "      <td>47.058502</td>\n",
       "      <td>1.000000</td>\n",
       "      <td>1.000000</td>\n",
       "      <td>0.488172</td>\n",
       "      <td>0.535822</td>\n",
       "      <td>64.629332</td>\n",
       "    </tr>\n",
       "    <tr>\n",
       "      <th>max</th>\n",
       "      <td>53.436150</td>\n",
       "      <td>1.000000</td>\n",
       "      <td>1.000000</td>\n",
       "      <td>0.643071</td>\n",
       "      <td>0.671215</td>\n",
       "      <td>906.497337</td>\n",
       "    </tr>\n",
       "  </tbody>\n",
       "</table>\n",
       "</div>"
      ],
      "text/plain": [
       "       energy difference  eigen vector 1 dot  eigen vector 2 dot  \\\n",
       "count        2002.000000         2002.000000         2002.000000   \n",
       "mean            1.126362            0.976132            0.976132   \n",
       "std             8.933436            0.209261            0.209261   \n",
       "min           -29.031752           -0.999990           -0.999990   \n",
       "0.5%          -19.127872           -0.958333           -0.958333   \n",
       "1%            -16.582686           -0.805696           -0.805696   \n",
       "10%            -0.559552            1.000000            1.000000   \n",
       "50%            -0.064388            1.000000            1.000000   \n",
       "90%             0.014689            1.000000            1.000000   \n",
       "99%            44.020210            1.000000            1.000000   \n",
       "99.5%          47.058502            1.000000            1.000000   \n",
       "max            53.436150            1.000000            1.000000   \n",
       "\n",
       "       eigen value 1 difference  eigen value 2 difference  \\\n",
       "count               2002.000000               2002.000000   \n",
       "mean                  -0.150099                 -0.119526   \n",
       "std                    0.401985                  0.379015   \n",
       "min                   -2.422325                 -2.688022   \n",
       "0.5%                  -1.934321                 -1.829172   \n",
       "1%                    -1.734218                 -1.644100   \n",
       "10%                   -0.511627                 -0.408880   \n",
       "50%                   -0.074309                 -0.057970   \n",
       "90%                    0.217822                  0.221619   \n",
       "99%                    0.453660                  0.450601   \n",
       "99.5%                  0.488172                  0.535822   \n",
       "max                    0.643071                  0.671215   \n",
       "\n",
       "       eigen value 1 relative difference  \n",
       "count                        2002.000000  \n",
       "mean                           -0.605200  \n",
       "std                            87.359536  \n",
       "min                         -3438.153817  \n",
       "0.5%                          -82.510887  \n",
       "1%                            -49.252623  \n",
       "10%                            -2.932865  \n",
       "50%                             0.877189  \n",
       "90%                             4.935275  \n",
       "99%                            36.843369  \n",
       "99.5%                          64.629332  \n",
       "max                           906.497337  "
      ]
     },
     "execution_count": 121,
     "metadata": {},
     "output_type": "execute_result"
    }
   ],
   "source": [
    "percentiles2 = [0.005,0.01,0.1,0.5,0.9,0.99,0.995]\n",
    "df = pd.DataFrame({\"energy difference\": E1-E2,\n",
    "    \"eigen vector 1 dot\": diff[:,0,0],\n",
    "             \"eigen vector 2 dot\": diff[:,0,1],\n",
    "             \"eigen value 1 difference\": diff[:,1,0],\n",
    "             \"eigen value 2 difference\": diff[:,1,1],\n",
    "             \"eigen value 1 relative difference\": reldif[:,1]})\n",
    "df.describe(percentiles=percentiles2)"
   ]
  },
  {
   "cell_type": "code",
   "execution_count": 122,
   "id": "9504ac00-734c-4db1-9949-8eb5f1584672",
   "metadata": {},
   "outputs": [
    {
     "data": {
      "image/png": "[encoded data removed]",
      "text/plain": [
       "<Figure size 640x480 with 6 Axes>"
      ]
     },
     "metadata": {},
     "output_type": "display_data"
    }
   ],
   "source": [
    "df.hist()\n",
    "plt.tight_layout()"
   ]
  },
  {
   "cell_type": "code",
   "execution_count": 75,
   "id": "8299df62-3f84-4685-bed8-99a1432ab0c0",
   "metadata": {},
   "outputs": [
    {
     "data": {
      "text/plain": [
       "array([[ 1.36203626e+04,  6.90583144e-01],\n",
       "       [ 8.00631946e-01, -3.19534337e+03],\n",
       "       [ 7.86623928e-01, -2.48043636e+03],\n",
       "       [-1.65860251e+03,  9.55018022e-01],\n",
       "       [ 1.30402263e+03,  1.00004365e+00],\n",
       "       [ 8.35753683e+02,  9.52944275e-01],\n",
       "       [-6.14555853e+02,  9.13218786e-01],\n",
       "       [ 6.50328738e-01, -4.98001144e+02],\n",
       "       [ 3.92791613e+02,  9.71324841e-01]])"
      ]
     },
     "execution_count": 75,
     "metadata": {},
     "output_type": "execute_result"
    }
   ],
   "source": [
    "reldif[reldif.std(axis=1).argsort()[:-10:-1]]"
   ]
  },
  {
   "cell_type": "code",
   "execution_count": 135,
   "id": "4dbea7ab-c1ee-408f-a37d-4e081fb9b214",
   "metadata": {},
   "outputs": [
    {
     "data": {
      "text/plain": [
       "array([ 12.06755146,  12.11117272,  12.15931148,  12.24435784,\n",
       "        12.4422508 ,  12.52352853,  13.31669197,  13.84777773,\n",
       "        13.91658519,  14.09921927,  14.24879984,  14.60167212,\n",
       "        14.61656653,  14.70146381,  14.84221653,  14.8501037 ,\n",
       "        15.06299332,  15.15509196,  15.15568622,  15.1903165 ,\n",
       "        15.29888409,  15.41549005,  15.59360514,  15.61457126,\n",
       "        15.74176713,  15.89141116,  15.9326164 ,  16.07245121,\n",
       "        16.07558773,  16.40613435,  16.58446917,  17.05128137,\n",
       "        17.060917  ,  17.08217922,  17.18800286,  17.29098714,\n",
       "        17.38150498,  17.69160093,  18.85436872,  19.01511988,\n",
       "        19.12843886,  19.16239177,  19.40414248,  19.62204105,\n",
       "        19.68372072, -20.15967814,  20.26451844, -20.31744044,\n",
       "       -20.61487637, -20.71629497,  20.91503009,  21.00873776,\n",
       "       -21.16735231, -21.18067325, -21.68158296,  21.7060637 ,\n",
       "        25.5402515 , -25.67264496, -26.09111154, -26.63645424,\n",
       "       -26.93244363, -27.22086422, -27.32724369, -27.80173276,\n",
       "       -28.21367456, -28.75793522,  29.03175221, -29.66717489,\n",
       "       -29.70409283, -29.92538926, -29.99471005, -30.023222  ,\n",
       "       -30.03692581, -30.23591214, -30.66296988, -31.02044422,\n",
       "       -31.1588672 , -31.27145563, -31.45146378, -31.54046676,\n",
       "       -31.97359321, -32.27647499, -32.73834288, -32.99267177,\n",
       "       -33.28097713, -33.82603755, -34.10231034, -35.23847955,\n",
       "       -35.30512202, -36.28204151, -37.03405707, -37.05990766,\n",
       "       -37.15961913, -37.9949244 , -38.0067952 , -38.03423257,\n",
       "       -38.16474302, -38.45893316, -38.46019009, -38.62904293,\n",
       "       -38.89203827, -39.10633061, -39.42175561, -39.43764798,\n",
       "       -39.50980129, -39.52796041, -39.7461343 , -39.77794307,\n",
       "       -40.17819623, -40.41879895, -40.47092751, -40.49518645,\n",
       "       -40.54691588, -40.66383094, -40.67682737, -40.88963571,\n",
       "       -40.96377564, -41.03501877, -41.07679183, -41.17674273,\n",
       "       -41.2235774 , -42.27850289, -42.4142203 , -43.07786912,\n",
       "       -43.11553678, -43.57034558, -43.5965355 , -43.67743913,\n",
       "       -43.98316165, -44.02058453, -44.15916379, -44.6427693 ,\n",
       "       -44.80155664, -45.58403599, -45.62600937, -45.84252609,\n",
       "       -45.97178822, -46.74525742, -46.89844999, -47.05930631,\n",
       "       -47.65664799, -48.42360462, -48.49227496, -49.29033593,\n",
       "       -49.57786514, -49.64419204, -50.6793846 , -51.18031311,\n",
       "       -52.04649242, -53.43614955])"
      ]
     },
     "execution_count": 135,
     "metadata": {},
     "output_type": "execute_result"
    }
   ],
   "source": [
    "sorted_energy_diff=((E2-E1)**2).argsort()\n",
    "(E2-E1)[sorted_energy_diff[-150:]]"
   ]
  },
  {
   "cell_type": "code",
   "execution_count": 150,
   "id": "3b3426f0-387a-48f8-8981-1b0a100b3992",
   "metadata": {},
   "outputs": [
    {
     "data": {
      "text/plain": [
       "(1823, 1798)"
      ]
     },
     "execution_count": 150,
     "metadata": {},
     "output_type": "execute_result"
    }
   ],
   "source": [
    "i,j = sorted_energy_diff[[-1,-150]]\n",
    "i,j"
   ]
  },
  {
   "cell_type": "code",
   "execution_count": 140,
   "id": "b6d27e41-2478-4ec7-a75e-368b98dfa28d",
   "metadata": {},
   "outputs": [
    {
     "data": {
      "text/plain": [
       "(57.95447631652239, 4.5183267703183905)"
      ]
     },
     "execution_count": 140,
     "metadata": {},
     "output_type": "execute_result"
    }
   ],
   "source": [
    "E1[i],E2[i]"
   ]
  },
  {
   "cell_type": "code",
   "execution_count": 146,
   "id": "a7f7dec5-35ed-4519-a79b-c61e4ff6d9d0",
   "metadata": {},
   "outputs": [
    {
     "data": {
      "text/plain": [
       "(array([[-0.88967224,  0.16894985],\n",
       "        [ 0.16894985, -0.57198362]]),\n",
       " 'corrected',\n",
       " array([[0.84971726, 0.        ],\n",
       "        [0.        , 0.84971726]]))"
      ]
     },
     "execution_count": 146,
     "metadata": {},
     "output_type": "execute_result"
    }
   ],
   "source": [
    "Ses_org[i],\"corrected\",Ses_corrected[i]"
   ]
  },
  {
   "cell_type": "code",
   "execution_count": 139,
   "id": "12b85585-863e-41a4-a25c-50f74ee2d2b2",
   "metadata": {},
   "outputs": [
    {
     "data": {
      "text/plain": [
       "((array([-0.96272352, -0.49893234]),\n",
       "  array([[-0.91787309, -0.39687403],\n",
       "         [ 0.39687403, -0.91787309]])),\n",
       " 'corrected',\n",
       " (array([0.84971726, 0.84971726]),\n",
       "  array([[1., 0.],\n",
       "         [0., 1.]])))"
      ]
     },
     "execution_count": 139,
     "metadata": {},
     "output_type": "execute_result"
    }
   ],
   "source": [
    "np.linalg.eig(Ses_org[i]),\"corrected\",np.linalg.eig(Ses_corrected[i])"
   ]
  },
  {
   "attachments": {
    "cafbf80b-8edd-4d70-9911-fb61dca37a94.png": {
     "image/png": "[encoded data removed]"
    }
   },
   "cell_type": "markdown",
   "id": "d1279b9e-344d-4915-9649-01ef1feff915",
   "metadata": {},
   "source": [
    "![image.png](attachment:cafbf80b-8edd-4d70-9911-fb61dca37a94.png)"
   ]
  },
  {
   "cell_type": "code",
   "execution_count": 147,
   "id": "f9e5ef50-e14c-40ec-a413-d1629407cb1a",
   "metadata": {},
   "outputs": [
    {
     "data": {
      "text/plain": [
       "(2.5333801673816954, 14.60093162968633)"
      ]
     },
     "execution_count": 147,
     "metadata": {},
     "output_type": "execute_result"
    }
   ],
   "source": [
    "E1[j],E2[j]"
   ]
  },
  {
   "cell_type": "code",
   "execution_count": 148,
   "id": "5a7117f2-e4a0-4a3c-9395-707f392c060c",
   "metadata": {},
   "outputs": [
    {
     "data": {
      "text/plain": [
       "(array([[-0.38319939, -0.05100817],\n",
       "        [-0.05100817,  0.04085244]]),\n",
       " 'corrected',\n",
       " array([[-0.38964737, -0.14685766],\n",
       "        [-0.14685766,  0.83124055]]))"
      ]
     },
     "execution_count": 148,
     "metadata": {},
     "output_type": "execute_result"
    }
   ],
   "source": [
    "Ses_org[j],\"corrected\",Ses_corrected[j]"
   ]
  },
  {
   "cell_type": "code",
   "execution_count": 149,
   "id": "ee7dce9d-3f00-4161-b978-f537192cd479",
   "metadata": {},
   "outputs": [
    {
     "data": {
      "text/plain": [
       "((array([-0.38924874,  0.04690179]),\n",
       "  array([[-0.99304085,  0.11777042],\n",
       "         [-0.11777042, -0.99304085]])),\n",
       " 'corrected',\n",
       " (array([-0.40706406,  0.84865724]),\n",
       "  array([[-0.99304085,  0.11777042],\n",
       "         [-0.11777042, -0.99304085]])))"
      ]
     },
     "execution_count": 149,
     "metadata": {},
     "output_type": "execute_result"
    }
   ],
   "source": [
    "np.linalg.eig(Ses_org[j]),\"corrected\",np.linalg.eig(Ses_corrected[j])"
   ]
  },
  {
   "attachments": {
    "bf4994f1-c11d-4dfd-9698-d9e527163a26.png": {
     "image/png": "[encoded data removed]"
    }
   },
   "cell_type": "markdown",
   "id": "bdaee8e3-28cf-4dbf-adae-dd1d25c18619",
   "metadata": {},
   "source": [
    "![image.png](attachment:bf4994f1-c11d-4dfd-9698-d9e527163a26.png)"
   ]
  },
  {
   "cell_type": "markdown",
   "id": "f2a2b846-7660-4dee-bbd8-9013649c4c94",
   "metadata": {},
   "source": [
    "Try to recreate the calculation in python"
   ]
  },
  {
   "cell_type": "code",
   "execution_count": 193,
   "id": "ae482a16-5993-4bb8-9f79-a4033f13629b",
   "metadata": {},
   "outputs": [],
   "source": [
    "i=i_good"
   ]
  },
  {
   "cell_type": "code",
   "execution_count": 194,
   "id": "985092c0-2ee3-41fd-90e0-0edec26a281e",
   "metadata": {},
   "outputs": [
    {
     "data": {
      "text/plain": [
       "0.0988505433559435"
      ]
     },
     "execution_count": 194,
     "metadata": {},
     "output_type": "execute_result"
    }
   ],
   "source": [
    "hkg = (np.trace(Ses[i])**2)-np.linalg.det(Ses[i])\n",
    "hkg"
   ]
  },
  {
   "cell_type": "code",
   "execution_count": 195,
   "id": "664fc2d6-36fb-4ed1-9374-b735428a81b3",
   "metadata": {},
   "outputs": [
    {
     "data": {
      "text/plain": [
       "0.0011106373467797484"
      ]
     },
     "execution_count": 195,
     "metadata": {},
     "output_type": "execute_result"
    }
   ],
   "source": [
    "hkg = (v1.mean_curvature2[i]**2)-v1.gaussian_curvature2[i]\n",
    "hkg"
   ]
  },
  {
   "cell_type": "code",
   "execution_count": 196,
   "id": "a257a854-ef89-483f-b419-e2203d31d707",
   "metadata": {},
   "outputs": [
    {
     "data": {
      "text/plain": [
       "(0.0011106373467797484, 0.17991026564268475)"
      ]
     },
     "execution_count": 196,
     "metadata": {},
     "output_type": "execute_result"
    }
   ],
   "source": [
    "hkg = hkg if hkg>0 else 0\n",
    "h_corr = v1.mean_curvature2[i] if hkg>0 else np.sqrt(v1.gaussian_curvature2[i])\n",
    "hkg, h_corr"
   ]
  },
  {
   "cell_type": "code",
   "execution_count": 197,
   "id": "f1234dfc-3d5d-4dbe-af9b-c20f61b0151e",
   "metadata": {},
   "outputs": [],
   "source": [
    "factor = np.sqrt( hkg*((Ses[i,0,0]-Ses[i,1,1])**2+4*(Ses[i,0,1]**2)) )"
   ]
  },
  {
   "cell_type": "code",
   "execution_count": 198,
   "id": "07261df1-b2a8-4328-932a-0e40d7bebc42",
   "metadata": {},
   "outputs": [
    {
     "data": {
      "text/plain": [
       "array([[-0.20638759,  0.03394559],\n",
       "       [ 0.03394559, -0.15322649]])"
      ]
     },
     "execution_count": 198,
     "metadata": {},
     "output_type": "execute_result"
    }
   ],
   "source": [
    "Ses[i]"
   ]
  },
  {
   "cell_type": "code",
   "execution_count": 199,
   "id": "92ccc660-1e61-4386-93c5-7332bbef8d0c",
   "metadata": {},
   "outputs": [],
   "source": [
    "delta = h_corr-(Ses[i,0,0]+Ses[i,1,1])/2"
   ]
  },
  {
   "cell_type": "code",
   "execution_count": 200,
   "id": "a7c2abe5-0344-409a-a379-8d1c706c8d5a",
   "metadata": {},
   "outputs": [],
   "source": [
    "beta=Ses[i,0,1]*( 2*(-hkg)/factor - 1) if factor!=0 else 0\n",
    "a = -(\n",
    "    (Ses[i,0,0]-Ses[i,1,1])*(2*factor+(Ses[i,0,0]-Ses[i,1,1])**2+4*(Ses[i,0,1]**2))\n",
    "      /( 2*((Ses[i,0,0]-Ses[i,1,1])**2) + 8*(Ses[i,0,1]**2) )\n",
    "     )"
   ]
  },
  {
   "cell_type": "code",
   "execution_count": 201,
   "id": "fcb2ed47-fc6a-4333-b900-0b1d1d8dd083",
   "metadata": {},
   "outputs": [],
   "source": [
    "beta2=Ses[i,0,1]*( 2*(hkg)/factor - 1) if factor!=0 else 0\n",
    "a2 = -(\n",
    "    (Ses[i,0,0]-Ses[i,1,1])*(-2*factor+(Ses[i,0,0]-Ses[i,1,1])**2+4*(Ses[i,0,1]**2))\n",
    "      /( 2*((Ses[i,0,0]-Ses[i,1,1])**2) + 8*(Ses[i,0,1]**2) )\n",
    "     )"
   ]
  },
  {
   "cell_type": "code",
   "execution_count": 202,
   "id": "ca139107-16e1-4060-8270-7ece84291fdd",
   "metadata": {},
   "outputs": [
    {
     "data": {
      "text/plain": [
       "(0.005843128919122222, 9.580317481714214e-05)"
      ]
     },
     "execution_count": 202,
     "metadata": {},
     "output_type": "execute_result"
    }
   ],
   "source": [
    "a**2+beta**2,a2**2+beta2**2"
   ]
  },
  {
   "cell_type": "code",
   "execution_count": 225,
   "id": "42492dfa-6edb-4df9-9eca-d56e440c9b53",
   "metadata": {},
   "outputs": [
    {
     "name": "stdout",
     "output_type": "stream",
     "text": [
      "using delta, a, and beta\n",
      " [[0.15936412 0.02623915]\n",
      " [0.02623915 0.20045641]] \n",
      "using delta, a2, and beta2\n",
      " [[ 1.15332972 -0.02623915]\n",
      " [-0.02623915 -0.79350919]] \n",
      "actual correction in c\n",
      " [[0.15936412 0.02623915]\n",
      " [0.02623915 0.20045641]]\n"
     ]
    }
   ],
   "source": [
    "s1=Ses[i]+[[delta+a2,beta2],[beta2,delta-a2]]\n",
    "s2=Ses[i]+[[delta+a,beta],[beta,delta-a]]\n",
    "print(\"using delta, a, and beta\\n\",s1,\"\\nusing delta, a2, and beta2\\n\",s2,\"\\nactual correction in c\\n\",Ses3[i])"
   ]
  },
  {
   "cell_type": "code",
   "execution_count": 208,
   "id": "ac6a9bbb-6eeb-4840-b5f6-68929a300a5e",
   "metadata": {},
   "outputs": [
    {
     "data": {
      "text/plain": [
       "(0.17991026564268475,\n",
       " 0.17991026564268472,\n",
       " 0.17991026564268472,\n",
       " 0.17991026564268472)"
      ]
     },
     "execution_count": 208,
     "metadata": {},
     "output_type": "execute_result"
    }
   ],
   "source": [
    "v1.mean_curvature2[i],np.trace(s1)/2,np.trace(s2)/2,np.trace(Ses3[i])/2"
   ]
  },
  {
   "cell_type": "code",
   "execution_count": 209,
   "id": "757dbde1-061f-4436-ae92-a1b91a4851ae",
   "metadata": {},
   "outputs": [
    {
     "data": {
      "text/plain": [
       "(0.031257066336841645,\n",
       " 0.03125706633684163,\n",
       " 0.03125706633684163,\n",
       " 0.03125706633684163)"
      ]
     },
     "execution_count": 209,
     "metadata": {},
     "output_type": "execute_result"
    }
   ],
   "source": [
    "v1.gaussian_curvature2[i],np.linalg.det(s1),np.linalg.det(s2),np.linalg.det(Ses3[i])"
   ]
  },
  {
   "cell_type": "markdown",
   "id": "9cd2ec59-7b5f-4aff-b6d1-e272c086fd9a",
   "metadata": {},
   "source": [
    "### messy handling of the function directly"
   ]
  },
  {
   "cell_type": "code",
   "execution_count": 222,
   "id": "46bb4787-bad8-4e59-acec-be51dde78d1d",
   "metadata": {},
   "outputs": [
    {
     "data": {
      "text/plain": [
       "(array([[1.1, 1. ],\n",
       "        [1. , 1. ]]),\n",
       " array([[1., 0.],\n",
       "        [0., 1.]]))"
      ]
     },
     "execution_count": 222,
     "metadata": {},
     "output_type": "execute_result"
    }
   ],
   "source": [
    "mats=np.array([[1.1,1],[1,1]])\n",
    "h,kg = 1,1\n",
    "a,b,c = ts.ts_double(mats[0,0]),ts.ts_double(mats[0,1]),ts.ts_double(mats[1,1])\n",
    "ts.error_correction_scheme(ts.pointer(a),ts.pointer(b),ts.pointer(c),h,kg)\n",
    "mats2=np.array([[a.value,b.value],[b.value,c.value]])\n",
    "mats, mats2"
   ]
  },
  {
   "cell_type": "code",
   "execution_count": 230,
   "id": "3f7068a2-304f-4863-b7dc-6bb5dd0626b5",
   "metadata": {},
   "outputs": [
    {
     "data": {
      "text/plain": [
       "('initial h,kg:', 1.05, 0.10000000000000002, 'corrected h,kg:', 1.0, 1.0)"
      ]
     },
     "execution_count": 230,
     "metadata": {},
     "output_type": "execute_result"
    }
   ],
   "source": [
    "\"initial h,kg:\",np.trace(mats)/2,np.linalg.det(mats),\"corrected h,kg:\",np.trace(mats2)/2,np.linalg.det(mats2)"
   ]
  },
  {
   "cell_type": "code",
   "execution_count": 231,
   "id": "daea5064-a704-484b-bfa5-5f6a3739b6ab",
   "metadata": {},
   "outputs": [
    {
     "data": {
      "text/plain": [
       "0"
      ]
     },
     "execution_count": 231,
     "metadata": {},
     "output_type": "execute_result"
    }
   ],
   "source": [
    "hkg = h**2-kg\n",
    "hkg2 = (np.trace(mats)**2)/4-np.linalg.det(mats)\n",
    "hkg"
   ]
  },
  {
   "cell_type": "code",
   "execution_count": 232,
   "id": "cbfcb3c2-f721-4b1a-a8f3-f4e2a78a4ddd",
   "metadata": {},
   "outputs": [
    {
     "data": {
      "text/plain": [
       "0.0"
      ]
     },
     "execution_count": 232,
     "metadata": {},
     "output_type": "execute_result"
    }
   ],
   "source": [
    "factor = np.sqrt( hkg*( (mats[0,0]-mats[1,1])**2+4*(mats[0,1]**2) ) )\n",
    "factor"
   ]
  },
  {
   "cell_type": "code",
   "execution_count": 233,
   "id": "56af00b6-3f15-4122-95d3-992d32d819eb",
   "metadata": {},
   "outputs": [
    {
     "data": {
      "text/plain": [
       "-0.050000000000000044"
      ]
     },
     "execution_count": 233,
     "metadata": {},
     "output_type": "execute_result"
    }
   ],
   "source": [
    "delta = h-(mats[0,0]+mats[1,1])/2\n",
    "delta"
   ]
  },
  {
   "cell_type": "code",
   "execution_count": 234,
   "id": "e127123f-3e92-49bb-b540-5efc38f51601",
   "metadata": {},
   "outputs": [],
   "source": [
    "beta=-mats[0,1] if factor==0 else mats[0,1]*( 2*(-hkg)/factor - 1)\n",
    "a = -(\n",
    "    (mats[0,0]-mats[1,1])*(2*factor+(mats[0,0]-mats[1,1])**2+4*(mats[0,1]**2))\n",
    "      /( 2*((mats[0,0]-mats[1,1])**2) + 8*(mats[0,1]**2) )\n",
    "     )"
   ]
  },
  {
   "cell_type": "code",
   "execution_count": 235,
   "id": "41f9d022-6be6-4cd2-8dbf-096fa0e62101",
   "metadata": {},
   "outputs": [
    {
     "data": {
      "text/plain": [
       "(-1.0, -0.050000000000000044)"
      ]
     },
     "execution_count": 235,
     "metadata": {},
     "output_type": "execute_result"
    }
   ],
   "source": [
    "beta,a"
   ]
  },
  {
   "cell_type": "code",
   "execution_count": 236,
   "id": "532443d9-3691-4fc4-8490-75b5203acd8e",
   "metadata": {},
   "outputs": [],
   "source": [
    "beta=-mats[0,1] if factor==0 else mats[0,1]*( 2*(hkg)/factor - 1)\n",
    "a = -(\n",
    "    (mats[0,0]-mats[1,1])*(-2*factor+(mats[0,0]-mats[1,1])**2+4*(mats[0,1]**2))\n",
    "      /( 2*((mats[0,0]-mats[1,1])**2) + 8*(mats[0,1]**2) )\n",
    "     )"
   ]
  },
  {
   "cell_type": "code",
   "execution_count": 237,
   "id": "9144615e-8541-4829-bbe4-687e18604a7c",
   "metadata": {},
   "outputs": [
    {
     "data": {
      "text/plain": [
       "(-1.0, -0.050000000000000044)"
      ]
     },
     "execution_count": 237,
     "metadata": {},
     "output_type": "execute_result"
    }
   ],
   "source": [
    "beta,a"
   ]
  },
  {
   "cell_type": "code",
   "execution_count": 238,
   "id": "9454a4c1-b1f7-46ca-82c5-51953b13c9e5",
   "metadata": {},
   "outputs": [
    {
     "data": {
      "text/plain": [
       "array([[1., 0.],\n",
       "       [0., 1.]])"
      ]
     },
     "execution_count": 238,
     "metadata": {},
     "output_type": "execute_result"
    }
   ],
   "source": [
    "mats+[[delta+a,beta],[beta,delta-a]]"
   ]
  },
  {
   "cell_type": "markdown",
   "id": "a4247ef3-4ed9-4c23-a53e-d91efa24574f",
   "metadata": {},
   "source": [
    "## Test curvature"
   ]
  },
  {
   "cell_type": "markdown",
   "id": "37ca5736-5a4e-41e3-a541-71bc00834905",
   "metadata": {},
   "source": [
    "Load the file and the vesicle. Push the vesicle into the PyVtu"
   ]
  },
  {
   "cell_type": "code",
   "execution_count": 250,
   "id": "3033466d-7a94-490e-b5be-fe6d848cfd9b",
   "metadata": {},
   "outputs": [],
   "source": [
    "fileloc = list(sorted(test_folder.glob('timestep*')))[-1]#[-1]"
   ]
  },
  {
   "cell_type": "code",
   "execution_count": 251,
   "id": "2b071f6d-314a-4c0e-95b3-5307042eedf1",
   "metadata": {},
   "outputs": [
    {
     "data": {
      "text/plain": [
       "PosixPath('/opt/workspace/msc_project/simulations/QA_tests/cluster_version/rework/egg_carton/linterp/timestep_000099.vtu')"
      ]
     },
     "execution_count": 251,
     "metadata": {},
     "output_type": "execute_result"
    }
   ],
   "source": [
    "fileloc"
   ]
  },
  {
   "cell_type": "code",
   "execution_count": 295,
   "id": "25d4ed70-25be-4a7d-90ab-ddc8146a78f6",
   "metadata": {},
   "outputs": [],
   "source": [
    "vesicle = ts.parseDump(fileloc)"
   ]
  },
  {
   "cell_type": "code",
   "execution_count": 296,
   "id": "b1005d90-84eb-49af-af3f-a793ff1317d0",
   "metadata": {},
   "outputs": [],
   "source": [
    "v = PyVtu(fileloc)\n",
    "v2 = PyVtu(fileloc) # we will place here the values from vesicle"
   ]
  },
  {
   "cell_type": "code",
   "execution_count": 297,
   "id": "bda5d02a-81c6-40c1-8053-3efaddc197a7",
   "metadata": {},
   "outputs": [],
   "source": [
    "def iter_xlist(vesiclePtr,xlist_name='vlist',as_pointer=False):\n",
    "    \"\"\"Iterate over some vesicle->xlist->xs. Default vesicle->vlist->vtx[:vlist.n].\"\"\"\n",
    "    lst = vesiclePtr.contents.__getattribute__(xlist_name)\n",
    "    if xlist_name=='vlist':\n",
    "        n, lst = lst.contents.n, lst.contents.vtx\n",
    "    elif xlist_name=='clist':\n",
    "        n, lst = lst.contents.cellno, lst.contents.cell\n",
    "    elif xlist_name=='tlist':\n",
    "        n, lst = lst.contents.n, lst.contents.tria\n",
    "    elif xlist_name=='blist':\n",
    "        n, lst = lst.contents.n, lst.contents.bond\n",
    "    else:\n",
    "        raise ValueError(f'{xlist_name} not in vlist,clist,tlist,blist')\n",
    "    if as_pointer:\n",
    "        for i in range(n):\n",
    "            yield lst[i]\n",
    "    else:\n",
    "        for i in range(n):\n",
    "            yield lst[i].contents"
   ]
  },
  {
   "cell_type": "code",
   "execution_count": 298,
   "id": "a5ddcef1-397f-46ce-85ae-036b1ef62220",
   "metadata": {},
   "outputs": [],
   "source": [
    "def normbnorm(b):\n",
    "    n1 = np.array((b.vtx1.contents.nx,b.vtx1.contents.ny,b.vtx1.contents.nz))\n",
    "    n2 = np.array((b.vtx2.contents.nx,b.vtx2.contents.ny,b.vtx2.contents.nz))\n",
    "    n = n1+n2\n",
    "    return n/np.linalg.norm(n)"
   ]
  },
  {
   "cell_type": "code",
   "execution_count": 299,
   "id": "8b4bb34f-99d9-4a4f-98ba-afda6aabe7cf",
   "metadata": {},
   "outputs": [],
   "source": [
    "def replace_pyvtu_values_from_vesicle(v,vesiclePtr):\n",
    "    \"\"\"Replace the values the PyVtu arrays with values from the wrapper.\"\"\"\n",
    "    blen = vesicle.contents.blist.contents.n\n",
    "    tlen = vesicle.contents.tlist.contents.n\n",
    "    v.pos[:] = [(x.x,x.y,x.z) for x in iter_xlist(vesicle)]\n",
    "    v.add_array('neigh_no',np.array([x.neigh_no for x in iter_xlist(vesicle)]))\n",
    "    v.c0[:] = [x.c for x in iter_xlist(vesicle)]\n",
    "    v.e[:] = [x.energy for x in iter_xlist(vesicle)]\n",
    "    # newer version stuff (can fail but who cares?)\n",
    "    v.w[:] = [x.w for x in iter_xlist(vesicle)]\n",
    "    v.f0[:] = [x.f for x in iter_xlist(vesicle)]\n",
    "    v.face_normal[-tlen:] = np.array([(x.xnorm, x.ynorm, x.znorm) for x in iter_xlist(vesicle,\"tlist\")])\n",
    "    v.add_array('normal3',v.normal+0)\n",
    "    v.normal[:] = [(x.nx,x.ny,x.nz) for x in iter_xlist(vesicle)]\n",
    "    v.force[:] =[(x.fx,x.fy,x.fz) for x in iter_xlist(vesicle)]\n",
    "    v.director[:] = [(x.dx,x.dy,x.dz) for x in iter_xlist(vesicle)]\n",
    "    v.eig0[:] = [x.eig0[:] for x in iter_xlist(vesicle)]\n",
    "    v.eig1[:] = [x.eig1[:] for x in iter_xlist(vesicle)]\n",
    "    v.eig2[:] = [x.eig2[:] for x in iter_xlist(vesicle)]\n",
    "    v.ad_w[:] = [x.ad_w for x in iter_xlist(vesicle)]\n",
    "    v.type[:] = [ts.byte_to_int(x.type) for x in iter_xlist(vesicle)]\n",
    "    v.eigenvalue_0[:] = [x.eig_v0 for x in iter_xlist(vesicle)]\n",
    "    v.eigenvalue_1[:] = [x.eig_v1 for x in iter_xlist(vesicle)]\n",
    "    v.eigenvalue_2[:] = [x.eig_v2 for x in iter_xlist(vesicle)]\n",
    "    v.k[:] = [x.xk for x in iter_xlist(vesicle)]\n",
    "    v.k2[:] = [x.xk2 for x in iter_xlist(vesicle)]\n",
    "    v.mean_curvature[:] = [x.mean_curvature for x in iter_xlist(vesicle)]\n",
    "    v.gaussian_curvature[:] = [x.gaussian_curvature for x in iter_xlist(vesicle)]\n",
    "    v.mean_curvature2[:] = [x.mean_curvature2 for x in iter_xlist(vesicle)]\n",
    "    v.gaussian_curvature2[:] = [x.gaussian_curvature2 for x in iter_xlist(vesicle)]\n",
    "    v.add_array('circumcenter',np.array(([(0,0,0)]*blen)+[(x.xcirc,x.ycirc,x.zcirc) for x in iter_xlist(vesicle,'tlist')]),parent='CellData')\n",
    "    v.add_array('area',np.array([x.area for x in iter_xlist(vesicle)]))\n",
    "    v.add_array('dSd',np.array([x.S[0] for x in iter_xlist(vesicle)]))\n",
    "    v.add_array('dSt',np.array([x.S[1] for x in iter_xlist(vesicle)]))\n",
    "    v.add_array('tSd',np.array([x.S[2] for x in iter_xlist(vesicle)]))\n",
    "    v.add_array('tSt',np.array([x.S[3] for x in iter_xlist(vesicle)]))\n",
    "    v.add_array('tangent',np.cross(v.normal,v.director))\n",
    "    v.add_array('mean_curvature3',v.mean_curvature+0)\n",
    "    v.add_array('gaussian_curvature3',v.gaussian_curvature+0)\n",
    "    for i, vtx in enumerate(iter_xlist(vesicle)):\n",
    "        vtx_copy=ts.ts_vertex(**{field[0]:vtx.__getattribute__(field[0]) for field in vtx._fields_})\n",
    "        ts.tensor_curvature_energy2(vesicle,ts.pointer(vtx_copy))\n",
    "        v.mean_curvature3[i]=vtx_copy.mean_curvature\n",
    "        v.gaussian_curvature3[i]=vtx_copy.gaussian_curvature\n",
    "        v.normal3[i]=vtx_copy.nx,vtx_copy.ny,vtx_copy.nz"
   ]
  },
  {
   "cell_type": "code",
   "execution_count": 300,
   "id": "852ba4f2-c630-4d52-9e69-edb4c4446f65",
   "metadata": {},
   "outputs": [],
   "source": [
    "try:\n",
    "    replace_pyvtu_values_from_vesicle(v2,vesicle)\n",
    "except AttributeError as e:\n",
    "    print(f'partial replacement: {e}')"
   ]
  },
  {
   "cell_type": "code",
   "execution_count": 301,
   "id": "01e714ba-74a3-4c32-8b15-f0d50c0459e3",
   "metadata": {},
   "outputs": [],
   "source": [
    "v2.update_all()\n",
    "v2.write_vtu(str(v2.path).replace('timestep','pystep'))"
   ]
  },
  {
   "cell_type": "markdown",
   "id": "65284944-2cd4-4013-8e36-fa2b9a34b51f",
   "metadata": {},
   "source": [
    "## Mess about"
   ]
  },
  {
   "cell_type": "markdown",
   "id": "bd77999b-42d6-453b-8dcb-c510242c7e6e",
   "metadata": {},
   "source": [
    "Check normals are okay"
   ]
  },
  {
   "cell_type": "code",
   "execution_count": 302,
   "id": "61119e23-41c7-4383-9b4b-06aac3cf493c",
   "metadata": {},
   "outputs": [],
   "source": [
    "def normalize(x,**kwargs):\n",
    "    return x/(np.linalg.norm(x,**kwargs))"
   ]
  },
  {
   "cell_type": "code",
   "execution_count": 303,
   "id": "4b34b30c-7be2-4f1b-96bf-f236e71f64d2",
   "metadata": {},
   "outputs": [],
   "source": [
    "def perp_bisect(v2,i):\n",
    "    tposi = v2.pos[v2.tlist[i]]\n",
    "    circ = v2.circumcenter[6000+i]\n",
    "    norm = v2.face_normal[6000+i]\n",
    "    l0,l1,l2 = tposi[1]- tposi[0], tposi[0]- tposi[2], tposi[2]- tposi[1]\n",
    "    perps = l0/np.linalg.norm(l0),l1/np.linalg.norm(l1),l2/np.linalg.norm(l2)\n",
    "    perps = [normalize(np.cross(norm,p)) for p in perps]\n",
    "    m0,m1,m2 = ( tposi[1]+ tposi[0])/2, (tposi[0]+ tposi[2])/2,( tposi[2]+ tposi[1])/2\n",
    "    return (m0,m1,m2,*perps)"
   ]
  },
  {
   "cell_type": "code",
   "execution_count": 304,
   "id": "5ebf5c6b-151a-496f-8458-3a424b7db303",
   "metadata": {},
   "outputs": [
    {
     "name": "stdout",
     "output_type": "stream",
     "text": [
      "all good\n"
     ]
    }
   ],
   "source": [
    "out = []\n",
    "out2 = []\n",
    "for i in range(v.tlist.shape[0]):\n",
    "    m0,m1,m2,p0,p1,p2 = perp_bisect(v2,i)\n",
    "    circ = v2.circumcenter[6000+i]\n",
    "    out.append([normalize(m0-circ)@p0,normalize(m1-circ)@p1,normalize(m2-circ)@p2])\n",
    "    out2.append((v2.pos[v2.tlist[i]]-v2.pos[v2.tlist[i]][[1,2,0]])@v2.face_normal[6000+i])\n",
    "    \n",
    "out3 = []\n",
    "for i in v.indices:\n",
    "    out3.append(v.director[i]@v.normal[i])\n",
    "\n",
    "bads = np.where(~np.isclose(out,-1))[0]\n",
    "bads2 = np.where(~np.isclose(out2,0))[0]\n",
    "bads3 = np.where(~np.isclose(out3,0))[0]\n",
    "badness=False\n",
    "if bads.size>0:\n",
    "    print(bads)\n",
    "    print(\"1st example:\",out[bads[0]])\n",
    "    badness=True\n",
    "if bads2.size>0:\n",
    "    print(bads2)\n",
    "    print(\"1st example:\",out2[bads2[0]])\n",
    "    badness=True\n",
    "if bads3.size>0:\n",
    "    print(bads3)\n",
    "    print(\"1st example:\", out3[bads3[0]])\n",
    "    badness=True\n",
    "if not badness:\n",
    "    print('all good')"
   ]
  },
  {
   "cell_type": "markdown",
   "id": "beac29c6-7867-4c96-8440-c1114b51a722",
   "metadata": {},
   "source": [
    "### Print triangles"
   ]
  },
  {
   "cell_type": "markdown",
   "id": "70e687a6-727c-4be8-bcba-ee8e966bb299",
   "metadata": {},
   "source": [
    "Notice i is the triangle index!"
   ]
  },
  {
   "cell_type": "code",
   "execution_count": 305,
   "id": "2cb94432-6102-4a76-8c86-6a47ccc4ae78",
   "metadata": {},
   "outputs": [],
   "source": [
    "with_bad_vtx = problematic_values[v2.tlist].any(axis=1)\n",
    "gen=(x for x in np.arange(len(v2.tlist))[:]) # .tlist))[with_bad_vtx])\n",
    "i=next(gen)"
   ]
  },
  {
   "cell_type": "code",
   "execution_count": 306,
   "id": "5918db60-b908-4e47-b356-c604706302ed",
   "metadata": {},
   "outputs": [
    {
     "data": {
      "application/vnd.jupyter.widget-view+json": {
       "model_id": "4db211f9cee94cd8a1d3b4142dbf2b04",
       "version_major": 2,
       "version_minor": 0
      },
      "image/png": "[encoded data removed]",
      "text/html": [
       "\n",
       "            <div style=\"display: inline-block;\">\n",
       "                <div class=\"jupyter-widgets widget-label\" style=\"text-align: center;\">\n",
       "                    Figure\n",
       "                </div>\n",
       "                <img src='data:image/png;base64,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' width=640.0/>\n",
       "            </div>\n",
       "        "
      ],
      "text/plain": [
       "Canvas(toolbar=Toolbar(toolitems=[('Home', 'Reset original view', 'home', 'home'), ('Back', 'Back to previous …"
      ]
     },
     "metadata": {},
     "output_type": "display_data"
    }
   ],
   "source": [
    "%matplotlib widget\n",
    "\n",
    "mp = perp_bisect(v2,i)\n",
    "res = np.array(((v.pos[v.tlist[i]]-v.pos[v.tlist[i]][[1,2,0]])@v.face_normal[6000+i],\n",
    "               (v2.pos[v2.tlist[i]]-v2.pos[v2.tlist[i]][[1,2,0]])@v2.face_normal[6000+i],\n",
    "               [mp[3],mp[4],mp[5]]@v.face_normal[6000+i]))\n",
    "if (np.abs(res)>1e-15).any():\n",
    "    print(\"perp. in vtu: \", res[0])\n",
    "    print(\"perp. in loaded vesicle: \", res[1])\n",
    "    print(\"check perp. bisectors are perpendicular: \",res[2])\n",
    "\n",
    "ax = plt.figure().add_subplot(projection='3d')\n",
    "tposi = v2.pos[v2.tlist[i]]\n",
    "ax.plot(*np.array([tposi[[0,1,2,0]]]).T)\n",
    "ax.plot(*v2.circumcenter[6000+i],'k*',label='circum')\n",
    "ax.plot(*np.array((v2.circumcenter[6000+i], \n",
    "                   v2.circumcenter[6000+i]-0.5*v2.face_normal[6000+i])).T,\n",
    "        'b:',label='normal')\n",
    "ax.plot(*mp[0],'k.',label='middle')\n",
    "ax.plot(*mp[1],'k.')\n",
    "ax.plot(*mp[2],'k.')\n",
    "ax.plot(*np.array((mp[0]+1*mp[3],mp[0]-0.15*mp[3])).T,'k:',linewidth=1,label='perp. bisector')\n",
    "ax.plot(*np.array((mp[1]+1*mp[4],mp[1]-0.15*mp[4])).T,'k:',linewidth=1)\n",
    "ax.plot(*np.array((mp[2]+1*mp[5],mp[2]-0.15*mp[5])).T,'k:',linewidth=1)\n",
    "ax.set_aspect('equal')\n",
    "ax.set_title(str(i))\n",
    "ax.legend()\n",
    "i=next(gen)"
   ]
  },
  {
   "cell_type": "code",
   "execution_count": 307,
   "id": "9a9e4e2a-2fa7-4a24-b01f-5ec3ee3ea009",
   "metadata": {},
   "outputs": [],
   "source": [
    "%matplotlib inline"
   ]
  },
  {
   "cell_type": "markdown",
   "id": "e2b5248f-102f-429c-a085-1b8781545c28",
   "metadata": {},
   "source": [
    "### Figure out what's going on in the curvature"
   ]
  },
  {
   "cell_type": "code",
   "execution_count": 308,
   "id": "6c414da2-c8b9-43ae-adf7-155b9de8bd8a",
   "metadata": {},
   "outputs": [
    {
     "data": {
      "text/html": [
       "<div>\n",
       "<style scoped>\n",
       "    .dataframe tbody tr th:only-of-type {\n",
       "        vertical-align: middle;\n",
       "    }\n",
       "\n",
       "    .dataframe tbody tr th {\n",
       "        vertical-align: top;\n",
       "    }\n",
       "\n",
       "    .dataframe thead th {\n",
       "        text-align: right;\n",
       "    }\n",
       "</style>\n",
       "<table border=\"1\" class=\"dataframe\">\n",
       "  <thead>\n",
       "    <tr style=\"text-align: right;\">\n",
       "      <th></th>\n",
       "      <th>H isotropic</th>\n",
       "      <th>KG isotropic</th>\n",
       "      <th>H anisotropic</th>\n",
       "      <th>KG anisotropic</th>\n",
       "      <th>H lerp</th>\n",
       "      <th>KG lerp</th>\n",
       "    </tr>\n",
       "  </thead>\n",
       "  <tbody>\n",
       "    <tr>\n",
       "      <th>count</th>\n",
       "      <td>2002.000000</td>\n",
       "      <td>2002.000000</td>\n",
       "      <td>2002.000000</td>\n",
       "      <td>2002.000000</td>\n",
       "      <td>2002.000000</td>\n",
       "      <td>2002.000000</td>\n",
       "    </tr>\n",
       "    <tr>\n",
       "      <th>mean</th>\n",
       "      <td>0.066859</td>\n",
       "      <td>0.004302</td>\n",
       "      <td>0.066887</td>\n",
       "      <td>0.004302</td>\n",
       "      <td>0.066887</td>\n",
       "      <td>0.004302</td>\n",
       "    </tr>\n",
       "    <tr>\n",
       "      <th>std</th>\n",
       "      <td>0.113513</td>\n",
       "      <td>0.030399</td>\n",
       "      <td>0.113683</td>\n",
       "      <td>0.030399</td>\n",
       "      <td>0.113683</td>\n",
       "      <td>0.030399</td>\n",
       "    </tr>\n",
       "    <tr>\n",
       "      <th>min</th>\n",
       "      <td>-0.393933</td>\n",
       "      <td>-0.175230</td>\n",
       "      <td>-0.403679</td>\n",
       "      <td>-0.175230</td>\n",
       "      <td>-0.403679</td>\n",
       "      <td>-0.175230</td>\n",
       "    </tr>\n",
       "    <tr>\n",
       "      <th>25%</th>\n",
       "      <td>-0.006299</td>\n",
       "      <td>-0.009491</td>\n",
       "      <td>-0.006299</td>\n",
       "      <td>-0.009491</td>\n",
       "      <td>-0.006299</td>\n",
       "      <td>-0.009491</td>\n",
       "    </tr>\n",
       "    <tr>\n",
       "      <th>50%</th>\n",
       "      <td>0.069045</td>\n",
       "      <td>-0.000672</td>\n",
       "      <td>0.069045</td>\n",
       "      <td>-0.000672</td>\n",
       "      <td>0.069045</td>\n",
       "      <td>-0.000672</td>\n",
       "    </tr>\n",
       "    <tr>\n",
       "      <th>75%</th>\n",
       "      <td>0.139736</td>\n",
       "      <td>0.011847</td>\n",
       "      <td>0.139736</td>\n",
       "      <td>0.011847</td>\n",
       "      <td>0.139736</td>\n",
       "      <td>0.011847</td>\n",
       "    </tr>\n",
       "    <tr>\n",
       "      <th>max</th>\n",
       "      <td>0.492393</td>\n",
       "      <td>0.252172</td>\n",
       "      <td>0.502168</td>\n",
       "      <td>0.252172</td>\n",
       "      <td>0.502168</td>\n",
       "      <td>0.252172</td>\n",
       "    </tr>\n",
       "  </tbody>\n",
       "</table>\n",
       "</div>"
      ],
      "text/plain": [
       "       H isotropic  KG isotropic  H anisotropic  KG anisotropic       H lerp  \\\n",
       "count  2002.000000   2002.000000    2002.000000     2002.000000  2002.000000   \n",
       "mean      0.066859      0.004302       0.066887        0.004302     0.066887   \n",
       "std       0.113513      0.030399       0.113683        0.030399     0.113683   \n",
       "min      -0.393933     -0.175230      -0.403679       -0.175230    -0.403679   \n",
       "25%      -0.006299     -0.009491      -0.006299       -0.009491    -0.006299   \n",
       "50%       0.069045     -0.000672       0.069045       -0.000672     0.069045   \n",
       "75%       0.139736      0.011847       0.139736        0.011847     0.139736   \n",
       "max       0.492393      0.252172       0.502168        0.252172     0.502168   \n",
       "\n",
       "           KG lerp  \n",
       "count  2002.000000  \n",
       "mean      0.004302  \n",
       "std       0.030399  \n",
       "min      -0.175230  \n",
       "25%      -0.009491  \n",
       "50%      -0.000672  \n",
       "75%       0.011847  \n",
       "max       0.252172  "
      ]
     },
     "execution_count": 308,
     "metadata": {},
     "output_type": "execute_result"
    }
   ],
   "source": [
    "df = pd.DataFrame({'H isotropic': v2.mean_curvature2, 'KG isotropic': v2.gaussian_curvature2,\n",
    "                   'H anisotropic': v2.mean_curvature, 'KG anisotropic': v2.gaussian_curvature,\n",
    "                   'H lerp': v2.mean_curvature3,'KG lerp': v2.gaussian_curvature3\n",
    "                  })\n",
    "df.describe()"
   ]
  },
  {
   "cell_type": "code",
   "execution_count": 309,
   "id": "97e58dfe-f402-49ec-bf86-b570f71fa877",
   "metadata": {},
   "outputs": [
    {
     "data": {
      "image/png": "[encoded data removed]",
      "text/plain": [
       "<Figure size 640x480 with 6 Axes>"
      ]
     },
     "metadata": {},
     "output_type": "display_data"
    }
   ],
   "source": [
    "df.hist()\n",
    "plt.tight_layout()"
   ]
  },
  {
   "cell_type": "code",
   "execution_count": null,
   "id": "272fbc3a-5a9c-4b35-b8e2-39a4541b0632",
   "metadata": {},
   "outputs": [],
   "source": [
    "fig=plt.figure()\n",
    "plt.hist(v2.mean_curvature,bins=100)\n",
    "plt.show()"
   ]
  },
  {
   "cell_type": "code",
   "execution_count": null,
   "id": "2b34dc97-044a-4d9d-9e4f-72626bff2edc",
   "metadata": {},
   "outputs": [],
   "source": [
    "S=vtu.reconstruct_shape_operator(v2)"
   ]
  },
  {
   "cell_type": "code",
   "execution_count": null,
   "id": "42ccef3d-880e-4ec3-93aa-bdfef22c626f",
   "metadata": {},
   "outputs": [],
   "source": [
    "g=np.stack((v.eig0,v.eig1,v.eig2),axis=1)"
   ]
  },
  {
   "cell_type": "code",
   "execution_count": null,
   "id": "66a1ae85-c792-457a-b84c-09aa913705dd",
   "metadata": {},
   "outputs": [],
   "source": [
    "np.einsum(\"ni,ni->n\",v.eig0,v.eig2).mean()"
   ]
  },
  {
   "cell_type": "code",
   "execution_count": null,
   "id": "2394c1c2-f9f7-4558-be14-0d29a0e1f8cc",
   "metadata": {},
   "outputs": [],
   "source": [
    "vtu.reconstruct_shape_operator(v2)[0]"
   ]
  },
  {
   "cell_type": "code",
   "execution_count": null,
   "id": "20b5336e-9107-4960-8927-9689667c5285",
   "metadata": {},
   "outputs": [],
   "source": [
    "vtu.reconstruct_shape_operator(v2)[0]"
   ]
  },
  {
   "cell_type": "code",
   "execution_count": null,
   "id": "33f0a775-4d6a-4f4f-a69a-d47ab2b8fd33",
   "metadata": {},
   "outputs": [],
   "source": [
    "np.einsum(\"nij,nkj->nik\",g,g)"
   ]
  },
  {
   "cell_type": "code",
   "execution_count": null,
   "id": "27d1a64e-51f1-4535-a15a-a0b4209c1603",
   "metadata": {},
   "outputs": [],
   "source": [
    "s00 = np.einsum(\"ni,nij,nj->n\",v2.director,S,v2.director)\n",
    "s11 = np.einsum(\"ni,nij,nj->n\",v2.tangent,S,v2.tangent)\n",
    "s01 = np.einsum(\"ni,nij,nj->n\",v2.director,S,v2.tangent)\n",
    "s10 = np.einsum(\"ni,nij,nj->n\",v2.tangent,S,v2.director)"
   ]
  },
  {
   "cell_type": "code",
   "execution_count": null,
   "id": "7d2d544c-3608-4cc2-8a1b-703d0af19757",
   "metadata": {},
   "outputs": [],
   "source": [
    "S_diag=np.zeros((v2.indices.shape[0],2,2))\n",
    "S2=np.zeros((v2.indices.shape[0],2,2))\n",
    "S_diag[:,0,0]=s00\n",
    "S_diag[:,1,1]=s11\n",
    "S2[:,0,0]=s00\n",
    "S2[:,0,1]=s01\n",
    "S2[:,1,0]=s10\n",
    "S2[:,1,1]=s11"
   ]
  },
  {
   "cell_type": "code",
   "execution_count": null,
   "id": "04e8ef05-320a-4851-a546-6cef1db1f935",
   "metadata": {},
   "outputs": [],
   "source": [
    "np.trace(S_diag,axis1=1,axis2=2)"
   ]
  },
  {
   "cell_type": "code",
   "execution_count": null,
   "id": "cb0375c5-cbf7-4299-97cb-010c8de44e24",
   "metadata": {},
   "outputs": [],
   "source": [
    "np.trace(S2,axis1=1,axis2=2)"
   ]
  },
  {
   "cell_type": "code",
   "execution_count": null,
   "id": "d130bce0-04bf-4243-bdc9-ef86038f3bcb",
   "metadata": {},
   "outputs": [],
   "source": [
    "v2.mean_curvature"
   ]
  },
  {
   "cell_type": "code",
   "execution_count": null,
   "id": "fb988596-a057-4297-9250-2f168d6258cf",
   "metadata": {},
   "outputs": [],
   "source": [
    "v2.mean_curvature2"
   ]
  },
  {
   "cell_type": "code",
   "execution_count": null,
   "id": "bf686249-d3d4-4360-9fce-c79b5bb3eb89",
   "metadata": {},
   "outputs": [],
   "source": [
    "vertices = list(iter_xlist(vesicle,as_pointer=True))"
   ]
  },
  {
   "cell_type": "code",
   "execution_count": null,
   "id": "f14f0f97-babe-47e1-a685-3e5da39c8ab7",
   "metadata": {},
   "outputs": [],
   "source": [
    "for i in v.indices[-10:]:\n",
    "    print(ts.adhesion_geometry_distance(vesicle,vertices[i]))"
   ]
  },
  {
   "cell_type": "code",
   "execution_count": null,
   "id": "5f3d5c99-a9c5-4e3b-82e3-b2fdaec1a924",
   "metadata": {},
   "outputs": [],
   "source": [
    "vesicle.contents.tape.contents.adhesion_cutoff"
   ]
  },
  {
   "cell_type": "code",
   "execution_count": null,
   "id": "b6af0cf9-2502-4fcb-94c8-f4f98b935b0b",
   "metadata": {},
   "outputs": [],
   "source": [
    "vesicle.contents.tape.contents.mcsweeps"
   ]
  },
  {
   "cell_type": "code",
   "execution_count": null,
   "id": "cbddd7e3-2b94-4563-af9c-9e266b4ad6b4",
   "metadata": {},
   "outputs": [],
   "source": [
    "vesicle.contents.vlist.contents.vtx[2000].contents.z"
   ]
  },
  {
   "cell_type": "code",
   "execution_count": null,
   "id": "b58a572a-de65-4b2b-8ad1-9403116d00d7",
   "metadata": {},
   "outputs": [],
   "source": [
    "# ts.run_simulation(vesicle,1000,0,175,160)"
   ]
  },
  {
   "cell_type": "code",
   "execution_count": null,
   "id": "ec68f077-91ed-418b-99a3-19f34b0c1eca",
   "metadata": {},
   "outputs": [],
   "source": [
    "adhesion_dist = np.array([ts.adhesion_geometry_distance(vesicle,vtx) for vtx in vertices])"
   ]
  },
  {
   "cell_type": "code",
   "execution_count": null,
   "id": "3aff74ed-09ff-44a5-8cb6-7e96155cfa95",
   "metadata": {},
   "outputs": [],
   "source": [
    "adhesion_dist"
   ]
  },
  {
   "cell_type": "code",
   "execution_count": null,
   "id": "f7d67660-861b-41e6-bc12-2a237e5d1a8f",
   "metadata": {},
   "outputs": [],
   "source": [
    "class MongeGauge:\n",
    "\n",
    "    def __init__(self,x,y,c0,r,z0):\n",
    "        \"\"\"Compute monge gauge for h(x,y) = z0+r*cos(x/c0)*cos(y/c0)\"\"\"\n",
    "        self.x=x\n",
    "        self.y=y\n",
    "        self.z0=z0\n",
    "        self.r=r\n",
    "        self.c0=c0\n",
    "        self.R = r*np.cos(x/c0)*np.cos(y/c0)+z0\n",
    "        self.z=self.R\n",
    "        self.Rx, self.Ry = -r*np.sin(x/c0)*np.cos(y/c0)/c0, -r*np.cos(x/c0)*np.sin(y/c0)/c0\n",
    "        self.Rxx = r*np.cos(x/c0)*np.cos(y/c0)/(-c0**2)\n",
    "        self.Ryy = r*np.cos(x/c0)*np.cos(y/c0)/(-c0**2)\n",
    "        self.Rxy = r*np.sin(x/c0)*np.sin(y/c0)/(c0**2)\n",
    "        self.J = np.array([[1,0,self.Rx],[0,1,self.Ry],[0,0,1]])\n",
    "        self.e1,self.e2,self.e3 = self.J\n",
    "        self.g_ab = np.array([[1+self.Rx**2,self.Rx*self.Ry],\n",
    "                              [self.Rx*self.Ry,1+self.Ry**2]])\n",
    "        self.g = 1+self.Rx**2+self.Ry**2\n",
    "        self.sqrtg = (self.g**0.5)\n",
    "        self.gab = np.array([[1+self.Ry**2,-self.Rx*self.Ry],\n",
    "                             [-self.Rx*self.Ry,1+self.Rx**2]])/self.g\n",
    "        self.n = np.array([-self.Rx,-self.Ry,1])/self.sqrtg\n",
    "        self.K_ab = np.array([[self.Rxx,self.Rxy],\n",
    "                              [self.Rxy,self.Ryy]])/self.sqrtg\n",
    "        self.Sa_b = self.K_ab@self.gab\n",
    "        self.w,self.v = np.linalg.eig(self.Sa_b)\n",
    "        self.vxyz = self.v.T@self.J[:2]\n",
    "        self.H, self.KG = self.Sa_b.trace()/2, np.linalg.det(self.Sa_b)\n",
    "        self.xyzFromab = np.array([self.e1,self.e2])\n",
    "        self.Jinv = np.linalg.inv(self.J)\n",
    "\n"
   ]
  },
  {
   "cell_type": "code",
   "execution_count": null,
   "id": "fca047f9-2d6e-46ee-9004-fd8944cc86c4",
   "metadata": {},
   "outputs": [],
   "source": [
    "def expected_curvature(vesicle,vtx):\n",
    "    r = vesicle.contents.tape.contents.adhesion_radius\n",
    "    c0 = vesicle.contents.tape.contents.adhesion_scale\n",
    "    z0 = vesicle.contents.tape.contents.adhesion_z\n",
    "    x,y,z = vtx.contents.x, vtx.contents.y, vtx.contents.z\n",
    "    # Monge Gauge\n",
    "    return MongeGauge(x,y,c0,r,z0)\n",
    "    "
   ]
  },
  {
   "cell_type": "code",
   "execution_count": null,
   "id": "1a8b304f-a004-4c78-a09c-bb6e189f5cd7",
   "metadata": {},
   "outputs": [],
   "source": [
    "r = vesicle.contents.tape.contents.adhesion_radius\n",
    "c0 = vesicle.contents.tape.contents.adhesion_scale\n",
    "z0 = vesicle.contents.tape.contents.adhesion_z"
   ]
  },
  {
   "cell_type": "code",
   "execution_count": null,
   "id": "23dfa7a6-6bb0-46da-99b9-7039e62b778e",
   "metadata": {},
   "outputs": [],
   "source": []
  },
  {
   "cell_type": "code",
   "execution_count": null,
   "id": "2364da41-9fde-4822-91eb-6a06629168d8",
   "metadata": {},
   "outputs": [],
   "source": [
    "def press_vertices_to_shape(vesicle):\n",
    "    r = vesicle.contents.tape.contents.adhesion_radius\n",
    "    c0 = vesicle.contents.tape.contents.adhesion_scale\n",
    "    z0 = vesicle.contents.tape.contents.adhesion_z\n",
    "    for vtx in iter_xlist(vesicle3,as_pointer=True):\n",
    "        if dz:=ts.adhesion_geometry_distance(vesicle,vtx)<0.5:\n",
    "            vtx.contents.z = z0+r*np.cos(vtx.contents.x/c0)*np.cos(vtx.contents.y/c0)\n",
    "    ts.init_normal_vectors(vesicle.contents.tlist)\n",
    "    ts.sweep_vertex_curvature_energy(vesicle)\n"
   ]
  },
  {
   "cell_type": "code",
   "execution_count": null,
   "id": "576e72d5-7e32-434b-9d35-6ba46b0443b9",
   "metadata": {},
   "outputs": [],
   "source": [
    "v3 = PyVtu(v2.path)\n",
    "vesicle3 = ts.parseDump(v3.path)\n",
    "press_vertices_to_shape(vesicle3)\n",
    "replace_pyvtu_values_from_vesicle(v3,vesicle3)"
   ]
  },
  {
   "cell_type": "code",
   "execution_count": null,
   "id": "6fb394f5-ab0d-455b-9196-fc4f7ea43aa5",
   "metadata": {},
   "outputs": [],
   "source": [
    "adhesion_dist2 = np.array([ts.adhesion_geometry_distance(vesicle3,vtx) for vtx in iter_xlist(vesicle3,as_pointer=True)])\n",
    "adhesion_dist2[-20:]"
   ]
  },
  {
   "cell_type": "code",
   "execution_count": null,
   "id": "928d0412-2176-4908-b5f0-0f049c2dd869",
   "metadata": {},
   "outputs": [],
   "source": [
    "v3.update_all()\n",
    "v3.write_vtu(str(v3.path).replace('timestep','flattened_pystep'))"
   ]
  },
  {
   "cell_type": "code",
   "execution_count": null,
   "id": "6fc29ed9-447e-4b4c-b26c-c87040d01dca",
   "metadata": {},
   "outputs": [],
   "source": [
    "Svs = vtu.reconstruct_shape_operator(v3)\n",
    "gs = np.stack((v3.eig0,v3.eig1,v3.eig2),axis=1)"
   ]
  },
  {
   "cell_type": "code",
   "execution_count": null,
   "id": "be3659fa-3cff-4a3a-87eb-5da1c395b2de",
   "metadata": {},
   "outputs": [],
   "source": [
    "i=1950"
   ]
  },
  {
   "cell_type": "code",
   "execution_count": null,
   "id": "01d9db75-350a-49fb-99d2-4cd6e6cff953",
   "metadata": {},
   "outputs": [],
   "source": [
    "i+=1"
   ]
  },
  {
   "cell_type": "code",
   "execution_count": null,
   "id": "d0b90e5b-dfbf-4856-85b8-86d438540d30",
   "metadata": {},
   "outputs": [],
   "source": [
    "mg=expected_curvature(vesicle,vertices[i])"
   ]
  },
  {
   "cell_type": "code",
   "execution_count": null,
   "id": "000bb973-d300-4c14-a2e3-e65c9d213301",
   "metadata": {},
   "outputs": [],
   "source": [
    "2*mg.H, mg.KG"
   ]
  },
  {
   "cell_type": "code",
   "execution_count": null,
   "id": "fc6f35ff-036f-448b-b8d8-83251f732f11",
   "metadata": {},
   "outputs": [],
   "source": [
    "('tensor:',v3.mean_curvature[i],v3.gaussian_curvature[i]),('debug: ',v3.mean_curvature2[i],v3.gaussian_curvature2[i])"
   ]
  },
  {
   "cell_type": "code",
   "execution_count": null,
   "id": "5e934483-30a5-4fdd-b32f-2ac72f36720a",
   "metadata": {},
   "outputs": [],
   "source": [
    "gs[i], Svs[i]"
   ]
  },
  {
   "cell_type": "code",
   "execution_count": null,
   "id": "e5a77a1f-3ae8-4f0c-af71-2a456623b42f",
   "metadata": {},
   "outputs": [],
   "source": [
    "Sx_y=np.einsum(\"ab,bi,aj->ij\",mg.Sa_b,mg.J[:2,:],mg.J[:2,:])\n",
    "Sx_y"
   ]
  },
  {
   "cell_type": "code",
   "execution_count": null,
   "id": "e5c407cc-da8c-4aa2-9cc7-2dca373915e6",
   "metadata": {},
   "outputs": [],
   "source": [
    "mg.w,mg.vxyz"
   ]
  },
  {
   "cell_type": "code",
   "execution_count": null,
   "id": "bef5d27c-c178-415f-be28-4cfc9a5d3f35",
   "metadata": {},
   "outputs": [],
   "source": [
    "v3.eigenvalue_0[i],v3.eigenvalue_1[i],v3.eig0[i],v3.eig1[i]"
   ]
  },
  {
   "cell_type": "code",
   "execution_count": null,
   "id": "370cda8c-3876-4643-9525-75bc4e683190",
   "metadata": {},
   "outputs": [],
   "source": [
    "def square_comp(x,y,z,v0,v1,v2,e0,e1,e2):\n",
    "    xy=np.linspace(-1,1,10)\n",
    "    XY=np.array(np.meshgrid(xy,xy))\n",
    "    E0, E1 = np.einsum(\"ix,xnm->inm\",np.array((e0,e1))[:,:2],XY)\n",
    "    E2 = 0.5*v0*E0**2 + 0.5*v2*E1**2\n",
    "    X,Y,Z = np.einsum(\"xi,inm->xnm\",np.linalg.inv(np.array((e0,e1,e2))),np.array((E0,E1,E2)))\n",
    "    return X+x,Y+y,Z+z\n",
    "    "
   ]
  },
  {
   "cell_type": "code",
   "execution_count": null,
   "id": "0d8bac5a-2dde-4404-a030-ceea7fabc874",
   "metadata": {},
   "outputs": [],
   "source": [
    "%matplotlib widget\n",
    "ax = plt.figure().add_subplot(projection='3d')\n",
    "dist = ((v3.pos-v3.pos[i])**2).sum(axis=1)**0.5\n",
    "in_dist = dist<5\n",
    "x, y = np.linspace(tuple(v3.pos[in_dist,:2].min(axis=0)),tuple(v3.pos[in_dist,:2].max(axis=0)),20).T\n",
    "X,Y = np.meshgrid(x,y)\n",
    "Z = z0+r*np.cos(X/c0)*np.cos(Y/c0)\n",
    "ax.plot_wireframe(X,Y,Z,linewidths=0.5)\n",
    "X,Y,Z = square_comp(*v3.pos[i],v3.eigenvalue_0[i],v3.eigenvalue_1[i],v3.eigenvalue_2[i],v3.eig0[i],v3.eig1[i],v3.eig2[i])\n",
    "ax.plot_wireframe(X,Y,Z,linewidths=0.5,color='g')\n",
    "X,Y,Z = square_comp(*v3.pos[i],*mg.w,0,*mg.vxyz,mg.n)\n",
    "ax.plot_wireframe(X,Y,Z,linewidths=0.5,color='r')\n",
    "ax.plot(*v3.pos[in_dist].T,'.k',markersize=1)\n",
    "ax.plot(*v3.pos[i],'*')\n",
    "ax.plot(*v3.pos[v3.get_ordered_neighbors(v3.indices[i])].T,'*')\n",
    "ax.set_aspect('equal')\n",
    "ax.set_title(f'{i}')"
   ]
  },
  {
   "cell_type": "code",
   "execution_count": null,
   "id": "4e52cb22-226a-4cfc-9f17-b34b7bf93b6f",
   "metadata": {},
   "outputs": [],
   "source": [
    "plt.close()"
   ]
  },
  {
   "cell_type": "markdown",
   "id": "db9d3a54-8d58-481d-85d0-e3ff2e7f9877",
   "metadata": {},
   "source": [
    "# and now for something completely different"
   ]
  },
  {
   "cell_type": "code",
   "execution_count": null,
   "id": "6d552b76-0b1b-4613-b8c2-12fa826833a2",
   "metadata": {},
   "outputs": [],
   "source": [
    "def plotMySurf(axe3D, *, points=None, p_dict=None, bonds=None, b_dict=None,\n",
    "               triangles=None, t_dict=None, reaspect=None, **fmt_dict):\n",
    "    \"\"\"Plot a surface with points and bonds.\n",
    "\n",
    "    points: nx3\n",
    "    p_dict: {color: 'k', 'linestyle':'None', 'marker'='.', 'linewidth': 0.4}\n",
    "    bonds: mx2\n",
    "    b_dict: {'color': 'k', 'linestyle': '-',\n",
    "             'marker': 'None', 'linewidth': 0.25}\n",
    "    \"\"\"\n",
    "    if points is not None:\n",
    "        if p_dict is None:\n",
    "            p_dict = {'color': 'k',\n",
    "                      'linestyle': 'None', 'marker': '.',\n",
    "                      'linewidth': 0.2, }#'markersize': 2}\n",
    "        p_dict.update(fmt_dict)\n",
    "        x, y, z = np.vstack((points, np.ones(3)*np.nan)).T\n",
    "        axe3D.scatter3D(x[:-1], y[:-1], z[:-1], **p_dict)\n",
    "        if reaspect:\n",
    "            reaspectAxe(axe3D, points)\n",
    "    if bonds is not None:\n",
    "        edges = np.hstack((bonds,\n",
    "                           np.ones((bonds.shape[0], 1), dtype=int)*(len(x)-1))\n",
    "                          ).flatten()\n",
    "        if b_dict is None:\n",
    "            b_dict = {'color': 'k', 'linestyle': '-',\n",
    "                      'marker': 'None', 'linewidth': 0.25}\n",
    "        b_dict.update(fmt_dict)\n",
    "        if type(b_dict['color']) is np.ndarray:\n",
    "            if b_dict['color'].size>4.:\n",
    "                b_dict['color']=b_dict['color'].mean(axis=0)\n",
    "        xen, yen, zen = x[edges], y[edges], z[edges]\n",
    "        axe3D.plot3D(xen, yen, zen, **b_dict)"
   ]
  },
  {
   "cell_type": "code",
   "execution_count": null,
   "id": "71615df9-a45d-4131-994b-2ad37212181f",
   "metadata": {},
   "outputs": [],
   "source": [
    "def color_for(_type, lbl=None):\n",
    "    \"\"\"Color function for clusters.\"\"\"\n",
    "    c_bare = (0.9, 0.9, 0.9, 1.0)\n",
    "    c_conv = plt.cm.tab20b(13)\n",
    "    c_conc = plt.cm.tab20c(1)\n",
    "    try:\n",
    "        c = (\n",
    "             (_type[:, np.newaxis] == 5)*c_conc\n",
    "             + (_type[:, np.newaxis] == 47)*c_conv\n",
    "             + (_type[:, np.newaxis] == 4)*c_bare\n",
    "            )\n",
    "    except (IndexError, TypeError):\n",
    "        c = {5: c_conc, 47: c_conv}.get(_type, c_bare)\n",
    "    return c\n"
   ]
  },
  {
   "cell_type": "code",
   "execution_count": null,
   "id": "717252cc-3b7e-4499-97d7-db57f8725302",
   "metadata": {},
   "outputs": [],
   "source": [
    "def fit_coolwarm(array,minval=None,maxval=None):\n",
    "    if minval is None:\n",
    "        minval=min(array)\n",
    "    if maxval is None:\n",
    "        maxval=max(array)\n",
    "    if minval==maxval:\n",
    "        return plt.cm.coolwarm(array)\n",
    "    carray = (array-minval)/(maxval-minval)\n",
    "    return plt.cm.coolwarm(carray)"
   ]
  },
  {
   "cell_type": "code",
   "execution_count": null,
   "id": "849df87c-4463-48e5-93d5-30911f701ab7",
   "metadata": {},
   "outputs": [],
   "source": [
    "color2 = fit_coolwarm(v3.mean_curvature,-1,1)\n",
    "color2"
   ]
  },
  {
   "cell_type": "code",
   "execution_count": null,
   "id": "b67f5e82-ad16-43c1-b9ff-b055dec65f76",
   "metadata": {},
   "outputs": [],
   "source": [
    "color2[v3.blist].mean(axis=1)"
   ]
  },
  {
   "cell_type": "code",
   "execution_count": null,
   "id": "54ddd342-b204-4068-9f82-ff32115dc61d",
   "metadata": {},
   "outputs": [],
   "source": [
    "fig = plt.figure()\n",
    "axe = fig.add_subplot(projection='3d')\n",
    "plotMySurf(axe,points=v3.pos,p_dict={'color': color2,'s':0.5},\n",
    "           bonds=v.blist,b_dict={'color': color2[v3.blist].mean(axis=1)})"
   ]
  },
  {
   "cell_type": "code",
   "execution_count": null,
   "id": "c3e1dcef-ef7d-4ef5-bb59-bb3419966dce",
   "metadata": {},
   "outputs": [],
   "source": [
    "fig = plt.figure()\n",
    "axe = fig.add_subplot(projection='3d')\n",
    "axe.plot(*v3.pos.T,'.',color='k',markersize=0.5)"
   ]
  },
  {
   "cell_type": "code",
   "execution_count": null,
   "id": "b8cab0c7-fbc2-4d73-be8f-95936cc41b88",
   "metadata": {},
   "outputs": [],
   "source": [
    "def refine_mesh_once(v):\n",
    "    \"\"\"Create x,y,z and tlist of a refined mesh.\n",
    "\n",
    "    Every bond in the original mesh is now another vertex with index\n",
    "    of number original vertices + number of the original bond\n",
    "    \"\"\"\n",
    "    x,y,z = v.pos.T\n",
    "    tlist = v.tlist\n",
    "    blist = v.blist\n",
    "    nvtx = len(x)\n",
    "    nb = len(blist)\n",
    "    nt = len(tlist)\n",
    "    x2,y2,z2 = np.zeros((3,nvtx+nb))\n",
    "    x2[:nvtx],y2[:nvtx],z2[:nvtx] = x,y,z\n",
    "    x2[nvtx:],y2[nvtx:],z2[nvtx:] = v.pos[v.blist].mean(axis=1).T\n",
    "    tlist2 = np.zeros((4*nt,3),dtype=int)\n",
    "    # blist2 = np.zeros((3*nt//2,2),dtype=int)\n",
    "    for i,t in enumerate(tlist):\n",
    "        a,b,c = t\n",
    "        ab=nvtx+np.where((blist==(a,b)).all(1)|(blist==(b,a)).all(1))[0][0]\n",
    "        bc=nvtx+np.where((blist==(b,c)).all(1)|(blist==(c,b)).all(1))[0][0]\n",
    "        ca=nvtx+np.where((blist==(c,a)).all(1)|(blist==(a,c)).all(1))[0][0]\n",
    "        tlist2[4*i:4*(i+1),:]=((a,ab,ca),(b,bc,ab),(c,ca,bc),(ab,bc,ca))\n",
    "    return x2,y2,z2,tlist2\n"
   ]
  },
  {
   "cell_type": "code",
   "execution_count": null,
   "id": "711903e9-948f-49a5-9b65-80aa6601c644",
   "metadata": {},
   "outputs": [],
   "source": [
    "x2,y2,z2,tlist2 = refine_mesh_once(v2)"
   ]
  },
  {
   "cell_type": "code",
   "execution_count": null,
   "id": "609bbe55-315a-4f95-b310-bef3dfcf4c70",
   "metadata": {},
   "outputs": [],
   "source": [
    "types = np.concatenate((v2.type,v2.type[v2.blist].sum(axis=1)/2))\n",
    "c_tri = fit_coolwarm(types[tlist2].sum(axis=1)/3)#,4-47,47)"
   ]
  },
  {
   "cell_type": "code",
   "execution_count": null,
   "id": "91ee906d-c367-470b-a0a9-5d7b8f7a82e5",
   "metadata": {},
   "outputs": [],
   "source": [
    "poly3=Poly3DCollection(verts=np.stack((x2[tlist2],y2[tlist2],z2[tlist2]),axis=-1),\n",
    "                       facecolor=c_tri,edgecolor='k',linewidth=0.1)\n",
    "fig = plt.figure()\n",
    "axe = fig.add_subplot(projection='3d')\n",
    "axe.add_collection3d(poly3)\n",
    "axe.auto_scale_xyz(x2,y2,z2)"
   ]
  },
  {
   "cell_type": "code",
   "execution_count": null,
   "id": "7562e557-a4e7-4a1f-8953-14e08ad753fe",
   "metadata": {},
   "outputs": [],
   "source": [
    "tri=plt.matplotlib.tri.Triangulation(*v.pos[:,:2].T)\n",
    "ref = plt.matplotlib.tri.UniformTriRefiner(tri)\n",
    "tri2, z2=ref.refine_field(v.pos[:,2])\n",
    "tri3, c2=ref.refine_field(v.c0)"
   ]
  },
  {
   "cell_type": "code",
   "execution_count": null,
   "id": "f528ad0a-444a-4230-9f57-f0977db5cfe0",
   "metadata": {},
   "outputs": [],
   "source": [
    "color_ref = plt.cm.coolwarm(np.array((*c2,-1,1)))[:-2]"
   ]
  },
  {
   "cell_type": "code",
   "execution_count": null,
   "id": "a304f41d-55e6-450d-8336-a84c2a78ceb3",
   "metadata": {},
   "outputs": [],
   "source": [
    "triangles = tri2.get_masked_triangles()\n",
    "xt = tri2.x[triangles]\n",
    "yt = tri2.y[triangles]\n",
    "zt = z2[triangles]\n",
    "verts = np.stack((xt, yt, zt), axis=-1)\n",
    "cs = color_ref[triangles].mean(axis=1)"
   ]
  },
  {
   "cell_type": "code",
   "execution_count": null,
   "id": "2746c379-e1f4-4f8e-b230-c1a472d9e1a0",
   "metadata": {},
   "outputs": [],
   "source": [
    "poly3=Poly3DCollection(verts=verts,facecolor=cs)\n",
    "fig = plt.figure()\n",
    "axe = fig.add_subplot(projection='3d')\n",
    "axe.add_collection3d(poly3)\n",
    "axe.auto_scale_xyz(xt,yt,zt)"
   ]
  },
  {
   "cell_type": "code",
   "execution_count": null,
   "id": "8320b6c8-ef06-47f8-bf7b-6fbd9b15f4f5",
   "metadata": {},
   "outputs": [],
   "source": [
    "tricol=color2[v3.tlist].mean(axis=1)"
   ]
  },
  {
   "cell_type": "code",
   "execution_count": null,
   "id": "d06a0eb4-ec8c-4a60-9911-fed457a32062",
   "metadata": {},
   "outputs": [],
   "source": [
    "v.tlist"
   ]
  },
  {
   "cell_type": "code",
   "execution_count": null,
   "id": "52ea6175-f16c-47d4-8055-469ad6db6aba",
   "metadata": {},
   "outputs": [],
   "source": [
    "tricol"
   ]
  },
  {
   "cell_type": "code",
   "execution_count": null,
   "id": "aae25040-234a-48a7-a34f-747bc5eb89ed",
   "metadata": {},
   "outputs": [],
   "source": [
    "poly3=Poly3DCollection(verts=v.pos[v.tlist],facecolor=tricol)"
   ]
  },
  {
   "cell_type": "code",
   "execution_count": null,
   "id": "56c9a461-7ba7-4cc1-a307-d203484f23f9",
   "metadata": {},
   "outputs": [],
   "source": [
    "poly3"
   ]
  },
  {
   "cell_type": "code",
   "execution_count": null,
   "id": "245dbbb6-cc3f-4835-8b07-483472926ab3",
   "metadata": {},
   "outputs": [],
   "source": [
    "v.pos[v.tlist]"
   ]
  },
  {
   "cell_type": "code",
   "execution_count": null,
   "id": "6a14ab46-3993-4439-80eb-d802e6cb84d4",
   "metadata": {},
   "outputs": [],
   "source": [
    "fig = plt.figure()\n",
    "axe = fig.add_subplot(projection='3d')\n",
    "axe.add_collection3d(poly3)\n",
    "axe.auto_scale_xyz(*v3.pos.T)"
   ]
  }
 ],
 "metadata": {
  "kernelspec": {
   "display_name": "Python 3 (ipykernel)",
   "language": "python",
   "name": "python3"
  },
  "language_info": {
   "codemirror_mode": {
    "name": "ipython",
    "version": 3
   },
   "file_extension": ".py",
   "mimetype": "text/x-python",
   "name": "python",
   "nbconvert_exporter": "python",
   "pygments_lexer": "ipython3",
   "version": "3.10.8"
  }
 },
 "nbformat": 4,
 "nbformat_minor": 5
}
