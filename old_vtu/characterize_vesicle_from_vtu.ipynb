{
 "cells": [
  {
   "cell_type": "markdown",
   "metadata": {},
   "source": [
    "# Characterize vesicle from vtu #\n",
    "The c code keeps breaking, and it doesn't work between versions  \n",
    "At this point, just reverse the .vtu XML file\n",
    "\n",
    "The geometry is saved as  "
   ]
  },
  {
   "cell_type": "markdown",
   "metadata": {},
   "source": [
    "<p style=\"color:blue;\"> &ltVTKfile&gt </p>    \n",
    "\n",
    ">  \\<UnstructuredGrid\\>  \n",
    "> since we have only one vesicle, there is only one piece\n",
    ">> \\<Piece NumberOfPoints=\"10\" NumberOfCells=\"10\"\\>  \n",
    ">> points are the vertices, cells are bonds (2-cells, type 3) and triangles (3-cells, type 5)\n",
    ">>> \\<Points\\>  \n",
    ">>> \\<Cells\\>  \n",
    ">>> \\<PointData\\>  \n",
    ">>> \\<CellData\\>  \n",
    "  \n",
    "These contain:\n",
    "\n",
    "<p style=\"color:blue;\"> &ltPoints&gt </p>  \n",
    "\n",
    "> \\<DataArray Name=\"Koordinate tock\"\\>  \n",
    "> contains the coordinates of each vertex  \n",
    "  \n",
    "<p style=\"color:blue;\"> &ltCells&gt </p>  \n",
    "\n",
    "> \\<DataArray Name=\"connectivity\"\\>  \n",
    "> connectivity of each cell: 6 8 means \"a cell connecting vertex 6 and 8\", 10 13 28 means \"a cell connecting vertex 10, 13, and 28\"\"  \n",
    ">  \n",
    "> \\<DataArray Name=\"offsets\"\\>  \n",
    "> excplicitly state the separation in connectivity, rather than relying on the tabs \n",
    ">  \n",
    "> \\<DataArray Name=\"types\"\\>  \n",
    "> excplicitly name the type of cell: type 3 is bond, or 2 cell, type 5 is triangle, a 3-cell \n",
    "\n",
    "<p style=\"color:blue;\"> &ltPoint/CellData&gt </p>  \n",
    "\n",
    "> \\<DataArray\\>s of any other information that is saved:\n",
    "> curvature, bending energy, etc...\n",
    "  \n",
    "    \n",
    "    \n",
    "Additionally:  \n",
    "The \\<trisurf\\> part of the xml is purely for the c program, as far as I can tell  \n",
    "additional usefull imformation could be obtained un \\<tape\\>, which is the just actuall tape file"
   ]
  },
  {
   "cell_type": "code",
   "execution_count": 1,
   "metadata": {},
   "outputs": [],
   "source": [
    "import xml.etree.ElementTree as ET\n",
    "import numpy as np\n",
    "import scipy.sparse as sp\n",
    "import matplotlib.pyplot as plt\n",
    "%matplotlib widget"
   ]
  },
  {
   "cell_type": "code",
   "execution_count": 2,
   "metadata": {},
   "outputs": [],
   "source": [
    "def xml_to_str_list(node):\n",
    "    ''' Take node, extract text array to list ' 2 3\\n4 5 6\\n' -> [['2','3'],['4','5','6']'''\n",
    "    \n",
    "    all_text=node.text\n",
    "    \n",
    "    #trim space and tab prefix and suffix (conda refuses python 3.9)\n",
    "    for i,t in enumerate(all_text):\n",
    "        if (t!='\\n' and t!=' '):\n",
    "            break\n",
    "    all_text=all_text[i:]\n",
    "    for i,t in enumerate(reversed(all_text)):\n",
    "        if (t!='\\n' and t!=' '):\n",
    "            break\n",
    "    if i!=0:\n",
    "        all_text=all_text[:-i]\n",
    "    \n",
    "    #if there are tabs in the middle, assume this is a 2d list\n",
    "    if any(t=='\\n' for t in all_text):\n",
    "        return [ x.split() for x in all_text.split('\\n')]\n",
    "    else:\n",
    "        return all_text.split() "
   ]
  },
  {
   "cell_type": "code",
   "execution_count": 3,
   "metadata": {},
   "outputs": [
    {
     "name": "stdout",
     "output_type": "stream",
     "text": [
      "ha\n"
     ]
    }
   ],
   "source": [
    "text='  \\n  alphn\\nsa blag\\n  '\n",
    "for i,t in enumerate(text):\n",
    "    if (t!='\\n' and t!=' '):\n",
    "        break\n",
    "text=text[i:]\n",
    "for i,t in enumerate(reversed(text)):\n",
    "    if (t!='\\n' and t!=' '):\n",
    "        break\n",
    "if i!=0:\n",
    "    text=text[:-i]\n",
    "if any(t=='\\n' for t in text):\n",
    "    print('ha')\n",
    "            "
   ]
  },
  {
   "cell_type": "code",
   "execution_count": 4,
   "metadata": {},
   "outputs": [],
   "source": [
    "#vtu_location=\"/opt/workspace/msc_project/other/vtu_files/micro_vtu.vtu\"\n",
    "vtu_location=\"/opt/workspace/msc_project/other/vtu_files/c_plus_minus_20_potato.vtu\""
   ]
  },
  {
   "cell_type": "code",
   "execution_count": 5,
   "metadata": {},
   "outputs": [],
   "source": [
    "## get the .vtu  xml file and parse it\n",
    "tree = ET.parse(vtu_location)\n",
    "root = tree.getroot()"
   ]
  },
  {
   "cell_type": "code",
   "execution_count": 6,
   "metadata": {},
   "outputs": [
    {
     "name": "stdout",
     "output_type": "stream",
     "text": [
      "VTKFile\n",
      "\t #####################\n",
      "\t trisurfversion {} 0\n",
      "\t #####################\n",
      "\t dumpdate {} 0\n",
      "\t #####################\n",
      "\t tape {} 0\n",
      "\t #####################\n",
      "\t trisurf {'nvtx': '2002', 'npoly': '0', 'nmono': '0', 'compressed': 'false'} 4008\n",
      "\t #####################\n",
      "\t UnstructuredGrid {} 1\n"
     ]
    }
   ],
   "source": [
    "#overall view\n",
    "print(root.tag)\n",
    "for child in root:\n",
    "    print('\\t #####################')\n",
    "    print('\\t',child.tag,child.attrib,len(child))\n",
    "    #for subchild in child:\n",
    "     #   print('\\t',subchild.tag, len(subchild),subchild.attrib)\n",
    "      #  print('\\t\\t',subchild.text.split(' '))\n"
   ]
  },
  {
   "cell_type": "code",
   "execution_count": 7,
   "metadata": {},
   "outputs": [],
   "source": [
    "#tape=root.findall('tape')[0]\n",
    "#print(tape.text)"
   ]
  },
  {
   "cell_type": "code",
   "execution_count": 8,
   "metadata": {},
   "outputs": [
    {
     "name": "stdout",
     "output_type": "stream",
     "text": [
      "#####\n",
      "PointData {'Scalars': 'vertices_idx'} 3\n",
      "\t DataArray {'type': 'Int64', 'Name': 'vertices_idx', 'format': 'ascii'} 0\n",
      "\t DataArray {'type': 'Float64', 'Name': 'spontaneous_curvature', 'format': 'ascii'} 0\n",
      "\t DataArray {'type': 'Float64', 'Name': 'bending_energy', 'format': 'ascii'} 0\n",
      "#####\n",
      "CellData {} 0\n",
      "#####\n",
      "Points {} 1\n",
      "\t DataArray {'type': 'Float64', 'Name': 'Koordinate tock', 'NumberOfComponents': '3', 'format': 'ascii'} 0\n",
      "#####\n",
      "Cells {} 3\n",
      "\t DataArray {'type': 'Int64', 'Name': 'connectivity', 'format': 'ascii'} 0\n",
      "\t DataArray {'type': 'Int64', 'Name': 'offsets', 'format': 'ascii'} 0\n",
      "\t DataArray {'type': 'UInt8', 'Name': 'types', 'format': 'ascii'} 0\n"
     ]
    }
   ],
   "source": [
    "# get and view the Unstructured grid\n",
    "ugrid=root.findall('UnstructuredGrid')\n",
    "vesicle=ugrid[0][0] #\"Yer a vesicle, Harry!\"\n",
    "for child in vesicle:\n",
    "    print('#####')\n",
    "    print(child.tag,child.attrib,len(child))\n",
    "    for subchild in child:\n",
    "        print('\\t',subchild.tag,subchild.attrib,len(subchild))"
   ]
  },
  {
   "cell_type": "code",
   "execution_count": 9,
   "metadata": {},
   "outputs": [],
   "source": [
    "#vesicle.findall('Points')[0][0].text\n",
    "#vesicle.findall('Cells')[0][0].text[:-1]"
   ]
  },
  {
   "cell_type": "code",
   "execution_count": 10,
   "metadata": {},
   "outputs": [
    {
     "name": "stdout",
     "output_type": "stream",
     "text": [
      "example of positions:\n",
      " [-8.538495227900299, 5.955783172740956, -11.712382461115256] \n",
      "examples of bonds:\n",
      " [[1645, 1770], [515, 1461], [1360, 312], [1544, 377], [1930, 1425]] \n",
      "examples of triangles:\n",
      " [[1885, 560, 1559], [1847, 721, 1534], [1660, 978, 522]]\n"
     ]
    }
   ],
   "source": [
    "str_vtx_positions = xml_to_str_list(vesicle.findall('Points/DataArray')[0])\n",
    "vtx_pos = [ [float(y) for y in x] for x in str_vtx_positions ] \n",
    "\n",
    "str_cells = xml_to_str_list(vesicle.findall('Cells/DataArray')[0])\n",
    "all_cells = [ [int(y) for y in x] for x in str_cells ] \n",
    "bonds = [ x for x in all_cells if len(x)==2 ]\n",
    "triangles = [ x for x in all_cells if len(x)==3 ]\n",
    "print('example of positions:\\n',vtx_pos[6],'\\nexamples of bonds:\\n',bonds[:5],'\\nexamples of triangles:\\n',triangles[:3])"
   ]
  },
  {
   "cell_type": "code",
   "execution_count": 11,
   "metadata": {},
   "outputs": [
    {
     "name": "stdout",
     "output_type": "stream",
     "text": [
      "2002 6000 4000\n"
     ]
    }
   ],
   "source": [
    "num_vtx = len(vtx_pos)\n",
    "num_bonds = len(bonds)\n",
    "num_triangles = len(triangles)\n",
    "print(num_vtx,num_bonds,num_triangles)"
   ]
  },
  {
   "cell_type": "code",
   "execution_count": 12,
   "metadata": {},
   "outputs": [],
   "source": [
    "#root.findall('.//*[@Name=\"spontaneous_curvature\"]')[0].text"
   ]
  },
  {
   "cell_type": "code",
   "execution_count": 13,
   "metadata": {},
   "outputs": [
    {
     "data": {
      "text/plain": [
       "([0.0, 0.0, 0.0, 0.0, 0.0, 0.0, 0.5, 0.0, 0.0, 0.0],\n",
       " [0.14711998087372083,\n",
       "  0.38634867076043977,\n",
       "  0.5273067918719248,\n",
       "  0.19358733727431787,\n",
       "  0.20613498590416948,\n",
       "  0.4732760812146742,\n",
       "  0.2684755422924594,\n",
       "  1.1036729490404547,\n",
       "  0.011047263925678622,\n",
       "  0.06831289572825447])"
      ]
     },
     "execution_count": 13,
     "metadata": {},
     "output_type": "execute_result"
    }
   ],
   "source": [
    "c = [ float(x) for x in xml_to_str_list(vesicle.findall('PointData/DataArray')[1])]\n",
    "benergy = [ float(x) for x in xml_to_str_list(vesicle.findall('PointData/DataArray')[2])]\n",
    "c[:10], benergy[:10]"
   ]
  },
  {
   "cell_type": "code",
   "execution_count": 14,
   "metadata": {},
   "outputs": [
    {
     "data": {
      "application/vnd.jupyter.widget-view+json": {
       "model_id": "19c4a69c87784ce6aeca0c6416cced3d",
       "version_major": 2,
       "version_minor": 0
      },
      "text/plain": [
       "Canvas(toolbar=Toolbar(toolitems=[('Home', 'Reset original view', 'home', 'home'), ('Back', 'Back to previous …"
      ]
     },
     "metadata": {},
     "output_type": "display_data"
    },
    {
     "data": {
      "text/plain": [
       "<matplotlib.image.AxesImage at 0x7fbeefe9eaf0>"
      ]
     },
     "execution_count": 14,
     "metadata": {},
     "output_type": "execute_result"
    }
   ],
   "source": [
    "is_curved = np.array(c)!=0\n",
    "is_curved\n",
    "\n",
    "adj_mat = np.zeros([num_vtx,num_vtx],dtype=bool)\n",
    "for bond in bonds:\n",
    "    adj_mat[bond[0],bond[1]]=True\n",
    "    adj_mat[bond[1],bond[0]]=True\n",
    "adj_mat\n",
    "\n",
    "c_adj_mat = adj_mat.copy()\n",
    "\n",
    "plt.matshow(adj_mat)"
   ]
  },
  {
   "cell_type": "code",
   "execution_count": 15,
   "metadata": {},
   "outputs": [
    {
     "data": {
      "application/vnd.jupyter.widget-view+json": {
       "model_id": "94169c90889f4cf9b2cfa8224acf36d8",
       "version_major": 2,
       "version_minor": 0
      },
      "text/plain": [
       "Canvas(toolbar=Toolbar(toolitems=[('Home', 'Reset original view', 'home', 'home'), ('Back', 'Back to previous …"
      ]
     },
     "metadata": {},
     "output_type": "display_data"
    },
    {
     "data": {
      "text/plain": [
       "<matplotlib.image.AxesImage at 0x7fbeeead4a30>"
      ]
     },
     "execution_count": 15,
     "metadata": {},
     "output_type": "execute_result"
    }
   ],
   "source": [
    "c_adj_mat[~is_curved,:]=False\n",
    "c_adj_mat[:,~is_curved]=False\n",
    "plt.matshow(c_adj_mat)"
   ]
  },
  {
   "cell_type": "code",
   "execution_count": 16,
   "metadata": {},
   "outputs": [
    {
     "data": {
      "text/plain": [
       "<matplotlib.lines.Line2D at 0x7fbf183a2850>"
      ]
     },
     "execution_count": 16,
     "metadata": {},
     "output_type": "execute_result"
    }
   ],
   "source": [
    "graph_c=sp.csgraph.csgraph_from_dense(c_adj_mat)\n",
    "plt.spy(graph_c,markersize=1)"
   ]
  },
  {
   "cell_type": "code",
   "execution_count": 17,
   "metadata": {},
   "outputs": [
    {
     "data": {
      "text/plain": [
       "array([   0, 1928,   19,    6,    2,    2])"
      ]
     },
     "execution_count": 17,
     "metadata": {},
     "output_type": "execute_result"
    }
   ],
   "source": [
    "n, labeled_vtx = sp.csgraph.connected_components(graph_c)\n",
    "np.bincount(np.bincount(labeled_vtx))"
   ]
  },
  {
   "cell_type": "code",
   "execution_count": 18,
   "metadata": {},
   "outputs": [
    {
     "name": "stderr",
     "output_type": "stream",
     "text": [
      "/home/yoav/anaconda3/lib/python3.8/site-packages/scipy/sparse/_index.py:82: SparseEfficiencyWarning: Changing the sparsity structure of a csr_matrix is expensive. lil_matrix is more efficient.\n",
      "  self._set_intXint(row, col, x.flat[0])\n"
     ]
    },
    {
     "data": {
      "text/plain": [
       "<matplotlib.lines.Line2D at 0x7fbeeeaea670>"
      ]
     },
     "execution_count": 18,
     "metadata": {},
     "output_type": "execute_result"
    }
   ],
   "source": [
    "a=sp.csr_matrix((50,50))\n",
    "a[1,7]=6\n",
    "a[7,1]=-8\n",
    "plt.spy(a)"
   ]
  }
 ],
 "metadata": {
  "kernelspec": {
   "display_name": "Python 3",
   "language": "python",
   "name": "python3"
  },
  "language_info": {
   "codemirror_mode": {
    "name": "ipython",
    "version": 3
   },
   "file_extension": ".py",
   "mimetype": "text/x-python",
   "name": "python",
   "nbconvert_exporter": "python",
   "pygments_lexer": "ipython3",
   "version": "3.8.5"
  }
 },
 "nbformat": 4,
 "nbformat_minor": 4
}
