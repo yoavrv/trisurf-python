{
 "cells": [
  {
   "cell_type": "code",
   "execution_count": 13,
   "metadata": {},
   "outputs": [],
   "source": [
    "#!cp /opt/workspace/msc_project/other/vtu_files/smooth_potato_20.vtu /mnt/c/Users/yoavr/Desktop/smooth_potato_20.vtu"
   ]
  },
  {
   "cell_type": "code",
   "execution_count": 14,
   "metadata": {},
   "outputs": [],
   "source": [
    "import xml.etree.ElementTree as ET\n",
    "import numpy as np"
   ]
  },
  {
   "cell_type": "code",
   "execution_count": 29,
   "metadata": {},
   "outputs": [],
   "source": [
    "vtu_file = \"/mnt/c/Users/yoavr/Desktop/paraview_pipeline/tests/round_100_neg.vtu\"\n",
    "tree = ET.parse(vtu_file)\n",
    "num_positive_c = 0\n",
    "c_positive = 0.8\n",
    "num_negative_c = 100\n",
    "c_negative = -0.8\n",
    "root = tree.getroot()"
   ]
  },
  {
   "cell_type": "code",
   "execution_count": 30,
   "metadata": {},
   "outputs": [
    {
     "name": "stdout",
     "output_type": "stream",
     "text": [
      "dumpdate {}\n",
      "tape {}\n",
      "trisurf {'nvtx': '4502', 'npoly': '0', 'nmono': '0', 'compressed': 'false', 'seed': '1618847490'}\n",
      "UnstructuredGrid {}\n",
      "###\n"
     ]
    },
    {
     "data": {
      "text/plain": [
       "('DataArray',\n",
       " {'type': 'Float64', 'Name': 'spontaneous_curvature', 'format': 'ascii'})"
      ]
     },
     "execution_count": 30,
     "metadata": {},
     "output_type": "execute_result"
    }
   ],
   "source": [
    "# display the structure of the xml tree\n",
    "for child in root:\n",
    "    print(child.tag, child.attrib)\n",
    "print(r'###')\n",
    "spon_curv = root.findall('.//*[@Name=\"spontaneous_curvature\"]')[0]\n",
    "#for child in root[4][0][0]:\n",
    "#    print(child.tag, child.attrib)\n",
    "spon_curv.tag, spon_curv.attrib"
   ]
  },
  {
   "cell_type": "code",
   "execution_count": 31,
   "metadata": {},
   "outputs": [],
   "source": [
    "# spon_curv = root[4][0][0][1] # get the node of spontaneous curvature\n",
    "# more properly: \n",
    "spon_curv = root.findall('.//*[@Name=\"spontaneous_curvature\"]')[0]"
   ]
  },
  {
   "cell_type": "code",
   "execution_count": 32,
   "metadata": {},
   "outputs": [
    {
     "name": "stdout",
     "output_type": "stream",
     "text": [
      "['0.00000000000000000e+00', '0.00000000000000000e+00', '0.00000000000000000e+00', '0.00000000000000000e+00', '0.00000000000000000e+00'] ...\n"
     ]
    },
    {
     "data": {
      "text/plain": [
       "True"
      ]
     },
     "execution_count": 32,
     "metadata": {},
     "output_type": "execute_result"
    }
   ],
   "source": [
    "curvatures_txt = spon_curv.text.split(' ')[:-1]\n",
    "print(curvatures_txt[:5],\"...\")\n",
    "\n",
    "# more properly, an internal function from ts_vtu_python.py: \n",
    "def _xml_to_str_list(node):\n",
    "    r\"\"\"Take xml node, extract text array to list.\n",
    "\n",
    "    Convert sequence to 1d array and lines to 2d arrays, e.g\n",
    "     2 3\\n4 5 6\\n' -> [['2','3'],['4','5','6']]\n",
    "    '\\n 2 3 5' -> ['2','3','5']\n",
    "    \"\"\"\n",
    "    all_text = node.text.strip()\n",
    "\n",
    "    # if there are tabs in the middle, assume this is a 2d list\n",
    "    if all_text.__contains__('\\n'):\n",
    "        return [x.split() for x in all_text.split('\\n')]\n",
    "    else:  # no tabs: 1d array\n",
    "        return all_text.split()\n",
    "\n",
    "# they give the same answer\n",
    "curvatures_txt == _xml_to_str_list(spon_curv)"
   ]
  },
  {
   "cell_type": "code",
   "execution_count": 33,
   "metadata": {},
   "outputs": [
    {
     "name": "stdout",
     "output_type": "stream",
     "text": [
      "[0.  0.  0.  0.  0.  0.  0.  0.  0.8 0. ] ...\n"
     ]
    }
   ],
   "source": [
    "curvatures = list(map(float,curvatures_txt)) # convert to float\n",
    "cs = np.array(curvatures)\n",
    "print(cs[:10],\"...\")"
   ]
  },
  {
   "cell_type": "code",
   "execution_count": 34,
   "metadata": {},
   "outputs": [
    {
     "name": "stdout",
     "output_type": "stream",
     "text": [
      "[0 1 2 3 4] ...\n"
     ]
    }
   ],
   "source": [
    "# find bare vertices to change to cmc ones\n",
    "# (as to not overwrite any existing cmc-structure)\n",
    "cs_zero_idxs = cs == 0 # boolean indices\n",
    "cs_zero_idxs_numberal = np.arange(len(cs))[cs_zero_idxs] # to number indices\n",
    "print(cs_zero_idxs_numberal[:5],\"...\")"
   ]
  },
  {
   "cell_type": "code",
   "execution_count": 35,
   "metadata": {},
   "outputs": [
    {
     "name": "stdout",
     "output_type": "stream",
     "text": [
      "first 5 random indices to change:\n",
      " [3960 2251 2737 2250 2457] \n",
      "curvature at indices\n",
      " [0. 0. 0. 0. 0.]\n"
     ]
    }
   ],
   "source": [
    "# choose some of the indices to change\n",
    "idx_to_change = np.random.default_rng().choice(len(cs_zero_idxs_numberal), \n",
    "                                               num_positive_c+num_negative_c,\n",
    "                                               replace=False) # yep: indices of indices\n",
    "zero_idxs_to_change = cs_zero_idxs_numberal[idx_to_change]\n",
    "print(\"first 5 random indices to change:\\n\",zero_idxs_to_change[:5],\n",
    "      \"\\ncurvature at indices\\n\", cs[zero_idxs_to_change[:5]])"
   ]
  },
  {
   "cell_type": "code",
   "execution_count": 37,
   "metadata": {},
   "outputs": [
    {
     "data": {
      "text/plain": [
       "100"
      ]
     },
     "execution_count": 37,
     "metadata": {},
     "output_type": "execute_result"
    }
   ],
   "source": [
    "sum(cs==-0.8)"
   ]
  },
  {
   "cell_type": "code",
   "execution_count": 90,
   "metadata": {},
   "outputs": [],
   "source": [
    "cs[zero_idxs_to_change[:num_positive_c]] = c_positive\n",
    "cs[zero_idxs_to_change[num_positive_c:]] = c_negative"
   ]
  },
  {
   "cell_type": "code",
   "execution_count": 91,
   "metadata": {
    "tags": []
   },
   "outputs": [
    {
     "data": {
      "text/plain": [
       "True"
      ]
     },
     "execution_count": 91,
     "metadata": {},
     "output_type": "execute_result"
    }
   ],
   "source": [
    "# lousy way \n",
    "new_spon_curv=''\n",
    "for number in cs:\n",
    "    new_spon_curv += f'{number:.17e} '\n",
    "\n",
    "# better way\n",
    "new_spon_curv_2 = ''.join(f'{number:.17e} ' for number in cs)\n",
    "new_spon_curv == new_spon_curv_2"
   ]
  },
  {
   "cell_type": "code",
   "execution_count": 92,
   "metadata": {},
   "outputs": [
    {
     "name": "stdout",
     "output_type": "stream",
     "text": [
      "old text [500:1500]:\n",
      "+00 0.00000000000000000e+00 0.00000000000000000e+00 0.00000000000000000e+00 0.00000000000000000e+00 0.00000000000000000e+00 8.00000000000000044e-01 0.00000000000000000e+00 0.00000000000000000e+00 8.00000000000000044e-01 0.00000000000000000e+00 0.00000000000000000e+00 0.00000000000000000e+00 0.00000000000000000e+00 0.00000000000000000e+00 0.00000000000000000e+00 0.00000000000000000e+00 0.00000000000000000e+00 0.00000000000000000e+00 0.00000000000000000e+00 0.00000000000000000e+00 0.00000000000000000e+00 0.00000000000000000e+00 0.00000000000000000e+00 0.00000000000000000e+00 0.00000000000000000e+00 0.00000000000000000e+00 0.00000000000000000e+00 0.00000000000000000e+00 0.00000000000000000e+00 0.00000000000000000e+00 0.00000000000000000e+00 0.00000000000000000e+00 0.00000000000000000e+00 0.00000000000000000e+00 0.00000000000000000e+00 8.00000000000000044e-01 0.00000000000000000e+00 0.00000000000000000e+00 0.00000000000000000e+00 8.00000000000000044e-01 0.00000000000000000e+00 0.0000000000\n",
      "\n",
      "new text: [500:1500]\n",
      "+00 0.00000000000000000e+00 0.00000000000000000e+00 0.00000000000000000e+00 0.00000000000000000e+00 -8.00000000000000044e-01 8.00000000000000044e-01 0.00000000000000000e+00 0.00000000000000000e+00 8.00000000000000044e-01 0.00000000000000000e+00 0.00000000000000000e+00 0.00000000000000000e+00 0.00000000000000000e+00 0.00000000000000000e+00 0.00000000000000000e+00 0.00000000000000000e+00 0.00000000000000000e+00 0.00000000000000000e+00 0.00000000000000000e+00 0.00000000000000000e+00 0.00000000000000000e+00 0.00000000000000000e+00 0.00000000000000000e+00 0.00000000000000000e+00 0.00000000000000000e+00 0.00000000000000000e+00 0.00000000000000000e+00 0.00000000000000000e+00 0.00000000000000000e+00 0.00000000000000000e+00 0.00000000000000000e+00 0.00000000000000000e+00 0.00000000000000000e+00 0.00000000000000000e+00 0.00000000000000000e+00 8.00000000000000044e-01 0.00000000000000000e+00 0.00000000000000000e+00 0.00000000000000000e+00 8.00000000000000044e-01 0.00000000000000000e+00 0.000000000\n"
     ]
    }
   ],
   "source": [
    "from_c, to_c = 500, 1500\n",
    "print(f\"old text [{from_c}:{to_c}]:\")\n",
    "print(spon_curv.text[from_c:to_c])\n",
    "print(f'\\nnew text: [{from_c}:{to_c}]')\n",
    "print(new_spon_curv[from_c:to_c]) # peek at data"
   ]
  },
  {
   "cell_type": "code",
   "execution_count": 93,
   "metadata": {},
   "outputs": [],
   "source": [
    "spon_curv.text = new_spon_curv # update curvature text"
   ]
  },
  {
   "cell_type": "code",
   "execution_count": 94,
   "metadata": {},
   "outputs": [
    {
     "name": "stdout",
     "output_type": "stream",
     "text": [
      "['8.00000000000000044e-01', '0.00000000000000000e+00', '0.00000000000000000e+00', '0.00000000000000000e+00', '0.00000000000000000e+00', '0.00000000000000000e+00', '8.00000000000000044e-01', '0.00000000000000000e+00', '0.00000000000000000e+00', '0.00000000000000000e+00', '0.00000000000000000e+00', '0.00000000000000000e+00', '0.00000000000000000e+00', '0.00000000000000000e+00', '0.00000000000000000e+00', '-8.00000000000000044e-01', '8.00000000000000044e-01', '0.00000000000000000e+00', '0.00000000000000000e+00', '8.00000000000000044e-01']\n"
     ]
    }
   ],
   "source": [
    "#see that the change applied\n",
    "root2=tree.getroot()\n",
    "print(root2.findall('.//*[@Name=\"spontaneous_curvature\"]')[0].text.split(' ')[10:30])"
   ]
  },
  {
   "cell_type": "code",
   "execution_count": 95,
   "metadata": {},
   "outputs": [],
   "source": [
    "#!!! uncomment to modify the vtu file!!!\n",
    "#tree.write(r'/mnt/c/Users/yoavr/Desktop/paraview_pipeline/tests/round_100_neg.vtu',encoding=r'UTF-8')"
   ]
  },
  {
   "cell_type": "code",
   "execution_count": null,
   "metadata": {},
   "outputs": [],
   "source": []
  },
  {
   "cell_type": "code",
   "execution_count": null,
   "metadata": {},
   "outputs": [],
   "source": []
  }
 ],
 "metadata": {
  "kernelspec": {
   "display_name": "Python 3",
   "language": "python",
   "name": "python3"
  },
  "language_info": {
   "codemirror_mode": {
    "name": "ipython",
    "version": 3
   },
   "file_extension": ".py",
   "mimetype": "text/x-python",
   "name": "python",
   "nbconvert_exporter": "python",
   "pygments_lexer": "ipython3",
   "version": "3.8.5"
  }
 },
 "nbformat": 4,
 "nbformat_minor": 4
}
