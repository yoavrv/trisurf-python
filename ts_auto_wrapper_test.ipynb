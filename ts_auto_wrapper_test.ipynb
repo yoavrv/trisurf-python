{
 "cells": [
  {
   "cell_type": "markdown",
   "id": "b023b600-ac0a-4a88-a51f-251baebbf73f",
   "metadata": {},
   "source": [
    "# Tests and examples of how to use the ts_auto_wrapper #"
   ]
  },
  {
   "cell_type": "code",
   "execution_count": 1,
   "id": "2aa55631-d597-4547-8b04-567e55a8b1e8",
   "metadata": {},
   "outputs": [],
   "source": [
    "# python imports\n",
    "from glob import glob\n",
    "import ctypes\n",
    "import struct\n",
    "import sys\n",
    "from pathlib import Path\n",
    "# standard scientific packages\n",
    "import numpy as np\n",
    "import pandas\n",
    "# repository specific modules\n",
    "import vtu\n",
    "PyVtu = vtu.PyVtu\n",
    "import small_functions\n",
    "import ts_auto_wrapper\n",
    "TSWrapper = ts_auto_wrapper.TSWrapper"
   ]
  },
  {
   "cell_type": "code",
   "execution_count": 2,
   "id": "41eaa5bd-8826-48f4-a44d-d261b1bda465",
   "metadata": {},
   "outputs": [],
   "source": [
    "# import cffi # :( haven't managed to make it work"
   ]
  },
  {
   "cell_type": "markdown",
   "id": "46a33fec-90ba-4c21-aa2f-3def95066796",
   "metadata": {},
   "source": [
    "Test the wrapper: since the location of the trisurf library is not known, the module defines `TSWrapper` class which acts like a module. Both the module and the class have `help` documentation.  \n",
    "*The path to trisurf need to be changed*"
   ]
  },
  {
   "cell_type": "code",
   "execution_count": 3,
   "id": "a02be0b6-f70a-414a-94f4-b56a39feb90e",
   "metadata": {
    "scrolled": true,
    "tags": []
   },
   "outputs": [
    {
     "name": "stdout",
     "output_type": "stream",
     "text": [
      "Help on TSWrapper in module ts_auto_wrapper object:\n",
      "\n",
      "class TSWrapper(builtins.object)\n",
      " |  TSWrapper(path_to_trisurf='/opt/workspace/msc_project/cluster-trisurf', more_types=None)\n",
      " |  \n",
      " |  Class that instantiate a trisurf wrapper from a path.\n",
      " |  \n",
      " |  Design to act like a module i.e.\n",
      " |  >>> from ts_auto_wrapper import TSWrapper\n",
      " |  >>> ts = TSWrapper('/path/to/trisurf/project/trisurf_ng')\n",
      " |  Exposes python binding to the library using CDLL.\n",
      " |  Everything is available in ts.X, but they are also organized by types with faster autocompletes:\n",
      " |      ts.ts_types: classes for types (ts_vertex, ts_tape, ts_vesicle, ...)\n",
      " |      ts.functions: functions (init_vertex, parseDump, ...)\n",
      " |      ts.globals: global variables\n",
      " |      ts.enums: enum definitions\n",
      " |      ts.TS_...: several #defines are hardcoded (e.g. TS_SUCCESS)\n",
      " |  and misc. things: ctype function POINTER, pointer; a pretty_print, and a byte_to_int function\n",
      " |  \n",
      " |  The raw functions with 'restype' and 'argtypes' are available as in ts.functions._c_functionname\n",
      " |  The CDLL itself is available in ts.cdll\n",
      " |  \n",
      " |  The wrapper also requires knowledge on the names of types used by the libraries, such as\n",
      " |  'gsl_complex' and 'xmlDocPtr'. TSWrapper can accept a dictionary for more types {'name': ctypes.structure...}.\n",
      " |  \n",
      " |  Methods defined here:\n",
      " |  \n",
      " |  __init__(self, path_to_trisurf='/opt/workspace/msc_project/cluster-trisurf', more_types=None)\n",
      " |      Initializing the wrapper: Roughly the equivalent of a wrapper module code, indented twice.\n",
      " |  \n",
      " |  byte_to_int(self, byte)\n",
      " |  \n",
      " |  iter_xlist(self, vesiclePtr, xlist_name='vlist', as_pointer=False)\n",
      " |      Iterate over some vesicle->xlist->xs. Default vesicle->vlist->vtx[:vlist.n].\n",
      " |  \n",
      " |  pretty_print_struct(self, thing_c)\n",
      " |      Nicer string representation of a ctypes struct, like LP_ts_tape\n",
      " |  \n",
      " |  vertex_adhesion(self, vesicle, vtx)\n",
      " |      energy of a single vertex: piece of adhesion_energy_diff\n",
      " |  \n",
      " |  ----------------------------------------------------------------------\n",
      " |  Data descriptors defined here:\n",
      " |  \n",
      " |  __dict__\n",
      " |      dictionary for instance variables (if defined)\n",
      " |  \n",
      " |  __weakref__\n",
      " |      list of weak references to the object (if defined)\n",
      "\n"
     ]
    }
   ],
   "source": [
    "path_to_trisurf = Path(\"../cluster-trisurf\")\n",
    "if not path_to_trisurf.exists():\n",
    "    path_to_trisurf = Path(\"../../cluster-trisurf\")\n",
    "    if not path_to_trisurf.exists():\n",
    "        path_to_trisurf = Path(\"~/cluster_trisurf\")\n",
    "path_to_trisurf = path_to_trisurf.resolve()\n",
    "ts=TSWrapper(path_to_trisurf)\n",
    "help(ts)"
   ]
  },
  {
   "cell_type": "markdown",
   "id": "23c97fa5-12f9-458b-8fa4-8299dbb66827",
   "metadata": {},
   "source": [
    "We can compare an example vtu file between a `PyVtu` object from `vtu.py` versus the wrappers `ctypes` results.  \n",
    "*The .vtu file need to be changed. The file should match the trisurf version*"
   ]
  },
  {
   "cell_type": "code",
   "execution_count": 4,
   "id": "a153e7ed-51a2-4269-880a-b1e24eff8b87",
   "metadata": {},
   "outputs": [
    {
     "data": {
      "text/plain": [
       "<ts_auto_wrapper.LP_ts_vesicle at 0x7f6b197d7d40>"
      ]
     },
     "execution_count": 4,
     "metadata": {},
     "output_type": "execute_result"
    }
   ],
   "source": [
    "example_vtu_file = 'example/timestep_000009.vtu'\n",
    "v = PyVtu(example_vtu_file)\n",
    "vesicle = ts.parseDump(example_vtu_file) # pointer to the generated vesicle\n",
    "vesicle"
   ]
  },
  {
   "cell_type": "markdown",
   "id": "5ec5f2a5-8481-4979-9351-8827faa1fe67",
   "metadata": {},
   "source": [
    "The wrapper for trisurf `parseDump` return a `ctype` class: this represent a pointer (`LP_to_`) to a struct (`ts_vesicle`)."
   ]
  },
  {
   "cell_type": "markdown",
   "id": "491a396e-f50d-45bd-94e3-c79354a8b49e",
   "metadata": {},
   "source": [
    "We can test Samo's original version instead.  \n",
    "*The path to trisurf nede to be changed*"
   ]
  },
  {
   "cell_type": "code",
   "execution_count": 5,
   "id": "ff0a6439-a709-4bf2-99b2-abed80def7b7",
   "metadata": {},
   "outputs": [],
   "source": [
    "# path_to_trisurf = '/opt/workspace/msc_project/trisurf_samo/trisurf-ng'\n",
    "# ts = TSWrapper(path_to_trisurf)\n",
    "# example_vtu_file = '/opt/workspace/msc_project/simulations/QA_tests/cluster_version/feature_tests/test_wrapper_with_old_version/timestep_000000.vtu'\n",
    "# vesicle = ts.parseDump(example_vtu_file)\n",
    "# v = PyVtu(example_vtu_file)"
   ]
  },
  {
   "cell_type": "markdown",
   "id": "85d85a6a-0142-49c8-8daf-0bb953c261e6",
   "metadata": {},
   "source": [
    "Trisurf heavily uses *pointers-to-structs* `vesicle->vlist->vtx[6]->x`. The ctype translation is with .contents: `vesicle.contents.vlist.contents[6].contents.x`."
   ]
  },
  {
   "cell_type": "code",
   "execution_count": 6,
   "id": "b26c2a2c-0c7d-4faf-be1c-a56a41671747",
   "metadata": {},
   "outputs": [
    {
     "name": "stdout",
     "output_type": "stream",
     "text": [
      "type of vesicle center mass  <ts_auto_wrapper.c_double_Array_3 object at 0x7f6b1987ec40>\n"
     ]
    },
    {
     "data": {
      "text/plain": [
       "[0.0, 0.0, 0.0]"
      ]
     },
     "execution_count": 6,
     "metadata": {},
     "output_type": "execute_result"
    }
   ],
   "source": [
    "print(\"type of vesicle center mass \",vesicle.contents.cm) # vesicle { ts_double cm[3] ...}\n",
    "vesicle.contents.cm[:]"
   ]
  },
  {
   "cell_type": "markdown",
   "id": "b6898dd4-a371-4278-92f6-5bb2bca03384",
   "metadata": {},
   "source": [
    "We can use other functions in the library like `parsetape`.  \n",
    "The CDLL functions have set `argtypes` and `restype`, and are wrapped with a few more processing:\n",
    "* for strings, like paths to files, functions that need character arrays can recive strings.  \n",
    "* for out parameters, functions that need pointer to doubles instantiate and return them.  \n",
    "* If a string is modified by the function, the modified string is returned\n",
    "\n",
    "The docstring of the function list the actual, pre-proccessing signature and the post-processing return type. The \"Bare\" c function is available in `ts._c_`*function*"
   ]
  },
  {
   "cell_type": "code",
   "execution_count": 7,
   "id": "c9817cd7-800c-4c0c-846e-09f32d56cf1b",
   "metadata": {},
   "outputs": [
    {
     "data": {
      "text/plain": [
       "\u001b[0;31mSignature:\u001b[0m\n",
       "\u001b[0mts\u001b[0m\u001b[0;34m.\u001b[0m\u001b[0mparsetape\u001b[0m\u001b[0;34m(\u001b[0m\u001b[0;34m\u001b[0m\n",
       "\u001b[0;34m\u001b[0m    \u001b[0;34m*\u001b[0m\u001b[0margs\u001b[0m\u001b[0;34m,\u001b[0m\u001b[0;34m\u001b[0m\n",
       "\u001b[0;34m\u001b[0m    \u001b[0m_base_c_function\u001b[0m\u001b[0;34m=\u001b[0m\u001b[0;34m<\u001b[0m\u001b[0m_FuncPtr\u001b[0m \u001b[0mobject\u001b[0m \u001b[0mat\u001b[0m \u001b[0;36m0x7f6b196d4dc0\u001b[0m\u001b[0;34m>\u001b[0m\u001b[0;34m,\u001b[0m\u001b[0;34m\u001b[0m\n",
       "\u001b[0;34m\u001b[0m    \u001b[0marg_types\u001b[0m\u001b[0;34m=\u001b[0m\u001b[0;34m[\u001b[0m\u001b[0;34m<\u001b[0m\u001b[0;32mclass\u001b[0m \u001b[0;34m'ctypes.LP_c_char'\u001b[0m\u001b[0;34m>\u001b[0m\u001b[0;34m]\u001b[0m\u001b[0;34m,\u001b[0m\u001b[0;34m\u001b[0m\n",
       "\u001b[0;34m\u001b[0m    \u001b[0mprocess_args\u001b[0m\u001b[0;34m=\u001b[0m\u001b[0;34m[\u001b[0m\u001b[0;34m<\u001b[0m\u001b[0mfunction\u001b[0m \u001b[0mTSWrapper\u001b[0m\u001b[0;34m.\u001b[0m\u001b[0m__init__\u001b[0m\u001b[0;34m.\u001b[0m\u001b[0;34m<\u001b[0m\u001b[0mlocals\u001b[0m\u001b[0;34m>\u001b[0m\u001b[0;34m.\u001b[0m\u001b[0mprocess_str_to_buffer\u001b[0m \u001b[0mat\u001b[0m \u001b[0;36m0x7f6b1984a290\u001b[0m\u001b[0;34m>\u001b[0m\u001b[0;34m]\u001b[0m\u001b[0;34m,\u001b[0m\u001b[0;34m\u001b[0m\n",
       "\u001b[0;34m\u001b[0m    \u001b[0mprocess_out\u001b[0m\u001b[0;34m=\u001b[0m\u001b[0;34m[\u001b[0m\u001b[0;34m<\u001b[0m\u001b[0mfunction\u001b[0m \u001b[0mTSWrapper\u001b[0m\u001b[0;34m.\u001b[0m\u001b[0m__init__\u001b[0m\u001b[0;34m.\u001b[0m\u001b[0;34m<\u001b[0m\u001b[0mlocals\u001b[0m\u001b[0;34m>\u001b[0m\u001b[0;34m.\u001b[0m\u001b[0mprocess_neutral\u001b[0m \u001b[0mat\u001b[0m \u001b[0;36m0x7f6b1984a0e0\u001b[0m\u001b[0;34m>\u001b[0m\u001b[0;34m,\u001b[0m \u001b[0;34m<\u001b[0m\u001b[0mfunction\u001b[0m \u001b[0mTSWrapper\u001b[0m\u001b[0;34m.\u001b[0m\u001b[0m__init__\u001b[0m\u001b[0;34m.\u001b[0m\u001b[0;34m<\u001b[0m\u001b[0mlocals\u001b[0m\u001b[0;34m>\u001b[0m\u001b[0;34m.\u001b[0m\u001b[0mprocess_buffer_to_str\u001b[0m \u001b[0mat\u001b[0m \u001b[0;36m0x7f6b19849f30\u001b[0m\u001b[0;34m>\u001b[0m\u001b[0;34m]\u001b[0m\u001b[0;34m,\u001b[0m\u001b[0;34m\u001b[0m\n",
       "\u001b[0;34m\u001b[0m    \u001b[0mcheck_args\u001b[0m\u001b[0;34m=\u001b[0m\u001b[0;34m[\u001b[0m\u001b[0;34m<\u001b[0m\u001b[0mfunction\u001b[0m \u001b[0mTSWrapper\u001b[0m\u001b[0;34m.\u001b[0m\u001b[0m__init__\u001b[0m\u001b[0;34m.\u001b[0m\u001b[0;34m<\u001b[0m\u001b[0mlocals\u001b[0m\u001b[0;34m>\u001b[0m\u001b[0;34m.\u001b[0m\u001b[0mcheck_buffer_changed\u001b[0m \u001b[0mat\u001b[0m \u001b[0;36m0x7f6b19849ea0\u001b[0m\u001b[0;34m>\u001b[0m\u001b[0;34m]\u001b[0m\u001b[0;34m,\u001b[0m\u001b[0;34m\u001b[0m\n",
       "\u001b[0;34m\u001b[0m\u001b[0;34m)\u001b[0m\u001b[0;34m\u001b[0m\u001b[0;34m\u001b[0m\u001b[0m\n",
       "\u001b[0;31mDocstring:\u001b[0m Wrapper for parsetape with arguments , filename: c buffer or __str__. Return <class 'ts_auto_wrapper.LP_ts_tape'>, filename: c buffer or str\n",
       "\u001b[0;31mFile:\u001b[0m      ~/yoav/trisurf-python/ts_auto_wrapper.py\n",
       "\u001b[0;31mType:\u001b[0m      function"
      ]
     },
     "metadata": {},
     "output_type": "display_data"
    }
   ],
   "source": [
    "ts.parsetape?"
   ]
  },
  {
   "cell_type": "markdown",
   "id": "332e75f4-c307-4038-ba44-364537875a78",
   "metadata": {},
   "source": [
    "We can use trisurf to parse the default tape in the `/src/` folder  \n",
    "This works because `ts.parsetape` knows to first convert the input object to string with `str()` (in this case, a `Path` )"
   ]
  },
  {
   "cell_type": "code",
   "execution_count": 8,
   "id": "ac45582a-0a28-426a-a269-ace04383d38b",
   "metadata": {},
   "outputs": [
    {
     "data": {
      "text/plain": [
       "<ts_auto_wrapper.LP_ts_tape at 0x7f6b1987f1c0>"
      ]
     },
     "execution_count": 8,
     "metadata": {},
     "output_type": "execute_result"
    }
   ],
   "source": [
    "base_tape=ts.parsetape(ts.path_to_trisurf/'src/tape')\n",
    "base_tape"
   ]
  },
  {
   "cell_type": "markdown",
   "id": "69ced2c3-1e11-4679-b2b4-8083a83b7fb6",
   "metadata": {},
   "source": [
    "We can look at the tape using this helper function: this is meant to more easily print the tape or other ctypes structures"
   ]
  },
  {
   "cell_type": "code",
   "execution_count": 9,
   "id": "cfe56254-1034-481e-bebd-cb06268f8273",
   "metadata": {
    "scrolled": true,
    "tags": []
   },
   "outputs": [
    {
     "name": "stdout",
     "output_type": "stream",
     "text": [
      "<ts_auto_wrapper.LP_ts_tape object at 0x7f6b1987f1c0>\n",
      "    tape_text <ctypes.LP_c_char object at 0x7f6b1987f640>\n",
      "    R_nucleus 0.0\n",
      "    R_nucleusX 0.0\n",
      "    R_nucleusY 0.0\n",
      "    R_nucleusZ 0.0\n",
      "    xkA0 1.0\n",
      "    xkV0 1.0\n",
      "    V0 0.0\n",
      "    A0 0.0\n",
      "    Vfraction 1.0\n",
      "    constvolprecision 1e-14\n",
      "    xk0 20.0\n",
      "    xk2 -20.0\n",
      "    dmax 1.7\n",
      "    dmin_interspecies 1.2\n",
      "    stepsize 0.15\n",
      "    kspring 800.0\n",
      "    xi 100.0\n",
      "    pressure 0.0\n",
      "    c0 0.5\n",
      "    d0 0.5\n",
      "    w 1.0\n",
      "    F 1.0\n",
      "    plane_d 10.0\n",
      "    plane_F 1.0\n",
      "    vicsek_strength 0.1\n",
      "    vicsek_radius 4.0\n",
      "    adhesion_z -5.0\n",
      "    adhesion_cutoff 1.0\n",
      "    adhesion_strength 1.0\n",
      "    adhesion_radius 5.0\n",
      "    adhesion_scale 5.0\n",
      "    adhesion_factor 2.0\n",
      "    max_dihedral_angle_cosine -0.1\n",
      "    mcsweeps 1000\n",
      "    random_seed 0\n",
      "    iterations 10\n",
      "    inititer 0\n",
      "    nshell 10\n",
      "    ncxmax 100\n",
      "    ncymax 100\n",
      "    nczmax 100\n",
      "    number_of_vertices_with_c0 50\n",
      "    npoly 0\n",
      "    nmono 20\n",
      "    internal_poly 0\n",
      "    nfil 0\n",
      "    nfono 3\n",
      "    shc 0\n",
      "    pressure_switch b'\\x00'\n",
      "    volume_switch b'\\x00'\n",
      "    area_switch b'\\x00'\n",
      "    quiet b'\\x00'\n",
      "    plane_confinement_switch b'\\x00'\n",
      "    allow_center_mass_movement b'\\x00'\n",
      "    force_balance_along_z_axis b'\\x00'\n",
      "    prevent_obtuse_triangles b'\\x00'\n",
      "    debug_fields b'\\x01'\n",
      "    adhesion_geometry b'\\x00'\n",
      "    adhesion_model b'\\x00'\n",
      "    bond_model b'\\x00'\n",
      "    curvature_model b'%'\n",
      "    force_model b'\\x00'\n"
     ]
    }
   ],
   "source": [
    "print(ts.pretty_print_struct(base_tape))"
   ]
  },
  {
   "cell_type": "markdown",
   "id": "132b5571-add7-4fbb-8912-e3b09a8dea35",
   "metadata": {},
   "source": [
    "Let's compare the wrapper tape with the `small_functions.py` tape options extraction."
   ]
  },
  {
   "cell_type": "code",
   "execution_count": 10,
   "id": "7e61a0ad-4f10-41e0-8860-c79edb20a01a",
   "metadata": {
    "tags": []
   },
   "outputs": [
    {
     "data": {
      "text/html": [
       "<div>\n",
       "<style scoped>\n",
       "    .dataframe tbody tr th:only-of-type {\n",
       "        vertical-align: middle;\n",
       "    }\n",
       "\n",
       "    .dataframe tbody tr th {\n",
       "        vertical-align: top;\n",
       "    }\n",
       "\n",
       "    .dataframe thead th {\n",
       "        text-align: right;\n",
       "    }\n",
       "</style>\n",
       "<table border=\"1\" class=\"dataframe\">\n",
       "  <thead>\n",
       "    <tr style=\"text-align: right;\">\n",
       "      <th></th>\n",
       "      <th>&lt;ts_auto_wrapper.LP_ts_tape</th>\n",
       "      <th>tape_text</th>\n",
       "      <th>R_nucleus</th>\n",
       "      <th>R_nucleusX</th>\n",
       "      <th>R_nucleusY</th>\n",
       "      <th>R_nucleusZ</th>\n",
       "      <th>xkA0</th>\n",
       "      <th>xkV0</th>\n",
       "      <th>V0</th>\n",
       "      <th>A0</th>\n",
       "      <th>...</th>\n",
       "      <th>plane_confinement_switch</th>\n",
       "      <th>allow_center_mass_movement</th>\n",
       "      <th>force_balance_along_z_axis</th>\n",
       "      <th>prevent_obtuse_triangles</th>\n",
       "      <th>debug_fields</th>\n",
       "      <th>adhesion_geometry</th>\n",
       "      <th>adhesion_model</th>\n",
       "      <th>bond_model</th>\n",
       "      <th>curvature_model</th>\n",
       "      <th>force_model</th>\n",
       "    </tr>\n",
       "  </thead>\n",
       "  <tbody>\n",
       "    <tr>\n",
       "      <th>c</th>\n",
       "      <td>&lt;ts_auto_wrapper.LP_ts_tape object at 0x7f6b19...</td>\n",
       "      <td>tape_text &lt;ctypes.LP_c_char object at 0x7f...</td>\n",
       "      <td>R_nucleus 0.0</td>\n",
       "      <td>R_nucleusX 0.0</td>\n",
       "      <td>R_nucleusY 0.0</td>\n",
       "      <td>R_nucleusZ 0.0</td>\n",
       "      <td>xkA0 1.0</td>\n",
       "      <td>xkV0 1.0</td>\n",
       "      <td>V0 0.0</td>\n",
       "      <td>A0 0.0</td>\n",
       "      <td>...</td>\n",
       "      <td>plane_confinement_switch b'\\x00'</td>\n",
       "      <td>allow_center_mass_movement b'\\x00'</td>\n",
       "      <td>force_balance_along_z_axis b'\\x00'</td>\n",
       "      <td>prevent_obtuse_triangles b'\\x00'</td>\n",
       "      <td>debug_fields b'\\x01'</td>\n",
       "      <td>adhesion_geometry b'\\x00'</td>\n",
       "      <td>adhesion_model b'\\x00'</td>\n",
       "      <td>bond_model b'\\x00'</td>\n",
       "      <td>curvature_model b'%'</td>\n",
       "      <td>force_model b'\\x00'</td>\n",
       "    </tr>\n",
       "    <tr>\n",
       "      <th>python</th>\n",
       "      <td>None</td>\n",
       "      <td>None</td>\n",
       "      <td>0</td>\n",
       "      <td>0</td>\n",
       "      <td>0</td>\n",
       "      <td>0</td>\n",
       "      <td>1.0</td>\n",
       "      <td>1.0</td>\n",
       "      <td>0</td>\n",
       "      <td>0</td>\n",
       "      <td>...</td>\n",
       "      <td>0</td>\n",
       "      <td>0</td>\n",
       "      <td>0</td>\n",
       "      <td>None</td>\n",
       "      <td>1</td>\n",
       "      <td>0</td>\n",
       "      <td>0</td>\n",
       "      <td>0</td>\n",
       "      <td>37</td>\n",
       "      <td>0</td>\n",
       "    </tr>\n",
       "  </tbody>\n",
       "</table>\n",
       "<p>2 rows × 64 columns</p>\n",
       "</div>"
      ],
      "text/plain": [
       "                              <ts_auto_wrapper.LP_ts_tape  \\\n",
       "c       <ts_auto_wrapper.LP_ts_tape object at 0x7f6b19...   \n",
       "python                                               None   \n",
       "\n",
       "                                                tape_text          R_nucleus  \\\n",
       "c           tape_text <ctypes.LP_c_char object at 0x7f...      R_nucleus 0.0   \n",
       "python                                               None                  0   \n",
       "\n",
       "                R_nucleusX          R_nucleusY          R_nucleusZ  \\\n",
       "c           R_nucleusX 0.0      R_nucleusY 0.0      R_nucleusZ 0.0   \n",
       "python                   0                   0                   0   \n",
       "\n",
       "                xkA0          xkV0          V0          A0  ...  \\\n",
       "c           xkA0 1.0      xkV0 1.0      V0 0.0      A0 0.0  ...   \n",
       "python           1.0           1.0           0           0  ...   \n",
       "\n",
       "                    plane_confinement_switch  \\\n",
       "c           plane_confinement_switch b'\\x00'   \n",
       "python                                     0   \n",
       "\n",
       "                    allow_center_mass_movement  \\\n",
       "c           allow_center_mass_movement b'\\x00'   \n",
       "python                                       0   \n",
       "\n",
       "                    force_balance_along_z_axis  \\\n",
       "c           force_balance_along_z_axis b'\\x00'   \n",
       "python                                       0   \n",
       "\n",
       "                    prevent_obtuse_triangles              debug_fields  \\\n",
       "c           prevent_obtuse_triangles b'\\x00'      debug_fields b'\\x01'   \n",
       "python                                  None                         1   \n",
       "\n",
       "                    adhesion_geometry              adhesion_model  \\\n",
       "c           adhesion_geometry b'\\x00'      adhesion_model b'\\x00'   \n",
       "python                              0                           0   \n",
       "\n",
       "                    bond_model           curvature_model  \\\n",
       "c           bond_model b'\\x00'      curvature_model b'%'   \n",
       "python                       0                        37   \n",
       "\n",
       "                    force_model  \n",
       "c           force_model b'\\x00'  \n",
       "python                        0  \n",
       "\n",
       "[2 rows x 64 columns]"
      ]
     },
     "execution_count": 10,
     "metadata": {},
     "output_type": "execute_result"
    }
   ],
   "source": [
    "tstape = ts.pretty_print_struct(base_tape)\n",
    "with open(ts.path_to_trisurf/'src/tape','r') as f:\n",
    "    pytape = small_functions.get_tape_options(f.read())\n",
    "all_lines = {}\n",
    "for line1 in tstape.splitlines():\n",
    "    first=line1.split()[0]\n",
    "    if first in pytape:\n",
    "        all_lines[first] = [line1, pytape[first]]\n",
    "    else:\n",
    "        all_lines[first] = [line1, None]\n",
    "pandas.DataFrame(all_lines, index=['c','python'])"
   ]
  },
  {
   "cell_type": "markdown",
   "id": "ed19cb65-7e02-4c2a-8eb5-1f897c146cd6",
   "metadata": {},
   "source": [
    "Both agree on their values of the options (this is not trivial, since structure misalignment can corrupt the values)"
   ]
  },
  {
   "cell_type": "markdown",
   "id": "a65ead22-cbce-4329-995a-9c0875585dfe",
   "metadata": {},
   "source": [
    "Here we look at the spontaneous curvature of each vertex `vtx.c` with id between 50 to 100. This is not exactly ergonomic."
   ]
  },
  {
   "cell_type": "code",
   "execution_count": 11,
   "id": "53ec70d1-2638-4a0b-bb46-5f1f46713d77",
   "metadata": {
    "tags": []
   },
   "outputs": [
    {
     "data": {
      "text/plain": [
       "array([0. , 0. , 0. , 0. , 0. , 0. , 0. , 0. , 0. , 0. , 0. , 0. , 0. ,\n",
       "       0. , 0. , 0. , 0. , 0. , 0. , 0. , 0. , 0. , 0. , 0. , 0. , 0. ,\n",
       "       0. , 0. , 0. , 0. , 0. , 0. , 0. , 0. , 0. , 0. , 0. , 0. , 0. ,\n",
       "       0. , 0. , 0. , 0. , 0. , 0. , 0.5, 0. , 0. , 0. , 0. ])"
      ]
     },
     "execution_count": 11,
     "metadata": {},
     "output_type": "execute_result"
    }
   ],
   "source": [
    "np.array([vesicle.contents.vlist.contents.vtx[i].contents.c for i in range(50,100)])"
   ]
  },
  {
   "cell_type": "markdown",
   "id": "dfbe33d3-045b-4f07-9cfe-0d2893d33dc2",
   "metadata": {},
   "source": [
    "A helper function `iter_xlist` exists in the wrapper. It defaults to iterating over vlist structs"
   ]
  },
  {
   "cell_type": "code",
   "execution_count": 12,
   "id": "69ece1ca-ab89-47ac-b365-682978c611b7",
   "metadata": {},
   "outputs": [
    {
     "data": {
      "text/plain": [
       "array([0. , 0. , 0. , 0. , 0. , 0. , 0. , 0. , 0. , 0. , 0. , 0. , 0. ,\n",
       "       0. , 0. , 0. , 0. , 0. , 0. , 0. , 0. , 0. , 0. , 0. , 0. , 0. ,\n",
       "       0. , 0. , 0. , 0. , 0. , 0. , 0. , 0. , 0. , 0. , 0. , 0. , 0. ,\n",
       "       0. , 0. , 0. , 0. , 0. , 0. , 0.5, 0. , 0. , 0. , 0. ])"
      ]
     },
     "execution_count": 12,
     "metadata": {},
     "output_type": "execute_result"
    }
   ],
   "source": [
    "np.array([x.c for x in ts.iter_xlist(vesicle)])[50:100]"
   ]
  },
  {
   "cell_type": "markdown",
   "id": "6418ad05-6462-4161-86c0-ddfc560f63b8",
   "metadata": {},
   "source": [
    "But it can be used to iterate over the other `x`lists, and to produce the pointers instead"
   ]
  },
  {
   "cell_type": "code",
   "execution_count": 13,
   "id": "b92ac24c-ad1b-46a5-ba80-fd84f19c48f2",
   "metadata": {},
   "outputs": [
    {
     "data": {
      "text/plain": [
       "(0.15662035189796142, -0.28231929755143637, -0.9464490898096011)"
      ]
     },
     "execution_count": 13,
     "metadata": {},
     "output_type": "execute_result"
    }
   ],
   "source": [
    "t=next(ts.iter_xlist(vesicle,'tlist',as_pointer=True))\n",
    "t.contents.xnorm, t.contents.ynorm,t.contents.znorm"
   ]
  },
  {
   "cell_type": "code",
   "execution_count": 14,
   "id": "10f5fca6-73d8-4553-962b-25944fc295d8",
   "metadata": {},
   "outputs": [
    {
     "name": "stdout",
     "output_type": "stream",
     "text": [
      "cells occupied: 502/1000000, for occupied, mean occupation 1.0+-0.0\n"
     ]
    }
   ],
   "source": [
    "cells_dict = {}\n",
    "for cell in ts.iter_xlist(vesicle,'clist'):\n",
    "    if cell.nvertex!=0:\n",
    "        cells_dict[cell.idx]=cell.nvertex\n",
    "print(f\"cells occupied: {len(cells_dict)}/{vesicle.contents.clist.contents.cellno}, for occupied, mean occupation {np.array((*cells_dict.values(),)).mean()}+-{np.array((*cells_dict.values(),)).std()}\")"
   ]
  },
  {
   "cell_type": "markdown",
   "id": "fed04e86-30ab-4742-a4e4-ad7103a11cf1",
   "metadata": {},
   "source": [
    "We can compare the mean curvature from trisurf versus the mean curvature from the .vtu. There may be factors of 2."
   ]
  },
  {
   "cell_type": "code",
   "execution_count": 15,
   "id": "ba58a7e6-8007-44ae-9345-86b89e3d380b",
   "metadata": {},
   "outputs": [
    {
     "data": {
      "text/plain": [
       "(39.11237755627411, 78.22475511254822)"
      ]
     },
     "execution_count": 15,
     "metadata": {},
     "output_type": "execute_result"
    }
   ],
   "source": [
    "ts.functions.vesicle_meancurvature(vesicle), v.mean_curvature.sum()"
   ]
  },
  {
   "cell_type": "code",
   "execution_count": 16,
   "id": "521121a2-b86b-405a-bc9c-5477e7824d7f",
   "metadata": {},
   "outputs": [
    {
     "data": {
      "text/plain": [
       "[ts_auto_wrapper.LP_ts_vesicle,\n",
       " ts_auto_wrapper.LP_ts_vertex,\n",
       " ts_auto_wrapper.LP_ts_vertex]"
      ]
     },
     "execution_count": 16,
     "metadata": {},
     "output_type": "execute_result"
    }
   ],
   "source": [
    "ts.functions._c_direct_force_energy.argtypes"
   ]
  },
  {
   "cell_type": "markdown",
   "id": "752a2382-ea88-447e-beb6-6b2fc98dacd8",
   "metadata": {},
   "source": [
    "Here we look at the force acting on a vertex directly based on the CDLL:  \n",
    "* we take the first active vertex `vtx`\n",
    "* we create three dummy vertices with position at 1 unit before\n",
    "* we calculate the work on each vertex with using the dummy vertex as the starting position\n",
    "* $W=-f\\cdot dx$, so we get the force in each direction\n",
    "* we then compare it with the PyVtu"
   ]
  },
  {
   "cell_type": "code",
   "execution_count": 17,
   "id": "0381923e-e526-4f57-9ec8-cdc74eddb353",
   "metadata": {},
   "outputs": [
    {
     "name": "stdout",
     "output_type": "stream",
     "text": [
      "z in first active vertex:\n",
      "vlist->vtx[0]->z=5.916821879177588 \n",
      "PyVtu z: 5.916821879177588\n"
     ]
    }
   ],
   "source": [
    "first_active = v.indices[v.type==47][0]\n",
    "\n",
    "vtx=vesicle.contents.vlist.contents.vtx[first_active]\n",
    "print(f\"z in first active vertex:\\nvlist->vtx[{first_active}]->z={vtx.contents.z}\",f\"\\nPyVtu z:\",v.pos[first_active,2])"
   ]
  },
  {
   "cell_type": "code",
   "execution_count": 18,
   "id": "92cbea66-c1b4-4e10-895b-e3dfda85409b",
   "metadata": {},
   "outputs": [],
   "source": [
    "# dummy starting positions: dx=x̂, dx=ŷ dx=ẑ\n",
    "vtx_oldx=ts.ts_vertex(x=vtx.contents.x-1, y=vtx.contents.y,   z=vtx.contents.z)\n",
    "vtx_oldy=ts.ts_vertex(x=vtx.contents.x,   y=vtx.contents.y-1, z=vtx.contents.z)\n",
    "vtx_oldz=ts.ts_vertex(x=vtx.contents.x,   y=vtx.contents.y,   z=vtx.contents.z-1)"
   ]
  },
  {
   "cell_type": "code",
   "execution_count": 19,
   "id": "bea5e660-880e-415a-af09-28dd37d62b36",
   "metadata": {},
   "outputs": [
    {
     "name": "stdout",
     "output_type": "stream",
     "text": [
      "trisurf force: -0.15401958646749273 0.21741111965676563 0.9638518413293475 vtu force:  [-0.14960309  0.20967829  0.96625769]\n"
     ]
    }
   ],
   "source": [
    "fx = -ts.direct_force_energy(vesicle,vtx,ctypes.pointer(vtx_oldx)) # using the wrapper function\n",
    "\n",
    "fy = -ts.functions._c_direct_force_energy(vesicle,vtx,ctypes.pointer(vtx_oldy)) # using the underlying cdell function with restype and argtype\n",
    "\n",
    "ts.cdll.direct_force_energy.restype=ctypes.c_double # using the cdll function directly\n",
    "fz = -ts.cdll.direct_force_energy(vesicle, vtx, ctypes.pointer(vtx_oldz))\n",
    "\n",
    "print(\"trisurf force:\",fx,fy,fz,\"vtu force: \",v.force[first_active])"
   ]
  },
  {
   "cell_type": "markdown",
   "id": "0ad710df-6761-4740-a887-5c6fa1b7bb3f",
   "metadata": {},
   "source": [
    "Some more uses:"
   ]
  },
  {
   "cell_type": "markdown",
   "id": "8b9cd703-b678-4fa4-99ab-2adc7a44a0e1",
   "metadata": {},
   "source": [
    "Parsing types based on the known types"
   ]
  },
  {
   "cell_type": "code",
   "execution_count": 20,
   "id": "1509b265-2e10-4f18-add2-b074bd6d2efb",
   "metadata": {},
   "outputs": [
    {
     "data": {
      "text/plain": [
       "('int', {'stuff': ts_auto_wrapper.LP_LP_c_int})"
      ]
     },
     "execution_count": 20,
     "metadata": {},
     "output_type": "execute_result"
    }
   ],
   "source": [
    "ts_auto_wrapper.parse_type(\"int **stuff\",ts.ts_types)"
   ]
  },
  {
   "cell_type": "markdown",
   "id": "9069e0d1-35b0-468f-b563-513e9820a360",
   "metadata": {},
   "source": [
    "byte to int"
   ]
  },
  {
   "cell_type": "code",
   "execution_count": 21,
   "id": "93173a7b-0227-4ff6-8a2a-76e88c5194ee",
   "metadata": {},
   "outputs": [
    {
     "data": {
      "text/plain": [
       "(b'\\x00', 0)"
      ]
     },
     "execution_count": 21,
     "metadata": {},
     "output_type": "execute_result"
    }
   ],
   "source": [
    "bond_model = vesicle.contents.tape.contents.bond_model\n",
    "bond_model, ts.byte_to_int(bond_model)"
   ]
  },
  {
   "cell_type": "markdown",
   "id": "272adc6e-0cb4-4b1b-a02c-457c72b8581f",
   "metadata": {},
   "source": [
    "Clusterize vesicle from python  \n",
    "We need to create a cluster list, set all the cluster pointers in the vertices to NULL, and then run the clusterization algorithm"
   ]
  },
  {
   "cell_type": "code",
   "execution_count": 22,
   "id": "055af5c7-8861-4455-84ec-90acdd8694be",
   "metadata": {},
   "outputs": [
    {
     "data": {
      "text/plain": [
       "True"
      ]
     },
     "execution_count": 22,
     "metadata": {},
     "output_type": "execute_result"
    }
   ],
   "source": [
    "cluster_list = ts.init_cluster_list()\n",
    "for vtxPtr in ts.iter_xlist(vesicle,as_pointer=True):\n",
    "    vtxPtr.contents.cluster=None\n",
    "ts.clusterize_vesicle(vesicle,cluster_list)"
   ]
  },
  {
   "cell_type": "code",
   "execution_count": 23,
   "id": "7aed7e3a-ade4-466d-bc85-9568abb7f1e8",
   "metadata": {},
   "outputs": [
    {
     "data": {
      "text/plain": [
       "32"
      ]
     },
     "execution_count": 23,
     "metadata": {},
     "output_type": "execute_result"
    }
   ],
   "source": [
    "cluster_list.contents.n"
   ]
  },
  {
   "cell_type": "markdown",
   "id": "ea89b0ca-cd6c-4f80-9577-7235aab9258e",
   "metadata": {},
   "source": [
    "We can manually run a timestep"
   ]
  },
  {
   "cell_type": "code",
   "execution_count": 24,
   "id": "e28fd5b7-bb50-4f70-abc3-42c4144b6dbf",
   "metadata": {},
   "outputs": [
    {
     "data": {
      "text/plain": [
       "(True, 0.45219123505976094, 0.022576361221779546)"
      ]
     },
     "execution_count": 24,
     "metadata": {},
     "output_type": "execute_result"
    }
   ],
   "source": [
    "ts.functions.single_timestep(vesicle)"
   ]
  },
  {
   "cell_type": "markdown",
   "id": "35c47572-bfe9-4e11-a28f-7be93742e0d6",
   "metadata": {
    "tags": []
   },
   "source": [
    "#### Test the --tape-options method\n",
    "This will only work in cluster-trisurf versions!"
   ]
  },
  {
   "cell_type": "markdown",
   "id": "29e7c669-ebdf-4588-86b1-c466055b977b",
   "metadata": {},
   "source": [
    "Ctypes is a little awkward for strings: in principle, we need to use string buffer if our functions change anything"
   ]
  },
  {
   "cell_type": "code",
   "execution_count": 25,
   "id": "0a80e43b-ac66-4370-9c41-46044809d096",
   "metadata": {},
   "outputs": [
    {
     "name": "stdout",
     "output_type": "stream",
     "text": [
      "#TAPE\n",
      "nshell=50\n",
      "iterations=100\n",
      "opt=7\n",
      "#DONE \n",
      "replacement options: ,nshell=40,,-iterations,opt9=blue,-opt=4,#hello,,,\n"
     ]
    }
   ],
   "source": [
    "tape=\"#TAPE\\nnshell=50\\niterations=100\\nopt=7\\n#DONE\"\n",
    "opts=\",nshell=40,,-iterations,opt9=blue,-opt=4,#hello,,,\"\n",
    "print(tape,'\\nreplacement options:',opts)"
   ]
  },
  {
   "cell_type": "code",
   "execution_count": 26,
   "id": "f39d7113-1976-4941-b2fd-f1e3a11c11a3",
   "metadata": {},
   "outputs": [],
   "source": [
    "my_tape=ctypes.create_string_buffer(tape.encode(\"ascii\"), size=1024)\n",
    "my_opts=ctypes.create_string_buffer(opts.encode(\"ascii\"),size=1024)"
   ]
  },
  {
   "cell_type": "code",
   "execution_count": 27,
   "id": "5a697182-8065-4022-81a4-427ef30f9550",
   "metadata": {},
   "outputs": [
    {
     "data": {
      "text/plain": [
       "<ts_auto_wrapper.c_char_Array_1024 at 0x7f6b176512c0>"
      ]
     },
     "execution_count": 27,
     "metadata": {},
     "output_type": "execute_result"
    }
   ],
   "source": [
    "my_tape"
   ]
  },
  {
   "cell_type": "markdown",
   "id": "a87cefa1-4d05-4255-a3a7-eba8f39492a8",
   "metadata": {},
   "source": [
    "Directly use the CDLL function without pre-processing"
   ]
  },
  {
   "cell_type": "code",
   "execution_count": 28,
   "id": "852164ee-3238-469a-9e9f-547fae0ae95d",
   "metadata": {},
   "outputs": [
    {
     "data": {
      "text/plain": [
       "b'\\x00'"
      ]
     },
     "execution_count": 28,
     "metadata": {},
     "output_type": "execute_result"
    }
   ],
   "source": [
    "ts.functions._c_update_tapetxt(my_tape,my_opts)"
   ]
  },
  {
   "cell_type": "code",
   "execution_count": 29,
   "id": "8a19cded-adbd-4688-ac6b-d7f0d2bc85d4",
   "metadata": {},
   "outputs": [
    {
     "name": "stdout",
     "output_type": "stream",
     "text": [
      "#TAPE\n",
      "nshell=40\n",
      "\n",
      "opt=7\n",
      "#DONE\n",
      "\n",
      "#--tape-options\n",
      "#removed iterations\n",
      "opt9=blue\n",
      "#hello\n",
      "\n"
     ]
    }
   ],
   "source": [
    "print(my_tape.value.decode())"
   ]
  },
  {
   "cell_type": "markdown",
   "id": "dff40235-0acc-4cd3-9b37-1e3e7cb88c59",
   "metadata": {},
   "source": [
    "The pre-process wrapper functions will compromise: it takes regular strings, but if they change, it returns the changed string"
   ]
  },
  {
   "cell_type": "code",
   "execution_count": 30,
   "id": "50e48529-23dd-42a6-a093-da154251d15f",
   "metadata": {},
   "outputs": [],
   "source": [
    "ret=ts.update_tapetxt(tape,opts)"
   ]
  },
  {
   "cell_type": "code",
   "execution_count": 31,
   "id": "2d314b66-b830-430e-8c74-3ee427139fb0",
   "metadata": {},
   "outputs": [
    {
     "data": {
      "text/plain": [
       "(True,\n",
       " '#TAPE\\nnshell=40\\n\\nopt=7\\n#DONE\\n\\n#--tape-options\\n#removed iterations\\nopt9=blue\\n#hello\\n')"
      ]
     },
     "execution_count": 31,
     "metadata": {},
     "output_type": "execute_result"
    }
   ],
   "source": [
    "ret"
   ]
  },
  {
   "cell_type": "code",
   "execution_count": 32,
   "id": "07a61c8c-7d3a-4125-b563-9d402cd097bb",
   "metadata": {},
   "outputs": [
    {
     "name": "stdout",
     "output_type": "stream",
     "text": [
      "#TAPE\n",
      "nshell=40\n",
      "\n",
      "opt=7\n",
      "#DONE\n",
      "\n",
      "#--tape-options\n",
      "#removed iterations\n",
      "opt9=blue\n",
      "#hello\n",
      "\n"
     ]
    }
   ],
   "source": [
    "print(ret[1])"
   ]
  },
  {
   "cell_type": "markdown",
   "id": "999b8cfc-eb4b-4420-8b93-17b588a70469",
   "metadata": {},
   "source": [
    "So if nothing is changed, the wrapper does not return the string"
   ]
  },
  {
   "cell_type": "code",
   "execution_count": 33,
   "id": "a76ecc3c-a460-4f94-b60c-c3c3500d388d",
   "metadata": {},
   "outputs": [],
   "source": [
    "ret=ts.update_tapetxt(tape,\"\")"
   ]
  },
  {
   "cell_type": "code",
   "execution_count": 34,
   "id": "f5855e10-2d18-4788-814f-a088513dc196",
   "metadata": {},
   "outputs": [
    {
     "data": {
      "text/plain": [
       "True"
      ]
     },
     "execution_count": 34,
     "metadata": {},
     "output_type": "execute_result"
    }
   ],
   "source": [
    "ret"
   ]
  }
 ],
 "metadata": {
  "kernelspec": {
   "display_name": "Python 3 (ipykernel)",
   "language": "python",
   "name": "python3"
  },
  "language_info": {
   "codemirror_mode": {
    "name": "ipython",
    "version": 3
   },
   "file_extension": ".py",
   "mimetype": "text/x-python",
   "name": "python",
   "nbconvert_exporter": "python",
   "pygments_lexer": "ipython3",
   "version": "3.10.9"
  },
  "vscode": {
   "interpreter": {
    "hash": "916dbcbb3f70747c44a77c7bcd40155683ae19c65e1c03b4aa3499c5328201f1"
   }
  }
 },
 "nbformat": 4,
 "nbformat_minor": 5
}
