{
 "cells": [
  {
   "cell_type": "code",
   "execution_count": 1,
   "id": "2aa55631-d597-4547-8b04-567e55a8b1e8",
   "metadata": {},
   "outputs": [],
   "source": [
    "# python imports\n",
    "from glob import glob\n",
    "import ctypes\n",
    "import struct\n",
    "import sys\n",
    "from pathlib import Path\n",
    "# standard scientific packages\n",
    "import numpy as np\n",
    "import pandas\n",
    "# repository specific modules\n",
    "import vtu\n",
    "PyVtu = vtu.PyVtu\n",
    "import small_functions\n",
    "import ts_auto_wrapper\n",
    "TSWrapper = ts_auto_wrapper.TSWrapper"
   ]
  },
  {
   "cell_type": "code",
   "execution_count": 2,
   "id": "41eaa5bd-8826-48f4-a44d-d261b1bda465",
   "metadata": {},
   "outputs": [],
   "source": [
    "# import cffi # :( haven't managed to make it work"
   ]
  },
  {
   "cell_type": "markdown",
   "id": "46a33fec-90ba-4c21-aa2f-3def95066796",
   "metadata": {},
   "source": [
    "Test the wrapper: since the location of the trisurf library is not known, the module defines `TSWrapper` class which acts like a module. Both the module and the class have `help` documentation.  \n",
    "*The path to trisurf need to be changed*"
   ]
  },
  {
   "cell_type": "code",
   "execution_count": 3,
   "id": "a02be0b6-f70a-414a-94f4-b56a39feb90e",
   "metadata": {
    "scrolled": true,
    "tags": []
   },
   "outputs": [
    {
     "name": "stdout",
     "output_type": "stream",
     "text": [
      "Help on TSWrapper in module ts_auto_wrapper object:\n",
      "\n",
      "class TSWrapper(builtins.object)\n",
      " |  TSWrapper(path_to_trisurf='/opt/workspace/msc_project/cluster-trisurf', more_types=None)\n",
      " |  \n",
      " |  Class that instantiate a trisurf wrapper from a path.\n",
      " |  \n",
      " |  Design to act like a module i.e.\n",
      " |  >>> from ts_auto_wrapper import TSWrapper\n",
      " |  >>> ts = TSWrapper('/path/to/trisurf/project/trisurf_ng')\n",
      " |  Exposes python binding to the library using CDLL.\n",
      " |  Everything is available in ts.X, but they are also organized by types with faster autocompletes:\n",
      " |      ts.ts_types: classes for types (ts_vertex, ts_tape, ts_vesicle, ...)\n",
      " |      ts.functions: functions (init_vertex, parseDump, ...)\n",
      " |      ts.globals: global variables\n",
      " |      ts.enums: enum definitions\n",
      " |      ts.TS_...: several #defines are hardcoded (e.g. TS_SUCCESS)\n",
      " |  and misc. things: ctype function POINTER, pointer; a pretty_print, and a byte_to_int function\n",
      " |  \n",
      " |  The raw functions with 'restype' and 'argtypes' are available as in ts.functions._c_functionname\n",
      " |  The CDLL itself is available in ts.cdll\n",
      " |  \n",
      " |  The wrapper also requires knowledge on the names of types used by the libraries, such as\n",
      " |  'gsl_complex' and 'xmlDocPtr'. TSWrapper can accept a dictionary for more types {'name': ctypes.structure...}.\n",
      " |  \n",
      " |  Methods defined here:\n",
      " |  \n",
      " |  __init__(self, path_to_trisurf='/opt/workspace/msc_project/cluster-trisurf', more_types=None)\n",
      " |      Initializing the wrapper: Roughly the equivalent of a wrapper module code, indented twice.\n",
      " |  \n",
      " |  byte_to_int(self, byte)\n",
      " |  \n",
      " |  pretty_text(self, thing_c)\n",
      " |      Nicer string representation of a ctypes struct, like LP_ts_tape\n",
      " |  \n",
      " |  vertex_adhesion(self, vesicle, vtx)\n",
      " |      energy of a single vertex: piece of adhesion_energy_diff\n",
      " |  \n",
      " |  ----------------------------------------------------------------------\n",
      " |  Data descriptors defined here:\n",
      " |  \n",
      " |  __dict__\n",
      " |      dictionary for instance variables (if defined)\n",
      " |  \n",
      " |  __weakref__\n",
      " |      list of weak references to the object (if defined)\n",
      "\n"
     ]
    }
   ],
   "source": [
    "path_to_trisurf = Path(\"/opt/workspace/msc_project/cluster-trisurf\")\n",
    "ts=TSWrapper(path_to_trisurf)\n",
    "help(ts)"
   ]
  },
  {
   "cell_type": "markdown",
   "id": "23c97fa5-12f9-458b-8fa4-8299dbb66827",
   "metadata": {},
   "source": [
    "We can compare an example vtu file between a `PyVtu` object from `vtu.py` versus the wrappers `ctypes` results.  \n",
    "*The .vtu file need to be changed. The file should match the trisurf version*"
   ]
  },
  {
   "cell_type": "code",
   "execution_count": 5,
   "id": "a153e7ed-51a2-4269-880a-b1e24eff8b87",
   "metadata": {},
   "outputs": [
    {
     "data": {
      "text/plain": [
       "<ts_auto_wrapper.LP_ts_vesicle at 0x7f2f9ded9840>"
      ]
     },
     "execution_count": 5,
     "metadata": {},
     "output_type": "execute_result"
    }
   ],
   "source": [
    "example_vtu_file = '/mnt/c/Users/yoavr/Desktop/timestep_000087.vtu'\n",
    "v = PyVtu(example_vtu_file)\n",
    "vesicle = ts.parseDump(example_vtu_file) # pointer to the generated vesicle\n",
    "vesicle"
   ]
  },
  {
   "cell_type": "markdown",
   "id": "5ec5f2a5-8481-4979-9351-8827faa1fe67",
   "metadata": {},
   "source": [
    "The wrapper for trisurf `parseDump` return a `ctype` class: this represent a pointer (`LP_to_`) to a struct (`ts_vesicle`)."
   ]
  },
  {
   "cell_type": "markdown",
   "id": "491a396e-f50d-45bd-94e3-c79354a8b49e",
   "metadata": {},
   "source": [
    "We can test Samo's original version instead.  \n",
    "*The path to trisurf nede to be changed*"
   ]
  },
  {
   "cell_type": "code",
   "execution_count": 6,
   "id": "ff0a6439-a709-4bf2-99b2-abed80def7b7",
   "metadata": {},
   "outputs": [],
   "source": [
    "# path_to_trisurf = '/opt/workspace/msc_project/trisurf_samo/trisurf-ng'\n",
    "# ts = TSWrapper(path_to_trisurf)\n",
    "# example_vtu_file = '/opt/workspace/msc_project/simulations/QA_tests/cluster_version/feature_tests/test_wrapper_with_old_version/timestep_000000.vtu'\n",
    "# vesicle = ts.parseDump(example_vtu_file)\n",
    "# v = PyVtu(example_vtu_file)"
   ]
  },
  {
   "cell_type": "markdown",
   "id": "85d85a6a-0142-49c8-8daf-0bb953c261e6",
   "metadata": {},
   "source": [
    "Trisurf heavily uses *pointers-to-structs* `vesicle->vlist->vtx[6]->x`. The ctype translation is with .contents: `vesicle.contents.vlist.contents[6].contents.x`."
   ]
  },
  {
   "cell_type": "code",
   "execution_count": 7,
   "id": "b26c2a2c-0c7d-4faf-be1c-a56a41671747",
   "metadata": {},
   "outputs": [
    {
     "name": "stdout",
     "output_type": "stream",
     "text": [
      "type of vesicle center mass  <ts_auto_wrapper.c_double_Array_3 object at 0x7f2f9b62a7c0>\n"
     ]
    },
    {
     "data": {
      "text/plain": [
       "[0.0, 0.0, 0.0]"
      ]
     },
     "execution_count": 7,
     "metadata": {},
     "output_type": "execute_result"
    }
   ],
   "source": [
    "print(\"type of vesicle center mass \",vesicle.contents.cm) # vesicle { ts_double cm[3] ...}\n",
    "vesicle.contents.cm[:]"
   ]
  },
  {
   "cell_type": "markdown",
   "id": "b6898dd4-a371-4278-92f6-5bb2bca03384",
   "metadata": {},
   "source": [
    "We can use other functions in the library like `parsetape`.  \n",
    "The CDLL functions have set `argtypes` and `restype`, and are wrapped with a few more processing:\n",
    "* for strings, like paths to files, functions that need character arrays can recive strings.  \n",
    "* for out parameters, functions that need pointer to doubles instantiate and return them.  \n",
    "\n",
    "The docstring of the function list the actual, pre-proccessing signature and the post-processing return type. The \"Bare\" c function is available in `ts._c_`*function*"
   ]
  },
  {
   "cell_type": "code",
   "execution_count": 8,
   "id": "c9817cd7-800c-4c0c-846e-09f32d56cf1b",
   "metadata": {},
   "outputs": [
    {
     "data": {
      "text/plain": [
       "\u001b[0;31mSignature:\u001b[0m\n",
       "\u001b[0mts\u001b[0m\u001b[0;34m.\u001b[0m\u001b[0mparsetape\u001b[0m\u001b[0;34m(\u001b[0m\u001b[0;34m\u001b[0m\n",
       "\u001b[0;34m\u001b[0m    \u001b[0;34m*\u001b[0m\u001b[0margs\u001b[0m\u001b[0;34m,\u001b[0m\u001b[0;34m\u001b[0m\n",
       "\u001b[0;34m\u001b[0m    \u001b[0m_base_c_function\u001b[0m\u001b[0;34m=\u001b[0m\u001b[0;34m<\u001b[0m\u001b[0m_FuncPtr\u001b[0m \u001b[0mobject\u001b[0m \u001b[0mat\u001b[0m \u001b[0;36m0x7f2f9ddb7040\u001b[0m\u001b[0;34m>\u001b[0m\u001b[0;34m,\u001b[0m\u001b[0;34m\u001b[0m\n",
       "\u001b[0;34m\u001b[0m    \u001b[0marg_types\u001b[0m\u001b[0;34m=\u001b[0m\u001b[0;34m[\u001b[0m\u001b[0;34m<\u001b[0m\u001b[0;32mclass\u001b[0m \u001b[0;34m'ctypes.LP_c_char'\u001b[0m\u001b[0;34m>\u001b[0m\u001b[0;34m]\u001b[0m\u001b[0;34m,\u001b[0m\u001b[0;34m\u001b[0m\n",
       "\u001b[0;34m\u001b[0m    \u001b[0mprocess_args\u001b[0m\u001b[0;34m=\u001b[0m\u001b[0;34m[\u001b[0m\u001b[0;34m<\u001b[0m\u001b[0mfunction\u001b[0m \u001b[0mTSWrapper\u001b[0m\u001b[0;34m.\u001b[0m\u001b[0m__init__\u001b[0m\u001b[0;34m.\u001b[0m\u001b[0;34m<\u001b[0m\u001b[0mlocals\u001b[0m\u001b[0;34m>\u001b[0m\u001b[0;34m.\u001b[0m\u001b[0mprocess_str_to_char_p\u001b[0m \u001b[0mat\u001b[0m \u001b[0;36m0x7f300bdcd630\u001b[0m\u001b[0;34m>\u001b[0m\u001b[0;34m]\u001b[0m\u001b[0;34m,\u001b[0m\u001b[0;34m\u001b[0m\n",
       "\u001b[0;34m\u001b[0m    \u001b[0mprocess_out\u001b[0m\u001b[0;34m=\u001b[0m\u001b[0;34m[\u001b[0m\u001b[0;34m<\u001b[0m\u001b[0mfunction\u001b[0m \u001b[0mTSWrapper\u001b[0m\u001b[0;34m.\u001b[0m\u001b[0m__init__\u001b[0m\u001b[0;34m.\u001b[0m\u001b[0;34m<\u001b[0m\u001b[0mlocals\u001b[0m\u001b[0;34m>\u001b[0m\u001b[0;34m.\u001b[0m\u001b[0mprocess_neutral\u001b[0m \u001b[0mat\u001b[0m \u001b[0;36m0x7f300bdccee0\u001b[0m\u001b[0;34m>\u001b[0m\u001b[0;34m,\u001b[0m \u001b[0;32mNone\u001b[0m\u001b[0;34m]\u001b[0m\u001b[0;34m,\u001b[0m\u001b[0;34m\u001b[0m\n",
       "\u001b[0;34m\u001b[0m\u001b[0;34m)\u001b[0m\u001b[0;34m\u001b[0m\u001b[0;34m\u001b[0m\u001b[0m\n",
       "\u001b[0;31mDocstring:\u001b[0m Wrapper for parsetape with arguments , filename: str or __str__. Return <class 'ts_auto_wrapper.LP_ts_tape'>\n",
       "\u001b[0;31mFile:\u001b[0m      /opt/workspace/msc_project/lab_note_and_py/trisurf-python/ts_auto_wrapper.py\n",
       "\u001b[0;31mType:\u001b[0m      function"
      ]
     },
     "metadata": {},
     "output_type": "display_data"
    }
   ],
   "source": [
    "ts.parsetape?"
   ]
  },
  {
   "cell_type": "markdown",
   "id": "332e75f4-c307-4038-ba44-364537875a78",
   "metadata": {},
   "source": [
    "We can use trisurf to parse the default tape in the `/src/` folder  \n",
    "This works because `ts.parsetape` knows to first convert the input object to string with `str()` (in this case, a `Path` )"
   ]
  },
  {
   "cell_type": "code",
   "execution_count": 9,
   "id": "ac45582a-0a28-426a-a269-ace04383d38b",
   "metadata": {},
   "outputs": [
    {
     "data": {
      "text/plain": [
       "<ts_auto_wrapper.LP_ts_tape at 0x7f2f9b62aac0>"
      ]
     },
     "execution_count": 9,
     "metadata": {},
     "output_type": "execute_result"
    }
   ],
   "source": [
    "base_tape=ts.parsetape(ts.path_to_trisurf/'src/tape')\n",
    "base_tape"
   ]
  },
  {
   "cell_type": "markdown",
   "id": "69ced2c3-1e11-4679-b2b4-8083a83b7fb6",
   "metadata": {},
   "source": [
    "We can look at the tape using this helper function: this is meant to more easily print the tape or other ctypes structures"
   ]
  },
  {
   "cell_type": "code",
   "execution_count": 10,
   "id": "cfe56254-1034-481e-bebd-cb06268f8273",
   "metadata": {
    "scrolled": true,
    "tags": []
   },
   "outputs": [
    {
     "name": "stdout",
     "output_type": "stream",
     "text": [
      "<ts_auto_wrapper.LP_ts_tape object at 0x7f2f9b62aac0>\n",
      "    tape_text <ctypes.LP_c_char object at 0x7f2f9b62a8c0>\n",
      "    R_nucleus 0.0\n",
      "    R_nucleusX 0.0\n",
      "    R_nucleusY 0.0\n",
      "    R_nucleusZ 0.0\n",
      "    xkA0 1.0\n",
      "    xkV0 1.0\n",
      "    V0 0.0\n",
      "    A0 0.0\n",
      "    Vfraction 1.0\n",
      "    constvolprecision 1e-14\n",
      "    xk0 20.0\n",
      "    xk2 -20.0\n",
      "    dmax 1.7\n",
      "    dmin_interspecies 1.2\n",
      "    stepsize 0.15\n",
      "    kspring 800.0\n",
      "    xi 100.0\n",
      "    pressure 0.0\n",
      "    c0 0.5\n",
      "    d0 0.5\n",
      "    w 1.0\n",
      "    F 1.0\n",
      "    plane_d 10.0\n",
      "    plane_F 1.0\n",
      "    vicsek_strength 0.1\n",
      "    vicsek_radius 4.0\n",
      "    adhesion_z -5.0\n",
      "    adhesion_cutoff 1.0\n",
      "    adhesion_strength 1.0\n",
      "    adhesion_radius 5.0\n",
      "    adhesion_scale 5.0\n",
      "    adhesion_factor 2.0\n",
      "    min_dihedral_angle_cosine 0.1\n",
      "    mcsweeps 1000\n",
      "    random_seed 0\n",
      "    iterations 10\n",
      "    inititer 0\n",
      "    nshell 10\n",
      "    ncxmax 100\n",
      "    ncymax 100\n",
      "    nczmax 100\n",
      "    number_of_vertices_with_c0 50\n",
      "    npoly 0\n",
      "    nmono 20\n",
      "    internal_poly 0\n",
      "    nfil 0\n",
      "    nfono 3\n",
      "    shc 0\n",
      "    pressure_switch b'\\x00'\n",
      "    volume_switch b'\\x00'\n",
      "    area_switch b'\\x00'\n",
      "    quiet b'\\x00'\n",
      "    plane_confinement_switch b'\\x00'\n",
      "    allow_center_mass_movement b'\\x00'\n",
      "    force_balance_along_z_axis b'\\x00'\n",
      "    adhesion_geometry b'\\x00'\n",
      "    adhesion_model b'\\x00'\n",
      "    bond_model b'\\x00'\n",
      "    curvature_model b'\\x0f'\n",
      "    force_model b'\\x00'\n"
     ]
    }
   ],
   "source": [
    "print(ts.pretty_text(base_tape))"
   ]
  },
  {
   "cell_type": "markdown",
   "id": "132b5571-add7-4fbb-8912-e3b09a8dea35",
   "metadata": {},
   "source": [
    "Let's compare the wrapper tape with the `small_functions.py` tape options extraction."
   ]
  },
  {
   "cell_type": "code",
   "execution_count": 11,
   "id": "7e61a0ad-4f10-41e0-8860-c79edb20a01a",
   "metadata": {
    "tags": []
   },
   "outputs": [
    {
     "data": {
      "text/html": [
       "<div>\n",
       "<style scoped>\n",
       "    .dataframe tbody tr th:only-of-type {\n",
       "        vertical-align: middle;\n",
       "    }\n",
       "\n",
       "    .dataframe tbody tr th {\n",
       "        vertical-align: top;\n",
       "    }\n",
       "\n",
       "    .dataframe thead th {\n",
       "        text-align: right;\n",
       "    }\n",
       "</style>\n",
       "<table border=\"1\" class=\"dataframe\">\n",
       "  <thead>\n",
       "    <tr style=\"text-align: right;\">\n",
       "      <th></th>\n",
       "      <th>&lt;ts_auto_wrapper.LP_ts_tape</th>\n",
       "      <th>tape_text</th>\n",
       "      <th>R_nucleus</th>\n",
       "      <th>R_nucleusX</th>\n",
       "      <th>R_nucleusY</th>\n",
       "      <th>R_nucleusZ</th>\n",
       "      <th>xkA0</th>\n",
       "      <th>xkV0</th>\n",
       "      <th>V0</th>\n",
       "      <th>A0</th>\n",
       "      <th>...</th>\n",
       "      <th>area_switch</th>\n",
       "      <th>quiet</th>\n",
       "      <th>plane_confinement_switch</th>\n",
       "      <th>allow_center_mass_movement</th>\n",
       "      <th>force_balance_along_z_axis</th>\n",
       "      <th>adhesion_geometry</th>\n",
       "      <th>adhesion_model</th>\n",
       "      <th>bond_model</th>\n",
       "      <th>curvature_model</th>\n",
       "      <th>force_model</th>\n",
       "    </tr>\n",
       "  </thead>\n",
       "  <tbody>\n",
       "    <tr>\n",
       "      <th>c</th>\n",
       "      <td>&lt;ts_auto_wrapper.LP_ts_tape object at 0x7f2f9b...</td>\n",
       "      <td>tape_text &lt;ctypes.LP_c_char object at 0x7f...</td>\n",
       "      <td>R_nucleus 0.0</td>\n",
       "      <td>R_nucleusX 0.0</td>\n",
       "      <td>R_nucleusY 0.0</td>\n",
       "      <td>R_nucleusZ 0.0</td>\n",
       "      <td>xkA0 1.0</td>\n",
       "      <td>xkV0 1.0</td>\n",
       "      <td>V0 0.0</td>\n",
       "      <td>A0 0.0</td>\n",
       "      <td>...</td>\n",
       "      <td>area_switch b'\\x00'</td>\n",
       "      <td>quiet b'\\x00'</td>\n",
       "      <td>plane_confinement_switch b'\\x00'</td>\n",
       "      <td>allow_center_mass_movement b'\\x00'</td>\n",
       "      <td>force_balance_along_z_axis b'\\x00'</td>\n",
       "      <td>adhesion_geometry b'\\x00'</td>\n",
       "      <td>adhesion_model b'\\x00'</td>\n",
       "      <td>bond_model b'\\x00'</td>\n",
       "      <td>curvature_model b'\\x0f'</td>\n",
       "      <td>force_model b'\\x00'</td>\n",
       "    </tr>\n",
       "    <tr>\n",
       "      <th>python</th>\n",
       "      <td>None</td>\n",
       "      <td>None</td>\n",
       "      <td>0</td>\n",
       "      <td>0</td>\n",
       "      <td>0</td>\n",
       "      <td>0</td>\n",
       "      <td>1.0</td>\n",
       "      <td>1.0</td>\n",
       "      <td>0</td>\n",
       "      <td>0</td>\n",
       "      <td>...</td>\n",
       "      <td>0</td>\n",
       "      <td>false</td>\n",
       "      <td>0</td>\n",
       "      <td>0</td>\n",
       "      <td>0</td>\n",
       "      <td>0</td>\n",
       "      <td>0</td>\n",
       "      <td>0</td>\n",
       "      <td>15</td>\n",
       "      <td>0</td>\n",
       "    </tr>\n",
       "  </tbody>\n",
       "</table>\n",
       "<p>2 rows × 62 columns</p>\n",
       "</div>"
      ],
      "text/plain": [
       "                              <ts_auto_wrapper.LP_ts_tape  \\\n",
       "c       <ts_auto_wrapper.LP_ts_tape object at 0x7f2f9b...   \n",
       "python                                               None   \n",
       "\n",
       "                                                tape_text          R_nucleus  \\\n",
       "c           tape_text <ctypes.LP_c_char object at 0x7f...      R_nucleus 0.0   \n",
       "python                                               None                  0   \n",
       "\n",
       "                R_nucleusX          R_nucleusY          R_nucleusZ  \\\n",
       "c           R_nucleusX 0.0      R_nucleusY 0.0      R_nucleusZ 0.0   \n",
       "python                   0                   0                   0   \n",
       "\n",
       "                xkA0          xkV0          V0          A0  ...  \\\n",
       "c           xkA0 1.0      xkV0 1.0      V0 0.0      A0 0.0  ...   \n",
       "python           1.0           1.0           0           0  ...   \n",
       "\n",
       "                    area_switch              quiet  \\\n",
       "c           area_switch b'\\x00'      quiet b'\\x00'   \n",
       "python                        0              false   \n",
       "\n",
       "                    plane_confinement_switch  \\\n",
       "c           plane_confinement_switch b'\\x00'   \n",
       "python                                     0   \n",
       "\n",
       "                    allow_center_mass_movement  \\\n",
       "c           allow_center_mass_movement b'\\x00'   \n",
       "python                                       0   \n",
       "\n",
       "                    force_balance_along_z_axis              adhesion_geometry  \\\n",
       "c           force_balance_along_z_axis b'\\x00'      adhesion_geometry b'\\x00'   \n",
       "python                                       0                              0   \n",
       "\n",
       "                    adhesion_model              bond_model  \\\n",
       "c           adhesion_model b'\\x00'      bond_model b'\\x00'   \n",
       "python                           0                       0   \n",
       "\n",
       "                    curvature_model              force_model  \n",
       "c           curvature_model b'\\x0f'      force_model b'\\x00'  \n",
       "python                           15                        0  \n",
       "\n",
       "[2 rows x 62 columns]"
      ]
     },
     "execution_count": 11,
     "metadata": {},
     "output_type": "execute_result"
    }
   ],
   "source": [
    "tstape = ts.pretty_text(base_tape)\n",
    "with open(ts.path_to_trisurf/'src/tape','r') as f:\n",
    "    pytape = small_functions.get_tape_options(f.read())\n",
    "all_lines = {}\n",
    "for line1 in tstape.splitlines():\n",
    "    first=line1.split()[0]\n",
    "    if first in pytape:\n",
    "        all_lines[first] = [line1, pytape[first]]\n",
    "    else:\n",
    "        all_lines[first] = [line1, None]\n",
    "pandas.DataFrame(all_lines, index=['c','python'])"
   ]
  },
  {
   "cell_type": "markdown",
   "id": "ed19cb65-7e02-4c2a-8eb5-1f897c146cd6",
   "metadata": {},
   "source": [
    "Both agree on their values of the options (this is not trivial, since structure misalignment can corrupt the values)"
   ]
  },
  {
   "cell_type": "markdown",
   "id": "a65ead22-cbce-4329-995a-9c0875585dfe",
   "metadata": {},
   "source": [
    "Here we look at the spontaneous curvature of each vertex `vtx.c` with id between 50 to 100. This is not exactly ergonomic."
   ]
  },
  {
   "cell_type": "code",
   "execution_count": 12,
   "id": "53ec70d1-2638-4a0b-bb46-5f1f46713d77",
   "metadata": {
    "tags": []
   },
   "outputs": [
    {
     "data": {
      "text/plain": [
       "array([0., 0., 0., 0., 0., 1., 0., 0., 0., 0., 0., 0., 0., 0., 0., 0., 0.,\n",
       "       0., 0., 0., 0., 0., 0., 0., 0., 0., 0., 0., 0., 0., 0., 0., 0., 0.,\n",
       "       0., 1., 0., 1., 0., 0., 0., 0., 0., 1., 0., 0., 0., 0., 0., 0.])"
      ]
     },
     "execution_count": 12,
     "metadata": {},
     "output_type": "execute_result"
    }
   ],
   "source": [
    "np.array([vesicle.contents.vlist.contents.vtx[i].contents.c for i in range(50,100)])"
   ]
  },
  {
   "cell_type": "markdown",
   "id": "fed04e86-30ab-4742-a4e4-ad7103a11cf1",
   "metadata": {},
   "source": [
    "We can compare the mean curvature from trisurf versus the mean curvature from the .vtu. There may be factors of 2."
   ]
  },
  {
   "cell_type": "code",
   "execution_count": 13,
   "id": "ba58a7e6-8007-44ae-9345-86b89e3d380b",
   "metadata": {},
   "outputs": [
    {
     "data": {
      "text/plain": [
       "(193.32805182985842, 386.65610365971753)"
      ]
     },
     "execution_count": 13,
     "metadata": {},
     "output_type": "execute_result"
    }
   ],
   "source": [
    "ts.functions.vesicle_meancurvature(vesicle), v.mean_curvature.sum()"
   ]
  },
  {
   "cell_type": "code",
   "execution_count": 15,
   "id": "521121a2-b86b-405a-bc9c-5477e7824d7f",
   "metadata": {},
   "outputs": [
    {
     "data": {
      "text/plain": [
       "[ts_auto_wrapper.LP_ts_vesicle,\n",
       " ts_auto_wrapper.LP_ts_vertex,\n",
       " ts_auto_wrapper.LP_ts_vertex]"
      ]
     },
     "execution_count": 15,
     "metadata": {},
     "output_type": "execute_result"
    }
   ],
   "source": [
    "ts.functions._c_direct_force_energy.argtypes"
   ]
  },
  {
   "cell_type": "markdown",
   "id": "752a2382-ea88-447e-beb6-6b2fc98dacd8",
   "metadata": {},
   "source": [
    "Here we look at the force acting on a vertex directly based on the CDLL:  \n",
    "* we take the first active vertex `vtx`\n",
    "* we create three dummy vertices with position at 1 unit before\n",
    "* we calculate the work on each vertex with using the dummy vertex as the starting position\n",
    "* $W=-f\\cdot dx$, so we get the force in each direction\n",
    "* we can compare it with the PyVtu"
   ]
  },
  {
   "cell_type": "code",
   "execution_count": 16,
   "id": "0381923e-e526-4f57-9ec8-cdc74eddb353",
   "metadata": {},
   "outputs": [
    {
     "name": "stdout",
     "output_type": "stream",
     "text": [
      "z in first active vertex:\n",
      "vlist->vtx[4]->z=10.551420071625163 \n",
      "PyVtu z: 10.551420071625163\n"
     ]
    }
   ],
   "source": [
    "first_active = v.indices[v.type==47][0]\n",
    "\n",
    "vtx=vesicle.contents.vlist.contents.vtx[first_active]\n",
    "print(f\"z in first active vertex:\\nvlist->vtx[{first_active}]->z={vtx.contents.z}\",f\"\\nPyVtu z:\",v.pos[first_active,2])"
   ]
  },
  {
   "cell_type": "code",
   "execution_count": 17,
   "id": "92cbea66-c1b4-4e10-895b-e3dfda85409b",
   "metadata": {},
   "outputs": [],
   "source": [
    "# dummy starting positions: dx=x̂, dx=ŷ dx=ẑ\n",
    "vtx_oldx=ts.ts_vertex(x=vtx.contents.x-1, y=vtx.contents.y,   z=vtx.contents.z)\n",
    "vtx_oldy=ts.ts_vertex(x=vtx.contents.x,   y=vtx.contents.y-1, z=vtx.contents.z)\n",
    "vtx_oldz=ts.ts_vertex(x=vtx.contents.x,   y=vtx.contents.y,   z=vtx.contents.z-1)"
   ]
  },
  {
   "cell_type": "code",
   "execution_count": 18,
   "id": "bea5e660-880e-415a-af09-28dd37d62b36",
   "metadata": {},
   "outputs": [
    {
     "name": "stdout",
     "output_type": "stream",
     "text": [
      "trisurf force: 0.23226609732205358 0.3289169843523071 0.2964221271082282 vtu force:  [0.22445575 0.33483795 0.29580933]\n"
     ]
    }
   ],
   "source": [
    "fx = -ts.direct_force_energy(vesicle,vtx,ctypes.pointer(vtx_oldx)) # using the wrapper function\n",
    "\n",
    "fy = -ts.functions._c_direct_force_energy(vesicle,vtx,ctypes.pointer(vtx_oldy)) # using the underlying cdell function with restype and argtype\n",
    "\n",
    "ts.cdll.direct_force_energy.restype=ctypes.c_double # using the cdll function directly\n",
    "fz = -ts.cdll.direct_force_energy(vesicle, vtx, ctypes.pointer(vtx_oldz))\n",
    "\n",
    "print(\"trisurf force:\",fx,fy,fz,\"vtu force: \",v.force[first_active])"
   ]
  },
  {
   "cell_type": "markdown",
   "id": "0ad710df-6761-4740-a887-5c6fa1b7bb3f",
   "metadata": {},
   "source": [
    "Check we are the same position as in the PyVtu:"
   ]
  },
  {
   "cell_type": "code",
   "execution_count": 19,
   "id": "1509b265-2e10-4f18-add2-b074bd6d2efb",
   "metadata": {},
   "outputs": [
    {
     "data": {
      "text/plain": [
       "('int', {'func': ts_auto_wrapper.LP_LP_c_int})"
      ]
     },
     "execution_count": 19,
     "metadata": {},
     "output_type": "execute_result"
    }
   ],
   "source": [
    "ts_auto_wrapper.parse_type(\"int **func\",ts.ts_types)"
   ]
  },
  {
   "cell_type": "code",
   "execution_count": 20,
   "id": "93173a7b-0227-4ff6-8a2a-76e88c5194ee",
   "metadata": {},
   "outputs": [
    {
     "data": {
      "text/plain": [
       "0"
      ]
     },
     "execution_count": 20,
     "metadata": {},
     "output_type": "execute_result"
    }
   ],
   "source": [
    "ts.byte_to_int(vesicle.contents.tape.contents.bond_model)"
   ]
  },
  {
   "cell_type": "code",
   "execution_count": 21,
   "id": "52a671dc-6a9d-4f3f-8c07-fb8ba13568d3",
   "metadata": {},
   "outputs": [
    {
     "data": {
      "text/plain": [
       "('ts_idx', ctypes.c_int, 'ts_idx i, ts_idx max')"
      ]
     },
     "execution_count": 21,
     "metadata": {},
     "output_type": "execute_result"
    }
   ],
   "source": [
    "ts.dec_funcs['next_idx']"
   ]
  },
  {
   "cell_type": "code",
   "execution_count": 22,
   "id": "4919d872-54e3-4ca3-a9b0-54aaa2d45381",
   "metadata": {},
   "outputs": [
    {
     "data": {
      "text/plain": [
       "ctypes.c_int"
      ]
     },
     "execution_count": 22,
     "metadata": {},
     "output_type": "execute_result"
    }
   ],
   "source": [
    "ts.functions._c_next_idx.restype"
   ]
  },
  {
   "cell_type": "code",
   "execution_count": 23,
   "id": "39f2e85b-7d0d-4b0f-86d7-9c9188ade582",
   "metadata": {},
   "outputs": [
    {
     "data": {
      "text/plain": [
       "3"
      ]
     },
     "execution_count": 23,
     "metadata": {},
     "output_type": "execute_result"
    }
   ],
   "source": [
    "ts.functions.prev_small(4,8)"
   ]
  },
  {
   "cell_type": "code",
   "execution_count": 24,
   "id": "664df9f7-94fe-4d3d-a981-4b25fbbe2b70",
   "metadata": {},
   "outputs": [
    {
     "data": {
      "text/plain": [
       "('ts_tape', ts_auto_wrapper.LP_ts_tape, 'char *filename')"
      ]
     },
     "execution_count": 24,
     "metadata": {},
     "output_type": "execute_result"
    }
   ],
   "source": [
    "ts.dec_funcs['parsetape']"
   ]
  },
  {
   "cell_type": "code",
   "execution_count": 25,
   "id": "5053767c-0653-4b81-adf1-7adf576cddd0",
   "metadata": {},
   "outputs": [],
   "source": [
    "cluster = ts.functions.init_cluster_list()"
   ]
  },
  {
   "cell_type": "code",
   "execution_count": 26,
   "id": "e6d5e846-d321-4f18-97e7-656fe6c63f53",
   "metadata": {},
   "outputs": [],
   "source": [
    "import inspect"
   ]
  },
  {
   "cell_type": "code",
   "execution_count": 27,
   "id": "2fa943ae-4359-4351-b415-1b04a55e90b4",
   "metadata": {},
   "outputs": [],
   "source": [
    "def get_default_args(func):\n",
    "    signature = inspect.signature(func)\n",
    "    return {\n",
    "        k: v.default\n",
    "        for k, v in signature.parameters.items()\n",
    "        if v.default is not inspect.Parameter.empty\n",
    "    }"
   ]
  },
  {
   "cell_type": "code",
   "execution_count": 28,
   "id": "bf838a8f-963f-4af9-8c6e-272b091c4f9e",
   "metadata": {},
   "outputs": [],
   "source": [
    "df=get_default_args(ts.functions.clusterize_vesicle)\n",
    "process_args =df['process_args']\n",
    "func = df['_base_c_function']"
   ]
  },
  {
   "cell_type": "code",
   "execution_count": 29,
   "id": "b259e2dc-bbda-4436-968d-bda29b30855f",
   "metadata": {},
   "outputs": [
    {
     "data": {
      "text/plain": [
       "b'\\x00'"
      ]
     },
     "execution_count": 29,
     "metadata": {},
     "output_type": "execute_result"
    }
   ],
   "source": [
    "func(vesicle,cluster)"
   ]
  },
  {
   "cell_type": "code",
   "execution_count": 30,
   "id": "673676a2-3173-4605-b37d-c07b6cbee72c",
   "metadata": {},
   "outputs": [
    {
     "data": {
      "text/plain": [
       "[<ts_auto_wrapper.LP_ts_vesicle at 0x7f2f9ded9840>,\n",
       " <ts_auto_wrapper.LP_ts_cluster_list at 0x7f2f9b6284c0>]"
      ]
     },
     "execution_count": 30,
     "metadata": {},
     "output_type": "execute_result"
    }
   ],
   "source": [
    "[f(x) for f,x in zip(process_args,(vesicle,cluster))]"
   ]
  },
  {
   "cell_type": "code",
   "execution_count": 34,
   "id": "c8899abc-e830-43e4-a2d3-e60ebfe44470",
   "metadata": {},
   "outputs": [
    {
     "data": {
      "text/plain": [
       "[ts_auto_wrapper.LP_ts_vesicle, ts_auto_wrapper.LP_ts_cluster_list]"
      ]
     },
     "execution_count": 34,
     "metadata": {},
     "output_type": "execute_result"
    }
   ],
   "source": [
    "ts.functions._c_clusterize_vesicle.argtypes"
   ]
  },
  {
   "cell_type": "code",
   "execution_count": 35,
   "id": "06553cae-d063-461e-bb03-87da824221b3",
   "metadata": {},
   "outputs": [
    {
     "data": {
      "text/plain": [
       "True"
      ]
     },
     "execution_count": 35,
     "metadata": {},
     "output_type": "execute_result"
    }
   ],
   "source": [
    "ts.functions.clusterize_vesicle(vesicle,cluster)"
   ]
  },
  {
   "cell_type": "code",
   "execution_count": 36,
   "id": "fa5a439e-4ce7-4b28-a7b3-44c84b71554c",
   "metadata": {},
   "outputs": [
    {
     "data": {
      "text/plain": [
       "1.0"
      ]
     },
     "execution_count": 36,
     "metadata": {},
     "output_type": "execute_result"
    }
   ],
   "source": [
    "cluster.contents.cluster.contents.contents.vtx.contents.contents.c"
   ]
  },
  {
   "cell_type": "code",
   "execution_count": 37,
   "id": "3d79447b-c729-406c-81bd-b1b226000c96",
   "metadata": {},
   "outputs": [
    {
     "data": {
      "text/plain": [
       "<function ts_auto_wrapper.TSWrapper.__init__.<locals>.f(*args, _base_c_function=<_FuncPtr object at 0x7f2f9ddb5840>, arg_types=[<class 'ts_auto_wrapper.LP_ts_vesicle'>, <class 'ts_auto_wrapper.LP_ts_cluster_list'>], process_args=[<function TSWrapper.__init__.<locals>.process_neutral at 0x7f300bdccee0>, <function TSWrapper.__init__.<locals>.process_neutral at 0x7f300bdccee0>], process_out=[<function TSWrapper.__init__.<locals>.process_ts_bool_to_true_false at 0x7f300bdcd2d0>, None, None])>"
      ]
     },
     "execution_count": 37,
     "metadata": {},
     "output_type": "execute_result"
    }
   ],
   "source": [
    "ts.functions.clusterize_vesicle"
   ]
  },
  {
   "cell_type": "code",
   "execution_count": 38,
   "id": "e28fd5b7-bb50-4f70-abc3-42c4144b6dbf",
   "metadata": {},
   "outputs": [
    {
     "data": {
      "text/plain": [
       "(True, 0.5868244323632875, 0.01311160857051487)"
      ]
     },
     "execution_count": 38,
     "metadata": {},
     "output_type": "execute_result"
    }
   ],
   "source": [
    "ts.functions.single_timestep(vesicle)"
   ]
  },
  {
   "cell_type": "code",
   "execution_count": 39,
   "id": "10acfdd6-0e20-4741-80c3-7668ef15e0f1",
   "metadata": {},
   "outputs": [
    {
     "data": {
      "text/plain": [
       "\u001b[0;31mSignature:\u001b[0m\n",
       "\u001b[0mts\u001b[0m\u001b[0;34m.\u001b[0m\u001b[0mfunctions\u001b[0m\u001b[0;34m.\u001b[0m\u001b[0mvesicle_meancurvature\u001b[0m\u001b[0;34m(\u001b[0m\u001b[0;34m\u001b[0m\n",
       "\u001b[0;34m\u001b[0m    \u001b[0;34m*\u001b[0m\u001b[0margs\u001b[0m\u001b[0;34m,\u001b[0m\u001b[0;34m\u001b[0m\n",
       "\u001b[0;34m\u001b[0m    \u001b[0m_base_c_function\u001b[0m\u001b[0;34m=\u001b[0m\u001b[0;34m<\u001b[0m\u001b[0m_FuncPtr\u001b[0m \u001b[0mobject\u001b[0m \u001b[0mat\u001b[0m \u001b[0;36m0x7f2f9dd72b00\u001b[0m\u001b[0;34m>\u001b[0m\u001b[0;34m,\u001b[0m\u001b[0;34m\u001b[0m\n",
       "\u001b[0;34m\u001b[0m    \u001b[0marg_types\u001b[0m\u001b[0;34m=\u001b[0m\u001b[0;34m[\u001b[0m\u001b[0;34m<\u001b[0m\u001b[0;32mclass\u001b[0m \u001b[0;34m'ts_auto_wrapper.LP_ts_vesicle'\u001b[0m\u001b[0;34m>\u001b[0m\u001b[0;34m]\u001b[0m\u001b[0;34m,\u001b[0m\u001b[0;34m\u001b[0m\n",
       "\u001b[0;34m\u001b[0m    \u001b[0mprocess_args\u001b[0m\u001b[0;34m=\u001b[0m\u001b[0;34m[\u001b[0m\u001b[0;34m<\u001b[0m\u001b[0mfunction\u001b[0m \u001b[0mTSWrapper\u001b[0m\u001b[0;34m.\u001b[0m\u001b[0m__init__\u001b[0m\u001b[0;34m.\u001b[0m\u001b[0;34m<\u001b[0m\u001b[0mlocals\u001b[0m\u001b[0;34m>\u001b[0m\u001b[0;34m.\u001b[0m\u001b[0mprocess_neutral\u001b[0m \u001b[0mat\u001b[0m \u001b[0;36m0x7f300bdccee0\u001b[0m\u001b[0;34m>\u001b[0m\u001b[0;34m]\u001b[0m\u001b[0;34m,\u001b[0m\u001b[0;34m\u001b[0m\n",
       "\u001b[0;34m\u001b[0m    \u001b[0mprocess_out\u001b[0m\u001b[0;34m=\u001b[0m\u001b[0;34m[\u001b[0m\u001b[0;34m<\u001b[0m\u001b[0mfunction\u001b[0m \u001b[0mTSWrapper\u001b[0m\u001b[0;34m.\u001b[0m\u001b[0m__init__\u001b[0m\u001b[0;34m.\u001b[0m\u001b[0;34m<\u001b[0m\u001b[0mlocals\u001b[0m\u001b[0;34m>\u001b[0m\u001b[0;34m.\u001b[0m\u001b[0mprocess_neutral\u001b[0m \u001b[0mat\u001b[0m \u001b[0;36m0x7f300bdccee0\u001b[0m\u001b[0;34m>\u001b[0m\u001b[0;34m,\u001b[0m \u001b[0;32mNone\u001b[0m\u001b[0;34m]\u001b[0m\u001b[0;34m,\u001b[0m\u001b[0;34m\u001b[0m\n",
       "\u001b[0;34m\u001b[0m\u001b[0;34m)\u001b[0m\u001b[0;34m\u001b[0m\u001b[0;34m\u001b[0m\u001b[0m\n",
       "\u001b[0;31mDocstring:\u001b[0m Wrapper for vesicle_meancurvature with arguments , vesicle: <class 'ts_auto_wrapper.LP_ts_vesicle'>. Return <class 'ctypes.c_double'>\n",
       "\u001b[0;31mFile:\u001b[0m      /opt/workspace/msc_project/lab_note_and_py/trisurf-python/ts_auto_wrapper.py\n",
       "\u001b[0;31mType:\u001b[0m      function"
      ]
     },
     "metadata": {},
     "output_type": "display_data"
    }
   ],
   "source": [
    "ts.functions.vesicle_meancurvature?"
   ]
  },
  {
   "cell_type": "code",
   "execution_count": 40,
   "id": "cf0c568b-e7eb-44bd-bbfc-a4aac84673b4",
   "metadata": {},
   "outputs": [
    {
     "data": {
      "text/plain": [
       "192.85626016870233"
      ]
     },
     "execution_count": 40,
     "metadata": {},
     "output_type": "execute_result"
    }
   ],
   "source": [
    "ts.functions.vesicle_meancurvature(vesicle)"
   ]
  }
 ],
 "metadata": {
  "kernelspec": {
   "display_name": "Python 3 (ipykernel)",
   "language": "python",
   "name": "python3"
  },
  "language_info": {
   "codemirror_mode": {
    "name": "ipython",
    "version": 3
   },
   "file_extension": ".py",
   "mimetype": "text/x-python",
   "name": "python",
   "nbconvert_exporter": "python",
   "pygments_lexer": "ipython3",
   "version": "3.10.8"
  },
  "vscode": {
   "interpreter": {
    "hash": "916dbcbb3f70747c44a77c7bcd40155683ae19c65e1c03b4aa3499c5328201f1"
   }
  }
 },
 "nbformat": 4,
 "nbformat_minor": 5
}
