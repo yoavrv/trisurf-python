{
 "cells": [
  {
   "cell_type": "code",
   "execution_count": 1,
   "id": "2aa55631-d597-4547-8b04-567e55a8b1e8",
   "metadata": {},
   "outputs": [],
   "source": [
    "from glob import glob\n",
    "import ctypes\n",
    "import struct\n",
    "import sys\n",
    "from pathlib import Path\n",
    "\n",
    "import numpy as np\n",
    "import pandas\n",
    "\n",
    "import vtu\n",
    "PyVtu=vtu.PyVtu\n",
    "import small_functions\n",
    "import ts_auto_wrapper as wrap"
   ]
  },
  {
   "cell_type": "code",
   "execution_count": 2,
   "id": "a02be0b6-f70a-414a-94f4-b56a39feb90e",
   "metadata": {},
   "outputs": [],
   "source": [
    "ts=wrap.TSWrapper()"
   ]
  },
  {
   "cell_type": "code",
   "execution_count": 3,
   "id": "a153e7ed-51a2-4269-880a-b1e24eff8b87",
   "metadata": {},
   "outputs": [],
   "source": [
    "example_vtu_file = '/mnt/c/Users/yoavr/Desktop/timestep_000087.vtu'\n",
    "vesicle = ts.parseDump(example_vtu_file)\n",
    "v = PyVtu(example_vtu_file)"
   ]
  },
  {
   "cell_type": "code",
   "execution_count": 4,
   "id": "37f3bcf9-e692-4fd2-9cd1-822db22a6426",
   "metadata": {},
   "outputs": [],
   "source": [
    "# import cffi # :("
   ]
  },
  {
   "cell_type": "raw",
   "id": "947317d7-ede3-4fea-8e01-a92578a9d50c",
   "metadata": {},
   "source": [
    "path_to_trisurf = '/opt/workspace/msc_project/trisurf_samo/trisurf-ng'\n",
    "ts = wrap.TSWrapper(path_to_trisurf)\n",
    "example_vtu_file = '/opt/workspace/msc_project/simulations/QA_tests/cluster_version/feature_tests/test_wrapper_with_old_version/timestep_000000.vtu'\n",
    "vesicle = ts.parseDump(example_vtu_file)\n",
    "v = PyVtu(example_vtu_file)"
   ]
  },
  {
   "cell_type": "code",
   "execution_count": 5,
   "id": "b26c2a2c-0c7d-4faf-be1c-a56a41671747",
   "metadata": {},
   "outputs": [
    {
     "data": {
      "text/plain": [
       "<ts_auto_wrapper.c_double_Array_3 at 0x7f78981f4140>"
      ]
     },
     "execution_count": 5,
     "metadata": {},
     "output_type": "execute_result"
    }
   ],
   "source": [
    "vesicle.contents.cm"
   ]
  },
  {
   "cell_type": "code",
   "execution_count": 6,
   "id": "ac45582a-0a28-426a-a269-ace04383d38b",
   "metadata": {},
   "outputs": [],
   "source": [
    "base_tape=ts.parsetape(str(ts.path_to_trisurf/'src/tape'))"
   ]
  },
  {
   "cell_type": "code",
   "execution_count": 7,
   "id": "7e61a0ad-4f10-41e0-8860-c79edb20a01a",
   "metadata": {
    "tags": []
   },
   "outputs": [
    {
     "data": {
      "text/html": [
       "<div>\n",
       "<style scoped>\n",
       "    .dataframe tbody tr th:only-of-type {\n",
       "        vertical-align: middle;\n",
       "    }\n",
       "\n",
       "    .dataframe tbody tr th {\n",
       "        vertical-align: top;\n",
       "    }\n",
       "\n",
       "    .dataframe thead th {\n",
       "        text-align: right;\n",
       "    }\n",
       "</style>\n",
       "<table border=\"1\" class=\"dataframe\">\n",
       "  <thead>\n",
       "    <tr style=\"text-align: right;\">\n",
       "      <th></th>\n",
       "      <th>&lt;ts_auto_wrapper.LP_ts_tape</th>\n",
       "      <th>tape_text</th>\n",
       "      <th>R_nucleus</th>\n",
       "      <th>R_nucleusX</th>\n",
       "      <th>R_nucleusY</th>\n",
       "      <th>R_nucleusZ</th>\n",
       "      <th>xkA0</th>\n",
       "      <th>xkV0</th>\n",
       "      <th>V0</th>\n",
       "      <th>A0</th>\n",
       "      <th>...</th>\n",
       "      <th>area_switch</th>\n",
       "      <th>quiet</th>\n",
       "      <th>plane_confinement_switch</th>\n",
       "      <th>allow_center_mass_movement</th>\n",
       "      <th>force_balance_along_z_axis</th>\n",
       "      <th>adhesion_geometry</th>\n",
       "      <th>adhesion_model</th>\n",
       "      <th>bond_model</th>\n",
       "      <th>curvature_model</th>\n",
       "      <th>force_model</th>\n",
       "    </tr>\n",
       "  </thead>\n",
       "  <tbody>\n",
       "    <tr>\n",
       "      <th>0</th>\n",
       "      <td>&lt;ts_auto_wrapper.LP_ts_tape object at 0x7f7898...</td>\n",
       "      <td>tape_text &lt;ctypes.LP_c_char object at 0x7f...</td>\n",
       "      <td>R_nucleus 0.0</td>\n",
       "      <td>R_nucleusX 0.0</td>\n",
       "      <td>R_nucleusY 0.0</td>\n",
       "      <td>R_nucleusZ 0.0</td>\n",
       "      <td>xkA0 1.0</td>\n",
       "      <td>xkV0 1.0</td>\n",
       "      <td>V0 0.0</td>\n",
       "      <td>A0 0.0</td>\n",
       "      <td>...</td>\n",
       "      <td>area_switch b'\\x00'</td>\n",
       "      <td>quiet b'\\x00'</td>\n",
       "      <td>plane_confinement_switch b'\\x00'</td>\n",
       "      <td>allow_center_mass_movement b'\\x00'</td>\n",
       "      <td>force_balance_along_z_axis b'\\x00'</td>\n",
       "      <td>adhesion_geometry b'\\x00'</td>\n",
       "      <td>adhesion_model b'\\x00'</td>\n",
       "      <td>bond_model b'\\x00'</td>\n",
       "      <td>curvature_model b'\\x0f'</td>\n",
       "      <td>force_model b'\\x00'</td>\n",
       "    </tr>\n",
       "    <tr>\n",
       "      <th>1</th>\n",
       "      <td>None</td>\n",
       "      <td>None</td>\n",
       "      <td>0</td>\n",
       "      <td>0</td>\n",
       "      <td>0</td>\n",
       "      <td>0</td>\n",
       "      <td>1.0</td>\n",
       "      <td>1.0</td>\n",
       "      <td>0</td>\n",
       "      <td>0</td>\n",
       "      <td>...</td>\n",
       "      <td>0</td>\n",
       "      <td>false</td>\n",
       "      <td>0</td>\n",
       "      <td>0</td>\n",
       "      <td>0</td>\n",
       "      <td>0</td>\n",
       "      <td>0</td>\n",
       "      <td>0</td>\n",
       "      <td>15</td>\n",
       "      <td>0</td>\n",
       "    </tr>\n",
       "  </tbody>\n",
       "</table>\n",
       "<p>2 rows × 62 columns</p>\n",
       "</div>"
      ],
      "text/plain": [
       "                         <ts_auto_wrapper.LP_ts_tape  \\\n",
       "0  <ts_auto_wrapper.LP_ts_tape object at 0x7f7898...   \n",
       "1                                               None   \n",
       "\n",
       "                                           tape_text          R_nucleus  \\\n",
       "0      tape_text <ctypes.LP_c_char object at 0x7f...      R_nucleus 0.0   \n",
       "1                                               None                  0   \n",
       "\n",
       "           R_nucleusX          R_nucleusY          R_nucleusZ          xkA0  \\\n",
       "0      R_nucleusX 0.0      R_nucleusY 0.0      R_nucleusZ 0.0      xkA0 1.0   \n",
       "1                   0                   0                   0           1.0   \n",
       "\n",
       "           xkV0          V0          A0  ...              area_switch  \\\n",
       "0      xkV0 1.0      V0 0.0      A0 0.0  ...      area_switch b'\\x00'   \n",
       "1           1.0           0           0  ...                        0   \n",
       "\n",
       "               quiet              plane_confinement_switch  \\\n",
       "0      quiet b'\\x00'      plane_confinement_switch b'\\x00'   \n",
       "1              false                                     0   \n",
       "\n",
       "               allow_center_mass_movement  \\\n",
       "0      allow_center_mass_movement b'\\x00'   \n",
       "1                                       0   \n",
       "\n",
       "               force_balance_along_z_axis              adhesion_geometry  \\\n",
       "0      force_balance_along_z_axis b'\\x00'      adhesion_geometry b'\\x00'   \n",
       "1                                       0                              0   \n",
       "\n",
       "               adhesion_model              bond_model  \\\n",
       "0      adhesion_model b'\\x00'      bond_model b'\\x00'   \n",
       "1                           0                       0   \n",
       "\n",
       "               curvature_model              force_model  \n",
       "0      curvature_model b'\\x0f'      force_model b'\\x00'  \n",
       "1                           15                        0  \n",
       "\n",
       "[2 rows x 62 columns]"
      ]
     },
     "execution_count": 7,
     "metadata": {},
     "output_type": "execute_result"
    }
   ],
   "source": [
    "tstape = ts.pretty_text(base_tape)\n",
    "with open(ts.path_to_trisurf/'src/tape','r') as f:\n",
    "    extape = small_functions.get_tape_options(f.read())\n",
    "all_lines = {}\n",
    "for line1 in tstape.splitlines():\n",
    "    first=line1.split()[0]\n",
    "    if first in extape:\n",
    "        all_lines[first] = [line1, extape[first]]\n",
    "    else:\n",
    "        all_lines[first] = [line1, None]\n",
    "pandas.DataFrame(all_lines)"
   ]
  },
  {
   "cell_type": "code",
   "execution_count": 8,
   "id": "53ec70d1-2638-4a0b-bb46-5f1f46713d77",
   "metadata": {
    "tags": []
   },
   "outputs": [
    {
     "data": {
      "text/plain": [
       "array([0., 0., 0., 0., 0., 1., 0., 0., 0., 0., 0., 0., 0., 0., 0., 0., 0.,\n",
       "       0., 0., 0., 0., 0., 0., 0., 0., 0., 0., 0., 0., 0., 0., 0., 0., 0.,\n",
       "       0., 1., 0., 1., 0., 0., 0., 0., 0., 1., 0., 0., 0., 0., 0., 0.])"
      ]
     },
     "execution_count": 8,
     "metadata": {},
     "output_type": "execute_result"
    }
   ],
   "source": [
    "np.array([vesicle.contents.vlist.contents.vtx[i].contents.c for i in range(50,100)])"
   ]
  },
  {
   "cell_type": "code",
   "execution_count": 9,
   "id": "92cbea66-c1b4-4e10-895b-e3dfda85409b",
   "metadata": {},
   "outputs": [],
   "source": [
    "vtx=vesicle.contents.vlist.contents.vtx[97]\n",
    "vtx_old=ts.ts_vertex(x=0,y=0,z=0)"
   ]
  },
  {
   "cell_type": "code",
   "execution_count": 10,
   "id": "9d46dcd0-ab05-46ac-889c-43465afe6550",
   "metadata": {},
   "outputs": [
    {
     "data": {
      "text/plain": [
       "(-0.8323908581740378, -0.8323908581740378)"
      ]
     },
     "execution_count": 10,
     "metadata": {},
     "output_type": "execute_result"
    }
   ],
   "source": [
    "vtx.contents.z, v.pos[97,2]"
   ]
  },
  {
   "cell_type": "code",
   "execution_count": 11,
   "id": "ba58a7e6-8007-44ae-9345-86b89e3d380b",
   "metadata": {},
   "outputs": [
    {
     "data": {
      "text/plain": [
       "(193.32805182985842, 386.65610365971753)"
      ]
     },
     "execution_count": 11,
     "metadata": {},
     "output_type": "execute_result"
    }
   ],
   "source": [
    "ts.functions.vesicle_meancurvature(vesicle), v.mean_curvature.sum()"
   ]
  },
  {
   "cell_type": "code",
   "execution_count": 12,
   "id": "dd2186d5-1cd9-4105-a381-09adfd6147eb",
   "metadata": {},
   "outputs": [
    {
     "data": {
      "text/plain": [
       "\u001b[0;31mSignature:\u001b[0m\n",
       "\u001b[0mts\u001b[0m\u001b[0;34m.\u001b[0m\u001b[0mparseDump\u001b[0m\u001b[0;34m(\u001b[0m\u001b[0;34m\u001b[0m\n",
       "\u001b[0;34m\u001b[0m    \u001b[0;34m*\u001b[0m\u001b[0margs\u001b[0m\u001b[0;34m,\u001b[0m\u001b[0;34m\u001b[0m\n",
       "\u001b[0;34m\u001b[0m    \u001b[0m_base_c_function\u001b[0m\u001b[0;34m=\u001b[0m\u001b[0;34m<\u001b[0m\u001b[0m_FuncPtr\u001b[0m \u001b[0mobject\u001b[0m \u001b[0mat\u001b[0m \u001b[0;36m0x7f78981fcf40\u001b[0m\u001b[0;34m>\u001b[0m\u001b[0;34m,\u001b[0m\u001b[0;34m\u001b[0m\n",
       "\u001b[0;34m\u001b[0m    \u001b[0marg_types\u001b[0m\u001b[0;34m=\u001b[0m\u001b[0;34m[\u001b[0m\u001b[0;34m<\u001b[0m\u001b[0;32mclass\u001b[0m \u001b[0;34m'ctypes.LP_c_char'\u001b[0m\u001b[0;34m>\u001b[0m\u001b[0;34m]\u001b[0m\u001b[0;34m,\u001b[0m\u001b[0;34m\u001b[0m\n",
       "\u001b[0;34m\u001b[0m    \u001b[0mprocess_args\u001b[0m\u001b[0;34m=\u001b[0m\u001b[0;34m[\u001b[0m\u001b[0;34m<\u001b[0m\u001b[0mfunction\u001b[0m \u001b[0mTSWrapper\u001b[0m\u001b[0;34m.\u001b[0m\u001b[0m__init__\u001b[0m\u001b[0;34m.\u001b[0m\u001b[0;34m<\u001b[0m\u001b[0mlocals\u001b[0m\u001b[0;34m>\u001b[0m\u001b[0;34m.\u001b[0m\u001b[0mprocess_str_to_char_p\u001b[0m \u001b[0mat\u001b[0m \u001b[0;36m0x7f7904068a60\u001b[0m\u001b[0;34m>\u001b[0m\u001b[0;34m]\u001b[0m\u001b[0;34m,\u001b[0m\u001b[0;34m\u001b[0m\n",
       "\u001b[0;34m\u001b[0m    \u001b[0mprocess_out\u001b[0m\u001b[0;34m=\u001b[0m\u001b[0;34m[\u001b[0m\u001b[0;34m<\u001b[0m\u001b[0mfunction\u001b[0m \u001b[0mTSWrapper\u001b[0m\u001b[0;34m.\u001b[0m\u001b[0m__init__\u001b[0m\u001b[0;34m.\u001b[0m\u001b[0;34m<\u001b[0m\u001b[0mlocals\u001b[0m\u001b[0;34m>\u001b[0m\u001b[0;34m.\u001b[0m\u001b[0mprocess_neutral\u001b[0m \u001b[0mat\u001b[0m \u001b[0;36m0x7f7907791510\u001b[0m\u001b[0;34m>\u001b[0m\u001b[0;34m,\u001b[0m \u001b[0;32mNone\u001b[0m\u001b[0;34m]\u001b[0m\u001b[0;34m,\u001b[0m\u001b[0;34m\u001b[0m\n",
       "\u001b[0;34m\u001b[0m\u001b[0;34m)\u001b[0m\u001b[0;34m\u001b[0m\u001b[0;34m\u001b[0m\u001b[0m\n",
       "\u001b[0;31mDocstring:\u001b[0m Wrapper for parseDump with arguments , dumpfname: str or __str__. Return <class 'ts_auto_wrapper.LP_ts_vesicle'>\n",
       "\u001b[0;31mFile:\u001b[0m      /opt/workspace/msc_project/lab_note_and_py/trisurf-python/ts_auto_wrapper.py\n",
       "\u001b[0;31mType:\u001b[0m      function"
      ]
     },
     "metadata": {},
     "output_type": "display_data"
    }
   ],
   "source": [
    "ts.parseDump?"
   ]
  },
  {
   "cell_type": "code",
   "execution_count": 13,
   "id": "bea5e660-880e-415a-af09-28dd37d62b36",
   "metadata": {},
   "outputs": [
    {
     "data": {
      "text/plain": [
       "0.0"
      ]
     },
     "execution_count": 13,
     "metadata": {},
     "output_type": "execute_result"
    }
   ],
   "source": [
    "ts.cdll.direct_force_energy.restype=ctypes.c_double\n",
    "ts.cdll.direct_force_energy(vesicle, vtx, ctypes.pointer(vtx_old))"
   ]
  },
  {
   "cell_type": "code",
   "execution_count": 14,
   "id": "1509b265-2e10-4f18-add2-b074bd6d2efb",
   "metadata": {},
   "outputs": [
    {
     "data": {
      "text/plain": [
       "('int', {'func': ts_auto_wrapper.LP_LP_c_int})"
      ]
     },
     "execution_count": 14,
     "metadata": {},
     "output_type": "execute_result"
    }
   ],
   "source": [
    "wrap.parse_type(\"int **func\",ts.ts_types)"
   ]
  },
  {
   "cell_type": "code",
   "execution_count": 15,
   "id": "93173a7b-0227-4ff6-8a2a-76e88c5194ee",
   "metadata": {},
   "outputs": [
    {
     "data": {
      "text/plain": [
       "0"
      ]
     },
     "execution_count": 15,
     "metadata": {},
     "output_type": "execute_result"
    }
   ],
   "source": [
    "ts.byte_to_int(vesicle.contents.tape.contents.bond_model)"
   ]
  },
  {
   "cell_type": "code",
   "execution_count": 16,
   "id": "52a671dc-6a9d-4f3f-8c07-fb8ba13568d3",
   "metadata": {},
   "outputs": [
    {
     "data": {
      "text/plain": [
       "('ts_idx', ctypes.c_int, 'ts_idx i, ts_idx max')"
      ]
     },
     "execution_count": 16,
     "metadata": {},
     "output_type": "execute_result"
    }
   ],
   "source": [
    "ts.dec_funcs['next_idx']"
   ]
  },
  {
   "cell_type": "code",
   "execution_count": 17,
   "id": "4919d872-54e3-4ca3-a9b0-54aaa2d45381",
   "metadata": {},
   "outputs": [
    {
     "data": {
      "text/plain": [
       "ctypes.c_int"
      ]
     },
     "execution_count": 17,
     "metadata": {},
     "output_type": "execute_result"
    }
   ],
   "source": [
    "ts.functions._c_next_idx.restype"
   ]
  },
  {
   "cell_type": "code",
   "execution_count": 18,
   "id": "39f2e85b-7d0d-4b0f-86d7-9c9188ade582",
   "metadata": {},
   "outputs": [
    {
     "data": {
      "text/plain": [
       "3"
      ]
     },
     "execution_count": 18,
     "metadata": {},
     "output_type": "execute_result"
    }
   ],
   "source": [
    "ts.functions.prev_small(4,8)"
   ]
  },
  {
   "cell_type": "code",
   "execution_count": 19,
   "id": "664df9f7-94fe-4d3d-a981-4b25fbbe2b70",
   "metadata": {},
   "outputs": [
    {
     "data": {
      "text/plain": [
       "('ts_tape', ts_auto_wrapper.LP_ts_tape, 'char *filename')"
      ]
     },
     "execution_count": 19,
     "metadata": {},
     "output_type": "execute_result"
    }
   ],
   "source": [
    "ts.dec_funcs['parsetape']"
   ]
  },
  {
   "cell_type": "code",
   "execution_count": 20,
   "id": "5053767c-0653-4b81-adf1-7adf576cddd0",
   "metadata": {},
   "outputs": [],
   "source": [
    "cluster = ts.functions.init_cluster_list()"
   ]
  },
  {
   "cell_type": "code",
   "execution_count": 21,
   "id": "e6d5e846-d321-4f18-97e7-656fe6c63f53",
   "metadata": {},
   "outputs": [],
   "source": [
    "import inspect"
   ]
  },
  {
   "cell_type": "code",
   "execution_count": 22,
   "id": "2fa943ae-4359-4351-b415-1b04a55e90b4",
   "metadata": {},
   "outputs": [],
   "source": [
    "def get_default_args(func):\n",
    "    signature = inspect.signature(func)\n",
    "    return {\n",
    "        k: v.default\n",
    "        for k, v in signature.parameters.items()\n",
    "        if v.default is not inspect.Parameter.empty\n",
    "    }"
   ]
  },
  {
   "cell_type": "code",
   "execution_count": 23,
   "id": "bf838a8f-963f-4af9-8c6e-272b091c4f9e",
   "metadata": {},
   "outputs": [],
   "source": [
    "df=get_default_args(ts.functions.clusterize_vesicle)\n",
    "process_args =df['process_args']\n",
    "func = df['_base_c_function']"
   ]
  },
  {
   "cell_type": "code",
   "execution_count": 24,
   "id": "b259e2dc-bbda-4436-968d-bda29b30855f",
   "metadata": {},
   "outputs": [
    {
     "data": {
      "text/plain": [
       "b'\\x00'"
      ]
     },
     "execution_count": 24,
     "metadata": {},
     "output_type": "execute_result"
    }
   ],
   "source": [
    "func(vesicle,cluster)"
   ]
  },
  {
   "cell_type": "code",
   "execution_count": 25,
   "id": "673676a2-3173-4605-b37d-c07b6cbee72c",
   "metadata": {},
   "outputs": [
    {
     "data": {
      "text/plain": [
       "[<ts_auto_wrapper.LP_ts_vesicle at 0x7f7898382440>,\n",
       " <ts_auto_wrapper.LP_ts_cluster_list at 0x7f78981f4f40>]"
      ]
     },
     "execution_count": 25,
     "metadata": {},
     "output_type": "execute_result"
    }
   ],
   "source": [
    "[f(x) for f,x in zip(process_args,(vesicle,cluster))]"
   ]
  },
  {
   "cell_type": "code",
   "execution_count": 26,
   "id": "c8899abc-e830-43e4-a2d3-e60ebfe44470",
   "metadata": {},
   "outputs": [
    {
     "data": {
      "text/plain": [
       "[ts_auto_wrapper.LP_ts_vesicle, ts_auto_wrapper.LP_ts_cluster_list]"
      ]
     },
     "execution_count": 26,
     "metadata": {},
     "output_type": "execute_result"
    }
   ],
   "source": [
    "ts.functions._c_clusterize_vesicle.argtype"
   ]
  },
  {
   "cell_type": "code",
   "execution_count": 27,
   "id": "06553cae-d063-461e-bb03-87da824221b3",
   "metadata": {},
   "outputs": [
    {
     "data": {
      "text/plain": [
       "True"
      ]
     },
     "execution_count": 27,
     "metadata": {},
     "output_type": "execute_result"
    }
   ],
   "source": [
    "ts.functions.clusterize_vesicle(vesicle,cluster)"
   ]
  },
  {
   "cell_type": "code",
   "execution_count": 28,
   "id": "fa5a439e-4ce7-4b28-a7b3-44c84b71554c",
   "metadata": {},
   "outputs": [
    {
     "data": {
      "text/plain": [
       "1.0"
      ]
     },
     "execution_count": 28,
     "metadata": {},
     "output_type": "execute_result"
    }
   ],
   "source": [
    "cluster.contents.cluster.contents.contents.vtx.contents.contents.c"
   ]
  },
  {
   "cell_type": "code",
   "execution_count": 29,
   "id": "3d79447b-c729-406c-81bd-b1b226000c96",
   "metadata": {},
   "outputs": [
    {
     "data": {
      "text/plain": [
       "<function ts_auto_wrapper.TSWrapper.__init__.<locals>.f(*args, _base_c_function=<_FuncPtr object at 0x7f7898255900>, arg_types=[<class 'ts_auto_wrapper.LP_ts_vesicle'>, <class 'ts_auto_wrapper.LP_ts_cluster_list'>], process_args=[<function TSWrapper.__init__.<locals>.process_neutral at 0x7f7907791510>, <function TSWrapper.__init__.<locals>.process_neutral at 0x7f7907791510>], process_out=[<function TSWrapper.__init__.<locals>.process_ts_bool_to_true_false at 0x7f78983dc9d0>, None, None])>"
      ]
     },
     "execution_count": 29,
     "metadata": {},
     "output_type": "execute_result"
    }
   ],
   "source": [
    "ts.functions.clusterize_vesicle"
   ]
  },
  {
   "cell_type": "code",
   "execution_count": 30,
   "id": "e28fd5b7-bb50-4f70-abc3-42c4144b6dbf",
   "metadata": {},
   "outputs": [
    {
     "data": {
      "text/plain": [
       "(True, 0.5868244323632875, 0.01311160857051487)"
      ]
     },
     "execution_count": 30,
     "metadata": {},
     "output_type": "execute_result"
    }
   ],
   "source": [
    "ts.functions.single_timestep(vesicle)"
   ]
  },
  {
   "cell_type": "code",
   "execution_count": 31,
   "id": "10acfdd6-0e20-4741-80c3-7668ef15e0f1",
   "metadata": {},
   "outputs": [
    {
     "data": {
      "text/plain": [
       "\u001b[0;31mSignature:\u001b[0m\n",
       "\u001b[0mts\u001b[0m\u001b[0;34m.\u001b[0m\u001b[0mfunctions\u001b[0m\u001b[0;34m.\u001b[0m\u001b[0mvesicle_meancurvature\u001b[0m\u001b[0;34m(\u001b[0m\u001b[0;34m\u001b[0m\n",
       "\u001b[0;34m\u001b[0m    \u001b[0;34m*\u001b[0m\u001b[0margs\u001b[0m\u001b[0;34m,\u001b[0m\u001b[0;34m\u001b[0m\n",
       "\u001b[0;34m\u001b[0m    \u001b[0m_base_c_function\u001b[0m\u001b[0;34m=\u001b[0m\u001b[0;34m<\u001b[0m\u001b[0m_FuncPtr\u001b[0m \u001b[0mobject\u001b[0m \u001b[0mat\u001b[0m \u001b[0;36m0x7f78981feb00\u001b[0m\u001b[0;34m>\u001b[0m\u001b[0;34m,\u001b[0m\u001b[0;34m\u001b[0m\n",
       "\u001b[0;34m\u001b[0m    \u001b[0marg_types\u001b[0m\u001b[0;34m=\u001b[0m\u001b[0;34m[\u001b[0m\u001b[0;34m<\u001b[0m\u001b[0;32mclass\u001b[0m \u001b[0;34m'ts_auto_wrapper.LP_ts_vesicle'\u001b[0m\u001b[0;34m>\u001b[0m\u001b[0;34m]\u001b[0m\u001b[0;34m,\u001b[0m\u001b[0;34m\u001b[0m\n",
       "\u001b[0;34m\u001b[0m    \u001b[0mprocess_args\u001b[0m\u001b[0;34m=\u001b[0m\u001b[0;34m[\u001b[0m\u001b[0;34m<\u001b[0m\u001b[0mfunction\u001b[0m \u001b[0mTSWrapper\u001b[0m\u001b[0;34m.\u001b[0m\u001b[0m__init__\u001b[0m\u001b[0;34m.\u001b[0m\u001b[0;34m<\u001b[0m\u001b[0mlocals\u001b[0m\u001b[0;34m>\u001b[0m\u001b[0;34m.\u001b[0m\u001b[0mprocess_neutral\u001b[0m \u001b[0mat\u001b[0m \u001b[0;36m0x7f7907791510\u001b[0m\u001b[0;34m>\u001b[0m\u001b[0;34m]\u001b[0m\u001b[0;34m,\u001b[0m\u001b[0;34m\u001b[0m\n",
       "\u001b[0;34m\u001b[0m    \u001b[0mprocess_out\u001b[0m\u001b[0;34m=\u001b[0m\u001b[0;34m[\u001b[0m\u001b[0;34m<\u001b[0m\u001b[0mfunction\u001b[0m \u001b[0mTSWrapper\u001b[0m\u001b[0;34m.\u001b[0m\u001b[0m__init__\u001b[0m\u001b[0;34m.\u001b[0m\u001b[0;34m<\u001b[0m\u001b[0mlocals\u001b[0m\u001b[0;34m>\u001b[0m\u001b[0;34m.\u001b[0m\u001b[0mprocess_neutral\u001b[0m \u001b[0mat\u001b[0m \u001b[0;36m0x7f7907791510\u001b[0m\u001b[0;34m>\u001b[0m\u001b[0;34m,\u001b[0m \u001b[0;32mNone\u001b[0m\u001b[0;34m]\u001b[0m\u001b[0;34m,\u001b[0m\u001b[0;34m\u001b[0m\n",
       "\u001b[0;34m\u001b[0m\u001b[0;34m)\u001b[0m\u001b[0;34m\u001b[0m\u001b[0;34m\u001b[0m\u001b[0m\n",
       "\u001b[0;31mDocstring:\u001b[0m Wrapper for vesicle_meancurvature with arguments , vesicle: <class 'ts_auto_wrapper.LP_ts_vesicle'>. Return <class 'ctypes.c_double'>\n",
       "\u001b[0;31mFile:\u001b[0m      /opt/workspace/msc_project/lab_note_and_py/trisurf-python/ts_auto_wrapper.py\n",
       "\u001b[0;31mType:\u001b[0m      function"
      ]
     },
     "metadata": {},
     "output_type": "display_data"
    }
   ],
   "source": [
    "ts.functions.vesicle_meancurvature?"
   ]
  },
  {
   "cell_type": "code",
   "execution_count": 32,
   "id": "cf0c568b-e7eb-44bd-bbfc-a4aac84673b4",
   "metadata": {},
   "outputs": [
    {
     "data": {
      "text/plain": [
       "192.85626016870233"
      ]
     },
     "execution_count": 32,
     "metadata": {},
     "output_type": "execute_result"
    }
   ],
   "source": [
    "ts.functions.vesicle_meancurvature(vesicle)"
   ]
  },
  {
   "cell_type": "code",
   "execution_count": null,
   "id": "215fd420-e11c-4fc4-86f0-021ad5cf0bc4",
   "metadata": {},
   "outputs": [],
   "source": []
  }
 ],
 "metadata": {
  "kernelspec": {
   "display_name": "Python 3 (ipykernel)",
   "language": "python",
   "name": "python3"
  },
  "language_info": {
   "codemirror_mode": {
    "name": "ipython",
    "version": 3
   },
   "file_extension": ".py",
   "mimetype": "text/x-python",
   "name": "python",
   "nbconvert_exporter": "python",
   "pygments_lexer": "ipython3",
   "version": "3.10.8"
  },
  "vscode": {
   "interpreter": {
    "hash": "916dbcbb3f70747c44a77c7bcd40155683ae19c65e1c03b4aa3499c5328201f1"
   }
  }
 },
 "nbformat": 4,
 "nbformat_minor": 5
}
