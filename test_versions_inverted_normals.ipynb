{
 "cells": [
  {
   "cell_type": "code",
   "execution_count": 1,
   "id": "6fb1eb73-42e0-4e25-a768-78f38195ced1",
   "metadata": {},
   "outputs": [],
   "source": [
    "import subprocess, shutil, datetime\n",
    "from pathlib import Path\n",
    "\n",
    "import numpy as np\n",
    "\n",
    "from vtu import PyVtu\n",
    "from ts_auto_wrapper import TSWrapper"
   ]
  },
  {
   "cell_type": "code",
   "execution_count": 2,
   "id": "8b08fabf-e98d-427b-9ac0-4b76ab3b82ed",
   "metadata": {},
   "outputs": [],
   "source": [
    "ts=TSWrapper(Path(\"/opt/workspace/msc_project/cluster-trisurf\"))"
   ]
  },
  {
   "cell_type": "code",
   "execution_count": 3,
   "id": "95902940-b7ab-4308-a51c-aaefd047c74b",
   "metadata": {},
   "outputs": [],
   "source": [
    "test_folder=None\n",
    "tape=None\n",
    "extra_args = []\n",
    "timeout = 120 # seconds to timeout for each `trisurf` test"
   ]
  },
  {
   "cell_type": "markdown",
   "id": "aecaa0f9-47b5-4466-a56b-ade891c708d5",
   "metadata": {
    "tags": []
   },
   "source": [
    "### Make a new folder if there isn't one ###"
   ]
  },
  {
   "cell_type": "code",
   "execution_count": 4,
   "id": "fc9a97eb-f1e3-4858-8f2b-eb60bbe00323",
   "metadata": {},
   "outputs": [
    {
     "data": {
      "text/plain": [
       "'2023_05_24_main'"
      ]
     },
     "execution_count": 4,
     "metadata": {},
     "output_type": "execute_result"
    }
   ],
   "source": [
    "new_folder=None\n",
    "if not test_folder:\n",
    "    # make up some appropriate folder\n",
    "    now = datetime.datetime.now()\n",
    "    ret = subprocess.run(['git', 'status'],cwd=ts.path_to_trisurf,capture_output=True)\n",
    "    branch = ret.stdout.decode().partition('On branch ')[-1].splitlines()[0].strip()\n",
    "    new_folder = f'{now.year:04}_{now.month:02}_{now.day:02}_{branch}'\n",
    "    test_folder = Path('.')/\"trisurf_test\"/new_folder\n",
    "new_folder"
   ]
  },
  {
   "cell_type": "code",
   "execution_count": 5,
   "id": "b906615e-e9e5-4f0f-8a87-46fdc274a2d1",
   "metadata": {},
   "outputs": [],
   "source": [
    "if not test_folder.exists():\n",
    "    test_folder.mkdir()\n",
    "    test_folder.joinpath('test_results').mkdir()\n",
    "elif new_folder is not None:\n",
    "    raise ValueError(f'folder {test_folder} for today already exists: Rename or delete to run test')"
   ]
  },
  {
   "cell_type": "markdown",
   "id": "2471e511-aa48-47a2-84e5-34230b6f818f",
   "metadata": {},
   "source": [
    "### copy the tape to the new folder ###"
   ]
  },
  {
   "cell_type": "code",
   "execution_count": 6,
   "id": "ddc85171-4026-439c-8a02-415e983e20fb",
   "metadata": {},
   "outputs": [
    {
     "data": {
      "text/plain": [
       "PosixPath('trisurf_test/2023_05_24_main/tape')"
      ]
     },
     "execution_count": 6,
     "metadata": {},
     "output_type": "execute_result"
    }
   ],
   "source": [
    "if tape is None:\n",
    "    tape=ts.path_to_trisurf/\"src/tape\"\n",
    "shutil.copy(tape,test_folder/\"tape\")"
   ]
  },
  {
   "cell_type": "markdown",
   "id": "3068846e-78c1-402b-af5b-5aec881b81cd",
   "metadata": {},
   "source": [
    "## Check force from tape ##"
   ]
  },
  {
   "cell_type": "code",
   "execution_count": 7,
   "id": "9b5e1caa-3663-4661-9104-5878ddf4fce4",
   "metadata": {},
   "outputs": [],
   "source": [
    "ret = subprocess.run([ts.path_to_trisurf/\"src/trisurf\", \"--force-from-tape\", *extra_args],\n",
    "                     cwd=test_folder, timeout=timeout, capture_output=True)"
   ]
  },
  {
   "cell_type": "code",
   "execution_count": 8,
   "id": "9d88fc8b-4eb1-4aae-94aa-b71a010e5b0b",
   "metadata": {
    "scrolled": true,
    "tags": []
   },
   "outputs": [
    {
     "name": "stdout",
     "output_type": "stream",
     "text": [
      "[2023-05-24 18:37:21] TRISURF-NG v. a124e32, compiled on: May 24 2023 16:05:49.\n",
      "[2023-05-24 18:37:21] Programming done by: Samo Penic and Miha Fosnaric\n",
      "[2023-05-24 18:37:21] Released under terms of GPLv3\n",
      "[2023-05-24 18:37:21] Starting program...\n",
      "\n",
      "[2023-05-24 18:37:21] ************************************************\n",
      "[2023-05-24 18:37:21] **** Generating initial geometry from tape *****\n",
      "[2023-05-24 18:37:21] ************************************************\n",
      "\n",
      "[2023-05-24 18:37:21] Starting initial_distribution on vesicle with 10 shells!...\n",
      "[2023-05-24 18:37:21] initial_distribution finished!\n",
      "[2023-05-24 18:37:21] using debug curvature model 15 (use new energy): set to 7 to use the old energy method\n",
      "[2023-05-24 18:37:21] simulation seed 1684942641\n",
      "[2023-05-24 18:37:21] Setting volume V0=1041.99378875998718286\n",
      "[2023-05-24 18:37:21] Setting area A0=623.53829072480641571\n",
      "[2023-05-24 18:37:24] Done 1 out of 10 iterations (x 1000 MC sweeps).\n",
      "[2023-05-24 18:37:26] Done 2 out of 10 iterations (x 1000 MC sweeps).\n",
      "[2023-05-24 18:37:28] Done 3 out of 10 iterations (x 1000 MC sweeps).\n",
      "[2023-05-24 18:37:31] Done 4 out of 10 iterations (x 1000 MC sweeps).\n",
      "[2023-05-24 18:37:33] Done 5 out of 10 iterations (x 1000 MC sweeps).\n",
      "[2023-05-24 18:37:35] Done 6 out of 10 iterations (x 1000 MC sweeps).\n",
      "[2023-05-24 18:37:37] Done 7 out of 10 iterations (x 1000 MC sweeps).\n",
      "[2023-05-24 18:37:40] Done 8 out of 10 iterations (x 1000 MC sweeps).\n",
      "[2023-05-24 18:37:42] Done 9 out of 10 iterations (x 1000 MC sweeps).\n",
      "[2023-05-24 18:37:44] Done 10 out of 10 iterations (x 1000 MC sweeps).\n",
      "\n"
     ]
    }
   ],
   "source": [
    "with open(test_folder/\"test_results\"/\"force_stdout.txt\",'w') as f: \n",
    "    f.write(ret.stdout.decode())\n",
    "print(ret.stdout.decode())"
   ]
  },
  {
   "cell_type": "markdown",
   "id": "4b1ad91a-e7c3-49c5-b005-c84cd4fc72ec",
   "metadata": {},
   "source": [
    "## Check start from binary dump ##"
   ]
  },
  {
   "cell_type": "code",
   "execution_count": 9,
   "id": "2d721024-3628-4bec-8994-a50e804e9212",
   "metadata": {},
   "outputs": [],
   "source": [
    "ret = subprocess.run([ts.path_to_trisurf/\"src/trisurf\",\"--reset-iteration-count\", *extra_args],\n",
    "                     cwd=test_folder, timeout=timeout, capture_output=True)"
   ]
  },
  {
   "cell_type": "code",
   "execution_count": 10,
   "id": "6073fefb-963d-4698-ab8d-e4e66b63e8b8",
   "metadata": {
    "scrolled": true,
    "tags": []
   },
   "outputs": [
    {
     "name": "stdout",
     "output_type": "stream",
     "text": [
      "[2023-05-24 18:37:44] TRISURF-NG v. a124e32, compiled on: May 24 2023 16:05:49.\n",
      "[2023-05-24 18:37:44] Programming done by: Samo Penic and Miha Fosnaric\n",
      "[2023-05-24 18:37:44] Released under terms of GPLv3\n",
      "[2023-05-24 18:37:44] Starting program...\n",
      "\n",
      "[2023-05-24 18:37:44] **********************************************************************\n",
      "[2023-05-24 18:37:44] **** Recreating vesicle from dump file and continuing simulation *****\n",
      "[2023-05-24 18:37:44] **********************************************************************\n",
      "\n",
      "[2023-05-24 18:37:45] using debug curvature model 15 (use new energy): set to 7 to use the old energy method\n",
      "[2023-05-24 18:37:45] simulation seed 1684942665\n",
      "[2023-05-24 18:37:45] Setting volume V0=1900.94212002665403816\n",
      "[2023-05-24 18:37:45] Setting area A0=769.81037142648301597\n",
      "[2023-05-24 18:37:47] Done 1 out of 10 iterations (x 1000 MC sweeps).\n",
      "[2023-05-24 18:37:49] Done 2 out of 10 iterations (x 1000 MC sweeps).\n",
      "[2023-05-24 18:37:51] Done 3 out of 10 iterations (x 1000 MC sweeps).\n",
      "[2023-05-24 18:37:54] Done 4 out of 10 iterations (x 1000 MC sweeps).\n",
      "[2023-05-24 18:37:56] Done 5 out of 10 iterations (x 1000 MC sweeps).\n",
      "[2023-05-24 18:37:58] Done 6 out of 10 iterations (x 1000 MC sweeps).\n",
      "[2023-05-24 18:38:01] Done 7 out of 10 iterations (x 1000 MC sweeps).\n",
      "[2023-05-24 18:38:03] Done 8 out of 10 iterations (x 1000 MC sweeps).\n",
      "[2023-05-24 18:38:05] Done 9 out of 10 iterations (x 1000 MC sweeps).\n",
      "[2023-05-24 18:38:08] Done 10 out of 10 iterations (x 1000 MC sweeps).\n",
      "\n"
     ]
    }
   ],
   "source": [
    "with open(test_folder/\"test_results\"/\"reset_stdout.txt\",'w') as f: \n",
    "    f.write(ret.stdout.decode())\n",
    "print(ret.stdout.decode())"
   ]
  },
  {
   "cell_type": "markdown",
   "id": "329af7f6-84a2-4c28-8d08-74164f4ff7a3",
   "metadata": {},
   "source": [
    "## Checking start from vtu ##"
   ]
  },
  {
   "cell_type": "code",
   "execution_count": 19,
   "id": "4ac1febc-704d-4a0b-b941-8d8eab0e5f66",
   "metadata": {},
   "outputs": [],
   "source": [
    "test_folder.joinpath('.status').unlink() # remove status so it resets iterations"
   ]
  },
  {
   "cell_type": "code",
   "execution_count": 20,
   "id": "ce7f8453-feec-4016-b073-21fe3f818b88",
   "metadata": {},
   "outputs": [],
   "source": [
    "ret = subprocess.run([ts.path_to_trisurf/\"src/trisurf\",\n",
    "                      \"--restore-from-vtk\",'timestep_000000.vtu', *extra_args],\n",
    "                     cwd=test_folder, timeout=timeout, capture_output=True)"
   ]
  },
  {
   "cell_type": "code",
   "execution_count": 21,
   "id": "0d4ccc5a-f66d-4fc9-88b5-41c7f112dd3a",
   "metadata": {
    "scrolled": true,
    "tags": []
   },
   "outputs": [
    {
     "name": "stdout",
     "output_type": "stream",
     "text": [
      "[2023-05-24 18:44:43] TRISURF-NG v. a124e32, compiled on: May 24 2023 16:05:49.\n",
      "[2023-05-24 18:44:43] Programming done by: Samo Penic and Miha Fosnaric\n",
      "[2023-05-24 18:44:43] Released under terms of GPLv3\n",
      "[2023-05-24 18:44:43] Starting program...\n",
      "\n",
      "[2023-05-24 18:44:43] ************************************************\n",
      "[2023-05-24 18:44:43] **** Restoring vesicle from VTK points list ****\n",
      "[2023-05-24 18:44:43] ************************************************\n",
      "\n",
      "[2023-05-24 18:44:43] No .status file. The iteration count will start from 0\n",
      "[2023-05-24 18:44:43] using debug curvature model 15 (use new energy): set to 7 to use the old energy method\n",
      "[2023-05-24 18:44:43] simulation seed 1684943083\n",
      "[2023-05-24 18:44:43] Setting volume V0=1873.60715166322597725\n",
      "[2023-05-24 18:44:43] Setting area A0=760.56143968803814914\n",
      "[2023-05-24 18:44:46] Done 1 out of 10 iterations (x 1000 MC sweeps).\n",
      "[2023-05-24 18:44:48] Done 2 out of 10 iterations (x 1000 MC sweeps).\n",
      "[2023-05-24 18:44:50] Done 3 out of 10 iterations (x 1000 MC sweeps).\n",
      "[2023-05-24 18:44:52] Done 4 out of 10 iterations (x 1000 MC sweeps).\n",
      "[2023-05-24 18:44:55] Done 5 out of 10 iterations (x 1000 MC sweeps).\n",
      "[2023-05-24 18:44:57] Done 6 out of 10 iterations (x 1000 MC sweeps).\n",
      "[2023-05-24 18:44:59] Done 7 out of 10 iterations (x 1000 MC sweeps).\n",
      "[2023-05-24 18:45:02] Done 8 out of 10 iterations (x 1000 MC sweeps).\n",
      "[2023-05-24 18:45:05] Done 9 out of 10 iterations (x 1000 MC sweeps).\n",
      "[2023-05-24 18:45:07] Done 10 out of 10 iterations (x 1000 MC sweeps).\n",
      "\n"
     ]
    }
   ],
   "source": [
    "with open(test_folder/\"test_results\"/\"restore_stdout.txt\",'w') as f: \n",
    "    f.write(ret.stdout.decode())\n",
    "print(ret.stdout.decode())"
   ]
  },
  {
   "cell_type": "markdown",
   "id": "04ef0298-bbc4-4706-b875-b100868689a5",
   "metadata": {},
   "source": [
    "## More tests ##"
   ]
  },
  {
   "cell_type": "code",
   "execution_count": 13,
   "id": "f6997f0a-904f-4e8f-be84-9e0d1edfa315",
   "metadata": {},
   "outputs": [
    {
     "ename": "RuntimeError",
     "evalue": "up to here",
     "output_type": "error",
     "traceback": [
      "\u001b[0;31m---------------------------------------------------------------------------\u001b[0m",
      "\u001b[0;31mRuntimeError\u001b[0m                              Traceback (most recent call last)",
      "Cell \u001b[0;32mIn[13], line 1\u001b[0m\n\u001b[0;32m----> 1\u001b[0m \u001b[38;5;28;01mraise\u001b[39;00m \u001b[38;5;167;01mRuntimeError\u001b[39;00m(\u001b[38;5;124m'\u001b[39m\u001b[38;5;124mup to here\u001b[39m\u001b[38;5;124m'\u001b[39m)\n",
      "\u001b[0;31mRuntimeError\u001b[0m: up to here"
     ]
    }
   ],
   "source": [
    "raise RuntimeError('up to here')"
   ]
  },
  {
   "cell_type": "code",
   "execution_count": 85,
   "id": "a951071a-bb98-44c9-b621-4f1525788b87",
   "metadata": {},
   "outputs": [],
   "source": [
    "fileloc = (test_folder/\"timestep_000000.vtu\")"
   ]
  },
  {
   "cell_type": "code",
   "execution_count": 86,
   "id": "a25315f9-0a60-4446-a010-c5f3698c812d",
   "metadata": {},
   "outputs": [],
   "source": [
    "vesicle = ts.parseDump(fileloc)"
   ]
  },
  {
   "cell_type": "code",
   "execution_count": 87,
   "id": "1bc9f5f8-cbd6-444c-8b45-94cd7fe4ac92",
   "metadata": {},
   "outputs": [],
   "source": [
    "v = PyVtu(fileloc)\n",
    "v2 = PyVtu(fileloc)"
   ]
  },
  {
   "cell_type": "code",
   "execution_count": 88,
   "id": "b9349d0e-2757-4b4e-ac29-2b86785a0698",
   "metadata": {},
   "outputs": [],
   "source": [
    "def iter_xlist(vesiclePtr,xlist_name='vlist'):\n",
    "    lst = vesiclePtr.contents.__getattribute__(xlist_name)\n",
    "    if xlist_name=='clist':\n",
    "        n, lst = lst.contents.cellno, lst.contents.cell\n",
    "    else:\n",
    "        n, lst = lst.contents.n, lst.contents.__getattribute__(lst.contents._fields_[0][0])\n",
    "    for i in range(n):\n",
    "        yield lst[i].contents\n"
   ]
  },
  {
   "cell_type": "code",
   "execution_count": 102,
   "id": "38e0ac87-84c3-4f89-a4f3-12346bc7276b",
   "metadata": {},
   "outputs": [],
   "source": [
    "vtx0=vesicle.contents.vlist.contents.vtx[0].contents"
   ]
  },
  {
   "cell_type": "code",
   "execution_count": 111,
   "id": "53f95116-476f-47ea-be82-4bb01acc6ebe",
   "metadata": {},
   "outputs": [],
   "source": [
    "def fake_pyvtu(v,vesiclePtr):\n",
    "    v.pos[:] = [(x.x,x.y,x.z) for x in iter_xlist(vesicle)]\n",
    "    v.normal[:] = [(x.nx,x.ny,x.nz) for x in iter_xlist(vesicle)]\n",
    "    v.force[:] =[(x.f*x.fx,x.f*x.fy,x.f*x.fz) for x in iter_xlist(vesicle)]\n",
    "    v.director[:] = [(x.dx,x.dy,x.dz) for x in iter_xlist(vesicle)]\n",
    "    v.eig0[:] = [x.eig0[:] for x in iter_xlist(vesicle)]\n",
    "    v.eig1[:] = [x.eig1[:] for x in iter_xlist(vesicle)]\n",
    "    v.eig2[:] = [x.eig2[:] for x in iter_xlist(vesicle)]\n",
    "    v.e[:] = [x.energy for x in iter_xlist(vesicle)]\n",
    "    v.c0[:] = [x.c for x in iter_xlist(vesicle)]\n",
    "    v.w[:] = [x.w for x in iter_xlist(vesicle)]\n",
    "    v.f0[:] = [x.f for x in iter_xlist(vesicle)]\n",
    "    v.ad_w[:] = [x.ad_w for x in iter_xlist(vesicle)]\n",
    "    v.type[:] = [ts.byte_to_int(x.type) for x in iter_xlist(vesicle)]\n",
    "    v.eigenvalue_0[:] = [x.eig_v0 for x in iter_xlist(vesicle)]\n",
    "    v.eigenvalue_1[:] = [x.eig_v1 for x in iter_xlist(vesicle)]\n",
    "    v.eigenvalue_2[:] = [x.eig_v2 for x in iter_xlist(vesicle)]\n",
    "    v.k[:] = [x.xk for x in iter_xlist(vesicle)]\n",
    "    v.k2[:] = [x.xk2 for x in iter_xlist(vesicle)]\n",
    "    v.mean_curvature[:] = [x.mean_curvature for x in iter_xlist(vesicle)]\n",
    "    v.gaussian_curvature[:] = [x.gaussian_curvature for x in iter_xlist(vesicle)]\n",
    "    v.mean_curvature2[:] = [x.mean_curvature2 for x in iter_xlist(vesicle)]\n",
    "    v.gaussian_curvature2[:] = [x.gaussian_curvature2 for x in iter_xlist(vesicle)]\n",
    "    v._arrays['neigh_no'] = np.array([x.neigh_no for x in iter_xlist(vesicle)])\n",
    "    "
   ]
  },
  {
   "cell_type": "code",
   "execution_count": 113,
   "id": "20a10ccf-3af9-47ff-8dc5-7dc6d2c4b262",
   "metadata": {},
   "outputs": [],
   "source": [
    "fake_pyvtu(v2,vesicle)"
   ]
  },
  {
   "cell_type": "code",
   "execution_count": 116,
   "id": "0a0be5ab-cc48-4207-81cc-bc1d6681b378",
   "metadata": {},
   "outputs": [
    {
     "data": {
      "text/plain": [
       "array([[ 0.21752589,  0.21579287,  6.41768125],\n",
       "       [ 0.74362265,  1.89236547,  5.89730745],\n",
       "       [ 1.13641831,  0.7806501 ,  6.07100536],\n",
       "       ...,\n",
       "       [ 3.56339245,  1.46699506, -6.37772209],\n",
       "       [-0.53287086,  2.13181142, -6.77468786],\n",
       "       [ 0.07765391,  0.66106834, -7.08689121]])"
      ]
     },
     "execution_count": 116,
     "metadata": {},
     "output_type": "execute_result"
    }
   ],
   "source": [
    "v.pos"
   ]
  },
  {
   "cell_type": "code",
   "execution_count": 117,
   "id": "67e37439-20c9-4cb6-9638-ddf586f89abb",
   "metadata": {},
   "outputs": [
    {
     "data": {
      "text/plain": [
       "array([[ 0.21752589,  0.21579287,  6.41768125],\n",
       "       [ 0.74362265,  1.89236547,  5.89730745],\n",
       "       [ 1.13641831,  0.7806501 ,  6.07100536],\n",
       "       ...,\n",
       "       [ 3.56339245,  1.46699506, -6.37772209],\n",
       "       [-0.53287086,  2.13181142, -6.77468786],\n",
       "       [ 0.07765391,  0.66106834, -7.08689121]])"
      ]
     },
     "execution_count": 117,
     "metadata": {},
     "output_type": "execute_result"
    }
   ],
   "source": [
    "v2.pos"
   ]
  },
  {
   "cell_type": "code",
   "execution_count": 118,
   "id": "c63cfbf3-f023-498f-ba42-3cf6d6be8d37",
   "metadata": {},
   "outputs": [
    {
     "data": {
      "text/plain": [
       "[('pos', True),\n",
       " ('blist', True),\n",
       " ('tlist', True),\n",
       " ('indices', True),\n",
       " ('type', True),\n",
       " ('c0', True),\n",
       " ('w', True),\n",
       " ('f0', True),\n",
       " ('ad_w', True),\n",
       " ('d0', True),\n",
       " ('mean_curvature', True),\n",
       " ('gaussian_curvature', True),\n",
       " ('mean_curvature2', True),\n",
       " ('gaussian_curvature2', True),\n",
       " ('eigenvalue_0', True),\n",
       " ('eigenvalue_1', True),\n",
       " ('eigenvalue_2', True),\n",
       " ('k', True),\n",
       " ('k2', True),\n",
       " ('e', False),\n",
       " ('mean_energy', True),\n",
       " ('gaussian_energy', True),\n",
       " ('mean_energy2', True),\n",
       " ('gaussian_energy2', True),\n",
       " ('normal', True),\n",
       " ('normal_unused_debug', True),\n",
       " ('force', False),\n",
       " ('director', False),\n",
       " ('eig0', True),\n",
       " ('eig1', True),\n",
       " ('eig2', True),\n",
       " ('bonding_energy', True),\n",
       " ('face_normal', True)]"
      ]
     },
     "execution_count": 118,
     "metadata": {},
     "output_type": "execute_result"
    }
   ],
   "source": [
    "[(k,np.allclose(v._arrays[k],v2._arrays[k])) for k in v._arrays]"
   ]
  },
  {
   "cell_type": "code",
   "execution_count": 131,
   "id": "135363eb-05c3-44f9-8099-b108dee315d5",
   "metadata": {},
   "outputs": [],
   "source": [
    "strange_f=v.indices[~(np.isclose(v.force,v2.force).any(axis=1))]\n",
    "strange_d=v.indices[~(np.isclose(v.director,v2.director).any(axis=1))]"
   ]
  },
  {
   "cell_type": "code",
   "execution_count": 132,
   "id": "3bf84e23-148b-4946-ad22-14fde01db35f",
   "metadata": {},
   "outputs": [
    {
     "data": {
      "text/plain": [
       "array([0.99787833, 0.99982396, 0.99995001, 0.99979397, 0.99993833,\n",
       "       0.99999975, 0.99989288, 0.9999804 , 0.99990011, 0.9996873 ,\n",
       "       0.99964804, 0.99999988, 0.99976618, 0.99986417, 0.99985958,\n",
       "       0.99999549, 0.99982243, 0.99999984, 0.9995469 , 0.99999917,\n",
       "       0.99970687, 0.99995449, 0.99827257, 0.99956051, 0.99579193,\n",
       "       0.99995669, 0.99936812, 0.99911567, 0.99931747, 0.99999998,\n",
       "       0.99997637, 0.999928  , 0.9989933 , 0.99991203, 0.99801203,\n",
       "       0.9999424 , 0.9999885 , 0.99951571, 0.99919313, 0.99903415,\n",
       "       0.99980649, 0.99759985, 0.99999452, 0.99982352, 0.99889831])"
      ]
     },
     "execution_count": 132,
     "metadata": {},
     "output_type": "execute_result"
    }
   ],
   "source": [
    "(v2.force[strange_f]*v.force[strange_f]).sum(axis=1)"
   ]
  },
  {
   "cell_type": "code",
   "execution_count": 133,
   "id": "7dc152cb-41dd-4e27-af90-bd0658a3cff1",
   "metadata": {},
   "outputs": [
    {
     "data": {
      "text/plain": [
       "array([0.99999981, 1.        , 1.        , 0.99999999, 0.99999999,\n",
       "       0.99999999, 0.99999999, 1.        , 0.99999998, 0.99999993,\n",
       "       0.99999999, 1.        , 1.        , 0.99999999, 0.99999997,\n",
       "       0.99999999, 1.        , 0.99999999, 0.99999997, 0.99999996,\n",
       "       1.        , 1.        , 1.        , 0.99999992, 1.        ,\n",
       "       0.99999999, 0.99999994, 1.        , 1.        , 0.99999999,\n",
       "       1.        , 0.99999993, 0.99999994, 0.99999999, 0.99999999,\n",
       "       1.        , 0.99999999, 0.9999999 , 1.        , 0.99999997,\n",
       "       1.        , 0.99999993, 1.        , 1.        , 1.        ,\n",
       "       1.        , 0.99999975, 0.99999999, 0.99999999, 0.99999997,\n",
       "       1.        , 1.        , 0.99999999, 1.        , 1.        ,\n",
       "       0.99999999, 1.        , 1.        , 1.        , 1.        ,\n",
       "       0.99999999, 0.99999992, 1.        , 0.99999999, 1.        ,\n",
       "       0.99999998, 0.99999875, 1.        , 0.99999998, 1.        ,\n",
       "       0.99999999, 0.99999999, 0.99999998, 0.99999983, 0.99999999,\n",
       "       0.99999999, 0.99999995, 1.        , 0.99999999, 0.99999999,\n",
       "       0.99999999, 1.        , 0.99999998, 1.        , 1.        ,\n",
       "       0.99999999, 0.99999995, 1.        , 1.        , 1.        ,\n",
       "       0.99999999, 0.99999998, 1.        , 0.99999972, 0.99999999,\n",
       "       0.99999995, 1.        , 1.        , 0.99999999, 0.99999999,\n",
       "       1.        , 0.99999993, 0.99999992, 0.99999983, 1.        ,\n",
       "       0.99999999, 1.        , 1.        , 0.99999998, 0.99999999,\n",
       "       1.        , 0.99999991, 0.99999998, 0.99999999, 1.        ,\n",
       "       1.        , 1.        , 0.99999999, 1.        , 1.        ,\n",
       "       1.        , 1.        , 0.99999992, 0.99999995, 0.99999999,\n",
       "       0.99999998, 0.99999971, 1.        , 0.99999999, 1.        ,\n",
       "       0.99999996, 1.        , 0.99999983, 1.        , 0.99999993,\n",
       "       0.99999999, 0.99999999, 1.        , 1.        , 0.99999999,\n",
       "       1.        , 0.99999998, 0.99999997, 1.        , 0.99999981,\n",
       "       0.99999932, 0.99999998, 0.99999978, 0.99999986, 0.99999994,\n",
       "       0.99999835, 1.        , 1.        , 0.99999994, 0.99999992,\n",
       "       1.        , 0.99999999, 1.        , 0.9999999 , 1.        ,\n",
       "       0.99999998, 0.99999998, 0.99999998, 0.99999999, 1.        ,\n",
       "       0.99999982, 0.99999998, 0.9999999 , 0.99999999, 0.99999998,\n",
       "       1.        , 0.99999995, 0.99999999, 1.        , 0.99999998,\n",
       "       0.99999997, 1.        , 0.99999999, 0.99999998, 1.        ,\n",
       "       1.        , 0.99999999, 0.99999998, 0.99999996, 1.        ,\n",
       "       0.99999995, 0.99999999, 1.        , 1.        , 1.        ,\n",
       "       0.99999941, 1.        , 0.99999998, 0.99999975, 1.        ,\n",
       "       1.        , 0.99999998, 0.99999999, 0.99999998, 1.        ,\n",
       "       1.        , 0.99999882, 0.99999983, 1.        , 1.        ,\n",
       "       1.        , 1.        , 1.        , 0.99999999, 0.99999998,\n",
       "       1.        , 0.99999998, 1.        , 0.99999998, 0.9999996 ,\n",
       "       1.        , 0.99999965, 0.99999993, 1.        ])"
      ]
     },
     "execution_count": 133,
     "metadata": {},
     "output_type": "execute_result"
    }
   ],
   "source": [
    "(v2.director[strange_d]*v.director[strange_d]).sum(axis=1)"
   ]
  },
  {
   "cell_type": "code",
   "execution_count": 138,
   "id": "f7ad72c3-2890-48eb-8b8e-c8828479ca89",
   "metadata": {},
   "outputs": [
    {
     "data": {
      "text/plain": [
       "array([1., 1., 1., 1., 1., 1., 1., 1., 1., 1., 1., 1., 1., 1., 1., 1., 1.,\n",
       "       1., 1., 1., 1., 1., 1., 1., 1., 1., 1., 1., 1., 1., 1., 1., 1., 1.,\n",
       "       1., 1., 1., 1., 1., 1., 1., 1., 1., 1., 1., 1., 1., 1., 1., 1., 1.,\n",
       "       1., 1., 1., 1., 1., 1., 1., 1., 1., 1., 1., 1., 1., 1., 1., 1., 1.,\n",
       "       1., 1., 1., 1., 1., 1., 1., 1., 1., 1., 1., 1., 1., 1., 1., 1., 1.,\n",
       "       1., 1., 1., 1., 1., 1., 1., 1., 1., 1., 1., 1., 1., 1., 1., 1., 1.,\n",
       "       1., 1., 1., 1., 1., 1., 1., 1., 1., 1., 1., 1., 1., 1., 1., 1., 1.,\n",
       "       1., 1., 1., 1., 1., 1., 1., 1., 1., 1., 1., 1., 1., 1., 1., 1., 1.,\n",
       "       1., 1., 1., 1., 1., 1., 1., 1., 1., 1., 1., 1., 1., 1., 1., 1., 1.,\n",
       "       1., 1., 1., 1., 1., 1., 1., 1., 1., 1., 1., 1., 1., 1., 1., 1., 1.,\n",
       "       1., 1., 1., 1., 1., 1., 1., 1., 1., 1., 1., 1., 1., 1., 1., 1., 1.,\n",
       "       1., 1., 1., 1., 1., 1., 1., 1., 1., 1., 1., 1., 1., 1., 1., 1., 1.,\n",
       "       1., 1., 1., 1., 1., 1., 1., 1., 1., 1., 1., 1., 1., 1., 1., 1., 1.,\n",
       "       1., 1., 1., 1., 1., 1., 1., 1., 1., 1., 1., 1., 1., 1., 1., 1., 1.,\n",
       "       1., 1., 1., 1., 1., 1., 1., 1., 1., 1., 1., 1., 1., 1., 1., 1., 1.,\n",
       "       1., 1., 1., 1., 1., 1., 1., 1., 1., 1., 1., 1., 1., 1., 1., 1., 1.,\n",
       "       1., 1., 1., 1., 1., 1., 1., 1., 1., 1., 1., 1., 1., 1., 1., 1., 1.,\n",
       "       1., 1., 1., 1., 1., 1., 1., 1., 1., 1., 1., 1., 1., 1., 1., 1., 1.,\n",
       "       1., 1., 1., 1., 1., 1., 1., 1., 1., 1., 1., 1., 1., 1., 1., 1., 1.,\n",
       "       1., 1., 1., 1., 1., 1., 1., 1., 1., 1., 1., 1., 1., 1., 1., 1., 1.,\n",
       "       1., 1., 1., 1., 1., 1., 1., 1., 1., 1., 1., 1., 1., 1., 1., 1., 1.,\n",
       "       1., 1., 1., 1., 1., 1., 1., 1., 1., 1., 1., 1., 1., 1., 1., 1., 1.,\n",
       "       1., 1., 1., 1., 1., 1., 1., 1., 1., 1., 1., 1., 1., 1., 1., 1., 1.,\n",
       "       1., 1., 1., 1., 1., 1., 1., 1., 1., 1., 1., 1., 1., 1., 1., 1., 1.,\n",
       "       1., 1., 1., 1., 1., 1., 1., 1., 1., 1., 1., 1., 1., 1., 1., 1., 1.,\n",
       "       1., 1., 1., 1., 1., 1., 1., 1., 1., 1., 1., 1., 1., 1., 1., 1., 1.,\n",
       "       1., 1., 1., 1., 1., 1., 1., 1., 1., 1., 1., 1., 1., 1., 1., 1., 1.,\n",
       "       1., 1., 1., 1., 1., 1., 1., 1., 1., 1., 1., 1., 1., 1., 1., 1., 1.,\n",
       "       1., 1., 1., 1., 1., 1., 1., 1., 1., 1., 1., 1., 1., 1., 1., 1., 1.,\n",
       "       1., 1., 1., 1., 1., 1., 1., 1., 1.])"
      ]
     },
     "execution_count": 138,
     "metadata": {},
     "output_type": "execute_result"
    }
   ],
   "source": [
    "(v.normal*v2.normal)[:].sum(axis=1)"
   ]
  },
  {
   "cell_type": "code",
   "execution_count": 139,
   "id": "12af7cd3-bf87-4712-8cd6-69d884093e4d",
   "metadata": {},
   "outputs": [],
   "source": [
    "vtx = vesicle.contents.vlist.contents.vtx[0]"
   ]
  },
  {
   "cell_type": "code",
   "execution_count": 140,
   "id": "95ee21eb-42c1-4ec0-bac3-cc3b690f3b9d",
   "metadata": {},
   "outputs": [],
   "source": [
    "vtxc = vtx.contents"
   ]
  },
  {
   "cell_type": "code",
   "execution_count": 141,
   "id": "ff646bf0-d914-4b03-9e84-bf8049300c57",
   "metadata": {},
   "outputs": [],
   "source": [
    "vtxm, vtxp = [x.contents for x in vtxc.neigh[:2]]"
   ]
  },
  {
   "cell_type": "code",
   "execution_count": 142,
   "id": "813705be-48dd-4076-8d35-c33e6f526fb3",
   "metadata": {},
   "outputs": [
    {
     "data": {
      "text/plain": [
       "(5, 2)"
      ]
     },
     "execution_count": 142,
     "metadata": {},
     "output_type": "execute_result"
    }
   ],
   "source": [
    "vtxm.idx, vtxp.idx"
   ]
  },
  {
   "cell_type": "code",
   "execution_count": 143,
   "id": "2dd211fe-ce1d-4842-a518-4bc3be50fba1",
   "metadata": {},
   "outputs": [],
   "source": [
    "t = vtxc.tristar[0].contents"
   ]
  },
  {
   "cell_type": "code",
   "execution_count": 144,
   "id": "44e9d6d5-eb74-4192-910d-ffd3324f03fd",
   "metadata": {},
   "outputs": [
    {
     "data": {
      "text/plain": [
       "array([[ 0.21752589,  0.21579287,  6.41768125],\n",
       "       [-0.80000475, -0.41208571,  6.40364975],\n",
       "       [ 2.47828326,  0.37261328,  5.84472118]])"
      ]
     },
     "execution_count": 144,
     "metadata": {},
     "output_type": "execute_result"
    }
   ],
   "source": [
    "v2.pos[[0,4,8]]"
   ]
  },
  {
   "cell_type": "code",
   "execution_count": 145,
   "id": "fd319730-4c96-4272-a475-7f464da0057a",
   "metadata": {},
   "outputs": [],
   "source": [
    "lm = np.array([vtxm.x-vtxc.x,vtxm.y-vtxc.y,vtxm.z-vtxc.z])\n",
    "lp = np.array([vtxp.x-vtxc.x,vtxp.y-vtxc.y,vtxp.z-vtxc.z])"
   ]
  },
  {
   "cell_type": "code",
   "execution_count": 146,
   "id": "6a2c8f0f-0421-41ba-a813-362eace50cdd",
   "metadata": {},
   "outputs": [
    {
     "data": {
      "text/plain": [
       "(array([-0.71721103,  0.71304839, -0.22563655]),\n",
       " array([ 0.91889242,  0.56485723, -0.34667589]))"
      ]
     },
     "execution_count": 146,
     "metadata": {},
     "output_type": "execute_result"
    }
   ],
   "source": [
    "lm,lp"
   ]
  },
  {
   "cell_type": "code",
   "execution_count": 147,
   "id": "07b590c1-e8f0-4d60-927b-3a2c28bf200e",
   "metadata": {},
   "outputs": [
    {
     "data": {
      "text/plain": [
       "array([ 2.26075737,  0.15682041, -0.57296007])"
      ]
     },
     "execution_count": 147,
     "metadata": {},
     "output_type": "execute_result"
    }
   ],
   "source": [
    "v.pos[8]-v.pos[0]"
   ]
  },
  {
   "cell_type": "code",
   "execution_count": 148,
   "id": "a5ac4b12-6fc0-4e03-893f-5f6f30955dc5",
   "metadata": {},
   "outputs": [],
   "source": [
    "tnorm = [[x.xnorm,x.ynorm,x.znorm] for i in range(vtxc.tristar_no) if (x:=vtxc.tristar[i].contents)]"
   ]
  },
  {
   "cell_type": "code",
   "execution_count": 149,
   "id": "6f84940e-7b9f-404e-abf5-0c02a2f30e2a",
   "metadata": {},
   "outputs": [
    {
     "data": {
      "text/plain": [
       "array([-0.13701105, -0.05955435, -0.95267044])"
      ]
     },
     "execution_count": 149,
     "metadata": {},
     "output_type": "execute_result"
    }
   ],
   "source": [
    "np.array(tnorm).mean(axis=0)"
   ]
  },
  {
   "cell_type": "code",
   "execution_count": 150,
   "id": "a542d774-a8ba-47b4-ad59-d18c3562ee8d",
   "metadata": {},
   "outputs": [
    {
     "data": {
      "text/plain": [
       "(0.1309156823222204, 0.0965561404850986, 0.9866802905991024)"
      ]
     },
     "execution_count": 150,
     "metadata": {},
     "output_type": "execute_result"
    }
   ],
   "source": [
    "vtxc.nx,vtxc.ny,vtxc.nz"
   ]
  },
  {
   "cell_type": "code",
   "execution_count": 151,
   "id": "db0a1abe-0bc8-41e8-8fa4-463386d9dc1e",
   "metadata": {},
   "outputs": [],
   "source": [
    "N = np.array((t.xnorm,t.ynorm,t.znorm))"
   ]
  },
  {
   "cell_type": "code",
   "execution_count": 152,
   "id": "b5dcf401-0509-47b0-ab8f-55ca369219a4",
   "metadata": {},
   "outputs": [
    {
     "data": {
      "text/plain": [
       "1.160416320935553"
      ]
     },
     "execution_count": 152,
     "metadata": {},
     "output_type": "execute_result"
    }
   ],
   "source": [
    "np.cross(lm,lp)@N"
   ]
  },
  {
   "cell_type": "code",
   "execution_count": 153,
   "id": "87f5fceb-cae5-4c69-bd2b-234d7c9a3864",
   "metadata": {},
   "outputs": [],
   "source": [
    "vtx_f=vesicle.contents.vlist.contents.vtx[5].contents"
   ]
  },
  {
   "cell_type": "code",
   "execution_count": 154,
   "id": "43d91c93-4cc7-4472-8280-e15476da9c04",
   "metadata": {},
   "outputs": [
    {
     "data": {
      "text/plain": [
       "0.0"
      ]
     },
     "execution_count": 154,
     "metadata": {},
     "output_type": "execute_result"
    }
   ],
   "source": [
    "vtx_f.w"
   ]
  },
  {
   "cell_type": "code",
   "execution_count": 155,
   "id": "182285d6-2d5b-42c9-b19b-89f064a00d5c",
   "metadata": {},
   "outputs": [],
   "source": [
    "vertices = vesicle.contents.vlist.contents.vtx"
   ]
  },
  {
   "cell_type": "code",
   "execution_count": 156,
   "id": "86d032d7-2e26-4768-9ac9-fcfd489cf9c8",
   "metadata": {},
   "outputs": [],
   "source": [
    "vertices = [vesicle.contents.vlist.contents.vtx[i].contents \n",
    "            for i in range(vesicle.contents.vlist.contents.n)]"
   ]
  },
  {
   "cell_type": "code",
   "execution_count": 157,
   "id": "177d1976-b1f1-4c4a-9c13-c60028556446",
   "metadata": {},
   "outputs": [
    {
     "data": {
      "text/plain": [
       "array([[ 0.13091568,  0.09655614,  0.98668029],\n",
       "       [ 0.04995019,  0.07358923,  0.99603695],\n",
       "       [ 0.14846778,  0.08578043,  0.98518985],\n",
       "       ...,\n",
       "       [ 0.47328716,  0.14934419, -0.86815642],\n",
       "       [-0.20588545,  0.25078991, -0.94589408],\n",
       "       [-0.0139906 ,  0.09004964, -0.99583901]])"
      ]
     },
     "execution_count": 157,
     "metadata": {},
     "output_type": "execute_result"
    }
   ],
   "source": [
    "v.normal"
   ]
  },
  {
   "cell_type": "code",
   "execution_count": 158,
   "id": "c034187d-5735-4876-a4f9-4ff6af1b2feb",
   "metadata": {},
   "outputs": [],
   "source": [
    "normals = np.array([[vtx.nx,vtx.ny,vtx.nz] for vtx in vertices])"
   ]
  },
  {
   "cell_type": "code",
   "execution_count": 159,
   "id": "25a04b17-4b52-430b-94cc-79e834c6c92f",
   "metadata": {},
   "outputs": [],
   "source": [
    "areas = np.array([ts.area_vtx(ts.pointer(vtx)) for vtx in vertices])"
   ]
  },
  {
   "cell_type": "code",
   "execution_count": 160,
   "id": "2eb996ab-1889-4f75-89b1-3cca93609c4a",
   "metadata": {},
   "outputs": [],
   "source": [
    "areas"
   ]
  },
  {
   "cell_type": "code",
   "execution_count": 161,
   "id": "c531e465-af33-4595-b018-c72f3be5b511",
   "metadata": {},
   "outputs": [
    {
     "data": {
      "text/plain": [
       "True"
      ]
     },
     "execution_count": 161,
     "metadata": {},
     "output_type": "execute_result"
    }
   ],
   "source": [
    "ts.laplace_beltrami_curvature_energy(vesicle,ts.pointer(vertices[2]))"
   ]
  }
 ],
 "metadata": {
  "kernelspec": {
   "display_name": "Python 3 (ipykernel)",
   "language": "python",
   "name": "python3"
  },
  "language_info": {
   "codemirror_mode": {
    "name": "ipython",
    "version": 3
   },
   "file_extension": ".py",
   "mimetype": "text/x-python",
   "name": "python",
   "nbconvert_exporter": "python",
   "pygments_lexer": "ipython3",
   "version": "3.10.8"
  }
 },
 "nbformat": 4,
 "nbformat_minor": 5
}
