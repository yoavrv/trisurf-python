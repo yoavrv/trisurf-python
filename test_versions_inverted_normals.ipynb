{
 "cells": [
  {
   "cell_type": "code",
   "execution_count": 5,
   "id": "6fb1eb73-42e0-4e25-a768-78f38195ced1",
   "metadata": {},
   "outputs": [],
   "source": [
    "import numpy as np\n",
    "from pathlib import Path\n",
    "\n",
    "\n",
    "from vtu import PyVtu\n",
    "from ts_auto_wrapper import TSWrapper\n",
    "ts=TSWrapper()"
   ]
  },
  {
   "cell_type": "code",
   "execution_count": 7,
   "id": "a951071a-bb98-44c9-b621-4f1525788b87",
   "metadata": {},
   "outputs": [],
   "source": [
    "fileloc = (Path(\"/opt/workspace/msc_project/simulations\")\n",
    "           /Path(\"QA_tests/cluster_version/rework/adhesion_migration\")\n",
    "           /Path(\"timestep_000003.vtu\"))"
   ]
  },
  {
   "cell_type": "code",
   "execution_count": 89,
   "id": "1bc9f5f8-cbd6-444c-8b45-94cd7fe4ac92",
   "metadata": {},
   "outputs": [],
   "source": [
    "v = PyVtu(fileloc)\n",
    "v_fake = PyVtu(fileloc)"
   ]
  },
  {
   "cell_type": "code",
   "execution_count": 41,
   "id": "5451e069-0bdd-4cf1-a6d8-7a36eeb956c3",
   "metadata": {},
   "outputs": [
    {
     "data": {
      "text/plain": [
       "dict_keys(['pos', 'blist', 'tlist', 'indices', 'type', 'c0', 'w', 'f0', 'ad_w', 'd0', 'mean_curvature', 'gaussian_curvature', 'mean_curvature2', 'gaussian_curvature2', 'eigenvalue_0', 'eigenvalue_1', 'eigenvalue_2', 'k', 'k2', 'e', 'mean_energy', 'gaussian_energy', 'mean_energy2', 'gaussian_energy2', 'normal', 'normal_unused_debug', 'force', 'director', 'eig0', 'eig1', 'eig2', 'bonding_energy', 'face_normal'])"
      ]
     },
     "execution_count": 41,
     "metadata": {},
     "output_type": "execute_result"
    }
   ],
   "source": [
    "v_fake._arrays.keys()"
   ]
  },
  {
   "cell_type": "code",
   "execution_count": 90,
   "id": "b9349d0e-2757-4b4e-ac29-2b86785a0698",
   "metadata": {},
   "outputs": [],
   "source": [
    "def iter_xlist(vesiclePtr,xlist_name='vlist'):\n",
    "    lst = vesiclePtr.contents.__getattribute__(xlist_name)\n",
    "    if xlist_name=='clist':\n",
    "        n = lst.contents.cellno\n",
    "        lst = lst.contents.cell\n",
    "    else:\n",
    "        n = lst.contents.n\n",
    "        lst = lst.contents.__getattribute__(lst.contents._fields_[0][0])\n",
    "    for i in range(n):\n",
    "        yield lst[i].contents\n"
   ]
  },
  {
   "cell_type": "code",
   "execution_count": null,
   "id": "53f95116-476f-47ea-be82-4bb01acc6ebe",
   "metadata": {},
   "outputs": [],
   "source": [
    "def fake_pyvtu(v,vesiclePtr):\n",
    "    "
   ]
  },
  {
   "cell_type": "code",
   "execution_count": 98,
   "id": "20a10ccf-3af9-47ff-8dc5-7dc6d2c4b262",
   "metadata": {},
   "outputs": [],
   "source": [
    "v_fake.normal[:] = [(x.nx,x.ny,x.nz) for x in iter_xlist(vesicle)]\n",
    "v_fake.force[:] =[(x.fx,x.fy,x.fz) for x in iter_xlist(vesicle)]\n",
    "v_fake.director[:] = [(x.dx,x.dy,x.dz) for x in iter_xlist(vesicle)]\n",
    "v_fake.e[:] = [x.energy for x in iter_xlist(vesicle)]\n",
    "v_fake.c0[:] = [x.c for x in iter_xlist(vesicle)]\n",
    "v_fake.w[:] = [x.w for x in iter_xlist(vesicle)]\n",
    "v_fake.type[:] = [ts.byte_to_int(x.type) for x in iter_xlist(vesicle)]"
   ]
  },
  {
   "cell_type": "code",
   "execution_count": 109,
   "id": "12af7cd3-bf87-4712-8cd6-69d884093e4d",
   "metadata": {},
   "outputs": [
    {
     "data": {
      "text/plain": [
       "<ts_auto_wrapper.ts_vertex at 0x7fc00f214fc0>"
      ]
     },
     "execution_count": 109,
     "metadata": {},
     "output_type": "execute_result"
    }
   ],
   "source": [
    "vertices[0]"
   ]
  },
  {
   "cell_type": "code",
   "execution_count": 80,
   "id": "8e4347eb-9fab-4c8e-8711-17ceaa0e2488",
   "metadata": {},
   "outputs": [
    {
     "data": {
      "text/plain": [
       "array([[ 0.10706009, -0.0042103 ,  0.99424364],\n",
       "       [ 0.08054385,  0.10615004,  0.99108267],\n",
       "       [ 0.02066504, -0.04793849,  0.9986365 ],\n",
       "       ...,\n",
       "       [ 0.05815009, -0.07163907, -0.99573411],\n",
       "       [-0.05567856, -0.11986314, -0.99122789],\n",
       "       [ 0.03242766, -0.08261427, -0.99605388]])"
      ]
     },
     "execution_count": 80,
     "metadata": {},
     "output_type": "execute_result"
    }
   ],
   "source": [
    "normals"
   ]
  },
  {
   "cell_type": "code",
   "execution_count": 9,
   "id": "a25315f9-0a60-4446-a010-c5f3698c812d",
   "metadata": {},
   "outputs": [],
   "source": [
    "vesicle = ts.parseDump(fileloc)"
   ]
  },
  {
   "cell_type": "code",
   "execution_count": 10,
   "id": "182285d6-2d5b-42c9-b19b-89f064a00d5c",
   "metadata": {},
   "outputs": [],
   "source": [
    "vertices = vesicle.contents.vlist.contents.vtx"
   ]
  },
  {
   "cell_type": "code",
   "execution_count": 19,
   "id": "86d032d7-2e26-4768-9ac9-fcfd489cf9c8",
   "metadata": {},
   "outputs": [],
   "source": [
    "vertices = [vesicle.contents.vlist.contents.vtx[i].contents \n",
    "            for i in range(vesicle.contents.vlist.contents.n)]"
   ]
  },
  {
   "cell_type": "code",
   "execution_count": 12,
   "id": "177d1976-b1f1-4c4a-9c13-c60028556446",
   "metadata": {},
   "outputs": [
    {
     "data": {
      "text/plain": [
       "array([[ 0.10706009, -0.0042103 ,  0.99424364],\n",
       "       [ 0.08054385,  0.10615004,  0.99108267],\n",
       "       [ 0.02214419, -0.04424579,  0.99877522],\n",
       "       ...,\n",
       "       [ 0.05815009, -0.07163907, -0.99573411],\n",
       "       [-0.05567856, -0.11986314, -0.99122789],\n",
       "       [ 0.03242766, -0.08261427, -0.99605388]])"
      ]
     },
     "execution_count": 12,
     "metadata": {},
     "output_type": "execute_result"
    }
   ],
   "source": [
    "v.normal"
   ]
  },
  {
   "cell_type": "code",
   "execution_count": 21,
   "id": "c034187d-5735-4876-a4f9-4ff6af1b2feb",
   "metadata": {},
   "outputs": [],
   "source": [
    "normals = np.array([[vtx.nx,vtx.ny,vtx.nz] for vtx in vertices])"
   ]
  },
  {
   "cell_type": "code",
   "execution_count": 30,
   "id": "25a04b17-4b52-430b-94cc-79e834c6c92f",
   "metadata": {},
   "outputs": [],
   "source": [
    "areas = [ts.area_vtx(ts.pointer(vtx)) for vtx in vertices]"
   ]
  },
  {
   "cell_type": "code",
   "execution_count": 33,
   "id": "2eb996ab-1889-4f75-89b1-3cca93609c4a",
   "metadata": {},
   "outputs": [],
   "source": [
    "areas=np.array(areas)"
   ]
  },
  {
   "cell_type": "code",
   "execution_count": 34,
   "id": "c531e465-af33-4595-b018-c72f3be5b511",
   "metadata": {},
   "outputs": [
    {
     "data": {
      "text/plain": [
       "True"
      ]
     },
     "execution_count": 34,
     "metadata": {},
     "output_type": "execute_result"
    }
   ],
   "source": [
    "ts.laplace_beltrami_curvature_energy(vesicle,ts.pointer(vertices[2]))"
   ]
  },
  {
   "cell_type": "code",
   "execution_count": 38,
   "id": "da9ba55f-7658-4351-a9ea-3d0a6a734892",
   "metadata": {},
   "outputs": [
    {
     "data": {
      "text/plain": [
       "[('x', ctypes.c_double),\n",
       " ('y', ctypes.c_double),\n",
       " ('z', ctypes.c_double),\n",
       " ('mean_curvature', ctypes.c_double),\n",
       " ('gaussian_curvature', ctypes.c_double),\n",
       " ('mean_energy', ctypes.c_double),\n",
       " ('gaussian_energy', ctypes.c_double),\n",
       " ('energy', ctypes.c_double),\n",
       " ('xk', ctypes.c_double),\n",
       " ('xk2', ctypes.c_double),\n",
       " ('w', ctypes.c_double),\n",
       " ('c', ctypes.c_double),\n",
       " ('nx', ctypes.c_double),\n",
       " ('ny', ctypes.c_double),\n",
       " ('nz', ctypes.c_double),\n",
       " ('nx2', ctypes.c_double),\n",
       " ('ny2', ctypes.c_double),\n",
       " ('nz2', ctypes.c_double),\n",
       " ('f', ctypes.c_double),\n",
       " ('fx', ctypes.c_double),\n",
       " ('fy', ctypes.c_double),\n",
       " ('fz', ctypes.c_double),\n",
       " ('ad_w', ctypes.c_double),\n",
       " ('d', ctypes.c_double),\n",
       " ('dx', ctypes.c_double),\n",
       " ('dy', ctypes.c_double),\n",
       " ('dz', ctypes.c_double),\n",
       " ('eig0', ts_auto_wrapper.c_double_Array_3),\n",
       " ('eig1', ts_auto_wrapper.c_double_Array_3),\n",
       " ('eig2', ts_auto_wrapper.c_double_Array_3),\n",
       " ('eig_v0', ctypes.c_double),\n",
       " ('eig_v1', ctypes.c_double),\n",
       " ('eig_v2', ctypes.c_double),\n",
       " ('mean_curvature2', ctypes.c_double),\n",
       " ('gaussian_curvature2', ctypes.c_double),\n",
       " ('mean_energy2', ctypes.c_double),\n",
       " ('gaussian_energy2', ctypes.c_double),\n",
       " ('neigh', ts_auto_wrapper.LP_LP_ts_vertex),\n",
       " ('tristar', ts_auto_wrapper.LP_LP_ts_triangle),\n",
       " ('bond', ts_auto_wrapper.LP_LP_ts_bond),\n",
       " ('cell', ts_auto_wrapper.LP_ts_cell),\n",
       " ('grafted_poly', ts_auto_wrapper.LP_ts_poly),\n",
       " ('cluster', ts_auto_wrapper.LP_ts_cluster),\n",
       " ('idx', ctypes.c_int),\n",
       " ('id', ctypes.c_int),\n",
       " ('neigh_no', ctypes.c_byte),\n",
       " ('tristar_no', ctypes.c_byte),\n",
       " ('bond_no', ctypes.c_byte),\n",
       " ('type', ctypes.c_char)]"
      ]
     },
     "execution_count": 38,
     "metadata": {},
     "output_type": "execute_result"
    }
   ],
   "source": [
    "vertices[2]._fields_"
   ]
  },
  {
   "cell_type": "code",
   "execution_count": null,
   "id": "df5c323d-c1b2-4af4-8523-65280fc19a50",
   "metadata": {},
   "outputs": [],
   "source": []
  }
 ],
 "metadata": {
  "kernelspec": {
   "display_name": "Python 3 (ipykernel)",
   "language": "python",
   "name": "python3"
  },
  "language_info": {
   "codemirror_mode": {
    "name": "ipython",
    "version": 3
   },
   "file_extension": ".py",
   "mimetype": "text/x-python",
   "name": "python",
   "nbconvert_exporter": "python",
   "pygments_lexer": "ipython3",
   "version": "3.10.8"
  }
 },
 "nbformat": 4,
 "nbformat_minor": 5
}
